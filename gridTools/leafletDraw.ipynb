{
 "cells": [
  {
   "cell_type": "code",
   "execution_count": null,
   "id": "featured-nitrogen",
   "metadata": {},
   "outputs": [],
   "source": [
    "from ipyleaflet import Map, GeoJSON, projections, basemaps\n",
    "from ipyleaflet import Rectangle\n",
    "import json\n",
    "import os\n",
    "import requests"
   ]
  },
  {
   "cell_type": "code",
   "execution_count": null,
   "id": "iraqi-merit",
   "metadata": {},
   "outputs": [],
   "source": [
    "m = Map(center=(90, 0),\n",
    "        zoom=1,\n",
    "        max_zoom=5,\n",
    "        min_zoom=1, \n",
    "        basemap=basemaps.NASAGIBS.BlueMarble3413,\n",
    "       crs=projections.EPSG3413)"
   ]
  },
  {
   "cell_type": "code",
   "execution_count": null,
   "id": "exact-paradise",
   "metadata": {},
   "outputs": [],
   "source": [
    "m"
   ]
  },
  {
   "cell_type": "code",
   "execution_count": null,
   "id": "exclusive-source",
   "metadata": {},
   "outputs": [],
   "source": [
    "rectangle = Rectangle(bounds=((80,40),(85,50)))"
   ]
  },
  {
   "cell_type": "code",
   "execution_count": null,
   "id": "varied-original",
   "metadata": {},
   "outputs": [],
   "source": [
    "m.add_layer(rectangle)"
   ]
  },
  {
   "cell_type": "code",
   "execution_count": null,
   "id": "numeric-gibraltar",
   "metadata": {},
   "outputs": [],
   "source": []
  }
 ],
 "metadata": {
  "kernelspec": {
   "display_name": "Python 3",
   "language": "python",
   "name": "python3"
  },
  "language_info": {
   "codemirror_mode": {
    "name": "ipython",
    "version": 3
   },
   "file_extension": ".py",
   "mimetype": "text/x-python",
   "name": "python",
   "nbconvert_exporter": "python",
   "pygments_lexer": "ipython3",
   "version": "3.7.10"
  }
 },
 "nbformat": 4,
 "nbformat_minor": 5
}
