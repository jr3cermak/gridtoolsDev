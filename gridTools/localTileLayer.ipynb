{
 "cells": [
  {
   "cell_type": "code",
   "execution_count": 8,
   "id": "distant-classics",
   "metadata": {},
   "outputs": [
    {
     "data": {
      "application/vnd.jupyter.widget-view+json": {
       "model_id": "611ad18b6292487aa3afe3b68484449c",
       "version_major": 2,
       "version_minor": 0
      },
      "text/plain": [
       "Map(center=[80.8, 146.4], controls=(ZoomControl(options=['position', 'zoom_in_text', 'zoom_in_title', 'zoom_ou…"
      ]
     },
     "metadata": {},
     "output_type": "display_data"
    }
   ],
   "source": [
    "from ipyleaflet import Map, LocalTileLayer, basemaps\n",
    "from ipyleaflet import projections\n",
    "\n",
    "# Download Earth Explorer Base Map tiles\n",
    "# It looks like these tiles are being reprojected?\n",
    "\n",
    "# Within the notebook folder\n",
    "# ln -s /opt/tiles tiles\n",
    "\n",
    "fixed_north = {\n",
    "    'name': 'EPSG:3413',\n",
    "    'custom': True, \n",
    "    'proj4def': '+proj=stere +lat_0=90 +lat_ts=70 +lon_0=-45 +k=1 +x_0=0 +y_0=0 +datum=WGS84 +units=m +no_defs',\n",
    "    'origin': [-4194304, 4194304],\n",
    "    'bounds': [\n",
    "        [-4194304, -4194304],\n",
    "        [4194304, 4194304]   \n",
    "    ],\n",
    "    'resolutions': [\n",
    "        16384.0,\n",
    "        8192.0,\n",
    "        4096.0,\n",
    "        2048.0,\n",
    "        1024.0,\n",
    "        512.0,\n",
    "        256.0\n",
    "    ]\n",
    "}\n",
    "\n",
    "# Map defaults to EPSG:3857\n",
    "#m = Map(center=(52.204793, 360.121558), zoom=3)\n",
    "#m = Map(center=(47.0, -135.0), zoom=3, crs=projections.EPSG4326)\n",
    "#m = Map(basemap=basemaps.NASAGIBS.BlueMarble3413,center=(80.8, 146.4), zoom=1, crs=projections.EPSG3413, max_zoom=4, min_zoom=1)\n",
    "m = Map(basemap=basemaps.NASAGIBS.BlueMarble3413,center=(80.8, 146.4), zoom=1, crs=fixed_north, max_zoom=4, min_zoom=1)\n",
    "#m.add_layer(LocalTileLayer(path='tiles/blueMarble/{z}/{x}/{-y}.png'))\n",
    "\n",
    "m"
   ]
  },
  {
   "cell_type": "code",
   "execution_count": 2,
   "id": "cardiovascular-dairy",
   "metadata": {},
   "outputs": [],
   "source": [
    "m.zoom=1"
   ]
  },
  {
   "cell_type": "code",
   "execution_count": 3,
   "id": "partial-israeli",
   "metadata": {},
   "outputs": [
    {
     "name": "stdout",
     "output_type": "stream",
     "text": [
      "Map(center=[80.8, 146.4], controls=(ZoomControl(options=['position', 'zoom_in_text', 'zoom_in_title', 'zoom_out_text', 'zoom_out_title']), AttributionControl(options=['position', 'prefix'], position='bottomright')), crs={'name': 'EPSG:3413', 'custom': True, 'proj4def': '+proj=stere +lat_0=90 +lat_ts=70 +lon_0=-45 +k=1 +x_0=0 +y_0=0 +datum=WGS84 +units=m +no_defs', 'origin': [-4194304, 4194304], 'bounds': [[-4194304, -4194304], [4194304, 4194304]], 'resolutions': [16384.0, 8192.0, 4096.0, 2048.0, 1024.0, 512.0, 256.0]}, default_style=MapStyle(), dragging_style=MapStyle(cursor='move'), layers=(TileLayer(attribution='\\nImagery provided by services from the Global Imagery Browse Services (GIBS), operated by the NASA/GSFC/Earth Science Data and Information System (<a href=\"https://earthdata.nasa.gov\">ESDIS</a>) with funding provided by NASA/HQ.\\n', base=True, max_zoom=5, min_zoom=1, name='NASAGIBS.BlueMarble3413', options=['attribution', 'detect_retina', 'max_native_zoom', 'max_zoom', 'min_native_zoom', 'min_zoom', 'no_wrap', 'tile_size', 'tms'], url='https://gibs.earthdata.nasa.gov/wmts/epsg3413/best/BlueMarble_NextGeneration/default/EPSG3413_500m/{z}/{y}/{x}.jpeg'),), max_zoom=4.0, options=['bounce_at_zoom_limits', 'box_zoom', 'center', 'close_popup_on_click', 'double_click_zoom', 'dragging', 'fullscreen', 'inertia', 'inertia_deceleration', 'inertia_max_speed', 'interpolation', 'keyboard', 'keyboard_pan_offset', 'keyboard_zoom_offset', 'max_zoom', 'min_zoom', 'scroll_wheel_zoom', 'tap', 'tap_tolerance', 'touch_zoom', 'world_copy_jump', 'zoom', 'zoom_animation_threshold', 'zoom_delta', 'zoom_snap', 'zoom_start'], style=MapStyle(), zoom=1.0)\n"
     ]
    }
   ],
   "source": [
    "print(m)"
   ]
  },
  {
   "cell_type": "code",
   "execution_count": 4,
   "id": "trained-wellington",
   "metadata": {},
   "outputs": [
    {
     "data": {
      "application/vnd.jupyter.widget-view+json": {
       "model_id": "31f0dba015e544d89e75a433fd214624",
       "version_major": 2,
       "version_minor": 0
      },
      "text/plain": [
       "Map(center=[52.204793, 360.121558], controls=(ZoomControl(options=['position', 'zoom_in_text', 'zoom_in_title'…"
      ]
     },
     "metadata": {},
     "output_type": "display_data"
    }
   ],
   "source": [
    "# Map defaults to EPSG:3857\n",
    "n = Map(center=(52.204793, 360.121558), zoom=3)\n",
    "#n = Map(center=(47.0, -135.0), zoom=3, crs=projections.EPSG4326)\n",
    "#n.add_layer(LocalTileLayer(path='tiles/blueMarble/{z}/{x}/{-y}.png'))\n",
    "n"
   ]
  },
  {
   "cell_type": "code",
   "execution_count": 5,
   "id": "administrative-blackjack",
   "metadata": {},
   "outputs": [
    {
     "name": "stdout",
     "output_type": "stream",
     "text": [
      "{'ModisTerraTrueColorCR': {'url': 'https://gibs.earthdata.nasa.gov/wmts/epsg3857/best/MODIS_Terra_CorrectedReflectance_TrueColor/default/%s/GoogleMapsCompatible_Level9/{z}/{y}/{x}.jpg', 'max_zoom': 9, 'attribution': '\\nImagery provided by services from the Global Imagery Browse Services (GIBS), operated by the NASA/GSFC/Earth Science Data and Information System (<a href=\"https://earthdata.nasa.gov\">ESDIS</a>) with funding provided by NASA/HQ.\\n', 'name': 'NASAGIBS.ModisTerraTrueColorCR'}, 'ModisTerraBands367CR': {'url': 'https://gibs.earthdata.nasa.gov/wmts/epsg3857/best/MODIS_Terra_CorrectedReflectance_Bands367/default/%s/GoogleMapsCompatible_Level9/{z}/{y}/{x}.jpg', 'max_zoom': 9, 'attribution': '\\nImagery provided by services from the Global Imagery Browse Services (GIBS), operated by the NASA/GSFC/Earth Science Data and Information System (<a href=\"https://earthdata.nasa.gov\">ESDIS</a>) with funding provided by NASA/HQ.\\n', 'name': 'NASAGIBS.ModisTerraBands367CR'}, 'ModisTerraBands721CR': {'url': 'https://gibs.earthdata.nasa.gov/wmts/epsg3857/best/MODIS_Terra_CorrectedReflectance_Bands721/default/%s/GoogleMapsCompatible_Level9/{z}/{y}/{x}.jpg', 'max_zoom': 9, 'attribution': '\\nImagery provided by services from the Global Imagery Browse Services (GIBS), operated by the NASA/GSFC/Earth Science Data and Information System (<a href=\"https://earthdata.nasa.gov\">ESDIS</a>) with funding provided by NASA/HQ.\\n', 'name': 'NASAGIBS.ModisTerraBands721CR'}, 'ModisAquaTrueColorCR': {'url': 'https://gibs.earthdata.nasa.gov/wmts/epsg3857/best/MODIS_Aqua_CorrectedReflectance_TrueColor/default/%s/GoogleMapsCompatible_Level9/{z}/{y}/{x}.jpg', 'max_zoom': 9, 'attribution': '\\nImagery provided by services from the Global Imagery Browse Services (GIBS), operated by the NASA/GSFC/Earth Science Data and Information System (<a href=\"https://earthdata.nasa.gov\">ESDIS</a>) with funding provided by NASA/HQ.\\n', 'name': 'NASAGIBS.ModisAquaTrueColorCR'}, 'ModisAquaBands721CR': {'url': 'https://gibs.earthdata.nasa.gov/wmts/epsg3857/best/MODIS_Aqua_CorrectedReflectance_Bands721/default/%s/GoogleMapsCompatible_Level9/{z}/{y}/{x}.jpg', 'max_zoom': 9, 'attribution': '\\nImagery provided by services from the Global Imagery Browse Services (GIBS), operated by the NASA/GSFC/Earth Science Data and Information System (<a href=\"https://earthdata.nasa.gov\">ESDIS</a>) with funding provided by NASA/HQ.\\n', 'name': 'NASAGIBS.ModisAquaBands721CR'}, 'ViirsTrueColorCR': {'url': 'https://gibs.earthdata.nasa.gov/wmts/epsg3857/best/VIIRS_SNPP_CorrectedReflectance_TrueColor/default/%s/GoogleMapsCompatible_Level9/{z}/{y}/{x}.jpg', 'max_zoom': 9, 'attribution': '\\nImagery provided by services from the Global Imagery Browse Services (GIBS), operated by the NASA/GSFC/Earth Science Data and Information System (<a href=\"https://earthdata.nasa.gov\">ESDIS</a>) with funding provided by NASA/HQ.\\n', 'name': 'NASAGIBS.ViirsTrueColorCR'}, 'ViirsEarthAtNight2012': {'url': 'http://gibs.earthdata.nasa.gov/wmts/epsg3857/best/VIIRS_Black_Marble/default/2012-01-01/GoogleMapsCompatible_Level8/{z}/{y}/{x}.png', 'max_zoom': 8, 'attribution': '\\nImagery provided by services from the Global Imagery Browse Services (GIBS), operated by the NASA/GSFC/Earth Science Data and Information System (<a href=\"https://earthdata.nasa.gov\">ESDIS</a>) with funding provided by NASA/HQ.\\n', 'name': 'NASAGIBS.ViirsEarthAtNight2012'}, 'BlueMarble3413': {'url': 'https://gibs.earthdata.nasa.gov/wmts/epsg3413/best/BlueMarble_NextGeneration/default/EPSG3413_500m/{z}/{y}/{x}.jpeg', 'max_zoom': 5, 'attribution': '\\nImagery provided by services from the Global Imagery Browse Services (GIBS), operated by the NASA/GSFC/Earth Science Data and Information System (<a href=\"https://earthdata.nasa.gov\">ESDIS</a>) with funding provided by NASA/HQ.\\n', 'name': 'NASAGIBS.BlueMarble3413'}, 'BlueMarble3031': {'url': 'https://gibs.earthdata.nasa.gov/wmts/epsg3031/best/BlueMarble_NextGeneration/default/EPSG3031_500m/{z}/{y}/{x}.jpeg', 'max_zoom': 5, 'attribution': '\\nImagery provided by services from the Global Imagery Browse Services (GIBS), operated by the NASA/GSFC/Earth Science Data and Information System (<a href=\"https://earthdata.nasa.gov\">ESDIS</a>) with funding provided by NASA/HQ.\\n', 'name': 'NASAGIBS.BlueMarble3031'}, 'BlueMarble': {'url': 'https://gibs.earthdata.nasa.gov/wmts/epsg3857/best/BlueMarble_NextGeneration/default/EPSG3857_500m/{z}/{y}/{x}.jpeg', 'max_zoom': 8, 'attribution': '\\nImagery provided by services from the Global Imagery Browse Services (GIBS), operated by the NASA/GSFC/Earth Science Data and Information System (<a href=\"https://earthdata.nasa.gov\">ESDIS</a>) with funding provided by NASA/HQ.\\n', 'name': 'NASAGIBS.BlueMarble'}}\n"
     ]
    }
   ],
   "source": [
    "print(basemaps.NASAGIBS)"
   ]
  },
  {
   "cell_type": "code",
   "execution_count": 6,
   "id": "meaning-aspect",
   "metadata": {},
   "outputs": [
    {
     "name": "stdout",
     "output_type": "stream",
     "text": [
      "{'EPSG3857': {'name': 'EPSG3857', 'custom': False}, 'Earth': {'name': 'Earth', 'custom': False}, 'EPSG3395': {'name': 'EPSG3395', 'custom': False}, 'EPSG4326': {'name': 'EPSG4326', 'custom': False}, 'Base': {'name': 'Base', 'custom': False}, 'Simple': {'name': 'Simple', 'custom': False}, 'EPSG3413': {'name': 'EPSG3413', 'custom': True, 'proj4def': '+proj=stere +lat_0=90 +lat_ts=70 +lon_0=-45 +k=1 +x_0=0 +y_0=0\\n                 +ellps=WGS84 +datum=WGS84 +units=m +no_defs', 'origin': [-4194304, 4194304], 'resolutions': [16384.0, 8192.0, 4096.0, 2048.0, 1024.0, 512.0, 256.0], 'bounds': [[-4194304, -4194304], [4194304, 4194304]]}, 'EPSG3031': {'name': 'EPSG3031', 'custom': True, 'proj4def': '+proj=stere +lat_0=-90 +lat_ts=-71 +lon_0=0 +k=1 +x_0=0 +y_0=0\\n                 +ellps=WGS84 +datum=WGS84 +units=m +no_defs', 'origin': [-4194304, 4194304], 'resolutions': [16384.0, 8192.0, 4096.0, 2048.0, 1024.0, 512.0, 256.0], 'bounds': [[-4194304, -4194304], [4194304, 4194304]]}}\n"
     ]
    }
   ],
   "source": [
    "print(projections)"
   ]
  },
  {
   "cell_type": "code",
   "execution_count": null,
   "id": "union-biography",
   "metadata": {},
   "outputs": [],
   "source": []
  }
 ],
 "metadata": {
  "kernelspec": {
   "display_name": "Python 3",
   "language": "python",
   "name": "python3"
  },
  "language_info": {
   "codemirror_mode": {
    "name": "ipython",
    "version": 3
   },
   "file_extension": ".py",
   "mimetype": "text/x-python",
   "name": "python",
   "nbconvert_exporter": "python",
   "pygments_lexer": "ipython3",
   "version": "3.7.10"
  }
 },
 "nbformat": 4,
 "nbformat_minor": 5
}
