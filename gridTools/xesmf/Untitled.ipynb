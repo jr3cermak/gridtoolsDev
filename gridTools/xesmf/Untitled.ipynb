{
 "cells": [
  {
   "cell_type": "code",
   "execution_count": 1,
   "id": "marked-device",
   "metadata": {},
   "outputs": [],
   "source": [
    "# Following tutorials for esmpy\n",
    "# REF: https://earthsystemmodeling.org/esmpy_doc/release/ESMF_8_0_1/html/examples.html"
   ]
  },
  {
   "cell_type": "code",
   "execution_count": 2,
   "id": "oriented-calibration",
   "metadata": {},
   "outputs": [
    {
     "name": "stdout",
     "output_type": "stream",
     "text": [
      "Hello ESMPy World from PET (processor) 0!\n"
     ]
    }
   ],
   "source": [
    "import ESMF\n",
    "\n",
    "# This call enables debug logging\n",
    "# esmpy = ESMF.Manager(debug=True)\n",
    "\n",
    "print (\"Hello ESMPy World from PET (processor) {0}!\".format(ESMF.local_pet()))"
   ]
  },
  {
   "cell_type": "code",
   "execution_count": null,
   "id": "comparable-router",
   "metadata": {},
   "outputs": [],
   "source": []
  }
 ],
 "metadata": {
  "kernelspec": {
   "display_name": "Python 3",
   "language": "python",
   "name": "python3"
  },
  "language_info": {
   "codemirror_mode": {
    "name": "ipython",
    "version": 3
   },
   "file_extension": ".py",
   "mimetype": "text/x-python",
   "name": "python",
   "nbconvert_exporter": "python",
   "pygments_lexer": "ipython3",
   "version": "3.7.10"
  }
 },
 "nbformat": 4,
 "nbformat_minor": 5
}
