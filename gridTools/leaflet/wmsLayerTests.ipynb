{
 "cells": [
  {
   "cell_type": "code",
   "execution_count": 1,
   "id": "central-advancement",
   "metadata": {},
   "outputs": [
    {
     "name": "stdout",
     "output_type": "stream",
     "text": [
      "System name                             : Linux\n",
      "System name                             : mom6vm\n",
      "Operating system release                : 5.8.0-44-generic\n",
      "Operating system version                : #50~20.04.1-Ubuntu SMP Wed Feb 10 21:07:30 UTC 2021\n",
      "Hardware identifier                     : x86_64\n",
      "Active conda environment                : leaflet\n",
      "Conda reported versions of software:\n",
      "platform                                : linux-64\n",
      "python                                  : 3.9.2\n",
      "esmf                                    : not installed\n",
      "esmpy                                   : not installed\n",
      "xgcm                                    : not installed\n",
      "xesmf                                   : not installed\n",
      "netcdf4                                 : 1.5.6\n",
      "numpy                                   : 1.20.1\n",
      "xarray                                  : 0.17.0\n",
      "cartopy                                 : 0.18.0\n",
      "matplotlib                              : 3.3.4\n",
      "jupyter_core                            : 4.7.1\n",
      "jupyterlab                              : 3.0.10\n",
      "notebook                                : 6.2.0\n",
      "dask                                    : not installed\n"
     ]
    }
   ],
   "source": [
    "#conda: legacyTools\n",
    "\n",
    "# cd to the 'lib' directory in your notebooks directory\n",
    "# $ export LIBROOT=`pwd`\n",
    "# Start jupyter lab from any directory\n",
    "import sys, os\n",
    "if (os.environ.get('LIBROOT')):\n",
    "    sys.path.append(os.environ.get('LIBROOT'))\n",
    "\n",
    "from sysInfo import sysInfo\n",
    "info = sysInfo()\n",
    "info.show(vList=['platform','python','esmf','esmpy','xgcm','xesmf',\n",
    "                 'netcdf4','numpy','xarray',\n",
    "                 'cartopy','matplotlib',\n",
    "                 'jupyter_core','jupyterlab','notebook',\n",
    "                 'dask'])"
   ]
  },
  {
   "cell_type": "code",
   "execution_count": 2,
   "id": "removed-sullivan",
   "metadata": {},
   "outputs": [
    {
     "data": {
      "application/vnd.jupyter.widget-view+json": {
       "model_id": "ded11680353b4c5bb1a2506bf9713185",
       "version_major": 2,
       "version_minor": 0
      },
      "text/plain": [
       "Map(center=[63.93539733718046, -155.7123461971198], controls=(ZoomControl(options=['position', 'zoom_in_text',…"
      ]
     },
     "metadata": {},
     "output_type": "display_data"
    }
   ],
   "source": [
    "# WMS Layer\n",
    "from ipyleaflet import Map, WMSLayer, basemaps\n",
    "\n",
    "wms = WMSLayer(\n",
    "    url='https://recon.lccllc.info/ggms4326',\n",
    "    layers='earth,grid',\n",
    "    format='image/png',\n",
    "    transparent=True,\n",
    "    attribution='MOM6'\n",
    ")\n",
    "\n",
    "# Map uses a default projection is EPSG:3857\n",
    "# Center on Alaska\n",
    "m = Map(basemap=basemaps.CartoDB.Positron, center=(63.93539733718046, -155.7123461971198), zoom=3)\n",
    "\n",
    "m.add_layer(wms)\n",
    "\n",
    "m"
   ]
  },
  {
   "cell_type": "code",
   "execution_count": 3,
   "id": "central-tablet",
   "metadata": {},
   "outputs": [
    {
     "data": {
      "text/plain": [
       "{'url': 'http://c.basemaps.cartocdn.com/light_all/{z}/{x}/{y}.png',\n",
       " 'max_zoom': 20,\n",
       " 'attribution': '&copy; <a href=\"http://www.openstreetmap.org/copyright\">OpenStreetMap</a> &copy; <a href=\"http://cartodb.com/attributions\">CartoDB</a>',\n",
       " 'name': 'CartoDB.Positron'}"
      ]
     },
     "execution_count": 3,
     "metadata": {},
     "output_type": "execute_result"
    }
   ],
   "source": [
    "basemaps.CartoDB.Positron"
   ]
  }
 ],
 "metadata": {
  "kernelspec": {
   "display_name": "Python 3",
   "language": "python",
   "name": "python3"
  },
  "language_info": {
   "codemirror_mode": {
    "name": "ipython",
    "version": 3
   },
   "file_extension": ".py",
   "mimetype": "text/x-python",
   "name": "python",
   "nbconvert_exporter": "python",
   "pygments_lexer": "ipython3",
   "version": "3.9.2"
  }
 },
 "nbformat": 4,
 "nbformat_minor": 5
}
