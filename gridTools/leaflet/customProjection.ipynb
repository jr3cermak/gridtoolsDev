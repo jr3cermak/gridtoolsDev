{
 "cells": [
  {
   "cell_type": "code",
   "execution_count": 5,
   "id": "christian-hardwood",
   "metadata": {},
   "outputs": [
    {
     "data": {
      "application/vnd.jupyter.widget-view+json": {
       "model_id": "3ed2b14bd87c477092b51af9c386c55d",
       "version_major": 2,
       "version_minor": 0
      },
      "text/plain": [
       "Map(center=[38, -84], controls=(ZoomControl(options=['position', 'zoom_in_text', 'zoom_in_title', 'zoom_out_te…"
      ]
     },
     "metadata": {},
     "output_type": "display_data"
    }
   ],
   "source": [
    "# conda: leaflet\n",
    "\n",
    "# NOTES: You can draw a box, but it is along lat lon lines and not conformal to the projection\n",
    "# as needed by the model.  The boxes look square in the lat lon projection in the drawControl\n",
    "# example which is also not good for the model.\n",
    "\n",
    "# You can specify any projection, but if it doesn't match the underlying data, the map\n",
    "# will look very odd!\n",
    "\n",
    "from ipyleaflet import Map, basemaps, basemap_to_tiles, DrawControl\n",
    "\n",
    "# We're going to use https://georepository.com/crs_2163/US-National-Atlas-Equal-Area.html\n",
    "my_projection = {\n",
    "    'name': 'EPSG:2163',\n",
    "    'custom': True, #This is important, it tells ipyleaflet that this projection is not on the predefined ones.\n",
    "    'proj4def': '+proj=laea +lat_0=45 +lon_0=-100 +x_0=0 +y_0=0 +a=6370997 +b=6370997 +units=m +no_defs',\n",
    "    'origin': [-2215235.82, 420644.41],\n",
    "    'bounds': [\n",
    "        [-8046094.81, 1819060.18],\n",
    "        [988364.71, 3511186.72]   \n",
    "    ],\n",
    "    'resolutions': [\n",
    "        8192.0,\n",
    "        4096.0,\n",
    "        2048.0,\n",
    "        1024.0,\n",
    "        512.0,\n",
    "        256.0\n",
    "    ]\n",
    "}\n",
    "\n",
    "#my_projection = {\n",
    "#    'name': 'EPSG:2205',\n",
    "#    'proj4def': '+proj=lcc +lat_1=37.96666666666667 +lat_2=38.96666666666667 +lat_0=37.5 +lon_0=-84.25 +x_0=500000 +y_0=0 +ellps=GRS80 +datum=NAD83 +units=m +no_defs',\n",
    "#    'bounds': [\n",
    "#        [351924.0102, 27989.8177],\n",
    "#        [657770.2583, 183547.8428]   \n",
    "#    ],\n",
    "#    'resolutions': [\n",
    "#        8192.0,\n",
    "#        4096.0,\n",
    "#        2048.0,\n",
    "#        1024.0,\n",
    "#        512.0,\n",
    "#        256.0\n",
    "#    ]\n",
    "#}\n",
    "\n",
    "watercolor = basemap_to_tiles(basemaps.Stamen.Watercolor)\n",
    "\n",
    "m = Map(basemap=basemaps.OpenTopoMap, center=(38, -84), zoom=1, crs=my_projection)\n",
    "\n",
    "draw_control = DrawControl()\n",
    "draw_control.polyline =  {\n",
    "    \"shapeOptions\": {\n",
    "        \"color\": \"#6bc2e5\",\n",
    "        \"weight\": 8,\n",
    "        \"opacity\": 1.0\n",
    "    }\n",
    "}\n",
    "draw_control.polygon = {\n",
    "    \"shapeOptions\": {\n",
    "        \"fillColor\": \"#6be5c3\",\n",
    "        \"color\": \"#6be5c3\",\n",
    "        \"fillOpacity\": 1.0\n",
    "    },\n",
    "    \"drawError\": {\n",
    "        \"color\": \"#dd253b\",\n",
    "        \"message\": \"Oups!\"\n",
    "    },\n",
    "    \"allowIntersection\": False\n",
    "}\n",
    "draw_control.circle = {\n",
    "    \"shapeOptions\": {\n",
    "        \"fillColor\": \"#efed69\",\n",
    "        \"color\": \"#efed69\",\n",
    "        \"fillOpacity\": 1.0\n",
    "    }\n",
    "}\n",
    "draw_control.rectangle = {\n",
    "    \"shapeOptions\": {\n",
    "        \"fillColor\": \"#fca45d\",\n",
    "        \"color\": \"#fca45d\",\n",
    "        \"fillOpacity\": 1.0\n",
    "    }\n",
    "}\n",
    "\n",
    "m.add_control(draw_control)\n",
    "\n",
    "m"
   ]
  },
  {
   "cell_type": "code",
   "execution_count": 2,
   "id": "willing-foster",
   "metadata": {},
   "outputs": [
    {
     "data": {
      "application/vnd.jupyter.widget-view+json": {
       "model_id": "2d1978f180de41b084644ab7a4a72de0",
       "version_major": 2,
       "version_minor": 0
      },
      "text/plain": [
       "Map(center=[38, -84], controls=(ZoomControl(options=['position', 'zoom_in_text', 'zoom_in_title', 'zoom_out_te…"
      ]
     },
     "metadata": {},
     "output_type": "display_data"
    }
   ],
   "source": [
    "m = Map(basemap=basemaps.OpenTopoMap, center=(38, -84), zoom=5)\n",
    "\n",
    "m"
   ]
  },
  {
   "cell_type": "code",
   "execution_count": null,
   "id": "gothic-practitioner",
   "metadata": {},
   "outputs": [],
   "source": []
  }
 ],
 "metadata": {
  "kernelspec": {
   "display_name": "Python 3",
   "language": "python",
   "name": "python3"
  },
  "language_info": {
   "codemirror_mode": {
    "name": "ipython",
    "version": 3
   },
   "file_extension": ".py",
   "mimetype": "text/x-python",
   "name": "python",
   "nbconvert_exporter": "python",
   "pygments_lexer": "ipython3",
   "version": "3.9.2"
  }
 },
 "nbformat": 4,
 "nbformat_minor": 5
}
