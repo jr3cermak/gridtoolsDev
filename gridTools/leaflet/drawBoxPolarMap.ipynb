{
 "cells": [
  {
   "cell_type": "code",
   "execution_count": 1,
   "id": "induced-invasion",
   "metadata": {},
   "outputs": [],
   "source": [
    "# conda: legacyTools\n",
    "\n",
    "from ipyleaflet import Map, GeoJSON, projections, basemaps\n",
    "from ipyleaflet import Rectangle\n",
    "import json\n",
    "import os\n",
    "import requests\n",
    "\n",
    "# Demonstrating that drawing a rectangle in lat lon space on a polar projected map\n",
    "# is not conformal and useful for the MOM6 model."
   ]
  },
  {
   "cell_type": "code",
   "execution_count": 2,
   "id": "comparable-cradle",
   "metadata": {},
   "outputs": [],
   "source": [
    "m = Map(center=(90, 0),\n",
    "        zoom=1,\n",
    "        max_zoom=5,\n",
    "        min_zoom=1, \n",
    "        basemap=basemaps.NASAGIBS.BlueMarble3413,\n",
    "       crs=projections.EPSG3413)"
   ]
  },
  {
   "cell_type": "code",
   "execution_count": 3,
   "id": "controversial-equipment",
   "metadata": {},
   "outputs": [
    {
     "data": {
      "application/vnd.jupyter.widget-view+json": {
       "model_id": "5f66a0d1c21444aa95577a147d7c48dc",
       "version_major": 2,
       "version_minor": 0
      },
      "text/plain": [
       "Map(center=[90, 0], controls=(ZoomControl(options=['position', 'zoom_in_text', 'zoom_in_title', 'zoom_out_text…"
      ]
     },
     "metadata": {},
     "output_type": "display_data"
    }
   ],
   "source": [
    "m"
   ]
  },
  {
   "cell_type": "code",
   "execution_count": 4,
   "id": "flying-lithuania",
   "metadata": {},
   "outputs": [],
   "source": [
    "rectangle = Rectangle(bounds=((80,40),(85,50)))"
   ]
  },
  {
   "cell_type": "code",
   "execution_count": 5,
   "id": "intense-piano",
   "metadata": {},
   "outputs": [],
   "source": [
    "m.add_layer(rectangle)"
   ]
  }
 ],
 "metadata": {
  "kernelspec": {
   "display_name": "Python 3",
   "language": "python",
   "name": "python3"
  },
  "language_info": {
   "codemirror_mode": {
    "name": "ipython",
    "version": 3
   },
   "file_extension": ".py",
   "mimetype": "text/x-python",
   "name": "python",
   "nbconvert_exporter": "python",
   "pygments_lexer": "ipython3",
   "version": "3.9.2"
  }
 },
 "nbformat": 4,
 "nbformat_minor": 5
}
