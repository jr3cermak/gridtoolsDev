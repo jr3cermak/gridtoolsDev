{
 "cells": [
  {
   "cell_type": "code",
   "execution_count": 1,
   "id": "guided-feeling",
   "metadata": {},
   "outputs": [
    {
     "name": "stdout",
     "output_type": "stream",
     "text": [
      "System name                             : Linux\n",
      "System name                             : mom6vm\n",
      "Operating system release                : 5.8.0-44-generic\n",
      "Operating system version                : #50~20.04.1-Ubuntu SMP Wed Feb 10 21:07:30 UTC 2021\n",
      "Hardware identifier                     : x86_64\n",
      "Active conda environment                : legacyTools\n",
      "Conda reported versions of software:\n",
      "platform                                : linux-64\n",
      "python                                  : 3.9.2\n",
      "esmf                                    : not installed\n",
      "esmpy                                   : not installed\n",
      "xgcm                                    : not installed\n",
      "xesmf                                   : not installed\n",
      "netcdf4                                 : 1.5.6\n",
      "numpy                                   : 1.20.1\n",
      "xarray                                  : 0.17.0\n",
      "cartopy                                 : 0.18.0\n",
      "matplotlib                              : 3.3.4\n",
      "jupyter_core                            : 4.7.1\n",
      "jupyterlab                              : 3.0.10\n",
      "notebook                                : 6.2.0\n",
      "dask                                    : not installed\n"
     ]
    }
   ],
   "source": [
    "# conda: legacyTools\n",
    "\n",
    "# cd to the 'lib' directory in your notebooks directory\n",
    "# $ export LIBROOT=`pwd`\n",
    "# Start jupyter lab from any directory\n",
    "import sys, os\n",
    "if (os.environ.get('LIBROOT')):\n",
    "    sys.path.append(os.environ.get('LIBROOT'))\n",
    "from sysInfo import sysInfo\n",
    "info = sysInfo()\n",
    "info.show(vList=['platform','python','esmf','esmpy','xgcm','xesmf',\n",
    "                 'netcdf4','numpy','xarray',\n",
    "                 'cartopy','matplotlib',\n",
    "                 'jupyter_core','jupyterlab','notebook',\n",
    "                 'dask'])"
   ]
  },
  {
   "cell_type": "code",
   "execution_count": 2,
   "id": "asian-listening",
   "metadata": {},
   "outputs": [
    {
     "name": "stdout",
     "output_type": "stream",
     "text": [
      "Current map projection being used by leaflet: {'name': 'EPSG4326', 'custom': False}\n"
     ]
    },
    {
     "data": {
      "application/vnd.jupyter.widget-view+json": {
       "model_id": "e5d0e7bf48e64399aa8d372922383c0d",
       "version_major": 2,
       "version_minor": 0
      },
      "text/plain": [
       "Map(center=[47.0, -135.0], controls=(ZoomControl(options=['position', 'zoom_in_text', 'zoom_in_title', 'zoom_o…"
      ]
     },
     "metadata": {},
     "output_type": "display_data"
    }
   ],
   "source": [
    "# conda: leaflet\n",
    "\n",
    "from ipyleaflet import Map, LocalTileLayer, basemaps\n",
    "from ipyleaflet import projections\n",
    "\n",
    "# NOTE: Panning may stop working.  The entire web page with JupyterLab has to be reloaded.\n",
    "\n",
    "# Download Earth Explorer Base Map tiles\n",
    "# wget https://eoimages.gsfc.nasa.gov/images/imagerecords/147000/147190/eo_tiles.tgz\n",
    "# The noted projection for these tiles are EPSG:4326.  The y tiles are reversed.\n",
    "\n",
    "# Within the notebook folder link to the tile directory\n",
    "# ln -s /opt/tiles tiles\n",
    "\n",
    "# and start a local python http server (or start the server in the tile\n",
    "# directory and do not make a link).  Required for jupyterlab.\n",
    "# python -m http.server --bind 192.168.131.54\n",
    "\n",
    "# Leaflet map defaults to EPSG:3857\n",
    "# Does this mean leaflet reprojected on the fly?\n",
    "#m = Map(center=(47.0, -135.0), zoom=3)\n",
    "\n",
    "# Set the projection to EPSG:4326 \n",
    "m = Map(center=(47.0, -135.0), zoom=3, crs=projections.EPSG4326)\n",
    "\n",
    "# NOTE: on both maps, if you zoom out, you get the default basemap instead of the served tiles\n",
    "\n",
    "# Works for plain jupyter notebooks, but not in jupyterlab\n",
    "#m.add_layer(LocalTileLayer(path='tiles/blueMarble/{z}/{x}/{-y}.png'))\n",
    "\n",
    "# Required for jupyterlab\n",
    "m.add_layer(LocalTileLayer(path='http://192.168.131.54:8000/tiles/blueMarble/{z}/{x}/{-y}.png'))\n",
    "\n",
    "print(\"Current map projection being used by leaflet:\", m.crs)\n",
    "\n",
    "m"
   ]
  },
  {
   "cell_type": "code",
   "execution_count": 3,
   "id": "ignored-supervisor",
   "metadata": {},
   "outputs": [
    {
     "name": "stdout",
     "output_type": "stream",
     "text": [
      "Map(center=[47.0, -135.0], controls=(ZoomControl(options=['position', 'zoom_in_text', 'zoom_in_title', 'zoom_out_text', 'zoom_out_title']), AttributionControl(options=['position', 'prefix'], position='bottomright')), crs={'name': 'EPSG4326', 'custom': False}, default_style=MapStyle(), dragging_style=MapStyle(cursor='move'), layers=(TileLayer(base=True, max_zoom=19, min_zoom=1, options=['attribution', 'detect_retina', 'max_native_zoom', 'max_zoom', 'min_native_zoom', 'min_zoom', 'no_wrap', 'tile_size', 'tms']), LocalTileLayer(options=['attribution', 'detect_retina', 'max_native_zoom', 'max_zoom', 'min_native_zoom', 'min_zoom', 'no_wrap', 'tile_size', 'tms'], path='http://192.168.131.54:8000/tiles/blueMarble/{z}/{x}/{-y}.png')), options=['bounce_at_zoom_limits', 'box_zoom', 'center', 'close_popup_on_click', 'double_click_zoom', 'dragging', 'fullscreen', 'inertia', 'inertia_deceleration', 'inertia_max_speed', 'interpolation', 'keyboard', 'keyboard_pan_offset', 'keyboard_zoom_offset', 'max_zoom', 'min_zoom', 'scroll_wheel_zoom', 'tap', 'tap_tolerance', 'touch_zoom', 'world_copy_jump', 'zoom', 'zoom_animation_threshold', 'zoom_delta', 'zoom_snap', 'zoom_start'], style=MapStyle(), zoom=3.0)\n"
     ]
    }
   ],
   "source": [
    "# Print out the contents of m\n",
    "print(m)"
   ]
  },
  {
   "cell_type": "code",
   "execution_count": 4,
   "id": "respected-cornwall",
   "metadata": {},
   "outputs": [
    {
     "name": "stdout",
     "output_type": "stream",
     "text": [
      "{'EPSG3857': {'name': 'EPSG3857', 'custom': False}, 'Earth': {'name': 'Earth', 'custom': False}, 'EPSG3395': {'name': 'EPSG3395', 'custom': False}, 'EPSG4326': {'name': 'EPSG4326', 'custom': False}, 'Base': {'name': 'Base', 'custom': False}, 'Simple': {'name': 'Simple', 'custom': False}, 'EPSG3413': {'name': 'EPSG3413', 'custom': True, 'proj4def': '+proj=stere +lat_0=90 +lat_ts=70 +lon_0=-45 +k=1 +x_0=0 +y_0=0\\n                 +ellps=WGS84 +datum=WGS84 +units=m +no_defs', 'origin': [-4194304, 4194304], 'resolutions': [16384.0, 8192.0, 4096.0, 2048.0, 1024.0, 512.0, 256.0], 'bounds': [[-4194304, -4194304], [4194304, 4194304]]}, 'EPSG3031': {'name': 'EPSG3031', 'custom': True, 'proj4def': '+proj=stere +lat_0=-90 +lat_ts=-71 +lon_0=0 +k=1 +x_0=0 +y_0=0\\n                 +ellps=WGS84 +datum=WGS84 +units=m +no_defs', 'origin': [-4194304, 4194304], 'resolutions': [16384.0, 8192.0, 4096.0, 2048.0, 1024.0, 512.0, 256.0], 'bounds': [[-4194304, -4194304], [4194304, 4194304]]}}\n"
     ]
    }
   ],
   "source": [
    "# We take a quick look at ipyleaflets pre-defined projections\n",
    "print(projections)"
   ]
  },
  {
   "cell_type": "code",
   "execution_count": 5,
   "id": "studied-christian",
   "metadata": {},
   "outputs": [
    {
     "name": "stdout",
     "output_type": "stream",
     "text": [
      "Current map projection being used by leaflet: {'name': 'EPSG3395', 'custom': False}\n"
     ]
    },
    {
     "data": {
      "application/vnd.jupyter.widget-view+json": {
       "model_id": "2012489b14ec458e8ea679809ef37e87",
       "version_major": 2,
       "version_minor": 0
      },
      "text/plain": [
       "Map(center=[0, 0], controls=(ZoomControl(options=['position', 'zoom_in_text', 'zoom_in_title', 'zoom_out_text'…"
      ]
     },
     "metadata": {},
     "output_type": "display_data"
    }
   ],
   "source": [
    "# Trying one of the custom polar projection does not work out at all\n",
    "# The other leaflet provided projections do seem to work\n",
    "\n",
    "# EPSG:3395 is World Mercator\n",
    "p = Map(center=(0,0), zoom=2, crs=projections.EPSG3395)\n",
    "\n",
    "# Works for plain jupyter notebooks, but not in jupyterlab\n",
    "#p.add_layer(LocalTileLayer(path='tiles/blueMarble/{z}/{x}/{-y}.png'))\n",
    "\n",
    "# Required for jupyterlab\n",
    "p.add_layer(LocalTileLayer(path='http://192.168.131.54:8000/tiles/blueMarble/{z}/{x}/{-y}.png'))\n",
    "\n",
    "print(\"Current map projection being used by leaflet:\", p.crs)\n",
    "\n",
    "p"
   ]
  },
  {
   "cell_type": "code",
   "execution_count": 6,
   "id": "local-lover",
   "metadata": {},
   "outputs": [],
   "source": [
    "# EPSG:3413\n",
    "# ipyleaflet struggles with polar projections \n",
    "#q = Map(center=(-3210000, 860000), zoom=3, crs=projections.EPSG3413)\n",
    "\n",
    "# Works for plain jupyter notebooks, but not in jupyterlab\n",
    "#p.add_layer(LocalTileLayer(path='tiles/blueMarble/{z}/{x}/{-y}.png'))\n",
    "\n",
    "# Required for jupyterlab\n",
    "#q.add_layer(LocalTileLayer(path='http://192.168.131.54:8000/tiles/blueMarble/{z}/{x}/{-y}.png'))\n",
    "\n",
    "#print(\"Current map projection being used by leaflet:\", p.crs)\n",
    "\n",
    "#q"
   ]
  }
 ],
 "metadata": {
  "kernelspec": {
   "display_name": "Python 3",
   "language": "python",
   "name": "python3"
  },
  "language_info": {
   "codemirror_mode": {
    "name": "ipython",
    "version": 3
   },
   "file_extension": ".py",
   "mimetype": "text/x-python",
   "name": "python",
   "nbconvert_exporter": "python",
   "pygments_lexer": "ipython3",
   "version": "3.8.6"
  }
 },
 "nbformat": 4,
 "nbformat_minor": 5
}
