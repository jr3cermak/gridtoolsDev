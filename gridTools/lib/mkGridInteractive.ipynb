{
 "cells": [
  {
   "cell_type": "code",
   "execution_count": 1,
   "id": "environmental-coordinator",
   "metadata": {},
   "outputs": [],
   "source": [
    "# conda: holo37 xesmfTools\n",
    "\n",
    "# This should be the minimalist\n",
    "# notebook script to launch the\n",
    "# interactive grid toolset.\n",
    "\n",
    "# The application boilerplate can be\n",
    "# edited via lib/app.py.  You need to save\n",
    "# any changes and re-run all the cells for\n",
    "# changes to be applied.\n",
    "\n",
    "# Required to manipulate sys.path and access environment\n",
    "# variables via os.environ.\n",
    "import os, sys\n",
    "\n",
    "# cd to the 'lib' directory in your notebooks directory\n",
    "# $ export LIBROOT=`pwd`\n",
    "# Start jupyter lab from any directory\n",
    "\n",
    "# Still debugging the proper environment paths\n",
    "# This uses full pathnames\n",
    "if (os.environ.get('LIBROOT')):\n",
    "    sys.path.append(os.environ.get('LIBROOT'))\n",
    "else:\n",
    "    # Detect use of this notebook in mybinder.org\n",
    "    cDir = os.getcwd()\n",
    "    if cDir == '/home/jovyan/gridTools':\n",
    "        sys.path.append('/home/jovyan/gridTools/lib')\n",
    "\n",
    "# This allows us to test relative paths\n",
    "#sys.path.append('lib')\n",
    "\n",
    "#from sysinfo import SysInfo\n",
    "#info = SysInfo()\n",
    "#info.show(vList=['platform','python','esmf','esmpy','xgcm','xesmf',\n",
    "#                 'netcdf4','numpy','xarray',\n",
    "#                 'cartopy','matplotlib',\n",
    "#                 'jupyter_core','jupyterlab','notebook',\n",
    "#                 'dask','panel'])\n",
    "\n",
    "from gridutils import GridUtils\n",
    "import warnings"
   ]
  },
  {
   "cell_type": "code",
   "execution_count": 2,
   "id": "effective-latino",
   "metadata": {},
   "outputs": [],
   "source": [
    "# Disable annoying warnings from python\n",
    "warnings.filterwarnings('ignore')"
   ]
  },
  {
   "cell_type": "code",
   "execution_count": 3,
   "id": "fixed-deposit",
   "metadata": {},
   "outputs": [],
   "source": [
    "# If we are successful, we can initialize the grid toolset\n",
    "grd = GridUtils()"
   ]
  },
  {
   "cell_type": "code",
   "execution_count": 4,
   "id": "necessary-microwave",
   "metadata": {},
   "outputs": [
    {
     "ename": "NameError",
     "evalue": "name 'App' is not defined",
     "output_type": "error",
     "traceback": [
      "\u001b[0;31m---------------------------------------------------------------------------\u001b[0m",
      "\u001b[0;31mNameError\u001b[0m                                 Traceback (most recent call last)",
      "\u001b[0;32m<ipython-input-4-659dff86b4ad>\u001b[0m in \u001b[0;36m<module>\u001b[0;34m\u001b[0m\n\u001b[1;32m      1\u001b[0m \u001b[0;31m# Initialize the application\u001b[0m\u001b[0;34m\u001b[0m\u001b[0;34m\u001b[0m\u001b[0;34m\u001b[0m\u001b[0m\n\u001b[0;32m----> 2\u001b[0;31m \u001b[0mdashboard\u001b[0m \u001b[0;34m=\u001b[0m \u001b[0mgrd\u001b[0m\u001b[0;34m.\u001b[0m\u001b[0mapp\u001b[0m\u001b[0;34m(\u001b[0m\u001b[0;34m)\u001b[0m\u001b[0;34m\u001b[0m\u001b[0;34m\u001b[0m\u001b[0m\n\u001b[0m",
      "\u001b[0;32m~/gridtools/gridTools/lib/gridutils.py\u001b[0m in \u001b[0;36mapp\u001b[0;34m(self)\u001b[0m\n\u001b[1;32m     71\u001b[0m     \u001b[0;31m# Connect GridTools() to the actual applcation\u001b[0m\u001b[0;34m\u001b[0m\u001b[0;34m\u001b[0m\u001b[0;34m\u001b[0m\u001b[0m\n\u001b[1;32m     72\u001b[0m     \u001b[0;32mdef\u001b[0m \u001b[0mapp\u001b[0m\u001b[0;34m(\u001b[0m\u001b[0mself\u001b[0m\u001b[0;34m)\u001b[0m\u001b[0;34m:\u001b[0m\u001b[0;34m\u001b[0m\u001b[0;34m\u001b[0m\u001b[0m\n\u001b[0;32m---> 73\u001b[0;31m         \u001b[0mdashboard\u001b[0m \u001b[0;34m=\u001b[0m \u001b[0mApp\u001b[0m\u001b[0;34m(\u001b[0m\u001b[0mgrd\u001b[0m\u001b[0;34m=\u001b[0m\u001b[0mself\u001b[0m\u001b[0;34m.\u001b[0m\u001b[0mgrd\u001b[0m\u001b[0;34m)\u001b[0m\u001b[0;34m\u001b[0m\u001b[0;34m\u001b[0m\u001b[0m\n\u001b[0m\u001b[1;32m     74\u001b[0m         \u001b[0;32mreturn\u001b[0m \u001b[0mdashboard\u001b[0m\u001b[0;34m\u001b[0m\u001b[0;34m\u001b[0m\u001b[0m\n\u001b[1;32m     75\u001b[0m \u001b[0;34m\u001b[0m\u001b[0m\n",
      "\u001b[0;31mNameError\u001b[0m: name 'App' is not defined"
     ]
    }
   ],
   "source": [
    "# Initialize the application\n",
    "dashboard = grd.app()"
   ]
  },
  {
   "cell_type": "code",
   "execution_count": null,
   "id": "turkish-nutrition",
   "metadata": {},
   "outputs": [],
   "source": [
    "# Launch the application"
   ]
  },
  {
   "cell_type": "code",
   "execution_count": null,
   "id": "lyric-third",
   "metadata": {},
   "outputs": [],
   "source": [
    "#dashboard.show()"
   ]
  },
  {
   "cell_type": "code",
   "execution_count": null,
   "id": "abroad-therapist",
   "metadata": {},
   "outputs": [],
   "source": [
    "dashboard.servable();"
   ]
  },
  {
   "cell_type": "code",
   "execution_count": null,
   "id": "interesting-departure",
   "metadata": {},
   "outputs": [],
   "source": [
    "display(dashboard)"
   ]
  }
 ],
 "metadata": {
  "kernelspec": {
   "display_name": "Python 3",
   "language": "python",
   "name": "python3"
  },
  "language_info": {
   "codemirror_mode": {
    "name": "ipython",
    "version": 3
   },
   "file_extension": ".py",
   "mimetype": "text/x-python",
   "name": "python",
   "nbconvert_exporter": "python",
   "pygments_lexer": "ipython3",
   "version": "3.7.10"
  }
 },
 "nbformat": 4,
 "nbformat_minor": 5
}
