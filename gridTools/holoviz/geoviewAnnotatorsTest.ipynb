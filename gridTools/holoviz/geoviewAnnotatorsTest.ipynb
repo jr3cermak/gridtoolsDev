{
 "cells": [
  {
   "cell_type": "code",
   "execution_count": null,
   "id": "listed-telescope",
   "metadata": {},
   "outputs": [],
   "source": [
    "# This is based on the annotators tutorial\n",
    "# http://geoviews.org/user_guide/Annotators.html\n",
    "\n",
    "import geoviews as gv\n",
    "import cartopy.crs as ccrs\n",
    "\n",
    "from geoviews import annotate\n",
    "\n",
    "gv.extension('bokeh')"
   ]
  },
  {
   "cell_type": "code",
   "execution_count": null,
   "id": "mysterious-population",
   "metadata": {},
   "outputs": [],
   "source": [
    "tiles = gv.tile_sources.Wikipedia()\n",
    "\n",
    "sample_points = dict(\n",
    "    Longitude = [-10131185, -10131943, -10131766, -10131032],\n",
    "    Latitude  = [  3805587,   3803182,   3801073,   3799778])\n",
    "\n",
    "points = gv.Points(sample_points, crs=ccrs.GOOGLE_MERCATOR).opts(\n",
    "    size=10, line_color='black', responsive=True, min_height=600\n",
    ")\n",
    "\n",
    "point_annotate = annotate.instance()\n",
    "\n",
    "annotated = point_annotate(points, annotations=['Size'])\n",
    "\n",
    "annotate.compose(tiles, annotated)"
   ]
  },
  {
   "cell_type": "code",
   "execution_count": null,
   "id": "later-jamaica",
   "metadata": {},
   "outputs": [],
   "source": []
  }
 ],
 "metadata": {
  "kernelspec": {
   "display_name": "Python 3",
   "language": "python",
   "name": "python3"
  },
  "language_info": {
   "codemirror_mode": {
    "name": "ipython",
    "version": 3
   },
   "file_extension": ".py",
   "mimetype": "text/x-python",
   "name": "python",
   "nbconvert_exporter": "python",
   "pygments_lexer": "ipython3",
   "version": "3.8.6"
  }
 },
 "nbformat": 4,
 "nbformat_minor": 5
}
