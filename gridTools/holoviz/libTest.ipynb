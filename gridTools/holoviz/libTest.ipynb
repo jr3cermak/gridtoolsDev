{
 "cells": [
  {
   "cell_type": "code",
   "execution_count": 1,
   "id": "atlantic-imaging",
   "metadata": {},
   "outputs": [
    {
     "name": "stdout",
     "output_type": "stream",
     "text": [
      "System name                             : Linux\n",
      "System name                             : mom6vm\n",
      "Operating system release                : 5.8.0-45-generic\n",
      "Operating system version                : #51~20.04.1-Ubuntu SMP Tue Feb 23 13:46:31 UTC 2021\n",
      "Hardware identifier                     : x86_64\n",
      "Active conda environment                : gridTools\n",
      "Conda reported versions of software:\n",
      "platform                                : linux-64\n",
      "python                                  : 3.8.6\n",
      "esmf                                    : not installed\n",
      "esmpy                                   : not installed\n",
      "xgcm                                    : not installed\n",
      "xesmf                                   : not installed\n",
      "netcdf4                                 : 1.5.6\n",
      "numpy                                   : 1.20.1\n",
      "xarray                                  : 0.17.0\n",
      "dask                                    : 2021.3.0\n",
      "cartopy                                 : 0.17.0\n",
      "matplotlib                              : 3.3.4\n",
      "jupyter_core                            : 4.7.1\n",
      "jupyterlab                              : 3.0.10\n",
      "notebook                                : 6.2.0\n",
      "bokeh                                   : 1.4.0\n",
      "holoviews                               : 1.13.4\n",
      "geoviews                                : 1.7.0\n",
      "datashader                              : 0.12.2a0\n",
      "panel                                   : 0.8.1\n"
     ]
    }
   ],
   "source": [
    "# cd to the 'lib' directory in your notebooks directory\n",
    "# $ export LIBROOT=`pwd`\n",
    "# Start jupyter lab from any directory\n",
    "import sys, os\n",
    "if (os.environ.get('LIBROOT')):\n",
    "    sys.path.append(os.environ.get('LIBROOT'))\n",
    "\n",
    "from sysInfo import sysInfo\n",
    "info = sysInfo()\n",
    "info.show(vList=['platform', 'python', 'esmf', 'esmpy', 'xgcm', 'xesmf',\n",
    "                 'netcdf4', 'numpy', 'xarray','dask',\n",
    "                 'cartopy', 'matplotlib',\n",
    "                 'jupyter_core','jupyterlab','notebook',\n",
    "                 'bokeh','holoviews','geoviews','datashader','panel'])\n",
    "\n"
   ]
  },
  {
   "cell_type": "code",
   "execution_count": 2,
   "id": "imperial-remains",
   "metadata": {},
   "outputs": [
    {
     "name": "stdout",
     "output_type": "stream",
     "text": [
      "Running in jupyterlab: True\n"
     ]
    }
   ],
   "source": [
    "print(\"Running in jupyterlab:\",info.is_lab_notebook())"
   ]
  },
  {
   "cell_type": "code",
   "execution_count": null,
   "id": "crude-muscle",
   "metadata": {},
   "outputs": [],
   "source": []
  }
 ],
 "metadata": {
  "kernelspec": {
   "display_name": "Python 3",
   "language": "python",
   "name": "python3"
  },
  "language_info": {
   "codemirror_mode": {
    "name": "ipython",
    "version": 3
   },
   "file_extension": ".py",
   "mimetype": "text/x-python",
   "name": "python",
   "nbconvert_exporter": "python",
   "pygments_lexer": "ipython3",
   "version": "3.8.6"
  }
 },
 "nbformat": 4,
 "nbformat_minor": 5
}
