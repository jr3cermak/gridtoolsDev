{
 "cells": [
  {
   "cell_type": "code",
   "execution_count": 1,
   "id": "increased-fraud",
   "metadata": {},
   "outputs": [
    {
     "name": "stdout",
     "output_type": "stream",
     "text": [
      "System name                             : Linux\n",
      "System name                             : mom6vm\n",
      "Operating system release                : 5.8.0-44-generic\n",
      "Operating system version                : #50~20.04.1-Ubuntu SMP Wed Feb 10 21:07:30 UTC 2021\n",
      "Hardware identifier                     : x86_64\n",
      "Active conda environment                : pangeo\n",
      "Conda reported versions of software:\n",
      "platform                                : linux-64\n",
      "python                                  : 3.9.2\n",
      "esmf                                    : not installed\n",
      "esmpy                                   : not installed\n",
      "xgcm                                    : not installed\n",
      "xesmf                                   : not installed\n",
      "netcdf4                                 : 1.5.6\n",
      "numpy                                   : 1.20.1\n",
      "xarray                                  : 0.17.0\n",
      "dask                                    : 2021.3.0\n",
      "cartopy                                 : 0.18.0\n",
      "matplotlib                              : not installed\n",
      "jupyter_core                            : 4.7.1\n",
      "jupyterlab                              : 3.0.10\n",
      "notebook                                : 6.2.0\n",
      "bokeh                                   : 2.3.0\n",
      "holoviews                               : 1.14.2\n",
      "geoviews                                : 1.9.1\n",
      "datashader                              : 0.12.0\n",
      "panel                                   : 0.11.0\n"
     ]
    }
   ],
   "source": [
    "# cd to the 'lib' directory in your notebooks directory\n",
    "# $ export LIBROOT=`pwd`\n",
    "# Start jupyter lab from any directory\n",
    "import sys, os\n",
    "if (os.environ.get('LIBROOT')):\n",
    "    sys.path.append(os.environ.get('LIBROOT'))\n",
    "\n",
    "from sysInfo import sysInfo\n",
    "info = sysInfo()\n",
    "info.show(vList=['platform', 'python', 'esmf', 'esmpy', 'xgcm', 'xesmf',\n",
    "                 'netcdf4', 'numpy', 'xarray','dask',\n",
    "                 'cartopy', 'matplotlib',\n",
    "                 'jupyter_core','jupyterlab','notebook',\n",
    "                 'bokeh','holoviews','geoviews','datashader','panel'])\n",
    "\n"
   ]
  },
  {
   "cell_type": "code",
   "execution_count": null,
   "id": "worth-upset",
   "metadata": {},
   "outputs": [],
   "source": []
  }
 ],
 "metadata": {
  "kernelspec": {
   "display_name": "Python 3",
   "language": "python",
   "name": "python3"
  },
  "language_info": {
   "codemirror_mode": {
    "name": "ipython",
    "version": 3
   },
   "file_extension": ".py",
   "mimetype": "text/x-python",
   "name": "python",
   "nbconvert_exporter": "python",
   "pygments_lexer": "ipython3",
   "version": "3.8.6"
  }
 },
 "nbformat": 4,
 "nbformat_minor": 5
}
