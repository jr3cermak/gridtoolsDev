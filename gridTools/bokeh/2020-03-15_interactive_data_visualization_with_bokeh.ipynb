{
 "cells": [
  {
   "cell_type": "markdown",
   "metadata": {},
   "source": [
    "- Notebook Author: [Trenton McKinney][1]\n",
    "- Course: **[DataCamp: Interactive Data Visualization with Bokeh][2]**\n",
    " - This [notebook][3] was created as a reproducible reference.\n",
    " - The material is from the course\n",
    " - I completed the exercises\n",
    " - If you find the content beneficial, consider a [DataCamp Subscription][4].\n",
    " - I added a function (**`create_dir_save_file`**) to automatically download and save the required data (`data/2020-03-15_interactive_data_visualization_with_bokeh`) and image (`Images/2020-03-15_interactive_data_visualization_with_bokeh`) files.\n",
    "\n",
    "  [1]: https://trenton3983.github.io/\n",
    "  [2]: https://learn.datacamp.com/courses/interactive-data-visualization-with-bokeh\n",
    "  [3]: https://github.com/trenton3983/DataCamp/blob/master/2020-03-15_interactive_data_visualization_with_bokeh.ipynb\n",
    "  [4]: https://www.datacamp.com/join-me/MjQwNzMyMg=="
   ]
  },
  {
   "cell_type": "markdown",
   "metadata": {},
   "source": [
    "#### Course Description\n",
    "\n",
    "Bokeh is an interactive data visualization library for Python, and other languages, that targets modern web browsers for presentation. It can create versatile, data-driven graphics and connect the full power of the entire Python data science stack to create rich, interactive visualizations."
   ]
  },
  {
   "cell_type": "markdown",
   "metadata": {},
   "source": [
    "#### Imports"
   ]
  },
  {
   "cell_type": "code",
   "execution_count": 1,
   "metadata": {},
   "outputs": [
    {
     "data": {
      "text/html": [
       "\n",
       "    <div class=\"bk-root\">\n",
       "        <a href=\"https://bokeh.org\" target=\"_blank\" class=\"bk-logo bk-logo-small bk-logo-notebook\"></a>\n",
       "        <span id=\"1002\">Loading BokehJS ...</span>\n",
       "    </div>"
      ]
     },
     "metadata": {},
     "output_type": "display_data"
    },
    {
     "data": {
      "application/javascript": [
       "\n",
       "(function(root) {\n",
       "  function now() {\n",
       "    return new Date();\n",
       "  }\n",
       "\n",
       "  var force = true;\n",
       "\n",
       "  if (typeof root._bokeh_onload_callbacks === \"undefined\" || force === true) {\n",
       "    root._bokeh_onload_callbacks = [];\n",
       "    root._bokeh_is_loading = undefined;\n",
       "  }\n",
       "\n",
       "  var JS_MIME_TYPE = 'application/javascript';\n",
       "  var HTML_MIME_TYPE = 'text/html';\n",
       "  var EXEC_MIME_TYPE = 'application/vnd.bokehjs_exec.v0+json';\n",
       "  var CLASS_NAME = 'output_bokeh rendered_html';\n",
       "\n",
       "  /**\n",
       "   * Render data to the DOM node\n",
       "   */\n",
       "  function render(props, node) {\n",
       "    var script = document.createElement(\"script\");\n",
       "    node.appendChild(script);\n",
       "  }\n",
       "\n",
       "  /**\n",
       "   * Handle when an output is cleared or removed\n",
       "   */\n",
       "  function handleClearOutput(event, handle) {\n",
       "    var cell = handle.cell;\n",
       "\n",
       "    var id = cell.output_area._bokeh_element_id;\n",
       "    var server_id = cell.output_area._bokeh_server_id;\n",
       "    // Clean up Bokeh references\n",
       "    if (id != null && id in Bokeh.index) {\n",
       "      Bokeh.index[id].model.document.clear();\n",
       "      delete Bokeh.index[id];\n",
       "    }\n",
       "\n",
       "    if (server_id !== undefined) {\n",
       "      // Clean up Bokeh references\n",
       "      var cmd = \"from bokeh.io.state import curstate; print(curstate().uuid_to_server['\" + server_id + \"'].get_sessions()[0].document.roots[0]._id)\";\n",
       "      cell.notebook.kernel.execute(cmd, {\n",
       "        iopub: {\n",
       "          output: function(msg) {\n",
       "            var id = msg.content.text.trim();\n",
       "            if (id in Bokeh.index) {\n",
       "              Bokeh.index[id].model.document.clear();\n",
       "              delete Bokeh.index[id];\n",
       "            }\n",
       "          }\n",
       "        }\n",
       "      });\n",
       "      // Destroy server and session\n",
       "      var cmd = \"import bokeh.io.notebook as ion; ion.destroy_server('\" + server_id + \"')\";\n",
       "      cell.notebook.kernel.execute(cmd);\n",
       "    }\n",
       "  }\n",
       "\n",
       "  /**\n",
       "   * Handle when a new output is added\n",
       "   */\n",
       "  function handleAddOutput(event, handle) {\n",
       "    var output_area = handle.output_area;\n",
       "    var output = handle.output;\n",
       "\n",
       "    // limit handleAddOutput to display_data with EXEC_MIME_TYPE content only\n",
       "    if ((output.output_type != \"display_data\") || (!Object.prototype.hasOwnProperty.call(output.data, EXEC_MIME_TYPE))) {\n",
       "      return\n",
       "    }\n",
       "\n",
       "    var toinsert = output_area.element.find(\".\" + CLASS_NAME.split(' ')[0]);\n",
       "\n",
       "    if (output.metadata[EXEC_MIME_TYPE][\"id\"] !== undefined) {\n",
       "      toinsert[toinsert.length - 1].firstChild.textContent = output.data[JS_MIME_TYPE];\n",
       "      // store reference to embed id on output_area\n",
       "      output_area._bokeh_element_id = output.metadata[EXEC_MIME_TYPE][\"id\"];\n",
       "    }\n",
       "    if (output.metadata[EXEC_MIME_TYPE][\"server_id\"] !== undefined) {\n",
       "      var bk_div = document.createElement(\"div\");\n",
       "      bk_div.innerHTML = output.data[HTML_MIME_TYPE];\n",
       "      var script_attrs = bk_div.children[0].attributes;\n",
       "      for (var i = 0; i < script_attrs.length; i++) {\n",
       "        toinsert[toinsert.length - 1].firstChild.setAttribute(script_attrs[i].name, script_attrs[i].value);\n",
       "        toinsert[toinsert.length - 1].firstChild.textContent = bk_div.children[0].textContent\n",
       "      }\n",
       "      // store reference to server id on output_area\n",
       "      output_area._bokeh_server_id = output.metadata[EXEC_MIME_TYPE][\"server_id\"];\n",
       "    }\n",
       "  }\n",
       "\n",
       "  function register_renderer(events, OutputArea) {\n",
       "\n",
       "    function append_mime(data, metadata, element) {\n",
       "      // create a DOM node to render to\n",
       "      var toinsert = this.create_output_subarea(\n",
       "        metadata,\n",
       "        CLASS_NAME,\n",
       "        EXEC_MIME_TYPE\n",
       "      );\n",
       "      this.keyboard_manager.register_events(toinsert);\n",
       "      // Render to node\n",
       "      var props = {data: data, metadata: metadata[EXEC_MIME_TYPE]};\n",
       "      render(props, toinsert[toinsert.length - 1]);\n",
       "      element.append(toinsert);\n",
       "      return toinsert\n",
       "    }\n",
       "\n",
       "    /* Handle when an output is cleared or removed */\n",
       "    events.on('clear_output.CodeCell', handleClearOutput);\n",
       "    events.on('delete.Cell', handleClearOutput);\n",
       "\n",
       "    /* Handle when a new output is added */\n",
       "    events.on('output_added.OutputArea', handleAddOutput);\n",
       "\n",
       "    /**\n",
       "     * Register the mime type and append_mime function with output_area\n",
       "     */\n",
       "    OutputArea.prototype.register_mime_type(EXEC_MIME_TYPE, append_mime, {\n",
       "      /* Is output safe? */\n",
       "      safe: true,\n",
       "      /* Index of renderer in `output_area.display_order` */\n",
       "      index: 0\n",
       "    });\n",
       "  }\n",
       "\n",
       "  // register the mime type if in Jupyter Notebook environment and previously unregistered\n",
       "  if (root.Jupyter !== undefined) {\n",
       "    var events = require('base/js/events');\n",
       "    var OutputArea = require('notebook/js/outputarea').OutputArea;\n",
       "\n",
       "    if (OutputArea.prototype.mime_types().indexOf(EXEC_MIME_TYPE) == -1) {\n",
       "      register_renderer(events, OutputArea);\n",
       "    }\n",
       "  }\n",
       "\n",
       "  \n",
       "  if (typeof (root._bokeh_timeout) === \"undefined\" || force === true) {\n",
       "    root._bokeh_timeout = Date.now() + 5000;\n",
       "    root._bokeh_failed_load = false;\n",
       "  }\n",
       "\n",
       "  var NB_LOAD_WARNING = {'data': {'text/html':\n",
       "     \"<div style='background-color: #fdd'>\\n\"+\n",
       "     \"<p>\\n\"+\n",
       "     \"BokehJS does not appear to have successfully loaded. If loading BokehJS from CDN, this \\n\"+\n",
       "     \"may be due to a slow or bad network connection. Possible fixes:\\n\"+\n",
       "     \"</p>\\n\"+\n",
       "     \"<ul>\\n\"+\n",
       "     \"<li>re-rerun `output_notebook()` to attempt to load from CDN again, or</li>\\n\"+\n",
       "     \"<li>use INLINE resources instead, as so:</li>\\n\"+\n",
       "     \"</ul>\\n\"+\n",
       "     \"<code>\\n\"+\n",
       "     \"from bokeh.resources import INLINE\\n\"+\n",
       "     \"output_notebook(resources=INLINE)\\n\"+\n",
       "     \"</code>\\n\"+\n",
       "     \"</div>\"}};\n",
       "\n",
       "  function display_loaded() {\n",
       "    var el = document.getElementById(\"1002\");\n",
       "    if (el != null) {\n",
       "      el.textContent = \"BokehJS is loading...\";\n",
       "    }\n",
       "    if (root.Bokeh !== undefined) {\n",
       "      if (el != null) {\n",
       "        el.textContent = \"BokehJS \" + root.Bokeh.version + \" successfully loaded.\";\n",
       "      }\n",
       "    } else if (Date.now() < root._bokeh_timeout) {\n",
       "      setTimeout(display_loaded, 100)\n",
       "    }\n",
       "  }\n",
       "\n",
       "\n",
       "  function run_callbacks() {\n",
       "    try {\n",
       "      root._bokeh_onload_callbacks.forEach(function(callback) {\n",
       "        if (callback != null)\n",
       "          callback();\n",
       "      });\n",
       "    } finally {\n",
       "      delete root._bokeh_onload_callbacks\n",
       "    }\n",
       "    console.debug(\"Bokeh: all callbacks have finished\");\n",
       "  }\n",
       "\n",
       "  function load_libs(css_urls, js_urls, callback) {\n",
       "    if (css_urls == null) css_urls = [];\n",
       "    if (js_urls == null) js_urls = [];\n",
       "\n",
       "    root._bokeh_onload_callbacks.push(callback);\n",
       "    if (root._bokeh_is_loading > 0) {\n",
       "      console.debug(\"Bokeh: BokehJS is being loaded, scheduling callback at\", now());\n",
       "      return null;\n",
       "    }\n",
       "    if (js_urls == null || js_urls.length === 0) {\n",
       "      run_callbacks();\n",
       "      return null;\n",
       "    }\n",
       "    console.debug(\"Bokeh: BokehJS not loaded, scheduling load and callback at\", now());\n",
       "    root._bokeh_is_loading = css_urls.length + js_urls.length;\n",
       "\n",
       "    function on_load() {\n",
       "      root._bokeh_is_loading--;\n",
       "      if (root._bokeh_is_loading === 0) {\n",
       "        console.debug(\"Bokeh: all BokehJS libraries/stylesheets loaded\");\n",
       "        run_callbacks()\n",
       "      }\n",
       "    }\n",
       "\n",
       "    function on_error(url) {\n",
       "      console.error(\"failed to load \" + url);\n",
       "    }\n",
       "\n",
       "    for (let i = 0; i < css_urls.length; i++) {\n",
       "      const url = css_urls[i];\n",
       "      const element = document.createElement(\"link\");\n",
       "      element.onload = on_load;\n",
       "      element.onerror = on_error.bind(null, url);\n",
       "      element.rel = \"stylesheet\";\n",
       "      element.type = \"text/css\";\n",
       "      element.href = url;\n",
       "      console.debug(\"Bokeh: injecting link tag for BokehJS stylesheet: \", url);\n",
       "      document.body.appendChild(element);\n",
       "    }\n",
       "\n",
       "    const hashes = {\"https://cdn.bokeh.org/bokeh/release/bokeh-2.3.0.min.js\": \"HjagQp6T0/7bxYTAXbLotF1MLAGWmhkY5siA1Gc/pcEgvgRPtMsRn0gQtMwGKiw1\", \"https://cdn.bokeh.org/bokeh/release/bokeh-widgets-2.3.0.min.js\": \"ZEPPTjL+mdyqgIq+/pl9KTwzji8Kow2NnI3zWY8+sFinWP/SYJ80BnfeJsa45iYj\", \"https://cdn.bokeh.org/bokeh/release/bokeh-tables-2.3.0.min.js\": \"exLqv2ACDRIaV7ZK1iL8aGzGYQvKVuT3U2CT7FsQREBxRah6JrkVCoFy0koY1YqV\"};\n",
       "\n",
       "    for (let i = 0; i < js_urls.length; i++) {\n",
       "      const url = js_urls[i];\n",
       "      const element = document.createElement('script');\n",
       "      element.onload = on_load;\n",
       "      element.onerror = on_error.bind(null, url);\n",
       "      element.async = false;\n",
       "      element.src = url;\n",
       "      if (url in hashes) {\n",
       "        element.crossOrigin = \"anonymous\";\n",
       "        element.integrity = \"sha384-\" + hashes[url];\n",
       "      }\n",
       "      console.debug(\"Bokeh: injecting script tag for BokehJS library: \", url);\n",
       "      document.head.appendChild(element);\n",
       "    }\n",
       "  };\n",
       "\n",
       "  function inject_raw_css(css) {\n",
       "    const element = document.createElement(\"style\");\n",
       "    element.appendChild(document.createTextNode(css));\n",
       "    document.body.appendChild(element);\n",
       "  }\n",
       "\n",
       "  \n",
       "  var js_urls = [\"https://cdn.bokeh.org/bokeh/release/bokeh-2.3.0.min.js\", \"https://cdn.bokeh.org/bokeh/release/bokeh-widgets-2.3.0.min.js\", \"https://cdn.bokeh.org/bokeh/release/bokeh-tables-2.3.0.min.js\"];\n",
       "  var css_urls = [];\n",
       "  \n",
       "\n",
       "  var inline_js = [\n",
       "    function(Bokeh) {\n",
       "      Bokeh.set_log_level(\"info\");\n",
       "    },\n",
       "    function(Bokeh) {\n",
       "    \n",
       "    \n",
       "    }\n",
       "  ];\n",
       "\n",
       "  function run_inline_js() {\n",
       "    \n",
       "    if (root.Bokeh !== undefined || force === true) {\n",
       "      \n",
       "    for (var i = 0; i < inline_js.length; i++) {\n",
       "      inline_js[i].call(root, root.Bokeh);\n",
       "    }\n",
       "    if (force === true) {\n",
       "        display_loaded();\n",
       "      }} else if (Date.now() < root._bokeh_timeout) {\n",
       "      setTimeout(run_inline_js, 100);\n",
       "    } else if (!root._bokeh_failed_load) {\n",
       "      console.log(\"Bokeh: BokehJS failed to load within specified timeout.\");\n",
       "      root._bokeh_failed_load = true;\n",
       "    } else if (force !== true) {\n",
       "      var cell = $(document.getElementById(\"1002\")).parents('.cell').data().cell;\n",
       "      cell.output_area.append_execute_result(NB_LOAD_WARNING)\n",
       "    }\n",
       "\n",
       "  }\n",
       "\n",
       "  if (root._bokeh_is_loading === 0) {\n",
       "    console.debug(\"Bokeh: BokehJS loaded, going straight to plotting\");\n",
       "    run_inline_js();\n",
       "  } else {\n",
       "    load_libs(css_urls, js_urls, function() {\n",
       "      console.debug(\"Bokeh: BokehJS plotting callback run at\", now());\n",
       "      run_inline_js();\n",
       "    });\n",
       "  }\n",
       "}(window));"
      ],
      "application/vnd.bokehjs_load.v0+json": "\n(function(root) {\n  function now() {\n    return new Date();\n  }\n\n  var force = true;\n\n  if (typeof root._bokeh_onload_callbacks === \"undefined\" || force === true) {\n    root._bokeh_onload_callbacks = [];\n    root._bokeh_is_loading = undefined;\n  }\n\n  \n\n  \n  if (typeof (root._bokeh_timeout) === \"undefined\" || force === true) {\n    root._bokeh_timeout = Date.now() + 5000;\n    root._bokeh_failed_load = false;\n  }\n\n  var NB_LOAD_WARNING = {'data': {'text/html':\n     \"<div style='background-color: #fdd'>\\n\"+\n     \"<p>\\n\"+\n     \"BokehJS does not appear to have successfully loaded. If loading BokehJS from CDN, this \\n\"+\n     \"may be due to a slow or bad network connection. Possible fixes:\\n\"+\n     \"</p>\\n\"+\n     \"<ul>\\n\"+\n     \"<li>re-rerun `output_notebook()` to attempt to load from CDN again, or</li>\\n\"+\n     \"<li>use INLINE resources instead, as so:</li>\\n\"+\n     \"</ul>\\n\"+\n     \"<code>\\n\"+\n     \"from bokeh.resources import INLINE\\n\"+\n     \"output_notebook(resources=INLINE)\\n\"+\n     \"</code>\\n\"+\n     \"</div>\"}};\n\n  function display_loaded() {\n    var el = document.getElementById(\"1002\");\n    if (el != null) {\n      el.textContent = \"BokehJS is loading...\";\n    }\n    if (root.Bokeh !== undefined) {\n      if (el != null) {\n        el.textContent = \"BokehJS \" + root.Bokeh.version + \" successfully loaded.\";\n      }\n    } else if (Date.now() < root._bokeh_timeout) {\n      setTimeout(display_loaded, 100)\n    }\n  }\n\n\n  function run_callbacks() {\n    try {\n      root._bokeh_onload_callbacks.forEach(function(callback) {\n        if (callback != null)\n          callback();\n      });\n    } finally {\n      delete root._bokeh_onload_callbacks\n    }\n    console.debug(\"Bokeh: all callbacks have finished\");\n  }\n\n  function load_libs(css_urls, js_urls, callback) {\n    if (css_urls == null) css_urls = [];\n    if (js_urls == null) js_urls = [];\n\n    root._bokeh_onload_callbacks.push(callback);\n    if (root._bokeh_is_loading > 0) {\n      console.debug(\"Bokeh: BokehJS is being loaded, scheduling callback at\", now());\n      return null;\n    }\n    if (js_urls == null || js_urls.length === 0) {\n      run_callbacks();\n      return null;\n    }\n    console.debug(\"Bokeh: BokehJS not loaded, scheduling load and callback at\", now());\n    root._bokeh_is_loading = css_urls.length + js_urls.length;\n\n    function on_load() {\n      root._bokeh_is_loading--;\n      if (root._bokeh_is_loading === 0) {\n        console.debug(\"Bokeh: all BokehJS libraries/stylesheets loaded\");\n        run_callbacks()\n      }\n    }\n\n    function on_error(url) {\n      console.error(\"failed to load \" + url);\n    }\n\n    for (let i = 0; i < css_urls.length; i++) {\n      const url = css_urls[i];\n      const element = document.createElement(\"link\");\n      element.onload = on_load;\n      element.onerror = on_error.bind(null, url);\n      element.rel = \"stylesheet\";\n      element.type = \"text/css\";\n      element.href = url;\n      console.debug(\"Bokeh: injecting link tag for BokehJS stylesheet: \", url);\n      document.body.appendChild(element);\n    }\n\n    const hashes = {\"https://cdn.bokeh.org/bokeh/release/bokeh-2.3.0.min.js\": \"HjagQp6T0/7bxYTAXbLotF1MLAGWmhkY5siA1Gc/pcEgvgRPtMsRn0gQtMwGKiw1\", \"https://cdn.bokeh.org/bokeh/release/bokeh-widgets-2.3.0.min.js\": \"ZEPPTjL+mdyqgIq+/pl9KTwzji8Kow2NnI3zWY8+sFinWP/SYJ80BnfeJsa45iYj\", \"https://cdn.bokeh.org/bokeh/release/bokeh-tables-2.3.0.min.js\": \"exLqv2ACDRIaV7ZK1iL8aGzGYQvKVuT3U2CT7FsQREBxRah6JrkVCoFy0koY1YqV\"};\n\n    for (let i = 0; i < js_urls.length; i++) {\n      const url = js_urls[i];\n      const element = document.createElement('script');\n      element.onload = on_load;\n      element.onerror = on_error.bind(null, url);\n      element.async = false;\n      element.src = url;\n      if (url in hashes) {\n        element.crossOrigin = \"anonymous\";\n        element.integrity = \"sha384-\" + hashes[url];\n      }\n      console.debug(\"Bokeh: injecting script tag for BokehJS library: \", url);\n      document.head.appendChild(element);\n    }\n  };\n\n  function inject_raw_css(css) {\n    const element = document.createElement(\"style\");\n    element.appendChild(document.createTextNode(css));\n    document.body.appendChild(element);\n  }\n\n  \n  var js_urls = [\"https://cdn.bokeh.org/bokeh/release/bokeh-2.3.0.min.js\", \"https://cdn.bokeh.org/bokeh/release/bokeh-widgets-2.3.0.min.js\", \"https://cdn.bokeh.org/bokeh/release/bokeh-tables-2.3.0.min.js\"];\n  var css_urls = [];\n  \n\n  var inline_js = [\n    function(Bokeh) {\n      Bokeh.set_log_level(\"info\");\n    },\n    function(Bokeh) {\n    \n    \n    }\n  ];\n\n  function run_inline_js() {\n    \n    if (root.Bokeh !== undefined || force === true) {\n      \n    for (var i = 0; i < inline_js.length; i++) {\n      inline_js[i].call(root, root.Bokeh);\n    }\n    if (force === true) {\n        display_loaded();\n      }} else if (Date.now() < root._bokeh_timeout) {\n      setTimeout(run_inline_js, 100);\n    } else if (!root._bokeh_failed_load) {\n      console.log(\"Bokeh: BokehJS failed to load within specified timeout.\");\n      root._bokeh_failed_load = true;\n    } else if (force !== true) {\n      var cell = $(document.getElementById(\"1002\")).parents('.cell').data().cell;\n      cell.output_area.append_execute_result(NB_LOAD_WARNING)\n    }\n\n  }\n\n  if (root._bokeh_is_loading === 0) {\n    console.debug(\"Bokeh: BokehJS loaded, going straight to plotting\");\n    run_inline_js();\n  } else {\n    load_libs(css_urls, js_urls, function() {\n      console.debug(\"Bokeh: BokehJS plotting callback run at\", now());\n      run_inline_js();\n    });\n  }\n}(window));"
     },
     "metadata": {},
     "output_type": "display_data"
    }
   ],
   "source": [
    "import pandas as pd\n",
    "from pprint import pprint as pp\n",
    "from itertools import combinations\n",
    "from pathlib import Path\n",
    "import requests\n",
    "import numpy as np\n",
    "from bokeh.io import output_notebook, curdoc  # output_file\n",
    "from bokeh.plotting import figure, show\n",
    "from bokeh.sampledata.iris import flowers\n",
    "from bokeh.sampledata.iris import flowers as iris_df\n",
    "from bokeh.models import ColumnDataSource, HoverTool, CategoricalColorMapper, Slider, Column, Select\n",
    "from bokeh.models import CheckboxGroup, RadioGroup, Toggle, Button\n",
    "from bokeh.models.widgets import Tabs, Panel\n",
    "from bokeh.layouts import row, column, gridplot, widgetbox\n",
    "from bokeh.palettes import Spectral6\n",
    "from bokeh.themes import Theme\n",
    "import yaml\n",
    "\n",
    "output_notebook()"
   ]
  },
  {
   "cell_type": "markdown",
   "metadata": {},
   "source": [
    "#### Pandas Configuration Options"
   ]
  },
  {
   "cell_type": "code",
   "execution_count": 2,
   "metadata": {},
   "outputs": [],
   "source": [
    "pd.set_option('max_columns', 200)\n",
    "pd.set_option('max_rows', 300)\n",
    "pd.set_option('display.expand_frame_repr', True)"
   ]
  },
  {
   "cell_type": "markdown",
   "metadata": {},
   "source": [
    "#### Functions"
   ]
  },
  {
   "cell_type": "code",
   "execution_count": 3,
   "metadata": {},
   "outputs": [],
   "source": [
    "def create_dir_save_file(dir_path: Path, url: str):\n",
    "    \"\"\"\n",
    "    Check if the path exists and create it if it does not.\n",
    "    Check if the file exists and download it if it does not.\n",
    "    \"\"\"\n",
    "    if not dir_path.parents[0].exists():\n",
    "        dir_path.parents[0].mkdir(parents=True)\n",
    "        print(f'Directory Created: {dir_path.parents[0]}')\n",
    "    else:\n",
    "        print('Directory Exists')\n",
    "        \n",
    "    if not dir_path.exists():\n",
    "        r = requests.get(url, allow_redirects=True)\n",
    "        open(dir_path, 'wb').write(r.content)\n",
    "        print(f'File Created: {dir_path.name}')\n",
    "    else:\n",
    "        print('File Exists')"
   ]
  },
  {
   "cell_type": "code",
   "execution_count": 4,
   "metadata": {},
   "outputs": [],
   "source": [
    "data_dir = Path('data/2020-03-15_interactive_data_visualization_with_bokeh')\n",
    "images_dir = Path('Images/2020-03-15_interactive_data_visualization_with_bokeh')"
   ]
  },
  {
   "cell_type": "markdown",
   "metadata": {},
   "source": [
    "#### Datasets"
   ]
  },
  {
   "cell_type": "code",
   "execution_count": 5,
   "metadata": {},
   "outputs": [],
   "source": [
    "# AAPL Stock\n",
    "aapl_url = 'https://assets.datacamp.com/production/repositories/401/datasets/313eb985cce85923756a128e49d7260a24ce6469/aapl.csv'\n",
    "# Automobile miles per gallon\n",
    "auto_url = 'https://assets.datacamp.com/production/repositories/401/datasets/2a776ae9ef4afc3f3f3d396560288229e160b830/auto-mpg.csv'\n",
    "# Gapminder\n",
    "gap_url = 'https://assets.datacamp.com/production/repositories/401/datasets/09378cc53faec573bcb802dce03b01318108a880/gapminder_tidy.csv'\n",
    "# Blood glucose levels\n",
    "glucose_url = 'https://assets.datacamp.com/production/repositories/401/datasets/edcedae3825e0483a15987248f63f05a674244a6/glucose.csv'\n",
    "# Female literacy and birth rate\n",
    "female_url = 'https://assets.datacamp.com/production/repositories/401/datasets/5aae6591ddd4819dec17e562f206b7840a272151/literacy_birth_rate.csv'\n",
    "# Olympic medals (100m sprint)\n",
    "sprint_url = 'https://assets.datacamp.com/production/repositories/401/datasets/68b7a450b34d1a331d4ebfba22069ce87bb5625d/sprint.csv'\n",
    "# State coordinates\n",
    "state_url = 'https://github.com/trenton3983/DataCamp/blob/master/data/2020-03-15_interactive_data_visualization_with_bokeh/state_coordinates.xlsx?raw=true'"
   ]
  },
  {
   "cell_type": "code",
   "execution_count": 6,
   "metadata": {},
   "outputs": [
    {
     "name": "stdout",
     "output_type": "stream",
     "text": [
      "Directory Exists\n",
      "File Exists\n",
      "Directory Exists\n",
      "File Exists\n",
      "Directory Exists\n",
      "File Exists\n",
      "Directory Exists\n",
      "File Exists\n",
      "Directory Exists\n",
      "File Exists\n",
      "Directory Exists\n",
      "File Exists\n",
      "Directory Exists\n",
      "File Exists\n"
     ]
    }
   ],
   "source": [
    "datasets = [aapl_url, auto_url, gap_url, glucose_url, female_url, sprint_url, state_url]\n",
    "data_paths = list()\n",
    "\n",
    "for data in datasets:\n",
    "    file_name = data.split('/')[-1].replace('?raw=true', '')\n",
    "    data_path = data_dir / file_name\n",
    "    create_dir_save_file(data_path, data)\n",
    "    data_paths.append(data_path)"
   ]
  },
  {
   "cell_type": "markdown",
   "metadata": {},
   "source": [
    "#### DataFrames"
   ]
  },
  {
   "cell_type": "code",
   "execution_count": 7,
   "metadata": {},
   "outputs": [],
   "source": [
    "aapl = pd.read_csv(data_paths[0])\n",
    "aapl.drop('Unnamed: 0', axis=1, inplace=True)\n",
    "aapl['date'] = pd.to_datetime(aapl['date'])\n",
    "auto = pd.read_csv(data_paths[1])\n",
    "gap = pd.read_csv(data_paths[2])\n",
    "gluc = pd.read_csv(data_paths[3])\n",
    "gluc['datetime'] = pd.to_datetime(gluc['datetime'])\n",
    "gluc.set_index('datetime', inplace=True, drop=True)\n",
    "lit = pd.read_csv(data_paths[4])\n",
    "lit = lit.iloc[0:162, :]\n",
    "lit[['female literacy', 'fertility']] = lit[['female literacy', 'fertility']].astype('float')\n",
    "lit.columns = [x.strip() for x in lit.columns]  # Country has a whitespace at the end\n",
    "run = pd.read_csv(data_paths[5])\n",
    "state_coor_dict = {state: pd.read_excel(data_paths[6], sheet_name=state) for state in ['az', 'co', 'nm', 'ut']}"
   ]
  },
  {
   "cell_type": "markdown",
   "metadata": {
    "toc-hr-collapsed": true,
    "toc-nb-collapsed": true
   },
   "source": [
    "# Basic plotting with Bokeh\n",
    "\n",
    "This chapter provides an introduction to basic plotting with Bokeh. You will create your first plots, learn about different data formats Bokeh understands, and make visual customizations for selections and mouse hovering.\n",
    "\n",
    "**What is [Bokeh][1]?**\n",
    "\n",
    "* [Bokeh at a Glance][2]\n",
    "* [Real Python: Interactive Data Visualization in Python With Bokeh][3] by [Christopher Bailey][4]\n",
    "* Interactive visualization, controls, and tools\n",
    "* Versatile and high-level graphics\n",
    "* High-level statistical charts\n",
    "* Streaming, dynamic, large data\n",
    "* For the browser, with or without a server\n",
    "* **No JavaScript**\n",
    "\n",
    "**What you will learn**\n",
    "\n",
    "* Basic plotting with `bokeh.plotting`\n",
    "* Layouts, interactions, and annotations\n",
    "* Statistical charting with `bokeh.charts`\n",
    "* Interactive data applications in the browser\n",
    "* Case Study: A Gapminder explorer\n",
    "\n",
    "\n",
    "  [1]: https://docs.bokeh.org/en/latest/index.html#\n",
    "  [2]: https://bokeh.org/\n",
    "  [3]: https://realpython.com/courses/interactive-data-visualization-python-bokeh/\n",
    "  [4]: https://twitter.com/digiglean"
   ]
  },
  {
   "cell_type": "markdown",
   "metadata": {},
   "source": [
    "## Plotting with glyphs\n",
    "\n",
    "**What are Glyphs**\n",
    "\n",
    "* Visual shapes\n",
    " * circles, squares, triangles\n",
    " * rectangles, lines, wedges\n",
    "* With properties a!ached to data\n",
    " * coordinates (x,y)\n",
    " * size, color, transparency\n",
    " \n",
    "**Typical usage**"
   ]
  },
  {
   "cell_type": "code",
   "execution_count": 8,
   "metadata": {},
   "outputs": [
    {
     "data": {
      "text/html": [
       "\n",
       "\n",
       "\n",
       "\n",
       "\n",
       "\n",
       "  <div class=\"bk-root\" id=\"f350a7f9-b6fb-425b-844d-84d280bfd677\" data-root-id=\"1003\"></div>\n"
      ]
     },
     "metadata": {},
     "output_type": "display_data"
    },
    {
     "data": {
      "application/javascript": [
       "(function(root) {\n",
       "  function embed_document(root) {\n",
       "    \n",
       "  var docs_json = {\"c922d6c2-971e-4d58-8952-cad6aed56e03\":{\"defs\":[{\"extends\":null,\"module\":null,\"name\":\"DataModel\",\"overrides\":[],\"properties\":[]}],\"roots\":{\"references\":[{\"attributes\":{\"below\":[{\"id\":\"1012\"}],\"center\":[{\"id\":\"1015\"},{\"id\":\"1019\"}],\"height\":300,\"left\":[{\"id\":\"1016\"}],\"renderers\":[{\"id\":\"1031\"}],\"title\":{\"id\":\"1033\"},\"toolbar\":{\"id\":\"1024\"},\"width\":400,\"x_range\":{\"id\":\"1004\"},\"x_scale\":{\"id\":\"1008\"},\"y_range\":{\"id\":\"1006\"},\"y_scale\":{\"id\":\"1010\"}},\"id\":\"1003\",\"subtype\":\"Figure\",\"type\":\"Plot\"},{\"attributes\":{},\"id\":\"1033\",\"type\":\"Title\"},{\"attributes\":{\"axis\":{\"id\":\"1012\"},\"ticker\":null},\"id\":\"1015\",\"type\":\"Grid\"},{\"attributes\":{},\"id\":\"1038\",\"type\":\"BasicTickFormatter\"},{\"attributes\":{\"axis\":{\"id\":\"1016\"},\"dimension\":1,\"ticker\":null},\"id\":\"1019\",\"type\":\"Grid\"},{\"attributes\":{\"source\":{\"id\":\"1028\"}},\"id\":\"1032\",\"type\":\"CDSView\"},{\"attributes\":{},\"id\":\"1013\",\"type\":\"BasicTicker\"},{\"attributes\":{\"fill_alpha\":{\"value\":0.1},\"fill_color\":{\"value\":\"#1f77b4\"},\"line_alpha\":{\"value\":0.1},\"line_color\":{\"value\":\"#1f77b4\"},\"x\":{\"field\":\"x\"},\"y\":{\"field\":\"y\"}},\"id\":\"1030\",\"type\":\"Circle\"},{\"attributes\":{},\"id\":\"1010\",\"type\":\"LinearScale\"},{\"attributes\":{\"data\":{\"x\":[1,2,3,4,5],\"y\":[8,6,5,2,3]},\"selected\":{\"id\":\"1042\"},\"selection_policy\":{\"id\":\"1041\"}},\"id\":\"1028\",\"type\":\"ColumnDataSource\"},{\"attributes\":{},\"id\":\"1008\",\"type\":\"LinearScale\"},{\"attributes\":{\"formatter\":{\"id\":\"1038\"},\"major_label_policy\":{\"id\":\"1039\"},\"ticker\":{\"id\":\"1013\"}},\"id\":\"1012\",\"type\":\"LinearAxis\"},{\"attributes\":{},\"id\":\"1041\",\"type\":\"UnionRenderers\"},{\"attributes\":{\"formatter\":{\"id\":\"1035\"},\"major_label_policy\":{\"id\":\"1036\"},\"ticker\":{\"id\":\"1017\"}},\"id\":\"1016\",\"type\":\"LinearAxis\"},{\"attributes\":{},\"id\":\"1036\",\"type\":\"AllLabels\"},{\"attributes\":{},\"id\":\"1006\",\"type\":\"DataRange1d\"},{\"attributes\":{},\"id\":\"1004\",\"type\":\"DataRange1d\"},{\"attributes\":{},\"id\":\"1022\",\"type\":\"ResetTool\"},{\"attributes\":{\"overlay\":{\"id\":\"1023\"}},\"id\":\"1021\",\"type\":\"BoxZoomTool\"},{\"attributes\":{},\"id\":\"1035\",\"type\":\"BasicTickFormatter\"},{\"attributes\":{},\"id\":\"1020\",\"type\":\"PanTool\"},{\"attributes\":{},\"id\":\"1039\",\"type\":\"AllLabels\"},{\"attributes\":{},\"id\":\"1042\",\"type\":\"Selection\"},{\"attributes\":{\"active_multi\":null,\"tools\":[{\"id\":\"1020\"},{\"id\":\"1021\"},{\"id\":\"1022\"}]},\"id\":\"1024\",\"type\":\"Toolbar\"},{\"attributes\":{\"fill_color\":{\"value\":\"#1f77b4\"},\"line_color\":{\"value\":\"#1f77b4\"},\"x\":{\"field\":\"x\"},\"y\":{\"field\":\"y\"}},\"id\":\"1029\",\"type\":\"Circle\"},{\"attributes\":{\"data_source\":{\"id\":\"1028\"},\"glyph\":{\"id\":\"1029\"},\"hover_glyph\":null,\"muted_glyph\":null,\"nonselection_glyph\":{\"id\":\"1030\"},\"view\":{\"id\":\"1032\"}},\"id\":\"1031\",\"type\":\"GlyphRenderer\"},{\"attributes\":{\"bottom_units\":\"screen\",\"fill_alpha\":0.5,\"fill_color\":\"lightgrey\",\"left_units\":\"screen\",\"level\":\"overlay\",\"line_alpha\":1.0,\"line_color\":\"black\",\"line_dash\":[4,4],\"line_width\":2,\"right_units\":\"screen\",\"syncable\":false,\"top_units\":\"screen\"},\"id\":\"1023\",\"type\":\"BoxAnnotation\"},{\"attributes\":{},\"id\":\"1017\",\"type\":\"BasicTicker\"}],\"root_ids\":[\"1003\"]},\"title\":\"Bokeh Application\",\"version\":\"2.3.0\"}};\n",
       "  var render_items = [{\"docid\":\"c922d6c2-971e-4d58-8952-cad6aed56e03\",\"root_ids\":[\"1003\"],\"roots\":{\"1003\":\"f350a7f9-b6fb-425b-844d-84d280bfd677\"}}];\n",
       "  root.Bokeh.embed.embed_items_notebook(docs_json, render_items);\n",
       "\n",
       "  }\n",
       "  if (root.Bokeh !== undefined) {\n",
       "    embed_document(root);\n",
       "  } else {\n",
       "    var attempts = 0;\n",
       "    var timer = setInterval(function(root) {\n",
       "      if (root.Bokeh !== undefined) {\n",
       "        clearInterval(timer);\n",
       "        embed_document(root);\n",
       "      } else {\n",
       "        attempts++;\n",
       "        if (attempts > 100) {\n",
       "          clearInterval(timer);\n",
       "          console.log(\"Bokeh: ERROR: Unable to run BokehJS code because BokehJS library is missing\");\n",
       "        }\n",
       "      }\n",
       "    }, 10, root)\n",
       "  }\n",
       "})(window);"
      ],
      "application/vnd.bokehjs_exec.v0+json": ""
     },
     "metadata": {
      "application/vnd.bokehjs_exec.v0+json": {
       "id": "1003"
      }
     },
     "output_type": "display_data"
    }
   ],
   "source": [
    "plot = figure(plot_height=300, plot_width=400, tools='pan,box_zoom,reset')\n",
    "plot.circle([1, 2, 3, 4, 5], [8, 6, 5, 2, 3])\n",
    "# output_file('circle.html')\n",
    "show(plot)"
   ]
  },
  {
   "cell_type": "markdown",
   "metadata": {},
   "source": [
    "**Glyph properties**\n",
    "\n",
    "* Lists, arrays, sequences of values\n",
    "* Single fixed values"
   ]
  },
  {
   "cell_type": "code",
   "execution_count": 9,
   "metadata": {},
   "outputs": [
    {
     "data": {
      "text/html": [
       "\n",
       "\n",
       "\n",
       "\n",
       "\n",
       "\n",
       "  <div class=\"bk-root\" id=\"fac8675c-90e0-4312-8682-ceccced3ec83\" data-root-id=\"1099\"></div>\n"
      ]
     },
     "metadata": {},
     "output_type": "display_data"
    },
    {
     "data": {
      "application/javascript": [
       "(function(root) {\n",
       "  function embed_document(root) {\n",
       "    \n",
       "  var docs_json = {\"79c432c7-78ea-4e80-98a9-d6d3b00bdbd9\":{\"defs\":[{\"extends\":null,\"module\":null,\"name\":\"DataModel\",\"overrides\":[],\"properties\":[]}],\"roots\":{\"references\":[{\"attributes\":{\"below\":[{\"id\":\"1108\"}],\"center\":[{\"id\":\"1111\"},{\"id\":\"1115\"}],\"height\":400,\"left\":[{\"id\":\"1112\"}],\"renderers\":[{\"id\":\"1133\"}],\"title\":{\"id\":\"1146\"},\"toolbar\":{\"id\":\"1123\"},\"width\":400,\"x_range\":{\"id\":\"1100\"},\"x_scale\":{\"id\":\"1104\"},\"y_range\":{\"id\":\"1102\"},\"y_scale\":{\"id\":\"1106\"}},\"id\":\"1099\",\"subtype\":\"Figure\",\"type\":\"Plot\"},{\"attributes\":{},\"id\":\"1148\",\"type\":\"BasicTickFormatter\"},{\"attributes\":{},\"id\":\"1113\",\"type\":\"BasicTicker\"},{\"attributes\":{},\"id\":\"1121\",\"type\":\"HelpTool\"},{\"attributes\":{\"axis\":{\"id\":\"1112\"},\"dimension\":1,\"ticker\":null},\"id\":\"1115\",\"type\":\"Grid\"},{\"attributes\":{\"fill_color\":{\"value\":\"#1f77b4\"},\"line_color\":{\"value\":\"#1f77b4\"},\"size\":{\"field\":\"size\"},\"x\":{\"value\":10},\"y\":{\"field\":\"y\"}},\"id\":\"1131\",\"type\":\"Circle\"},{\"attributes\":{},\"id\":\"1120\",\"type\":\"ResetTool\"},{\"attributes\":{\"fill_alpha\":{\"value\":0.1},\"fill_color\":{\"value\":\"#1f77b4\"},\"line_alpha\":{\"value\":0.1},\"line_color\":{\"value\":\"#1f77b4\"},\"size\":{\"field\":\"size\"},\"x\":{\"value\":10},\"y\":{\"field\":\"y\"}},\"id\":\"1132\",\"type\":\"Circle\"},{\"attributes\":{\"source\":{\"id\":\"1130\"}},\"id\":\"1134\",\"type\":\"CDSView\"},{\"attributes\":{\"bottom_units\":\"screen\",\"fill_alpha\":0.5,\"fill_color\":\"lightgrey\",\"left_units\":\"screen\",\"level\":\"overlay\",\"line_alpha\":1.0,\"line_color\":\"black\",\"line_dash\":[4,4],\"line_width\":2,\"right_units\":\"screen\",\"syncable\":false,\"top_units\":\"screen\"},\"id\":\"1122\",\"type\":\"BoxAnnotation\"},{\"attributes\":{\"data_source\":{\"id\":\"1130\"},\"glyph\":{\"id\":\"1131\"},\"hover_glyph\":null,\"muted_glyph\":null,\"nonselection_glyph\":{\"id\":\"1132\"},\"view\":{\"id\":\"1134\"}},\"id\":\"1133\",\"type\":\"GlyphRenderer\"},{\"attributes\":{},\"id\":\"1119\",\"type\":\"SaveTool\"},{\"attributes\":{},\"id\":\"1117\",\"type\":\"WheelZoomTool\"},{\"attributes\":{\"formatter\":{\"id\":\"1148\"},\"major_label_policy\":{\"id\":\"1149\"},\"ticker\":{\"id\":\"1113\"}},\"id\":\"1112\",\"type\":\"LinearAxis\"},{\"attributes\":{},\"id\":\"1109\",\"type\":\"BasicTicker\"},{\"attributes\":{\"active_multi\":null,\"tools\":[{\"id\":\"1116\"},{\"id\":\"1117\"},{\"id\":\"1118\"},{\"id\":\"1119\"},{\"id\":\"1120\"},{\"id\":\"1121\"}]},\"id\":\"1123\",\"type\":\"Toolbar\"},{\"attributes\":{\"overlay\":{\"id\":\"1122\"}},\"id\":\"1118\",\"type\":\"BoxZoomTool\"},{\"attributes\":{},\"id\":\"1116\",\"type\":\"PanTool\"},{\"attributes\":{},\"id\":\"1155\",\"type\":\"Selection\"},{\"attributes\":{},\"id\":\"1146\",\"type\":\"Title\"},{\"attributes\":{\"axis\":{\"id\":\"1108\"},\"ticker\":null},\"id\":\"1111\",\"type\":\"Grid\"},{\"attributes\":{},\"id\":\"1102\",\"type\":\"DataRange1d\"},{\"attributes\":{},\"id\":\"1149\",\"type\":\"AllLabels\"},{\"attributes\":{\"formatter\":{\"id\":\"1151\"},\"major_label_policy\":{\"id\":\"1152\"},\"ticker\":{\"id\":\"1109\"}},\"id\":\"1108\",\"type\":\"LinearAxis\"},{\"attributes\":{},\"id\":\"1151\",\"type\":\"BasicTickFormatter\"},{\"attributes\":{},\"id\":\"1100\",\"type\":\"DataRange1d\"},{\"attributes\":{},\"id\":\"1152\",\"type\":\"AllLabels\"},{\"attributes\":{},\"id\":\"1154\",\"type\":\"UnionRenderers\"},{\"attributes\":{\"data\":{\"size\":[10,20,30,40],\"y\":[2,5,8,12]},\"selected\":{\"id\":\"1155\"},\"selection_policy\":{\"id\":\"1154\"}},\"id\":\"1130\",\"type\":\"ColumnDataSource\"},{\"attributes\":{},\"id\":\"1104\",\"type\":\"LinearScale\"},{\"attributes\":{},\"id\":\"1106\",\"type\":\"LinearScale\"}],\"root_ids\":[\"1099\"]},\"title\":\"Bokeh Application\",\"version\":\"2.3.0\"}};\n",
       "  var render_items = [{\"docid\":\"79c432c7-78ea-4e80-98a9-d6d3b00bdbd9\",\"root_ids\":[\"1099\"],\"roots\":{\"1099\":\"fac8675c-90e0-4312-8682-ceccced3ec83\"}}];\n",
       "  root.Bokeh.embed.embed_items_notebook(docs_json, render_items);\n",
       "\n",
       "  }\n",
       "  if (root.Bokeh !== undefined) {\n",
       "    embed_document(root);\n",
       "  } else {\n",
       "    var attempts = 0;\n",
       "    var timer = setInterval(function(root) {\n",
       "      if (root.Bokeh !== undefined) {\n",
       "        clearInterval(timer);\n",
       "        embed_document(root);\n",
       "      } else {\n",
       "        attempts++;\n",
       "        if (attempts > 100) {\n",
       "          clearInterval(timer);\n",
       "          console.log(\"Bokeh: ERROR: Unable to run BokehJS code because BokehJS library is missing\");\n",
       "        }\n",
       "      }\n",
       "    }, 10, root)\n",
       "  }\n",
       "})(window);"
      ],
      "application/vnd.bokehjs_exec.v0+json": ""
     },
     "metadata": {
      "application/vnd.bokehjs_exec.v0+json": {
       "id": "1099"
      }
     },
     "output_type": "display_data"
    }
   ],
   "source": [
    "plot = figure(plot_height=400, plot_width=400, )\n",
    "plot.circle(x=10, y=[2, 5, 8, 12], size=[10, 20, 30, 40])\n",
    "show(plot)"
   ]
  },
  {
   "cell_type": "markdown",
   "metadata": {},
   "source": [
    "**Markers**\n",
    "\n",
    "* asterisk()\n",
    "* circle()\n",
    "* circle_cross()\n",
    "* circle_x()\n",
    "* cross()\n",
    "* diamond()\n",
    "* diamond_cross()\n",
    "* inverted_triangle()\n",
    "* square()\n",
    "* square_cross()\n",
    "* square_x()\n",
    "* triangle()\n",
    "* x()"
   ]
  },
  {
   "cell_type": "markdown",
   "metadata": {},
   "source": [
    "### What are glyphs?\n",
    "\n",
    "In Bokeh, visual properties of shapes are called glyphs. The visual properties of these glyphs such as position or color can be assigned single values, for example `x=10` or `fill_color='red'`.\n",
    "\n",
    "What other kinds of values can glyph properties be set to in normal usage?\n",
    "\n",
    "**Answer the question**\n",
    "\n",
    "* ~~Dictionaries~~\n",
    "* **Sequences (lists, arrays): Multiple glyphs can be drawn by setting glyph properties to ordered sequences of values.**\n",
    "* ~~Sets~~"
   ]
  },
  {
   "cell_type": "markdown",
   "metadata": {},
   "source": [
    "### A simple scatter plot\n",
    "\n",
    "In this example, you're going to make a scatter plot of female literacy vs fertility using data from the [European Environmental Agency][1]. This dataset highlights that countries with low female literacy have high birthrates. The x-axis data has been loaded for you as `fertility` and the y-axis data has been loaded as `female_literacy`.\n",
    "\n",
    "Your job is to create a figure, assign x-axis and y-axis labels, and plot `female_literacy` vs `fertility` using the circle glyph.\n",
    "\n",
    "After you have created the figure, in this exercise and the ones to follow, play around with it! Explore the different options available to you on the tab to the right, such as \"Pan\", \"Box Zoom\", and \"Wheel Zoom\". You can click on the question mark sign for more details on any of these tools.\n",
    "\n",
    "Note: You may have to scroll down to view the lower portion of the figure.\n",
    "\n",
    "**Instructions**\n",
    "\n",
    "* Import the `figure` function from `bokeh.plotting`, and the `output_file` and `show` functions from `bokeh.io`.\n",
    "* Create the figure `p` with `figure()`. It has two parameters: `x_axis_label` and `y_axis_label`.\n",
    "* Add a circle glyph to the figure `p` using the function `p.circle()` where the inputs are, in order, the x-axis data and y-axis data.\n",
    "* Use the `output_file()` function to specify the name `'fert_lit.html'` for the output file.\n",
    "* Create and display the output file using `show()` and passing in the figure `p`.\n",
    "\n",
    "  [1]: http://www.eea.europa.eu/data-and-maps/figures/correlation-between-fertility-and-female-education"
   ]
  },
  {
   "cell_type": "code",
   "execution_count": 10,
   "metadata": {},
   "outputs": [
    {
     "data": {
      "text/html": [
       "\n",
       "\n",
       "\n",
       "\n",
       "\n",
       "\n",
       "  <div class=\"bk-root\" id=\"70e77416-d7f1-436c-bd2e-289e79d10db1\" data-root-id=\"1212\"></div>\n"
      ]
     },
     "metadata": {},
     "output_type": "display_data"
    },
    {
     "data": {
      "application/javascript": [
       "(function(root) {\n",
       "  function embed_document(root) {\n",
       "    \n",
       "  var docs_json = {\"4dd34ad3-4581-4aa2-8717-c04c183bcdd6\":{\"defs\":[{\"extends\":null,\"module\":null,\"name\":\"DataModel\",\"overrides\":[],\"properties\":[]}],\"roots\":{\"references\":[{\"attributes\":{\"below\":[{\"id\":\"1221\"}],\"center\":[{\"id\":\"1224\"},{\"id\":\"1228\"}],\"height\":300,\"left\":[{\"id\":\"1225\"}],\"renderers\":[{\"id\":\"1246\"}],\"title\":{\"id\":\"1270\"},\"toolbar\":{\"id\":\"1236\"},\"x_range\":{\"id\":\"1213\"},\"x_scale\":{\"id\":\"1217\"},\"y_range\":{\"id\":\"1215\"},\"y_scale\":{\"id\":\"1219\"}},\"id\":\"1212\",\"subtype\":\"Figure\",\"type\":\"Plot\"},{\"attributes\":{\"active_multi\":null,\"tools\":[{\"id\":\"1229\"},{\"id\":\"1230\"},{\"id\":\"1231\"},{\"id\":\"1232\"},{\"id\":\"1233\"},{\"id\":\"1234\"}]},\"id\":\"1236\",\"type\":\"Toolbar\"},{\"attributes\":{},\"id\":\"1276\",\"type\":\"AllLabels\"},{\"attributes\":{},\"id\":\"1275\",\"type\":\"BasicTickFormatter\"},{\"attributes\":{},\"id\":\"1272\",\"type\":\"BasicTickFormatter\"},{\"attributes\":{\"axis\":{\"id\":\"1225\"},\"dimension\":1,\"ticker\":null},\"id\":\"1228\",\"type\":\"Grid\"},{\"attributes\":{},\"id\":\"1233\",\"type\":\"ResetTool\"},{\"attributes\":{\"bottom_units\":\"screen\",\"fill_alpha\":0.5,\"fill_color\":\"lightgrey\",\"left_units\":\"screen\",\"level\":\"overlay\",\"line_alpha\":1.0,\"line_color\":\"black\",\"line_dash\":[4,4],\"line_width\":2,\"right_units\":\"screen\",\"syncable\":false,\"top_units\":\"screen\"},\"id\":\"1235\",\"type\":\"BoxAnnotation\"},{\"attributes\":{\"axis_label\":\"female_literacy (% population)\",\"formatter\":{\"id\":\"1272\"},\"major_label_policy\":{\"id\":\"1273\"},\"ticker\":{\"id\":\"1226\"}},\"id\":\"1225\",\"type\":\"LinearAxis\"},{\"attributes\":{\"axis\":{\"id\":\"1221\"},\"ticker\":null},\"id\":\"1224\",\"type\":\"Grid\"},{\"attributes\":{},\"id\":\"1278\",\"type\":\"UnionRenderers\"},{\"attributes\":{},\"id\":\"1226\",\"type\":\"BasicTicker\"},{\"attributes\":{},\"id\":\"1279\",\"type\":\"Selection\"},{\"attributes\":{\"data_source\":{\"id\":\"1243\"},\"glyph\":{\"id\":\"1244\"},\"hover_glyph\":null,\"muted_glyph\":null,\"nonselection_glyph\":{\"id\":\"1245\"},\"view\":{\"id\":\"1247\"}},\"id\":\"1246\",\"type\":\"GlyphRenderer\"},{\"attributes\":{},\"id\":\"1230\",\"type\":\"WheelZoomTool\"},{\"attributes\":{},\"id\":\"1229\",\"type\":\"PanTool\"},{\"attributes\":{},\"id\":\"1219\",\"type\":\"LinearScale\"},{\"attributes\":{\"fill_color\":{\"value\":\"#1f77b4\"},\"line_color\":{\"value\":\"#1f77b4\"},\"x\":{\"field\":\"x\"},\"y\":{\"field\":\"y\"}},\"id\":\"1244\",\"type\":\"Circle\"},{\"attributes\":{},\"id\":\"1270\",\"type\":\"Title\"},{\"attributes\":{\"data\":{\"x\":{\"__ndarray__\":\"5/up8dJN/D/b+X5qvHQFQARWDi2ynQBAdZMYBFYOAUAIrBxaZDv9P2Dl0CLb+Q5A5/up8dJNAkD+1HjpJrEUQH0/NV66SfY//tR46SYx9D9zaJHtfD8BQGiR7Xw/NQhA3SQGgZVDAEDJdr6fGi/1P7pJDAIrhwZA8tJNYhDYFEDNzMzMzMwAQOXQItv5fvw/9P3UeOkm/T9vEoPAyqEXQH9qvHSTGP4/bxKDwMqh/T89CtejcD32P3Noke18PwJACtejcD0KBEAv3SQGgZXzPy2yne+nxvU/sHJoke189z8IrBxaZDsDQBSuR+F6FBZACKwcWmQ7EEBiEFg5tMgBQFYOLbKdbxNAEoPAyqFF9D8j2/l+arwCQN0kBoGVQ/k/arx0kxgEGUB56SYxCKwCQOOlm8QgsA9AhetRuB4FGkA9CtejcD0EQC/dJAaBlQZAlkOLbOf7A0CWQ4ts5/sBQKrx0k1iEARAUrgehetRCEBEi2zn+6n9P+F6FK5H4RBAZmZmZmZmFECR7Xw/Nd4TQDMzMzMzM/U/dZMYBFYOEkD8qfHSTWIJQBBYObTIdgJAexSuR+F6EkBEi2zn+ykSQD81XrpJjBZAN4lBYOXQ/j/ByqFFtvP7PycxCKwcWgJAd76fGi9dF0BSuB6F69EVQC2yne+nRhxArBxaZDvfBkDfT42XbhIQQLTIdr6fGgRAH4XrUbieFUCmm8QgsPIWQIGVQ4ts5wpAj8L1KFyPE0ApXI/C9Sj2PxSuR+F6FPg/bef7qfFSGEAlBoGVQ4v8Pz81XrpJDPY/MzMzMzMz9z/b+X5qvHT9P+xRuB6F6/U/TDeJQWDlBEA3iUFg5VAVQFK4HoXrURVAK4cW2c73CkDl0CLb+X70P1YOLbKd7/0/001iEFg5AUBQjZduEoMVQM3MzMzMzBFAXI/C9Shc9z9g5dAi2/n2P5huEoPAyvk/hetRuB6FCUBqvHSTGAQGQM3MzMzMzApACtejcD0KEEBEi2zn+6kQQIlBYOXQIgVAN4lBYOXQB0BSuB6F61ELQFyPwvUoXAJA9P3UeOkmCEAQWDm0yHYFQClcj8L1qBRAL90kBoGV/T/HSzeJQWD9P76fGi/dJARAcT0K16NwA0DpJjEIrBwSQGiR7Xw/NfQ/KVyPwvUo/j9KDAIrhxb/P/yp8dJNYv4/30+Nl24S9z9zaJHtfD//P30/NV66yRJAHVpkO99P+T8zMzMzMzMAQNv5fmq8dP0/JQaBlUMLFEAxCKwcWmTzP9V46SYxCPg/VOOlm8QgBECsHFpkO9/1P4PAyqFFtgBAWmQ730+NEUBEi2zn+6n9PyuHFtnO9/s/bef7qfHSB0Ce76fGSzcBQEw3iUFg5QJAAiuHFtnO/z83iUFg5dD2P1K4HoXrUQpA6SYxCKwcCkBg5dAi2/n2P30/NV66SfY/+n5qvHSTBkDHSzeJQeATQIlBYOXQohZA7FG4HoXrCUBKDAIrhxb7PycxCKwcWvo/4XoUrkfhAkB56SYxCKz8P5qZmZmZmQtAqMZLN4lB+D93vp8aL90BQBsv3SQGgQRAbxKDwMohFUAUrkfhehQPQLbz/dR46e4/lkOLbOf7AkDn+6nx0k0FQGq8dJMYBPQ/0SLb+X5qAEArhxbZzvcKQFg5tMh2vgBAAAAAAAAAAECq8dJNYhAPQDeJQWDl0A5AWDm0yHa+DUCDwMqhRbb7PwaBlUOLbA9A\",\"dtype\":\"float64\",\"order\":\"little\",\"shape\":[162]},\"y\":{\"__ndarray__\":\"AAAAAACgVkBmZmZmZmZJQAAAAAAAwFhAMzMzMzMzVkDNzMzMzIxWQAAAAAAAAERAZmZmZmbmSEBmZmZmZmZIQJqZmZmZ2VhAAAAAAADAWEAAAAAAAOBWQJqZmZmZeVdAzczMzMyMVkAAAAAAAMBYQGZmZmZm5kxAzczMzMzMNkAzMzMzM1NUQM3MzMzMTFNAAAAAAADgVkDNzMzMzAxMQAAAAAAAwFhAAAAAAADAWEAAAAAAAKBYQM3MzMzMTFZAZmZmZmYGVkBmZmZmZiZYQGZmZmZm5lhAmpmZmZk5WECamZmZmVlXQDMzMzMzk1BAzczMzMzMTUDNzMzMzGxYQDMzMzMzs1RAMzMzMzPTWEAzMzMzM/NPQAAAAAAAwFhAMzMzMzOzUEDNzMzMzAxGQM3MzMzMTFFAMzMzMzMzKUBmZmZmZiZVQDMzMzMzs0ZAmpmZmZm5V0CamZmZmblYQDMzMzMzc1ZAzczMzMwMVEAAAAAAAABZQGZmZmZmpk1AZmZmZmZmRUDNzMzMzAxEQJqZmZmZOVhAZmZmZmYmRkDNzMzMzExTQGZmZmZmRlZAMzMzMzNTUEAzMzMzM/NQQAAAAAAAgExAzczMzMysWEAAAAAAAMBYQAAAAAAA4FhAmpmZmZmZNUAzMzMzM3NQQDMzMzMzMy5AmpmZmZm5UUDNzMzMzCxRQM3MzMzMbFRAMzMzMzMzMkAAAAAAAIBOQDMzMzMzM1ZAAAAAAACAQECamZmZmflXQDMzMzMz81hAZmZmZmbmNUAAAAAAAMBYQJqZmZmZOVdAAAAAAADAWEAAAAAAAMBRQJqZmZmZuVhAMzMzMzMTVkBmZmZmZmY6QGZmZmZmhlBAAAAAAACAVUDNzMzMzOxYQAAAAAAAwFhAzczMzMzMWECamZmZmRk8QDMzMzMz801AAAAAAADAWECamZmZmXlYQM3MzMzMDFhAAAAAAADgVECamZmZmflXQAAAAAAA4FhAzczMzMzMS0CamZmZmdlKQDMzMzMzU1RAAAAAAABgV0CamZmZmZlPQJqZmZmZWVRAmpmZmZk5VkCamZmZmXlTQGZmZmZm5jxAAAAAAADAWEAAAAAAAABZQGZmZmZmxlhAMzMzMzPTWEAAAAAAAEBLQGZmZmZm5lZAAAAAAAAAWUDNzMzMzAxYQAAAAAAA4FZAAAAAAACAWEAAAAAAAMBYQM3MzMzMjERAzczMzMzsWEAAAAAAAMBYQAAAAAAAgFVAAAAAAACASkCamZmZmflXQDMzMzMzc1hAMzMzMzMzV0DNzMzMzOxYQAAAAAAAoFhAAAAAAADASEDNzMzMzKxYQJqZmZmZ2VhAmpmZmZk5VEBmZmZmZkZXQDMzMzMzs1ZAMzMzMzNzWEAzMzMzM/NYQM3MzMzM7FVAZmZmZmbGV0CamZmZmdlXQM3MzMzM7FhAAAAAAADgVEBmZmZmZiZBQAAAAAAAQEJAzczMzMzMVEAzMzMzM/NYQM3MzMzMjFhAmpmZmZmZVkAzMzMzMzNVQGZmZmZmZlVAzczMzMwsWECamZmZmVlWQJqZmZmZWUNAZmZmZmZGVkAzMzMzM/NQQM3MzMzMrFZAmpmZmZkZVkAzMzMzM9NTQAAAAAAAYFdAMzMzMzNTV0AAAAAAACBYQAAAAAAAwFhAmpmZmZmZWEAAAAAAAOBTQAAAAAAAoFhAMzMzMzPTVEAAAAAAAIBYQGZmZmZmxlhA\",\"dtype\":\"float64\",\"order\":\"little\",\"shape\":[162]}},\"selected\":{\"id\":\"1279\"},\"selection_policy\":{\"id\":\"1278\"}},\"id\":\"1243\",\"type\":\"ColumnDataSource\"},{\"attributes\":{\"axis_label\":\"fertility (children per woman)\",\"formatter\":{\"id\":\"1275\"},\"major_label_policy\":{\"id\":\"1276\"},\"ticker\":{\"id\":\"1222\"}},\"id\":\"1221\",\"type\":\"LinearAxis\"},{\"attributes\":{},\"id\":\"1213\",\"type\":\"DataRange1d\"},{\"attributes\":{},\"id\":\"1215\",\"type\":\"DataRange1d\"},{\"attributes\":{\"overlay\":{\"id\":\"1235\"}},\"id\":\"1231\",\"type\":\"BoxZoomTool\"},{\"attributes\":{},\"id\":\"1217\",\"type\":\"LinearScale\"},{\"attributes\":{\"fill_alpha\":{\"value\":0.1},\"fill_color\":{\"value\":\"#1f77b4\"},\"line_alpha\":{\"value\":0.1},\"line_color\":{\"value\":\"#1f77b4\"},\"x\":{\"field\":\"x\"},\"y\":{\"field\":\"y\"}},\"id\":\"1245\",\"type\":\"Circle\"},{\"attributes\":{},\"id\":\"1234\",\"type\":\"HelpTool\"},{\"attributes\":{},\"id\":\"1232\",\"type\":\"SaveTool\"},{\"attributes\":{},\"id\":\"1273\",\"type\":\"AllLabels\"},{\"attributes\":{\"source\":{\"id\":\"1243\"}},\"id\":\"1247\",\"type\":\"CDSView\"},{\"attributes\":{},\"id\":\"1222\",\"type\":\"BasicTicker\"}],\"root_ids\":[\"1212\"]},\"title\":\"Bokeh Application\",\"version\":\"2.3.0\"}};\n",
       "  var render_items = [{\"docid\":\"4dd34ad3-4581-4aa2-8717-c04c183bcdd6\",\"root_ids\":[\"1212\"],\"roots\":{\"1212\":\"70e77416-d7f1-436c-bd2e-289e79d10db1\"}}];\n",
       "  root.Bokeh.embed.embed_items_notebook(docs_json, render_items);\n",
       "\n",
       "  }\n",
       "  if (root.Bokeh !== undefined) {\n",
       "    embed_document(root);\n",
       "  } else {\n",
       "    var attempts = 0;\n",
       "    var timer = setInterval(function(root) {\n",
       "      if (root.Bokeh !== undefined) {\n",
       "        clearInterval(timer);\n",
       "        embed_document(root);\n",
       "      } else {\n",
       "        attempts++;\n",
       "        if (attempts > 100) {\n",
       "          clearInterval(timer);\n",
       "          console.log(\"Bokeh: ERROR: Unable to run BokehJS code because BokehJS library is missing\");\n",
       "        }\n",
       "      }\n",
       "    }, 10, root)\n",
       "  }\n",
       "})(window);"
      ],
      "application/vnd.bokehjs_exec.v0+json": ""
     },
     "metadata": {
      "application/vnd.bokehjs_exec.v0+json": {
       "id": "1212"
      }
     },
     "output_type": "display_data"
    }
   ],
   "source": [
    "fertility = lit['fertility']\n",
    "female_literacy = lit['female literacy']\n",
    "\n",
    "# Create the figure: p\n",
    "p = figure(plot_height=300, x_axis_label='fertility (children per woman)', y_axis_label='female_literacy (% population)')\n",
    "\n",
    "# Add a circle glyph to the figure p\n",
    "p.circle(fertility, female_literacy)\n",
    "\n",
    "# Call the output_file() function and specify the name of the file\n",
    "# output_file('fert_lit.html')\n",
    "\n",
    "# Display the plot\n",
    "show(p)"
   ]
  },
  {
   "cell_type": "markdown",
   "metadata": {},
   "source": [
    "### A scatter plot with different shapes\n",
    "\n",
    "By calling multiple glyph functions on the same figure object, we can overlay multiple data sets in the same figure.\n",
    "\n",
    "In this exercise, you will plot female literacy vs fertility for two different regions, Africa and Latin America. Each set of x and y data has been loaded separately for you as `fertility_africa`, `female_literacy_africa`, `fertility_latinamerica`, and `female_literacy_latinamerica`.\n",
    "\n",
    "Your job is to plot the Latin America data with the `circle()` glyph, and the Africa data with the `x()` glyph.\n",
    "\n",
    "figure has already been imported for you from `bokeh.plotting`.\n",
    "\n",
    "**Instructions**\n",
    "\n",
    "* Create the figure `p` with the `figure()` function. It has two parameters: `x_axis_label` and `_axis_label`.\n",
    "* Add a circle glyph to the figure `p` using the function `p.circle()` where the inputs are the x and y data from Latin America: `fertility_latinamerica` and `female_literacy_latinamerica`.\n",
    "* Add an x glyph to the figure `p` using the function `p.x()` where the inputs are the x and y data from Africa: `fertility_africa` and `female_literacy_africa`.\n",
    "* The code to create, display, and specify the name of the output file has been written for you, so after adding the x glyph, hit 'Submit Answer' to view the figure."
   ]
  },
  {
   "cell_type": "code",
   "execution_count": 11,
   "metadata": {},
   "outputs": [
    {
     "data": {
      "text/html": [
       "<div>\n",
       "<style scoped>\n",
       "    .dataframe tbody tr th:only-of-type {\n",
       "        vertical-align: middle;\n",
       "    }\n",
       "\n",
       "    .dataframe tbody tr th {\n",
       "        vertical-align: top;\n",
       "    }\n",
       "\n",
       "    .dataframe thead th {\n",
       "        text-align: right;\n",
       "    }\n",
       "</style>\n",
       "<table border=\"1\" class=\"dataframe\">\n",
       "  <thead>\n",
       "    <tr style=\"text-align: right;\">\n",
       "      <th></th>\n",
       "      <th>Country</th>\n",
       "      <th>Continent</th>\n",
       "      <th>female literacy</th>\n",
       "      <th>fertility</th>\n",
       "      <th>population</th>\n",
       "    </tr>\n",
       "  </thead>\n",
       "  <tbody>\n",
       "    <tr>\n",
       "      <th>0</th>\n",
       "      <td>Chine</td>\n",
       "      <td>ASI</td>\n",
       "      <td>90.5</td>\n",
       "      <td>1.769</td>\n",
       "      <td>1.324655e+09</td>\n",
       "    </tr>\n",
       "    <tr>\n",
       "      <th>1</th>\n",
       "      <td>Inde</td>\n",
       "      <td>ASI</td>\n",
       "      <td>50.8</td>\n",
       "      <td>2.682</td>\n",
       "      <td>1.139965e+09</td>\n",
       "    </tr>\n",
       "    <tr>\n",
       "      <th>2</th>\n",
       "      <td>USA</td>\n",
       "      <td>NAM</td>\n",
       "      <td>99.0</td>\n",
       "      <td>2.077</td>\n",
       "      <td>3.040600e+08</td>\n",
       "    </tr>\n",
       "    <tr>\n",
       "      <th>3</th>\n",
       "      <td>Indonésie</td>\n",
       "      <td>ASI</td>\n",
       "      <td>88.8</td>\n",
       "      <td>2.132</td>\n",
       "      <td>2.273451e+08</td>\n",
       "    </tr>\n",
       "    <tr>\n",
       "      <th>4</th>\n",
       "      <td>Brésil</td>\n",
       "      <td>LAT</td>\n",
       "      <td>90.2</td>\n",
       "      <td>1.827</td>\n",
       "      <td>1.919715e+08</td>\n",
       "    </tr>\n",
       "  </tbody>\n",
       "</table>\n",
       "</div>"
      ],
      "text/plain": [
       "     Country Continent  female literacy  fertility    population\n",
       "0      Chine       ASI             90.5      1.769  1.324655e+09\n",
       "1       Inde       ASI             50.8      2.682  1.139965e+09\n",
       "2        USA       NAM             99.0      2.077  3.040600e+08\n",
       "3  Indonésie       ASI             88.8      2.132  2.273451e+08\n",
       "4     Brésil       LAT             90.2      1.827  1.919715e+08"
      ]
     },
     "execution_count": 11,
     "metadata": {},
     "output_type": "execute_result"
    }
   ],
   "source": [
    "lit.head()"
   ]
  },
  {
   "cell_type": "code",
   "execution_count": 12,
   "metadata": {},
   "outputs": [],
   "source": [
    "fertility_africa = lit[lit.Continent == 'AF']['fertility']\n",
    "fertility_latinamerica = lit[lit.Continent == 'LAT']['fertility']\n",
    "female_literacy_africa = lit[lit.Continent == 'AF']['female literacy']\n",
    "female_literacy_latinamerica = lit[lit.Continent == 'LAT']['female literacy']"
   ]
  },
  {
   "cell_type": "code",
   "execution_count": 13,
   "metadata": {},
   "outputs": [
    {
     "data": {
      "text/html": [
       "\n",
       "\n",
       "\n",
       "\n",
       "\n",
       "\n",
       "  <div class=\"bk-root\" id=\"fd0c19f0-12ab-411f-9235-bd1310b8ff06\" data-root-id=\"1336\"></div>\n"
      ]
     },
     "metadata": {},
     "output_type": "display_data"
    },
    {
     "data": {
      "application/javascript": [
       "(function(root) {\n",
       "  function embed_document(root) {\n",
       "    \n",
       "  var docs_json = {\"d90d0e0e-a783-4109-a29f-378cde1f1873\":{\"defs\":[{\"extends\":null,\"module\":null,\"name\":\"DataModel\",\"overrides\":[],\"properties\":[]}],\"roots\":{\"references\":[{\"attributes\":{\"below\":[{\"id\":\"1345\"}],\"center\":[{\"id\":\"1348\"},{\"id\":\"1352\"}],\"height\":300,\"left\":[{\"id\":\"1349\"}],\"renderers\":[{\"id\":\"1370\"},{\"id\":\"1375\"}],\"title\":{\"id\":\"1410\"},\"toolbar\":{\"id\":\"1360\"},\"x_range\":{\"id\":\"1337\"},\"x_scale\":{\"id\":\"1341\"},\"y_range\":{\"id\":\"1339\"},\"y_scale\":{\"id\":\"1343\"}},\"id\":\"1336\",\"subtype\":\"Figure\",\"type\":\"Plot\"},{\"attributes\":{},\"id\":\"1356\",\"type\":\"SaveTool\"},{\"attributes\":{\"active_multi\":null,\"tools\":[{\"id\":\"1353\"},{\"id\":\"1354\"},{\"id\":\"1355\"},{\"id\":\"1356\"},{\"id\":\"1357\"},{\"id\":\"1358\"}]},\"id\":\"1360\",\"type\":\"Toolbar\"},{\"attributes\":{\"data\":{\"x\":{\"__ndarray__\":\"/tR46SaxFEC6SQwCK4cGQPLSTWIQ2BRAbxKDwMqhF0AK16NwPQoEQBSuR+F6FBZACKwcWmQ7EEBWDi2ynW8TQCPb+X5qvAJAarx0kxgEGUB56SYxCKwCQOF6FK5H4RBAke18PzXeE0B1kxgEVg4SQHsUrkfhehJARIts5/spEkA/NV66SYwWQHe+nxovXRdAUrgehevRFUAtsp3vp0YcQB+F61G4nhVAppvEILDyFkCBlUOLbOcKQI/C9ShcjxNAbef7qfFSGEDb+X5qvHT9PzeJQWDlUBVAUrgehetRFUBQjZduEoMVQM3MzMzMzBFARIts5/upEECJQWDl0CIFQClcj8L1qBRA6SYxCKwcEkB9PzVeuskSQCUGgZVDCxRAWmQ730+NEUBSuB6F61EKQOkmMQisHApA+n5qvHSTBkDHSzeJQeATQIlBYOXQohZA7FG4HoXrCUB56SYxCKz8P5qZmZmZmQtAbxKDwMohFUAUrkfhehQPQOf7qfHSTQVAWDm0yHa+DUA=\",\"dtype\":\"float64\",\"order\":\"little\",\"shape\":[49]},\"y\":{\"__ndarray__\":\"ZmZmZmZmSEBmZmZmZuZMQM3MzMzMzDZAzczMzMwMTEBmZmZmZgZWQDMzMzMzk1BAzczMzMzMTUAzMzMzM7NUQDMzMzMz809AMzMzMzOzUEDNzMzMzAxGQGZmZmZmpk1AzczMzMwMREBmZmZmZiZGQDMzMzMzU1BAMzMzMzPzUEAAAAAAAIBMQJqZmZmZmTVAMzMzMzNzUEAzMzMzMzMuQDMzMzMzMzJAAAAAAACATkAzMzMzMzNWQAAAAAAAgEBAZmZmZmbmNUAAAAAAAMBRQGZmZmZmZjpAZmZmZmaGUECamZmZmRk8QDMzMzMz801AmpmZmZnZSkAzMzMzM1NUQGZmZmZm5jxAAAAAAABAS0DNzMzMzIxEQAAAAAAAgEpAAAAAAADASEDNzMzMzOxVQGZmZmZmxldAAAAAAADgVEBmZmZmZiZBQAAAAAAAQEJAzczMzMzMVEAzMzMzMzNVQGZmZmZmZlVAZmZmZmZGVkAzMzMzM/NQQDMzMzMz01NAMzMzMzPTVEA=\",\"dtype\":\"float64\",\"order\":\"little\",\"shape\":[49]}},\"selected\":{\"id\":\"1421\"},\"selection_policy\":{\"id\":\"1420\"}},\"id\":\"1372\",\"type\":\"ColumnDataSource\"},{\"attributes\":{\"data_source\":{\"id\":\"1372\"},\"glyph\":{\"id\":\"1373\"},\"hover_glyph\":null,\"muted_glyph\":null,\"nonselection_glyph\":{\"id\":\"1374\"},\"view\":{\"id\":\"1376\"}},\"id\":\"1375\",\"type\":\"GlyphRenderer\"},{\"attributes\":{},\"id\":\"1420\",\"type\":\"UnionRenderers\"},{\"attributes\":{},\"id\":\"1337\",\"type\":\"DataRange1d\"},{\"attributes\":{\"data\":{\"x\":{\"__ndarray__\":\"CKwcWmQ7/T9zaJHtfD8BQAisHFpkOwNAYhBYObTIAUA9CtejcD0EQJZDi2zn+wNAN4lBYOXQ/j/fT42XbhIQQLTIdr6fGgRAFK5H4XoU+D9MN4lBYOUEQCuHFtnO9wpAhetRuB6FCUA3iUFg5dAHQFyPwvUoXAJAEFg5tMh2BUBKDAIrhxb/P1TjpZvEIARAg8DKoUW2AEBMN4lBYOUCQCcxCKwcWvo/lkOLbOf7AkArhxbZzvcKQIPAyqFFtvs/\",\"dtype\":\"float64\",\"order\":\"little\",\"shape\":[24]},\"y\":{\"__ndarray__\":\"zczMzMyMVkAAAAAAAOBWQJqZmZmZWVdAzczMzMxsWEBmZmZmZiZVQJqZmZmZuVdAzczMzMysWEDNzMzMzCxRQM3MzMzMbFRAMzMzMzPzWEAzMzMzMxNWQAAAAAAAgFVAAAAAAADgVEAAAAAAAGBXQJqZmZmZWVRAmpmZmZl5U0DNzMzMzAxYQDMzMzMzM1dAAAAAAACgWEAzMzMzM7NWQM3MzMzMjFhAmpmZmZkZVkAAAAAAACBYQAAAAAAAgFhA\",\"dtype\":\"float64\",\"order\":\"little\",\"shape\":[24]}},\"selected\":{\"id\":\"1419\"},\"selection_policy\":{\"id\":\"1418\"}},\"id\":\"1367\",\"type\":\"ColumnDataSource\"},{\"attributes\":{},\"id\":\"1339\",\"type\":\"DataRange1d\"},{\"attributes\":{\"source\":{\"id\":\"1372\"}},\"id\":\"1376\",\"type\":\"CDSView\"},{\"attributes\":{\"fill_alpha\":{\"value\":0.1},\"fill_color\":{\"value\":\"red\"},\"line_alpha\":{\"value\":0.1},\"line_color\":{\"value\":\"red\"},\"marker\":{\"value\":\"x\"},\"x\":{\"field\":\"x\"},\"y\":{\"field\":\"y\"}},\"id\":\"1374\",\"type\":\"Scatter\"},{\"attributes\":{},\"id\":\"1343\",\"type\":\"LinearScale\"},{\"attributes\":{},\"id\":\"1341\",\"type\":\"LinearScale\"},{\"attributes\":{\"fill_alpha\":{\"value\":0.1},\"fill_color\":{\"value\":\"#1f77b4\"},\"line_alpha\":{\"value\":0.1},\"line_color\":{\"value\":\"#1f77b4\"},\"x\":{\"field\":\"x\"},\"y\":{\"field\":\"y\"}},\"id\":\"1369\",\"type\":\"Circle\"},{\"attributes\":{},\"id\":\"1415\",\"type\":\"BasicTickFormatter\"},{\"attributes\":{},\"id\":\"1410\",\"type\":\"Title\"},{\"attributes\":{},\"id\":\"1421\",\"type\":\"Selection\"},{\"attributes\":{\"data_source\":{\"id\":\"1367\"},\"glyph\":{\"id\":\"1368\"},\"hover_glyph\":null,\"muted_glyph\":null,\"nonselection_glyph\":{\"id\":\"1369\"},\"view\":{\"id\":\"1371\"}},\"id\":\"1370\",\"type\":\"GlyphRenderer\"},{\"attributes\":{\"axis_label\":\"fertility (children per woman)\",\"formatter\":{\"id\":\"1415\"},\"major_label_policy\":{\"id\":\"1416\"},\"ticker\":{\"id\":\"1346\"}},\"id\":\"1345\",\"type\":\"LinearAxis\"},{\"attributes\":{},\"id\":\"1416\",\"type\":\"AllLabels\"},{\"attributes\":{},\"id\":\"1346\",\"type\":\"BasicTicker\"},{\"attributes\":{\"axis\":{\"id\":\"1345\"},\"ticker\":null},\"id\":\"1348\",\"type\":\"Grid\"},{\"attributes\":{},\"id\":\"1354\",\"type\":\"WheelZoomTool\"},{\"attributes\":{\"fill_color\":{\"value\":\"red\"},\"line_color\":{\"value\":\"red\"},\"marker\":{\"value\":\"x\"},\"x\":{\"field\":\"x\"},\"y\":{\"field\":\"y\"}},\"id\":\"1373\",\"type\":\"Scatter\"},{\"attributes\":{\"source\":{\"id\":\"1367\"}},\"id\":\"1371\",\"type\":\"CDSView\"},{\"attributes\":{\"fill_color\":{\"value\":\"#1f77b4\"},\"line_color\":{\"value\":\"#1f77b4\"},\"x\":{\"field\":\"x\"},\"y\":{\"field\":\"y\"}},\"id\":\"1368\",\"type\":\"Circle\"},{\"attributes\":{},\"id\":\"1418\",\"type\":\"UnionRenderers\"},{\"attributes\":{\"bottom_units\":\"screen\",\"fill_alpha\":0.5,\"fill_color\":\"lightgrey\",\"left_units\":\"screen\",\"level\":\"overlay\",\"line_alpha\":1.0,\"line_color\":\"black\",\"line_dash\":[4,4],\"line_width\":2,\"right_units\":\"screen\",\"syncable\":false,\"top_units\":\"screen\"},\"id\":\"1359\",\"type\":\"BoxAnnotation\"},{\"attributes\":{},\"id\":\"1419\",\"type\":\"Selection\"},{\"attributes\":{},\"id\":\"1412\",\"type\":\"BasicTickFormatter\"},{\"attributes\":{},\"id\":\"1350\",\"type\":\"BasicTicker\"},{\"attributes\":{},\"id\":\"1358\",\"type\":\"HelpTool\"},{\"attributes\":{},\"id\":\"1413\",\"type\":\"AllLabels\"},{\"attributes\":{},\"id\":\"1357\",\"type\":\"ResetTool\"},{\"attributes\":{\"axis\":{\"id\":\"1349\"},\"dimension\":1,\"ticker\":null},\"id\":\"1352\",\"type\":\"Grid\"},{\"attributes\":{},\"id\":\"1353\",\"type\":\"PanTool\"},{\"attributes\":{\"axis_label\":\"female literacy (% population)\",\"formatter\":{\"id\":\"1412\"},\"major_label_policy\":{\"id\":\"1413\"},\"ticker\":{\"id\":\"1350\"}},\"id\":\"1349\",\"type\":\"LinearAxis\"},{\"attributes\":{\"overlay\":{\"id\":\"1359\"}},\"id\":\"1355\",\"type\":\"BoxZoomTool\"}],\"root_ids\":[\"1336\"]},\"title\":\"Bokeh Application\",\"version\":\"2.3.0\"}};\n",
       "  var render_items = [{\"docid\":\"d90d0e0e-a783-4109-a29f-378cde1f1873\",\"root_ids\":[\"1336\"],\"roots\":{\"1336\":\"fd0c19f0-12ab-411f-9235-bd1310b8ff06\"}}];\n",
       "  root.Bokeh.embed.embed_items_notebook(docs_json, render_items);\n",
       "\n",
       "  }\n",
       "  if (root.Bokeh !== undefined) {\n",
       "    embed_document(root);\n",
       "  } else {\n",
       "    var attempts = 0;\n",
       "    var timer = setInterval(function(root) {\n",
       "      if (root.Bokeh !== undefined) {\n",
       "        clearInterval(timer);\n",
       "        embed_document(root);\n",
       "      } else {\n",
       "        attempts++;\n",
       "        if (attempts > 100) {\n",
       "          clearInterval(timer);\n",
       "          console.log(\"Bokeh: ERROR: Unable to run BokehJS code because BokehJS library is missing\");\n",
       "        }\n",
       "      }\n",
       "    }, 10, root)\n",
       "  }\n",
       "})(window);"
      ],
      "application/vnd.bokehjs_exec.v0+json": ""
     },
     "metadata": {
      "application/vnd.bokehjs_exec.v0+json": {
       "id": "1336"
      }
     },
     "output_type": "display_data"
    }
   ],
   "source": [
    "# Create the figure: p\n",
    "p = figure(plot_height=300, x_axis_label='fertility (children per woman)', y_axis_label='female literacy (% population)')\n",
    "\n",
    "# Add a circle glyph to the figure p\n",
    "p.circle(fertility_latinamerica, female_literacy_latinamerica)\n",
    "\n",
    "# Add an x glyph to the figure p\n",
    "p.x(fertility_africa, female_literacy_africa, color='red')\n",
    "\n",
    "# Specify the name of the file\n",
    "# output_file('fert_lit_separate.html')\n",
    "\n",
    "# Display the plot\n",
    "show(p)"
   ]
  },
  {
   "cell_type": "markdown",
   "metadata": {},
   "source": [
    "### Customizing your scatter plots\n",
    "\n",
    "The three most important arguments to customize scatter glyphs are `color`, `size`, and `alpha`. Bokeh accepts colors as hexadecimal strings, tuples of RGB values between 0 and 255, and any of the 147 [CSS color names][1]. Size values are supplied in screen space units with 100 meaning the size of the entire figure.\n",
    "\n",
    "The `alpha` parameter controls transparency. It takes in floating point numbers between 0.0, meaning completely transparent, and 1.0, meaning completely opaque.\n",
    "\n",
    "In this exercise, you'll plot female literacy vs fertility for Africa and Latin America as red and blue circle glyphs, respectively.\n",
    "\n",
    "**Instructions**\n",
    "\n",
    "* Using the Latin America data (`fertility_latinamerica` and `female_literacy_latinamerica`), add a `blue` circle glyph of `size=10` and `alpha=0.8` to the figure `p`. To do this, you will need to specify the `color`, `size` and `alpha` keyword arguments inside `p.circle()`.\n",
    "* Using the Africa data (`fertility_africa` and `female_literacy_africa`), add a `red` circle glyph of `size=10` and `alpha=0.8` to the figure `p`.\n",
    "\n",
    "  [1]: http://www.colors.commutercreative.com/grid/"
   ]
  },
  {
   "cell_type": "code",
   "execution_count": 14,
   "metadata": {},
   "outputs": [
    {
     "data": {
      "text/html": [
       "\n",
       "\n",
       "\n",
       "\n",
       "\n",
       "\n",
       "  <div class=\"bk-root\" id=\"88a03fb9-1f14-4727-815a-5fa6cc5c4a59\" data-root-id=\"1488\"></div>\n"
      ]
     },
     "metadata": {},
     "output_type": "display_data"
    },
    {
     "data": {
      "application/javascript": [
       "(function(root) {\n",
       "  function embed_document(root) {\n",
       "    \n",
       "  var docs_json = {\"40e13da5-3b92-4e0b-9e97-4fd5339d8696\":{\"defs\":[{\"extends\":null,\"module\":null,\"name\":\"DataModel\",\"overrides\":[],\"properties\":[]}],\"roots\":{\"references\":[{\"attributes\":{\"below\":[{\"id\":\"1497\"}],\"center\":[{\"id\":\"1500\"},{\"id\":\"1504\"}],\"height\":300,\"left\":[{\"id\":\"1501\"}],\"renderers\":[{\"id\":\"1522\"},{\"id\":\"1527\"}],\"title\":{\"id\":\"1575\"},\"toolbar\":{\"id\":\"1512\"},\"x_range\":{\"id\":\"1489\"},\"x_scale\":{\"id\":\"1493\"},\"y_range\":{\"id\":\"1491\"},\"y_scale\":{\"id\":\"1495\"}},\"id\":\"1488\",\"subtype\":\"Figure\",\"type\":\"Plot\"},{\"attributes\":{},\"id\":\"1581\",\"type\":\"AllLabels\"},{\"attributes\":{\"data_source\":{\"id\":\"1519\"},\"glyph\":{\"id\":\"1520\"},\"hover_glyph\":null,\"muted_glyph\":null,\"nonselection_glyph\":{\"id\":\"1521\"},\"view\":{\"id\":\"1523\"}},\"id\":\"1522\",\"type\":\"GlyphRenderer\"},{\"attributes\":{},\"id\":\"1491\",\"type\":\"DataRange1d\"},{\"attributes\":{\"source\":{\"id\":\"1524\"}},\"id\":\"1528\",\"type\":\"CDSView\"},{\"attributes\":{},\"id\":\"1495\",\"type\":\"LinearScale\"},{\"attributes\":{\"data_source\":{\"id\":\"1524\"},\"glyph\":{\"id\":\"1525\"},\"hover_glyph\":null,\"muted_glyph\":null,\"nonselection_glyph\":{\"id\":\"1526\"},\"view\":{\"id\":\"1528\"}},\"id\":\"1527\",\"type\":\"GlyphRenderer\"},{\"attributes\":{\"fill_alpha\":{\"value\":0.1},\"fill_color\":{\"value\":\"blue\"},\"line_alpha\":{\"value\":0.1},\"line_color\":{\"value\":\"blue\"},\"size\":{\"value\":10},\"x\":{\"field\":\"x\"},\"y\":{\"field\":\"y\"}},\"id\":\"1521\",\"type\":\"Circle\"},{\"attributes\":{},\"id\":\"1493\",\"type\":\"LinearScale\"},{\"attributes\":{\"fill_alpha\":{\"value\":0.8},\"fill_color\":{\"value\":\"blue\"},\"line_alpha\":{\"value\":0.8},\"line_color\":{\"value\":\"blue\"},\"size\":{\"value\":10},\"x\":{\"field\":\"x\"},\"y\":{\"field\":\"y\"}},\"id\":\"1520\",\"type\":\"Circle\"},{\"attributes\":{\"data\":{\"x\":{\"__ndarray__\":\"CKwcWmQ7/T9zaJHtfD8BQAisHFpkOwNAYhBYObTIAUA9CtejcD0EQJZDi2zn+wNAN4lBYOXQ/j/fT42XbhIQQLTIdr6fGgRAFK5H4XoU+D9MN4lBYOUEQCuHFtnO9wpAhetRuB6FCUA3iUFg5dAHQFyPwvUoXAJAEFg5tMh2BUBKDAIrhxb/P1TjpZvEIARAg8DKoUW2AEBMN4lBYOUCQCcxCKwcWvo/lkOLbOf7AkArhxbZzvcKQIPAyqFFtvs/\",\"dtype\":\"float64\",\"order\":\"little\",\"shape\":[24]},\"y\":{\"__ndarray__\":\"zczMzMyMVkAAAAAAAOBWQJqZmZmZWVdAzczMzMxsWEBmZmZmZiZVQJqZmZmZuVdAzczMzMysWEDNzMzMzCxRQM3MzMzMbFRAMzMzMzPzWEAzMzMzMxNWQAAAAAAAgFVAAAAAAADgVEAAAAAAAGBXQJqZmZmZWVRAmpmZmZl5U0DNzMzMzAxYQDMzMzMzM1dAAAAAAACgWEAzMzMzM7NWQM3MzMzMjFhAmpmZmZkZVkAAAAAAACBYQAAAAAAAgFhA\",\"dtype\":\"float64\",\"order\":\"little\",\"shape\":[24]}},\"selected\":{\"id\":\"1584\"},\"selection_policy\":{\"id\":\"1583\"}},\"id\":\"1519\",\"type\":\"ColumnDataSource\"},{\"attributes\":{\"axis_label\":\"fertility (children per woman)\",\"formatter\":{\"id\":\"1580\"},\"major_label_policy\":{\"id\":\"1581\"},\"ticker\":{\"id\":\"1498\"}},\"id\":\"1497\",\"type\":\"LinearAxis\"},{\"attributes\":{\"data\":{\"x\":{\"__ndarray__\":\"/tR46SaxFEC6SQwCK4cGQPLSTWIQ2BRAbxKDwMqhF0AK16NwPQoEQBSuR+F6FBZACKwcWmQ7EEBWDi2ynW8TQCPb+X5qvAJAarx0kxgEGUB56SYxCKwCQOF6FK5H4RBAke18PzXeE0B1kxgEVg4SQHsUrkfhehJARIts5/spEkA/NV66SYwWQHe+nxovXRdAUrgehevRFUAtsp3vp0YcQB+F61G4nhVAppvEILDyFkCBlUOLbOcKQI/C9ShcjxNAbef7qfFSGEDb+X5qvHT9PzeJQWDlUBVAUrgehetRFUBQjZduEoMVQM3MzMzMzBFARIts5/upEECJQWDl0CIFQClcj8L1qBRA6SYxCKwcEkB9PzVeuskSQCUGgZVDCxRAWmQ730+NEUBSuB6F61EKQOkmMQisHApA+n5qvHSTBkDHSzeJQeATQIlBYOXQohZA7FG4HoXrCUB56SYxCKz8P5qZmZmZmQtAbxKDwMohFUAUrkfhehQPQOf7qfHSTQVAWDm0yHa+DUA=\",\"dtype\":\"float64\",\"order\":\"little\",\"shape\":[49]},\"y\":{\"__ndarray__\":\"ZmZmZmZmSEBmZmZmZuZMQM3MzMzMzDZAzczMzMwMTEBmZmZmZgZWQDMzMzMzk1BAzczMzMzMTUAzMzMzM7NUQDMzMzMz809AMzMzMzOzUEDNzMzMzAxGQGZmZmZmpk1AzczMzMwMREBmZmZmZiZGQDMzMzMzU1BAMzMzMzPzUEAAAAAAAIBMQJqZmZmZmTVAMzMzMzNzUEAzMzMzMzMuQDMzMzMzMzJAAAAAAACATkAzMzMzMzNWQAAAAAAAgEBAZmZmZmbmNUAAAAAAAMBRQGZmZmZmZjpAZmZmZmaGUECamZmZmRk8QDMzMzMz801AmpmZmZnZSkAzMzMzM1NUQGZmZmZm5jxAAAAAAABAS0DNzMzMzIxEQAAAAAAAgEpAAAAAAADASEDNzMzMzOxVQGZmZmZmxldAAAAAAADgVEBmZmZmZiZBQAAAAAAAQEJAzczMzMzMVEAzMzMzMzNVQGZmZmZmZlVAZmZmZmZGVkAzMzMzM/NQQDMzMzMz01NAMzMzMzPTVEA=\",\"dtype\":\"float64\",\"order\":\"little\",\"shape\":[49]}},\"selected\":{\"id\":\"1586\"},\"selection_policy\":{\"id\":\"1585\"}},\"id\":\"1524\",\"type\":\"ColumnDataSource\"},{\"attributes\":{\"fill_alpha\":{\"value\":0.1},\"fill_color\":{\"value\":\"red\"},\"line_alpha\":{\"value\":0.1},\"line_color\":{\"value\":\"red\"},\"size\":{\"value\":10},\"x\":{\"field\":\"x\"},\"y\":{\"field\":\"y\"}},\"id\":\"1526\",\"type\":\"Circle\"},{\"attributes\":{},\"id\":\"1583\",\"type\":\"UnionRenderers\"},{\"attributes\":{},\"id\":\"1584\",\"type\":\"Selection\"},{\"attributes\":{},\"id\":\"1580\",\"type\":\"BasicTickFormatter\"},{\"attributes\":{},\"id\":\"1575\",\"type\":\"Title\"},{\"attributes\":{},\"id\":\"1509\",\"type\":\"ResetTool\"},{\"attributes\":{},\"id\":\"1508\",\"type\":\"SaveTool\"},{\"attributes\":{\"overlay\":{\"id\":\"1511\"}},\"id\":\"1507\",\"type\":\"BoxZoomTool\"},{\"attributes\":{},\"id\":\"1505\",\"type\":\"PanTool\"},{\"attributes\":{},\"id\":\"1510\",\"type\":\"HelpTool\"},{\"attributes\":{},\"id\":\"1502\",\"type\":\"BasicTicker\"},{\"attributes\":{\"bottom_units\":\"screen\",\"fill_alpha\":0.5,\"fill_color\":\"lightgrey\",\"left_units\":\"screen\",\"level\":\"overlay\",\"line_alpha\":1.0,\"line_color\":\"black\",\"line_dash\":[4,4],\"line_width\":2,\"right_units\":\"screen\",\"syncable\":false,\"top_units\":\"screen\"},\"id\":\"1511\",\"type\":\"BoxAnnotation\"},{\"attributes\":{\"axis\":{\"id\":\"1501\"},\"dimension\":1,\"ticker\":null},\"id\":\"1504\",\"type\":\"Grid\"},{\"attributes\":{},\"id\":\"1585\",\"type\":\"UnionRenderers\"},{\"attributes\":{\"axis_label\":\"female_literacy (% population)\",\"formatter\":{\"id\":\"1577\"},\"major_label_policy\":{\"id\":\"1578\"},\"ticker\":{\"id\":\"1502\"}},\"id\":\"1501\",\"type\":\"LinearAxis\"},{\"attributes\":{},\"id\":\"1506\",\"type\":\"WheelZoomTool\"},{\"attributes\":{\"axis\":{\"id\":\"1497\"},\"ticker\":null},\"id\":\"1500\",\"type\":\"Grid\"},{\"attributes\":{},\"id\":\"1586\",\"type\":\"Selection\"},{\"attributes\":{},\"id\":\"1498\",\"type\":\"BasicTicker\"},{\"attributes\":{},\"id\":\"1577\",\"type\":\"BasicTickFormatter\"},{\"attributes\":{\"active_multi\":null,\"tools\":[{\"id\":\"1505\"},{\"id\":\"1506\"},{\"id\":\"1507\"},{\"id\":\"1508\"},{\"id\":\"1509\"},{\"id\":\"1510\"}]},\"id\":\"1512\",\"type\":\"Toolbar\"},{\"attributes\":{},\"id\":\"1578\",\"type\":\"AllLabels\"},{\"attributes\":{\"fill_alpha\":{\"value\":0.8},\"fill_color\":{\"value\":\"red\"},\"line_alpha\":{\"value\":0.8},\"line_color\":{\"value\":\"red\"},\"size\":{\"value\":10},\"x\":{\"field\":\"x\"},\"y\":{\"field\":\"y\"}},\"id\":\"1525\",\"type\":\"Circle\"},{\"attributes\":{\"source\":{\"id\":\"1519\"}},\"id\":\"1523\",\"type\":\"CDSView\"},{\"attributes\":{},\"id\":\"1489\",\"type\":\"DataRange1d\"}],\"root_ids\":[\"1488\"]},\"title\":\"Bokeh Application\",\"version\":\"2.3.0\"}};\n",
       "  var render_items = [{\"docid\":\"40e13da5-3b92-4e0b-9e97-4fd5339d8696\",\"root_ids\":[\"1488\"],\"roots\":{\"1488\":\"88a03fb9-1f14-4727-815a-5fa6cc5c4a59\"}}];\n",
       "  root.Bokeh.embed.embed_items_notebook(docs_json, render_items);\n",
       "\n",
       "  }\n",
       "  if (root.Bokeh !== undefined) {\n",
       "    embed_document(root);\n",
       "  } else {\n",
       "    var attempts = 0;\n",
       "    var timer = setInterval(function(root) {\n",
       "      if (root.Bokeh !== undefined) {\n",
       "        clearInterval(timer);\n",
       "        embed_document(root);\n",
       "      } else {\n",
       "        attempts++;\n",
       "        if (attempts > 100) {\n",
       "          clearInterval(timer);\n",
       "          console.log(\"Bokeh: ERROR: Unable to run BokehJS code because BokehJS library is missing\");\n",
       "        }\n",
       "      }\n",
       "    }, 10, root)\n",
       "  }\n",
       "})(window);"
      ],
      "application/vnd.bokehjs_exec.v0+json": ""
     },
     "metadata": {
      "application/vnd.bokehjs_exec.v0+json": {
       "id": "1488"
      }
     },
     "output_type": "display_data"
    }
   ],
   "source": [
    "# Create the figure: p\n",
    "p = figure(plot_height=300, x_axis_label='fertility (children per woman)', y_axis_label='female_literacy (% population)')\n",
    "\n",
    "# Add a blue circle glyph to the figure p\n",
    "p.circle(fertility_latinamerica, female_literacy_latinamerica, color='blue', size=10, alpha=0.8)\n",
    "\n",
    "# Add a red circle glyph to the figure p\n",
    "p.circle(fertility_africa, female_literacy_africa, color='red', size=10, alpha=0.8)\n",
    "\n",
    "# Specify the name of the file\n",
    "# output_file('fert_lit_separate_colors.html')\n",
    "\n",
    "# Display the plot\n",
    "show(p)"
   ]
  },
  {
   "cell_type": "markdown",
   "metadata": {},
   "source": [
    "## Additional glyphs\n",
    "\n",
    "**Lines**"
   ]
  },
  {
   "cell_type": "code",
   "execution_count": 15,
   "metadata": {},
   "outputs": [
    {
     "data": {
      "text/html": [
       "\n",
       "\n",
       "\n",
       "\n",
       "\n",
       "\n",
       "  <div class=\"bk-root\" id=\"5a1d650a-7ef0-4d5b-8750-3858b72bc3d6\" data-root-id=\"1653\"></div>\n"
      ]
     },
     "metadata": {},
     "output_type": "display_data"
    },
    {
     "data": {
      "application/javascript": [
       "(function(root) {\n",
       "  function embed_document(root) {\n",
       "    \n",
       "  var docs_json = {\"da8d94a6-8825-4723-b80d-3b78196ca9f1\":{\"defs\":[{\"extends\":null,\"module\":null,\"name\":\"DataModel\",\"overrides\":[],\"properties\":[]}],\"roots\":{\"references\":[{\"attributes\":{\"below\":[{\"id\":\"1662\"}],\"center\":[{\"id\":\"1665\"},{\"id\":\"1669\"}],\"height\":300,\"left\":[{\"id\":\"1666\"}],\"renderers\":[{\"id\":\"1687\"}],\"title\":{\"id\":\"1748\"},\"toolbar\":{\"id\":\"1677\"},\"x_range\":{\"id\":\"1654\"},\"x_scale\":{\"id\":\"1658\"},\"y_range\":{\"id\":\"1656\"},\"y_scale\":{\"id\":\"1660\"}},\"id\":\"1653\",\"subtype\":\"Figure\",\"type\":\"Plot\"},{\"attributes\":{},\"id\":\"1663\",\"type\":\"BasicTicker\"},{\"attributes\":{\"formatter\":{\"id\":\"1753\"},\"major_label_policy\":{\"id\":\"1754\"},\"ticker\":{\"id\":\"1663\"}},\"id\":\"1662\",\"type\":\"LinearAxis\"},{\"attributes\":{\"bottom_units\":\"screen\",\"fill_alpha\":0.5,\"fill_color\":\"lightgrey\",\"left_units\":\"screen\",\"level\":\"overlay\",\"line_alpha\":1.0,\"line_color\":\"black\",\"line_dash\":[4,4],\"line_width\":2,\"right_units\":\"screen\",\"syncable\":false,\"top_units\":\"screen\"},\"id\":\"1676\",\"type\":\"BoxAnnotation\"},{\"attributes\":{\"formatter\":{\"id\":\"1750\"},\"major_label_policy\":{\"id\":\"1751\"},\"ticker\":{\"id\":\"1667\"}},\"id\":\"1666\",\"type\":\"LinearAxis\"},{\"attributes\":{},\"id\":\"1658\",\"type\":\"LinearScale\"},{\"attributes\":{\"data_source\":{\"id\":\"1684\"},\"glyph\":{\"id\":\"1685\"},\"hover_glyph\":null,\"muted_glyph\":null,\"nonselection_glyph\":{\"id\":\"1686\"},\"view\":{\"id\":\"1688\"}},\"id\":\"1687\",\"type\":\"GlyphRenderer\"},{\"attributes\":{},\"id\":\"1675\",\"type\":\"HelpTool\"},{\"attributes\":{},\"id\":\"1660\",\"type\":\"LinearScale\"},{\"attributes\":{\"source\":{\"id\":\"1684\"}},\"id\":\"1688\",\"type\":\"CDSView\"},{\"attributes\":{},\"id\":\"1753\",\"type\":\"BasicTickFormatter\"},{\"attributes\":{\"axis\":{\"id\":\"1666\"},\"dimension\":1,\"ticker\":null},\"id\":\"1669\",\"type\":\"Grid\"},{\"attributes\":{},\"id\":\"1754\",\"type\":\"AllLabels\"},{\"attributes\":{},\"id\":\"1673\",\"type\":\"SaveTool\"},{\"attributes\":{\"overlay\":{\"id\":\"1676\"}},\"id\":\"1672\",\"type\":\"BoxZoomTool\"},{\"attributes\":{},\"id\":\"1670\",\"type\":\"PanTool\"},{\"attributes\":{},\"id\":\"1654\",\"type\":\"DataRange1d\"},{\"attributes\":{},\"id\":\"1656\",\"type\":\"DataRange1d\"},{\"attributes\":{\"line_color\":\"#1f77b4\",\"line_width\":3,\"x\":{\"field\":\"x\"},\"y\":{\"field\":\"y\"}},\"id\":\"1685\",\"type\":\"Line\"},{\"attributes\":{\"data\":{\"x\":[1,2,3,4,5],\"y\":[8,6,5,2,3]},\"selected\":{\"id\":\"1757\"},\"selection_policy\":{\"id\":\"1756\"}},\"id\":\"1684\",\"type\":\"ColumnDataSource\"},{\"attributes\":{},\"id\":\"1756\",\"type\":\"UnionRenderers\"},{\"attributes\":{},\"id\":\"1757\",\"type\":\"Selection\"},{\"attributes\":{\"line_alpha\":0.1,\"line_color\":\"#1f77b4\",\"line_width\":3,\"x\":{\"field\":\"x\"},\"y\":{\"field\":\"y\"}},\"id\":\"1686\",\"type\":\"Line\"},{\"attributes\":{},\"id\":\"1674\",\"type\":\"ResetTool\"},{\"attributes\":{},\"id\":\"1671\",\"type\":\"WheelZoomTool\"},{\"attributes\":{},\"id\":\"1750\",\"type\":\"BasicTickFormatter\"},{\"attributes\":{\"active_multi\":null,\"tools\":[{\"id\":\"1670\"},{\"id\":\"1671\"},{\"id\":\"1672\"},{\"id\":\"1673\"},{\"id\":\"1674\"},{\"id\":\"1675\"}]},\"id\":\"1677\",\"type\":\"Toolbar\"},{\"attributes\":{},\"id\":\"1667\",\"type\":\"BasicTicker\"},{\"attributes\":{},\"id\":\"1748\",\"type\":\"Title\"},{\"attributes\":{},\"id\":\"1751\",\"type\":\"AllLabels\"},{\"attributes\":{\"axis\":{\"id\":\"1662\"},\"ticker\":null},\"id\":\"1665\",\"type\":\"Grid\"}],\"root_ids\":[\"1653\"]},\"title\":\"Bokeh Application\",\"version\":\"2.3.0\"}};\n",
       "  var render_items = [{\"docid\":\"da8d94a6-8825-4723-b80d-3b78196ca9f1\",\"root_ids\":[\"1653\"],\"roots\":{\"1653\":\"5a1d650a-7ef0-4d5b-8750-3858b72bc3d6\"}}];\n",
       "  root.Bokeh.embed.embed_items_notebook(docs_json, render_items);\n",
       "\n",
       "  }\n",
       "  if (root.Bokeh !== undefined) {\n",
       "    embed_document(root);\n",
       "  } else {\n",
       "    var attempts = 0;\n",
       "    var timer = setInterval(function(root) {\n",
       "      if (root.Bokeh !== undefined) {\n",
       "        clearInterval(timer);\n",
       "        embed_document(root);\n",
       "      } else {\n",
       "        attempts++;\n",
       "        if (attempts > 100) {\n",
       "          clearInterval(timer);\n",
       "          console.log(\"Bokeh: ERROR: Unable to run BokehJS code because BokehJS library is missing\");\n",
       "        }\n",
       "      }\n",
       "    }, 10, root)\n",
       "  }\n",
       "})(window);"
      ],
      "application/vnd.bokehjs_exec.v0+json": ""
     },
     "metadata": {
      "application/vnd.bokehjs_exec.v0+json": {
       "id": "1653"
      }
     },
     "output_type": "display_data"
    }
   ],
   "source": [
    "x = [1,2,3,4,5]\n",
    "y = [8,6,5,2,3]\n",
    "plot = figure(plot_height=300)\n",
    "plot.line(x, y, line_width=3)\n",
    "# output_file('line.html')\n",
    "show(plot)"
   ]
  },
  {
   "cell_type": "markdown",
   "metadata": {},
   "source": [
    "**Lines and Markers Together**"
   ]
  },
  {
   "cell_type": "code",
   "execution_count": 16,
   "metadata": {},
   "outputs": [
    {
     "data": {
      "text/html": [
       "\n",
       "\n",
       "\n",
       "\n",
       "\n",
       "\n",
       "  <div class=\"bk-root\" id=\"a5b6676b-f152-4584-a107-66d3a8bd7651\" data-root-id=\"1814\"></div>\n"
      ]
     },
     "metadata": {},
     "output_type": "display_data"
    },
    {
     "data": {
      "application/javascript": [
       "(function(root) {\n",
       "  function embed_document(root) {\n",
       "    \n",
       "  var docs_json = {\"bd95c86e-4594-421c-b393-783f985efbdd\":{\"defs\":[{\"extends\":null,\"module\":null,\"name\":\"DataModel\",\"overrides\":[],\"properties\":[]}],\"roots\":{\"references\":[{\"attributes\":{\"below\":[{\"id\":\"1823\"}],\"center\":[{\"id\":\"1826\"},{\"id\":\"1830\"}],\"height\":300,\"left\":[{\"id\":\"1827\"}],\"renderers\":[{\"id\":\"1848\"},{\"id\":\"1853\"}],\"title\":{\"id\":\"1925\"},\"toolbar\":{\"id\":\"1838\"},\"x_range\":{\"id\":\"1815\"},\"x_scale\":{\"id\":\"1819\"},\"y_range\":{\"id\":\"1817\"},\"y_scale\":{\"id\":\"1821\"}},\"id\":\"1814\",\"subtype\":\"Figure\",\"type\":\"Plot\"},{\"attributes\":{\"overlay\":{\"id\":\"1837\"}},\"id\":\"1833\",\"type\":\"BoxZoomTool\"},{\"attributes\":{},\"id\":\"1925\",\"type\":\"Title\"},{\"attributes\":{},\"id\":\"1834\",\"type\":\"SaveTool\"},{\"attributes\":{\"fill_alpha\":{\"value\":0.1},\"fill_color\":{\"value\":\"white\"},\"line_alpha\":{\"value\":0.1},\"line_color\":{\"value\":\"purple\"},\"size\":{\"value\":10},\"x\":{\"field\":\"x\"},\"y\":{\"field\":\"y\"}},\"id\":\"1852\",\"type\":\"Circle\"},{\"attributes\":{\"axis\":{\"id\":\"1823\"},\"ticker\":null},\"id\":\"1826\",\"type\":\"Grid\"},{\"attributes\":{},\"id\":\"1933\",\"type\":\"UnionRenderers\"},{\"attributes\":{},\"id\":\"1824\",\"type\":\"BasicTicker\"},{\"attributes\":{\"formatter\":{\"id\":\"1930\"},\"major_label_policy\":{\"id\":\"1931\"},\"ticker\":{\"id\":\"1824\"}},\"id\":\"1823\",\"type\":\"LinearAxis\"},{\"attributes\":{},\"id\":\"1934\",\"type\":\"Selection\"},{\"attributes\":{\"axis\":{\"id\":\"1827\"},\"dimension\":1,\"ticker\":null},\"id\":\"1830\",\"type\":\"Grid\"},{\"attributes\":{},\"id\":\"1819\",\"type\":\"LinearScale\"},{\"attributes\":{},\"id\":\"1828\",\"type\":\"BasicTicker\"},{\"attributes\":{\"bottom_units\":\"screen\",\"fill_alpha\":0.5,\"fill_color\":\"lightgrey\",\"left_units\":\"screen\",\"level\":\"overlay\",\"line_alpha\":1.0,\"line_color\":\"black\",\"line_dash\":[4,4],\"line_width\":2,\"right_units\":\"screen\",\"syncable\":false,\"top_units\":\"screen\"},\"id\":\"1837\",\"type\":\"BoxAnnotation\"},{\"attributes\":{},\"id\":\"1927\",\"type\":\"BasicTickFormatter\"},{\"attributes\":{\"data_source\":{\"id\":\"1850\"},\"glyph\":{\"id\":\"1851\"},\"hover_glyph\":null,\"muted_glyph\":null,\"nonselection_glyph\":{\"id\":\"1852\"},\"view\":{\"id\":\"1854\"}},\"id\":\"1853\",\"type\":\"GlyphRenderer\"},{\"attributes\":{},\"id\":\"1817\",\"type\":\"DataRange1d\"},{\"attributes\":{},\"id\":\"1928\",\"type\":\"AllLabels\"},{\"attributes\":{},\"id\":\"1935\",\"type\":\"UnionRenderers\"},{\"attributes\":{\"line_color\":\"purple\",\"line_width\":2,\"x\":{\"field\":\"x\"},\"y\":{\"field\":\"y\"}},\"id\":\"1846\",\"type\":\"Line\"},{\"attributes\":{},\"id\":\"1815\",\"type\":\"DataRange1d\"},{\"attributes\":{\"source\":{\"id\":\"1850\"}},\"id\":\"1854\",\"type\":\"CDSView\"},{\"attributes\":{\"fill_color\":{\"value\":\"white\"},\"line_color\":{\"value\":\"purple\"},\"size\":{\"value\":10},\"x\":{\"field\":\"x\"},\"y\":{\"field\":\"y\"}},\"id\":\"1851\",\"type\":\"Circle\"},{\"attributes\":{\"source\":{\"id\":\"1845\"}},\"id\":\"1849\",\"type\":\"CDSView\"},{\"attributes\":{\"data\":{\"x\":[1,2,3,4,5],\"y\":[8,6,5,2,3]},\"selected\":{\"id\":\"1936\"},\"selection_policy\":{\"id\":\"1935\"}},\"id\":\"1850\",\"type\":\"ColumnDataSource\"},{\"attributes\":{},\"id\":\"1936\",\"type\":\"Selection\"},{\"attributes\":{\"data\":{\"x\":[1,2,3,4,5],\"y\":[8,6,5,2,3]},\"selected\":{\"id\":\"1934\"},\"selection_policy\":{\"id\":\"1933\"}},\"id\":\"1845\",\"type\":\"ColumnDataSource\"},{\"attributes\":{\"data_source\":{\"id\":\"1845\"},\"glyph\":{\"id\":\"1846\"},\"hover_glyph\":null,\"muted_glyph\":null,\"nonselection_glyph\":{\"id\":\"1847\"},\"view\":{\"id\":\"1849\"}},\"id\":\"1848\",\"type\":\"GlyphRenderer\"},{\"attributes\":{\"line_alpha\":0.1,\"line_color\":\"purple\",\"line_width\":2,\"x\":{\"field\":\"x\"},\"y\":{\"field\":\"y\"}},\"id\":\"1847\",\"type\":\"Line\"},{\"attributes\":{},\"id\":\"1832\",\"type\":\"WheelZoomTool\"},{\"attributes\":{},\"id\":\"1835\",\"type\":\"ResetTool\"},{\"attributes\":{},\"id\":\"1836\",\"type\":\"HelpTool\"},{\"attributes\":{},\"id\":\"1821\",\"type\":\"LinearScale\"},{\"attributes\":{},\"id\":\"1930\",\"type\":\"BasicTickFormatter\"},{\"attributes\":{},\"id\":\"1831\",\"type\":\"PanTool\"},{\"attributes\":{\"active_multi\":null,\"tools\":[{\"id\":\"1831\"},{\"id\":\"1832\"},{\"id\":\"1833\"},{\"id\":\"1834\"},{\"id\":\"1835\"},{\"id\":\"1836\"}]},\"id\":\"1838\",\"type\":\"Toolbar\"},{\"attributes\":{\"formatter\":{\"id\":\"1927\"},\"major_label_policy\":{\"id\":\"1928\"},\"ticker\":{\"id\":\"1828\"}},\"id\":\"1827\",\"type\":\"LinearAxis\"},{\"attributes\":{},\"id\":\"1931\",\"type\":\"AllLabels\"}],\"root_ids\":[\"1814\"]},\"title\":\"Bokeh Application\",\"version\":\"2.3.0\"}};\n",
       "  var render_items = [{\"docid\":\"bd95c86e-4594-421c-b393-783f985efbdd\",\"root_ids\":[\"1814\"],\"roots\":{\"1814\":\"a5b6676b-f152-4584-a107-66d3a8bd7651\"}}];\n",
       "  root.Bokeh.embed.embed_items_notebook(docs_json, render_items);\n",
       "\n",
       "  }\n",
       "  if (root.Bokeh !== undefined) {\n",
       "    embed_document(root);\n",
       "  } else {\n",
       "    var attempts = 0;\n",
       "    var timer = setInterval(function(root) {\n",
       "      if (root.Bokeh !== undefined) {\n",
       "        clearInterval(timer);\n",
       "        embed_document(root);\n",
       "      } else {\n",
       "        attempts++;\n",
       "        if (attempts > 100) {\n",
       "          clearInterval(timer);\n",
       "          console.log(\"Bokeh: ERROR: Unable to run BokehJS code because BokehJS library is missing\");\n",
       "        }\n",
       "      }\n",
       "    }, 10, root)\n",
       "  }\n",
       "})(window);"
      ],
      "application/vnd.bokehjs_exec.v0+json": ""
     },
     "metadata": {
      "application/vnd.bokehjs_exec.v0+json": {
       "id": "1814"
      }
     },
     "output_type": "display_data"
    }
   ],
   "source": [
    "x = [1,2,3,4,5]\n",
    "y = [8,6,5,2,3]\n",
    "plot = figure(plot_height=300)\n",
    "plot.line(x, y, color='purple', line_width=2)\n",
    "plot.circle(x, y, color='purple', fill_color='white', size=10)\n",
    "# output_file('line.html')\n",
    "show(plot)"
   ]
  },
  {
   "cell_type": "markdown",
   "metadata": {},
   "source": [
    "**Patches**\n",
    "\n",
    "* Useful for showing geographic regions\n",
    "* Data given as “list of lists”"
   ]
  },
  {
   "cell_type": "code",
   "execution_count": 17,
   "metadata": {},
   "outputs": [
    {
     "data": {
      "text/html": [
       "\n",
       "\n",
       "\n",
       "\n",
       "\n",
       "\n",
       "  <div class=\"bk-root\" id=\"6ffe2038-7af1-4015-a828-3a3e1f9e7636\" data-root-id=\"2003\"></div>\n"
      ]
     },
     "metadata": {},
     "output_type": "display_data"
    },
    {
     "data": {
      "application/javascript": [
       "(function(root) {\n",
       "  function embed_document(root) {\n",
       "    \n",
       "  var docs_json = {\"f84219d5-91b0-4865-8dea-562432fda1c5\":{\"defs\":[{\"extends\":null,\"module\":null,\"name\":\"DataModel\",\"overrides\":[],\"properties\":[]}],\"roots\":{\"references\":[{\"attributes\":{\"below\":[{\"id\":\"2012\"}],\"center\":[{\"id\":\"2015\"},{\"id\":\"2019\"}],\"height\":300,\"left\":[{\"id\":\"2016\"}],\"renderers\":[{\"id\":\"2037\"}],\"title\":{\"id\":\"2122\"},\"toolbar\":{\"id\":\"2027\"},\"x_range\":{\"id\":\"2004\"},\"x_scale\":{\"id\":\"2008\"},\"y_range\":{\"id\":\"2006\"},\"y_scale\":{\"id\":\"2010\"}},\"id\":\"2003\",\"subtype\":\"Figure\",\"type\":\"Plot\"},{\"attributes\":{\"fill_alpha\":{\"value\":0.1},\"fill_color\":{\"field\":\"fill_color\"},\"line_alpha\":{\"value\":0.1},\"line_color\":{\"value\":\"white\"},\"xs\":{\"field\":\"xs\"},\"ys\":{\"field\":\"ys\"}},\"id\":\"2036\",\"type\":\"Patches\"},{\"attributes\":{},\"id\":\"2130\",\"type\":\"UnionRenderers\"},{\"attributes\":{},\"id\":\"2004\",\"type\":\"DataRange1d\"},{\"attributes\":{\"source\":{\"id\":\"2034\"}},\"id\":\"2038\",\"type\":\"CDSView\"},{\"attributes\":{},\"id\":\"2006\",\"type\":\"DataRange1d\"},{\"attributes\":{},\"id\":\"2131\",\"type\":\"Selection\"},{\"attributes\":{},\"id\":\"2010\",\"type\":\"LinearScale\"},{\"attributes\":{},\"id\":\"2124\",\"type\":\"BasicTickFormatter\"},{\"attributes\":{},\"id\":\"2008\",\"type\":\"LinearScale\"},{\"attributes\":{\"active_multi\":null,\"tools\":[{\"id\":\"2020\"},{\"id\":\"2021\"},{\"id\":\"2022\"},{\"id\":\"2023\"},{\"id\":\"2024\"},{\"id\":\"2025\"}]},\"id\":\"2027\",\"type\":\"Toolbar\"},{\"attributes\":{\"formatter\":{\"id\":\"2124\"},\"major_label_policy\":{\"id\":\"2125\"},\"ticker\":{\"id\":\"2017\"}},\"id\":\"2016\",\"type\":\"LinearAxis\"},{\"attributes\":{\"formatter\":{\"id\":\"2127\"},\"major_label_policy\":{\"id\":\"2128\"},\"ticker\":{\"id\":\"2013\"}},\"id\":\"2012\",\"type\":\"LinearAxis\"},{\"attributes\":{\"data\":{\"fill_color\":[\"red\",\"blue\",\"green\"],\"xs\":[[1,1,2,2],[2,2,4],[2,2,3,3]],\"ys\":[[2,5,5,2],[3,5,5],[2,3,4,2]]},\"selected\":{\"id\":\"2131\"},\"selection_policy\":{\"id\":\"2130\"}},\"id\":\"2034\",\"type\":\"ColumnDataSource\"},{\"attributes\":{},\"id\":\"2013\",\"type\":\"BasicTicker\"},{\"attributes\":{\"axis\":{\"id\":\"2012\"},\"ticker\":null},\"id\":\"2015\",\"type\":\"Grid\"},{\"attributes\":{},\"id\":\"2125\",\"type\":\"AllLabels\"},{\"attributes\":{\"axis\":{\"id\":\"2016\"},\"dimension\":1,\"ticker\":null},\"id\":\"2019\",\"type\":\"Grid\"},{\"attributes\":{\"bottom_units\":\"screen\",\"fill_alpha\":0.5,\"fill_color\":\"lightgrey\",\"left_units\":\"screen\",\"level\":\"overlay\",\"line_alpha\":1.0,\"line_color\":\"black\",\"line_dash\":[4,4],\"line_width\":2,\"right_units\":\"screen\",\"syncable\":false,\"top_units\":\"screen\"},\"id\":\"2026\",\"type\":\"BoxAnnotation\"},{\"attributes\":{},\"id\":\"2017\",\"type\":\"BasicTicker\"},{\"attributes\":{},\"id\":\"2024\",\"type\":\"ResetTool\"},{\"attributes\":{},\"id\":\"2021\",\"type\":\"WheelZoomTool\"},{\"attributes\":{},\"id\":\"2020\",\"type\":\"PanTool\"},{\"attributes\":{\"overlay\":{\"id\":\"2026\"}},\"id\":\"2022\",\"type\":\"BoxZoomTool\"},{\"attributes\":{},\"id\":\"2025\",\"type\":\"HelpTool\"},{\"attributes\":{},\"id\":\"2023\",\"type\":\"SaveTool\"},{\"attributes\":{},\"id\":\"2127\",\"type\":\"BasicTickFormatter\"},{\"attributes\":{},\"id\":\"2122\",\"type\":\"Title\"},{\"attributes\":{},\"id\":\"2128\",\"type\":\"AllLabels\"},{\"attributes\":{\"fill_color\":{\"field\":\"fill_color\"},\"line_color\":{\"value\":\"white\"},\"xs\":{\"field\":\"xs\"},\"ys\":{\"field\":\"ys\"}},\"id\":\"2035\",\"type\":\"Patches\"},{\"attributes\":{\"data_source\":{\"id\":\"2034\"},\"glyph\":{\"id\":\"2035\"},\"hover_glyph\":null,\"muted_glyph\":null,\"nonselection_glyph\":{\"id\":\"2036\"},\"view\":{\"id\":\"2038\"}},\"id\":\"2037\",\"type\":\"GlyphRenderer\"}],\"root_ids\":[\"2003\"]},\"title\":\"Bokeh Application\",\"version\":\"2.3.0\"}};\n",
       "  var render_items = [{\"docid\":\"f84219d5-91b0-4865-8dea-562432fda1c5\",\"root_ids\":[\"2003\"],\"roots\":{\"2003\":\"6ffe2038-7af1-4015-a828-3a3e1f9e7636\"}}];\n",
       "  root.Bokeh.embed.embed_items_notebook(docs_json, render_items);\n",
       "\n",
       "  }\n",
       "  if (root.Bokeh !== undefined) {\n",
       "    embed_document(root);\n",
       "  } else {\n",
       "    var attempts = 0;\n",
       "    var timer = setInterval(function(root) {\n",
       "      if (root.Bokeh !== undefined) {\n",
       "        clearInterval(timer);\n",
       "        embed_document(root);\n",
       "      } else {\n",
       "        attempts++;\n",
       "        if (attempts > 100) {\n",
       "          clearInterval(timer);\n",
       "          console.log(\"Bokeh: ERROR: Unable to run BokehJS code because BokehJS library is missing\");\n",
       "        }\n",
       "      }\n",
       "    }, 10, root)\n",
       "  }\n",
       "})(window);"
      ],
      "application/vnd.bokehjs_exec.v0+json": ""
     },
     "metadata": {
      "application/vnd.bokehjs_exec.v0+json": {
       "id": "2003"
      }
     },
     "output_type": "display_data"
    }
   ],
   "source": [
    "xs = [[1,1,2,2], [2,2,4], [2,2,3,3]]\n",
    "ys = [[2,5,5,2], [3,5,5], [2,3,4,2]]\n",
    "plot = figure(plot_height=300)\n",
    "plot.patches(xs, ys, fill_color=['red', 'blue','green'], line_color='white')\n",
    "# output_file('patches.html')\n",
    "show(plot)"
   ]
  },
  {
   "cell_type": "markdown",
   "metadata": {},
   "source": [
    "**Other glyphs**\n",
    "\n",
    "* annulus()\n",
    "* annular_wedge()\n",
    "* wedge()\n",
    "* rect()\n",
    "* quad()\n",
    "* vbar()\n",
    "* hbar()\n",
    "* image()\n",
    "* image_rgba()\n",
    "* image_url()\n",
    "* patch()\n",
    "* patches()\n",
    "* line()\n",
    "* multi_line()\n",
    "* circle()\n",
    "* oval()\n",
    "* ellipse()\n",
    "* arc()\n",
    "* quadratic()\n",
    "* bezier()"
   ]
  },
  {
   "cell_type": "markdown",
   "metadata": {},
   "source": [
    "### Lines\n",
    "\n",
    "We can draw lines on Bokeh plots with the `line()` glyph function.\n",
    "\n",
    "In this exercise, you'll plot the daily adjusted closing price of Apple Inc.'s stock (AAPL) from 2000 to 2013.\n",
    "\n",
    "The data points are provided for you as lists. `date` is a list of [datetime objects][1] to plot on the x-axis and `price` is a list of prices to plot on the y-axis.\n",
    "\n",
    "Since we are plotting dates on the x-axis, you must add `x_axis_type='datetime'` when creating the figure object.\n",
    "\n",
    "**Instructions**\n",
    "\n",
    "* Import the `figure` function from `bokeh.plotting`.\n",
    "* Create a figure `p` using the `figure()` function with `x_axis_type` set to `'datetime'`. The other two parameters are `x_axis_label` and `y_axis_label`.\n",
    "* Plot `date` and `price` along the x- and y-axes using `p.line()`.\n",
    "\n",
    "  [1]: https://docs.python.org/3.5/library/datetime.html"
   ]
  },
  {
   "cell_type": "code",
   "execution_count": 18,
   "metadata": {},
   "outputs": [
    {
     "data": {
      "text/html": [
       "\n",
       "\n",
       "\n",
       "\n",
       "\n",
       "\n",
       "  <div class=\"bk-root\" id=\"7d7dbdab-2b27-4349-83fd-de2f1fef0f7a\" data-root-id=\"2188\"></div>\n"
      ]
     },
     "metadata": {},
     "output_type": "display_data"
    },
    {
     "data": {
      "application/javascript": [
       "(function(root) {\n",
       "  function embed_document(root) {\n",
       "    \n",
       "  var docs_json = {\"0f5763df-57d6-4fb5-9bff-cb73745635bf\":{\"defs\":[{\"extends\":null,\"module\":null,\"name\":\"DataModel\",\"overrides\":[],\"properties\":[]}],\"roots\":{\"references\":[{\"attributes\":{\"below\":[{\"id\":\"2197\"}],\"center\":[{\"id\":\"2200\"},{\"id\":\"2204\"}],\"height\":300,\"left\":[{\"id\":\"2201\"}],\"renderers\":[{\"id\":\"2222\"}],\"title\":{\"id\":\"2318\"},\"toolbar\":{\"id\":\"2212\"},\"x_range\":{\"id\":\"2189\"},\"x_scale\":{\"id\":\"2193\"},\"y_range\":{\"id\":\"2191\"},\"y_scale\":{\"id\":\"2195\"}},\"id\":\"2188\",\"subtype\":\"Figure\",\"type\":\"Plot\"},{\"attributes\":{},\"id\":\"2189\",\"type\":\"DataRange1d\"},{\"attributes\":{\"data\":{\"x\":{\"__ndarray__\":\"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\",\"dtype\":\"float64\",\"order\":\"little\",\"shape\":[3270]},\"y\":{\"__ndarray__\":\"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\",\"dtype\":\"float64\",\"order\":\"little\",\"shape\":[3270]}},\"selected\":{\"id\":\"2327\"},\"selection_policy\":{\"id\":\"2326\"}},\"id\":\"2219\",\"type\":\"ColumnDataSource\"},{\"attributes\":{\"active_multi\":null,\"tools\":[{\"id\":\"2205\"},{\"id\":\"2206\"},{\"id\":\"2207\"},{\"id\":\"2208\"},{\"id\":\"2209\"},{\"id\":\"2210\"}]},\"id\":\"2212\",\"type\":\"Toolbar\"},{\"attributes\":{},\"id\":\"2320\",\"type\":\"BasicTickFormatter\"},{\"attributes\":{},\"id\":\"2195\",\"type\":\"LinearScale\"},{\"attributes\":{},\"id\":\"2193\",\"type\":\"LinearScale\"},{\"attributes\":{},\"id\":\"2318\",\"type\":\"Title\"},{\"attributes\":{\"source\":{\"id\":\"2219\"}},\"id\":\"2223\",\"type\":\"CDSView\"},{\"attributes\":{\"mantissas\":[1,2,5],\"max_interval\":500.0,\"num_minor_ticks\":0},\"id\":\"2329\",\"type\":\"AdaptiveTicker\"},{\"attributes\":{\"bottom_units\":\"screen\",\"fill_alpha\":0.5,\"fill_color\":\"lightgrey\",\"left_units\":\"screen\",\"level\":\"overlay\",\"line_alpha\":1.0,\"line_color\":\"black\",\"line_dash\":[4,4],\"line_width\":2,\"right_units\":\"screen\",\"syncable\":false,\"top_units\":\"screen\"},\"id\":\"2211\",\"type\":\"BoxAnnotation\"},{\"attributes\":{\"data_source\":{\"id\":\"2219\"},\"glyph\":{\"id\":\"2220\"},\"hover_glyph\":null,\"muted_glyph\":null,\"nonselection_glyph\":{\"id\":\"2221\"},\"view\":{\"id\":\"2223\"}},\"id\":\"2222\",\"type\":\"GlyphRenderer\"},{\"attributes\":{\"line_color\":\"green\",\"x\":{\"field\":\"x\"},\"y\":{\"field\":\"y\"}},\"id\":\"2220\",\"type\":\"Line\"},{\"attributes\":{},\"id\":\"2202\",\"type\":\"BasicTicker\"},{\"attributes\":{\"axis_label\":\"US Dollars\",\"formatter\":{\"id\":\"2320\"},\"major_label_policy\":{\"id\":\"2321\"},\"ticker\":{\"id\":\"2202\"}},\"id\":\"2201\",\"type\":\"LinearAxis\"},{\"attributes\":{},\"id\":\"2323\",\"type\":\"DatetimeTickFormatter\"},{\"attributes\":{\"base\":60,\"mantissas\":[1,2,5,10,15,20,30],\"max_interval\":1800000.0,\"min_interval\":1000.0,\"num_minor_ticks\":0},\"id\":\"2330\",\"type\":\"AdaptiveTicker\"},{\"attributes\":{},\"id\":\"2208\",\"type\":\"SaveTool\"},{\"attributes\":{\"base\":24,\"mantissas\":[1,2,4,6,8,12],\"max_interval\":43200000.0,\"min_interval\":3600000.0,\"num_minor_ticks\":0},\"id\":\"2331\",\"type\":\"AdaptiveTicker\"},{\"attributes\":{},\"id\":\"2340\",\"type\":\"YearsTicker\"},{\"attributes\":{},\"id\":\"2209\",\"type\":\"ResetTool\"},{\"attributes\":{\"months\":[0,1,2,3,4,5,6,7,8,9,10,11]},\"id\":\"2336\",\"type\":\"MonthsTicker\"},{\"attributes\":{\"days\":[1,15]},\"id\":\"2335\",\"type\":\"DaysTicker\"},{\"attributes\":{},\"id\":\"2324\",\"type\":\"AllLabels\"},{\"attributes\":{\"axis\":{\"id\":\"2201\"},\"dimension\":1,\"ticker\":null},\"id\":\"2204\",\"type\":\"Grid\"},{\"attributes\":{\"days\":[1,2,3,4,5,6,7,8,9,10,11,12,13,14,15,16,17,18,19,20,21,22,23,24,25,26,27,28,29,30,31]},\"id\":\"2332\",\"type\":\"DaysTicker\"},{\"attributes\":{\"days\":[1,4,7,10,13,16,19,22,25,28]},\"id\":\"2333\",\"type\":\"DaysTicker\"},{\"attributes\":{\"days\":[1,8,15,22]},\"id\":\"2334\",\"type\":\"DaysTicker\"},{\"attributes\":{},\"id\":\"2205\",\"type\":\"PanTool\"},{\"attributes\":{\"months\":[0,6]},\"id\":\"2339\",\"type\":\"MonthsTicker\"},{\"attributes\":{},\"id\":\"2210\",\"type\":\"HelpTool\"},{\"attributes\":{\"months\":[0,2,4,6,8,10]},\"id\":\"2337\",\"type\":\"MonthsTicker\"},{\"attributes\":{\"overlay\":{\"id\":\"2211\"}},\"id\":\"2207\",\"type\":\"BoxZoomTool\"},{\"attributes\":{\"axis_label\":\"Date\",\"formatter\":{\"id\":\"2323\"},\"major_label_policy\":{\"id\":\"2324\"},\"ticker\":{\"id\":\"2198\"}},\"id\":\"2197\",\"type\":\"DatetimeAxis\"},{\"attributes\":{},\"id\":\"2206\",\"type\":\"WheelZoomTool\"},{\"attributes\":{\"axis\":{\"id\":\"2197\"},\"ticker\":null},\"id\":\"2200\",\"type\":\"Grid\"},{\"attributes\":{},\"id\":\"2191\",\"type\":\"DataRange1d\"},{\"attributes\":{\"num_minor_ticks\":5,\"tickers\":[{\"id\":\"2329\"},{\"id\":\"2330\"},{\"id\":\"2331\"},{\"id\":\"2332\"},{\"id\":\"2333\"},{\"id\":\"2334\"},{\"id\":\"2335\"},{\"id\":\"2336\"},{\"id\":\"2337\"},{\"id\":\"2338\"},{\"id\":\"2339\"},{\"id\":\"2340\"}]},\"id\":\"2198\",\"type\":\"DatetimeTicker\"},{\"attributes\":{\"months\":[0,4,8]},\"id\":\"2338\",\"type\":\"MonthsTicker\"},{\"attributes\":{},\"id\":\"2326\",\"type\":\"UnionRenderers\"},{\"attributes\":{},\"id\":\"2327\",\"type\":\"Selection\"},{\"attributes\":{\"line_alpha\":0.1,\"line_color\":\"green\",\"x\":{\"field\":\"x\"},\"y\":{\"field\":\"y\"}},\"id\":\"2221\",\"type\":\"Line\"},{\"attributes\":{},\"id\":\"2321\",\"type\":\"AllLabels\"}],\"root_ids\":[\"2188\"]},\"title\":\"Bokeh Application\",\"version\":\"2.3.0\"}};\n",
       "  var render_items = [{\"docid\":\"0f5763df-57d6-4fb5-9bff-cb73745635bf\",\"root_ids\":[\"2188\"],\"roots\":{\"2188\":\"7d7dbdab-2b27-4349-83fd-de2f1fef0f7a\"}}];\n",
       "  root.Bokeh.embed.embed_items_notebook(docs_json, render_items);\n",
       "\n",
       "  }\n",
       "  if (root.Bokeh !== undefined) {\n",
       "    embed_document(root);\n",
       "  } else {\n",
       "    var attempts = 0;\n",
       "    var timer = setInterval(function(root) {\n",
       "      if (root.Bokeh !== undefined) {\n",
       "        clearInterval(timer);\n",
       "        embed_document(root);\n",
       "      } else {\n",
       "        attempts++;\n",
       "        if (attempts > 100) {\n",
       "          clearInterval(timer);\n",
       "          console.log(\"Bokeh: ERROR: Unable to run BokehJS code because BokehJS library is missing\");\n",
       "        }\n",
       "      }\n",
       "    }, 10, root)\n",
       "  }\n",
       "})(window);"
      ],
      "application/vnd.bokehjs_exec.v0+json": ""
     },
     "metadata": {
      "application/vnd.bokehjs_exec.v0+json": {
       "id": "2188"
      }
     },
     "output_type": "display_data"
    }
   ],
   "source": [
    "# Create a figure with x_axis_type=\"datetime\": p\n",
    "p = figure(plot_height=300, x_axis_type=\"datetime\", x_axis_label='Date', y_axis_label='US Dollars')\n",
    "\n",
    "# Plot date along the x axis and price along the y axis\n",
    "p.line(aapl['date'], aapl['adj_close'], line_color='green')\n",
    "\n",
    "# Specify the name of the output file and show the result\n",
    "# output_file('line.html')\n",
    "show(p)"
   ]
  },
  {
   "cell_type": "markdown",
   "metadata": {},
   "source": [
    "### Lines and markers\n",
    "\n",
    "Lines and markers can be combined by plotting them separately using the same data points.\n",
    "\n",
    "In this exercise, you'll plot a line and circle glyph for the AAPL stock prices. Further, you'll adjust the `fill_color` keyword argument of the `circle()` glyph function while leaving the `line_color` at the default value.\n",
    "\n",
    "The `date` and `price` lists are provided. The Bokeh figure object p that you created in the previous exercise has also been provided.\n",
    "\n",
    "**Instructions**\n",
    "\n",
    "* Plot `date` along the x-axis and `price` along the y-axis with `p.line()`.\n",
    "* With `date` on the x-axis and `price` on the y-axis, use `p.circle()` to add a `'white'` circle glyph of size `4`. To do this, you will need to specify the `fill_color` and `size` arguments."
   ]
  },
  {
   "cell_type": "code",
   "execution_count": 19,
   "metadata": {},
   "outputs": [
    {
     "data": {
      "text/html": [
       "<div>\n",
       "<style scoped>\n",
       "    .dataframe tbody tr th:only-of-type {\n",
       "        vertical-align: middle;\n",
       "    }\n",
       "\n",
       "    .dataframe tbody tr th {\n",
       "        vertical-align: top;\n",
       "    }\n",
       "\n",
       "    .dataframe thead th {\n",
       "        text-align: right;\n",
       "    }\n",
       "</style>\n",
       "<table border=\"1\" class=\"dataframe\">\n",
       "  <thead>\n",
       "    <tr style=\"text-align: right;\">\n",
       "      <th></th>\n",
       "      <th>adj_close</th>\n",
       "      <th>close</th>\n",
       "      <th>date</th>\n",
       "      <th>high</th>\n",
       "      <th>low</th>\n",
       "      <th>open</th>\n",
       "      <th>volume</th>\n",
       "    </tr>\n",
       "  </thead>\n",
       "  <tbody>\n",
       "    <tr>\n",
       "      <th>0</th>\n",
       "      <td>31.68</td>\n",
       "      <td>130.31</td>\n",
       "      <td>2000-03-01</td>\n",
       "      <td>132.06</td>\n",
       "      <td>118.50</td>\n",
       "      <td>118.56</td>\n",
       "      <td>38478000</td>\n",
       "    </tr>\n",
       "    <tr>\n",
       "      <th>1</th>\n",
       "      <td>29.66</td>\n",
       "      <td>122.00</td>\n",
       "      <td>2000-03-02</td>\n",
       "      <td>127.94</td>\n",
       "      <td>120.69</td>\n",
       "      <td>127.00</td>\n",
       "      <td>11136800</td>\n",
       "    </tr>\n",
       "    <tr>\n",
       "      <th>2</th>\n",
       "      <td>31.12</td>\n",
       "      <td>128.00</td>\n",
       "      <td>2000-03-03</td>\n",
       "      <td>128.23</td>\n",
       "      <td>120.00</td>\n",
       "      <td>124.87</td>\n",
       "      <td>11565200</td>\n",
       "    </tr>\n",
       "    <tr>\n",
       "      <th>3</th>\n",
       "      <td>30.56</td>\n",
       "      <td>125.69</td>\n",
       "      <td>2000-03-06</td>\n",
       "      <td>129.13</td>\n",
       "      <td>125.00</td>\n",
       "      <td>126.00</td>\n",
       "      <td>7520000</td>\n",
       "    </tr>\n",
       "    <tr>\n",
       "      <th>4</th>\n",
       "      <td>29.87</td>\n",
       "      <td>122.87</td>\n",
       "      <td>2000-03-07</td>\n",
       "      <td>127.44</td>\n",
       "      <td>121.12</td>\n",
       "      <td>126.44</td>\n",
       "      <td>9767600</td>\n",
       "    </tr>\n",
       "  </tbody>\n",
       "</table>\n",
       "</div>"
      ],
      "text/plain": [
       "   adj_close   close       date    high     low    open    volume\n",
       "0      31.68  130.31 2000-03-01  132.06  118.50  118.56  38478000\n",
       "1      29.66  122.00 2000-03-02  127.94  120.69  127.00  11136800\n",
       "2      31.12  128.00 2000-03-03  128.23  120.00  124.87  11565200\n",
       "3      30.56  125.69 2000-03-06  129.13  125.00  126.00   7520000\n",
       "4      29.87  122.87 2000-03-07  127.44  121.12  126.44   9767600"
      ]
     },
     "execution_count": 19,
     "metadata": {},
     "output_type": "execute_result"
    }
   ],
   "source": [
    "aapl_mar_jul_2000 = aapl[(aapl['date'] >= '2000-01') & (aapl['date'] < '2000-08')]\n",
    "aapl_mar_jul_2000.head()"
   ]
  },
  {
   "cell_type": "code",
   "execution_count": 20,
   "metadata": {},
   "outputs": [
    {
     "data": {
      "text/html": [
       "\n",
       "\n",
       "\n",
       "\n",
       "\n",
       "\n",
       "  <div class=\"bk-root\" id=\"4ff25f85-e035-471f-a739-2dfa0fc46485\" data-root-id=\"2456\"></div>\n"
      ]
     },
     "metadata": {},
     "output_type": "display_data"
    },
    {
     "data": {
      "application/javascript": [
       "(function(root) {\n",
       "  function embed_document(root) {\n",
       "    \n",
       "  var docs_json = {\"8fa48c59-c7b9-41b2-9c64-00b6dbabda8c\":{\"defs\":[{\"extends\":null,\"module\":null,\"name\":\"DataModel\",\"overrides\":[],\"properties\":[]}],\"roots\":{\"references\":[{\"attributes\":{\"below\":[{\"id\":\"2465\"}],\"center\":[{\"id\":\"2468\"},{\"id\":\"2472\"}],\"height\":300,\"left\":[{\"id\":\"2469\"}],\"renderers\":[{\"id\":\"2490\"},{\"id\":\"2495\"}],\"title\":{\"id\":\"2614\"},\"toolbar\":{\"id\":\"2480\"},\"x_range\":{\"id\":\"2457\"},\"x_scale\":{\"id\":\"2461\"},\"y_range\":{\"id\":\"2459\"},\"y_scale\":{\"id\":\"2463\"}},\"id\":\"2456\",\"subtype\":\"Figure\",\"type\":\"Plot\"},{\"attributes\":{\"active_multi\":null,\"tools\":[{\"id\":\"2473\"},{\"id\":\"2474\"},{\"id\":\"2475\"},{\"id\":\"2476\"},{\"id\":\"2477\"},{\"id\":\"2478\"}]},\"id\":\"2480\",\"type\":\"Toolbar\"},{\"attributes\":{\"overlay\":{\"id\":\"2479\"}},\"id\":\"2475\",\"type\":\"BoxZoomTool\"},{\"attributes\":{},\"id\":\"2622\",\"type\":\"UnionRenderers\"},{\"attributes\":{\"axis_label\":\"Date\",\"formatter\":{\"id\":\"2619\"},\"major_label_policy\":{\"id\":\"2620\"},\"ticker\":{\"id\":\"2466\"}},\"id\":\"2465\",\"type\":\"DatetimeAxis\"},{\"attributes\":{\"bottom_units\":\"screen\",\"fill_alpha\":0.5,\"fill_color\":\"lightgrey\",\"left_units\":\"screen\",\"level\":\"overlay\",\"line_alpha\":1.0,\"line_color\":\"black\",\"line_dash\":[4,4],\"line_width\":2,\"right_units\":\"screen\",\"syncable\":false,\"top_units\":\"screen\"},\"id\":\"2479\",\"type\":\"BoxAnnotation\"},{\"attributes\":{\"data\":{\"x\":{\"__ndarray__\":\"AACAp/mza0IAAABznrRrQgAAgD5DtWtCAAAAoTG3a0IAAIBs1rdrQgAAADh7uGtCAACAAyC5a0IAAADPxLlrQgAAgDGzu2tCAAAA/Ve8a0IAAIDI/LxrQgAAAJShvWtCAACAX0a+a0IAAADCNMBrQgAAgI3ZwGtCAAAAWX7Ba0IAAIAkI8JrQgAAAPDHwmtCAACAUrbEa0IAAAAeW8VrQgAAgOn/xWtCAAAAtaTGa0IAAICAScdrQgAAAOM3yWtCAACArtzJa0IAAAB6gcprQgAAgEUmy2tCAAAAEcvLa0IAAIBzuc1rQgAAAD9ezmtCAACACgPPa0IAAADWp89rQgAAgKFM0GtCAAAABDvSa0IAAIDP39JrQgAAAJuE02tCAACAZinUa0IAAICUvNZrQgAAAGBh12tCAACAKwbYa0IAAAD3qthrQgAAgMJP2WtCAAAAJT7ba0IAAIDw4ttrQgAAALyH3GtCAACAhyzda0IAAABT0d1rQgAAgLW/32tCAAAAgWTga0IAAIBMCeFrQgAAABiu4WtCAACA41Lia0IAAABGQeRrQgAAgBHm5GtCAAAA3Yrla0IAAICoL+ZrQgAAAHTU5mtCAACA1sLoa0IAAACiZ+lrQgAAgG0M6mtCAAAAObHqa0IAAIAEVutrQgAAgDLp7WtCAAAA/o3ua0IAAIDJMu9rQgAAAJXX72tCAACA98Xxa0IAAADDavJrQgAAgI4P82tCAAAAWrTza0IAAIAlWfRrQgAAAIhH9mtCAACAU+z2a0IAAAAfkfdrQgAAgOo1+GtCAAAAttr4a0IAAIAYyfprQgAAAORt+2tCAACArxL8a0IAAAB7t/xrQgAAgEZc/WtCAAAAqUr/a0IAAIB07/9rQgAAAECUAGxCAACACzkBbEIAAADX3QFsQgAAgDnMA2xCAACA0BUFbEIAAACcugVsQgAAgGdfBmxCAAAAyk0IbEIAAICV8ghsQgAAAGGXCWxCAACALDwKbEIAAAD44ApsQgAAgFrPDGxCAAAAJnQNbEIAAIDxGA5sQgAAAL29DmxCAACAiGIPbEIAAADrUBFsQgAAgLb1EWxCAAAAgpoSbEIAAIBNPxNsQgAAABnkE2xCAACAe9IVbEI=\",\"dtype\":\"float64\",\"order\":\"little\",\"shape\":[106]},\"y\":{\"__ndarray__\":\"rkfhehSuP0ApXI/C9ag9QB+F61G4Hj9Aj8L1KFyPPkAfhetRuN49QClcj8L1qD1AuB6F61G4PUBSuB6F65E+QAAAAAAAgD1ASOF6FK7HO0DD9Shcj0I8QI/C9Shcjz1ApHA9CtdjPkApXI/C9eg9QEjhehSuZ0BASOF6FK6HQUCuR+F6FC5BQFyPwvUo3EBA16NwPQr3QEAK16NwPepAQGZmZmZmhkBAUrgeheuRPkDD9Shcj4JAQBSuR+F6NEBAMzMzMzPzPkAzMzMzM7M/QHE9CtejcD5ApHA9CtcDQECkcD0K12M+QArXo3A9Cj1Aj8L1KFyPOkDsUbgehas7QDMzMzMzMztAH4XrUbgePkCamZmZmdk+QDMzMzMzcz1AZmZmZmbmPEDNzMzMzEw9QDMzMzMzMz9AAAAAAACAPUBSuB6F69E+QClcj8L1KD5AuB6F61E4PkApXI/C9ag8QHsUrkfh+jtAKVyPwvXoOkAAAAAAAIA7QIXrUbgexTpApHA9CtejOUBmZmZmZiY4QAAAAAAAADlA7FG4HoUrOkCPwvUoXI84QDMzMzMzszlAZmZmZmamOEAAAAAAAIA4QJqZmZmZ2TZAH4XrUbjeNUBcj8L1KNw0QFK4HoXrUTVAuB6F61E4NUAAAAAAAAA1QArXo3A9SjVA7FG4HoVrNEDsUbgehas1QAAAAAAAgDZAMzMzMzMzNkAUrkfhepQ2QHsUrkfhejdAzczMzMwMN0BI4XoUrkc3QOxRuB6FKzZAexSuR+H6NkA9CtejcP01QPYoXI/CdTZA7FG4HoUrNkA9CtejcH03QB+F61G4njhAzczMzMwMO0CkcD0K1yM6QKRwPQrXIzlAUrgehetROkApXI/C9Sg5QLgehetReDpA7FG4HoXrOEC4HoXrUXg5QOxRuB6F6zlAXI/C9SgcOUBxPQrXozA5QLgehetReDpASOF6FK7HO0BxPQrXo7A7QOF6FK5HoTxAuB6F61F4O0DNzMzMzAw8QJqZmZmZWTxA16NwPQrXO0AfhetRuJ45QI/C9ShczzpACtejcD0KOkCuR+F6FK43QNejcD0KVzhA16NwPQpXOEAK16NwPUo5QD0K16NwfTdA9ihcj8K1OEA=\",\"dtype\":\"float64\",\"order\":\"little\",\"shape\":[106]}},\"selected\":{\"id\":\"2623\"},\"selection_policy\":{\"id\":\"2622\"}},\"id\":\"2487\",\"type\":\"ColumnDataSource\"},{\"attributes\":{},\"id\":\"2623\",\"type\":\"Selection\"},{\"attributes\":{\"base\":60,\"mantissas\":[1,2,5,10,15,20,30],\"max_interval\":1800000.0,\"min_interval\":1000.0,\"num_minor_ticks\":0},\"id\":\"2628\",\"type\":\"AdaptiveTicker\"},{\"attributes\":{\"base\":24,\"mantissas\":[1,2,4,6,8,12],\"max_interval\":43200000.0,\"min_interval\":3600000.0,\"num_minor_ticks\":0},\"id\":\"2629\",\"type\":\"AdaptiveTicker\"},{\"attributes\":{\"line_alpha\":0.1,\"line_color\":\"#1f77b4\",\"x\":{\"field\":\"x\"},\"y\":{\"field\":\"y\"}},\"id\":\"2489\",\"type\":\"Line\"},{\"attributes\":{},\"id\":\"2638\",\"type\":\"YearsTicker\"},{\"attributes\":{},\"id\":\"2474\",\"type\":\"WheelZoomTool\"},{\"attributes\":{\"months\":[0,1,2,3,4,5,6,7,8,9,10,11]},\"id\":\"2634\",\"type\":\"MonthsTicker\"},{\"attributes\":{},\"id\":\"2616\",\"type\":\"BasicTickFormatter\"},{\"attributes\":{\"days\":[1,15]},\"id\":\"2633\",\"type\":\"DaysTicker\"},{\"attributes\":{\"days\":[1,2,3,4,5,6,7,8,9,10,11,12,13,14,15,16,17,18,19,20,21,22,23,24,25,26,27,28,29,30,31]},\"id\":\"2630\",\"type\":\"DaysTicker\"},{\"attributes\":{\"days\":[1,4,7,10,13,16,19,22,25,28]},\"id\":\"2631\",\"type\":\"DaysTicker\"},{\"attributes\":{\"days\":[1,8,15,22]},\"id\":\"2632\",\"type\":\"DaysTicker\"},{\"attributes\":{},\"id\":\"2617\",\"type\":\"AllLabels\"},{\"attributes\":{\"months\":[0,6]},\"id\":\"2637\",\"type\":\"MonthsTicker\"},{\"attributes\":{\"months\":[0,2,4,6,8,10]},\"id\":\"2635\",\"type\":\"MonthsTicker\"},{\"attributes\":{\"months\":[0,4,8]},\"id\":\"2636\",\"type\":\"MonthsTicker\"},{\"attributes\":{},\"id\":\"2624\",\"type\":\"UnionRenderers\"},{\"attributes\":{\"fill_color\":{\"value\":\"white\"},\"line_color\":{\"value\":\"#1f77b4\"},\"x\":{\"field\":\"x\"},\"y\":{\"field\":\"y\"}},\"id\":\"2493\",\"type\":\"Circle\"},{\"attributes\":{},\"id\":\"2476\",\"type\":\"SaveTool\"},{\"attributes\":{},\"id\":\"2625\",\"type\":\"Selection\"},{\"attributes\":{\"axis_label\":\"US Dollars\",\"formatter\":{\"id\":\"2616\"},\"major_label_policy\":{\"id\":\"2617\"},\"ticker\":{\"id\":\"2470\"}},\"id\":\"2469\",\"type\":\"LinearAxis\"},{\"attributes\":{\"num_minor_ticks\":5,\"tickers\":[{\"id\":\"2627\"},{\"id\":\"2628\"},{\"id\":\"2629\"},{\"id\":\"2630\"},{\"id\":\"2631\"},{\"id\":\"2632\"},{\"id\":\"2633\"},{\"id\":\"2634\"},{\"id\":\"2635\"},{\"id\":\"2636\"},{\"id\":\"2637\"},{\"id\":\"2638\"}]},\"id\":\"2466\",\"type\":\"DatetimeTicker\"},{\"attributes\":{},\"id\":\"2470\",\"type\":\"BasicTicker\"},{\"attributes\":{\"axis\":{\"id\":\"2465\"},\"ticker\":null},\"id\":\"2468\",\"type\":\"Grid\"},{\"attributes\":{},\"id\":\"2461\",\"type\":\"LinearScale\"},{\"attributes\":{\"line_color\":\"#1f77b4\",\"x\":{\"field\":\"x\"},\"y\":{\"field\":\"y\"}},\"id\":\"2488\",\"type\":\"Line\"},{\"attributes\":{\"data\":{\"x\":{\"__ndarray__\":\"AACAp/mza0IAAABznrRrQgAAgD5DtWtCAAAAoTG3a0IAAIBs1rdrQgAAADh7uGtCAACAAyC5a0IAAADPxLlrQgAAgDGzu2tCAAAA/Ve8a0IAAIDI/LxrQgAAAJShvWtCAACAX0a+a0IAAADCNMBrQgAAgI3ZwGtCAAAAWX7Ba0IAAIAkI8JrQgAAAPDHwmtCAACAUrbEa0IAAAAeW8VrQgAAgOn/xWtCAAAAtaTGa0IAAICAScdrQgAAAOM3yWtCAACArtzJa0IAAAB6gcprQgAAgEUmy2tCAAAAEcvLa0IAAIBzuc1rQgAAAD9ezmtCAACACgPPa0IAAADWp89rQgAAgKFM0GtCAAAABDvSa0IAAIDP39JrQgAAAJuE02tCAACAZinUa0IAAICUvNZrQgAAAGBh12tCAACAKwbYa0IAAAD3qthrQgAAgMJP2WtCAAAAJT7ba0IAAIDw4ttrQgAAALyH3GtCAACAhyzda0IAAABT0d1rQgAAgLW/32tCAAAAgWTga0IAAIBMCeFrQgAAABiu4WtCAACA41Lia0IAAABGQeRrQgAAgBHm5GtCAAAA3Yrla0IAAICoL+ZrQgAAAHTU5mtCAACA1sLoa0IAAACiZ+lrQgAAgG0M6mtCAAAAObHqa0IAAIAEVutrQgAAgDLp7WtCAAAA/o3ua0IAAIDJMu9rQgAAAJXX72tCAACA98Xxa0IAAADDavJrQgAAgI4P82tCAAAAWrTza0IAAIAlWfRrQgAAAIhH9mtCAACAU+z2a0IAAAAfkfdrQgAAgOo1+GtCAAAAttr4a0IAAIAYyfprQgAAAORt+2tCAACArxL8a0IAAAB7t/xrQgAAgEZc/WtCAAAAqUr/a0IAAIB07/9rQgAAAECUAGxCAACACzkBbEIAAADX3QFsQgAAgDnMA2xCAACA0BUFbEIAAACcugVsQgAAgGdfBmxCAAAAyk0IbEIAAICV8ghsQgAAAGGXCWxCAACALDwKbEIAAAD44ApsQgAAgFrPDGxCAAAAJnQNbEIAAIDxGA5sQgAAAL29DmxCAACAiGIPbEIAAADrUBFsQgAAgLb1EWxCAAAAgpoSbEIAAIBNPxNsQgAAABnkE2xCAACAe9IVbEI=\",\"dtype\":\"float64\",\"order\":\"little\",\"shape\":[106]},\"y\":{\"__ndarray__\":\"rkfhehSuP0ApXI/C9ag9QB+F61G4Hj9Aj8L1KFyPPkAfhetRuN49QClcj8L1qD1AuB6F61G4PUBSuB6F65E+QAAAAAAAgD1ASOF6FK7HO0DD9Shcj0I8QI/C9Shcjz1ApHA9CtdjPkApXI/C9eg9QEjhehSuZ0BASOF6FK6HQUCuR+F6FC5BQFyPwvUo3EBA16NwPQr3QEAK16NwPepAQGZmZmZmhkBAUrgeheuRPkDD9Shcj4JAQBSuR+F6NEBAMzMzMzPzPkAzMzMzM7M/QHE9CtejcD5ApHA9CtcDQECkcD0K12M+QArXo3A9Cj1Aj8L1KFyPOkDsUbgehas7QDMzMzMzMztAH4XrUbgePkCamZmZmdk+QDMzMzMzcz1AZmZmZmbmPEDNzMzMzEw9QDMzMzMzMz9AAAAAAACAPUBSuB6F69E+QClcj8L1KD5AuB6F61E4PkApXI/C9ag8QHsUrkfh+jtAKVyPwvXoOkAAAAAAAIA7QIXrUbgexTpApHA9CtejOUBmZmZmZiY4QAAAAAAAADlA7FG4HoUrOkCPwvUoXI84QDMzMzMzszlAZmZmZmamOEAAAAAAAIA4QJqZmZmZ2TZAH4XrUbjeNUBcj8L1KNw0QFK4HoXrUTVAuB6F61E4NUAAAAAAAAA1QArXo3A9SjVA7FG4HoVrNEDsUbgehas1QAAAAAAAgDZAMzMzMzMzNkAUrkfhepQ2QHsUrkfhejdAzczMzMwMN0BI4XoUrkc3QOxRuB6FKzZAexSuR+H6NkA9CtejcP01QPYoXI/CdTZA7FG4HoUrNkA9CtejcH03QB+F61G4njhAzczMzMwMO0CkcD0K1yM6QKRwPQrXIzlAUrgehetROkApXI/C9Sg5QLgehetReDpA7FG4HoXrOEC4HoXrUXg5QOxRuB6F6zlAXI/C9SgcOUBxPQrXozA5QLgehetReDpASOF6FK7HO0BxPQrXo7A7QOF6FK5HoTxAuB6F61F4O0DNzMzMzAw8QJqZmZmZWTxA16NwPQrXO0AfhetRuJ45QI/C9ShczzpACtejcD0KOkCuR+F6FK43QNejcD0KVzhA16NwPQpXOEAK16NwPUo5QD0K16NwfTdA9ihcj8K1OEA=\",\"dtype\":\"float64\",\"order\":\"little\",\"shape\":[106]}},\"selected\":{\"id\":\"2625\"},\"selection_policy\":{\"id\":\"2624\"}},\"id\":\"2492\",\"type\":\"ColumnDataSource\"},{\"attributes\":{},\"id\":\"2619\",\"type\":\"DatetimeTickFormatter\"},{\"attributes\":{\"data_source\":{\"id\":\"2487\"},\"glyph\":{\"id\":\"2488\"},\"hover_glyph\":null,\"muted_glyph\":null,\"nonselection_glyph\":{\"id\":\"2489\"},\"view\":{\"id\":\"2491\"}},\"id\":\"2490\",\"type\":\"GlyphRenderer\"},{\"attributes\":{},\"id\":\"2477\",\"type\":\"ResetTool\"},{\"attributes\":{\"fill_alpha\":{\"value\":0.1},\"fill_color\":{\"value\":\"white\"},\"line_alpha\":{\"value\":0.1},\"line_color\":{\"value\":\"#1f77b4\"},\"x\":{\"field\":\"x\"},\"y\":{\"field\":\"y\"}},\"id\":\"2494\",\"type\":\"Circle\"},{\"attributes\":{},\"id\":\"2620\",\"type\":\"AllLabels\"},{\"attributes\":{},\"id\":\"2614\",\"type\":\"Title\"},{\"attributes\":{},\"id\":\"2473\",\"type\":\"PanTool\"},{\"attributes\":{},\"id\":\"2463\",\"type\":\"LinearScale\"},{\"attributes\":{},\"id\":\"2459\",\"type\":\"DataRange1d\"},{\"attributes\":{},\"id\":\"2457\",\"type\":\"DataRange1d\"},{\"attributes\":{\"axis\":{\"id\":\"2469\"},\"dimension\":1,\"ticker\":null},\"id\":\"2472\",\"type\":\"Grid\"},{\"attributes\":{},\"id\":\"2478\",\"type\":\"HelpTool\"},{\"attributes\":{\"data_source\":{\"id\":\"2492\"},\"glyph\":{\"id\":\"2493\"},\"hover_glyph\":null,\"muted_glyph\":null,\"nonselection_glyph\":{\"id\":\"2494\"},\"view\":{\"id\":\"2496\"}},\"id\":\"2495\",\"type\":\"GlyphRenderer\"},{\"attributes\":{\"source\":{\"id\":\"2487\"}},\"id\":\"2491\",\"type\":\"CDSView\"},{\"attributes\":{\"mantissas\":[1,2,5],\"max_interval\":500.0,\"num_minor_ticks\":0},\"id\":\"2627\",\"type\":\"AdaptiveTicker\"},{\"attributes\":{\"source\":{\"id\":\"2492\"}},\"id\":\"2496\",\"type\":\"CDSView\"}],\"root_ids\":[\"2456\"]},\"title\":\"Bokeh Application\",\"version\":\"2.3.0\"}};\n",
       "  var render_items = [{\"docid\":\"8fa48c59-c7b9-41b2-9c64-00b6dbabda8c\",\"root_ids\":[\"2456\"],\"roots\":{\"2456\":\"4ff25f85-e035-471f-a739-2dfa0fc46485\"}}];\n",
       "  root.Bokeh.embed.embed_items_notebook(docs_json, render_items);\n",
       "\n",
       "  }\n",
       "  if (root.Bokeh !== undefined) {\n",
       "    embed_document(root);\n",
       "  } else {\n",
       "    var attempts = 0;\n",
       "    var timer = setInterval(function(root) {\n",
       "      if (root.Bokeh !== undefined) {\n",
       "        clearInterval(timer);\n",
       "        embed_document(root);\n",
       "      } else {\n",
       "        attempts++;\n",
       "        if (attempts > 100) {\n",
       "          clearInterval(timer);\n",
       "          console.log(\"Bokeh: ERROR: Unable to run BokehJS code because BokehJS library is missing\");\n",
       "        }\n",
       "      }\n",
       "    }, 10, root)\n",
       "  }\n",
       "})(window);"
      ],
      "application/vnd.bokehjs_exec.v0+json": ""
     },
     "metadata": {
      "application/vnd.bokehjs_exec.v0+json": {
       "id": "2456"
      }
     },
     "output_type": "display_data"
    }
   ],
   "source": [
    "# Create a figure with x_axis_type=\"datetime\": p\n",
    "p = figure(plot_height=300, x_axis_type=\"datetime\", x_axis_label='Date', y_axis_label='US Dollars')\n",
    "\n",
    "# Plot date along the x axis and price along the y axis\n",
    "p.line(aapl_mar_jul_2000['date'], aapl_mar_jul_2000['adj_close'])\n",
    "\n",
    "# With date on the x-axis and price on the y-axis, add a white circle glyph of size 4\n",
    "p.circle(aapl_mar_jul_2000['date'], aapl_mar_jul_2000['adj_close'], fill_color='white', size=4)\n",
    "\n",
    "# Specify the name of the output file and show the result\n",
    "# output_file('line.html')\n",
    "show(p)"
   ]
  },
  {
   "cell_type": "markdown",
   "metadata": {},
   "source": [
    "### Patches\n",
    "\n",
    "In Bokeh, extended geometrical shapes can be plotted by using the `patches()` glyph function. The patches glyph takes as input a list-of-lists collection of numeric values specifying the vertices in x and y directions of each distinct patch to plot.\n",
    "\n",
    "In this exercise, you will plot the state borders of Arizona, Colorado, New Mexico and Utah. The latitude and longitude vertices for each state have been prepared as lists.\n",
    "\n",
    "Your job is to plot longitude on the x-axis and latitude on the y-axis. The figure object has been created for you as `p`.\n",
    "\n",
    "**Instructions**\n",
    "\n",
    "* Create a list of the longitude positions for each state as `x`. This has already been done for you.\n",
    "* Create a list of the latitude positions for each state as `y`. The variable names for the latitude positions are `az_lats`, `co_lats`, `nm_lats`, and `ut_lats`.\n",
    "* Use the `.patches()` method to add the patches glyph to the figure `p`. Supply the `x` and `y` lists as arguments along with a `line_color` of `'white'`."
   ]
  },
  {
   "cell_type": "code",
   "execution_count": 21,
   "metadata": {},
   "outputs": [],
   "source": [
    "az_lons = state_coor_dict['az'].az_lons\n",
    "az_lats = state_coor_dict['az'].az_lats\n",
    "co_lons = state_coor_dict['co'].co_lons\n",
    "co_lats = state_coor_dict['co'].co_lats\n",
    "nm_lons = state_coor_dict['nm'].nm_lons\n",
    "nm_lats = state_coor_dict['nm'].nm_lats\n",
    "ut_lons = state_coor_dict['ut'].ut_lons\n",
    "ut_lats = state_coor_dict['ut'].ut_lats"
   ]
  },
  {
   "cell_type": "code",
   "execution_count": 22,
   "metadata": {},
   "outputs": [
    {
     "data": {
      "text/html": [
       "\n",
       "\n",
       "\n",
       "\n",
       "\n",
       "\n",
       "  <div class=\"bk-root\" id=\"1258f942-52c6-49f3-adfc-919a5c27ea39\" data-root-id=\"2764\"></div>\n"
      ]
     },
     "metadata": {},
     "output_type": "display_data"
    },
    {
     "data": {
      "application/javascript": [
       "(function(root) {\n",
       "  function embed_document(root) {\n",
       "    \n",
       "  var docs_json = {\"305a36d5-5629-4df2-b920-5f6cd5c604ee\":{\"defs\":[{\"extends\":null,\"module\":null,\"name\":\"DataModel\",\"overrides\":[],\"properties\":[]}],\"roots\":{\"references\":[{\"attributes\":{\"below\":[{\"id\":\"2773\"}],\"center\":[{\"id\":\"2776\"},{\"id\":\"2780\"}],\"height\":400,\"left\":[{\"id\":\"2777\"}],\"renderers\":[{\"id\":\"2798\"}],\"title\":{\"id\":\"2942\"},\"toolbar\":{\"id\":\"2788\"},\"width\":400,\"x_range\":{\"id\":\"2765\"},\"x_scale\":{\"id\":\"2769\"},\"y_range\":{\"id\":\"2767\"},\"y_scale\":{\"id\":\"2771\"}},\"id\":\"2764\",\"subtype\":\"Figure\",\"type\":\"Plot\"},{\"attributes\":{},\"id\":\"2942\",\"type\":\"Title\"},{\"attributes\":{},\"id\":\"2767\",\"type\":\"DataRange1d\"},{\"attributes\":{\"formatter\":{\"id\":\"2944\"},\"major_label_policy\":{\"id\":\"2945\"},\"ticker\":{\"id\":\"2778\"}},\"id\":\"2777\",\"type\":\"LinearAxis\"},{\"attributes\":{\"source\":{\"id\":\"2795\"}},\"id\":\"2799\",\"type\":\"CDSView\"},{\"attributes\":{\"active_multi\":null,\"tools\":[{\"id\":\"2781\"},{\"id\":\"2782\"},{\"id\":\"2783\"},{\"id\":\"2784\"},{\"id\":\"2785\"},{\"id\":\"2786\"}]},\"id\":\"2788\",\"type\":\"Toolbar\"},{\"attributes\":{\"fill_color\":{\"value\":\"#1f77b4\"},\"line_color\":{\"value\":\"white\"},\"xs\":{\"field\":\"xs\"},\"ys\":{\"field\":\"ys\"}},\"id\":\"2796\",\"type\":\"Patches\"},{\"attributes\":{},\"id\":\"2785\",\"type\":\"ResetTool\"},{\"attributes\":{},\"id\":\"2784\",\"type\":\"SaveTool\"},{\"attributes\":{\"overlay\":{\"id\":\"2787\"}},\"id\":\"2783\",\"type\":\"BoxZoomTool\"},{\"attributes\":{},\"id\":\"2781\",\"type\":\"PanTool\"},{\"attributes\":{},\"id\":\"2769\",\"type\":\"LinearScale\"},{\"attributes\":{},\"id\":\"2947\",\"type\":\"BasicTickFormatter\"},{\"attributes\":{},\"id\":\"2782\",\"type\":\"WheelZoomTool\"},{\"attributes\":{\"data\":{\"xs\":[[-114.63332,-114.63349,-114.63423,-114.60899,-114.63064,-114.57354,-114.58031,-114.61121,-114.6768,-114.66076,-114.65449,-114.68702,-114.69704,-114.70415,-114.67489,-114.70883,-114.74365,-114.73513,-114.6729,-114.51122,-114.32346,-114.22646,-114.1139,-114.04404,-114.04338,-114.04736,-114.05014,-114.0506,-114.0506,-114.05052,-113.94557,-113.86852,-113.62465,-113.4727,-113.32097,-113.17698,-113.02079,-112.99281,-112.96895,-112.75086,-112.48455,-112.32985,-111.99142,-111.58602,-111.39598,-111.2523,-111.03957,-110.73783,-110.54945,-110.272,-110.13851,-109.83491,-109.43568,-109.26993,-109.04538,-109.04522,-109.04522,-109.04531,-109.04544,-109.04547,-109.04579,-109.04575,-109.04601,-109.04578,-109.04606,-109.04621,-109.04636,-109.04662,-109.04644,-109.04598,-109.04603,-109.04633,-109.04692,-109.047,-109.04691,-109.0474,-109.04762,-109.04764,-109.04811,-109.04905,-109.04911,-109.05004,-109.0587,-109.25062,-109.30069,-109.33682,-109.38186,-109.45105,-109.5287,-109.62562,-109.79302,-109.97582,-110.20503,-110.49327,-110.56918,-110.65415,-110.77828,-110.87564,-110.93778,-110.94286,-110.97553,-111.12565,-111.24082,-111.29191,-111.32558,-111.3574,-111.38483,-111.44337,-111.47861,-111.49725,-111.53479,-111.56975,-111.62412,-111.66,-111.73365,-111.79498,-111.9182,-111.97172,-111.99115,-112.02937,-112.09379,-112.13972,-112.15906,-112.21295,-112.32605,-112.39932,-112.43603,-112.52208,-112.57141,-112.63294,-112.67695,-112.72356,-112.75567,-112.8055,-112.83423,-112.8711,-112.90863,-113.20884,-113.2279,-113.30314,-113.61086,-113.78489,-113.90756,-113.97121,-114.11135,-114.20719,-114.25559,-114.28755,-114.38472,-114.61337,-114.77804,-114.81394,-114.81518,-114.80524,-114.81037,-114.81335,-114.80551,-114.80529,-114.79282,-114.79206,-114.79555,-114.81362,-114.80894,-114.80404,-114.80093,-114.80804,-114.80891,-114.80192,-114.79518,-114.7819,-114.77309,-114.76427,-114.74805,-114.74638,-114.74505,-114.74456,-114.74203,-114.74,-114.73874,-114.73062,-114.72924,-114.72377,-114.71994,-114.71919,-114.69096,-114.63501,-114.58576,-114.46563,-114.48131,-114.62973,-114.68157,-114.72123,-114.61185,-114.5402,-114.49649,-114.52801,-114.51318,-114.49813,-114.4355,-114.35765,-114.26017,-114.14737,-114.29195,-114.38169,-114.44166,-114.48236,-114.56953,-114.63305],[-109.04984,-109.06017,-109.06015,-109.05655,-109.05305,-109.05158,-109.05119,-109.05077,-109.05132,-109.05077,-109.05087,-109.05088,-109.05093,-109.05088,-109.05051,-109.04899,-109.04907,-109.05008,-109.03134,-108.83854,-108.6996,-108.59802,-108.46524,-108.25764,-108.10567,-107.91411,-107.75063,-107.55479,-107.35937,-107.27483,-107.12561,-106.9166,-106.59389,-106.32621,-106.06118,-105.82273,-105.60473,-105.46928,-105.2756,-105.07514,-104.86787,-104.58704,-104.24506,-104.0535,-104.05325,-104.05153,-103.90732,-103.61529,-103.46471,-103.30624,-103.00202,-102.88728,-102.76668,-102.55879,-102.38345,-102.23951,-102.12861,-102.05156,-102.05154,-102.05152,-102.05145,-102.05143,-102.05144,-102.05144,-102.0515,-102.0515,-102.05152,-102.05131,-102.05145,-102.05176,-102.05176,-102.05174,-102.05174,-102.05139,-102.0506,-102.04955,-102.04907,-102.04875,-102.04802,-102.04541,-102.04514,-102.04524,-102.04494,-102.04501,-102.04479,-102.04452,-102.04447,-102.04431,-102.04456,-102.04402,-102.04286,-102.04166,-102.04179,-102.04178,-102.04192,-102.04196,-102.04199,-102.0421,-102.04209,-102.04538,-102.05418,-102.07425,-102.09059,-102.17511,-102.19751,-102.24848,-102.26493,-102.29933,-102.34378,-102.35537,-102.40232,-102.49444,-102.52468,-102.57091,-102.62547,-102.68337,-102.7059,-102.77324,-102.81507,-102.86545,-102.89315,-102.9279,-102.97961,-102.98698,-103.00214,-103.0022,-103.01356,-103.26061,-103.53892,-103.92627,-104.17265,-104.49245,-104.76311,-105.15658,-105.50752,-105.6576,-105.93761,-106.15386,-106.4654,-106.61906,-106.73137,-106.89142,-107.00562,-107.25094,-107.4121,-107.49519,-107.8669,-108.20233,-108.52833,-108.7496,-108.8978,-109.04518,-109.04522,-109.04531,-109.04519,-109.04583,-109.04582,-109.04191,-109.04159,-109.04304,-109.04232,-109.0498],[-103.55583,-104.00265,-104.64165,-105.14679,-105.90075,-106.55721,-106.63119,-106.62216,-106.63325,-106.61103,-106.54568,-106.52834,-106.52861,-106.53181,-106.55963,-106.56993,-106.60042,-106.61408,-106.62967,-106.67613,-106.68194,-106.7505,-106.75874,-106.77057,-106.82052,-106.87555,-106.89949,-106.93928,-106.96546,-106.98754,-106.99317,-106.99823,-106.99882,-107.00056,-107.12556,-107.2773,-107.29766,-107.3093,-107.32402,-107.35469,-107.37629,-107.39716,-107.42244,-107.47074,-107.50261,-107.53069,-107.5835,-107.62497,-107.6266,-107.62774,-107.62988,-107.63241,-107.63786,-107.64356,-107.65173,-107.66987,-107.70084,-107.70821,-107.75058,-107.7889,-107.84105,-107.86238,-107.8711,-107.88551,-107.90473,-107.964,-108.00059,-108.044,-108.05664,-108.07876,-108.08267,-108.1052,-108.15227,-108.17096,-108.1986,-108.20839,-108.20844,-108.20841,-108.2084,-108.20838,-108.20837,-108.2083,-108.20814,-108.20819,-108.20835,-108.20869,-108.20855,-108.20852,-108.20849,-108.20839,-108.20848,-108.20854,-108.20857,-108.36757,-108.38904,-108.44606,-108.47535,-108.53011,-108.61731,-108.65709,-108.70766,-108.71907,-108.72702,-108.73503,-108.73904,-108.7506,-108.75906,-108.82206,-108.86103,-108.88692,-109.00061,-109.05004,-109.05004,-109.04911,-109.04905,-109.04811,-109.04764,-109.04762,-109.0474,-109.04691,-109.047,-109.04692,-109.04633,-109.04603,-109.04598,-109.04644,-109.04662,-109.04636,-109.04621,-109.04606,-109.04578,-109.04601,-109.04575,-109.04579,-109.04547,-109.04544,-109.04531,-109.04522,-109.04522,-109.04518,-108.8978,-108.7496,-108.52833,-108.20233,-107.8669,-107.49519,-107.4121,-107.25094,-107.00562,-106.89142,-106.73137,-106.61906,-106.4654,-106.15386,-105.93761,-105.6576,-105.50752,-105.15658,-104.76311,-104.49245,-104.17265,-103.92627,-103.53892,-103.26061,-103.01356,-103.0022,-103.0022,-103.00232,-103.00232,-103.00228,-103.00227,-103.00224,-103.00223,-103.00218,-103.00206,-103.00213,-103.00215,-103.0021,-103.00214,-103.00218,-103.00237,-103.00218,-103.0023,-103.00226,-103.00223,-103.00226,-103.0023,-103.00233,-103.00233,-103.00228,-103.00228,-103.00245,-103.00243,-103.02394,-103.04133,-103.04249,-103.04239,-103.04283,-103.04312,-103.04338,-103.04362,-103.04374,-103.04376,-103.04993,-103.05727,-103.06464,-103.06478,-103.53275],[-114.04392,-114.04391,-114.04375,-114.04195,-114.04061,-114.04055,-114.0398,-114.04172,-114.0391,-113.80254,-113.64886,-113.49562,-113.36362,-113.20505,-113.10627,-112.96233,-112.83266,-112.78175,-112.68558,-112.58229,-112.45023,-112.26534,-112.1985,-112.10309,-111.98965,-111.9304,-111.88098,-111.82932,-111.73177,-111.51913,-111.4087,-111.26009,-111.14884,-111.04934,-111.04669,-111.04682,-111.04631,-111.04601,-111.0458,-111.04611,-111.04648,-111.04667,-111.04688,-111.04686,-110.94406,-110.86384,-110.70521,-110.55878,-110.43401,-110.34177,-110.25071,-110.14713,-110.0004,-109.90645,-109.75044,-109.67348,-109.63381,-109.51776,-109.43099,-109.30329,-109.05847,-109.05008,-109.04907,-109.04899,-109.05051,-109.05088,-109.05093,-109.05088,-109.05087,-109.05077,-109.05132,-109.05077,-109.05119,-109.05158,-109.05305,-109.05655,-109.06015,-109.06017,-109.04984,-109.0498,-109.04232,-109.04304,-109.04159,-109.04191,-109.04582,-109.04583,-109.04519,-109.04531,-109.04522,-109.04538,-109.26993,-109.43568,-109.83491,-110.13851,-110.272,-110.54945,-110.73783,-111.03957,-111.2523,-111.39598,-111.58602,-111.99142,-112.32985,-112.48455,-112.75086,-112.96895,-112.99281,-113.02079,-113.17698,-113.32097,-113.4727,-113.62465,-113.86852,-113.94557,-114.05052,-114.0506,-114.05187,-114.05264,-114.05198,-114.04939,-114.05013,-114.04997,-114.04992,-114.04916,-114.04833,-114.04885,-114.04841,-114.04779,-114.0473,-114.04757,-114.04727,-114.04658,-114.04644,-114.04619,-114.04558]],\"ys\":[[34.87057,35.00186,35.00332,35.07971,35.11791,35.14231,35.21811,35.37012,35.49125,35.5417,35.60517,35.66942,35.73579,35.81412,35.86436,35.9167,35.98542,36.05493,36.11546,36.15058,36.10119,36.01461,36.09833,36.21464,36.37619,36.60322,36.817,36.99997,37.0004,37.0004,36.99998,36.99998,36.99998,36.99998,36.99998,36.99998,37.00022,37.00017,37.00012,37.00048,37.00094,37.00105,37.00097,37.00166,37.00147,37.00102,37.00247,37.00325,37.00383,36.99828,36.99845,36.99831,36.9991,36.99926,36.99908,36.99908,36.99897,36.8531,36.70384,36.54513,36.41637,36.29154,36.18724,36.03128,35.93088,35.81044,35.65092,35.45859,35.30697,34.91388,34.71264,34.44558,34.08446,33.71335,33.3477,33.07165,32.70386,32.40743,32.1771,31.87069,31.63698,31.3325,31.33252,31.3338,31.33396,31.334,31.33394,31.33406,31.33393,31.33408,31.33399,31.33341,31.33363,31.33296,31.33299,31.33305,31.33363,31.33328,31.33281,31.33283,31.33257,31.34898,31.38586,31.40231,31.41305,31.42333,31.43196,31.45068,31.46195,31.4678,31.47995,31.49099,31.50825,31.51945,31.54305,31.56227,31.6012,31.61823,31.62425,31.63623,31.65645,31.67094,31.67701,31.69377,31.72891,31.75165,31.76301,31.78954,31.80473,31.82357,31.83702,31.8513,31.86132,31.87666,31.88514,31.89671,31.90787,31.99917,32.0054,32.02905,32.12566,32.17992,32.21797,32.2376,32.28088,32.31044,32.32538,32.33509,32.36468,32.43408,32.48373,32.49526,32.50602,32.50999,32.51839,32.52419,32.53277,32.54351,32.55396,32.56772,32.56625,32.56133,32.57093,32.58137,32.5955,32.60317,32.61295,32.6238,32.62325,32.6247,32.63705,32.65006,32.66489,32.66985,32.67414,32.6785,32.68221,32.68517,32.68732,32.6986,32.70545,32.71192,32.71829,32.71943,32.73946,32.73137,32.73487,32.87408,32.97206,33.03255,33.23376,33.39691,33.47131,33.58709,33.6969,33.84446,33.91285,33.96372,34.04257,34.12866,34.17212,34.31087,34.41527,34.47903,34.64288,34.71453,34.79181,34.86997],[38.215,38.40118,38.60929,38.81393,38.95788,39.11656,39.22605,39.36423,39.56752,39.79876,40.03782,40.18844,40.2929,40.41493,40.50615,40.68445,40.87296,41.00066,41.00051,41.00013,41.0001,40.99996,41.00008,41.00011,41.00139,41.00205,41.00197,41.00228,41.00305,41.00283,41.00305,41.00315,41.00213,40.99927,40.997,40.99701,40.99722,40.99766,40.99818,40.9983,40.99826,41.00153,41.00162,41.00139,41.00141,41.00153,41.00166,41.0017,41.00185,41.00191,41.00239,41.00231,41.00234,41.00243,41.00245,41.00235,41.00247,40.97899,40.9255,40.87501,40.82214,40.75901,40.71742,40.69984,40.65115,40.61334,40.55651,40.48846,40.31022,40.1605,40.01399,40.00308,40.00061,39.87098,39.67645,39.53889,39.40853,39.33572,39.24305,38.84279,38.66387,38.59586,38.52933,38.47219,38.41997,38.30634,38.26504,38.17556,38.05734,37.94303,37.80941,37.68749,37.49347,37.45597,37.3385,37.22191,37.10676,36.99352,36.99302,36.99306,36.99305,36.99311,36.99325,36.99357,36.99367,36.9942,36.99439,36.99425,36.99441,36.99457,36.99479,36.99494,36.99487,36.99513,36.99504,36.9952,36.99557,36.99885,36.99977,36.99959,36.99944,36.99908,36.99855,36.99852,37.0001,37.0001,37.00021,36.99956,36.99892,36.99669,36.99511,36.99367,36.9935,36.99527,36.99589,36.99578,36.99556,36.99469,36.99378,36.99303,36.99263,37.00014,37.00001,37.00001,37.0,37.00001,37.0,36.99924,36.99927,36.99887,36.99885,36.99908,36.99908,37.01706,37.09597,37.20443,37.35363,37.5667,37.7899,37.97469,38.10272,38.21472],[32.00032,32.00001,32.00041,32.0005,32.00198,32.00076,31.98981,31.93601,31.90997,31.84661,31.8054,31.78318,31.78328,31.78391,31.78394,31.78395,31.78399,31.784,31.78409,31.78395,31.78393,31.78371,31.78394,31.78404,31.78385,31.78384,31.78379,31.78378,31.78381,31.7837,31.78369,31.78367,31.78367,31.78355,31.78354,31.78377,31.78367,31.78366,31.78367,31.78365,31.78367,31.78365,31.7836,31.78365,31.78366,31.78365,31.78369,31.78365,31.78374,31.78374,31.78374,31.78374,31.7837,31.78371,31.78371,31.78368,31.78368,31.78368,31.78361,31.78363,31.78365,31.7836,31.78359,31.78359,31.7836,31.78363,31.78365,31.78361,31.78357,31.78351,31.7835,31.78353,31.78357,31.78358,31.78359,31.7836,31.74465,31.72969,31.72323,31.7194,31.71733,31.68878,31.62561,31.58935,31.5608,31.52581,31.50105,31.4998,31.47883,31.42917,31.37656,31.3561,31.3334,31.3334,31.33341,31.33347,31.33344,31.33336,31.33329,31.33323,31.33319,31.33307,31.33298,31.3329,31.33285,31.33273,31.33261,31.33226,31.33232,31.33231,31.33217,31.33224,31.3325,31.63698,31.87069,32.1771,32.40743,32.70386,33.07165,33.3477,33.71335,34.08446,34.44558,34.71264,34.91388,35.30697,35.45859,35.65092,35.81044,35.93088,36.03128,36.18724,36.29154,36.41637,36.54513,36.70384,36.8531,36.99897,36.99908,36.99908,36.99885,36.99887,36.99927,36.99924,37.0,37.00001,37.0,37.00001,37.00001,37.00014,36.99263,36.99303,36.99378,36.99469,36.99556,36.99578,36.99589,36.99527,36.9935,36.99367,36.99511,36.99669,36.99892,36.99956,37.00021,37.0001,37.00006,36.9686,36.95031,36.91582,36.91402,36.90243,36.89755,36.86996,36.81735,36.76898,36.74295,36.7193,36.7013,36.68525,36.67653,36.65329,36.6278,36.60265,36.5919,36.56927,36.56386,36.54875,36.52963,36.51475,36.50609,36.50046,36.5004,36.50042,35.76515,35.21202,35.1362,34.88888,34.67259,34.53564,34.40999,34.27181,34.03983,33.71754,33.35051,33.00011,32.59516,32.00034],[40.68928,40.68985,40.76026,41.05548,41.36,41.59062,41.89425,41.99372,41.99367,41.98895,41.99102,41.99331,41.99384,41.99645,41.99735,41.99841,41.99938,41.99973,42.00021,42.00054,42.00099,42.00111,42.00116,41.99763,41.99834,41.99861,41.99856,41.99875,41.99926,41.99951,42.00063,42.00132,42.00154,42.00159,42.00157,42.00034,41.83664,41.64119,41.52149,41.41513,41.36572,41.20441,41.10318,41.00917,40.9976,40.99725,40.99635,40.99635,40.99485,40.99533,40.99609,40.99634,40.99734,40.99766,40.99797,40.99841,40.9983,40.99871,40.99964,41.00064,41.00069,41.00066,40.87296,40.68445,40.50615,40.41493,40.2929,40.18844,40.03782,39.79876,39.56752,39.36423,39.22605,39.11656,38.95788,38.81393,38.60929,38.40118,38.215,38.21472,38.10272,37.97469,37.7899,37.5667,37.35363,37.20443,37.09597,37.01706,36.99908,36.99908,36.99926,36.9991,36.99831,36.99845,36.99828,37.00383,37.00325,37.00247,37.00102,37.00147,37.00166,37.00097,37.00105,37.00094,37.00048,37.00012,37.00017,37.00022,36.99998,36.99998,36.99998,36.99998,36.99998,36.99998,37.0004,37.0004,37.13439,37.47222,37.70735,37.77873,37.95499,38.20495,38.55049,38.75165,38.90545,39.08777,39.23851,39.36296,39.45715,39.61018,39.75817,39.99994,40.09896,40.30302,40.4958]]},\"selected\":{\"id\":\"2951\"},\"selection_policy\":{\"id\":\"2950\"}},\"id\":\"2795\",\"type\":\"ColumnDataSource\"},{\"attributes\":{\"bottom_units\":\"screen\",\"fill_alpha\":0.5,\"fill_color\":\"lightgrey\",\"left_units\":\"screen\",\"level\":\"overlay\",\"line_alpha\":1.0,\"line_color\":\"black\",\"line_dash\":[4,4],\"line_width\":2,\"right_units\":\"screen\",\"syncable\":false,\"top_units\":\"screen\"},\"id\":\"2787\",\"type\":\"BoxAnnotation\"},{\"attributes\":{},\"id\":\"2778\",\"type\":\"BasicTicker\"},{\"attributes\":{},\"id\":\"2948\",\"type\":\"AllLabels\"},{\"attributes\":{\"axis\":{\"id\":\"2777\"},\"dimension\":1,\"ticker\":null},\"id\":\"2780\",\"type\":\"Grid\"},{\"attributes\":{},\"id\":\"2765\",\"type\":\"DataRange1d\"},{\"attributes\":{},\"id\":\"2944\",\"type\":\"BasicTickFormatter\"},{\"attributes\":{},\"id\":\"2950\",\"type\":\"UnionRenderers\"},{\"attributes\":{},\"id\":\"2945\",\"type\":\"AllLabels\"},{\"attributes\":{\"formatter\":{\"id\":\"2947\"},\"major_label_policy\":{\"id\":\"2948\"},\"ticker\":{\"id\":\"2774\"}},\"id\":\"2773\",\"type\":\"LinearAxis\"},{\"attributes\":{},\"id\":\"2786\",\"type\":\"HelpTool\"},{\"attributes\":{},\"id\":\"2771\",\"type\":\"LinearScale\"},{\"attributes\":{},\"id\":\"2774\",\"type\":\"BasicTicker\"},{\"attributes\":{},\"id\":\"2951\",\"type\":\"Selection\"},{\"attributes\":{\"axis\":{\"id\":\"2773\"},\"ticker\":null},\"id\":\"2776\",\"type\":\"Grid\"},{\"attributes\":{\"data_source\":{\"id\":\"2795\"},\"glyph\":{\"id\":\"2796\"},\"hover_glyph\":null,\"muted_glyph\":null,\"nonselection_glyph\":{\"id\":\"2797\"},\"view\":{\"id\":\"2799\"}},\"id\":\"2798\",\"type\":\"GlyphRenderer\"},{\"attributes\":{\"fill_alpha\":{\"value\":0.1},\"fill_color\":{\"value\":\"#1f77b4\"},\"line_alpha\":{\"value\":0.1},\"line_color\":{\"value\":\"white\"},\"xs\":{\"field\":\"xs\"},\"ys\":{\"field\":\"ys\"}},\"id\":\"2797\",\"type\":\"Patches\"}],\"root_ids\":[\"2764\"]},\"title\":\"Bokeh Application\",\"version\":\"2.3.0\"}};\n",
       "  var render_items = [{\"docid\":\"305a36d5-5629-4df2-b920-5f6cd5c604ee\",\"root_ids\":[\"2764\"],\"roots\":{\"2764\":\"1258f942-52c6-49f3-adfc-919a5c27ea39\"}}];\n",
       "  root.Bokeh.embed.embed_items_notebook(docs_json, render_items);\n",
       "\n",
       "  }\n",
       "  if (root.Bokeh !== undefined) {\n",
       "    embed_document(root);\n",
       "  } else {\n",
       "    var attempts = 0;\n",
       "    var timer = setInterval(function(root) {\n",
       "      if (root.Bokeh !== undefined) {\n",
       "        clearInterval(timer);\n",
       "        embed_document(root);\n",
       "      } else {\n",
       "        attempts++;\n",
       "        if (attempts > 100) {\n",
       "          clearInterval(timer);\n",
       "          console.log(\"Bokeh: ERROR: Unable to run BokehJS code because BokehJS library is missing\");\n",
       "        }\n",
       "      }\n",
       "    }, 10, root)\n",
       "  }\n",
       "})(window);"
      ],
      "application/vnd.bokehjs_exec.v0+json": ""
     },
     "metadata": {
      "application/vnd.bokehjs_exec.v0+json": {
       "id": "2764"
      }
     },
     "output_type": "display_data"
    }
   ],
   "source": [
    "# Create a list of az_lons, co_lons, nm_lons and ut_lons: x\n",
    "x = [az_lons, co_lons, nm_lons, ut_lons]\n",
    "\n",
    "# Create a list of az_lats, co_lats, nm_lats and ut_lats: y\n",
    "y = [az_lats, co_lats, nm_lats, ut_lats]\n",
    "\n",
    "# Add patches to figure p with line_color=white for x and y\n",
    "p = figure(plot_height=400, plot_width=400)\n",
    "p.patches(x, y, line_color='white')\n",
    "\n",
    "# Specify the name of the output file and show the result\n",
    "# output_file('four_corners.html')\n",
    "show(p)"
   ]
  },
  {
   "cell_type": "markdown",
   "metadata": {},
   "source": [
    "## Data formats\n",
    "\n",
    "**Python Basic Types**"
   ]
  },
  {
   "cell_type": "code",
   "execution_count": 23,
   "metadata": {},
   "outputs": [
    {
     "data": {
      "text/html": [
       "\n",
       "\n",
       "\n",
       "\n",
       "\n",
       "\n",
       "  <div class=\"bk-root\" id=\"fcffd883-9475-45ee-973a-0800b32b1bd2\" data-root-id=\"3008\"></div>\n"
      ]
     },
     "metadata": {},
     "output_type": "display_data"
    },
    {
     "data": {
      "application/javascript": [
       "(function(root) {\n",
       "  function embed_document(root) {\n",
       "    \n",
       "  var docs_json = {\"d407860b-7fdb-4280-98b1-f03b5c67ac35\":{\"defs\":[{\"extends\":null,\"module\":null,\"name\":\"DataModel\",\"overrides\":[],\"properties\":[]}],\"roots\":{\"references\":[{\"attributes\":{\"below\":[{\"id\":\"3017\"}],\"center\":[{\"id\":\"3020\"},{\"id\":\"3024\"}],\"height\":300,\"left\":[{\"id\":\"3021\"}],\"renderers\":[{\"id\":\"3042\"},{\"id\":\"3047\"}],\"title\":{\"id\":\"3202\"},\"toolbar\":{\"id\":\"3032\"},\"x_range\":{\"id\":\"3009\"},\"x_scale\":{\"id\":\"3013\"},\"y_range\":{\"id\":\"3011\"},\"y_scale\":{\"id\":\"3015\"}},\"id\":\"3008\",\"subtype\":\"Figure\",\"type\":\"Plot\"},{\"attributes\":{\"source\":{\"id\":\"3039\"}},\"id\":\"3043\",\"type\":\"CDSView\"},{\"attributes\":{\"source\":{\"id\":\"3044\"}},\"id\":\"3048\",\"type\":\"CDSView\"},{\"attributes\":{\"data_source\":{\"id\":\"3039\"},\"glyph\":{\"id\":\"3040\"},\"hover_glyph\":null,\"muted_glyph\":null,\"nonselection_glyph\":{\"id\":\"3041\"},\"view\":{\"id\":\"3043\"}},\"id\":\"3042\",\"type\":\"GlyphRenderer\"},{\"attributes\":{},\"id\":\"3210\",\"type\":\"UnionRenderers\"},{\"attributes\":{},\"id\":\"3211\",\"type\":\"Selection\"},{\"attributes\":{\"data_source\":{\"id\":\"3044\"},\"glyph\":{\"id\":\"3045\"},\"hover_glyph\":null,\"muted_glyph\":null,\"nonselection_glyph\":{\"id\":\"3046\"},\"view\":{\"id\":\"3048\"}},\"id\":\"3047\",\"type\":\"GlyphRenderer\"},{\"attributes\":{},\"id\":\"3204\",\"type\":\"BasicTickFormatter\"},{\"attributes\":{},\"id\":\"3205\",\"type\":\"AllLabels\"},{\"attributes\":{\"fill_alpha\":{\"value\":0.1},\"fill_color\":{\"value\":\"white\"},\"line_alpha\":{\"value\":0.1},\"line_color\":{\"value\":\"#1f77b4\"},\"size\":{\"value\":10},\"x\":{\"field\":\"x\"},\"y\":{\"field\":\"y\"}},\"id\":\"3046\",\"type\":\"Circle\"},{\"attributes\":{},\"id\":\"3029\",\"type\":\"ResetTool\"},{\"attributes\":{},\"id\":\"3028\",\"type\":\"SaveTool\"},{\"attributes\":{\"overlay\":{\"id\":\"3031\"}},\"id\":\"3027\",\"type\":\"BoxZoomTool\"},{\"attributes\":{\"fill_color\":{\"value\":\"white\"},\"line_color\":{\"value\":\"#1f77b4\"},\"size\":{\"value\":10},\"x\":{\"field\":\"x\"},\"y\":{\"field\":\"y\"}},\"id\":\"3045\",\"type\":\"Circle\"},{\"attributes\":{},\"id\":\"3025\",\"type\":\"PanTool\"},{\"attributes\":{},\"id\":\"3015\",\"type\":\"LinearScale\"},{\"attributes\":{},\"id\":\"3212\",\"type\":\"UnionRenderers\"},{\"attributes\":{},\"id\":\"3026\",\"type\":\"WheelZoomTool\"},{\"attributes\":{\"data\":{\"x\":[1,2,3,4,5],\"y\":[8,6,5,2,3]},\"selected\":{\"id\":\"3211\"},\"selection_policy\":{\"id\":\"3210\"}},\"id\":\"3039\",\"type\":\"ColumnDataSource\"},{\"attributes\":{\"line_color\":\"#1f77b4\",\"line_width\":3,\"x\":{\"field\":\"x\"},\"y\":{\"field\":\"y\"}},\"id\":\"3040\",\"type\":\"Line\"},{\"attributes\":{\"active_multi\":null,\"tools\":[{\"id\":\"3025\"},{\"id\":\"3026\"},{\"id\":\"3027\"},{\"id\":\"3028\"},{\"id\":\"3029\"},{\"id\":\"3030\"}]},\"id\":\"3032\",\"type\":\"Toolbar\"},{\"attributes\":{},\"id\":\"3011\",\"type\":\"DataRange1d\"},{\"attributes\":{},\"id\":\"3022\",\"type\":\"BasicTicker\"},{\"attributes\":{},\"id\":\"3009\",\"type\":\"DataRange1d\"},{\"attributes\":{\"axis\":{\"id\":\"3021\"},\"dimension\":1,\"ticker\":null},\"id\":\"3024\",\"type\":\"Grid\"},{\"attributes\":{},\"id\":\"3213\",\"type\":\"Selection\"},{\"attributes\":{\"data\":{\"x\":[1,2,3,4,5],\"y\":[8,6,5,2,3]},\"selected\":{\"id\":\"3213\"},\"selection_policy\":{\"id\":\"3212\"}},\"id\":\"3044\",\"type\":\"ColumnDataSource\"},{\"attributes\":{},\"id\":\"3202\",\"type\":\"Title\"},{\"attributes\":{},\"id\":\"3030\",\"type\":\"HelpTool\"},{\"attributes\":{},\"id\":\"3013\",\"type\":\"LinearScale\"},{\"attributes\":{\"formatter\":{\"id\":\"3204\"},\"major_label_policy\":{\"id\":\"3205\"},\"ticker\":{\"id\":\"3022\"}},\"id\":\"3021\",\"type\":\"LinearAxis\"},{\"attributes\":{\"formatter\":{\"id\":\"3207\"},\"major_label_policy\":{\"id\":\"3208\"},\"ticker\":{\"id\":\"3018\"}},\"id\":\"3017\",\"type\":\"LinearAxis\"},{\"attributes\":{},\"id\":\"3207\",\"type\":\"BasicTickFormatter\"},{\"attributes\":{},\"id\":\"3018\",\"type\":\"BasicTicker\"},{\"attributes\":{\"axis\":{\"id\":\"3017\"},\"ticker\":null},\"id\":\"3020\",\"type\":\"Grid\"},{\"attributes\":{\"bottom_units\":\"screen\",\"fill_alpha\":0.5,\"fill_color\":\"lightgrey\",\"left_units\":\"screen\",\"level\":\"overlay\",\"line_alpha\":1.0,\"line_color\":\"black\",\"line_dash\":[4,4],\"line_width\":2,\"right_units\":\"screen\",\"syncable\":false,\"top_units\":\"screen\"},\"id\":\"3031\",\"type\":\"BoxAnnotation\"},{\"attributes\":{\"line_alpha\":0.1,\"line_color\":\"#1f77b4\",\"line_width\":3,\"x\":{\"field\":\"x\"},\"y\":{\"field\":\"y\"}},\"id\":\"3041\",\"type\":\"Line\"},{\"attributes\":{},\"id\":\"3208\",\"type\":\"AllLabels\"}],\"root_ids\":[\"3008\"]},\"title\":\"Bokeh Application\",\"version\":\"2.3.0\"}};\n",
       "  var render_items = [{\"docid\":\"d407860b-7fdb-4280-98b1-f03b5c67ac35\",\"root_ids\":[\"3008\"],\"roots\":{\"3008\":\"fcffd883-9475-45ee-973a-0800b32b1bd2\"}}];\n",
       "  root.Bokeh.embed.embed_items_notebook(docs_json, render_items);\n",
       "\n",
       "  }\n",
       "  if (root.Bokeh !== undefined) {\n",
       "    embed_document(root);\n",
       "  } else {\n",
       "    var attempts = 0;\n",
       "    var timer = setInterval(function(root) {\n",
       "      if (root.Bokeh !== undefined) {\n",
       "        clearInterval(timer);\n",
       "        embed_document(root);\n",
       "      } else {\n",
       "        attempts++;\n",
       "        if (attempts > 100) {\n",
       "          clearInterval(timer);\n",
       "          console.log(\"Bokeh: ERROR: Unable to run BokehJS code because BokehJS library is missing\");\n",
       "        }\n",
       "      }\n",
       "    }, 10, root)\n",
       "  }\n",
       "})(window);"
      ],
      "application/vnd.bokehjs_exec.v0+json": ""
     },
     "metadata": {
      "application/vnd.bokehjs_exec.v0+json": {
       "id": "3008"
      }
     },
     "output_type": "display_data"
    }
   ],
   "source": [
    "x = [1,2,3,4,5]\n",
    "y = [8,6,5,2,3]\n",
    "plot = figure(plot_height=300)\n",
    "plot.line(x, y, line_width=3)\n",
    "plot.circle(x, y, fill_color='white', size=10)\n",
    "# output_file('basic.html')\n",
    "show(plot)"
   ]
  },
  {
   "cell_type": "markdown",
   "metadata": {},
   "source": [
    "**NumPy Arrays**"
   ]
  },
  {
   "cell_type": "code",
   "execution_count": 24,
   "metadata": {},
   "outputs": [
    {
     "data": {
      "text/html": [
       "\n",
       "\n",
       "\n",
       "\n",
       "\n",
       "\n",
       "  <div class=\"bk-root\" id=\"54f54fc5-1959-4eab-a63f-ba965918108e\" data-root-id=\"3280\"></div>\n"
      ]
     },
     "metadata": {},
     "output_type": "display_data"
    },
    {
     "data": {
      "application/javascript": [
       "(function(root) {\n",
       "  function embed_document(root) {\n",
       "    \n",
       "  var docs_json = {\"5d9e5993-613e-436d-a2b6-b8a213d6021f\":{\"defs\":[{\"extends\":null,\"module\":null,\"name\":\"DataModel\",\"overrides\":[],\"properties\":[]}],\"roots\":{\"references\":[{\"attributes\":{\"below\":[{\"id\":\"3289\"}],\"center\":[{\"id\":\"3292\"},{\"id\":\"3296\"}],\"height\":300,\"left\":[{\"id\":\"3293\"}],\"renderers\":[{\"id\":\"3314\"}],\"title\":{\"id\":\"3482\"},\"toolbar\":{\"id\":\"3304\"},\"x_range\":{\"id\":\"3281\"},\"x_scale\":{\"id\":\"3285\"},\"y_range\":{\"id\":\"3283\"},\"y_scale\":{\"id\":\"3287\"}},\"id\":\"3280\",\"subtype\":\"Figure\",\"type\":\"Plot\"},{\"attributes\":{\"source\":{\"id\":\"3311\"}},\"id\":\"3315\",\"type\":\"CDSView\"},{\"attributes\":{\"formatter\":{\"id\":\"3487\"},\"major_label_policy\":{\"id\":\"3488\"},\"ticker\":{\"id\":\"3290\"}},\"id\":\"3289\",\"type\":\"LinearAxis\"},{\"attributes\":{\"formatter\":{\"id\":\"3484\"},\"major_label_policy\":{\"id\":\"3485\"},\"ticker\":{\"id\":\"3294\"}},\"id\":\"3293\",\"type\":\"LinearAxis\"},{\"attributes\":{},\"id\":\"3302\",\"type\":\"HelpTool\"},{\"attributes\":{},\"id\":\"3287\",\"type\":\"LinearScale\"},{\"attributes\":{},\"id\":\"3281\",\"type\":\"DataRange1d\"},{\"attributes\":{},\"id\":\"3487\",\"type\":\"BasicTickFormatter\"},{\"attributes\":{\"line_color\":\"#1f77b4\",\"x\":{\"field\":\"x\"},\"y\":{\"field\":\"y\"}},\"id\":\"3312\",\"type\":\"Line\"},{\"attributes\":{},\"id\":\"3290\",\"type\":\"BasicTicker\"},{\"attributes\":{\"axis\":{\"id\":\"3289\"},\"ticker\":null},\"id\":\"3292\",\"type\":\"Grid\"},{\"attributes\":{},\"id\":\"3488\",\"type\":\"AllLabels\"},{\"attributes\":{},\"id\":\"3482\",\"type\":\"Title\"},{\"attributes\":{},\"id\":\"3490\",\"type\":\"UnionRenderers\"},{\"attributes\":{},\"id\":\"3491\",\"type\":\"Selection\"},{\"attributes\":{\"line_alpha\":0.1,\"line_color\":\"#1f77b4\",\"x\":{\"field\":\"x\"},\"y\":{\"field\":\"y\"}},\"id\":\"3313\",\"type\":\"Line\"},{\"attributes\":{},\"id\":\"3300\",\"type\":\"SaveTool\"},{\"attributes\":{},\"id\":\"3484\",\"type\":\"BasicTickFormatter\"},{\"attributes\":{},\"id\":\"3301\",\"type\":\"ResetTool\"},{\"attributes\":{\"bottom_units\":\"screen\",\"fill_alpha\":0.5,\"fill_color\":\"lightgrey\",\"left_units\":\"screen\",\"level\":\"overlay\",\"line_alpha\":1.0,\"line_color\":\"black\",\"line_dash\":[4,4],\"line_width\":2,\"right_units\":\"screen\",\"syncable\":false,\"top_units\":\"screen\"},\"id\":\"3303\",\"type\":\"BoxAnnotation\"},{\"attributes\":{},\"id\":\"3298\",\"type\":\"WheelZoomTool\"},{\"attributes\":{},\"id\":\"3297\",\"type\":\"PanTool\"},{\"attributes\":{\"overlay\":{\"id\":\"3303\"}},\"id\":\"3299\",\"type\":\"BoxZoomTool\"},{\"attributes\":{\"data_source\":{\"id\":\"3311\"},\"glyph\":{\"id\":\"3312\"},\"hover_glyph\":null,\"muted_glyph\":null,\"nonselection_glyph\":{\"id\":\"3313\"},\"view\":{\"id\":\"3315\"}},\"id\":\"3314\",\"type\":\"GlyphRenderer\"},{\"attributes\":{},\"id\":\"3285\",\"type\":\"LinearScale\"},{\"attributes\":{\"active_multi\":null,\"tools\":[{\"id\":\"3297\"},{\"id\":\"3298\"},{\"id\":\"3299\"},{\"id\":\"3300\"},{\"id\":\"3301\"},{\"id\":\"3302\"}]},\"id\":\"3304\",\"type\":\"Toolbar\"},{\"attributes\":{\"data\":{\"x\":{\"__ndarray__\":\"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\",\"dtype\":\"float64\",\"order\":\"little\",\"shape\":[1000]},\"y\":{\"__ndarray__\":\"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\",\"dtype\":\"float64\",\"order\":\"little\",\"shape\":[1000]}},\"selected\":{\"id\":\"3491\"},\"selection_policy\":{\"id\":\"3490\"}},\"id\":\"3311\",\"type\":\"ColumnDataSource\"},{\"attributes\":{},\"id\":\"3485\",\"type\":\"AllLabels\"},{\"attributes\":{},\"id\":\"3294\",\"type\":\"BasicTicker\"},{\"attributes\":{},\"id\":\"3283\",\"type\":\"DataRange1d\"},{\"attributes\":{\"axis\":{\"id\":\"3293\"},\"dimension\":1,\"ticker\":null},\"id\":\"3296\",\"type\":\"Grid\"}],\"root_ids\":[\"3280\"]},\"title\":\"Bokeh Application\",\"version\":\"2.3.0\"}};\n",
       "  var render_items = [{\"docid\":\"5d9e5993-613e-436d-a2b6-b8a213d6021f\",\"root_ids\":[\"3280\"],\"roots\":{\"3280\":\"54f54fc5-1959-4eab-a63f-ba965918108e\"}}];\n",
       "  root.Bokeh.embed.embed_items_notebook(docs_json, render_items);\n",
       "\n",
       "  }\n",
       "  if (root.Bokeh !== undefined) {\n",
       "    embed_document(root);\n",
       "  } else {\n",
       "    var attempts = 0;\n",
       "    var timer = setInterval(function(root) {\n",
       "      if (root.Bokeh !== undefined) {\n",
       "        clearInterval(timer);\n",
       "        embed_document(root);\n",
       "      } else {\n",
       "        attempts++;\n",
       "        if (attempts > 100) {\n",
       "          clearInterval(timer);\n",
       "          console.log(\"Bokeh: ERROR: Unable to run BokehJS code because BokehJS library is missing\");\n",
       "        }\n",
       "      }\n",
       "    }, 10, root)\n",
       "  }\n",
       "})(window);"
      ],
      "application/vnd.bokehjs_exec.v0+json": ""
     },
     "metadata": {
      "application/vnd.bokehjs_exec.v0+json": {
       "id": "3280"
      }
     },
     "output_type": "display_data"
    }
   ],
   "source": [
    "x = np.linspace(0, 10, 1000)\n",
    "y = np.sin(x) + np.random.random(1000) * 0.2\n",
    "plot = figure(plot_height=300)\n",
    "plot.line(x, y)\n",
    "# output_file('numpy.html')\n",
    "show(plot)"
   ]
  },
  {
   "cell_type": "markdown",
   "metadata": {},
   "source": [
    "**Pandas**"
   ]
  },
  {
   "cell_type": "code",
   "execution_count": 25,
   "metadata": {},
   "outputs": [
    {
     "data": {
      "text/html": [
       "\n",
       "\n",
       "\n",
       "\n",
       "\n",
       "\n",
       "  <div class=\"bk-root\" id=\"819beae6-f6fe-4a8c-95fc-351c3b06ed92\" data-root-id=\"3548\"></div>\n"
      ]
     },
     "metadata": {},
     "output_type": "display_data"
    },
    {
     "data": {
      "application/javascript": [
       "(function(root) {\n",
       "  function embed_document(root) {\n",
       "    \n",
       "  var docs_json = {\"181473e8-fc5b-4ad0-999e-ee761782e234\":{\"defs\":[{\"extends\":null,\"module\":null,\"name\":\"DataModel\",\"overrides\":[],\"properties\":[]}],\"roots\":{\"references\":[{\"attributes\":{\"below\":[{\"id\":\"3557\"}],\"center\":[{\"id\":\"3560\"},{\"id\":\"3564\"}],\"height\":300,\"left\":[{\"id\":\"3561\"}],\"renderers\":[{\"id\":\"3582\"}],\"title\":{\"id\":\"3761\"},\"toolbar\":{\"id\":\"3572\"},\"x_range\":{\"id\":\"3549\"},\"x_scale\":{\"id\":\"3553\"},\"y_range\":{\"id\":\"3551\"},\"y_scale\":{\"id\":\"3555\"}},\"id\":\"3548\",\"subtype\":\"Figure\",\"type\":\"Plot\"},{\"attributes\":{\"source\":{\"id\":\"3579\"}},\"id\":\"3583\",\"type\":\"CDSView\"},{\"attributes\":{\"data\":{\"x\":{\"__ndarray__\":\"ZmZmZmZm9j9mZmZmZmb2P83MzMzMzPQ/AAAAAAAA+D9mZmZmZmb2PzMzMzMzM/s/ZmZmZmZm9j8AAAAAAAD4P2ZmZmZmZvY/AAAAAAAA+D8AAAAAAAD4P5qZmZmZmfk/ZmZmZmZm9j+amZmZmZnxPzMzMzMzM/M/AAAAAAAA+D/NzMzMzMz0P2ZmZmZmZvY/MzMzMzMz+z8AAAAAAAD4PzMzMzMzM/s/AAAAAAAA+D8AAAAAAADwPzMzMzMzM/s/ZmZmZmZm/j+amZmZmZn5P5qZmZmZmfk/AAAAAAAA+D9mZmZmZmb2P5qZmZmZmfk/mpmZmZmZ+T8AAAAAAAD4PwAAAAAAAPg/ZmZmZmZm9j8AAAAAAAD4PzMzMzMzM/M/zczMzMzM9D9mZmZmZmb2P83MzMzMzPQ/AAAAAAAA+D/NzMzMzMz0P83MzMzMzPQ/zczMzMzM9D+amZmZmZn5P2ZmZmZmZv4/ZmZmZmZm9j+amZmZmZn5P2ZmZmZmZvY/AAAAAAAA+D9mZmZmZmb2P83MzMzMzBJAAAAAAAAAEkCamZmZmZkTQAAAAAAAABBAZmZmZmZmEkAAAAAAAAASQM3MzMzMzBJAZmZmZmZmCkBmZmZmZmYSQDMzMzMzMw9AAAAAAAAADEDNzMzMzMwQQAAAAAAAABBAzczMzMzMEkDNzMzMzMwMQJqZmZmZmRFAAAAAAAAAEkBmZmZmZmYQQAAAAAAAABJAMzMzMzMzD0AzMzMzMzMTQAAAAAAAABBAmpmZmZmZE0DNzMzMzMwSQDMzMzMzMxFAmpmZmZmZEUAzMzMzMzMTQAAAAAAAABRAAAAAAAAAEkAAAAAAAAAMQGZmZmZmZg5AmpmZmZmZDUAzMzMzMzMPQGZmZmZmZhRAAAAAAAAAEkAAAAAAAAASQM3MzMzMzBJAmpmZmZmZEUBmZmZmZmYQQAAAAAAAABBAmpmZmZmZEUBmZmZmZmYSQAAAAAAAABBAZmZmZmZmCkDNzMzMzMwQQM3MzMzMzBBAzczMzMzMEEAzMzMzMzMRQAAAAAAAAAhAZmZmZmZmEEAAAAAAAAAYQGZmZmZmZhRAmpmZmZmZF0BmZmZmZmYWQDMzMzMzMxdAZmZmZmZmGkAAAAAAAAASQDMzMzMzMxlAMzMzMzMzF0BmZmZmZmYYQGZmZmZmZhRAMzMzMzMzFUAAAAAAAAAWQAAAAAAAABRAZmZmZmZmFEAzMzMzMzMVQAAAAAAAABZAzczMzMzMGkCamZmZmZkbQAAAAAAAABRAzczMzMzMFkCamZmZmZkTQM3MzMzMzBpAmpmZmZmZE0DNzMzMzMwWQAAAAAAAABhAMzMzMzMzE0CamZmZmZkTQGZmZmZmZhZAMzMzMzMzF0BmZmZmZmYYQJqZmZmZmRlAZmZmZmZmFkBmZmZmZmYUQGZmZmZmZhZAZmZmZmZmGEBmZmZmZmYWQAAAAAAAABZAMzMzMzMzE0CamZmZmZkVQGZmZmZmZhZAZmZmZmZmFEBmZmZmZmYUQJqZmZmZmRdAzczMzMzMFkDNzMzMzMwUQAAAAAAAABRAzczMzMzMFECamZmZmZkVQGZmZmZmZhRA\",\"dtype\":\"float64\",\"order\":\"little\",\"shape\":[150]},\"y\":{\"__ndarray__\":\"ZmZmZmZmFECamZmZmZkTQM3MzMzMzBJAZmZmZmZmEkAAAAAAAAAUQJqZmZmZmRVAZmZmZmZmEkAAAAAAAAAUQJqZmZmZmRFAmpmZmZmZE0CamZmZmZkVQDMzMzMzMxNAMzMzMzMzE0AzMzMzMzMRQDMzMzMzMxdAzczMzMzMFkCamZmZmZkVQGZmZmZmZhRAzczMzMzMFkBmZmZmZmYUQJqZmZmZmRVAZmZmZmZmFEBmZmZmZmYSQGZmZmZmZhRAMzMzMzMzE0AAAAAAAAAUQAAAAAAAABRAzczMzMzMFEDNzMzMzMwUQM3MzMzMzBJAMzMzMzMzE0CamZmZmZkVQM3MzMzMzBRAAAAAAAAAFkCamZmZmZkTQAAAAAAAABRAAAAAAAAAFkCamZmZmZkTQJqZmZmZmRFAZmZmZmZmFEAAAAAAAAAUQAAAAAAAABJAmpmZmZmZEUAAAAAAAAAUQGZmZmZmZhRAMzMzMzMzE0BmZmZmZmYUQGZmZmZmZhJAMzMzMzMzFUAAAAAAAAAUQAAAAAAAABxAmpmZmZmZGUCamZmZmZkbQAAAAAAAABZAAAAAAAAAGkDNzMzMzMwWQDMzMzMzMxlAmpmZmZmZE0BmZmZmZmYaQM3MzMzMzBRAAAAAAAAAFECamZmZmZkXQAAAAAAAABhAZmZmZmZmGEBmZmZmZmYWQM3MzMzMzBpAZmZmZmZmFkAzMzMzMzMXQM3MzMzMzBhAZmZmZmZmFkCamZmZmZkXQGZmZmZmZhhAMzMzMzMzGUBmZmZmZmYYQJqZmZmZmRlAZmZmZmZmGkAzMzMzMzMbQM3MzMzMzBpAAAAAAAAAGEDNzMzMzMwWQAAAAAAAABZAAAAAAAAAFkAzMzMzMzMXQAAAAAAAABhAmpmZmZmZFUAAAAAAAAAYQM3MzMzMzBpAMzMzMzMzGUBmZmZmZmYWQAAAAAAAABZAAAAAAAAAFkBmZmZmZmYYQDMzMzMzMxdAAAAAAAAAFEBmZmZmZmYWQM3MzMzMzBZAzczMzMzMFkDNzMzMzMwYQGZmZmZmZhRAzczMzMzMFkAzMzMzMzMZQDMzMzMzMxdAZmZmZmZmHEAzMzMzMzMZQAAAAAAAABpAZmZmZmZmHkCamZmZmZkTQDMzMzMzMx1AzczMzMzMGkDNzMzMzMwcQAAAAAAAABpAmpmZmZmZGUAzMzMzMzMbQM3MzMzMzBZAMzMzMzMzF0CamZmZmZkZQAAAAAAAABpAzczMzMzMHkDNzMzMzMweQAAAAAAAABhAmpmZmZmZG0BmZmZmZmYWQM3MzMzMzB5AMzMzMzMzGUDNzMzMzMwaQM3MzMzMzBxAzczMzMzMGEBmZmZmZmYYQJqZmZmZmRlAzczMzMzMHECamZmZmZkdQJqZmZmZmR9AmpmZmZmZGUAzMzMzMzMZQGZmZmZmZhhAzczMzMzMHkAzMzMzMzMZQJqZmZmZmRlAAAAAAAAAGECamZmZmZkbQM3MzMzMzBpAmpmZmZmZG0AzMzMzMzMXQDMzMzMzMxtAzczMzMzMGkDNzMzMzMwaQDMzMzMzMxlAAAAAAAAAGkDNzMzMzMwYQJqZmZmZmRdA\",\"dtype\":\"float64\",\"order\":\"little\",\"shape\":[150]}},\"selected\":{\"id\":\"3770\"},\"selection_policy\":{\"id\":\"3769\"}},\"id\":\"3579\",\"type\":\"ColumnDataSource\"},{\"attributes\":{},\"id\":\"3769\",\"type\":\"UnionRenderers\"},{\"attributes\":{\"axis\":{\"id\":\"3557\"},\"ticker\":null},\"id\":\"3560\",\"type\":\"Grid\"},{\"attributes\":{},\"id\":\"3562\",\"type\":\"BasicTicker\"},{\"attributes\":{},\"id\":\"3764\",\"type\":\"AllLabels\"},{\"attributes\":{},\"id\":\"3566\",\"type\":\"WheelZoomTool\"},{\"attributes\":{},\"id\":\"3553\",\"type\":\"LinearScale\"},{\"attributes\":{\"axis\":{\"id\":\"3561\"},\"dimension\":1,\"ticker\":null},\"id\":\"3564\",\"type\":\"Grid\"},{\"attributes\":{},\"id\":\"3558\",\"type\":\"BasicTicker\"},{\"attributes\":{},\"id\":\"3565\",\"type\":\"PanTool\"},{\"attributes\":{},\"id\":\"3770\",\"type\":\"Selection\"},{\"attributes\":{\"formatter\":{\"id\":\"3766\"},\"major_label_policy\":{\"id\":\"3767\"},\"ticker\":{\"id\":\"3558\"}},\"id\":\"3557\",\"type\":\"LinearAxis\"},{\"attributes\":{},\"id\":\"3761\",\"type\":\"Title\"},{\"attributes\":{},\"id\":\"3568\",\"type\":\"SaveTool\"},{\"attributes\":{\"formatter\":{\"id\":\"3763\"},\"major_label_policy\":{\"id\":\"3764\"},\"ticker\":{\"id\":\"3562\"}},\"id\":\"3561\",\"type\":\"LinearAxis\"},{\"attributes\":{},\"id\":\"3763\",\"type\":\"BasicTickFormatter\"},{\"attributes\":{\"data_source\":{\"id\":\"3579\"},\"glyph\":{\"id\":\"3580\"},\"hover_glyph\":null,\"muted_glyph\":null,\"nonselection_glyph\":{\"id\":\"3581\"},\"view\":{\"id\":\"3583\"}},\"id\":\"3582\",\"type\":\"GlyphRenderer\"},{\"attributes\":{\"overlay\":{\"id\":\"3571\"}},\"id\":\"3567\",\"type\":\"BoxZoomTool\"},{\"attributes\":{},\"id\":\"3555\",\"type\":\"LinearScale\"},{\"attributes\":{\"fill_color\":{\"value\":\"#1f77b4\"},\"line_color\":{\"value\":\"#1f77b4\"},\"size\":{\"value\":10},\"x\":{\"field\":\"x\"},\"y\":{\"field\":\"y\"}},\"id\":\"3580\",\"type\":\"Circle\"},{\"attributes\":{\"active_multi\":null,\"tools\":[{\"id\":\"3565\"},{\"id\":\"3566\"},{\"id\":\"3567\"},{\"id\":\"3568\"},{\"id\":\"3569\"},{\"id\":\"3570\"}]},\"id\":\"3572\",\"type\":\"Toolbar\"},{\"attributes\":{},\"id\":\"3569\",\"type\":\"ResetTool\"},{\"attributes\":{\"bottom_units\":\"screen\",\"fill_alpha\":0.5,\"fill_color\":\"lightgrey\",\"left_units\":\"screen\",\"level\":\"overlay\",\"line_alpha\":1.0,\"line_color\":\"black\",\"line_dash\":[4,4],\"line_width\":2,\"right_units\":\"screen\",\"syncable\":false,\"top_units\":\"screen\"},\"id\":\"3571\",\"type\":\"BoxAnnotation\"},{\"attributes\":{\"fill_alpha\":{\"value\":0.1},\"fill_color\":{\"value\":\"#1f77b4\"},\"line_alpha\":{\"value\":0.1},\"line_color\":{\"value\":\"#1f77b4\"},\"size\":{\"value\":10},\"x\":{\"field\":\"x\"},\"y\":{\"field\":\"y\"}},\"id\":\"3581\",\"type\":\"Circle\"},{\"attributes\":{},\"id\":\"3551\",\"type\":\"DataRange1d\"},{\"attributes\":{},\"id\":\"3549\",\"type\":\"DataRange1d\"},{\"attributes\":{},\"id\":\"3766\",\"type\":\"BasicTickFormatter\"},{\"attributes\":{},\"id\":\"3570\",\"type\":\"HelpTool\"},{\"attributes\":{},\"id\":\"3767\",\"type\":\"AllLabels\"}],\"root_ids\":[\"3548\"]},\"title\":\"Bokeh Application\",\"version\":\"2.3.0\"}};\n",
       "  var render_items = [{\"docid\":\"181473e8-fc5b-4ad0-999e-ee761782e234\",\"root_ids\":[\"3548\"],\"roots\":{\"3548\":\"819beae6-f6fe-4a8c-95fc-351c3b06ed92\"}}];\n",
       "  root.Bokeh.embed.embed_items_notebook(docs_json, render_items);\n",
       "\n",
       "  }\n",
       "  if (root.Bokeh !== undefined) {\n",
       "    embed_document(root);\n",
       "  } else {\n",
       "    var attempts = 0;\n",
       "    var timer = setInterval(function(root) {\n",
       "      if (root.Bokeh !== undefined) {\n",
       "        clearInterval(timer);\n",
       "        embed_document(root);\n",
       "      } else {\n",
       "        attempts++;\n",
       "        if (attempts > 100) {\n",
       "          clearInterval(timer);\n",
       "          console.log(\"Bokeh: ERROR: Unable to run BokehJS code because BokehJS library is missing\");\n",
       "        }\n",
       "      }\n",
       "    }, 10, root)\n",
       "  }\n",
       "})(window);"
      ],
      "application/vnd.bokehjs_exec.v0+json": ""
     },
     "metadata": {
      "application/vnd.bokehjs_exec.v0+json": {
       "id": "3548"
      }
     },
     "output_type": "display_data"
    }
   ],
   "source": [
    "# Flowers is a Pandas DataFrame\n",
    "plot = figure(plot_height=300)\n",
    "plot.circle(flowers['petal_length'], flowers['sepal_length'], size=10)\n",
    "# output_file('pandas.html')\n",
    "show(plot)"
   ]
  },
  {
   "cell_type": "markdown",
   "metadata": {},
   "source": [
    "**Column Data Source**\n",
    "\n",
    "* Common fundamental data structure for Bokeh\n",
    "* Maps string column names to sequences of data\n",
    "* Often created automatically for you\n",
    "* Can be shared between glyphs to link selections\n",
    "* Extra columns can be used with hover tooltips"
   ]
  },
  {
   "cell_type": "code",
   "execution_count": 26,
   "metadata": {},
   "outputs": [
    {
     "data": {
      "text/plain": [
       "{'x': [1, 2, 3, 4, 5], 'y': [8, 6, 5, 2, 3]}"
      ]
     },
     "execution_count": 26,
     "metadata": {},
     "output_type": "execute_result"
    }
   ],
   "source": [
    "# from bokey.models import ColumnDataSource  # imported at the top of the notebook\n",
    "source = ColumnDataSource(data={'x': [1,2,3,4,5],\n",
    "                                'y': [8,6,5,2,3]})\n",
    "source.data"
   ]
  },
  {
   "cell_type": "code",
   "execution_count": 27,
   "metadata": {},
   "outputs": [
    {
     "data": {
      "text/html": [
       "<div>\n",
       "<style scoped>\n",
       "    .dataframe tbody tr th:only-of-type {\n",
       "        vertical-align: middle;\n",
       "    }\n",
       "\n",
       "    .dataframe tbody tr th {\n",
       "        vertical-align: top;\n",
       "    }\n",
       "\n",
       "    .dataframe thead th {\n",
       "        text-align: right;\n",
       "    }\n",
       "</style>\n",
       "<table border=\"1\" class=\"dataframe\">\n",
       "  <thead>\n",
       "    <tr style=\"text-align: right;\">\n",
       "      <th></th>\n",
       "      <th>sepal_length</th>\n",
       "      <th>sepal_width</th>\n",
       "      <th>petal_length</th>\n",
       "      <th>petal_width</th>\n",
       "      <th>species</th>\n",
       "    </tr>\n",
       "  </thead>\n",
       "  <tbody>\n",
       "    <tr>\n",
       "      <th>0</th>\n",
       "      <td>5.1</td>\n",
       "      <td>3.5</td>\n",
       "      <td>1.4</td>\n",
       "      <td>0.2</td>\n",
       "      <td>setosa</td>\n",
       "    </tr>\n",
       "    <tr>\n",
       "      <th>1</th>\n",
       "      <td>4.9</td>\n",
       "      <td>3.0</td>\n",
       "      <td>1.4</td>\n",
       "      <td>0.2</td>\n",
       "      <td>setosa</td>\n",
       "    </tr>\n",
       "    <tr>\n",
       "      <th>2</th>\n",
       "      <td>4.7</td>\n",
       "      <td>3.2</td>\n",
       "      <td>1.3</td>\n",
       "      <td>0.2</td>\n",
       "      <td>setosa</td>\n",
       "    </tr>\n",
       "    <tr>\n",
       "      <th>3</th>\n",
       "      <td>4.6</td>\n",
       "      <td>3.1</td>\n",
       "      <td>1.5</td>\n",
       "      <td>0.2</td>\n",
       "      <td>setosa</td>\n",
       "    </tr>\n",
       "    <tr>\n",
       "      <th>4</th>\n",
       "      <td>5.0</td>\n",
       "      <td>3.6</td>\n",
       "      <td>1.4</td>\n",
       "      <td>0.2</td>\n",
       "      <td>setosa</td>\n",
       "    </tr>\n",
       "  </tbody>\n",
       "</table>\n",
       "</div>"
      ],
      "text/plain": [
       "   sepal_length  sepal_width  petal_length  petal_width species\n",
       "0           5.1          3.5           1.4          0.2  setosa\n",
       "1           4.9          3.0           1.4          0.2  setosa\n",
       "2           4.7          3.2           1.3          0.2  setosa\n",
       "3           4.6          3.1           1.5          0.2  setosa\n",
       "4           5.0          3.6           1.4          0.2  setosa"
      ]
     },
     "execution_count": 27,
     "metadata": {},
     "output_type": "execute_result"
    }
   ],
   "source": [
    "iris_df.head()"
   ]
  },
  {
   "cell_type": "code",
   "execution_count": 28,
   "metadata": {},
   "outputs": [],
   "source": [
    "source = ColumnDataSource(iris_df)"
   ]
  },
  {
   "cell_type": "markdown",
   "metadata": {},
   "source": [
    "### Plotting data from NumPy arrays\n",
    "In the previous exercises, you made plots using data stored in lists. You learned that Bokeh can plot both numbers and datetime objects.\n",
    "\n",
    "In this exercise, you'll generate NumPy arrays using `np.linspace()` and `np.cos()` and plot them using the circle glyph.\n",
    "\n",
    "`np.linspace()` is a function that returns an array of evenly spaced numbers over a specified interval. For example, `np.linspace(0, 10, 5)` returns an array of `5` evenly spaced samples calculated over the interval `[0, 10]`. `np.cos(x)` calculates the element-wise cosine of some array x.\n",
    "\n",
    "For more information on NumPy functions, you can refer to the [NumPy User Guide][1] and [NumPy Reference][2].\n",
    "\n",
    "The figure `p` has been provided for you.\n",
    "\n",
    "**Instructions**\n",
    "\n",
    "* Import `numpy` as `np`.\n",
    "* Create an array `x` using `np.linspace()` with `0`, `5`, and `100` as inputs.\n",
    "* Create an array `y` using `np.cos()` with `x` as input.\n",
    "* Add circles at `x` and `y` using `p.circle()`.\n",
    "\n",
    "  [1]: https://docs.scipy.org/doc/numpy/user/index.html#user\n",
    "  [2]: https://docs.scipy.org/doc/numpy/reference/index.html"
   ]
  },
  {
   "cell_type": "code",
   "execution_count": 29,
   "metadata": {},
   "outputs": [
    {
     "data": {
      "text/html": [
       "\n",
       "\n",
       "\n",
       "\n",
       "\n",
       "\n",
       "  <div class=\"bk-root\" id=\"bb401daf-014f-47c5-bd2b-7f5228056b47\" data-root-id=\"3829\"></div>\n"
      ]
     },
     "metadata": {},
     "output_type": "display_data"
    },
    {
     "data": {
      "application/javascript": [
       "(function(root) {\n",
       "  function embed_document(root) {\n",
       "    \n",
       "  var docs_json = {\"165541c9-eb50-48be-98c0-b8bb747ef700\":{\"defs\":[{\"extends\":null,\"module\":null,\"name\":\"DataModel\",\"overrides\":[],\"properties\":[]}],\"roots\":{\"references\":[{\"attributes\":{\"below\":[{\"id\":\"3838\"}],\"center\":[{\"id\":\"3841\"},{\"id\":\"3845\"}],\"height\":300,\"left\":[{\"id\":\"3842\"}],\"renderers\":[{\"id\":\"3863\"}],\"title\":{\"id\":\"4053\"},\"toolbar\":{\"id\":\"3853\"},\"x_range\":{\"id\":\"3830\"},\"x_scale\":{\"id\":\"3834\"},\"y_range\":{\"id\":\"3832\"},\"y_scale\":{\"id\":\"3836\"}},\"id\":\"3829\",\"subtype\":\"Figure\",\"type\":\"Plot\"},{\"attributes\":{},\"id\":\"4058\",\"type\":\"BasicTickFormatter\"},{\"attributes\":{},\"id\":\"4059\",\"type\":\"AllLabels\"},{\"attributes\":{\"data_source\":{\"id\":\"3860\"},\"glyph\":{\"id\":\"3861\"},\"hover_glyph\":null,\"muted_glyph\":null,\"nonselection_glyph\":{\"id\":\"3862\"},\"view\":{\"id\":\"3864\"}},\"id\":\"3863\",\"type\":\"GlyphRenderer\"},{\"attributes\":{},\"id\":\"4053\",\"type\":\"Title\"},{\"attributes\":{},\"id\":\"3850\",\"type\":\"ResetTool\"},{\"attributes\":{},\"id\":\"3849\",\"type\":\"SaveTool\"},{\"attributes\":{},\"id\":\"4061\",\"type\":\"UnionRenderers\"},{\"attributes\":{\"data\":{\"x\":{\"__ndarray__\":\"AAAAAAAAAAAxb2dIzNupPzFvZ0jM27k/ZZNNNtlkwz8xb2dIzNvJP3+lQK1fKdA/ZZNNNtlk0z9LgVq/UqDWPzFvZ0jM29k/F1100UUX3T9/pUCtXyngP3Icx3Ecx+E/ZZNNNtlk4z9YCtT6lQLlP0uBWr9SoOY/Pvjggw8+6D8xb2dIzNvpPyTm7QyJees/F1100UUX7T8K1PqVArXuP3+lQK1fKfA/+OCDDz748D9yHMdxHMfxP+tXCtT6lfI/ZZNNNtlk8z/ezpCYtzP0P1gK1PqVAvU/0UUXXXTR9T9LgVq/UqD2P8S8nSExb/c/Pvjggw8++D+3MyTm7Qz5PzFvZ0jM2/k/q6qqqqqq+j8k5u0MiXn7P54hMW9nSPw/F1100UUX/T+RmLczJOb9PwrU+pUCtf4/hA8++OCD/z9/pUCtXykAQDtDYt7OkABA+OCDDz74AEC1fqVArV8BQHIcx3EcxwFALrrooosuAkDrVwrU+pUCQKj1KwVq/QJAZZNNNtlkA0AiMW9nSMwDQN7OkJi3MwRAm2yyySabBEBYCtT6lQIFQBWo9SsFagVA0UUXXXTRBUCO4ziO4zgGQEuBWr9SoAZACB988MEHB0DEvJ0hMW8HQIFav1Kg1gdAPvjggw8+CED7lQK1fqUIQLczJObtDAlAdNFFF110CUAxb2dIzNsJQO4MiXk7QwpAq6qqqqqqCkBnSMzbGRILQCTm7QyJeQtA4YMPPvjgC0CeITFvZ0gMQFq/UqDWrwxAF1100UUXDUDU+pUCtX4NQJGYtzMk5g1ATTbZZJNNDkAK1PqVArUOQMdxHMdxHA9AhA8++OCDD0BArV8pUOsPQH+lQK1fKRBAXXTRRRddEEA7Q2LezpAQQBoS83aGxBBA+OCDDz74EEDXrxSo9SsRQLV+pUCtXxFAk0022WSTEUByHMdxHMcRQFDrVwrU+hFALrrooosuEkANiXk7Q2ISQOtXCtT6lRJAyiabbLLJEkCo9SsFav0SQIbEvJ0hMRNAZZNNNtlkE0BDYt7OkJgTQCIxb2dIzBNAAAAAAAAAFEA=\",\"dtype\":\"float64\",\"order\":\"little\",\"shape\":[100]},\"y\":{\"__ndarray__\":\"AAAAAAAA8D+IOhPnjfXvP2y1GW4+1u8/HBEGBiai7z/0ZpixZlnvP5AIKu8v/O4/yNmrmb6K7j9cg+vAXAXuP3RuOXlhbO0/9xmPojDA7D8251qnOgHsP4HvGzP8L+s/j8z94P1M6j/idqni01jpP3ZzhZ8dVOg/pXqkTIU/5z8miaZ9vxvmP+7m1K6K6eQ/HRvGyK6p4z9L/dqd/FziP8UY6mFNBOE/gMXkOARB3z8LrmMrBmXcP1nJ/31+dtk/P1edLVd31j+BxXERhWnTP7+kCZQGT9A/3nwczMRTyj9osEhXTPjDP4viBJWUH7s/7bevprZ5rD/kJeEMaA11P1iQonMUOKe/wMctpFaBuL9e2la8UavCv7h8xfHHCcm/yDeLfeVXz7/q2GVLxsjSv1v6TmhW2dW/Q+6l4KLb2L8Zq47PtM3bv11nfeifrd6/rIhO3MG84L9cmTxwxhfiv9k8jyL7ZuO/b1n1G4Wp5L9liiXKkd7lvxooV2lXBee/xHL7hxUd6L+C4GCEFSXpv+aI7gOrHOq/jtapYzQD67+6CL0hG9jrv3SguT/Umuy//JJWneBK7b99A29LzeftvwpVC9czce6/G5hDjLrm7r8Zqc+wFEjvvzrEHrYCle+/xNrVYlLN77/fkpnz3vDvv96JDjOR/++/qi0AiV/5778LSaQATt7vv9wr90Vuru+/bCgymt9p779C7mO/zhDvv4kUONt1o+6/3+cAURwi7r/8QxyTFo3tv6bm0evF5Oy/BTrPPZgp7L8FDmq8B1zrv5IW2ZuafOq/UUSWueKL6b8kKyQ9fYrov0aidDESeee/W5kzF1RY5r8gwj1w/yjlv4cjj0Ta6+O/6u75oLOh4r+m/vkPY0vhv5B8+hmQ09+/urT55JL73L+R8IzGqRDav5K3r168FNe/14Rkab0J1L83wRp5qfHQv3AkUVULncu/pYFip7xExb9nglKxFr29v6fIG9RJ3bC/D7lnLtOTj7/fYJ910fWhP1UiQABv4rU/DwVx2NVdwT/gTHmzHb/HP6i1P8XkEM4/2UprcIUn0j8=\",\"dtype\":\"float64\",\"order\":\"little\",\"shape\":[100]}},\"selected\":{\"id\":\"4062\"},\"selection_policy\":{\"id\":\"4061\"}},\"id\":\"3860\",\"type\":\"ColumnDataSource\"},{\"attributes\":{\"overlay\":{\"id\":\"3852\"}},\"id\":\"3848\",\"type\":\"BoxZoomTool\"},{\"attributes\":{},\"id\":\"3846\",\"type\":\"PanTool\"},{\"attributes\":{},\"id\":\"4055\",\"type\":\"BasicTickFormatter\"},{\"attributes\":{},\"id\":\"3847\",\"type\":\"WheelZoomTool\"},{\"attributes\":{},\"id\":\"4062\",\"type\":\"Selection\"},{\"attributes\":{\"active_multi\":null,\"tools\":[{\"id\":\"3846\"},{\"id\":\"3847\"},{\"id\":\"3848\"},{\"id\":\"3849\"},{\"id\":\"3850\"},{\"id\":\"3851\"}]},\"id\":\"3853\",\"type\":\"Toolbar\"},{\"attributes\":{},\"id\":\"3843\",\"type\":\"BasicTicker\"},{\"attributes\":{\"axis\":{\"id\":\"3842\"},\"dimension\":1,\"ticker\":null},\"id\":\"3845\",\"type\":\"Grid\"},{\"attributes\":{},\"id\":\"4056\",\"type\":\"AllLabels\"},{\"attributes\":{\"axis\":{\"id\":\"3838\"},\"ticker\":null},\"id\":\"3841\",\"type\":\"Grid\"},{\"attributes\":{},\"id\":\"3839\",\"type\":\"BasicTicker\"},{\"attributes\":{\"formatter\":{\"id\":\"4058\"},\"major_label_policy\":{\"id\":\"4059\"},\"ticker\":{\"id\":\"3839\"}},\"id\":\"3838\",\"type\":\"LinearAxis\"},{\"attributes\":{\"fill_alpha\":{\"value\":0.1},\"fill_color\":{\"value\":\"#1f77b4\"},\"line_alpha\":{\"value\":0.1},\"line_color\":{\"value\":\"#1f77b4\"},\"x\":{\"field\":\"x\"},\"y\":{\"field\":\"y\"}},\"id\":\"3862\",\"type\":\"Circle\"},{\"attributes\":{\"formatter\":{\"id\":\"4055\"},\"major_label_policy\":{\"id\":\"4056\"},\"ticker\":{\"id\":\"3843\"}},\"id\":\"3842\",\"type\":\"LinearAxis\"},{\"attributes\":{},\"id\":\"3834\",\"type\":\"LinearScale\"},{\"attributes\":{},\"id\":\"3851\",\"type\":\"HelpTool\"},{\"attributes\":{},\"id\":\"3830\",\"type\":\"DataRange1d\"},{\"attributes\":{},\"id\":\"3832\",\"type\":\"DataRange1d\"},{\"attributes\":{\"fill_color\":{\"value\":\"#1f77b4\"},\"line_color\":{\"value\":\"#1f77b4\"},\"x\":{\"field\":\"x\"},\"y\":{\"field\":\"y\"}},\"id\":\"3861\",\"type\":\"Circle\"},{\"attributes\":{},\"id\":\"3836\",\"type\":\"LinearScale\"},{\"attributes\":{\"source\":{\"id\":\"3860\"}},\"id\":\"3864\",\"type\":\"CDSView\"},{\"attributes\":{\"bottom_units\":\"screen\",\"fill_alpha\":0.5,\"fill_color\":\"lightgrey\",\"left_units\":\"screen\",\"level\":\"overlay\",\"line_alpha\":1.0,\"line_color\":\"black\",\"line_dash\":[4,4],\"line_width\":2,\"right_units\":\"screen\",\"syncable\":false,\"top_units\":\"screen\"},\"id\":\"3852\",\"type\":\"BoxAnnotation\"}],\"root_ids\":[\"3829\"]},\"title\":\"Bokeh Application\",\"version\":\"2.3.0\"}};\n",
       "  var render_items = [{\"docid\":\"165541c9-eb50-48be-98c0-b8bb747ef700\",\"root_ids\":[\"3829\"],\"roots\":{\"3829\":\"bb401daf-014f-47c5-bd2b-7f5228056b47\"}}];\n",
       "  root.Bokeh.embed.embed_items_notebook(docs_json, render_items);\n",
       "\n",
       "  }\n",
       "  if (root.Bokeh !== undefined) {\n",
       "    embed_document(root);\n",
       "  } else {\n",
       "    var attempts = 0;\n",
       "    var timer = setInterval(function(root) {\n",
       "      if (root.Bokeh !== undefined) {\n",
       "        clearInterval(timer);\n",
       "        embed_document(root);\n",
       "      } else {\n",
       "        attempts++;\n",
       "        if (attempts > 100) {\n",
       "          clearInterval(timer);\n",
       "          console.log(\"Bokeh: ERROR: Unable to run BokehJS code because BokehJS library is missing\");\n",
       "        }\n",
       "      }\n",
       "    }, 10, root)\n",
       "  }\n",
       "})(window);"
      ],
      "application/vnd.bokehjs_exec.v0+json": ""
     },
     "metadata": {
      "application/vnd.bokehjs_exec.v0+json": {
       "id": "3829"
      }
     },
     "output_type": "display_data"
    }
   ],
   "source": [
    "# Create array using np.linspace: x\n",
    "x = np.linspace(0, 5, 100)\n",
    "\n",
    "# Create array using np.cos: y\n",
    "y = np.cos(x)\n",
    "\n",
    "# Add circles at x and y\n",
    "p = figure(plot_height=300)\n",
    "p.circle(x, y)\n",
    "\n",
    "# Specify the name of the output file and show the result\n",
    "# output_file('numpy.html')\n",
    "show(p)"
   ]
  },
  {
   "cell_type": "markdown",
   "metadata": {},
   "source": [
    "### Plotting data from Pandas DataFrames\n",
    "\n",
    "You can create Bokeh plots from Pandas DataFrames by passing column selections to the glyph functions.\n",
    "\n",
    "Bokeh can plot floating point numbers, integers, and datetime data types. In this example, you will read a CSV file containing information on 392 automobiles manufactured in the US, Europe and Asia from 1970 to 1982.\n",
    "\n",
    "The CSV file is provided for you as ``'auto.csv'``.\n",
    "\n",
    "Your job is to plot miles-per-gallon (``mpg``) vs horsepower (``hp``) by passing Pandas column selections into the ``p.circle()`` function. Additionally, each glyph will be colored according to values in the ``color`` column.\n",
    "\n",
    "**Instructions**\n",
    "\n",
    "* Import `pandas` as `pd`.\n",
    "* Use the `read_csv()` function of `pandas` to read in `'auto.csv'` and store it in the DataFrame `df`.\n",
    "* Import `figure` from `bokeh.plotting`.\n",
    "* Use the `figure()` function to create a figure `p` with the x-axis labeled `'HP'` and the y-axis labeled `'MPG'`.\n",
    "* Plot `mpg` (on the y-axis) vs `hp` (on the x-axis) by `color` using `p.circle()`. Note that the x-axis should be specified before the y-axis inside `p.circle()`. You will need to use Pandas DataFrame indexing to pass in the columns. For example, to access the `color` column, you can use `df['color']`, and then pass it in as an argument to the `color` parameter of `p.circle()`. Also specify a `size` of `10`."
   ]
  },
  {
   "cell_type": "code",
   "execution_count": 30,
   "metadata": {},
   "outputs": [
    {
     "data": {
      "text/html": [
       "\n",
       "\n",
       "\n",
       "\n",
       "\n",
       "\n",
       "  <div class=\"bk-root\" id=\"d989bf9a-53fb-4874-be02-4a704cd99294\" data-root-id=\"4119\"></div>\n"
      ]
     },
     "metadata": {},
     "output_type": "display_data"
    },
    {
     "data": {
      "application/javascript": [
       "(function(root) {\n",
       "  function embed_document(root) {\n",
       "    \n",
       "  var docs_json = {\"41bdb91d-ef20-462b-ab15-fd5669995103\":{\"defs\":[{\"extends\":null,\"module\":null,\"name\":\"DataModel\",\"overrides\":[],\"properties\":[]}],\"roots\":{\"references\":[{\"attributes\":{\"below\":[{\"id\":\"4128\"}],\"center\":[{\"id\":\"4131\"},{\"id\":\"4135\"}],\"height\":400,\"left\":[{\"id\":\"4132\"}],\"renderers\":[{\"id\":\"4153\"}],\"title\":{\"id\":\"4354\"},\"toolbar\":{\"id\":\"4143\"},\"x_range\":{\"id\":\"4120\"},\"x_scale\":{\"id\":\"4124\"},\"y_range\":{\"id\":\"4122\"},\"y_scale\":{\"id\":\"4126\"}},\"id\":\"4119\",\"subtype\":\"Figure\",\"type\":\"Plot\"},{\"attributes\":{},\"id\":\"4354\",\"type\":\"Title\"},{\"attributes\":{},\"id\":\"4133\",\"type\":\"BasicTicker\"},{\"attributes\":{\"axis\":{\"id\":\"4132\"},\"dimension\":1,\"ticker\":null},\"id\":\"4135\",\"type\":\"Grid\"},{\"attributes\":{\"axis_label\":\"MPG\",\"formatter\":{\"id\":\"4356\"},\"major_label_policy\":{\"id\":\"4357\"},\"ticker\":{\"id\":\"4133\"}},\"id\":\"4132\",\"type\":\"LinearAxis\"},{\"attributes\":{},\"id\":\"4141\",\"type\":\"HelpTool\"},{\"attributes\":{},\"id\":\"4362\",\"type\":\"UnionRenderers\"},{\"attributes\":{},\"id\":\"4360\",\"type\":\"AllLabels\"},{\"attributes\":{\"data\":{\"fill_color\":[\"blue\",\"blue\",\"red\",\"blue\",\"green\",\"red\",\"red\",\"green\",\"blue\",\"blue\",\"green\",\"blue\",\"blue\",\"blue\",\"blue\",\"blue\",\"green\",\"blue\",\"red\",\"red\",\"blue\",\"blue\",\"blue\",\"blue\",\"blue\",\"green\",\"red\",\"red\",\"blue\",\"red\",\"red\",\"blue\",\"blue\",\"blue\",\"green\",\"green\",\"blue\",\"blue\",\"blue\",\"blue\",\"red\",\"blue\",\"blue\",\"blue\",\"blue\",\"red\",\"red\",\"blue\",\"blue\",\"blue\",\"blue\",\"blue\",\"red\",\"blue\",\"green\",\"blue\",\"blue\",\"blue\",\"blue\",\"red\",\"red\",\"blue\",\"blue\",\"blue\",\"blue\",\"blue\",\"blue\",\"blue\",\"blue\",\"blue\",\"blue\",\"green\",\"blue\",\"blue\",\"red\",\"blue\",\"blue\",\"blue\",\"blue\",\"green\",\"green\",\"green\",\"green\",\"blue\",\"blue\",\"green\",\"blue\",\"blue\",\"red\",\"blue\",\"blue\",\"blue\",\"blue\",\"red\",\"red\",\"blue\",\"red\",\"blue\",\"blue\",\"blue\",\"green\",\"green\",\"blue\",\"blue\",\"green\",\"green\",\"blue\",\"blue\",\"red\",\"green\",\"green\",\"blue\",\"blue\",\"blue\",\"green\",\"blue\",\"red\",\"blue\",\"blue\",\"blue\",\"green\",\"red\",\"blue\",\"green\",\"blue\",\"green\",\"green\",\"blue\",\"blue\",\"blue\",\"blue\",\"blue\",\"green\",\"blue\",\"blue\",\"red\",\"blue\",\"green\",\"blue\",\"blue\",\"green\",\"blue\",\"blue\",\"blue\",\"blue\",\"red\",\"green\",\"blue\",\"blue\",\"green\",\"blue\",\"blue\",\"green\",\"red\",\"blue\",\"blue\",\"blue\",\"red\",\"red\",\"blue\",\"red\",\"blue\",\"blue\",\"green\",\"green\",\"green\",\"blue\",\"red\",\"blue\",\"red\",\"blue\",\"red\",\"blue\",\"blue\",\"blue\",\"blue\",\"blue\",\"green\",\"blue\",\"blue\",\"blue\",\"green\",\"blue\",\"green\",\"blue\",\"blue\",\"green\",\"blue\",\"red\",\"green\",\"blue\",\"green\",\"blue\",\"blue\",\"blue\",\"blue\",\"blue\",\"blue\",\"red\",\"blue\",\"blue\",\"green\",\"blue\",\"red\",\"red\",\"red\",\"blue\",\"blue\",\"blue\",\"blue\",\"red\",\"red\",\"red\",\"blue\",\"blue\",\"red\",\"red\",\"red\",\"blue\",\"blue\",\"blue\",\"blue\",\"blue\",\"red\",\"blue\",\"blue\",\"blue\",\"red\",\"blue\",\"blue\",\"blue\",\"blue\",\"green\",\"blue\",\"blue\",\"blue\",\"blue\",\"blue\",\"red\",\"green\",\"green\",\"red\",\"blue\",\"red\",\"blue\",\"blue\",\"blue\",\"red\",\"red\",\"blue\",\"blue\",\"red\",\"blue\",\"red\",\"blue\",\"red\",\"blue\",\"green\",\"red\",\"blue\",\"blue\",\"blue\",\"green\",\"blue\",\"blue\",\"green\",\"blue\",\"blue\",\"blue\",\"blue\",\"blue\",\"blue\",\"blue\",\"green\",\"blue\",\"red\",\"blue\",\"red\",\"green\",\"blue\",\"blue\",\"red\",\"red\",\"blue\",\"blue\",\"red\",\"green\",\"green\",\"blue\",\"blue\",\"red\",\"blue\",\"blue\",\"blue\",\"blue\",\"red\",\"blue\",\"green\",\"red\",\"red\",\"green\",\"blue\",\"blue\",\"green\",\"blue\",\"green\",\"blue\",\"blue\",\"green\",\"blue\",\"blue\",\"green\",\"blue\",\"blue\",\"blue\",\"blue\",\"blue\",\"blue\",\"green\",\"blue\",\"blue\",\"red\",\"blue\",\"red\",\"blue\",\"blue\",\"blue\",\"red\",\"blue\",\"red\",\"green\",\"blue\",\"blue\",\"blue\",\"blue\",\"red\",\"blue\",\"blue\",\"blue\",\"blue\",\"blue\",\"blue\",\"blue\",\"blue\",\"blue\",\"blue\",\"blue\",\"blue\",\"blue\",\"blue\",\"blue\",\"blue\",\"green\",\"green\",\"red\",\"green\",\"red\",\"blue\",\"red\",\"blue\",\"blue\",\"green\",\"green\",\"blue\",\"green\",\"blue\",\"red\",\"blue\",\"blue\",\"red\",\"red\",\"blue\",\"blue\",\"blue\",\"blue\",\"blue\",\"green\",\"green\",\"blue\",\"blue\",\"blue\",\"green\",\"blue\",\"red\",\"red\",\"red\",\"red\",\"blue\",\"blue\",\"red\",\"blue\",\"blue\"],\"line_color\":[\"blue\",\"blue\",\"red\",\"blue\",\"green\",\"red\",\"red\",\"green\",\"blue\",\"blue\",\"green\",\"blue\",\"blue\",\"blue\",\"blue\",\"blue\",\"green\",\"blue\",\"red\",\"red\",\"blue\",\"blue\",\"blue\",\"blue\",\"blue\",\"green\",\"red\",\"red\",\"blue\",\"red\",\"red\",\"blue\",\"blue\",\"blue\",\"green\",\"green\",\"blue\",\"blue\",\"blue\",\"blue\",\"red\",\"blue\",\"blue\",\"blue\",\"blue\",\"red\",\"red\",\"blue\",\"blue\",\"blue\",\"blue\",\"blue\",\"red\",\"blue\",\"green\",\"blue\",\"blue\",\"blue\",\"blue\",\"red\",\"red\",\"blue\",\"blue\",\"blue\",\"blue\",\"blue\",\"blue\",\"blue\",\"blue\",\"blue\",\"blue\",\"green\",\"blue\",\"blue\",\"red\",\"blue\",\"blue\",\"blue\",\"blue\",\"green\",\"green\",\"green\",\"green\",\"blue\",\"blue\",\"green\",\"blue\",\"blue\",\"red\",\"blue\",\"blue\",\"blue\",\"blue\",\"red\",\"red\",\"blue\",\"red\",\"blue\",\"blue\",\"blue\",\"green\",\"green\",\"blue\",\"blue\",\"green\",\"green\",\"blue\",\"blue\",\"red\",\"green\",\"green\",\"blue\",\"blue\",\"blue\",\"green\",\"blue\",\"red\",\"blue\",\"blue\",\"blue\",\"green\",\"red\",\"blue\",\"green\",\"blue\",\"green\",\"green\",\"blue\",\"blue\",\"blue\",\"blue\",\"blue\",\"green\",\"blue\",\"blue\",\"red\",\"blue\",\"green\",\"blue\",\"blue\",\"green\",\"blue\",\"blue\",\"blue\",\"blue\",\"red\",\"green\",\"blue\",\"blue\",\"green\",\"blue\",\"blue\",\"green\",\"red\",\"blue\",\"blue\",\"blue\",\"red\",\"red\",\"blue\",\"red\",\"blue\",\"blue\",\"green\",\"green\",\"green\",\"blue\",\"red\",\"blue\",\"red\",\"blue\",\"red\",\"blue\",\"blue\",\"blue\",\"blue\",\"blue\",\"green\",\"blue\",\"blue\",\"blue\",\"green\",\"blue\",\"green\",\"blue\",\"blue\",\"green\",\"blue\",\"red\",\"green\",\"blue\",\"green\",\"blue\",\"blue\",\"blue\",\"blue\",\"blue\",\"blue\",\"red\",\"blue\",\"blue\",\"green\",\"blue\",\"red\",\"red\",\"red\",\"blue\",\"blue\",\"blue\",\"blue\",\"red\",\"red\",\"red\",\"blue\",\"blue\",\"red\",\"red\",\"red\",\"blue\",\"blue\",\"blue\",\"blue\",\"blue\",\"red\",\"blue\",\"blue\",\"blue\",\"red\",\"blue\",\"blue\",\"blue\",\"blue\",\"green\",\"blue\",\"blue\",\"blue\",\"blue\",\"blue\",\"red\",\"green\",\"green\",\"red\",\"blue\",\"red\",\"blue\",\"blue\",\"blue\",\"red\",\"red\",\"blue\",\"blue\",\"red\",\"blue\",\"red\",\"blue\",\"red\",\"blue\",\"green\",\"red\",\"blue\",\"blue\",\"blue\",\"green\",\"blue\",\"blue\",\"green\",\"blue\",\"blue\",\"blue\",\"blue\",\"blue\",\"blue\",\"blue\",\"green\",\"blue\",\"red\",\"blue\",\"red\",\"green\",\"blue\",\"blue\",\"red\",\"red\",\"blue\",\"blue\",\"red\",\"green\",\"green\",\"blue\",\"blue\",\"red\",\"blue\",\"blue\",\"blue\",\"blue\",\"red\",\"blue\",\"green\",\"red\",\"red\",\"green\",\"blue\",\"blue\",\"green\",\"blue\",\"green\",\"blue\",\"blue\",\"green\",\"blue\",\"blue\",\"green\",\"blue\",\"blue\",\"blue\",\"blue\",\"blue\",\"blue\",\"green\",\"blue\",\"blue\",\"red\",\"blue\",\"red\",\"blue\",\"blue\",\"blue\",\"red\",\"blue\",\"red\",\"green\",\"blue\",\"blue\",\"blue\",\"blue\",\"red\",\"blue\",\"blue\",\"blue\",\"blue\",\"blue\",\"blue\",\"blue\",\"blue\",\"blue\",\"blue\",\"blue\",\"blue\",\"blue\",\"blue\",\"blue\",\"blue\",\"green\",\"green\",\"red\",\"green\",\"red\",\"blue\",\"red\",\"blue\",\"blue\",\"green\",\"green\",\"blue\",\"green\",\"blue\",\"red\",\"blue\",\"blue\",\"red\",\"red\",\"blue\",\"blue\",\"blue\",\"blue\",\"blue\",\"green\",\"green\",\"blue\",\"blue\",\"blue\",\"green\",\"blue\",\"red\",\"red\",\"red\",\"red\",\"blue\",\"blue\",\"red\",\"blue\",\"blue\"],\"x\":[88,193,60,98,78,100,75,76,130,140,52,88,84,148,150,130,58,82,65,110,95,110,140,170,78,90,96,95,110,75,132,150,83,85,86,75,140,139,70,52,60,84,138,180,65,67,97,150,70,100,180,129,95,90,83,75,100,85,112,67,65,88,100,75,100,70,145,110,210,80,145,69,150,198,120,92,90,115,95,75,76,67,71,115,84,91,150,215,67,175,60,175,110,95,68,150,67,95,110,105,102,110,89,66,88,75,78,105,70,103,60,150,72,170,90,110,58,152,145,139,83,69,150,67,80,71,46,105,90,110,175,80,74,150,150,65,100,48,105,90,48,105,105,88,100,75,113,190,92,80,165,180,71,97,72,105,90,75,88,155,68,90,84,87,112,87,125,108,142,97,105,75,137,150,88,145,63,95,140,88,85,70,85,115,86,79,120,120,65,110,220,115,170,100,90,225,85,65,97,90,90,49,110,70,92,53,100,190,63,90,67,65,75,100,110,60,93,88,150,100,150,88,225,68,70,208,105,74,90,110,72,97,88,88,129,85,86,150,70,48,77,65,175,90,150,110,130,53,65,158,95,61,215,100,145,68,150,88,67,105,175,160,74,135,100,67,198,180,215,100,225,155,170,81,85,95,80,92,70,149,84,97,52,72,85,52,95,71,140,100,96,150,75,107,110,75,97,133,70,67,112,145,115,98,70,78,230,63,76,105,95,62,165,165,160,190,95,180,78,120,80,75,68,67,95,140,110,72,150,95,54,153,130,170,86,97,90,145,86,79,165,83,64,92,72,140,150,96,150,80,130,100,125,90,94,76,90,150,97,85,81,78,46,84,70,153,116,100,167,88,88,88,200,125,92,110,69,67,90,150,90,71,105,62,88,122,65,88,90,68,110,88],\"y\":{\"__ndarray__\":\"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\",\"dtype\":\"float64\",\"order\":\"little\",\"shape\":[392]}},\"selected\":{\"id\":\"4363\"},\"selection_policy\":{\"id\":\"4362\"}},\"id\":\"4150\",\"type\":\"ColumnDataSource\"},{\"attributes\":{},\"id\":\"4120\",\"type\":\"DataRange1d\"},{\"attributes\":{},\"id\":\"4363\",\"type\":\"Selection\"},{\"attributes\":{},\"id\":\"4122\",\"type\":\"DataRange1d\"},{\"attributes\":{},\"id\":\"4126\",\"type\":\"LinearScale\"},{\"attributes\":{},\"id\":\"4356\",\"type\":\"BasicTickFormatter\"},{\"attributes\":{\"axis_label\":\"HP\",\"formatter\":{\"id\":\"4359\"},\"major_label_policy\":{\"id\":\"4360\"},\"ticker\":{\"id\":\"4129\"}},\"id\":\"4128\",\"type\":\"LinearAxis\"},{\"attributes\":{},\"id\":\"4129\",\"type\":\"BasicTicker\"},{\"attributes\":{\"axis\":{\"id\":\"4128\"},\"ticker\":null},\"id\":\"4131\",\"type\":\"Grid\"},{\"attributes\":{},\"id\":\"4357\",\"type\":\"AllLabels\"},{\"attributes\":{},\"id\":\"4137\",\"type\":\"WheelZoomTool\"},{\"attributes\":{},\"id\":\"4124\",\"type\":\"LinearScale\"},{\"attributes\":{\"active_multi\":null,\"tools\":[{\"id\":\"4136\"},{\"id\":\"4137\"},{\"id\":\"4138\"},{\"id\":\"4139\"},{\"id\":\"4140\"},{\"id\":\"4141\"}]},\"id\":\"4143\",\"type\":\"Toolbar\"},{\"attributes\":{\"fill_color\":{\"field\":\"fill_color\"},\"line_color\":{\"field\":\"line_color\"},\"size\":{\"value\":10},\"x\":{\"field\":\"x\"},\"y\":{\"field\":\"y\"}},\"id\":\"4151\",\"type\":\"Circle\"},{\"attributes\":{\"fill_alpha\":{\"value\":0.1},\"fill_color\":{\"field\":\"fill_color\"},\"line_alpha\":{\"value\":0.1},\"line_color\":{\"field\":\"line_color\"},\"size\":{\"value\":10},\"x\":{\"field\":\"x\"},\"y\":{\"field\":\"y\"}},\"id\":\"4152\",\"type\":\"Circle\"},{\"attributes\":{\"bottom_units\":\"screen\",\"fill_alpha\":0.5,\"fill_color\":\"lightgrey\",\"left_units\":\"screen\",\"level\":\"overlay\",\"line_alpha\":1.0,\"line_color\":\"black\",\"line_dash\":[4,4],\"line_width\":2,\"right_units\":\"screen\",\"syncable\":false,\"top_units\":\"screen\"},\"id\":\"4142\",\"type\":\"BoxAnnotation\"},{\"attributes\":{\"source\":{\"id\":\"4150\"}},\"id\":\"4154\",\"type\":\"CDSView\"},{\"attributes\":{\"data_source\":{\"id\":\"4150\"},\"glyph\":{\"id\":\"4151\"},\"hover_glyph\":null,\"muted_glyph\":null,\"nonselection_glyph\":{\"id\":\"4152\"},\"view\":{\"id\":\"4154\"}},\"id\":\"4153\",\"type\":\"GlyphRenderer\"},{\"attributes\":{},\"id\":\"4359\",\"type\":\"BasicTickFormatter\"},{\"attributes\":{},\"id\":\"4140\",\"type\":\"ResetTool\"},{\"attributes\":{},\"id\":\"4139\",\"type\":\"SaveTool\"},{\"attributes\":{\"overlay\":{\"id\":\"4142\"}},\"id\":\"4138\",\"type\":\"BoxZoomTool\"},{\"attributes\":{},\"id\":\"4136\",\"type\":\"PanTool\"}],\"root_ids\":[\"4119\"]},\"title\":\"Bokeh Application\",\"version\":\"2.3.0\"}};\n",
       "  var render_items = [{\"docid\":\"41bdb91d-ef20-462b-ab15-fd5669995103\",\"root_ids\":[\"4119\"],\"roots\":{\"4119\":\"d989bf9a-53fb-4874-be02-4a704cd99294\"}}];\n",
       "  root.Bokeh.embed.embed_items_notebook(docs_json, render_items);\n",
       "\n",
       "  }\n",
       "  if (root.Bokeh !== undefined) {\n",
       "    embed_document(root);\n",
       "  } else {\n",
       "    var attempts = 0;\n",
       "    var timer = setInterval(function(root) {\n",
       "      if (root.Bokeh !== undefined) {\n",
       "        clearInterval(timer);\n",
       "        embed_document(root);\n",
       "      } else {\n",
       "        attempts++;\n",
       "        if (attempts > 100) {\n",
       "          clearInterval(timer);\n",
       "          console.log(\"Bokeh: ERROR: Unable to run BokehJS code because BokehJS library is missing\");\n",
       "        }\n",
       "      }\n",
       "    }, 10, root)\n",
       "  }\n",
       "})(window);"
      ],
      "application/vnd.bokehjs_exec.v0+json": ""
     },
     "metadata": {
      "application/vnd.bokehjs_exec.v0+json": {
       "id": "4119"
      }
     },
     "output_type": "display_data"
    }
   ],
   "source": [
    "# Create the figure: p\n",
    "p = figure(plot_height=400, x_axis_label='HP', y_axis_label='MPG')\n",
    "\n",
    "# Plot mpg vs hp by color\n",
    "p.circle(auto.hp, auto.mpg, size=10, color=auto.color)\n",
    "\n",
    "# Specify the name of the output file and show the result\n",
    "# output_file('auto-df.html')\n",
    "show(p)"
   ]
  },
  {
   "cell_type": "markdown",
   "metadata": {},
   "source": [
    "### The Bokeh ColumnDataSource\n",
    "\n",
    "The `ColumnDataSource` is a table-like data object that maps string column names to sequences (columns) of data. It is the central and most common data structure in Bokeh.\n",
    "\n",
    "Which of the following statements about `ColumnDataSource` objects is true?\n",
    "\n",
    "**Answer the question**\n",
    "\n",
    "* **All columns in a ColumnDataSource must have the same length.**\n",
    "* ~~ColumnDataSource objects cannot be shared between different plots.~~\n",
    "* ~~ColumnDataSource objects are interchangeable with Pandas DataFrames.~~"
   ]
  },
  {
   "cell_type": "markdown",
   "metadata": {},
   "source": [
    "### The Bokeh ColumnDataSource (continued)\n",
    "You can create a `ColumnDataSource` object directly from a Pandas DataFrame by passing the DataFrame to the class initializer.\n",
    "\n",
    "In this exercise, we have imported pandas as `pd` and read in a data set containing all Olympic medals awarded in the 100 meter sprint from 1896 to 2012. A `color` column has been added indicating the CSS colorname we wish to use in the plot for every data point.\n",
    "\n",
    "Your job is to import the `ColumnDataSource` class, create a new `ColumnDataSource` object from the DataFrame `df`, and plot circle glyphs with `'Year'` on the x-axis and `'Time'` on the y-axis. Color each glyph by the `color` column.\n",
    "\n",
    "The figure object `p` has already been created for you.\n",
    "\n",
    "**Instructions**\n",
    "\n",
    "* Import the ``ColumnDataSource`` class from ``bokeh.plotting``.\n",
    "* Use the ``ColumnDataSource()`` function to make a new ColumnDataSource object called ``source`` from the DataFrame ``df``.\n",
    "* Use `p.circle()` to plot circle glyphs on the figure `p` with `'Year'` on the x-axis and `'Time'` on the y-axis.\n",
    " * Make the size of the circles `8`, and use `color='color'` to ensure each glyph is colored by the `color` column.\n",
    " * Make sure to specify `source=source` so that the ColumnDataSource object is used."
   ]
  },
  {
   "cell_type": "code",
   "execution_count": 31,
   "metadata": {},
   "outputs": [
    {
     "data": {
      "text/html": [
       "<div>\n",
       "<style scoped>\n",
       "    .dataframe tbody tr th:only-of-type {\n",
       "        vertical-align: middle;\n",
       "    }\n",
       "\n",
       "    .dataframe tbody tr th {\n",
       "        vertical-align: top;\n",
       "    }\n",
       "\n",
       "    .dataframe thead th {\n",
       "        text-align: right;\n",
       "    }\n",
       "</style>\n",
       "<table border=\"1\" class=\"dataframe\">\n",
       "  <thead>\n",
       "    <tr style=\"text-align: right;\">\n",
       "      <th></th>\n",
       "      <th>Name</th>\n",
       "      <th>Country</th>\n",
       "      <th>Medal</th>\n",
       "      <th>Time</th>\n",
       "      <th>Year</th>\n",
       "      <th>color</th>\n",
       "    </tr>\n",
       "  </thead>\n",
       "  <tbody>\n",
       "    <tr>\n",
       "      <th>0</th>\n",
       "      <td>Usain Bolt</td>\n",
       "      <td>JAM</td>\n",
       "      <td>GOLD</td>\n",
       "      <td>9.63</td>\n",
       "      <td>2012</td>\n",
       "      <td>goldenrod</td>\n",
       "    </tr>\n",
       "    <tr>\n",
       "      <th>1</th>\n",
       "      <td>Yohan Blake</td>\n",
       "      <td>JAM</td>\n",
       "      <td>SILVER</td>\n",
       "      <td>9.75</td>\n",
       "      <td>2012</td>\n",
       "      <td>silver</td>\n",
       "    </tr>\n",
       "    <tr>\n",
       "      <th>2</th>\n",
       "      <td>Justin Gatlin</td>\n",
       "      <td>USA</td>\n",
       "      <td>BRONZE</td>\n",
       "      <td>9.79</td>\n",
       "      <td>2012</td>\n",
       "      <td>saddlebrown</td>\n",
       "    </tr>\n",
       "    <tr>\n",
       "      <th>3</th>\n",
       "      <td>Usain Bolt</td>\n",
       "      <td>JAM</td>\n",
       "      <td>GOLD</td>\n",
       "      <td>9.69</td>\n",
       "      <td>2008</td>\n",
       "      <td>goldenrod</td>\n",
       "    </tr>\n",
       "    <tr>\n",
       "      <th>4</th>\n",
       "      <td>Richard Thompson</td>\n",
       "      <td>TRI</td>\n",
       "      <td>SILVER</td>\n",
       "      <td>9.89</td>\n",
       "      <td>2008</td>\n",
       "      <td>silver</td>\n",
       "    </tr>\n",
       "  </tbody>\n",
       "</table>\n",
       "</div>"
      ],
      "text/plain": [
       "               Name Country   Medal  Time  Year        color\n",
       "0        Usain Bolt     JAM    GOLD  9.63  2012    goldenrod\n",
       "1       Yohan Blake     JAM  SILVER  9.75  2012       silver\n",
       "2     Justin Gatlin     USA  BRONZE  9.79  2012  saddlebrown\n",
       "3        Usain Bolt     JAM    GOLD  9.69  2008    goldenrod\n",
       "4  Richard Thompson     TRI  SILVER  9.89  2008       silver"
      ]
     },
     "execution_count": 31,
     "metadata": {},
     "output_type": "execute_result"
    }
   ],
   "source": [
    "run.head()"
   ]
  },
  {
   "cell_type": "code",
   "execution_count": 32,
   "metadata": {},
   "outputs": [
    {
     "data": {
      "text/html": [
       "\n",
       "\n",
       "\n",
       "\n",
       "\n",
       "\n",
       "  <div class=\"bk-root\" id=\"c96c8826-db49-491f-af23-78dadde4a941\" data-root-id=\"4421\"></div>\n"
      ]
     },
     "metadata": {},
     "output_type": "display_data"
    },
    {
     "data": {
      "application/javascript": [
       "(function(root) {\n",
       "  function embed_document(root) {\n",
       "    \n",
       "  var docs_json = {\"f32ce70d-7678-429a-a67b-e9ff8d44875e\":{\"defs\":[{\"extends\":null,\"module\":null,\"name\":\"DataModel\",\"overrides\":[],\"properties\":[]}],\"roots\":{\"references\":[{\"attributes\":{\"below\":[{\"id\":\"4432\"}],\"center\":[{\"id\":\"4435\"},{\"id\":\"4439\"}],\"height\":400,\"left\":[{\"id\":\"4436\"}],\"renderers\":[{\"id\":\"4457\"}],\"title\":{\"id\":\"4422\"},\"toolbar\":{\"id\":\"4447\"},\"x_range\":{\"id\":\"4424\"},\"x_scale\":{\"id\":\"4428\"},\"y_range\":{\"id\":\"4426\"},\"y_scale\":{\"id\":\"4430\"}},\"id\":\"4421\",\"subtype\":\"Figure\",\"type\":\"Plot\"},{\"attributes\":{},\"id\":\"4671\",\"type\":\"AllLabels\"},{\"attributes\":{\"text\":\"100 Meter Sprint Run Times: 1896 - 2012\"},\"id\":\"4422\",\"type\":\"Title\"},{\"attributes\":{\"active_multi\":null,\"tools\":[{\"id\":\"4440\"},{\"id\":\"4441\"},{\"id\":\"4442\"},{\"id\":\"4443\"},{\"id\":\"4444\"},{\"id\":\"4445\"}]},\"id\":\"4447\",\"type\":\"Toolbar\"},{\"attributes\":{},\"id\":\"4437\",\"type\":\"BasicTicker\"},{\"attributes\":{\"data\":{\"Country\":[\"JAM\",\"JAM\",\"USA\",\"JAM\",\"TRI\",\"USA\",\"USA\",\"POR\",\"USA\",\"USA\",\"TRI\",\"BAR\",\"CAN\",\"NAM\",\"TRI\",\"GBR\",\"NAM\",\"USA\",\"USA\",\"GBR\",\"USA\",\"USA\",\"USA\",\"CAN\",\"GBR\",\"CUB\",\"BUL\",\"TRI\",\"JAM\",\"URS\",\"URS\",\"USA\",\"JAM\",\"USA\",\"JAM\",\"USA\",\"USA\",\"CUB\",\"CAN\",\"EUA\",\"USA\",\"GBR\",\"USA\",\"USA\",\"AUS\",\"USA\",\"JAM\",\"GBR\",\"USA\",\"USA\",\"PAN\",\"USA\",\"USA\",\"NED\",\"USA\",\"USA\",\"GER\",\"CAN\",\"GBR\",\"GER\",\"GBR\",\"USA\",\"NZL\",\"USA\",\"USA\",\"GBR\",\"USA\",\"USA\",\"USA\",\"RSA\",\"USA\",\"CAN\",\"USA\",\"USA\",\"AUS\",\"USA\",\"USA\",\"USA\",\"USA\",\"USA\",\"AUS\",\"USA\",\"GER\",\"HUN\",\"USA\"],\"Medal\":[\"GOLD\",\"SILVER\",\"BRONZE\",\"GOLD\",\"SILVER\",\"BRONZE\",\"GOLD\",\"SILVER\",\"BRONZE\",\"GOLD\",\"SILVER\",\"BRONZE\",\"GOLD\",\"SILVER\",\"BRONZE\",\"GOLD\",\"SILVER\",\"BRONZE\",\"GOLD\",\"SILVER\",\"BRONZE\",\"GOLD\",\"SILVER\",\"BRONZE\",\"GOLD\",\"SILVER\",\"BRONZE\",\"GOLD\",\"SILVER\",\"BRONZE\",\"GOLD\",\"SILVER\",\"BRONZE\",\"GOLD\",\"SILVER\",\"BRONZE\",\"GOLD\",\"SILVER\",\"BRONZE\",\"GOLD\",\"SILVER\",\"BRONZE\",\"GOLD\",\"SILVER\",\"BRONZE\",\"GOLD\",\"SILVER\",\"BRONZE\",\"GOLD\",\"SILVER\",\"BRONZE\",\"GOLD\",\"SILVER\",\"BRONZE\",\"GOLD\",\"SILVER\",\"BRONZE\",\"GOLD\",\"SILVER\",\"BRONZE\",\"GOLD\",\"SILVER\",\"BRONZE\",\"GOLD\",\"SILVER\",\"BRONZE\",\"GOLD\",\"SILVER\",\"BRONZE\",\"GOLD\",\"SILVER\",\"BRONZE\",\"GOLD\",\"SILVER\",\"BRONZE\",\"GOLD\",\"SILVER\",\"BRONZE\",\"GOLD\",\"SILVER\",\"BRONZE\",\"GOLD\",\"SILVER\",\"BRONZE\",\"BRONZE\"],\"Name\":[\"Usain Bolt\",\"Yohan Blake\",\"Justin Gatlin\",\"Usain Bolt\",\"Richard Thompson\",\"Walter Dix\",\"Justin Gatlin\",\"Francis Obikwelu\",\"Maurice Greene\",\"Maurice Greene\",\"Ato Boldon\",\"Obadele Thompson\",\"Donovan Bailey\",\"Frankie Fredericks\",\"Ato Boldon\",\"Linford Christie\",\"Frankie Fredericks\",\"Dennis Mitchell\",\"Carl Lewis\",\"Linford Christie\",\"Calvin Smith\",\"Carl Lewis\",\"Sam Graddy\",\"Ben Johnson\",\"Allan Wells\",\"Silvio Leonard Tartabull\",\"Petar Petrov\",\"Hasely Crawford\",\"Donald Quarrie\",\"Valery Borzov\",\"Valery Borzov\",\"Robert Taylor\",\"Lennox Miller\",\"Jim Hines\",\"Lennox Miller\",\"Charles Greene\",\"Bob Hayes\",\"Enrique Figuerola Camue\",\"Harry Jerome\",\"Armin Hary\",\"David Sime\",\"Peter Radford\",\"Bobby Joe Morrow\",\"W. Thane Baker\",\"Hector Hogan\",\"Lindy Remigino\",\"Herbert McKenley\",\"E. McDonald Bailey\",\"W. Harrison Dillard\",\"H. Norwood \\\"Barney\\\" Ewell\",\"Lloyd LaBeach\",\"Jesse Owens\",\"Ralph Metcalfe\",\"Martinus Osendarp\",\"T. \\\"Eddie\\\" Tolan\",\"Ralph Metcalfe\",\"Arthur Jonath\",\"Percy Williams\",\"John \\\"Jack\\\" London\",\"Georg Lammers\",\"Harold Abrahams\",\"Jackson Scholz\",\"Arthur Porritt\",\"Charles Paddock\",\"Morris Kirksey\",\"Harry Edward\",\"Ralph Craig\",\"Alvah Meyer\",\"Donald Lippincott\",\"Reginald Walker\",\"James Rector\",\"Robert Kerr\",\"Charles \\\"Archie\\\" Hahn\",\"Fay Moulton\",\"Nigel Barker\",\"Charles \\\"Archie\\\" Hahn\",\"Nathaniel Cartmell\",\"Bill Hogenson\",\"Frank Jarvis\",\"J. Walter Tewksbury\",\"Stanley Rowley\",\"Thomas Burke\",\"Fritz Hofmann\",\"Alojz Sokol\",\"Francis Lane\"],\"Time\":{\"__ndarray__\":\"w/UoXI9CI0AAAAAAAIAjQBSuR+F6lCNA4XoUrkdhI0BI4XoUrscjQFK4HoXr0SNAMzMzMzOzI0C4HoXrUbgjQD0K16NwvSNAPQrXo3C9I0B7FK5H4fojQBSuR+F6FCRArkfhehSuI0BI4XoUrscjQM3MzMzMzCNA7FG4HoXrI0AK16NwPQokQBSuR+F6FCRA16NwPQrXI0BxPQrXo/AjQHsUrkfh+iNAexSuR+H6I0DhehSuR2EkQHE9CtejcCRAAAAAAACAJEAAAAAAAIAkQEjhehSuxyRAH4XrUbgeJEApXI/C9SgkQEjhehSuRyRASOF6FK5HJEB7FK5H4XokQClcj8L1qCRAZmZmZmbmI0AUrkfhehQkQKRwPQrXIyRAAAAAAAAAJEBmZmZmZmYkQGZmZmZmZiRAZmZmZmZmJEBmZmZmZmYkQJqZmZmZmSRAAAAAAAAAJUAAAAAAAAAlQDMzMzMzMyVAzczMzMzMJEDNzMzMzMwkQM3MzMzMzCRAmpmZmZmZJEDNzMzMzMwkQM3MzMzMzCRAmpmZmZmZJEDNzMzMzMwkQAAAAAAAACVAmpmZmZmZJECamZmZmZkkQM3MzMzMzCRAmpmZmZmZJUDNzMzMzMwlQM3MzMzMzCVAMzMzMzMzJUCamZmZmZklQM3MzMzMzCVAmpmZmZmZJUDNzMzMzMwlQM3MzMzMzCVAmpmZmZmZJUDNzMzMzMwlQM3MzMzMzCVAmpmZmZmZJUAAAAAAAAAmQAAAAAAAACZAZmZmZmZmJkCamZmZmZkmQJqZmZmZmSZAAAAAAAAAJkBmZmZmZmYmQGZmZmZmZiZAAAAAAAAAJkAzMzMzMzMmQGZmZmZmZiZAAAAAAAAAKEBmZmZmZmYoQDMzMzMzMylAMzMzMzMzKUA=\",\"dtype\":\"float64\",\"order\":\"little\",\"shape\":[85]},\"Year\":[2012,2012,2012,2008,2008,2008,2004,2004,2004,2000,2000,2000,1996,1996,1996,1992,1992,1992,1988,1988,1988,1984,1984,1984,1980,1980,1980,1976,1976,1976,1972,1972,1972,1968,1968,1968,1964,1964,1964,1960,1960,1960,1956,1956,1956,1952,1952,1952,1948,1948,1948,1936,1936,1936,1932,1932,1932,1928,1928,1928,1924,1924,1924,1920,1920,1920,1912,1912,1912,1908,1908,1908,1906,1906,1906,1904,1904,1904,1900,1900,1900,1896,1896,1896,1896],\"color\":[\"goldenrod\",\"silver\",\"saddlebrown\",\"goldenrod\",\"silver\",\"saddlebrown\",\"goldenrod\",\"silver\",\"saddlebrown\",\"goldenrod\",\"silver\",\"saddlebrown\",\"goldenrod\",\"silver\",\"saddlebrown\",\"goldenrod\",\"silver\",\"saddlebrown\",\"goldenrod\",\"silver\",\"saddlebrown\",\"goldenrod\",\"silver\",\"saddlebrown\",\"goldenrod\",\"silver\",\"saddlebrown\",\"goldenrod\",\"silver\",\"saddlebrown\",\"goldenrod\",\"silver\",\"saddlebrown\",\"goldenrod\",\"silver\",\"saddlebrown\",\"goldenrod\",\"silver\",\"saddlebrown\",\"goldenrod\",\"silver\",\"saddlebrown\",\"goldenrod\",\"silver\",\"saddlebrown\",\"goldenrod\",\"silver\",\"saddlebrown\",\"goldenrod\",\"silver\",\"saddlebrown\",\"goldenrod\",\"silver\",\"saddlebrown\",\"goldenrod\",\"silver\",\"saddlebrown\",\"goldenrod\",\"silver\",\"saddlebrown\",\"goldenrod\",\"silver\",\"saddlebrown\",\"goldenrod\",\"silver\",\"saddlebrown\",\"goldenrod\",\"silver\",\"saddlebrown\",\"goldenrod\",\"silver\",\"saddlebrown\",\"goldenrod\",\"silver\",\"saddlebrown\",\"goldenrod\",\"silver\",\"saddlebrown\",\"goldenrod\",\"silver\",\"saddlebrown\",\"goldenrod\",\"silver\",\"saddlebrown\",\"saddlebrown\"],\"index\":[0,1,2,3,4,5,6,7,8,9,10,11,12,13,14,15,16,17,18,19,20,21,22,23,24,25,26,27,28,29,30,31,32,33,34,35,36,37,38,39,40,41,42,43,44,45,46,47,48,49,50,51,52,53,54,55,56,57,58,59,60,61,62,63,64,65,66,67,68,69,70,71,72,73,74,75,76,77,78,79,80,81,82,83,84]},\"selected\":{\"id\":\"4677\"},\"selection_policy\":{\"id\":\"4676\"}},\"id\":\"4420\",\"type\":\"ColumnDataSource\"},{\"attributes\":{\"axis\":{\"id\":\"4432\"},\"ticker\":null},\"id\":\"4435\",\"type\":\"Grid\"},{\"attributes\":{\"source\":{\"id\":\"4420\"}},\"id\":\"4458\",\"type\":\"CDSView\"},{\"attributes\":{\"data_source\":{\"id\":\"4420\"},\"glyph\":{\"id\":\"4455\"},\"hover_glyph\":null,\"muted_glyph\":null,\"nonselection_glyph\":{\"id\":\"4456\"},\"view\":{\"id\":\"4458\"}},\"id\":\"4457\",\"type\":\"GlyphRenderer\"},{\"attributes\":{},\"id\":\"4673\",\"type\":\"BasicTickFormatter\"},{\"attributes\":{},\"id\":\"4440\",\"type\":\"PanTool\"},{\"attributes\":{\"axis\":{\"id\":\"4436\"},\"dimension\":1,\"ticker\":null},\"id\":\"4439\",\"type\":\"Grid\"},{\"attributes\":{},\"id\":\"4674\",\"type\":\"AllLabels\"},{\"attributes\":{\"overlay\":{\"id\":\"4446\"}},\"id\":\"4442\",\"type\":\"BoxZoomTool\"},{\"attributes\":{},\"id\":\"4433\",\"type\":\"BasicTicker\"},{\"attributes\":{},\"id\":\"4444\",\"type\":\"ResetTool\"},{\"attributes\":{},\"id\":\"4430\",\"type\":\"LinearScale\"},{\"attributes\":{\"axis_label\":\"Race Run Time (seconds)\",\"formatter\":{\"id\":\"4670\"},\"major_label_policy\":{\"id\":\"4671\"},\"ticker\":{\"id\":\"4437\"}},\"id\":\"4436\",\"type\":\"LinearAxis\"},{\"attributes\":{},\"id\":\"4445\",\"type\":\"HelpTool\"},{\"attributes\":{},\"id\":\"4443\",\"type\":\"SaveTool\"},{\"attributes\":{},\"id\":\"4428\",\"type\":\"LinearScale\"},{\"attributes\":{},\"id\":\"4424\",\"type\":\"DataRange1d\"},{\"attributes\":{},\"id\":\"4441\",\"type\":\"WheelZoomTool\"},{\"attributes\":{\"fill_alpha\":{\"value\":0.1},\"fill_color\":{\"field\":\"color\"},\"line_alpha\":{\"value\":0.1},\"line_color\":{\"field\":\"color\"},\"size\":{\"value\":8},\"x\":{\"field\":\"Year\"},\"y\":{\"field\":\"Time\"}},\"id\":\"4456\",\"type\":\"Circle\"},{\"attributes\":{\"fill_color\":{\"field\":\"color\"},\"line_color\":{\"field\":\"color\"},\"size\":{\"value\":8},\"x\":{\"field\":\"Year\"},\"y\":{\"field\":\"Time\"}},\"id\":\"4455\",\"type\":\"Circle\"},{\"attributes\":{},\"id\":\"4426\",\"type\":\"DataRange1d\"},{\"attributes\":{},\"id\":\"4676\",\"type\":\"UnionRenderers\"},{\"attributes\":{\"axis_label\":\"Race Year\",\"formatter\":{\"id\":\"4673\"},\"major_label_policy\":{\"id\":\"4674\"},\"ticker\":{\"id\":\"4433\"}},\"id\":\"4432\",\"type\":\"LinearAxis\"},{\"attributes\":{},\"id\":\"4677\",\"type\":\"Selection\"},{\"attributes\":{},\"id\":\"4670\",\"type\":\"BasicTickFormatter\"},{\"attributes\":{\"bottom_units\":\"screen\",\"fill_alpha\":0.5,\"fill_color\":\"lightgrey\",\"left_units\":\"screen\",\"level\":\"overlay\",\"line_alpha\":1.0,\"line_color\":\"black\",\"line_dash\":[4,4],\"line_width\":2,\"right_units\":\"screen\",\"syncable\":false,\"top_units\":\"screen\"},\"id\":\"4446\",\"type\":\"BoxAnnotation\"}],\"root_ids\":[\"4421\"]},\"title\":\"Bokeh Application\",\"version\":\"2.3.0\"}};\n",
       "  var render_items = [{\"docid\":\"f32ce70d-7678-429a-a67b-e9ff8d44875e\",\"root_ids\":[\"4421\"],\"roots\":{\"4421\":\"c96c8826-db49-491f-af23-78dadde4a941\"}}];\n",
       "  root.Bokeh.embed.embed_items_notebook(docs_json, render_items);\n",
       "\n",
       "  }\n",
       "  if (root.Bokeh !== undefined) {\n",
       "    embed_document(root);\n",
       "  } else {\n",
       "    var attempts = 0;\n",
       "    var timer = setInterval(function(root) {\n",
       "      if (root.Bokeh !== undefined) {\n",
       "        clearInterval(timer);\n",
       "        embed_document(root);\n",
       "      } else {\n",
       "        attempts++;\n",
       "        if (attempts > 100) {\n",
       "          clearInterval(timer);\n",
       "          console.log(\"Bokeh: ERROR: Unable to run BokehJS code because BokehJS library is missing\");\n",
       "        }\n",
       "      }\n",
       "    }, 10, root)\n",
       "  }\n",
       "})(window);"
      ],
      "application/vnd.bokehjs_exec.v0+json": ""
     },
     "metadata": {
      "application/vnd.bokehjs_exec.v0+json": {
       "id": "4421"
      }
     },
     "output_type": "display_data"
    }
   ],
   "source": [
    "# Create a ColumnDataSource from df: source\n",
    "source = ColumnDataSource(run)\n",
    "\n",
    "# Add circle glyphs to the figure p\n",
    "p = figure(plot_height=400, x_axis_label='Race Year', y_axis_label='Race Run Time (seconds)', title='100 Meter Sprint Run Times: 1896 - 2012')\n",
    "p.circle('Year', 'Time', source=source, size=8, color='color')\n",
    "\n",
    "# Specify the name of the output file and show the result\n",
    "# output_file('sprint.html')\n",
    "show(p)"
   ]
  },
  {
   "cell_type": "markdown",
   "metadata": {},
   "source": [
    "## Customizing glyphs\n",
    "\n",
    "**Selection appearance**"
   ]
  },
  {
   "cell_type": "code",
   "execution_count": 33,
   "metadata": {},
   "outputs": [
    {
     "data": {
      "text/html": [
       "\n",
       "\n",
       "\n",
       "\n",
       "\n",
       "\n",
       "  <div class=\"bk-root\" id=\"7c7f03c9-a978-46fc-b214-6fcd0944f3a6\" data-root-id=\"4729\"></div>\n"
      ]
     },
     "metadata": {},
     "output_type": "display_data"
    },
    {
     "data": {
      "application/javascript": [
       "(function(root) {\n",
       "  function embed_document(root) {\n",
       "    \n",
       "  var docs_json = {\"1d95a7a2-b5c2-4ed7-81e8-c2029e5c7502\":{\"defs\":[{\"extends\":null,\"module\":null,\"name\":\"DataModel\",\"overrides\":[],\"properties\":[]}],\"roots\":{\"references\":[{\"attributes\":{\"below\":[{\"id\":\"4738\"}],\"center\":[{\"id\":\"4741\"},{\"id\":\"4745\"}],\"height\":400,\"left\":[{\"id\":\"4742\"}],\"renderers\":[{\"id\":\"4759\"}],\"title\":{\"id\":\"4981\"},\"toolbar\":{\"id\":\"4751\"},\"x_range\":{\"id\":\"4730\"},\"x_scale\":{\"id\":\"4734\"},\"y_range\":{\"id\":\"4732\"},\"y_scale\":{\"id\":\"4736\"}},\"id\":\"4729\",\"subtype\":\"Figure\",\"type\":\"Plot\"},{\"attributes\":{},\"id\":\"4981\",\"type\":\"Title\"},{\"attributes\":{\"formatter\":{\"id\":\"4983\"},\"major_label_policy\":{\"id\":\"4984\"},\"ticker\":{\"id\":\"4743\"}},\"id\":\"4742\",\"type\":\"LinearAxis\"},{\"attributes\":{},\"id\":\"4989\",\"type\":\"UnionRenderers\"},{\"attributes\":{\"fill_color\":{\"value\":\"red\"},\"line_color\":{\"value\":\"red\"},\"x\":{\"field\":\"x\"},\"y\":{\"field\":\"y\"}},\"id\":\"4758\",\"type\":\"Circle\"},{\"attributes\":{},\"id\":\"4736\",\"type\":\"LinearScale\"},{\"attributes\":{},\"id\":\"4990\",\"type\":\"Selection\"},{\"attributes\":{},\"id\":\"4748\",\"type\":\"ResetTool\"},{\"attributes\":{},\"id\":\"4730\",\"type\":\"DataRange1d\"},{\"attributes\":{},\"id\":\"4983\",\"type\":\"BasicTickFormatter\"},{\"attributes\":{\"overlay\":{\"id\":\"4750\"}},\"id\":\"4747\",\"type\":\"LassoSelectTool\"},{\"attributes\":{\"formatter\":{\"id\":\"4986\"},\"major_label_policy\":{\"id\":\"4987\"},\"ticker\":{\"id\":\"4739\"}},\"id\":\"4738\",\"type\":\"LinearAxis\"},{\"attributes\":{\"overlay\":{\"id\":\"4749\"}},\"id\":\"4746\",\"type\":\"BoxSelectTool\"},{\"attributes\":{},\"id\":\"4984\",\"type\":\"AllLabels\"},{\"attributes\":{\"fill_color\":{\"value\":\"#1f77b4\"},\"line_color\":{\"value\":\"#1f77b4\"},\"x\":{\"field\":\"x\"},\"y\":{\"field\":\"y\"}},\"id\":\"4756\",\"type\":\"Circle\"},{\"attributes\":{\"axis\":{\"id\":\"4742\"},\"dimension\":1,\"ticker\":null},\"id\":\"4745\",\"type\":\"Grid\"},{\"attributes\":{},\"id\":\"4743\",\"type\":\"BasicTicker\"},{\"attributes\":{\"data\":{\"x\":{\"__ndarray__\":\"ZmZmZmZm9j9mZmZmZmb2P83MzMzMzPQ/AAAAAAAA+D9mZmZmZmb2PzMzMzMzM/s/ZmZmZmZm9j8AAAAAAAD4P2ZmZmZmZvY/AAAAAAAA+D8AAAAAAAD4P5qZmZmZmfk/ZmZmZmZm9j+amZmZmZnxPzMzMzMzM/M/AAAAAAAA+D/NzMzMzMz0P2ZmZmZmZvY/MzMzMzMz+z8AAAAAAAD4PzMzMzMzM/s/AAAAAAAA+D8AAAAAAADwPzMzMzMzM/s/ZmZmZmZm/j+amZmZmZn5P5qZmZmZmfk/AAAAAAAA+D9mZmZmZmb2P5qZmZmZmfk/mpmZmZmZ+T8AAAAAAAD4PwAAAAAAAPg/ZmZmZmZm9j8AAAAAAAD4PzMzMzMzM/M/zczMzMzM9D9mZmZmZmb2P83MzMzMzPQ/AAAAAAAA+D/NzMzMzMz0P83MzMzMzPQ/zczMzMzM9D+amZmZmZn5P2ZmZmZmZv4/ZmZmZmZm9j+amZmZmZn5P2ZmZmZmZvY/AAAAAAAA+D9mZmZmZmb2P83MzMzMzBJAAAAAAAAAEkCamZmZmZkTQAAAAAAAABBAZmZmZmZmEkAAAAAAAAASQM3MzMzMzBJAZmZmZmZmCkBmZmZmZmYSQDMzMzMzMw9AAAAAAAAADEDNzMzMzMwQQAAAAAAAABBAzczMzMzMEkDNzMzMzMwMQJqZmZmZmRFAAAAAAAAAEkBmZmZmZmYQQAAAAAAAABJAMzMzMzMzD0AzMzMzMzMTQAAAAAAAABBAmpmZmZmZE0DNzMzMzMwSQDMzMzMzMxFAmpmZmZmZEUAzMzMzMzMTQAAAAAAAABRAAAAAAAAAEkAAAAAAAAAMQGZmZmZmZg5AmpmZmZmZDUAzMzMzMzMPQGZmZmZmZhRAAAAAAAAAEkAAAAAAAAASQM3MzMzMzBJAmpmZmZmZEUBmZmZmZmYQQAAAAAAAABBAmpmZmZmZEUBmZmZmZmYSQAAAAAAAABBAZmZmZmZmCkDNzMzMzMwQQM3MzMzMzBBAzczMzMzMEEAzMzMzMzMRQAAAAAAAAAhAZmZmZmZmEEAAAAAAAAAYQGZmZmZmZhRAmpmZmZmZF0BmZmZmZmYWQDMzMzMzMxdAZmZmZmZmGkAAAAAAAAASQDMzMzMzMxlAMzMzMzMzF0BmZmZmZmYYQGZmZmZmZhRAMzMzMzMzFUAAAAAAAAAWQAAAAAAAABRAZmZmZmZmFEAzMzMzMzMVQAAAAAAAABZAzczMzMzMGkCamZmZmZkbQAAAAAAAABRAzczMzMzMFkCamZmZmZkTQM3MzMzMzBpAmpmZmZmZE0DNzMzMzMwWQAAAAAAAABhAMzMzMzMzE0CamZmZmZkTQGZmZmZmZhZAMzMzMzMzF0BmZmZmZmYYQJqZmZmZmRlAZmZmZmZmFkBmZmZmZmYUQGZmZmZmZhZAZmZmZmZmGEBmZmZmZmYWQAAAAAAAABZAMzMzMzMzE0CamZmZmZkVQGZmZmZmZhZAZmZmZmZmFEBmZmZmZmYUQJqZmZmZmRdAzczMzMzMFkDNzMzMzMwUQAAAAAAAABRAzczMzMzMFECamZmZmZkVQGZmZmZmZhRA\",\"dtype\":\"float64\",\"order\":\"little\",\"shape\":[150]},\"y\":{\"__ndarray__\":\"ZmZmZmZmFECamZmZmZkTQM3MzMzMzBJAZmZmZmZmEkAAAAAAAAAUQJqZmZmZmRVAZmZmZmZmEkAAAAAAAAAUQJqZmZmZmRFAmpmZmZmZE0CamZmZmZkVQDMzMzMzMxNAMzMzMzMzE0AzMzMzMzMRQDMzMzMzMxdAzczMzMzMFkCamZmZmZkVQGZmZmZmZhRAzczMzMzMFkBmZmZmZmYUQJqZmZmZmRVAZmZmZmZmFEBmZmZmZmYSQGZmZmZmZhRAMzMzMzMzE0AAAAAAAAAUQAAAAAAAABRAzczMzMzMFEDNzMzMzMwUQM3MzMzMzBJAMzMzMzMzE0CamZmZmZkVQM3MzMzMzBRAAAAAAAAAFkCamZmZmZkTQAAAAAAAABRAAAAAAAAAFkCamZmZmZkTQJqZmZmZmRFAZmZmZmZmFEAAAAAAAAAUQAAAAAAAABJAmpmZmZmZEUAAAAAAAAAUQGZmZmZmZhRAMzMzMzMzE0BmZmZmZmYUQGZmZmZmZhJAMzMzMzMzFUAAAAAAAAAUQAAAAAAAABxAmpmZmZmZGUCamZmZmZkbQAAAAAAAABZAAAAAAAAAGkDNzMzMzMwWQDMzMzMzMxlAmpmZmZmZE0BmZmZmZmYaQM3MzMzMzBRAAAAAAAAAFECamZmZmZkXQAAAAAAAABhAZmZmZmZmGEBmZmZmZmYWQM3MzMzMzBpAZmZmZmZmFkAzMzMzMzMXQM3MzMzMzBhAZmZmZmZmFkCamZmZmZkXQGZmZmZmZhhAMzMzMzMzGUBmZmZmZmYYQJqZmZmZmRlAZmZmZmZmGkAzMzMzMzMbQM3MzMzMzBpAAAAAAAAAGEDNzMzMzMwWQAAAAAAAABZAAAAAAAAAFkAzMzMzMzMXQAAAAAAAABhAmpmZmZmZFUAAAAAAAAAYQM3MzMzMzBpAMzMzMzMzGUBmZmZmZmYWQAAAAAAAABZAAAAAAAAAFkBmZmZmZmYYQDMzMzMzMxdAAAAAAAAAFEBmZmZmZmYWQM3MzMzMzBZAzczMzMzMFkDNzMzMzMwYQGZmZmZmZhRAzczMzMzMFkAzMzMzMzMZQDMzMzMzMxdAZmZmZmZmHEAzMzMzMzMZQAAAAAAAABpAZmZmZmZmHkCamZmZmZkTQDMzMzMzMx1AzczMzMzMGkDNzMzMzMwcQAAAAAAAABpAmpmZmZmZGUAzMzMzMzMbQM3MzMzMzBZAMzMzMzMzF0CamZmZmZkZQAAAAAAAABpAzczMzMzMHkDNzMzMzMweQAAAAAAAABhAmpmZmZmZG0BmZmZmZmYWQM3MzMzMzB5AMzMzMzMzGUDNzMzMzMwaQM3MzMzMzBxAzczMzMzMGEBmZmZmZmYYQJqZmZmZmRlAzczMzMzMHECamZmZmZkdQJqZmZmZmR9AmpmZmZmZGUAzMzMzMzMZQGZmZmZmZhhAzczMzMzMHkAzMzMzMzMZQJqZmZmZmRlAAAAAAAAAGECamZmZmZkbQM3MzMzMzBpAmpmZmZmZG0AzMzMzMzMXQDMzMzMzMxtAzczMzMzMGkDNzMzMzMwaQDMzMzMzMxlAAAAAAAAAGkDNzMzMzMwYQJqZmZmZmRdA\",\"dtype\":\"float64\",\"order\":\"little\",\"shape\":[150]}},\"selected\":{\"id\":\"4990\"},\"selection_policy\":{\"id\":\"4989\"}},\"id\":\"4755\",\"type\":\"ColumnDataSource\"},{\"attributes\":{},\"id\":\"4732\",\"type\":\"DataRange1d\"},{\"attributes\":{\"active_multi\":null,\"tools\":[{\"id\":\"4746\"},{\"id\":\"4747\"},{\"id\":\"4748\"}]},\"id\":\"4751\",\"type\":\"Toolbar\"},{\"attributes\":{\"data_source\":{\"id\":\"4755\"},\"glyph\":{\"id\":\"4756\"},\"hover_glyph\":null,\"muted_glyph\":null,\"nonselection_glyph\":{\"id\":\"4757\"},\"selection_glyph\":{\"id\":\"4758\"},\"view\":{\"id\":\"4760\"}},\"id\":\"4759\",\"type\":\"GlyphRenderer\"},{\"attributes\":{\"axis\":{\"id\":\"4738\"},\"ticker\":null},\"id\":\"4741\",\"type\":\"Grid\"},{\"attributes\":{\"fill_alpha\":{\"value\":0.2},\"fill_color\":{\"value\":\"grey\"},\"line_alpha\":{\"value\":0.1},\"line_color\":{\"value\":\"#1f77b4\"},\"x\":{\"field\":\"x\"},\"y\":{\"field\":\"y\"}},\"id\":\"4757\",\"type\":\"Circle\"},{\"attributes\":{\"source\":{\"id\":\"4755\"}},\"id\":\"4760\",\"type\":\"CDSView\"},{\"attributes\":{},\"id\":\"4739\",\"type\":\"BasicTicker\"},{\"attributes\":{\"fill_alpha\":0.5,\"fill_color\":\"lightgrey\",\"level\":\"overlay\",\"line_alpha\":1.0,\"line_color\":\"black\",\"line_dash\":[4,4],\"line_width\":2,\"syncable\":false,\"xs_units\":\"screen\",\"ys_units\":\"screen\"},\"id\":\"4750\",\"type\":\"PolyAnnotation\"},{\"attributes\":{},\"id\":\"4986\",\"type\":\"BasicTickFormatter\"},{\"attributes\":{},\"id\":\"4734\",\"type\":\"LinearScale\"},{\"attributes\":{\"bottom_units\":\"screen\",\"fill_alpha\":0.5,\"fill_color\":\"lightgrey\",\"left_units\":\"screen\",\"level\":\"overlay\",\"line_alpha\":1.0,\"line_color\":\"black\",\"line_dash\":[4,4],\"line_width\":2,\"right_units\":\"screen\",\"syncable\":false,\"top_units\":\"screen\"},\"id\":\"4749\",\"type\":\"BoxAnnotation\"},{\"attributes\":{},\"id\":\"4987\",\"type\":\"AllLabels\"}],\"root_ids\":[\"4729\"]},\"title\":\"Bokeh Application\",\"version\":\"2.3.0\"}};\n",
       "  var render_items = [{\"docid\":\"1d95a7a2-b5c2-4ed7-81e8-c2029e5c7502\",\"root_ids\":[\"4729\"],\"roots\":{\"4729\":\"7c7f03c9-a978-46fc-b214-6fcd0944f3a6\"}}];\n",
       "  root.Bokeh.embed.embed_items_notebook(docs_json, render_items);\n",
       "\n",
       "  }\n",
       "  if (root.Bokeh !== undefined) {\n",
       "    embed_document(root);\n",
       "  } else {\n",
       "    var attempts = 0;\n",
       "    var timer = setInterval(function(root) {\n",
       "      if (root.Bokeh !== undefined) {\n",
       "        clearInterval(timer);\n",
       "        embed_document(root);\n",
       "      } else {\n",
       "        attempts++;\n",
       "        if (attempts > 100) {\n",
       "          clearInterval(timer);\n",
       "          console.log(\"Bokeh: ERROR: Unable to run BokehJS code because BokehJS library is missing\");\n",
       "        }\n",
       "      }\n",
       "    }, 10, root)\n",
       "  }\n",
       "})(window);"
      ],
      "application/vnd.bokehjs_exec.v0+json": ""
     },
     "metadata": {
      "application/vnd.bokehjs_exec.v0+json": {
       "id": "4729"
      }
     },
     "output_type": "display_data"
    }
   ],
   "source": [
    "plot = figure(plot_height=400, tools='box_select, lasso_select, reset')\n",
    "plot.circle(iris_df.petal_length, iris_df.sepal_length, selection_color='red', nonselection_fill_alpha=0.2, nonselection_fill_color='grey')\n",
    "show(plot)"
   ]
  },
  {
   "cell_type": "markdown",
   "metadata": {},
   "source": [
    "**Hover appearance**"
   ]
  },
  {
   "cell_type": "code",
   "execution_count": 34,
   "metadata": {},
   "outputs": [],
   "source": [
    "np.random.seed(365)\n",
    "a = np.random.random_sample(1000)\n",
    "b = np.random.random_sample(1000)"
   ]
  },
  {
   "cell_type": "code",
   "execution_count": 35,
   "metadata": {},
   "outputs": [
    {
     "data": {
      "text/html": [
       "\n",
       "\n",
       "\n",
       "\n",
       "\n",
       "\n",
       "  <div class=\"bk-root\" id=\"50085135-b0eb-4fa3-bf59-e5c7192e62ba\" data-root-id=\"5054\"></div>\n"
      ]
     },
     "metadata": {},
     "output_type": "display_data"
    },
    {
     "data": {
      "application/javascript": [
       "(function(root) {\n",
       "  function embed_document(root) {\n",
       "    \n",
       "  var docs_json = {\"f45d026d-f5ad-4b62-80f4-1159a08ef5e8\":{\"defs\":[{\"extends\":null,\"module\":null,\"name\":\"DataModel\",\"overrides\":[],\"properties\":[]}],\"roots\":{\"references\":[{\"attributes\":{\"below\":[{\"id\":\"5063\"}],\"center\":[{\"id\":\"5066\"},{\"id\":\"5070\"}],\"height\":400,\"left\":[{\"id\":\"5067\"}],\"renderers\":[{\"id\":\"5079\"}],\"title\":{\"id\":\"5313\"},\"toolbar\":{\"id\":\"5072\"},\"x_range\":{\"id\":\"5055\"},\"x_scale\":{\"id\":\"5059\"},\"y_range\":{\"id\":\"5057\"},\"y_scale\":{\"id\":\"5061\"}},\"id\":\"5054\",\"subtype\":\"Figure\",\"type\":\"Plot\"},{\"attributes\":{},\"id\":\"5321\",\"type\":\"UnionRenderers\"},{\"attributes\":{\"formatter\":{\"id\":\"5318\"},\"major_label_policy\":{\"id\":\"5319\"},\"ticker\":{\"id\":\"5064\"}},\"id\":\"5063\",\"type\":\"LinearAxis\"},{\"attributes\":{\"formatter\":{\"id\":\"5315\"},\"major_label_policy\":{\"id\":\"5316\"},\"ticker\":{\"id\":\"5068\"}},\"id\":\"5067\",\"type\":\"LinearAxis\"},{\"attributes\":{},\"id\":\"5315\",\"type\":\"BasicTickFormatter\"},{\"attributes\":{},\"id\":\"5059\",\"type\":\"LinearScale\"},{\"attributes\":{},\"id\":\"5057\",\"type\":\"DataRange1d\"},{\"attributes\":{},\"id\":\"5061\",\"type\":\"LinearScale\"},{\"attributes\":{\"data\":{\"x\":{\"__ndarray__\":\"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\",\"dtype\":\"float64\",\"order\":\"little\",\"shape\":[1000]},\"y\":{\"__ndarray__\":\"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\",\"dtype\":\"float64\",\"order\":\"little\",\"shape\":[1000]}},\"selected\":{\"id\":\"5322\"},\"selection_policy\":{\"id\":\"5321\"}},\"id\":\"5075\",\"type\":\"ColumnDataSource\"},{\"attributes\":{},\"id\":\"5322\",\"type\":\"Selection\"},{\"attributes\":{},\"id\":\"5071\",\"type\":\"CrosshairTool\"},{\"attributes\":{},\"id\":\"5316\",\"type\":\"AllLabels\"},{\"attributes\":{},\"id\":\"5313\",\"type\":\"Title\"},{\"attributes\":{\"fill_alpha\":{\"value\":0.1},\"fill_color\":{\"value\":\"#1f77b4\"},\"line_alpha\":{\"value\":0.1},\"line_color\":{\"value\":\"#1f77b4\"},\"size\":{\"value\":8},\"x\":{\"field\":\"x\"},\"y\":{\"field\":\"y\"}},\"id\":\"5077\",\"type\":\"Circle\"},{\"attributes\":{},\"id\":\"5068\",\"type\":\"BasicTicker\"},{\"attributes\":{\"fill_color\":{\"value\":\"magenta\"},\"line_color\":{\"value\":\"magenta\"},\"size\":{\"value\":8},\"x\":{\"field\":\"x\"},\"y\":{\"field\":\"y\"}},\"id\":\"5078\",\"type\":\"Circle\"},{\"attributes\":{\"fill_color\":{\"value\":\"#1f77b4\"},\"line_color\":{\"value\":\"#1f77b4\"},\"size\":{\"value\":8},\"x\":{\"field\":\"x\"},\"y\":{\"field\":\"y\"}},\"id\":\"5076\",\"type\":\"Circle\"},{\"attributes\":{},\"id\":\"5055\",\"type\":\"DataRange1d\"},{\"attributes\":{\"source\":{\"id\":\"5075\"}},\"id\":\"5080\",\"type\":\"CDSView\"},{\"attributes\":{},\"id\":\"5318\",\"type\":\"BasicTickFormatter\"},{\"attributes\":{},\"id\":\"5064\",\"type\":\"BasicTicker\"},{\"attributes\":{\"axis\":{\"id\":\"5063\"},\"ticker\":null},\"id\":\"5066\",\"type\":\"Grid\"},{\"attributes\":{\"callback\":null,\"mode\":\"hline\",\"tooltips\":null},\"id\":\"5053\",\"type\":\"HoverTool\"},{\"attributes\":{},\"id\":\"5319\",\"type\":\"AllLabels\"},{\"attributes\":{\"axis\":{\"id\":\"5067\"},\"dimension\":1,\"ticker\":null},\"id\":\"5070\",\"type\":\"Grid\"},{\"attributes\":{\"active_multi\":null,\"tools\":[{\"id\":\"5053\"},{\"id\":\"5071\"}]},\"id\":\"5072\",\"type\":\"Toolbar\"},{\"attributes\":{\"data_source\":{\"id\":\"5075\"},\"glyph\":{\"id\":\"5076\"},\"hover_glyph\":{\"id\":\"5078\"},\"muted_glyph\":null,\"nonselection_glyph\":{\"id\":\"5077\"},\"view\":{\"id\":\"5080\"}},\"id\":\"5079\",\"type\":\"GlyphRenderer\"}],\"root_ids\":[\"5054\"]},\"title\":\"Bokeh Application\",\"version\":\"2.3.0\"}};\n",
       "  var render_items = [{\"docid\":\"f45d026d-f5ad-4b62-80f4-1159a08ef5e8\",\"root_ids\":[\"5054\"],\"roots\":{\"5054\":\"50085135-b0eb-4fa3-bf59-e5c7192e62ba\"}}];\n",
       "  root.Bokeh.embed.embed_items_notebook(docs_json, render_items);\n",
       "\n",
       "  }\n",
       "  if (root.Bokeh !== undefined) {\n",
       "    embed_document(root);\n",
       "  } else {\n",
       "    var attempts = 0;\n",
       "    var timer = setInterval(function(root) {\n",
       "      if (root.Bokeh !== undefined) {\n",
       "        clearInterval(timer);\n",
       "        embed_document(root);\n",
       "      } else {\n",
       "        attempts++;\n",
       "        if (attempts > 100) {\n",
       "          clearInterval(timer);\n",
       "          console.log(\"Bokeh: ERROR: Unable to run BokehJS code because BokehJS library is missing\");\n",
       "        }\n",
       "      }\n",
       "    }, 10, root)\n",
       "  }\n",
       "})(window);"
      ],
      "application/vnd.bokehjs_exec.v0+json": ""
     },
     "metadata": {
      "application/vnd.bokehjs_exec.v0+json": {
       "id": "5054"
      }
     },
     "output_type": "display_data"
    }
   ],
   "source": [
    "hover = HoverTool(tooltips=None, mode='hline')\n",
    "plot = figure(plot_height=400, tools=[hover, 'crosshair'])\n",
    "# x and y are lists of random points\n",
    "plot.circle(a, b, size=8, hover_color='magenta')\n",
    "show(plot)"
   ]
  },
  {
   "cell_type": "markdown",
   "metadata": {},
   "source": [
    "**Color mapping**"
   ]
  },
  {
   "cell_type": "code",
   "execution_count": 36,
   "metadata": {},
   "outputs": [
    {
     "data": {
      "text/html": [
       "<div>\n",
       "<style scoped>\n",
       "    .dataframe tbody tr th:only-of-type {\n",
       "        vertical-align: middle;\n",
       "    }\n",
       "\n",
       "    .dataframe tbody tr th {\n",
       "        vertical-align: top;\n",
       "    }\n",
       "\n",
       "    .dataframe thead th {\n",
       "        text-align: right;\n",
       "    }\n",
       "</style>\n",
       "<table border=\"1\" class=\"dataframe\">\n",
       "  <thead>\n",
       "    <tr style=\"text-align: right;\">\n",
       "      <th></th>\n",
       "      <th>sepal_length</th>\n",
       "      <th>sepal_width</th>\n",
       "      <th>petal_length</th>\n",
       "      <th>petal_width</th>\n",
       "      <th>species</th>\n",
       "    </tr>\n",
       "  </thead>\n",
       "  <tbody>\n",
       "    <tr>\n",
       "      <th>0</th>\n",
       "      <td>5.1</td>\n",
       "      <td>3.5</td>\n",
       "      <td>1.4</td>\n",
       "      <td>0.2</td>\n",
       "      <td>setosa</td>\n",
       "    </tr>\n",
       "    <tr>\n",
       "      <th>1</th>\n",
       "      <td>4.9</td>\n",
       "      <td>3.0</td>\n",
       "      <td>1.4</td>\n",
       "      <td>0.2</td>\n",
       "      <td>setosa</td>\n",
       "    </tr>\n",
       "    <tr>\n",
       "      <th>2</th>\n",
       "      <td>4.7</td>\n",
       "      <td>3.2</td>\n",
       "      <td>1.3</td>\n",
       "      <td>0.2</td>\n",
       "      <td>setosa</td>\n",
       "    </tr>\n",
       "    <tr>\n",
       "      <th>3</th>\n",
       "      <td>4.6</td>\n",
       "      <td>3.1</td>\n",
       "      <td>1.5</td>\n",
       "      <td>0.2</td>\n",
       "      <td>setosa</td>\n",
       "    </tr>\n",
       "    <tr>\n",
       "      <th>4</th>\n",
       "      <td>5.0</td>\n",
       "      <td>3.6</td>\n",
       "      <td>1.4</td>\n",
       "      <td>0.2</td>\n",
       "      <td>setosa</td>\n",
       "    </tr>\n",
       "  </tbody>\n",
       "</table>\n",
       "</div>"
      ],
      "text/plain": [
       "   sepal_length  sepal_width  petal_length  petal_width species\n",
       "0           5.1          3.5           1.4          0.2  setosa\n",
       "1           4.9          3.0           1.4          0.2  setosa\n",
       "2           4.7          3.2           1.3          0.2  setosa\n",
       "3           4.6          3.1           1.5          0.2  setosa\n",
       "4           5.0          3.6           1.4          0.2  setosa"
      ]
     },
     "execution_count": 36,
     "metadata": {},
     "output_type": "execute_result"
    }
   ],
   "source": [
    "iris_df.head()"
   ]
  },
  {
   "cell_type": "code",
   "execution_count": 37,
   "metadata": {},
   "outputs": [
    {
     "data": {
      "text/html": [
       "\n",
       "\n",
       "\n",
       "\n",
       "\n",
       "\n",
       "  <div class=\"bk-root\" id=\"2a53d584-d44a-4645-8462-0f241cad00a2\" data-root-id=\"5375\"></div>\n"
      ]
     },
     "metadata": {},
     "output_type": "display_data"
    },
    {
     "data": {
      "application/javascript": [
       "(function(root) {\n",
       "  function embed_document(root) {\n",
       "    \n",
       "  var docs_json = {\"8382716e-1c92-4d89-ad28-21c6117f97d2\":{\"defs\":[{\"extends\":null,\"module\":null,\"name\":\"DataModel\",\"overrides\":[],\"properties\":[]}],\"roots\":{\"references\":[{\"attributes\":{\"below\":[{\"id\":\"5384\"}],\"center\":[{\"id\":\"5387\"},{\"id\":\"5391\"}],\"height\":400,\"left\":[{\"id\":\"5388\"}],\"renderers\":[{\"id\":\"5409\"}],\"title\":{\"id\":\"5653\"},\"toolbar\":{\"id\":\"5399\"},\"x_range\":{\"id\":\"5376\"},\"x_scale\":{\"id\":\"5380\"},\"y_range\":{\"id\":\"5378\"},\"y_scale\":{\"id\":\"5382\"}},\"id\":\"5375\",\"subtype\":\"Figure\",\"type\":\"Plot\"},{\"attributes\":{},\"id\":\"5658\",\"type\":\"BasicTickFormatter\"},{\"attributes\":{\"axis\":{\"id\":\"5384\"},\"ticker\":null},\"id\":\"5387\",\"type\":\"Grid\"},{\"attributes\":{},\"id\":\"5659\",\"type\":\"AllLabels\"},{\"attributes\":{},\"id\":\"5382\",\"type\":\"LinearScale\"},{\"attributes\":{\"data\":{\"index\":[0,1,2,3,4,5,6,7,8,9,10,11,12,13,14,15,16,17,18,19,20,21,22,23,24,25,26,27,28,29,30,31,32,33,34,35,36,37,38,39,40,41,42,43,44,45,46,47,48,49,50,51,52,53,54,55,56,57,58,59,60,61,62,63,64,65,66,67,68,69,70,71,72,73,74,75,76,77,78,79,80,81,82,83,84,85,86,87,88,89,90,91,92,93,94,95,96,97,98,99,100,101,102,103,104,105,106,107,108,109,110,111,112,113,114,115,116,117,118,119,120,121,122,123,124,125,126,127,128,129,130,131,132,133,134,135,136,137,138,139,140,141,142,143,144,145,146,147,148,149],\"petal_length\":{\"__ndarray__\":\"ZmZmZmZm9j9mZmZmZmb2P83MzMzMzPQ/AAAAAAAA+D9mZmZmZmb2PzMzMzMzM/s/ZmZmZmZm9j8AAAAAAAD4P2ZmZmZmZvY/AAAAAAAA+D8AAAAAAAD4P5qZmZmZmfk/ZmZmZmZm9j+amZmZmZnxPzMzMzMzM/M/AAAAAAAA+D/NzMzMzMz0P2ZmZmZmZvY/MzMzMzMz+z8AAAAAAAD4PzMzMzMzM/s/AAAAAAAA+D8AAAAAAADwPzMzMzMzM/s/ZmZmZmZm/j+amZmZmZn5P5qZmZmZmfk/AAAAAAAA+D9mZmZmZmb2P5qZmZmZmfk/mpmZmZmZ+T8AAAAAAAD4PwAAAAAAAPg/ZmZmZmZm9j8AAAAAAAD4PzMzMzMzM/M/zczMzMzM9D9mZmZmZmb2P83MzMzMzPQ/AAAAAAAA+D/NzMzMzMz0P83MzMzMzPQ/zczMzMzM9D+amZmZmZn5P2ZmZmZmZv4/ZmZmZmZm9j+amZmZmZn5P2ZmZmZmZvY/AAAAAAAA+D9mZmZmZmb2P83MzMzMzBJAAAAAAAAAEkCamZmZmZkTQAAAAAAAABBAZmZmZmZmEkAAAAAAAAASQM3MzMzMzBJAZmZmZmZmCkBmZmZmZmYSQDMzMzMzMw9AAAAAAAAADEDNzMzMzMwQQAAAAAAAABBAzczMzMzMEkDNzMzMzMwMQJqZmZmZmRFAAAAAAAAAEkBmZmZmZmYQQAAAAAAAABJAMzMzMzMzD0AzMzMzMzMTQAAAAAAAABBAmpmZmZmZE0DNzMzMzMwSQDMzMzMzMxFAmpmZmZmZEUAzMzMzMzMTQAAAAAAAABRAAAAAAAAAEkAAAAAAAAAMQGZmZmZmZg5AmpmZmZmZDUAzMzMzMzMPQGZmZmZmZhRAAAAAAAAAEkAAAAAAAAASQM3MzMzMzBJAmpmZmZmZEUBmZmZmZmYQQAAAAAAAABBAmpmZmZmZEUBmZmZmZmYSQAAAAAAAABBAZmZmZmZmCkDNzMzMzMwQQM3MzMzMzBBAzczMzMzMEEAzMzMzMzMRQAAAAAAAAAhAZmZmZmZmEEAAAAAAAAAYQGZmZmZmZhRAmpmZmZmZF0BmZmZmZmYWQDMzMzMzMxdAZmZmZmZmGkAAAAAAAAASQDMzMzMzMxlAMzMzMzMzF0BmZmZmZmYYQGZmZmZmZhRAMzMzMzMzFUAAAAAAAAAWQAAAAAAAABRAZmZmZmZmFEAzMzMzMzMVQAAAAAAAABZAzczMzMzMGkCamZmZmZkbQAAAAAAAABRAzczMzMzMFkCamZmZmZkTQM3MzMzMzBpAmpmZmZmZE0DNzMzMzMwWQAAAAAAAABhAMzMzMzMzE0CamZmZmZkTQGZmZmZmZhZAMzMzMzMzF0BmZmZmZmYYQJqZmZmZmRlAZmZmZmZmFkBmZmZmZmYUQGZmZmZmZhZAZmZmZmZmGEBmZmZmZmYWQAAAAAAAABZAMzMzMzMzE0CamZmZmZkVQGZmZmZmZhZAZmZmZmZmFEBmZmZmZmYUQJqZmZmZmRdAzczMzMzMFkDNzMzMzMwUQAAAAAAAABRAzczMzMzMFECamZmZmZkVQGZmZmZmZhRA\",\"dtype\":\"float64\",\"order\":\"little\",\"shape\":[150]},\"petal_width\":{\"__ndarray__\":\"mpmZmZmZyT+amZmZmZnJP5qZmZmZmck/mpmZmZmZyT+amZmZmZnJP5qZmZmZmdk/MzMzMzMz0z+amZmZmZnJP5qZmZmZmck/mpmZmZmZuT+amZmZmZnJP5qZmZmZmck/mpmZmZmZuT+amZmZmZm5P5qZmZmZmck/mpmZmZmZ2T+amZmZmZnZPzMzMzMzM9M/MzMzMzMz0z8zMzMzMzPTP5qZmZmZmck/mpmZmZmZ2T+amZmZmZnJPwAAAAAAAOA/mpmZmZmZyT+amZmZmZnJP5qZmZmZmdk/mpmZmZmZyT+amZmZmZnJP5qZmZmZmck/mpmZmZmZyT+amZmZmZnZP5qZmZmZmbk/mpmZmZmZyT+amZmZmZnJP5qZmZmZmck/mpmZmZmZyT+amZmZmZm5P5qZmZmZmck/mpmZmZmZyT8zMzMzMzPTPzMzMzMzM9M/mpmZmZmZyT8zMzMzMzPjP5qZmZmZmdk/MzMzMzMz0z+amZmZmZnJP5qZmZmZmck/mpmZmZmZyT+amZmZmZnJP2ZmZmZmZvY/AAAAAAAA+D8AAAAAAAD4P83MzMzMzPQ/AAAAAAAA+D/NzMzMzMz0P5qZmZmZmfk/AAAAAAAA8D/NzMzMzMz0P2ZmZmZmZvY/AAAAAAAA8D8AAAAAAAD4PwAAAAAAAPA/ZmZmZmZm9j/NzMzMzMz0P2ZmZmZmZvY/AAAAAAAA+D8AAAAAAADwPwAAAAAAAPg/mpmZmZmZ8T/NzMzMzMz8P83MzMzMzPQ/AAAAAAAA+D8zMzMzMzPzP83MzMzMzPQ/ZmZmZmZm9j9mZmZmZmb2PzMzMzMzM/s/AAAAAAAA+D8AAAAAAADwP5qZmZmZmfE/AAAAAAAA8D8zMzMzMzPzP5qZmZmZmfk/AAAAAAAA+D+amZmZmZn5PwAAAAAAAPg/zczMzMzM9D/NzMzMzMz0P83MzMzMzPQ/MzMzMzMz8z9mZmZmZmb2PzMzMzMzM/M/AAAAAAAA8D/NzMzMzMz0PzMzMzMzM/M/zczMzMzM9D/NzMzMzMz0P5qZmZmZmfE/zczMzMzM9D8AAAAAAAAEQGZmZmZmZv4/zczMzMzMAEDNzMzMzMz8P5qZmZmZmQFAzczMzMzMAEAzMzMzMzP7P83MzMzMzPw/zczMzMzM/D8AAAAAAAAEQAAAAAAAAABAZmZmZmZm/j/NzMzMzMwAQAAAAAAAAABAMzMzMzMzA0BmZmZmZmYCQM3MzMzMzPw/mpmZmZmZAUBmZmZmZmYCQAAAAAAAAPg/ZmZmZmZmAkAAAAAAAAAAQAAAAAAAAABAzczMzMzM/D/NzMzMzMwAQM3MzMzMzPw/zczMzMzM/D/NzMzMzMz8P83MzMzMzABAmpmZmZmZ+T9mZmZmZmb+PwAAAAAAAABAmpmZmZmZAUAAAAAAAAD4P2ZmZmZmZvY/ZmZmZmZmAkAzMzMzMzMDQM3MzMzMzPw/zczMzMzM/D/NzMzMzMwAQDMzMzMzMwNAZmZmZmZmAkBmZmZmZmb+P2ZmZmZmZgJAAAAAAAAABEBmZmZmZmYCQGZmZmZmZv4/AAAAAAAAAEBmZmZmZmYCQM3MzMzMzPw/\",\"dtype\":\"float64\",\"order\":\"little\",\"shape\":[150]},\"sepal_length\":{\"__ndarray__\":\"ZmZmZmZmFECamZmZmZkTQM3MzMzMzBJAZmZmZmZmEkAAAAAAAAAUQJqZmZmZmRVAZmZmZmZmEkAAAAAAAAAUQJqZmZmZmRFAmpmZmZmZE0CamZmZmZkVQDMzMzMzMxNAMzMzMzMzE0AzMzMzMzMRQDMzMzMzMxdAzczMzMzMFkCamZmZmZkVQGZmZmZmZhRAzczMzMzMFkBmZmZmZmYUQJqZmZmZmRVAZmZmZmZmFEBmZmZmZmYSQGZmZmZmZhRAMzMzMzMzE0AAAAAAAAAUQAAAAAAAABRAzczMzMzMFEDNzMzMzMwUQM3MzMzMzBJAMzMzMzMzE0CamZmZmZkVQM3MzMzMzBRAAAAAAAAAFkCamZmZmZkTQAAAAAAAABRAAAAAAAAAFkCamZmZmZkTQJqZmZmZmRFAZmZmZmZmFEAAAAAAAAAUQAAAAAAAABJAmpmZmZmZEUAAAAAAAAAUQGZmZmZmZhRAMzMzMzMzE0BmZmZmZmYUQGZmZmZmZhJAMzMzMzMzFUAAAAAAAAAUQAAAAAAAABxAmpmZmZmZGUCamZmZmZkbQAAAAAAAABZAAAAAAAAAGkDNzMzMzMwWQDMzMzMzMxlAmpmZmZmZE0BmZmZmZmYaQM3MzMzMzBRAAAAAAAAAFECamZmZmZkXQAAAAAAAABhAZmZmZmZmGEBmZmZmZmYWQM3MzMzMzBpAZmZmZmZmFkAzMzMzMzMXQM3MzMzMzBhAZmZmZmZmFkCamZmZmZkXQGZmZmZmZhhAMzMzMzMzGUBmZmZmZmYYQJqZmZmZmRlAZmZmZmZmGkAzMzMzMzMbQM3MzMzMzBpAAAAAAAAAGEDNzMzMzMwWQAAAAAAAABZAAAAAAAAAFkAzMzMzMzMXQAAAAAAAABhAmpmZmZmZFUAAAAAAAAAYQM3MzMzMzBpAMzMzMzMzGUBmZmZmZmYWQAAAAAAAABZAAAAAAAAAFkBmZmZmZmYYQDMzMzMzMxdAAAAAAAAAFEBmZmZmZmYWQM3MzMzMzBZAzczMzMzMFkDNzMzMzMwYQGZmZmZmZhRAzczMzMzMFkAzMzMzMzMZQDMzMzMzMxdAZmZmZmZmHEAzMzMzMzMZQAAAAAAAABpAZmZmZmZmHkCamZmZmZkTQDMzMzMzMx1AzczMzMzMGkDNzMzMzMwcQAAAAAAAABpAmpmZmZmZGUAzMzMzMzMbQM3MzMzMzBZAMzMzMzMzF0CamZmZmZkZQAAAAAAAABpAzczMzMzMHkDNzMzMzMweQAAAAAAAABhAmpmZmZmZG0BmZmZmZmYWQM3MzMzMzB5AMzMzMzMzGUDNzMzMzMwaQM3MzMzMzBxAzczMzMzMGEBmZmZmZmYYQJqZmZmZmRlAzczMzMzMHECamZmZmZkdQJqZmZmZmR9AmpmZmZmZGUAzMzMzMzMZQGZmZmZmZhhAzczMzMzMHkAzMzMzMzMZQJqZmZmZmRlAAAAAAAAAGECamZmZmZkbQM3MzMzMzBpAmpmZmZmZG0AzMzMzMzMXQDMzMzMzMxtAzczMzMzMGkDNzMzMzMwaQDMzMzMzMxlAAAAAAAAAGkDNzMzMzMwYQJqZmZmZmRdA\",\"dtype\":\"float64\",\"order\":\"little\",\"shape\":[150]},\"sepal_width\":{\"__ndarray__\":\"AAAAAAAADEAAAAAAAAAIQJqZmZmZmQlAzczMzMzMCEDNzMzMzMwMQDMzMzMzMw9AMzMzMzMzC0AzMzMzMzMLQDMzMzMzMwdAzczMzMzMCECamZmZmZkNQDMzMzMzMwtAAAAAAAAACEAAAAAAAAAIQAAAAAAAABBAmpmZmZmZEUAzMzMzMzMPQAAAAAAAAAxAZmZmZmZmDkBmZmZmZmYOQDMzMzMzMwtAmpmZmZmZDUDNzMzMzMwMQGZmZmZmZgpAMzMzMzMzC0AAAAAAAAAIQDMzMzMzMwtAAAAAAAAADEAzMzMzMzMLQJqZmZmZmQlAzczMzMzMCEAzMzMzMzMLQGZmZmZmZhBAzczMzMzMEEDNzMzMzMwIQJqZmZmZmQlAAAAAAAAADEDNzMzMzMwMQAAAAAAAAAhAMzMzMzMzC0AAAAAAAAAMQGZmZmZmZgJAmpmZmZmZCUAAAAAAAAAMQGZmZmZmZg5AAAAAAAAACEBmZmZmZmYOQJqZmZmZmQlAmpmZmZmZDUBmZmZmZmYKQJqZmZmZmQlAmpmZmZmZCUDNzMzMzMwIQGZmZmZmZgJAZmZmZmZmBkBmZmZmZmYGQGZmZmZmZgpAMzMzMzMzA0AzMzMzMzMHQJqZmZmZmQVAAAAAAAAAAEAAAAAAAAAIQJqZmZmZmQFAMzMzMzMzB0AzMzMzMzMHQM3MzMzMzAhAAAAAAAAACECamZmZmZkFQJqZmZmZmQFAAAAAAAAABECamZmZmZkJQGZmZmZmZgZAAAAAAAAABEBmZmZmZmYGQDMzMzMzMwdAAAAAAAAACEBmZmZmZmYGQAAAAAAAAAhAMzMzMzMzB0DNzMzMzMwEQDMzMzMzMwNAMzMzMzMzA0CamZmZmZkFQJqZmZmZmQVAAAAAAAAACEAzMzMzMzMLQM3MzMzMzAhAZmZmZmZmAkAAAAAAAAAIQAAAAAAAAARAzczMzMzMBEAAAAAAAAAIQM3MzMzMzARAZmZmZmZmAkCamZmZmZkFQAAAAAAAAAhAMzMzMzMzB0AzMzMzMzMHQAAAAAAAAARAZmZmZmZmBkBmZmZmZmYKQJqZmZmZmQVAAAAAAAAACEAzMzMzMzMHQAAAAAAAAAhAAAAAAAAACEAAAAAAAAAEQDMzMzMzMwdAAAAAAAAABEDNzMzMzMwMQJqZmZmZmQlAmpmZmZmZBUAAAAAAAAAIQAAAAAAAAARAZmZmZmZmBkCamZmZmZkJQAAAAAAAAAhAZmZmZmZmDkDNzMzMzMwEQJqZmZmZmQFAmpmZmZmZCUBmZmZmZmYGQGZmZmZmZgZAmpmZmZmZBUBmZmZmZmYKQJqZmZmZmQlAZmZmZmZmBkAAAAAAAAAIQGZmZmZmZgZAAAAAAAAACEBmZmZmZmYGQGZmZmZmZg5AZmZmZmZmBkBmZmZmZmYGQM3MzMzMzARAAAAAAAAACEAzMzMzMzMLQM3MzMzMzAhAAAAAAAAACEDNzMzMzMwIQM3MzMzMzAhAzczMzMzMCECamZmZmZkFQJqZmZmZmQlAZmZmZmZmCkAAAAAAAAAIQAAAAAAAAARAAAAAAAAACEAzMzMzMzMLQAAAAAAAAAhA\",\"dtype\":\"float64\",\"order\":\"little\",\"shape\":[150]},\"species\":[\"setosa\",\"setosa\",\"setosa\",\"setosa\",\"setosa\",\"setosa\",\"setosa\",\"setosa\",\"setosa\",\"setosa\",\"setosa\",\"setosa\",\"setosa\",\"setosa\",\"setosa\",\"setosa\",\"setosa\",\"setosa\",\"setosa\",\"setosa\",\"setosa\",\"setosa\",\"setosa\",\"setosa\",\"setosa\",\"setosa\",\"setosa\",\"setosa\",\"setosa\",\"setosa\",\"setosa\",\"setosa\",\"setosa\",\"setosa\",\"setosa\",\"setosa\",\"setosa\",\"setosa\",\"setosa\",\"setosa\",\"setosa\",\"setosa\",\"setosa\",\"setosa\",\"setosa\",\"setosa\",\"setosa\",\"setosa\",\"setosa\",\"setosa\",\"versicolor\",\"versicolor\",\"versicolor\",\"versicolor\",\"versicolor\",\"versicolor\",\"versicolor\",\"versicolor\",\"versicolor\",\"versicolor\",\"versicolor\",\"versicolor\",\"versicolor\",\"versicolor\",\"versicolor\",\"versicolor\",\"versicolor\",\"versicolor\",\"versicolor\",\"versicolor\",\"versicolor\",\"versicolor\",\"versicolor\",\"versicolor\",\"versicolor\",\"versicolor\",\"versicolor\",\"versicolor\",\"versicolor\",\"versicolor\",\"versicolor\",\"versicolor\",\"versicolor\",\"versicolor\",\"versicolor\",\"versicolor\",\"versicolor\",\"versicolor\",\"versicolor\",\"versicolor\",\"versicolor\",\"versicolor\",\"versicolor\",\"versicolor\",\"versicolor\",\"versicolor\",\"versicolor\",\"versicolor\",\"versicolor\",\"versicolor\",\"virginica\",\"virginica\",\"virginica\",\"virginica\",\"virginica\",\"virginica\",\"virginica\",\"virginica\",\"virginica\",\"virginica\",\"virginica\",\"virginica\",\"virginica\",\"virginica\",\"virginica\",\"virginica\",\"virginica\",\"virginica\",\"virginica\",\"virginica\",\"virginica\",\"virginica\",\"virginica\",\"virginica\",\"virginica\",\"virginica\",\"virginica\",\"virginica\",\"virginica\",\"virginica\",\"virginica\",\"virginica\",\"virginica\",\"virginica\",\"virginica\",\"virginica\",\"virginica\",\"virginica\",\"virginica\",\"virginica\",\"virginica\",\"virginica\",\"virginica\",\"virginica\",\"virginica\",\"virginica\",\"virginica\",\"virginica\",\"virginica\",\"virginica\"]},\"selected\":{\"id\":\"5662\"},\"selection_policy\":{\"id\":\"5661\"}},\"id\":\"5373\",\"type\":\"ColumnDataSource\"},{\"attributes\":{},\"id\":\"5653\",\"type\":\"Title\"},{\"attributes\":{},\"id\":\"5661\",\"type\":\"UnionRenderers\"},{\"attributes\":{\"fill_color\":{\"field\":\"species\",\"transform\":{\"id\":\"5374\"}},\"line_color\":{\"field\":\"species\",\"transform\":{\"id\":\"5374\"}},\"size\":{\"value\":10},\"x\":{\"field\":\"petal_length\"},\"y\":{\"field\":\"sepal_length\"}},\"id\":\"5407\",\"type\":\"Circle\"},{\"attributes\":{},\"id\":\"5393\",\"type\":\"WheelZoomTool\"},{\"attributes\":{},\"id\":\"5662\",\"type\":\"Selection\"},{\"attributes\":{},\"id\":\"5655\",\"type\":\"BasicTickFormatter\"},{\"attributes\":{},\"id\":\"5392\",\"type\":\"PanTool\"},{\"attributes\":{\"source\":{\"id\":\"5373\"}},\"id\":\"5410\",\"type\":\"CDSView\"},{\"attributes\":{\"axis_label\":\"sepal_length\",\"formatter\":{\"id\":\"5655\"},\"major_label_policy\":{\"id\":\"5656\"},\"ticker\":{\"id\":\"5389\"}},\"id\":\"5388\",\"type\":\"LinearAxis\"},{\"attributes\":{},\"id\":\"5397\",\"type\":\"HelpTool\"},{\"attributes\":{\"data_source\":{\"id\":\"5373\"},\"glyph\":{\"id\":\"5407\"},\"hover_glyph\":null,\"muted_glyph\":null,\"nonselection_glyph\":{\"id\":\"5408\"},\"view\":{\"id\":\"5410\"}},\"id\":\"5409\",\"type\":\"GlyphRenderer\"},{\"attributes\":{},\"id\":\"5656\",\"type\":\"AllLabels\"},{\"attributes\":{\"active_multi\":null,\"tools\":[{\"id\":\"5392\"},{\"id\":\"5393\"},{\"id\":\"5394\"},{\"id\":\"5395\"},{\"id\":\"5396\"},{\"id\":\"5397\"}]},\"id\":\"5399\",\"type\":\"Toolbar\"},{\"attributes\":{\"axis\":{\"id\":\"5388\"},\"dimension\":1,\"ticker\":null},\"id\":\"5391\",\"type\":\"Grid\"},{\"attributes\":{\"overlay\":{\"id\":\"5398\"}},\"id\":\"5394\",\"type\":\"BoxZoomTool\"},{\"attributes\":{},\"id\":\"5396\",\"type\":\"ResetTool\"},{\"attributes\":{\"bottom_units\":\"screen\",\"fill_alpha\":0.5,\"fill_color\":\"lightgrey\",\"left_units\":\"screen\",\"level\":\"overlay\",\"line_alpha\":1.0,\"line_color\":\"black\",\"line_dash\":[4,4],\"line_width\":2,\"right_units\":\"screen\",\"syncable\":false,\"top_units\":\"screen\"},\"id\":\"5398\",\"type\":\"BoxAnnotation\"},{\"attributes\":{},\"id\":\"5385\",\"type\":\"BasicTicker\"},{\"attributes\":{},\"id\":\"5395\",\"type\":\"SaveTool\"},{\"attributes\":{\"factors\":[\"setosa\",\"virginica\",\"versicolor\"],\"palette\":[\"red\",\"green\",\"blue\"]},\"id\":\"5374\",\"type\":\"CategoricalColorMapper\"},{\"attributes\":{\"axis_label\":\"petal_length\",\"formatter\":{\"id\":\"5658\"},\"major_label_policy\":{\"id\":\"5659\"},\"ticker\":{\"id\":\"5385\"}},\"id\":\"5384\",\"type\":\"LinearAxis\"},{\"attributes\":{\"fill_alpha\":{\"value\":0.1},\"fill_color\":{\"field\":\"species\",\"transform\":{\"id\":\"5374\"}},\"line_alpha\":{\"value\":0.1},\"line_color\":{\"field\":\"species\",\"transform\":{\"id\":\"5374\"}},\"size\":{\"value\":10},\"x\":{\"field\":\"petal_length\"},\"y\":{\"field\":\"sepal_length\"}},\"id\":\"5408\",\"type\":\"Circle\"},{\"attributes\":{},\"id\":\"5380\",\"type\":\"LinearScale\"},{\"attributes\":{},\"id\":\"5378\",\"type\":\"DataRange1d\"},{\"attributes\":{},\"id\":\"5376\",\"type\":\"DataRange1d\"},{\"attributes\":{},\"id\":\"5389\",\"type\":\"BasicTicker\"}],\"root_ids\":[\"5375\"]},\"title\":\"Bokeh Application\",\"version\":\"2.3.0\"}};\n",
       "  var render_items = [{\"docid\":\"8382716e-1c92-4d89-ad28-21c6117f97d2\",\"root_ids\":[\"5375\"],\"roots\":{\"5375\":\"2a53d584-d44a-4645-8462-0f241cad00a2\"}}];\n",
       "  root.Bokeh.embed.embed_items_notebook(docs_json, render_items);\n",
       "\n",
       "  }\n",
       "  if (root.Bokeh !== undefined) {\n",
       "    embed_document(root);\n",
       "  } else {\n",
       "    var attempts = 0;\n",
       "    var timer = setInterval(function(root) {\n",
       "      if (root.Bokeh !== undefined) {\n",
       "        clearInterval(timer);\n",
       "        embed_document(root);\n",
       "      } else {\n",
       "        attempts++;\n",
       "        if (attempts > 100) {\n",
       "          clearInterval(timer);\n",
       "          console.log(\"Bokeh: ERROR: Unable to run BokehJS code because BokehJS library is missing\");\n",
       "        }\n",
       "      }\n",
       "    }, 10, root)\n",
       "  }\n",
       "})(window);"
      ],
      "application/vnd.bokehjs_exec.v0+json": ""
     },
     "metadata": {
      "application/vnd.bokehjs_exec.v0+json": {
       "id": "5375"
      }
     },
     "output_type": "display_data"
    }
   ],
   "source": [
    "source = ColumnDataSource(iris_df)\n",
    "mapper = CategoricalColorMapper( factors=['setosa', 'virginica', 'versicolor'], palette=['red', 'green', 'blue'])\n",
    "plot = figure(plot_height=400, x_axis_label='petal_length', y_axis_label='sepal_length')\n",
    "plot.circle('petal_length', 'sepal_length', size=10, source=source, color={'field': 'species', 'transform': mapper})\n",
    "show(plot)"
   ]
  },
  {
   "cell_type": "markdown",
   "metadata": {},
   "source": [
    "### Selection and non-selection glyphs\n",
    "\n",
    "In this exercise, you're going to add the `box_select` tool to a figure and change the selected and non-selected circle glyph properties so that selected glyphs are red and non-selected glyphs are transparent blue.\n",
    "\n",
    "You'll use the ColumnDataSource object of the Olympic Sprint dataset you made in the last exercise. It is provided to you with the name `source`.\n",
    "\n",
    "After you have created the figure, be sure to experiment with the Box Select tool you added! As in previous exercises, you may have to scroll down to view the lower portion of the figure.\n",
    "\n",
    "**Instructions**\n",
    "\n",
    "* Create a figure `p` with an x-axis label of `'Year'`, y-axis label of `'Time'`, and the `'box_select'` tool. To add the 'box_select' tool, you have to specify the keyword argument `tools='box_select'` inside the `figure()` function.\n",
    "* Now that you have added `'box_select'` to `p`, add in circle glyphs with `p.circle()` such that the selected glyphs are red and non-selected glyphs are transparent blue. This can be done by specifying `'red'` as the argument to `selection_color` and `0.1` to `nonselection_alpha`. Remember to also pass in the arguments for the `x` (`'Year'`), `y` (`'Time'`), and `source` parameters of `p.circle()`.\n",
    "* Click 'Submit Answer' to output the file and show the figure."
   ]
  },
  {
   "cell_type": "code",
   "execution_count": 38,
   "metadata": {},
   "outputs": [
    {
     "data": {
      "text/html": [
       "\n",
       "\n",
       "\n",
       "\n",
       "\n",
       "\n",
       "  <div class=\"bk-root\" id=\"306d6494-c5d5-42a7-85c1-14ea1ff7e113\" data-root-id=\"5720\"></div>\n"
      ]
     },
     "metadata": {},
     "output_type": "display_data"
    },
    {
     "data": {
      "application/javascript": [
       "(function(root) {\n",
       "  function embed_document(root) {\n",
       "    \n",
       "  var docs_json = {\"0f3600f9-f446-4856-b1cd-e6c125b534ce\":{\"defs\":[{\"extends\":null,\"module\":null,\"name\":\"DataModel\",\"overrides\":[],\"properties\":[]}],\"roots\":{\"references\":[{\"attributes\":{\"below\":[{\"id\":\"5729\"}],\"center\":[{\"id\":\"5732\"},{\"id\":\"5736\"}],\"height\":400,\"left\":[{\"id\":\"5733\"}],\"renderers\":[{\"id\":\"5747\"}],\"title\":{\"id\":\"6002\"},\"toolbar\":{\"id\":\"5740\"},\"x_range\":{\"id\":\"5721\"},\"x_scale\":{\"id\":\"5725\"},\"y_range\":{\"id\":\"5723\"},\"y_scale\":{\"id\":\"5727\"}},\"id\":\"5720\",\"subtype\":\"Figure\",\"type\":\"Plot\"},{\"attributes\":{},\"id\":\"6011\",\"type\":\"Selection\"},{\"attributes\":{},\"id\":\"6004\",\"type\":\"BasicTickFormatter\"},{\"attributes\":{},\"id\":\"5725\",\"type\":\"LinearScale\"},{\"attributes\":{\"axis_label\":\"Year\",\"formatter\":{\"id\":\"6007\"},\"major_label_policy\":{\"id\":\"6008\"},\"ticker\":{\"id\":\"5730\"}},\"id\":\"5729\",\"type\":\"LinearAxis\"},{\"attributes\":{},\"id\":\"6005\",\"type\":\"AllLabels\"},{\"attributes\":{},\"id\":\"5730\",\"type\":\"BasicTicker\"},{\"attributes\":{\"axis_label\":\"Time\",\"formatter\":{\"id\":\"6004\"},\"major_label_policy\":{\"id\":\"6005\"},\"ticker\":{\"id\":\"5734\"}},\"id\":\"5733\",\"type\":\"LinearAxis\"},{\"attributes\":{\"active_multi\":null,\"tools\":[{\"id\":\"5737\"},{\"id\":\"5738\"}]},\"id\":\"5740\",\"type\":\"Toolbar\"},{\"attributes\":{},\"id\":\"5738\",\"type\":\"ResetTool\"},{\"attributes\":{},\"id\":\"6007\",\"type\":\"BasicTickFormatter\"},{\"attributes\":{\"data_source\":{\"id\":\"5719\"},\"glyph\":{\"id\":\"5744\"},\"hover_glyph\":null,\"muted_glyph\":null,\"nonselection_glyph\":{\"id\":\"5745\"},\"selection_glyph\":{\"id\":\"5746\"},\"view\":{\"id\":\"5748\"}},\"id\":\"5747\",\"type\":\"GlyphRenderer\"},{\"attributes\":{\"fill_color\":{\"value\":\"red\"},\"line_color\":{\"value\":\"red\"},\"x\":{\"field\":\"Year\"},\"y\":{\"field\":\"Time\"}},\"id\":\"5746\",\"type\":\"Circle\"},{\"attributes\":{},\"id\":\"6002\",\"type\":\"Title\"},{\"attributes\":{\"fill_alpha\":{\"value\":0.1},\"fill_color\":{\"value\":\"#1f77b4\"},\"line_alpha\":{\"value\":0.1},\"line_color\":{\"value\":\"#1f77b4\"},\"x\":{\"field\":\"Year\"},\"y\":{\"field\":\"Time\"}},\"id\":\"5745\",\"type\":\"Circle\"},{\"attributes\":{},\"id\":\"6008\",\"type\":\"AllLabels\"},{\"attributes\":{\"source\":{\"id\":\"5719\"}},\"id\":\"5748\",\"type\":\"CDSView\"},{\"attributes\":{},\"id\":\"5734\",\"type\":\"BasicTicker\"},{\"attributes\":{},\"id\":\"5727\",\"type\":\"LinearScale\"},{\"attributes\":{},\"id\":\"5723\",\"type\":\"DataRange1d\"},{\"attributes\":{\"axis\":{\"id\":\"5733\"},\"dimension\":1,\"ticker\":null},\"id\":\"5736\",\"type\":\"Grid\"},{\"attributes\":{},\"id\":\"5721\",\"type\":\"DataRange1d\"},{\"attributes\":{\"axis\":{\"id\":\"5729\"},\"ticker\":null},\"id\":\"5732\",\"type\":\"Grid\"},{\"attributes\":{\"fill_color\":{\"value\":\"#1f77b4\"},\"line_color\":{\"value\":\"#1f77b4\"},\"x\":{\"field\":\"Year\"},\"y\":{\"field\":\"Time\"}},\"id\":\"5744\",\"type\":\"Circle\"},{\"attributes\":{},\"id\":\"6010\",\"type\":\"UnionRenderers\"},{\"attributes\":{\"overlay\":{\"id\":\"5739\"}},\"id\":\"5737\",\"type\":\"BoxSelectTool\"},{\"attributes\":{\"bottom_units\":\"screen\",\"fill_alpha\":0.5,\"fill_color\":\"lightgrey\",\"left_units\":\"screen\",\"level\":\"overlay\",\"line_alpha\":1.0,\"line_color\":\"black\",\"line_dash\":[4,4],\"line_width\":2,\"right_units\":\"screen\",\"syncable\":false,\"top_units\":\"screen\"},\"id\":\"5739\",\"type\":\"BoxAnnotation\"},{\"attributes\":{\"data\":{\"Country\":[\"JAM\",\"JAM\",\"USA\",\"JAM\",\"TRI\",\"USA\",\"USA\",\"POR\",\"USA\",\"USA\",\"TRI\",\"BAR\",\"CAN\",\"NAM\",\"TRI\",\"GBR\",\"NAM\",\"USA\",\"USA\",\"GBR\",\"USA\",\"USA\",\"USA\",\"CAN\",\"GBR\",\"CUB\",\"BUL\",\"TRI\",\"JAM\",\"URS\",\"URS\",\"USA\",\"JAM\",\"USA\",\"JAM\",\"USA\",\"USA\",\"CUB\",\"CAN\",\"EUA\",\"USA\",\"GBR\",\"USA\",\"USA\",\"AUS\",\"USA\",\"JAM\",\"GBR\",\"USA\",\"USA\",\"PAN\",\"USA\",\"USA\",\"NED\",\"USA\",\"USA\",\"GER\",\"CAN\",\"GBR\",\"GER\",\"GBR\",\"USA\",\"NZL\",\"USA\",\"USA\",\"GBR\",\"USA\",\"USA\",\"USA\",\"RSA\",\"USA\",\"CAN\",\"USA\",\"USA\",\"AUS\",\"USA\",\"USA\",\"USA\",\"USA\",\"USA\",\"AUS\",\"USA\",\"GER\",\"HUN\",\"USA\"],\"Medal\":[\"GOLD\",\"SILVER\",\"BRONZE\",\"GOLD\",\"SILVER\",\"BRONZE\",\"GOLD\",\"SILVER\",\"BRONZE\",\"GOLD\",\"SILVER\",\"BRONZE\",\"GOLD\",\"SILVER\",\"BRONZE\",\"GOLD\",\"SILVER\",\"BRONZE\",\"GOLD\",\"SILVER\",\"BRONZE\",\"GOLD\",\"SILVER\",\"BRONZE\",\"GOLD\",\"SILVER\",\"BRONZE\",\"GOLD\",\"SILVER\",\"BRONZE\",\"GOLD\",\"SILVER\",\"BRONZE\",\"GOLD\",\"SILVER\",\"BRONZE\",\"GOLD\",\"SILVER\",\"BRONZE\",\"GOLD\",\"SILVER\",\"BRONZE\",\"GOLD\",\"SILVER\",\"BRONZE\",\"GOLD\",\"SILVER\",\"BRONZE\",\"GOLD\",\"SILVER\",\"BRONZE\",\"GOLD\",\"SILVER\",\"BRONZE\",\"GOLD\",\"SILVER\",\"BRONZE\",\"GOLD\",\"SILVER\",\"BRONZE\",\"GOLD\",\"SILVER\",\"BRONZE\",\"GOLD\",\"SILVER\",\"BRONZE\",\"GOLD\",\"SILVER\",\"BRONZE\",\"GOLD\",\"SILVER\",\"BRONZE\",\"GOLD\",\"SILVER\",\"BRONZE\",\"GOLD\",\"SILVER\",\"BRONZE\",\"GOLD\",\"SILVER\",\"BRONZE\",\"GOLD\",\"SILVER\",\"BRONZE\",\"BRONZE\"],\"Name\":[\"Usain Bolt\",\"Yohan Blake\",\"Justin Gatlin\",\"Usain Bolt\",\"Richard Thompson\",\"Walter Dix\",\"Justin Gatlin\",\"Francis Obikwelu\",\"Maurice Greene\",\"Maurice Greene\",\"Ato Boldon\",\"Obadele Thompson\",\"Donovan Bailey\",\"Frankie Fredericks\",\"Ato Boldon\",\"Linford Christie\",\"Frankie Fredericks\",\"Dennis Mitchell\",\"Carl Lewis\",\"Linford Christie\",\"Calvin Smith\",\"Carl Lewis\",\"Sam Graddy\",\"Ben Johnson\",\"Allan Wells\",\"Silvio Leonard Tartabull\",\"Petar Petrov\",\"Hasely Crawford\",\"Donald Quarrie\",\"Valery Borzov\",\"Valery Borzov\",\"Robert Taylor\",\"Lennox Miller\",\"Jim Hines\",\"Lennox Miller\",\"Charles Greene\",\"Bob Hayes\",\"Enrique Figuerola Camue\",\"Harry Jerome\",\"Armin Hary\",\"David Sime\",\"Peter Radford\",\"Bobby Joe Morrow\",\"W. Thane Baker\",\"Hector Hogan\",\"Lindy Remigino\",\"Herbert McKenley\",\"E. McDonald Bailey\",\"W. Harrison Dillard\",\"H. Norwood \\\"Barney\\\" Ewell\",\"Lloyd LaBeach\",\"Jesse Owens\",\"Ralph Metcalfe\",\"Martinus Osendarp\",\"T. \\\"Eddie\\\" Tolan\",\"Ralph Metcalfe\",\"Arthur Jonath\",\"Percy Williams\",\"John \\\"Jack\\\" London\",\"Georg Lammers\",\"Harold Abrahams\",\"Jackson Scholz\",\"Arthur Porritt\",\"Charles Paddock\",\"Morris Kirksey\",\"Harry Edward\",\"Ralph Craig\",\"Alvah Meyer\",\"Donald Lippincott\",\"Reginald Walker\",\"James Rector\",\"Robert Kerr\",\"Charles \\\"Archie\\\" Hahn\",\"Fay Moulton\",\"Nigel Barker\",\"Charles \\\"Archie\\\" Hahn\",\"Nathaniel Cartmell\",\"Bill Hogenson\",\"Frank Jarvis\",\"J. Walter Tewksbury\",\"Stanley Rowley\",\"Thomas Burke\",\"Fritz Hofmann\",\"Alojz Sokol\",\"Francis Lane\"],\"Time\":{\"__ndarray__\":\"w/UoXI9CI0AAAAAAAIAjQBSuR+F6lCNA4XoUrkdhI0BI4XoUrscjQFK4HoXr0SNAMzMzMzOzI0C4HoXrUbgjQD0K16NwvSNAPQrXo3C9I0B7FK5H4fojQBSuR+F6FCRArkfhehSuI0BI4XoUrscjQM3MzMzMzCNA7FG4HoXrI0AK16NwPQokQBSuR+F6FCRA16NwPQrXI0BxPQrXo/AjQHsUrkfh+iNAexSuR+H6I0DhehSuR2EkQHE9CtejcCRAAAAAAACAJEAAAAAAAIAkQEjhehSuxyRAH4XrUbgeJEApXI/C9SgkQEjhehSuRyRASOF6FK5HJEB7FK5H4XokQClcj8L1qCRAZmZmZmbmI0AUrkfhehQkQKRwPQrXIyRAAAAAAAAAJEBmZmZmZmYkQGZmZmZmZiRAZmZmZmZmJEBmZmZmZmYkQJqZmZmZmSRAAAAAAAAAJUAAAAAAAAAlQDMzMzMzMyVAzczMzMzMJEDNzMzMzMwkQM3MzMzMzCRAmpmZmZmZJEDNzMzMzMwkQM3MzMzMzCRAmpmZmZmZJEDNzMzMzMwkQAAAAAAAACVAmpmZmZmZJECamZmZmZkkQM3MzMzMzCRAmpmZmZmZJUDNzMzMzMwlQM3MzMzMzCVAMzMzMzMzJUCamZmZmZklQM3MzMzMzCVAmpmZmZmZJUDNzMzMzMwlQM3MzMzMzCVAmpmZmZmZJUDNzMzMzMwlQM3MzMzMzCVAmpmZmZmZJUAAAAAAAAAmQAAAAAAAACZAZmZmZmZmJkCamZmZmZkmQJqZmZmZmSZAAAAAAAAAJkBmZmZmZmYmQGZmZmZmZiZAAAAAAAAAJkAzMzMzMzMmQGZmZmZmZiZAAAAAAAAAKEBmZmZmZmYoQDMzMzMzMylAMzMzMzMzKUA=\",\"dtype\":\"float64\",\"order\":\"little\",\"shape\":[85]},\"Year\":[2012,2012,2012,2008,2008,2008,2004,2004,2004,2000,2000,2000,1996,1996,1996,1992,1992,1992,1988,1988,1988,1984,1984,1984,1980,1980,1980,1976,1976,1976,1972,1972,1972,1968,1968,1968,1964,1964,1964,1960,1960,1960,1956,1956,1956,1952,1952,1952,1948,1948,1948,1936,1936,1936,1932,1932,1932,1928,1928,1928,1924,1924,1924,1920,1920,1920,1912,1912,1912,1908,1908,1908,1906,1906,1906,1904,1904,1904,1900,1900,1900,1896,1896,1896,1896],\"color\":[\"goldenrod\",\"silver\",\"saddlebrown\",\"goldenrod\",\"silver\",\"saddlebrown\",\"goldenrod\",\"silver\",\"saddlebrown\",\"goldenrod\",\"silver\",\"saddlebrown\",\"goldenrod\",\"silver\",\"saddlebrown\",\"goldenrod\",\"silver\",\"saddlebrown\",\"goldenrod\",\"silver\",\"saddlebrown\",\"goldenrod\",\"silver\",\"saddlebrown\",\"goldenrod\",\"silver\",\"saddlebrown\",\"goldenrod\",\"silver\",\"saddlebrown\",\"goldenrod\",\"silver\",\"saddlebrown\",\"goldenrod\",\"silver\",\"saddlebrown\",\"goldenrod\",\"silver\",\"saddlebrown\",\"goldenrod\",\"silver\",\"saddlebrown\",\"goldenrod\",\"silver\",\"saddlebrown\",\"goldenrod\",\"silver\",\"saddlebrown\",\"goldenrod\",\"silver\",\"saddlebrown\",\"goldenrod\",\"silver\",\"saddlebrown\",\"goldenrod\",\"silver\",\"saddlebrown\",\"goldenrod\",\"silver\",\"saddlebrown\",\"goldenrod\",\"silver\",\"saddlebrown\",\"goldenrod\",\"silver\",\"saddlebrown\",\"goldenrod\",\"silver\",\"saddlebrown\",\"goldenrod\",\"silver\",\"saddlebrown\",\"goldenrod\",\"silver\",\"saddlebrown\",\"goldenrod\",\"silver\",\"saddlebrown\",\"goldenrod\",\"silver\",\"saddlebrown\",\"goldenrod\",\"silver\",\"saddlebrown\",\"saddlebrown\"],\"index\":[0,1,2,3,4,5,6,7,8,9,10,11,12,13,14,15,16,17,18,19,20,21,22,23,24,25,26,27,28,29,30,31,32,33,34,35,36,37,38,39,40,41,42,43,44,45,46,47,48,49,50,51,52,53,54,55,56,57,58,59,60,61,62,63,64,65,66,67,68,69,70,71,72,73,74,75,76,77,78,79,80,81,82,83,84]},\"selected\":{\"id\":\"6011\"},\"selection_policy\":{\"id\":\"6010\"}},\"id\":\"5719\",\"type\":\"ColumnDataSource\"}],\"root_ids\":[\"5720\"]},\"title\":\"Bokeh Application\",\"version\":\"2.3.0\"}};\n",
       "  var render_items = [{\"docid\":\"0f3600f9-f446-4856-b1cd-e6c125b534ce\",\"root_ids\":[\"5720\"],\"roots\":{\"5720\":\"306d6494-c5d5-42a7-85c1-14ea1ff7e113\"}}];\n",
       "  root.Bokeh.embed.embed_items_notebook(docs_json, render_items);\n",
       "\n",
       "  }\n",
       "  if (root.Bokeh !== undefined) {\n",
       "    embed_document(root);\n",
       "  } else {\n",
       "    var attempts = 0;\n",
       "    var timer = setInterval(function(root) {\n",
       "      if (root.Bokeh !== undefined) {\n",
       "        clearInterval(timer);\n",
       "        embed_document(root);\n",
       "      } else {\n",
       "        attempts++;\n",
       "        if (attempts > 100) {\n",
       "          clearInterval(timer);\n",
       "          console.log(\"Bokeh: ERROR: Unable to run BokehJS code because BokehJS library is missing\");\n",
       "        }\n",
       "      }\n",
       "    }, 10, root)\n",
       "  }\n",
       "})(window);"
      ],
      "application/vnd.bokehjs_exec.v0+json": ""
     },
     "metadata": {
      "application/vnd.bokehjs_exec.v0+json": {
       "id": "5720"
      }
     },
     "output_type": "display_data"
    }
   ],
   "source": [
    "# Create a ColumnDataSource from df: source\n",
    "source = ColumnDataSource(run)\n",
    "\n",
    "# Create a figure with the \"box_select\" tool: p\n",
    "p = figure(plot_height=400, x_axis_label='Year', y_axis_label='Time', tools='box_select, reset')\n",
    "\n",
    "# Add circle glyphs to the figure p with the selected and non-selected properties\n",
    "p.circle('Year', 'Time', source=source, selection_color='red', nonselection_alpha=0.1)\n",
    "\n",
    "# Specify the name of the output file and show the result\n",
    "# output_file('selection_glyph.html')\n",
    "show(p)"
   ]
  },
  {
   "cell_type": "markdown",
   "metadata": {},
   "source": [
    "### Hover glyphs\n",
    "\n",
    "Now let's practice using and customizing the hover tool.\n",
    "\n",
    "In this exercise, you're going to plot the blood glucose levels for an unknown patient. The blood glucose levels were recorded every 5 minutes on October 7th starting at 3 minutes past midnight.\n",
    "\n",
    "The date and time of each measurement are provided to you as `x` and the blood glucose levels in mg/dL are provided as `y`.\n",
    "\n",
    "A bokeh figure is also provided in the workspace as `p`.\n",
    "\n",
    "Your job is to add a circle glyph that will appear red when the mouse is hovered near the data points. You will also add a customized hover tool object to the plot.\n",
    "\n",
    "When you're done, play around with the hover tool you just created! Notice how the points where your mouse hovers over turn red.\n",
    "\n",
    "**Instructions**\n",
    "\n",
    "* Import `HoverTool` from `bokeh.models`.\n",
    "* Add a circle glyph to the existing figure `p` for `x` and `y` with a `size` of `10`, `fill_color` of `'grey'`, alpha of `0.1`, `line_color` of `None`, `hover_fill_color` of `'firebrick'`, `hover_alpha` of `0.5`, and `hover_line_color` of `'white'`.\n",
    "* Use the `HoverTool()` function to create a HoverTool called `hover` with `tooltips=None` and `mode='vline'`.\n",
    "* Add the HoverTool `hover` to the figure `p` using the `p.add_tools()` function."
   ]
  },
  {
   "cell_type": "code",
   "execution_count": 39,
   "metadata": {},
   "outputs": [
    {
     "data": {
      "text/html": [
       "<div>\n",
       "<style scoped>\n",
       "    .dataframe tbody tr th:only-of-type {\n",
       "        vertical-align: middle;\n",
       "    }\n",
       "\n",
       "    .dataframe tbody tr th {\n",
       "        vertical-align: top;\n",
       "    }\n",
       "\n",
       "    .dataframe thead th {\n",
       "        text-align: right;\n",
       "    }\n",
       "</style>\n",
       "<table border=\"1\" class=\"dataframe\">\n",
       "  <thead>\n",
       "    <tr style=\"text-align: right;\">\n",
       "      <th></th>\n",
       "      <th>isig</th>\n",
       "      <th>glucose</th>\n",
       "    </tr>\n",
       "    <tr>\n",
       "      <th>datetime</th>\n",
       "      <th></th>\n",
       "      <th></th>\n",
       "    </tr>\n",
       "  </thead>\n",
       "  <tbody>\n",
       "    <tr>\n",
       "      <th>2010-10-07 00:03:00</th>\n",
       "      <td>22.10</td>\n",
       "      <td>150</td>\n",
       "    </tr>\n",
       "    <tr>\n",
       "      <th>2010-10-07 00:08:00</th>\n",
       "      <td>21.46</td>\n",
       "      <td>152</td>\n",
       "    </tr>\n",
       "    <tr>\n",
       "      <th>2010-10-07 00:13:00</th>\n",
       "      <td>21.06</td>\n",
       "      <td>149</td>\n",
       "    </tr>\n",
       "    <tr>\n",
       "      <th>2010-10-07 00:18:00</th>\n",
       "      <td>20.96</td>\n",
       "      <td>147</td>\n",
       "    </tr>\n",
       "    <tr>\n",
       "      <th>2010-10-07 00:23:00</th>\n",
       "      <td>21.52</td>\n",
       "      <td>148</td>\n",
       "    </tr>\n",
       "  </tbody>\n",
       "</table>\n",
       "</div>"
      ],
      "text/plain": [
       "                      isig  glucose\n",
       "datetime                           \n",
       "2010-10-07 00:03:00  22.10      150\n",
       "2010-10-07 00:08:00  21.46      152\n",
       "2010-10-07 00:13:00  21.06      149\n",
       "2010-10-07 00:18:00  20.96      147\n",
       "2010-10-07 00:23:00  21.52      148"
      ]
     },
     "execution_count": 39,
     "metadata": {},
     "output_type": "execute_result"
    }
   ],
   "source": [
    "gluc.head()"
   ]
  },
  {
   "cell_type": "code",
   "execution_count": 40,
   "metadata": {},
   "outputs": [
    {
     "data": {
      "text/html": [
       "\n",
       "\n",
       "\n",
       "\n",
       "\n",
       "\n",
       "  <div class=\"bk-root\" id=\"c0eae1bc-d663-474e-9fcf-3d327843a870\" data-root-id=\"6068\"></div>\n"
      ]
     },
     "metadata": {},
     "output_type": "display_data"
    },
    {
     "data": {
      "application/javascript": [
       "(function(root) {\n",
       "  function embed_document(root) {\n",
       "    \n",
       "  var docs_json = {\"7a33a46d-07ee-4fd2-b1a2-e9107cdb1936\":{\"defs\":[{\"extends\":null,\"module\":null,\"name\":\"DataModel\",\"overrides\":[],\"properties\":[]}],\"roots\":{\"references\":[{\"attributes\":{\"below\":[{\"id\":\"6077\"}],\"center\":[{\"id\":\"6080\"},{\"id\":\"6084\"}],\"height\":400,\"left\":[{\"id\":\"6081\"}],\"renderers\":[{\"id\":\"6090\"}],\"title\":{\"id\":\"6358\"},\"toolbar\":{\"id\":\"6085\"},\"width\":800,\"x_range\":{\"id\":\"6069\"},\"x_scale\":{\"id\":\"6073\"},\"y_range\":{\"id\":\"6071\"},\"y_scale\":{\"id\":\"6075\"}},\"id\":\"6068\",\"subtype\":\"Figure\",\"type\":\"Plot\"},{\"attributes\":{\"mantissas\":[1,2,5],\"max_interval\":500.0,\"num_minor_ticks\":0},\"id\":\"6368\",\"type\":\"AdaptiveTicker\"},{\"attributes\":{},\"id\":\"6361\",\"type\":\"AllLabels\"},{\"attributes\":{},\"id\":\"6363\",\"type\":\"DatetimeTickFormatter\"},{\"attributes\":{\"base\":60,\"mantissas\":[1,2,5,10,15,20,30],\"max_interval\":1800000.0,\"min_interval\":1000.0,\"num_minor_ticks\":0},\"id\":\"6369\",\"type\":\"AdaptiveTicker\"},{\"attributes\":{\"base\":24,\"mantissas\":[1,2,4,6,8,12],\"max_interval\":43200000.0,\"min_interval\":3600000.0,\"num_minor_ticks\":0},\"id\":\"6370\",\"type\":\"AdaptiveTicker\"},{\"attributes\":{},\"id\":\"6379\",\"type\":\"YearsTicker\"},{\"attributes\":{\"months\":[0,1,2,3,4,5,6,7,8,9,10,11]},\"id\":\"6375\",\"type\":\"MonthsTicker\"},{\"attributes\":{\"days\":[1,15]},\"id\":\"6374\",\"type\":\"DaysTicker\"},{\"attributes\":{\"fill_alpha\":{\"value\":0.1},\"fill_color\":{\"value\":\"grey\"},\"line_alpha\":{\"value\":0.1},\"line_color\":{\"value\":null},\"size\":{\"value\":10},\"x\":{\"field\":\"x\"},\"y\":{\"field\":\"y\"}},\"id\":\"6088\",\"type\":\"Circle\"},{\"attributes\":{\"days\":[1,2,3,4,5,6,7,8,9,10,11,12,13,14,15,16,17,18,19,20,21,22,23,24,25,26,27,28,29,30,31]},\"id\":\"6371\",\"type\":\"DaysTicker\"},{\"attributes\":{\"fill_alpha\":{\"value\":0.1},\"fill_color\":{\"value\":\"grey\"},\"line_alpha\":{\"value\":0.1},\"line_color\":{\"value\":null},\"size\":{\"value\":10},\"x\":{\"field\":\"x\"},\"y\":{\"field\":\"y\"}},\"id\":\"6087\",\"type\":\"Circle\"},{\"attributes\":{\"days\":[1,4,7,10,13,16,19,22,25,28]},\"id\":\"6372\",\"type\":\"DaysTicker\"},{\"attributes\":{},\"id\":\"6366\",\"type\":\"UnionRenderers\"},{\"attributes\":{\"days\":[1,8,15,22]},\"id\":\"6373\",\"type\":\"DaysTicker\"},{\"attributes\":{\"fill_alpha\":{\"value\":0.5},\"fill_color\":{\"value\":\"purple\"},\"line_alpha\":{\"value\":0.5},\"line_color\":{\"value\":\"white\"},\"size\":{\"value\":10},\"x\":{\"field\":\"x\"},\"y\":{\"field\":\"y\"}},\"id\":\"6089\",\"type\":\"Circle\"},{\"attributes\":{\"callback\":null,\"mode\":\"vline\",\"tooltips\":null},\"id\":\"6092\",\"type\":\"HoverTool\"},{\"attributes\":{\"months\":[0,6]},\"id\":\"6378\",\"type\":\"MonthsTicker\"},{\"attributes\":{},\"id\":\"6069\",\"type\":\"DataRange1d\"},{\"attributes\":{\"source\":{\"id\":\"6086\"}},\"id\":\"6091\",\"type\":\"CDSView\"},{\"attributes\":{\"months\":[0,2,4,6,8,10]},\"id\":\"6376\",\"type\":\"MonthsTicker\"},{\"attributes\":{\"data_source\":{\"id\":\"6086\"},\"glyph\":{\"id\":\"6087\"},\"hover_glyph\":{\"id\":\"6089\"},\"muted_glyph\":null,\"nonselection_glyph\":{\"id\":\"6088\"},\"view\":{\"id\":\"6091\"}},\"id\":\"6090\",\"type\":\"GlyphRenderer\"},{\"attributes\":{},\"id\":\"6367\",\"type\":\"Selection\"},{\"attributes\":{\"months\":[0,4,8]},\"id\":\"6377\",\"type\":\"MonthsTicker\"},{\"attributes\":{},\"id\":\"6082\",\"type\":\"BasicTicker\"},{\"attributes\":{},\"id\":\"6358\",\"type\":\"Title\"},{\"attributes\":{\"axis\":{\"id\":\"6081\"},\"dimension\":1,\"ticker\":null},\"id\":\"6084\",\"type\":\"Grid\"},{\"attributes\":{\"axis_label\":\"Glucose Level\",\"formatter\":{\"id\":\"6360\"},\"major_label_policy\":{\"id\":\"6361\"},\"ticker\":{\"id\":\"6082\"}},\"id\":\"6081\",\"type\":\"LinearAxis\"},{\"attributes\":{},\"id\":\"6071\",\"type\":\"DataRange1d\"},{\"attributes\":{\"axis\":{\"id\":\"6077\"},\"ticker\":null},\"id\":\"6080\",\"type\":\"Grid\"},{\"attributes\":{},\"id\":\"6360\",\"type\":\"BasicTickFormatter\"},{\"attributes\":{\"axis_label\":\"Date\",\"formatter\":{\"id\":\"6363\"},\"major_label_policy\":{\"id\":\"6364\"},\"ticker\":{\"id\":\"6078\"}},\"id\":\"6077\",\"type\":\"DatetimeAxis\"},{\"attributes\":{},\"id\":\"6075\",\"type\":\"LinearScale\"},{\"attributes\":{},\"id\":\"6073\",\"type\":\"LinearScale\"},{\"attributes\":{\"data\":{\"x\":{\"__ndarray__\":\"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\",\"dtype\":\"float64\",\"order\":\"little\",\"shape\":[288]},\"y\":[150,152,149,147,148,150,152,152,152,151,151,150,149,147,146,143,140,138,136,137,138,140,138,135,132,130,129,129,129,130,130,129,128,128,128,129,129,128,127,126,125,125,125,125,124,124,121,120,120,123,124,123,122,120,115,113,114,114,115,116,115,112,111,111,109,108,107,107,110,113,114,115,115,115,114,113,113,116,119,120,121,121,122,123,124,125,126,126,126,126,126,127,127,125,122,118,115,111,112,115,117,120,124,127,131,137,143,148,153,159,166,172,178,184,191,199,206,212,217,223,229,232,233,235,237,240,241,243,246,247,246,243,240,234,229,225,221,217,216,215,215,215,212,208,203,199,196,194,190,185,180,177,163,158,152,149,153,163,174,182,188,192,195,197,201,204,205,203,199,195,189,184,176,169,162,150,138,128,119,110,100,90,80,73,68,64,63,63,66,68,70,71,72,74,80,94,116,141,164,183,198,210,220,228,233,237,241,247,252,256,260,259,258,256,251,245,238,234,227,221,215,208,207,207,203,201,201,199,179,176,171,163,152,137,119,98,77,61,50,45,47,59,71,86,99,109,116,117,115,111,107,102,96,91,90,94,97,97,95,92,87,84,84,83,84,86,86,86,84,82,82,81,81,82,84,87,89,91,92,94,93,93,94,96,100,101,99,97]},\"selected\":{\"id\":\"6367\"},\"selection_policy\":{\"id\":\"6366\"}},\"id\":\"6086\",\"type\":\"ColumnDataSource\"},{\"attributes\":{\"num_minor_ticks\":5,\"tickers\":[{\"id\":\"6368\"},{\"id\":\"6369\"},{\"id\":\"6370\"},{\"id\":\"6371\"},{\"id\":\"6372\"},{\"id\":\"6373\"},{\"id\":\"6374\"},{\"id\":\"6375\"},{\"id\":\"6376\"},{\"id\":\"6377\"},{\"id\":\"6378\"},{\"id\":\"6379\"}]},\"id\":\"6078\",\"type\":\"DatetimeTicker\"},{\"attributes\":{},\"id\":\"6364\",\"type\":\"AllLabels\"},{\"attributes\":{\"active_multi\":null,\"tools\":[{\"id\":\"6092\"}]},\"id\":\"6085\",\"type\":\"Toolbar\"}],\"root_ids\":[\"6068\"]},\"title\":\"Bokeh Application\",\"version\":\"2.3.0\"}};\n",
       "  var render_items = [{\"docid\":\"7a33a46d-07ee-4fd2-b1a2-e9107cdb1936\",\"root_ids\":[\"6068\"],\"roots\":{\"6068\":\"c0eae1bc-d663-474e-9fcf-3d327843a870\"}}];\n",
       "  root.Bokeh.embed.embed_items_notebook(docs_json, render_items);\n",
       "\n",
       "  }\n",
       "  if (root.Bokeh !== undefined) {\n",
       "    embed_document(root);\n",
       "  } else {\n",
       "    var attempts = 0;\n",
       "    var timer = setInterval(function(root) {\n",
       "      if (root.Bokeh !== undefined) {\n",
       "        clearInterval(timer);\n",
       "        embed_document(root);\n",
       "      } else {\n",
       "        attempts++;\n",
       "        if (attempts > 100) {\n",
       "          clearInterval(timer);\n",
       "          console.log(\"Bokeh: ERROR: Unable to run BokehJS code because BokehJS library is missing\");\n",
       "        }\n",
       "      }\n",
       "    }, 10, root)\n",
       "  }\n",
       "})(window);"
      ],
      "application/vnd.bokehjs_exec.v0+json": ""
     },
     "metadata": {
      "application/vnd.bokehjs_exec.v0+json": {
       "id": "6068"
      }
     },
     "output_type": "display_data"
    }
   ],
   "source": [
    "# Add circle glyphs to figure p\n",
    "p = figure(plot_height=400, plot_width=800, x_axis_type=\"datetime\", x_axis_label='Date', y_axis_label='Glucose Level', tools=[])\n",
    "\n",
    "p.circle(gluc.index, gluc.glucose, size=10,\n",
    "         fill_color='grey', alpha=0.1, line_color=None,\n",
    "         hover_fill_color='purple', hover_alpha=0.5,\n",
    "         hover_line_color='white')\n",
    "\n",
    "# Create a HoverTool: hover\n",
    "hover = HoverTool(tooltips=None, mode='vline')\n",
    "\n",
    "# Add the hover tool to the figure p\n",
    "p.add_tools(hover)\n",
    "\n",
    "# Specify the name of the output file and show the result\n",
    "# output_file('hover_glyph.html')\n",
    "show(p)"
   ]
  },
  {
   "cell_type": "markdown",
   "metadata": {},
   "source": [
    "### Colormapping\n",
    "\n",
    "The final glyph customization we'll practice is using the CategoricalColorMapper to color each glyph by a categorical property.\n",
    "\n",
    "Here, you're going to use the automobile dataset to plot miles-per-gallon vs weight and color each circle glyph by the region where the automobile was manufactured.\n",
    "\n",
    "The `origin` column will be used in the ColorMapper to color automobiles manufactured in the US as blue, Europe as red and Asia as green.\n",
    "\n",
    "The automobile data set is provided to you as a Pandas DataFrame called `df`. The figure is provided for you as `p`.\n",
    "\n",
    "**Instructions**\n",
    "\n",
    "* Import `CategoricalColorMapper` from `bokeh.models`.\n",
    "* Convert the DataFrame `df` to a ColumnDataSource called `source`. This has already been done for you.\n",
    "* Make a CategoricalColorMapper object called `color_mapper` with the `CategoricalColorMapper()` function. It has two parameters here: `factors` and `palette`.\n",
    "* Add a `circle` glyph to the figure `p` to plot `'mpg'` (on the y-axis) vs `'weight'` (on the x-axis). Remember to pass in `source` and `'origin'` as arguments to `source` and `legend`. For the `color` parameter, use `dict(field='origin', transform=color_mapper)`."
   ]
  },
  {
   "cell_type": "code",
   "execution_count": 41,
   "metadata": {},
   "outputs": [
    {
     "data": {
      "text/html": [
       "<div>\n",
       "<style scoped>\n",
       "    .dataframe tbody tr th:only-of-type {\n",
       "        vertical-align: middle;\n",
       "    }\n",
       "\n",
       "    .dataframe tbody tr th {\n",
       "        vertical-align: top;\n",
       "    }\n",
       "\n",
       "    .dataframe thead th {\n",
       "        text-align: right;\n",
       "    }\n",
       "</style>\n",
       "<table border=\"1\" class=\"dataframe\">\n",
       "  <thead>\n",
       "    <tr style=\"text-align: right;\">\n",
       "      <th></th>\n",
       "      <th>mpg</th>\n",
       "      <th>cyl</th>\n",
       "      <th>displ</th>\n",
       "      <th>hp</th>\n",
       "      <th>weight</th>\n",
       "      <th>accel</th>\n",
       "      <th>yr</th>\n",
       "      <th>origin</th>\n",
       "      <th>name</th>\n",
       "      <th>color</th>\n",
       "      <th>size</th>\n",
       "    </tr>\n",
       "  </thead>\n",
       "  <tbody>\n",
       "    <tr>\n",
       "      <th>0</th>\n",
       "      <td>18.0</td>\n",
       "      <td>6</td>\n",
       "      <td>250.0</td>\n",
       "      <td>88</td>\n",
       "      <td>3139</td>\n",
       "      <td>14.5</td>\n",
       "      <td>71</td>\n",
       "      <td>US</td>\n",
       "      <td>ford mustang</td>\n",
       "      <td>blue</td>\n",
       "      <td>15.0</td>\n",
       "    </tr>\n",
       "    <tr>\n",
       "      <th>1</th>\n",
       "      <td>9.0</td>\n",
       "      <td>8</td>\n",
       "      <td>304.0</td>\n",
       "      <td>193</td>\n",
       "      <td>4732</td>\n",
       "      <td>18.5</td>\n",
       "      <td>70</td>\n",
       "      <td>US</td>\n",
       "      <td>hi 1200d</td>\n",
       "      <td>blue</td>\n",
       "      <td>20.0</td>\n",
       "    </tr>\n",
       "    <tr>\n",
       "      <th>2</th>\n",
       "      <td>36.1</td>\n",
       "      <td>4</td>\n",
       "      <td>91.0</td>\n",
       "      <td>60</td>\n",
       "      <td>1800</td>\n",
       "      <td>16.4</td>\n",
       "      <td>78</td>\n",
       "      <td>Asia</td>\n",
       "      <td>honda civic cvcc</td>\n",
       "      <td>red</td>\n",
       "      <td>10.0</td>\n",
       "    </tr>\n",
       "    <tr>\n",
       "      <th>3</th>\n",
       "      <td>18.5</td>\n",
       "      <td>6</td>\n",
       "      <td>250.0</td>\n",
       "      <td>98</td>\n",
       "      <td>3525</td>\n",
       "      <td>19.0</td>\n",
       "      <td>77</td>\n",
       "      <td>US</td>\n",
       "      <td>ford granada</td>\n",
       "      <td>blue</td>\n",
       "      <td>15.0</td>\n",
       "    </tr>\n",
       "    <tr>\n",
       "      <th>4</th>\n",
       "      <td>34.3</td>\n",
       "      <td>4</td>\n",
       "      <td>97.0</td>\n",
       "      <td>78</td>\n",
       "      <td>2188</td>\n",
       "      <td>15.8</td>\n",
       "      <td>80</td>\n",
       "      <td>Europe</td>\n",
       "      <td>audi 4000</td>\n",
       "      <td>green</td>\n",
       "      <td>10.0</td>\n",
       "    </tr>\n",
       "  </tbody>\n",
       "</table>\n",
       "</div>"
      ],
      "text/plain": [
       "    mpg  cyl  displ   hp  weight  accel  yr  origin              name  color  \\\n",
       "0  18.0    6  250.0   88    3139   14.5  71      US      ford mustang   blue   \n",
       "1   9.0    8  304.0  193    4732   18.5  70      US          hi 1200d   blue   \n",
       "2  36.1    4   91.0   60    1800   16.4  78    Asia  honda civic cvcc    red   \n",
       "3  18.5    6  250.0   98    3525   19.0  77      US      ford granada   blue   \n",
       "4  34.3    4   97.0   78    2188   15.8  80  Europe         audi 4000  green   \n",
       "\n",
       "   size  \n",
       "0  15.0  \n",
       "1  20.0  \n",
       "2  10.0  \n",
       "3  15.0  \n",
       "4  10.0  "
      ]
     },
     "execution_count": 41,
     "metadata": {},
     "output_type": "execute_result"
    }
   ],
   "source": [
    "auto.head()"
   ]
  },
  {
   "cell_type": "code",
   "execution_count": 42,
   "metadata": {},
   "outputs": [
    {
     "data": {
      "text/html": [
       "\n",
       "\n",
       "\n",
       "\n",
       "\n",
       "\n",
       "  <div class=\"bk-root\" id=\"ddf18592-d013-4f00-a011-487485a4d7c6\" data-root-id=\"6492\"></div>\n"
      ]
     },
     "metadata": {},
     "output_type": "display_data"
    },
    {
     "data": {
      "application/javascript": [
       "(function(root) {\n",
       "  function embed_document(root) {\n",
       "    \n",
       "  var docs_json = {\"244541d8-82ac-443a-b2b5-4a7b09e6b10c\":{\"defs\":[{\"extends\":null,\"module\":null,\"name\":\"DataModel\",\"overrides\":[],\"properties\":[]}],\"roots\":{\"references\":[{\"attributes\":{\"below\":[{\"id\":\"6501\"}],\"center\":[{\"id\":\"6504\"},{\"id\":\"6508\"},{\"id\":\"6539\"}],\"height\":400,\"left\":[{\"id\":\"6505\"}],\"renderers\":[{\"id\":\"6526\"}],\"title\":{\"id\":\"6528\"},\"toolbar\":{\"id\":\"6516\"},\"x_range\":{\"id\":\"6493\"},\"x_scale\":{\"id\":\"6497\"},\"y_range\":{\"id\":\"6495\"},\"y_scale\":{\"id\":\"6499\"}},\"id\":\"6492\",\"subtype\":\"Figure\",\"type\":\"Plot\"},{\"attributes\":{},\"id\":\"6506\",\"type\":\"BasicTicker\"},{\"attributes\":{},\"id\":\"6536\",\"type\":\"UnionRenderers\"},{\"attributes\":{},\"id\":\"6537\",\"type\":\"Selection\"},{\"attributes\":{},\"id\":\"6530\",\"type\":\"BasicTickFormatter\"},{\"attributes\":{},\"id\":\"6531\",\"type\":\"AllLabels\"},{\"attributes\":{\"overlay\":{\"id\":\"6515\"}},\"id\":\"6511\",\"type\":\"BoxZoomTool\"},{\"attributes\":{\"axis\":{\"id\":\"6501\"},\"ticker\":null},\"id\":\"6504\",\"type\":\"Grid\"},{\"attributes\":{\"fill_color\":{\"field\":\"origin\",\"transform\":{\"id\":\"6491\"}},\"line_color\":{\"field\":\"origin\",\"transform\":{\"id\":\"6491\"}},\"x\":{\"field\":\"weight\"},\"y\":{\"field\":\"mpg\"}},\"id\":\"6524\",\"type\":\"Circle\"},{\"attributes\":{},\"id\":\"6512\",\"type\":\"SaveTool\"},{\"attributes\":{\"fill_alpha\":{\"value\":0.1},\"fill_color\":{\"field\":\"origin\",\"transform\":{\"id\":\"6491\"}},\"line_alpha\":{\"value\":0.1},\"line_color\":{\"field\":\"origin\",\"transform\":{\"id\":\"6491\"}},\"x\":{\"field\":\"weight\"},\"y\":{\"field\":\"mpg\"}},\"id\":\"6525\",\"type\":\"Circle\"},{\"attributes\":{\"source\":{\"id\":\"6490\"}},\"id\":\"6527\",\"type\":\"CDSView\"},{\"attributes\":{\"data_source\":{\"id\":\"6490\"},\"glyph\":{\"id\":\"6524\"},\"hover_glyph\":null,\"muted_glyph\":null,\"nonselection_glyph\":{\"id\":\"6525\"},\"view\":{\"id\":\"6527\"}},\"id\":\"6526\",\"type\":\"GlyphRenderer\"},{\"attributes\":{},\"id\":\"6513\",\"type\":\"ResetTool\"},{\"attributes\":{\"axis\":{\"id\":\"6505\"},\"dimension\":1,\"ticker\":null},\"id\":\"6508\",\"type\":\"Grid\"},{\"attributes\":{\"factors\":[\"Europe\",\"Asia\",\"US\"],\"palette\":[\"red\",\"green\",\"blue\"]},\"id\":\"6491\",\"type\":\"CategoricalColorMapper\"},{\"attributes\":{\"label\":{\"field\":\"origin\"},\"renderers\":[{\"id\":\"6526\"}]},\"id\":\"6540\",\"type\":\"LegendItem\"},{\"attributes\":{},\"id\":\"6509\",\"type\":\"PanTool\"},{\"attributes\":{\"axis_label\":\"MPG\",\"formatter\":{\"id\":\"6530\"},\"major_label_policy\":{\"id\":\"6531\"},\"ticker\":{\"id\":\"6506\"}},\"id\":\"6505\",\"type\":\"LinearAxis\"},{\"attributes\":{},\"id\":\"6514\",\"type\":\"HelpTool\"},{\"attributes\":{\"items\":[{\"id\":\"6540\"}]},\"id\":\"6539\",\"type\":\"Legend\"},{\"attributes\":{\"data\":{\"accel\":{\"__ndarray__\":\"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\",\"dtype\":\"float64\",\"order\":\"little\",\"shape\":[392]},\"color\":[\"blue\",\"blue\",\"red\",\"blue\",\"green\",\"red\",\"red\",\"green\",\"blue\",\"blue\",\"green\",\"blue\",\"blue\",\"blue\",\"blue\",\"blue\",\"green\",\"blue\",\"red\",\"red\",\"blue\",\"blue\",\"blue\",\"blue\",\"blue\",\"green\",\"red\",\"red\",\"blue\",\"red\",\"red\",\"blue\",\"blue\",\"blue\",\"green\",\"green\",\"blue\",\"blue\",\"blue\",\"blue\",\"red\",\"blue\",\"blue\",\"blue\",\"blue\",\"red\",\"red\",\"blue\",\"blue\",\"blue\",\"blue\",\"blue\",\"red\",\"blue\",\"green\",\"blue\",\"blue\",\"blue\",\"blue\",\"red\",\"red\",\"blue\",\"blue\",\"blue\",\"blue\",\"blue\",\"blue\",\"blue\",\"blue\",\"blue\",\"blue\",\"green\",\"blue\",\"blue\",\"red\",\"blue\",\"blue\",\"blue\",\"blue\",\"green\",\"green\",\"green\",\"green\",\"blue\",\"blue\",\"green\",\"blue\",\"blue\",\"red\",\"blue\",\"blue\",\"blue\",\"blue\",\"red\",\"red\",\"blue\",\"red\",\"blue\",\"blue\",\"blue\",\"green\",\"green\",\"blue\",\"blue\",\"green\",\"green\",\"blue\",\"blue\",\"red\",\"green\",\"green\",\"blue\",\"blue\",\"blue\",\"green\",\"blue\",\"red\",\"blue\",\"blue\",\"blue\",\"green\",\"red\",\"blue\",\"green\",\"blue\",\"green\",\"green\",\"blue\",\"blue\",\"blue\",\"blue\",\"blue\",\"green\",\"blue\",\"blue\",\"red\",\"blue\",\"green\",\"blue\",\"blue\",\"green\",\"blue\",\"blue\",\"blue\",\"blue\",\"red\",\"green\",\"blue\",\"blue\",\"green\",\"blue\",\"blue\",\"green\",\"red\",\"blue\",\"blue\",\"blue\",\"red\",\"red\",\"blue\",\"red\",\"blue\",\"blue\",\"green\",\"green\",\"green\",\"blue\",\"red\",\"blue\",\"red\",\"blue\",\"red\",\"blue\",\"blue\",\"blue\",\"blue\",\"blue\",\"green\",\"blue\",\"blue\",\"blue\",\"green\",\"blue\",\"green\",\"blue\",\"blue\",\"green\",\"blue\",\"red\",\"green\",\"blue\",\"green\",\"blue\",\"blue\",\"blue\",\"blue\",\"blue\",\"blue\",\"red\",\"blue\",\"blue\",\"green\",\"blue\",\"red\",\"red\",\"red\",\"blue\",\"blue\",\"blue\",\"blue\",\"red\",\"red\",\"red\",\"blue\",\"blue\",\"red\",\"red\",\"red\",\"blue\",\"blue\",\"blue\",\"blue\",\"blue\",\"red\",\"blue\",\"blue\",\"blue\",\"red\",\"blue\",\"blue\",\"blue\",\"blue\",\"green\",\"blue\",\"blue\",\"blue\",\"blue\",\"blue\",\"red\",\"green\",\"green\",\"red\",\"blue\",\"red\",\"blue\",\"blue\",\"blue\",\"red\",\"red\",\"blue\",\"blue\",\"red\",\"blue\",\"red\",\"blue\",\"red\",\"blue\",\"green\",\"red\",\"blue\",\"blue\",\"blue\",\"green\",\"blue\",\"blue\",\"green\",\"blue\",\"blue\",\"blue\",\"blue\",\"blue\",\"blue\",\"blue\",\"green\",\"blue\",\"red\",\"blue\",\"red\",\"green\",\"blue\",\"blue\",\"red\",\"red\",\"blue\",\"blue\",\"red\",\"green\",\"green\",\"blue\",\"blue\",\"red\",\"blue\",\"blue\",\"blue\",\"blue\",\"red\",\"blue\",\"green\",\"red\",\"red\",\"green\",\"blue\",\"blue\",\"green\",\"blue\",\"green\",\"blue\",\"blue\",\"green\",\"blue\",\"blue\",\"green\",\"blue\",\"blue\",\"blue\",\"blue\",\"blue\",\"blue\",\"green\",\"blue\",\"blue\",\"red\",\"blue\",\"red\",\"blue\",\"blue\",\"blue\",\"red\",\"blue\",\"red\",\"green\",\"blue\",\"blue\",\"blue\",\"blue\",\"red\",\"blue\",\"blue\",\"blue\",\"blue\",\"blue\",\"blue\",\"blue\",\"blue\",\"blue\",\"blue\",\"blue\",\"blue\",\"blue\",\"blue\",\"blue\",\"blue\",\"green\",\"green\",\"red\",\"green\",\"red\",\"blue\",\"red\",\"blue\",\"blue\",\"green\",\"green\",\"blue\",\"green\",\"blue\",\"red\",\"blue\",\"blue\",\"red\",\"red\",\"blue\",\"blue\",\"blue\",\"blue\",\"blue\",\"green\",\"green\",\"blue\",\"blue\",\"blue\",\"green\",\"blue\",\"red\",\"red\",\"red\",\"red\",\"blue\",\"blue\",\"red\",\"blue\",\"blue\"],\"cyl\":[6,8,4,6,4,4,4,4,8,8,4,4,4,8,8,8,4,4,4,3,6,6,8,8,4,4,4,4,6,4,6,8,4,6,4,4,8,8,4,4,4,4,8,8,4,4,4,8,4,6,8,8,4,4,4,4,6,6,6,4,4,6,6,4,6,4,8,8,8,4,8,4,8,8,6,4,6,6,6,4,6,4,4,6,4,4,8,8,4,8,4,8,6,4,4,8,4,6,6,4,4,4,4,4,4,4,6,8,4,5,4,8,4,8,4,8,4,8,8,8,4,4,8,5,4,4,4,6,4,6,8,4,4,8,8,4,6,4,6,4,4,6,6,4,6,4,4,8,4,4,8,8,4,4,6,6,4,4,4,8,4,4,4,4,4,4,8,6,8,4,6,4,8,8,4,8,4,4,8,4,6,4,6,4,4,4,6,6,4,4,8,4,8,6,8,8,6,4,4,4,6,4,6,4,4,4,6,8,4,6,4,4,4,6,6,4,4,4,8,6,8,4,8,4,4,8,6,4,6,6,6,6,4,6,8,4,4,8,4,4,5,4,8,4,8,6,8,4,4,8,6,4,8,3,8,4,8,4,4,6,8,8,4,8,6,4,8,8,8,6,8,8,8,4,6,4,4,4,4,8,4,3,4,4,4,4,4,4,8,6,4,8,4,6,6,4,6,6,4,4,4,8,6,4,4,4,8,4,4,4,6,4,6,8,8,8,6,8,4,8,4,4,4,4,6,8,8,4,8,4,4,8,8,8,4,4,4,8,4,4,8,4,4,4,4,8,8,4,8,4,8,6,6,4,4,4,3,8,6,4,6,4,4,4,4,8,6,6,8,4,4,4,8,8,4,6,4,4,6,8,6,4,6,4,4,6,4,6,4,4,6,4],\"displ\":{\"__ndarray__\":\"AAAAAABAb0AAAAAAAABzQAAAAAAAwFZAAAAAAABAb0AAAAAAAEBYQAAAAAAAwF1AAAAAAAAAW0AAAAAAAEBeQAAAAAAA4HJAAAAAAADgckAAAAAAAEBYQAAAAAAA4GJAAAAAAADgYEAAAAAAAPB1QAAAAAAAAHlAAAAAAAAwc0AAAAAAAMBTQAAAAAAAwF1AAAAAAADAUUAAAAAAAABUQAAAAAAAIGxAAAAAAADgbEAAAAAAAOByQAAAAAAA8HdAAAAAAACAYUAAAAAAAIBYQAAAAAAAAGJAAAAAAABAXEAAAAAAAOBsQAAAAAAAAF5AAAAAAAAAZUAAAAAAAABzQAAAAAAAgGFAAAAAAAAgbEAAAAAAAMBaQAAAAAAAAF1AAAAAAADgckAAAAAAAOByQAAAAAAAgFhAAAAAAABAVUAAAAAAAEBUQAAAAAAA4GBAAAAAAADwdUAAAAAAAAB5QAAAAAAAgFhAAAAAAADAU0AAAAAAAMBdQAAAAAAA4HNAAAAAAACAWEAAAAAAAEBvQAAAAAAA8HdAAAAAAADgckAAAAAAAEBcQAAAAAAA4GJAAAAAAACAWEAAAAAAAEBaQAAAAAAAAG1AAAAAAAAAaUAAAAAAAABtQAAAAAAAwFZAAAAAAADAUUAAAAAAAEBvQAAAAAAAQG9AAAAAAACAYUAAAAAAACBsQAAAAAAAwFZAAAAAAADgdUAAAAAAAEBwQAAAAAAA4HNAAAAAAACAWEAAAAAAAOBzQAAAAAAAAFhAAAAAAADgc0AAAAAAANB6QAAAAAAAQGJAAAAAAACAYUAAAAAAAABtQAAAAAAAoGVAAAAAAADAaEAAAAAAAABdQAAAAAAAIGJAAAAAAADAU0AAAAAAAKBhQAAAAAAA4GxAAAAAAADgYEAAAAAAAIBcQAAAAAAA4HVAAAAAAACAe0AAAAAAAMBWQAAAAAAAAHlAAAAAAACAWEAAAAAAAOB1QAAAAAAAoGZAAAAAAABAXEAAAAAAAMBWQAAAAAAAAHlAAAAAAADAVkAAAAAAAABpQAAAAAAAIHBAAAAAAACAY0AAAAAAAEBgQAAAAAAAQF5AAAAAAACAYUAAAAAAAIBYQAAAAAAAAF5AAAAAAACAVkAAAAAAAEBvQAAAAAAA4HVAAAAAAABAVUAAAAAAAGBgQAAAAAAAQFhAAAAAAAAAc0AAAAAAAIBhQAAAAAAAAHlAAAAAAADAWkAAAAAAAEBwQAAAAAAAwFNAAAAAAADwdUAAAAAAAOB1QAAAAAAA4HJAAAAAAABAWUAAAAAAAABSQAAAAAAA4HNAAAAAAABAXkAAAAAAAMBbQAAAAAAAQFZAAAAAAABAWEAAAAAAACBsQAAAAAAAgGFAAAAAAAAgbEAAAAAAAAB5QAAAAAAAYFhAAAAAAABAWkAAAAAAAOBzQAAAAAAAgHZAAAAAAACAVUAAAAAAAABtQAAAAAAAgFZAAAAAAABAb0AAAAAAAIBhQAAAAAAAgFZAAAAAAADgbEAAAAAAAOBsQAAAAAAAgGFAAAAAAAAAbUAAAAAAAEBYQAAAAAAAQF5AAAAAAAAAeUAAAAAAAIBjQAAAAAAAoGFAAAAAAADgdUAAAAAAAOB1QAAAAAAAQFZAAAAAAAAAXkAAAAAAAEBvQAAAAAAAIGxAAAAAAADgYkAAAAAAAABbQAAAAAAAQFhAAAAAAADgdUAAAAAAAMBWQAAAAAAA4GJAAAAAAADgYEAAAAAAAABeQAAAAAAAQF5AAAAAAACAW0AAAAAAAOB1QAAAAAAAgGNAAAAAAADwdUAAAAAAAMBdQAAAAAAAQG9AAAAAAABAWEAAAAAAAOByQAAAAAAA4HNAAAAAAAAAXEAAAAAAAOB1QAAAAAAAgFhAAAAAAAAAWkAAAAAAABBzQAAAAAAAAFxAAAAAAABgcEAAAAAAAMBTQAAAAAAAAGlAAAAAAABAXkAAAAAAAIBeQAAAAAAAgFhAAAAAAAAAZUAAAAAAACBwQAAAAAAAgFVAAAAAAABAXkAAAAAAAGB8QAAAAAAAQF5AAAAAAADgdUAAAAAAACBsQAAAAAAAQHBAAAAAAABwfEAAAAAAAABpQAAAAAAAgFhAAAAAAAAAXkAAAAAAAOBiQAAAAAAAAG1AAAAAAAAAUUAAAAAAAKBlQAAAAAAAAFtAAAAAAADAXUAAAAAAAMBWQAAAAAAAAG1AAAAAAABgeEAAAAAAAEBaQAAAAAAAAG1AAAAAAADAVkAAAAAAAIBVQAAAAAAAwFpAAAAAAAAgbEAAAAAAACBwQAAAAAAAQFZAAAAAAAAAW0AAAAAAAEBYQAAAAAAA4HNAAAAAAABAb0AAAAAAAOBzQAAAAAAAAFxAAAAAAABwfEAAAAAAAIBYQAAAAAAAQFpAAAAAAADQekAAAAAAAEBvQAAAAAAAAF5AAAAAAAAgbEAAAAAAAEBvQAAAAAAAQG9AAAAAAADgaEAAAAAAAIBeQAAAAAAAAGlAAAAAAADgckAAAAAAAABcQAAAAAAAgF5AAAAAAAAAeUAAAAAAAEBVQAAAAAAAgFZAAAAAAADgZkAAAAAAAEBVQAAAAAAAAHlAAAAAAADAYEAAAAAAAOBzQAAAAAAAIGxAAAAAAAAwc0AAAAAAAMBWQAAAAAAAQFVAAAAAAADwdUAAAAAAAMBoQAAAAAAAwFRAAAAAAACAe0AAAAAAAIBRQAAAAAAAEHNAAAAAAADAVkAAAAAAAOBzQAAAAAAAAF5AAAAAAABAWEAAAAAAACBsQAAAAAAAgHZAAAAAAADgdUAAAAAAAEBaQAAAAAAA4HNAAAAAAAAAbUAAAAAAAEBiQAAAAAAA0HpAAAAAAADgdUAAAAAAAIB2QAAAAAAAQG9AAAAAAABwfEAAAAAAAOB1QAAAAAAAgHZAAAAAAAAAXUAAAAAAAABpQAAAAAAAwGBAAAAAAACAXkAAAAAAAEBYQAAAAAAAgFZAAAAAAADwdUAAAAAAAOBiQAAAAAAAgFFAAAAAAACAU0AAAAAAAIBhQAAAAAAAgF5AAAAAAAAAU0AAAAAAAMBcQAAAAAAAQFhAAAAAAADgc0AAAAAAAEBvQAAAAAAAwGBAAAAAAAAAc0AAAAAAAIBWQAAAAAAAYGNAAAAAAADgbEAAAAAAAMBaQAAAAAAAYGVAAAAAAABgZEAAAAAAAEBVQAAAAAAAQFhAAAAAAABAXkAAAAAAABBzQAAAAAAAoGVAAAAAAABAXkAAAAAAAEBaQAAAAAAAQFhAAAAAAAAAeUAAAAAAAEBaQAAAAAAAgFhAAAAAAACAY0AAAAAAAMBoQAAAAAAAQFZAAAAAAADgbEAAAAAAAOB1QAAAAAAAQHVAAAAAAAAAeUAAAAAAACBwQAAAAAAA4HVAAAAAAABAWEAAAAAAAABzQAAAAAAAgFhAAAAAAABAWEAAAAAAAIBYQAAAAAAAQFhAAAAAAAAgbEAAAAAAAOByQAAAAAAAYHBAAAAAAADAWkAAAAAAAABzQAAAAAAAwGBAAAAAAABAWEAAAAAAAPB1QAAAAAAAEHNAAAAAAAAAeUAAAAAAAIBeQAAAAAAAwF1AAAAAAADgYkAAAAAAAOB1QAAAAAAAgGFAAAAAAAAAXkAAAAAAAOB1QAAAAAAAgFhAAAAAAACAVUAAAAAAAIBhQAAAAAAAgGFAAAAAAADgc0AAAAAAAOBzQAAAAAAAgF5AAAAAAAAAc0AAAAAAAEBeQAAAAAAA4HJAAAAAAAAgbEAAAAAAAGBkQAAAAAAAAF1AAAAAAAAAW0AAAAAAAABWQAAAAAAAgFFAAAAAAADgc0AAAAAAAEBiQAAAAAAA4GJAAAAAAAAAaUAAAAAAAEBYQAAAAAAAQFhAAAAAAADgYEAAAAAAAIBWQAAAAAAA8HVAAAAAAAAAZUAAAAAAAABtQAAAAAAAAHlAAAAAAABAWEAAAAAAAEBYQAAAAAAAgGFAAAAAAAAwc0AAAAAAALBwQAAAAAAAgGNAAAAAAAAgcEAAAAAAAMBWQAAAAAAAwFNAAAAAAAAAbUAAAAAAAOBzQAAAAAAA4GhAAAAAAACAVkAAAAAAAOBsQAAAAAAAQFZAAAAAAAAAXkAAAAAAAIBjQAAAAAAAQFVAAAAAAABAb0AAAAAAAOBiQAAAAAAAgFhAAAAAAABAb0AAAAAAAIBhQA==\",\"dtype\":\"float64\",\"order\":\"little\",\"shape\":[392]},\"hp\":[88,193,60,98,78,100,75,76,130,140,52,88,84,148,150,130,58,82,65,110,95,110,140,170,78,90,96,95,110,75,132,150,83,85,86,75,140,139,70,52,60,84,138,180,65,67,97,150,70,100,180,129,95,90,83,75,100,85,112,67,65,88,100,75,100,70,145,110,210,80,145,69,150,198,120,92,90,115,95,75,76,67,71,115,84,91,150,215,67,175,60,175,110,95,68,150,67,95,110,105,102,110,89,66,88,75,78,105,70,103,60,150,72,170,90,110,58,152,145,139,83,69,150,67,80,71,46,105,90,110,175,80,74,150,150,65,100,48,105,90,48,105,105,88,100,75,113,190,92,80,165,180,71,97,72,105,90,75,88,155,68,90,84,87,112,87,125,108,142,97,105,75,137,150,88,145,63,95,140,88,85,70,85,115,86,79,120,120,65,110,220,115,170,100,90,225,85,65,97,90,90,49,110,70,92,53,100,190,63,90,67,65,75,100,110,60,93,88,150,100,150,88,225,68,70,208,105,74,90,110,72,97,88,88,129,85,86,150,70,48,77,65,175,90,150,110,130,53,65,158,95,61,215,100,145,68,150,88,67,105,175,160,74,135,100,67,198,180,215,100,225,155,170,81,85,95,80,92,70,149,84,97,52,72,85,52,95,71,140,100,96,150,75,107,110,75,97,133,70,67,112,145,115,98,70,78,230,63,76,105,95,62,165,165,160,190,95,180,78,120,80,75,68,67,95,140,110,72,150,95,54,153,130,170,86,97,90,145,86,79,165,83,64,92,72,140,150,96,150,80,130,100,125,90,94,76,90,150,97,85,81,78,46,84,70,153,116,100,167,88,88,88,200,125,92,110,69,67,90,150,90,71,105,62,88,122,65,88,90,68,110,88],\"index\":[0,1,2,3,4,5,6,7,8,9,10,11,12,13,14,15,16,17,18,19,20,21,22,23,24,25,26,27,28,29,30,31,32,33,34,35,36,37,38,39,40,41,42,43,44,45,46,47,48,49,50,51,52,53,54,55,56,57,58,59,60,61,62,63,64,65,66,67,68,69,70,71,72,73,74,75,76,77,78,79,80,81,82,83,84,85,86,87,88,89,90,91,92,93,94,95,96,97,98,99,100,101,102,103,104,105,106,107,108,109,110,111,112,113,114,115,116,117,118,119,120,121,122,123,124,125,126,127,128,129,130,131,132,133,134,135,136,137,138,139,140,141,142,143,144,145,146,147,148,149,150,151,152,153,154,155,156,157,158,159,160,161,162,163,164,165,166,167,168,169,170,171,172,173,174,175,176,177,178,179,180,181,182,183,184,185,186,187,188,189,190,191,192,193,194,195,196,197,198,199,200,201,202,203,204,205,206,207,208,209,210,211,212,213,214,215,216,217,218,219,220,221,222,223,224,225,226,227,228,229,230,231,232,233,234,235,236,237,238,239,240,241,242,243,244,245,246,247,248,249,250,251,252,253,254,255,256,257,258,259,260,261,262,263,264,265,266,267,268,269,270,271,272,273,274,275,276,277,278,279,280,281,282,283,284,285,286,287,288,289,290,291,292,293,294,295,296,297,298,299,300,301,302,303,304,305,306,307,308,309,310,311,312,313,314,315,316,317,318,319,320,321,322,323,324,325,326,327,328,329,330,331,332,333,334,335,336,337,338,339,340,341,342,343,344,345,346,347,348,349,350,351,352,353,354,355,356,357,358,359,360,361,362,363,364,365,366,367,368,369,370,371,372,373,374,375,376,377,378,379,380,381,382,383,384,385,386,387,388,389,390,391],\"mpg\":{\"__ndarray__\":\"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\",\"dtype\":\"float64\",\"order\":\"little\",\"shape\":[392]},\"name\":[\"ford mustang\",\"hi 1200d\",\"honda civic cvcc\",\"ford granada\",\"audi 4000\",\"datsun 200sx\",\"toyota corolla\",\"volkswagen 411 (sw)\",\"mercury cougar brougham\",\"ford torino\",\"vw pickup\",\"pontiac sunbird coupe\",\"dodge rampage\",\"ford ltd\",\"chevrolet monte carlo\",\"chevrolet chevelle concours (sw)\",\"renault 5 gtl\",\"chevy s-10\",\"toyota corolla 1200\",\"mazda rx-4\",\"plymouth valiant custom\",\"buick century\",\"ford gran torino\",\"dodge challenger se\",\"pontiac astro\",\"fiat 124 sport coupe\",\"toyota celica gt\",\"toyota corona mark ii\",\"buick skyhawk\",\"mazda 626\",\"datsun 280-zx\",\"amc matador (sw)\",\"ford pinto\",\"chrysler lebaron salon\",\"fiat 131\",\"opel manta\",\"ford gran torino (sw)\",\"ford futura\",\"mercury lynx l\",\"chevrolet chevette\",\"honda civic 1300\",\"dodge charger 2.2\",\"mercury grand marquis\",\"pontiac grand prix lj\",\"ford escort 2h\",\"datsun b210\",\"datsun 510\",\"dodge coronet custom (sw)\",\"chevrolet chevette\",\"chevrolet nova\",\"dodge monaco (sw)\",\"ford ltd landau\",\"toyota corona\",\"buick skylark limited\",\"audi fox\",\"dodge omni\",\"amc gremlin\",\"mercury zephyr\",\"ford granada l\",\"honda civic\",\"toyota corolla 1200\",\"ford torino 500\",\"chevrolet chevelle malibu classic\",\"chevrolet vega\",\"plymouth valiant\",\"plymouth cricket\",\"chevy c10\",\"oldsmobile cutlass salon brougham\",\"dodge d200\",\"dodge colt (sw)\",\"dodge monaco brougham\",\"renault 12 (sw)\",\"plymouth fury gran sedan\",\"mercury marquis brougham\",\"datsun 810 maxima\",\"capri ii\",\"amc hornet\",\"oldsmobile omega brougham\",\"plymouth duster\",\"fiat 124 tc\",\"volvo diesel\",\"fiat x1.9\",\"peugeot 504\",\"pontiac lemans v6\",\"dodge aries se\",\"audi 100ls\",\"buick century luxus (sw)\",\"plymouth fury iii\",\"datsun 310 gx\",\"pontiac safari (sw)\",\"chevrolet woody\",\"buick century 350\",\"buick century limited\",\"toyota corona hardtop\",\"mazda glc 4\",\"chevrolet caprice classic\",\"honda civic 1500 gl\",\"chevrolet malibu\",\"amc hornet sportabout (sw)\",\"plymouth sapporo\",\"volvo 245\",\"saab 99le\",\"ford mustang ii 2+2\",\"ford fiesta\",\"peugeot 504\",\"fiat 128\",\"ford granada ghia\",\"oldsmobile cutlass ls\",\"datsun b-210\",\"audi 5000\",\"volkswagen model 111\",\"amc ambassador sst\",\"chevrolet vega\",\"ford country squire (sw)\",\"audi 100 ls\",\"oldsmobile cutlass supreme\",\"toyota starlet\",\"ford gran torino\",\"chevrolet malibu\",\"mercury monarch ghia\",\"renault 12tl\",\"datsun 1200\",\"dodge coronet custom\",\"audi 5000s (diesel)\",\"buick opel isuzu deluxe\",\"vw rabbit custom\",\"volkswagen 1131 deluxe sedan\",\"plymouth satellite custom\",\"chevrolet vega\",\"dodge aspen\",\"pontiac catalina brougham\",\"dodge colt hardtop\",\"volkswagen jetta\",\"plymouth fury iii\",\"chrysler lebaron town @ country (sw)\",\"datsun 310\",\"amc matador\",\"vw rabbit c (diesel)\",\"chevrolet nova\",\"chevrolet vega 2300\",\"vw dasher (diesel)\",\"buick century special\",\"pontiac phoenix lj\",\"ford fairmont\",\"amc hornet\",\"toyota corolla\",\"bmw 2002\",\"chrysler newport royal\",\"dodge aries wagon (sw)\",\"peugeot 505s turbo diesel\",\"chevrolet impala\",\"cadillac seville\",\"volkswagen scirocco\",\"honda civic\",\"ford maverick\",\"plymouth satellite sebring\",\"pontiac phoenix\",\"toyota corolla\",\"datsun pl510\",\"buick lesabre custom\",\"mazda glc custom\",\"chevrolet citation\",\"plymouth reliant\",\"peugeot 504 (sw)\",\"volvo 144ea\",\"peugeot 504\",\"cadillac eldorado\",\"toyota mark ii\",\"ford country squire (sw)\",\"datsun 200-sx\",\"chevrolet nova\",\"toyota corolla\",\"ford gran torino\",\"dodge dart custom\",\"chevrolet cavalier wagon\",\"chevrolet bel air\",\"chevrolet chevette\",\"saab 99e\",\"chevrolet chevelle malibu classic\",\"chevrolet cavalier 2-door\",\"oldsmobile cutlass ciera (diesel)\",\"peugeot 304\",\"mercury zephyr 6\",\"saab 99le\",\"ford pinto runabout\",\"dodge colt\",\"mercedes-benz 280s\",\"amc concord d/l\",\"mazda glc\",\"bmw 320i\",\"chevrolet impala\",\"saab 99gle\",\"chevrolet monte carlo landau\",\"plymouth volare\",\"oldsmobile cutlass salon brougham\",\"buick electra 225 custom\",\"ford fairmont (auto)\",\"ford escort 4w\",\"toyouta corona mark ii (sw)\",\"amc concord\",\"amc pacer\",\"fiat 128\",\"chevrolet citation\",\"toyota corolla\",\"datsun 510 hatchback\",\"honda civic cvcc\",\"amc gremlin\",\"amc ambassador dpl\",\"plymouth horizon 4\",\"amc concord\",\"honda civic (auto)\",\"maxda glc deluxe\",\"honda prelude\",\"dodge aspen se\",\"amc matador\",\"toyota corolla tercel\",\"subaru\",\"toyota corolla 1600 (sw)\",\"plymouth grand fury\",\"chevrolet chevelle malibu\",\"plymouth volare premier v8\",\"chevrolet cavalier\",\"buick estate wagon (sw)\",\"honda accord cvcc\",\"plymouth horizon tc3\",\"mercury marquis\",\"chevroelt chevelle malibu\",\"mazda 626\",\"dodge aspen\",\"pontiac ventura sj\",\"mercury monarch\",\"amc hornet\",\"triumph tr7 coupe\",\"ford granada gl\",\"ford mustang ii\",\"pontiac j2000 se hatchback\",\"ford pinto (sw)\",\"chevrolet impala\",\"datsun f-10 hatchback\",\"volkswagen rabbit custom diesel\",\"mercedes benz 300d\",\"datsun 210\",\"pontiac catalina\",\"toyota corona liftback\",\"dodge coronet brougham\",\"dodge aspen 6\",\"chevrolet chevelle malibu\",\"honda civic\",\"datsun 210\",\"ford ltd\",\"plymouth duster\",\"datsun 710\",\"chrysler new yorker brougham\",\"mazda rx-7 gs\",\"chevrolet monte carlo landau\",\"mazda glc custom l\",\"plymouth satellite\",\"peugeot 504\",\"subaru\",\"plymouth valiant\",\"amc ambassador brougham\",\"oldsmobile delta 88 royale\",\"volkswagen rabbit l\",\"dodge st. regis\",\"amc gremlin\",\"mercedes-benz 240d\",\"ford galaxie 500\",\"oldsmobile omega\",\"ford f250\",\"chevrolet nova custom\",\"pontiac catalina\",\"buick estate wagon (sw)\",\"plymouth custom suburb\",\"opel 1900\",\"ford maverick\",\"toyota celica gt liftback\",\"ford pinto\",\"datsun 510 (sw)\",\"volkswagen rabbit\",\"ford thunderbird\",\"buick skylark\",\"mazda rx2 coupe\",\"mazda glc deluxe\",\"chevrolet vega (sw)\",\"ford pinto\",\"toyota corona\",\"audi 100ls\",\"volkswagen rabbit\",\"dodge magnum xe\",\"pontiac firebird\",\"toyota corona\",\"amc matador (sw)\",\"dodge colt\",\"mercury capri v6\",\"buick century\",\"honda accord\",\"ford pinto\",\"peugeot 604sl\",\"datsun b210 gx\",\"subaru dl\",\"volvo 145e (sw)\",\"chevrolet caprice classic\",\"chevrolet citation\",\"volvo 244dl\",\"plymouth horizon\",\"volkswagen dasher\",\"pontiac grand prix\",\"plymouth horizon miser\",\"vw rabbit\",\"dodge colt\",\"plymouth duster\",\"vokswagen rabbit\",\"buick regal sport coupe (turbo)\",\"buick skylark 320\",\"plymouth 'cuda 340\",\"chrysler cordoba\",\"amc pacer d/l\",\"oldsmobile vista cruiser\",\"volkswagen rabbit custom\",\"amc matador\",\"dodge colt hatchback custom\",\"toyota corolla liftback\",\"chevrolet chevette\",\"subaru dl\",\"plymouth fury\",\"ford gran torino (sw)\",\"chevrolet monza 2+2\",\"honda accord\",\"amc rebel sst\",\"toyota corona\",\"volkswagen type 3\",\"ford galaxie 500\",\"chevrolet caprice classic\",\"pontiac catalina\",\"mercury capri 2000\",\"datsun 710\",\"pontiac phoenix\",\"chevrolet monte carlo s\",\"ford mustang gl\",\"ford ranger\",\"chevrolet impala\",\"dodge colt m/m\",\"plymouth champ\",\"ford fairmont futura\",\"ford pinto\",\"dodge diplomat\",\"plymouth fury iii\",\"plymouth arrow gs\",\"amc matador\",\"amc spirit dl\",\"ford f108\",\"plymouth volare custom\",\"volvo 264gl\",\"opel 1900\",\"datsun 610\",\"fiat 124b\",\"maxda rx3\",\"plymouth satellite custom (sw)\",\"datsun 810\",\"oldsmobile starfire sx\",\"ford maverick\",\"opel manta\",\"volkswagen super beetle\",\"plymouth reliant\",\"vw rabbit\",\"ford galaxie 500\",\"toyota cressida\",\"amc hornet\",\"ford country\",\"toyota carina\",\"datsun pl510\",\"ford fairmont 4\",\"chevy c20\",\"chevrolet malibu classic (sw)\",\"chrysler lebaron medallion\",\"amc matador\",\"fiat strada custom\",\"volkswagen dasher\",\"amc concord dl 6\",\"dodge d100\",\"amc gremlin\",\"volkswagen dasher\",\"buick skylark\",\"toyota tercel\",\"nissan stanza xe\",\"toyota mark ii\",\"datsun 210 mpg\",\"ford maverick\",\"chevrolet camaro\",\"honda accord lx\",\"chevrolet concours\",\"ford fairmont (man)\"],\"origin\":[\"US\",\"US\",\"Asia\",\"US\",\"Europe\",\"Asia\",\"Asia\",\"Europe\",\"US\",\"US\",\"Europe\",\"US\",\"US\",\"US\",\"US\",\"US\",\"Europe\",\"US\",\"Asia\",\"Asia\",\"US\",\"US\",\"US\",\"US\",\"US\",\"Europe\",\"Asia\",\"Asia\",\"US\",\"Asia\",\"Asia\",\"US\",\"US\",\"US\",\"Europe\",\"Europe\",\"US\",\"US\",\"US\",\"US\",\"Asia\",\"US\",\"US\",\"US\",\"US\",\"Asia\",\"Asia\",\"US\",\"US\",\"US\",\"US\",\"US\",\"Asia\",\"US\",\"Europe\",\"US\",\"US\",\"US\",\"US\",\"Asia\",\"Asia\",\"US\",\"US\",\"US\",\"US\",\"US\",\"US\",\"US\",\"US\",\"US\",\"US\",\"Europe\",\"US\",\"US\",\"Asia\",\"US\",\"US\",\"US\",\"US\",\"Europe\",\"Europe\",\"Europe\",\"Europe\",\"US\",\"US\",\"Europe\",\"US\",\"US\",\"Asia\",\"US\",\"US\",\"US\",\"US\",\"Asia\",\"Asia\",\"US\",\"Asia\",\"US\",\"US\",\"US\",\"Europe\",\"Europe\",\"US\",\"US\",\"Europe\",\"Europe\",\"US\",\"US\",\"Asia\",\"Europe\",\"Europe\",\"US\",\"US\",\"US\",\"Europe\",\"US\",\"Asia\",\"US\",\"US\",\"US\",\"Europe\",\"Asia\",\"US\",\"Europe\",\"US\",\"Europe\",\"Europe\",\"US\",\"US\",\"US\",\"US\",\"US\",\"Europe\",\"US\",\"US\",\"Asia\",\"US\",\"Europe\",\"US\",\"US\",\"Europe\",\"US\",\"US\",\"US\",\"US\",\"Asia\",\"Europe\",\"US\",\"US\",\"Europe\",\"US\",\"US\",\"Europe\",\"Asia\",\"US\",\"US\",\"US\",\"Asia\",\"Asia\",\"US\",\"Asia\",\"US\",\"US\",\"Europe\",\"Europe\",\"Europe\",\"US\",\"Asia\",\"US\",\"Asia\",\"US\",\"Asia\",\"US\",\"US\",\"US\",\"US\",\"US\",\"Europe\",\"US\",\"US\",\"US\",\"Europe\",\"US\",\"Europe\",\"US\",\"US\",\"Europe\",\"US\",\"Asia\",\"Europe\",\"US\",\"Europe\",\"US\",\"US\",\"US\",\"US\",\"US\",\"US\",\"Asia\",\"US\",\"US\",\"Europe\",\"US\",\"Asia\",\"Asia\",\"Asia\",\"US\",\"US\",\"US\",\"US\",\"Asia\",\"Asia\",\"Asia\",\"US\",\"US\",\"Asia\",\"Asia\",\"Asia\",\"US\",\"US\",\"US\",\"US\",\"US\",\"Asia\",\"US\",\"US\",\"US\",\"Asia\",\"US\",\"US\",\"US\",\"US\",\"Europe\",\"US\",\"US\",\"US\",\"US\",\"US\",\"Asia\",\"Europe\",\"Europe\",\"Asia\",\"US\",\"Asia\",\"US\",\"US\",\"US\",\"Asia\",\"Asia\",\"US\",\"US\",\"Asia\",\"US\",\"Asia\",\"US\",\"Asia\",\"US\",\"Europe\",\"Asia\",\"US\",\"US\",\"US\",\"Europe\",\"US\",\"US\",\"Europe\",\"US\",\"US\",\"US\",\"US\",\"US\",\"US\",\"US\",\"Europe\",\"US\",\"Asia\",\"US\",\"Asia\",\"Europe\",\"US\",\"US\",\"Asia\",\"Asia\",\"US\",\"US\",\"Asia\",\"Europe\",\"Europe\",\"US\",\"US\",\"Asia\",\"US\",\"US\",\"US\",\"US\",\"Asia\",\"US\",\"Europe\",\"Asia\",\"Asia\",\"Europe\",\"US\",\"US\",\"Europe\",\"US\",\"Europe\",\"US\",\"US\",\"Europe\",\"US\",\"US\",\"Europe\",\"US\",\"US\",\"US\",\"US\",\"US\",\"US\",\"Europe\",\"US\",\"US\",\"Asia\",\"US\",\"Asia\",\"US\",\"US\",\"US\",\"Asia\",\"US\",\"Asia\",\"Europe\",\"US\",\"US\",\"US\",\"US\",\"Asia\",\"US\",\"US\",\"US\",\"US\",\"US\",\"US\",\"US\",\"US\",\"US\",\"US\",\"US\",\"US\",\"US\",\"US\",\"US\",\"US\",\"Europe\",\"Europe\",\"Asia\",\"Europe\",\"Asia\",\"US\",\"Asia\",\"US\",\"US\",\"Europe\",\"Europe\",\"US\",\"Europe\",\"US\",\"Asia\",\"US\",\"US\",\"Asia\",\"Asia\",\"US\",\"US\",\"US\",\"US\",\"US\",\"Europe\",\"Europe\",\"US\",\"US\",\"US\",\"Europe\",\"US\",\"Asia\",\"Asia\",\"Asia\",\"Asia\",\"US\",\"US\",\"Asia\",\"US\",\"US\"],\"size\":{\"__ndarray__\":\"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\",\"dtype\":\"float64\",\"order\":\"little\",\"shape\":[392]},\"weight\":[3139,4732,1800,3525,2188,2615,2265,2511,4295,3449,2130,2740,2295,4657,3761,4098,1825,2720,1836,2720,3264,3907,4141,3563,2592,2265,2665,2372,3039,2542,2910,3892,2639,3465,2464,2158,4638,3205,2125,2035,1760,2370,3955,4220,2380,1950,2300,4457,2120,3336,4955,3725,2228,2670,2219,2230,2914,3070,2835,1965,1773,3302,3781,2542,3233,1955,4055,3365,4382,2164,4140,2189,4237,4952,2930,2572,3085,2700,2904,2246,3160,2000,3190,3245,2525,2582,4699,4312,1995,5140,2164,4100,2945,2278,1985,4464,1850,3155,2962,2745,3150,2660,2755,1800,2957,2108,3574,3725,1990,2830,1834,3672,2401,4746,2430,4060,1755,4215,3988,3570,2202,1613,3777,2950,2155,1925,1835,3439,2408,3620,4464,2126,2190,4096,3940,2019,3288,2085,3459,2264,2335,3380,3535,2870,2945,2155,2234,4422,2620,3230,4274,4380,1990,2489,3158,3613,2556,2350,2130,4502,1970,2678,2490,2979,2868,2672,3900,2930,4054,2405,3353,2171,4042,3399,2640,4440,2051,2375,4215,2395,3015,2074,2990,2671,2226,2255,3820,3410,2110,2600,4354,2795,4165,3430,3420,4951,2965,2045,2506,3003,3211,1867,2725,2245,2434,1795,2789,3850,2215,3210,1965,1975,2210,3651,3730,1968,2391,2100,4498,3329,3940,2605,3086,2045,2150,4633,3897,2635,3381,3645,3432,2774,2500,3060,3169,2575,2395,4997,1945,1985,3530,2110,4385,2711,4190,3360,3504,1795,2020,4363,3102,2003,4735,2420,3425,2025,3436,3270,2065,3121,3821,4456,1980,3830,2634,3250,4341,3664,4615,3278,4425,4360,4654,2220,2587,2515,2451,2288,1937,4335,2635,2330,1985,2408,2310,1649,2694,1825,4080,3282,2702,4257,2125,2472,3415,2205,2984,3410,2070,1985,2933,3880,2595,2945,2200,2190,4278,2125,2144,2800,2833,1845,3445,3693,3609,4325,3193,4499,1940,3962,1915,2265,2155,2145,3785,4294,3221,2290,3433,2560,2254,4129,3840,4668,2220,2545,2735,4082,2790,2625,4209,2075,1875,2865,2565,3735,4135,2300,3672,2670,3870,3630,3140,2123,2379,2065,2124,4077,2815,2855,3012,2300,1950,2385,1937,4154,2900,2901,4906,2279,2130,2890,4376,3605,2585,3632,2130,1963,3265,3755,2648,2223,3425,2050,2160,2807,1975,3021,2950,2135,3520,2720],\"yr\":[71,70,78,77,80,81,80,72,77,70,82,77,82,75,70,72,77,82,74,77,75,75,74,70,75,73,82,70,75,80,80,72,75,81,76,73,74,78,82,76,81,82,79,77,81,74,78,74,80,74,71,79,71,79,74,78,75,78,82,82,71,71,74,74,76,71,76,78,70,72,77,72,73,73,81,76,76,79,73,74,81,74,79,79,82,73,74,70,82,71,76,73,82,72,81,73,80,78,71,78,76,73,77,78,75,74,76,81,76,78,71,72,73,71,70,77,81,76,73,78,76,71,73,80,77,79,70,71,72,78,71,72,81,71,79,80,71,80,75,71,80,78,78,80,73,76,70,72,81,81,72,76,78,74,75,74,79,81,70,72,82,80,81,72,73,70,79,76,79,78,76,75,73,73,82,75,77,70,76,82,82,71,79,75,72,76,76,78,80,77,70,78,77,78,79,73,78,81,72,80,75,73,81,82,80,75,73,70,81,78,82,79,81,76,75,80,74,72,75,71,76,82,70,77,79,72,75,81,80,76,75,70,80,81,75,82,72,73,77,78,79,80,72,80,76,79,70,76,79,73,74,74,73,80,78,82,70,76,81,73,73,72,82,79,71,80,70,73,70,73,70,79,73,76,70,78,74,72,75,77,81,72,78,71,73,74,75,76,78,71,75,74,74,73,81,82,75,78,78,77,72,77,79,75,79,77,73,82,80,80,70,80,78,70,70,77,76,73,77,76,79,77,78,80,75,72,75,80,70,78,72,72,79,75,71,75,82,73,82,82,71,77,81,82,76,78,72,77,73,79,76,77,78,71,73,71,73,72,77,78,76,74,73,81,76,71,81,74,73,73,71,79,70,79,82,74,79,74,79,76,70,75,77,81,82,73,81,73,82,78,77,78]},\"selected\":{\"id\":\"6537\"},\"selection_policy\":{\"id\":\"6536\"}},\"id\":\"6490\",\"type\":\"ColumnDataSource\"},{\"attributes\":{\"bottom_units\":\"screen\",\"fill_alpha\":0.5,\"fill_color\":\"lightgrey\",\"left_units\":\"screen\",\"level\":\"overlay\",\"line_alpha\":1.0,\"line_color\":\"black\",\"line_dash\":[4,4],\"line_width\":2,\"right_units\":\"screen\",\"syncable\":false,\"top_units\":\"screen\"},\"id\":\"6515\",\"type\":\"BoxAnnotation\"},{\"attributes\":{\"active_multi\":null,\"tools\":[{\"id\":\"6509\"},{\"id\":\"6510\"},{\"id\":\"6511\"},{\"id\":\"6512\"},{\"id\":\"6513\"},{\"id\":\"6514\"}]},\"id\":\"6516\",\"type\":\"Toolbar\"},{\"attributes\":{},\"id\":\"6499\",\"type\":\"LinearScale\"},{\"attributes\":{},\"id\":\"6510\",\"type\":\"WheelZoomTool\"},{\"attributes\":{},\"id\":\"6528\",\"type\":\"Title\"},{\"attributes\":{},\"id\":\"6502\",\"type\":\"BasicTicker\"},{\"attributes\":{},\"id\":\"6533\",\"type\":\"BasicTickFormatter\"},{\"attributes\":{\"axis_label\":\"Vehicle Weight\",\"formatter\":{\"id\":\"6533\"},\"major_label_policy\":{\"id\":\"6534\"},\"ticker\":{\"id\":\"6502\"}},\"id\":\"6501\",\"type\":\"LinearAxis\"},{\"attributes\":{},\"id\":\"6534\",\"type\":\"AllLabels\"},{\"attributes\":{},\"id\":\"6495\",\"type\":\"DataRange1d\"},{\"attributes\":{},\"id\":\"6497\",\"type\":\"LinearScale\"},{\"attributes\":{},\"id\":\"6493\",\"type\":\"DataRange1d\"}],\"root_ids\":[\"6492\"]},\"title\":\"Bokeh Application\",\"version\":\"2.3.0\"}};\n",
       "  var render_items = [{\"docid\":\"244541d8-82ac-443a-b2b5-4a7b09e6b10c\",\"root_ids\":[\"6492\"],\"roots\":{\"6492\":\"ddf18592-d013-4f00-a011-487485a4d7c6\"}}];\n",
       "  root.Bokeh.embed.embed_items_notebook(docs_json, render_items);\n",
       "\n",
       "  }\n",
       "  if (root.Bokeh !== undefined) {\n",
       "    embed_document(root);\n",
       "  } else {\n",
       "    var attempts = 0;\n",
       "    var timer = setInterval(function(root) {\n",
       "      if (root.Bokeh !== undefined) {\n",
       "        clearInterval(timer);\n",
       "        embed_document(root);\n",
       "      } else {\n",
       "        attempts++;\n",
       "        if (attempts > 100) {\n",
       "          clearInterval(timer);\n",
       "          console.log(\"Bokeh: ERROR: Unable to run BokehJS code because BokehJS library is missing\");\n",
       "        }\n",
       "      }\n",
       "    }, 10, root)\n",
       "  }\n",
       "})(window);"
      ],
      "application/vnd.bokehjs_exec.v0+json": ""
     },
     "metadata": {
      "application/vnd.bokehjs_exec.v0+json": {
       "id": "6492"
      }
     },
     "output_type": "display_data"
    }
   ],
   "source": [
    "# Convert df to a ColumnDataSource: source\n",
    "source = ColumnDataSource(auto)\n",
    "\n",
    "# Make a CategoricalColorMapper object: color_mapper\n",
    "color_mapper = CategoricalColorMapper(factors=['Europe', 'Asia', 'US'],\n",
    "                                      palette=['red', 'green', 'blue'])\n",
    "\n",
    "# Add a circle glyph to the figure p\n",
    "p = figure(plot_height=400, x_axis_label='Vehicle Weight', y_axis_label='MPG')\n",
    "p.circle('weight', 'mpg', source=source, color=dict(field='origin', transform=color_mapper), legend_field='origin')\n",
    "\n",
    "# Specify the name of the output file and show the result\n",
    "# output_file('colormap.html')\n",
    "show(p)"
   ]
  },
  {
   "cell_type": "markdown",
   "metadata": {
    "toc-hr-collapsed": true,
    "toc-nb-collapsed": true
   },
   "source": [
    "# Layouts, Interactions, and Annotations\n",
    "\n",
    "Learn how to combine multiple Bokeh plots into different kinds of layouts on a page, how to easily link different plots together, and how to add annotations such as legends and hover tooltips."
   ]
  },
  {
   "cell_type": "markdown",
   "metadata": {},
   "source": [
    "## Introduction to layouts\n",
    "\n",
    "**Arranging multiple plots**\n",
    "\n",
    "* Arrange plots (and controls) visually on a page:\n",
    " * rows, columns\n",
    " * grid arrangements\n",
    " * tabbed layouts\n",
    " \n",
    "**Rows of plots**"
   ]
  },
  {
   "cell_type": "code",
   "execution_count": 43,
   "metadata": {},
   "outputs": [
    {
     "data": {
      "text/html": [
       "\n",
       "\n",
       "\n",
       "\n",
       "\n",
       "\n",
       "  <div class=\"bk-root\" id=\"29d61a3c-b328-46e8-906f-f5db80586716\" data-root-id=\"7008\"></div>\n"
      ]
     },
     "metadata": {},
     "output_type": "display_data"
    },
    {
     "data": {
      "application/javascript": [
       "(function(root) {\n",
       "  function embed_document(root) {\n",
       "    \n",
       "  var docs_json = {\"89c5063c-edd5-4d7b-a0a3-2cdc8f2be458\":{\"defs\":[{\"extends\":null,\"module\":null,\"name\":\"DataModel\",\"overrides\":[],\"properties\":[]}],\"roots\":{\"references\":[{\"attributes\":{\"children\":[{\"id\":\"6894\"},{\"id\":\"6932\"},{\"id\":\"6970\"}]},\"id\":\"7008\",\"type\":\"Row\"},{\"attributes\":{},\"id\":\"7321\",\"type\":\"BasicTickFormatter\"},{\"attributes\":{},\"id\":\"7322\",\"type\":\"AllLabels\"},{\"attributes\":{\"source\":{\"id\":\"6893\"}},\"id\":\"6969\",\"type\":\"CDSView\"},{\"attributes\":{},\"id\":\"6935\",\"type\":\"DataRange1d\"},{\"attributes\":{\"fill_alpha\":{\"value\":0.1},\"fill_color\":{\"value\":\"red\"},\"line_alpha\":{\"value\":0.1},\"line_color\":{\"value\":\"red\"},\"x\":{\"field\":\"petal_length\"},\"y\":{\"field\":\"petal_width\"}},\"id\":\"7005\",\"type\":\"Circle\"},{\"attributes\":{\"text\":\"petal length vs. petal width\"},\"id\":\"6971\",\"type\":\"Title\"},{\"attributes\":{\"data_source\":{\"id\":\"6893\"},\"glyph\":{\"id\":\"6966\"},\"hover_glyph\":null,\"muted_glyph\":null,\"nonselection_glyph\":{\"id\":\"6967\"},\"view\":{\"id\":\"6969\"}},\"id\":\"6968\",\"type\":\"GlyphRenderer\"},{\"attributes\":{\"fill_color\":{\"value\":\"red\"},\"line_color\":{\"value\":\"red\"},\"x\":{\"field\":\"petal_length\"},\"y\":{\"field\":\"petal_width\"}},\"id\":\"7004\",\"type\":\"Circle\"},{\"attributes\":{},\"id\":\"7318\",\"type\":\"BasicTickFormatter\"},{\"attributes\":{},\"id\":\"6973\",\"type\":\"DataRange1d\"},{\"attributes\":{},\"id\":\"6994\",\"type\":\"HelpTool\"},{\"attributes\":{\"formatter\":{\"id\":\"7324\"},\"major_label_policy\":{\"id\":\"7325\"},\"ticker\":{\"id\":\"6982\"}},\"id\":\"6981\",\"type\":\"LinearAxis\"},{\"attributes\":{},\"id\":\"6975\",\"type\":\"DataRange1d\"},{\"attributes\":{\"formatter\":{\"id\":\"7321\"},\"major_label_policy\":{\"id\":\"7322\"},\"ticker\":{\"id\":\"6986\"}},\"id\":\"6985\",\"type\":\"LinearAxis\"},{\"attributes\":{},\"id\":\"6977\",\"type\":\"LinearScale\"},{\"attributes\":{},\"id\":\"6982\",\"type\":\"BasicTicker\"},{\"attributes\":{\"axis\":{\"id\":\"6981\"},\"ticker\":null},\"id\":\"6984\",\"type\":\"Grid\"},{\"attributes\":{},\"id\":\"7324\",\"type\":\"BasicTickFormatter\"},{\"attributes\":{},\"id\":\"6979\",\"type\":\"LinearScale\"},{\"attributes\":{},\"id\":\"7325\",\"type\":\"AllLabels\"},{\"attributes\":{\"axis\":{\"id\":\"6985\"},\"dimension\":1,\"ticker\":null},\"id\":\"6988\",\"type\":\"Grid\"},{\"attributes\":{},\"id\":\"6986\",\"type\":\"BasicTicker\"},{\"attributes\":{},\"id\":\"6990\",\"type\":\"WheelZoomTool\"},{\"attributes\":{},\"id\":\"6989\",\"type\":\"PanTool\"},{\"attributes\":{\"overlay\":{\"id\":\"6995\"}},\"id\":\"6991\",\"type\":\"BoxZoomTool\"},{\"attributes\":{\"below\":[{\"id\":\"6943\"}],\"center\":[{\"id\":\"6946\"},{\"id\":\"6950\"}],\"height\":300,\"left\":[{\"id\":\"6947\"}],\"renderers\":[{\"id\":\"6968\"}],\"title\":{\"id\":\"6933\"},\"toolbar\":{\"id\":\"6958\"},\"toolbar_location\":null,\"width\":300,\"x_range\":{\"id\":\"6935\"},\"x_scale\":{\"id\":\"6939\"},\"y_range\":{\"id\":\"6937\"},\"y_scale\":{\"id\":\"6941\"}},\"id\":\"6932\",\"subtype\":\"Figure\",\"type\":\"Plot\"},{\"attributes\":{},\"id\":\"6992\",\"type\":\"SaveTool\"},{\"attributes\":{\"data\":{\"index\":[0,1,2,3,4,5,6,7,8,9,10,11,12,13,14,15,16,17,18,19,20,21,22,23,24,25,26,27,28,29,30,31,32,33,34,35,36,37,38,39,40,41,42,43,44,45,46,47,48,49,50,51,52,53,54,55,56,57,58,59,60,61,62,63,64,65,66,67,68,69,70,71,72,73,74,75,76,77,78,79,80,81,82,83,84,85,86,87,88,89,90,91,92,93,94,95,96,97,98,99,100,101,102,103,104,105,106,107,108,109,110,111,112,113,114,115,116,117,118,119,120,121,122,123,124,125,126,127,128,129,130,131,132,133,134,135,136,137,138,139,140,141,142,143,144,145,146,147,148,149],\"petal_length\":{\"__ndarray__\":\"ZmZmZmZm9j9mZmZmZmb2P83MzMzMzPQ/AAAAAAAA+D9mZmZmZmb2PzMzMzMzM/s/ZmZmZmZm9j8AAAAAAAD4P2ZmZmZmZvY/AAAAAAAA+D8AAAAAAAD4P5qZmZmZmfk/ZmZmZmZm9j+amZmZmZnxPzMzMzMzM/M/AAAAAAAA+D/NzMzMzMz0P2ZmZmZmZvY/MzMzMzMz+z8AAAAAAAD4PzMzMzMzM/s/AAAAAAAA+D8AAAAAAADwPzMzMzMzM/s/ZmZmZmZm/j+amZmZmZn5P5qZmZmZmfk/AAAAAAAA+D9mZmZmZmb2P5qZmZmZmfk/mpmZmZmZ+T8AAAAAAAD4PwAAAAAAAPg/ZmZmZmZm9j8AAAAAAAD4PzMzMzMzM/M/zczMzMzM9D9mZmZmZmb2P83MzMzMzPQ/AAAAAAAA+D/NzMzMzMz0P83MzMzMzPQ/zczMzMzM9D+amZmZmZn5P2ZmZmZmZv4/ZmZmZmZm9j+amZmZmZn5P2ZmZmZmZvY/AAAAAAAA+D9mZmZmZmb2P83MzMzMzBJAAAAAAAAAEkCamZmZmZkTQAAAAAAAABBAZmZmZmZmEkAAAAAAAAASQM3MzMzMzBJAZmZmZmZmCkBmZmZmZmYSQDMzMzMzMw9AAAAAAAAADEDNzMzMzMwQQAAAAAAAABBAzczMzMzMEkDNzMzMzMwMQJqZmZmZmRFAAAAAAAAAEkBmZmZmZmYQQAAAAAAAABJAMzMzMzMzD0AzMzMzMzMTQAAAAAAAABBAmpmZmZmZE0DNzMzMzMwSQDMzMzMzMxFAmpmZmZmZEUAzMzMzMzMTQAAAAAAAABRAAAAAAAAAEkAAAAAAAAAMQGZmZmZmZg5AmpmZmZmZDUAzMzMzMzMPQGZmZmZmZhRAAAAAAAAAEkAAAAAAAAASQM3MzMzMzBJAmpmZmZmZEUBmZmZmZmYQQAAAAAAAABBAmpmZmZmZEUBmZmZmZmYSQAAAAAAAABBAZmZmZmZmCkDNzMzMzMwQQM3MzMzMzBBAzczMzMzMEEAzMzMzMzMRQAAAAAAAAAhAZmZmZmZmEEAAAAAAAAAYQGZmZmZmZhRAmpmZmZmZF0BmZmZmZmYWQDMzMzMzMxdAZmZmZmZmGkAAAAAAAAASQDMzMzMzMxlAMzMzMzMzF0BmZmZmZmYYQGZmZmZmZhRAMzMzMzMzFUAAAAAAAAAWQAAAAAAAABRAZmZmZmZmFEAzMzMzMzMVQAAAAAAAABZAzczMzMzMGkCamZmZmZkbQAAAAAAAABRAzczMzMzMFkCamZmZmZkTQM3MzMzMzBpAmpmZmZmZE0DNzMzMzMwWQAAAAAAAABhAMzMzMzMzE0CamZmZmZkTQGZmZmZmZhZAMzMzMzMzF0BmZmZmZmYYQJqZmZmZmRlAZmZmZmZmFkBmZmZmZmYUQGZmZmZmZhZAZmZmZmZmGEBmZmZmZmYWQAAAAAAAABZAMzMzMzMzE0CamZmZmZkVQGZmZmZmZhZAZmZmZmZmFEBmZmZmZmYUQJqZmZmZmRdAzczMzMzMFkDNzMzMzMwUQAAAAAAAABRAzczMzMzMFECamZmZmZkVQGZmZmZmZhRA\",\"dtype\":\"float64\",\"order\":\"little\",\"shape\":[150]},\"petal_width\":{\"__ndarray__\":\"mpmZmZmZyT+amZmZmZnJP5qZmZmZmck/mpmZmZmZyT+amZmZmZnJP5qZmZmZmdk/MzMzMzMz0z+amZmZmZnJP5qZmZmZmck/mpmZmZmZuT+amZmZmZnJP5qZmZmZmck/mpmZmZmZuT+amZmZmZm5P5qZmZmZmck/mpmZmZmZ2T+amZmZmZnZPzMzMzMzM9M/MzMzMzMz0z8zMzMzMzPTP5qZmZmZmck/mpmZmZmZ2T+amZmZmZnJPwAAAAAAAOA/mpmZmZmZyT+amZmZmZnJP5qZmZmZmdk/mpmZmZmZyT+amZmZmZnJP5qZmZmZmck/mpmZmZmZyT+amZmZmZnZP5qZmZmZmbk/mpmZmZmZyT+amZmZmZnJP5qZmZmZmck/mpmZmZmZyT+amZmZmZm5P5qZmZmZmck/mpmZmZmZyT8zMzMzMzPTPzMzMzMzM9M/mpmZmZmZyT8zMzMzMzPjP5qZmZmZmdk/MzMzMzMz0z+amZmZmZnJP5qZmZmZmck/mpmZmZmZyT+amZmZmZnJP2ZmZmZmZvY/AAAAAAAA+D8AAAAAAAD4P83MzMzMzPQ/AAAAAAAA+D/NzMzMzMz0P5qZmZmZmfk/AAAAAAAA8D/NzMzMzMz0P2ZmZmZmZvY/AAAAAAAA8D8AAAAAAAD4PwAAAAAAAPA/ZmZmZmZm9j/NzMzMzMz0P2ZmZmZmZvY/AAAAAAAA+D8AAAAAAADwPwAAAAAAAPg/mpmZmZmZ8T/NzMzMzMz8P83MzMzMzPQ/AAAAAAAA+D8zMzMzMzPzP83MzMzMzPQ/ZmZmZmZm9j9mZmZmZmb2PzMzMzMzM/s/AAAAAAAA+D8AAAAAAADwP5qZmZmZmfE/AAAAAAAA8D8zMzMzMzPzP5qZmZmZmfk/AAAAAAAA+D+amZmZmZn5PwAAAAAAAPg/zczMzMzM9D/NzMzMzMz0P83MzMzMzPQ/MzMzMzMz8z9mZmZmZmb2PzMzMzMzM/M/AAAAAAAA8D/NzMzMzMz0PzMzMzMzM/M/zczMzMzM9D/NzMzMzMz0P5qZmZmZmfE/zczMzMzM9D8AAAAAAAAEQGZmZmZmZv4/zczMzMzMAEDNzMzMzMz8P5qZmZmZmQFAzczMzMzMAEAzMzMzMzP7P83MzMzMzPw/zczMzMzM/D8AAAAAAAAEQAAAAAAAAABAZmZmZmZm/j/NzMzMzMwAQAAAAAAAAABAMzMzMzMzA0BmZmZmZmYCQM3MzMzMzPw/mpmZmZmZAUBmZmZmZmYCQAAAAAAAAPg/ZmZmZmZmAkAAAAAAAAAAQAAAAAAAAABAzczMzMzM/D/NzMzMzMwAQM3MzMzMzPw/zczMzMzM/D/NzMzMzMz8P83MzMzMzABAmpmZmZmZ+T9mZmZmZmb+PwAAAAAAAABAmpmZmZmZAUAAAAAAAAD4P2ZmZmZmZvY/ZmZmZmZmAkAzMzMzMzMDQM3MzMzMzPw/zczMzMzM/D/NzMzMzMwAQDMzMzMzMwNAZmZmZmZmAkBmZmZmZmb+P2ZmZmZmZgJAAAAAAAAABEBmZmZmZmYCQGZmZmZmZv4/AAAAAAAAAEBmZmZmZmYCQM3MzMzMzPw/\",\"dtype\":\"float64\",\"order\":\"little\",\"shape\":[150]},\"sepal_length\":{\"__ndarray__\":\"ZmZmZmZmFECamZmZmZkTQM3MzMzMzBJAZmZmZmZmEkAAAAAAAAAUQJqZmZmZmRVAZmZmZmZmEkAAAAAAAAAUQJqZmZmZmRFAmpmZmZmZE0CamZmZmZkVQDMzMzMzMxNAMzMzMzMzE0AzMzMzMzMRQDMzMzMzMxdAzczMzMzMFkCamZmZmZkVQGZmZmZmZhRAzczMzMzMFkBmZmZmZmYUQJqZmZmZmRVAZmZmZmZmFEBmZmZmZmYSQGZmZmZmZhRAMzMzMzMzE0AAAAAAAAAUQAAAAAAAABRAzczMzMzMFEDNzMzMzMwUQM3MzMzMzBJAMzMzMzMzE0CamZmZmZkVQM3MzMzMzBRAAAAAAAAAFkCamZmZmZkTQAAAAAAAABRAAAAAAAAAFkCamZmZmZkTQJqZmZmZmRFAZmZmZmZmFEAAAAAAAAAUQAAAAAAAABJAmpmZmZmZEUAAAAAAAAAUQGZmZmZmZhRAMzMzMzMzE0BmZmZmZmYUQGZmZmZmZhJAMzMzMzMzFUAAAAAAAAAUQAAAAAAAABxAmpmZmZmZGUCamZmZmZkbQAAAAAAAABZAAAAAAAAAGkDNzMzMzMwWQDMzMzMzMxlAmpmZmZmZE0BmZmZmZmYaQM3MzMzMzBRAAAAAAAAAFECamZmZmZkXQAAAAAAAABhAZmZmZmZmGEBmZmZmZmYWQM3MzMzMzBpAZmZmZmZmFkAzMzMzMzMXQM3MzMzMzBhAZmZmZmZmFkCamZmZmZkXQGZmZmZmZhhAMzMzMzMzGUBmZmZmZmYYQJqZmZmZmRlAZmZmZmZmGkAzMzMzMzMbQM3MzMzMzBpAAAAAAAAAGEDNzMzMzMwWQAAAAAAAABZAAAAAAAAAFkAzMzMzMzMXQAAAAAAAABhAmpmZmZmZFUAAAAAAAAAYQM3MzMzMzBpAMzMzMzMzGUBmZmZmZmYWQAAAAAAAABZAAAAAAAAAFkBmZmZmZmYYQDMzMzMzMxdAAAAAAAAAFEBmZmZmZmYWQM3MzMzMzBZAzczMzMzMFkDNzMzMzMwYQGZmZmZmZhRAzczMzMzMFkAzMzMzMzMZQDMzMzMzMxdAZmZmZmZmHEAzMzMzMzMZQAAAAAAAABpAZmZmZmZmHkCamZmZmZkTQDMzMzMzMx1AzczMzMzMGkDNzMzMzMwcQAAAAAAAABpAmpmZmZmZGUAzMzMzMzMbQM3MzMzMzBZAMzMzMzMzF0CamZmZmZkZQAAAAAAAABpAzczMzMzMHkDNzMzMzMweQAAAAAAAABhAmpmZmZmZG0BmZmZmZmYWQM3MzMzMzB5AMzMzMzMzGUDNzMzMzMwaQM3MzMzMzBxAzczMzMzMGEBmZmZmZmYYQJqZmZmZmRlAzczMzMzMHECamZmZmZkdQJqZmZmZmR9AmpmZmZmZGUAzMzMzMzMZQGZmZmZmZhhAzczMzMzMHkAzMzMzMzMZQJqZmZmZmRlAAAAAAAAAGECamZmZmZkbQM3MzMzMzBpAmpmZmZmZG0AzMzMzMzMXQDMzMzMzMxtAzczMzMzMGkDNzMzMzMwaQDMzMzMzMxlAAAAAAAAAGkDNzMzMzMwYQJqZmZmZmRdA\",\"dtype\":\"float64\",\"order\":\"little\",\"shape\":[150]},\"sepal_width\":{\"__ndarray__\":\"AAAAAAAADEAAAAAAAAAIQJqZmZmZmQlAzczMzMzMCEDNzMzMzMwMQDMzMzMzMw9AMzMzMzMzC0AzMzMzMzMLQDMzMzMzMwdAzczMzMzMCECamZmZmZkNQDMzMzMzMwtAAAAAAAAACEAAAAAAAAAIQAAAAAAAABBAmpmZmZmZEUAzMzMzMzMPQAAAAAAAAAxAZmZmZmZmDkBmZmZmZmYOQDMzMzMzMwtAmpmZmZmZDUDNzMzMzMwMQGZmZmZmZgpAMzMzMzMzC0AAAAAAAAAIQDMzMzMzMwtAAAAAAAAADEAzMzMzMzMLQJqZmZmZmQlAzczMzMzMCEAzMzMzMzMLQGZmZmZmZhBAzczMzMzMEEDNzMzMzMwIQJqZmZmZmQlAAAAAAAAADEDNzMzMzMwMQAAAAAAAAAhAMzMzMzMzC0AAAAAAAAAMQGZmZmZmZgJAmpmZmZmZCUAAAAAAAAAMQGZmZmZmZg5AAAAAAAAACEBmZmZmZmYOQJqZmZmZmQlAmpmZmZmZDUBmZmZmZmYKQJqZmZmZmQlAmpmZmZmZCUDNzMzMzMwIQGZmZmZmZgJAZmZmZmZmBkBmZmZmZmYGQGZmZmZmZgpAMzMzMzMzA0AzMzMzMzMHQJqZmZmZmQVAAAAAAAAAAEAAAAAAAAAIQJqZmZmZmQFAMzMzMzMzB0AzMzMzMzMHQM3MzMzMzAhAAAAAAAAACECamZmZmZkFQJqZmZmZmQFAAAAAAAAABECamZmZmZkJQGZmZmZmZgZAAAAAAAAABEBmZmZmZmYGQDMzMzMzMwdAAAAAAAAACEBmZmZmZmYGQAAAAAAAAAhAMzMzMzMzB0DNzMzMzMwEQDMzMzMzMwNAMzMzMzMzA0CamZmZmZkFQJqZmZmZmQVAAAAAAAAACEAzMzMzMzMLQM3MzMzMzAhAZmZmZmZmAkAAAAAAAAAIQAAAAAAAAARAzczMzMzMBEAAAAAAAAAIQM3MzMzMzARAZmZmZmZmAkCamZmZmZkFQAAAAAAAAAhAMzMzMzMzB0AzMzMzMzMHQAAAAAAAAARAZmZmZmZmBkBmZmZmZmYKQJqZmZmZmQVAAAAAAAAACEAzMzMzMzMHQAAAAAAAAAhAAAAAAAAACEAAAAAAAAAEQDMzMzMzMwdAAAAAAAAABEDNzMzMzMwMQJqZmZmZmQlAmpmZmZmZBUAAAAAAAAAIQAAAAAAAAARAZmZmZmZmBkCamZmZmZkJQAAAAAAAAAhAZmZmZmZmDkDNzMzMzMwEQJqZmZmZmQFAmpmZmZmZCUBmZmZmZmYGQGZmZmZmZgZAmpmZmZmZBUBmZmZmZmYKQJqZmZmZmQlAZmZmZmZmBkAAAAAAAAAIQGZmZmZmZgZAAAAAAAAACEBmZmZmZmYGQGZmZmZmZg5AZmZmZmZmBkBmZmZmZmYGQM3MzMzMzARAAAAAAAAACEAzMzMzMzMLQM3MzMzMzAhAAAAAAAAACEDNzMzMzMwIQM3MzMzMzAhAzczMzMzMCECamZmZmZkFQJqZmZmZmQlAZmZmZmZmCkAAAAAAAAAIQAAAAAAAAARAAAAAAAAACEAzMzMzMzMLQAAAAAAAAAhA\",\"dtype\":\"float64\",\"order\":\"little\",\"shape\":[150]},\"species\":[\"setosa\",\"setosa\",\"setosa\",\"setosa\",\"setosa\",\"setosa\",\"setosa\",\"setosa\",\"setosa\",\"setosa\",\"setosa\",\"setosa\",\"setosa\",\"setosa\",\"setosa\",\"setosa\",\"setosa\",\"setosa\",\"setosa\",\"setosa\",\"setosa\",\"setosa\",\"setosa\",\"setosa\",\"setosa\",\"setosa\",\"setosa\",\"setosa\",\"setosa\",\"setosa\",\"setosa\",\"setosa\",\"setosa\",\"setosa\",\"setosa\",\"setosa\",\"setosa\",\"setosa\",\"setosa\",\"setosa\",\"setosa\",\"setosa\",\"setosa\",\"setosa\",\"setosa\",\"setosa\",\"setosa\",\"setosa\",\"setosa\",\"setosa\",\"versicolor\",\"versicolor\",\"versicolor\",\"versicolor\",\"versicolor\",\"versicolor\",\"versicolor\",\"versicolor\",\"versicolor\",\"versicolor\",\"versicolor\",\"versicolor\",\"versicolor\",\"versicolor\",\"versicolor\",\"versicolor\",\"versicolor\",\"versicolor\",\"versicolor\",\"versicolor\",\"versicolor\",\"versicolor\",\"versicolor\",\"versicolor\",\"versicolor\",\"versicolor\",\"versicolor\",\"versicolor\",\"versicolor\",\"versicolor\",\"versicolor\",\"versicolor\",\"versicolor\",\"versicolor\",\"versicolor\",\"versicolor\",\"versicolor\",\"versicolor\",\"versicolor\",\"versicolor\",\"versicolor\",\"versicolor\",\"versicolor\",\"versicolor\",\"versicolor\",\"versicolor\",\"versicolor\",\"versicolor\",\"versicolor\",\"versicolor\",\"virginica\",\"virginica\",\"virginica\",\"virginica\",\"virginica\",\"virginica\",\"virginica\",\"virginica\",\"virginica\",\"virginica\",\"virginica\",\"virginica\",\"virginica\",\"virginica\",\"virginica\",\"virginica\",\"virginica\",\"virginica\",\"virginica\",\"virginica\",\"virginica\",\"virginica\",\"virginica\",\"virginica\",\"virginica\",\"virginica\",\"virginica\",\"virginica\",\"virginica\",\"virginica\",\"virginica\",\"virginica\",\"virginica\",\"virginica\",\"virginica\",\"virginica\",\"virginica\",\"virginica\",\"virginica\",\"virginica\",\"virginica\",\"virginica\",\"virginica\",\"virginica\",\"virginica\",\"virginica\",\"virginica\",\"virginica\",\"virginica\",\"virginica\"]},\"selected\":{\"id\":\"7328\"},\"selection_policy\":{\"id\":\"7327\"}},\"id\":\"6893\",\"type\":\"ColumnDataSource\"},{\"attributes\":{},\"id\":\"6993\",\"type\":\"ResetTool\"},{\"attributes\":{},\"id\":\"7327\",\"type\":\"UnionRenderers\"},{\"attributes\":{\"fill_alpha\":{\"value\":0.1},\"fill_color\":{\"value\":\"green\"},\"line_alpha\":{\"value\":0.1},\"line_color\":{\"value\":\"green\"},\"x\":{\"field\":\"petal_length\"},\"y\":{\"field\":\"sepal_width\"}},\"id\":\"6967\",\"type\":\"Circle\"},{\"attributes\":{},\"id\":\"6913\",\"type\":\"PanTool\"},{\"attributes\":{\"text\":\"petal length vs. sepal width\"},\"id\":\"6933\",\"type\":\"Title\"},{\"attributes\":{\"fill_alpha\":{\"value\":0.1},\"fill_color\":{\"value\":\"blue\"},\"line_alpha\":{\"value\":0.1},\"line_color\":{\"value\":\"blue\"},\"x\":{\"field\":\"petal_length\"},\"y\":{\"field\":\"sepal_length\"}},\"id\":\"6929\",\"type\":\"Circle\"},{\"attributes\":{\"below\":[{\"id\":\"6905\"}],\"center\":[{\"id\":\"6908\"},{\"id\":\"6912\"}],\"height\":300,\"left\":[{\"id\":\"6909\"}],\"renderers\":[{\"id\":\"6930\"}],\"title\":{\"id\":\"6895\"},\"toolbar\":{\"id\":\"6920\"},\"toolbar_location\":null,\"width\":300,\"x_range\":{\"id\":\"6897\"},\"x_scale\":{\"id\":\"6901\"},\"y_range\":{\"id\":\"6899\"},\"y_scale\":{\"id\":\"6903\"}},\"id\":\"6894\",\"subtype\":\"Figure\",\"type\":\"Plot\"},{\"attributes\":{\"axis\":{\"id\":\"6905\"},\"ticker\":null},\"id\":\"6908\",\"type\":\"Grid\"},{\"attributes\":{\"fill_color\":{\"value\":\"green\"},\"line_color\":{\"value\":\"green\"},\"x\":{\"field\":\"petal_length\"},\"y\":{\"field\":\"sepal_width\"}},\"id\":\"6966\",\"type\":\"Circle\"},{\"attributes\":{},\"id\":\"7328\",\"type\":\"Selection\"},{\"attributes\":{\"below\":[{\"id\":\"6981\"}],\"center\":[{\"id\":\"6984\"},{\"id\":\"6988\"}],\"height\":300,\"left\":[{\"id\":\"6985\"}],\"renderers\":[{\"id\":\"7006\"}],\"title\":{\"id\":\"6971\"},\"toolbar\":{\"id\":\"6996\"},\"toolbar_location\":null,\"width\":300,\"x_range\":{\"id\":\"6973\"},\"x_scale\":{\"id\":\"6977\"},\"y_range\":{\"id\":\"6975\"},\"y_scale\":{\"id\":\"6979\"}},\"id\":\"6970\",\"subtype\":\"Figure\",\"type\":\"Plot\"},{\"attributes\":{},\"id\":\"6916\",\"type\":\"SaveTool\"},{\"attributes\":{},\"id\":\"6914\",\"type\":\"WheelZoomTool\"},{\"attributes\":{\"text\":\"petal length vs. sepal length\"},\"id\":\"6895\",\"type\":\"Title\"},{\"attributes\":{},\"id\":\"6956\",\"type\":\"HelpTool\"},{\"attributes\":{\"fill_color\":{\"value\":\"blue\"},\"line_color\":{\"value\":\"blue\"},\"x\":{\"field\":\"petal_length\"},\"y\":{\"field\":\"sepal_length\"}},\"id\":\"6928\",\"type\":\"Circle\"},{\"attributes\":{\"formatter\":{\"id\":\"7312\"},\"major_label_policy\":{\"id\":\"7313\"},\"ticker\":{\"id\":\"6906\"}},\"id\":\"6905\",\"type\":\"LinearAxis\"},{\"attributes\":{},\"id\":\"7319\",\"type\":\"AllLabels\"},{\"attributes\":{},\"id\":\"6955\",\"type\":\"ResetTool\"},{\"attributes\":{},\"id\":\"6899\",\"type\":\"DataRange1d\"},{\"attributes\":{\"formatter\":{\"id\":\"7309\"},\"major_label_policy\":{\"id\":\"7310\"},\"ticker\":{\"id\":\"6910\"}},\"id\":\"6909\",\"type\":\"LinearAxis\"},{\"attributes\":{\"bottom_units\":\"screen\",\"fill_alpha\":0.5,\"fill_color\":\"lightgrey\",\"left_units\":\"screen\",\"level\":\"overlay\",\"line_alpha\":1.0,\"line_color\":\"black\",\"line_dash\":[4,4],\"line_width\":2,\"right_units\":\"screen\",\"syncable\":false,\"top_units\":\"screen\"},\"id\":\"6957\",\"type\":\"BoxAnnotation\"},{\"attributes\":{\"axis\":{\"id\":\"6909\"},\"dimension\":1,\"ticker\":null},\"id\":\"6912\",\"type\":\"Grid\"},{\"attributes\":{},\"id\":\"6910\",\"type\":\"BasicTicker\"},{\"attributes\":{},\"id\":\"6954\",\"type\":\"SaveTool\"},{\"attributes\":{},\"id\":\"6903\",\"type\":\"LinearScale\"},{\"attributes\":{\"overlay\":{\"id\":\"6957\"}},\"id\":\"6953\",\"type\":\"BoxZoomTool\"},{\"attributes\":{\"active_multi\":null,\"tools\":[{\"id\":\"6913\"},{\"id\":\"6914\"},{\"id\":\"6915\"},{\"id\":\"6916\"},{\"id\":\"6917\"},{\"id\":\"6918\"}]},\"id\":\"6920\",\"type\":\"Toolbar\"},{\"attributes\":{\"data_source\":{\"id\":\"6893\"},\"glyph\":{\"id\":\"7004\"},\"hover_glyph\":null,\"muted_glyph\":null,\"nonselection_glyph\":{\"id\":\"7005\"},\"view\":{\"id\":\"7007\"}},\"id\":\"7006\",\"type\":\"GlyphRenderer\"},{\"attributes\":{},\"id\":\"6951\",\"type\":\"PanTool\"},{\"attributes\":{},\"id\":\"6897\",\"type\":\"DataRange1d\"},{\"attributes\":{},\"id\":\"6952\",\"type\":\"WheelZoomTool\"},{\"attributes\":{},\"id\":\"6901\",\"type\":\"LinearScale\"},{\"attributes\":{},\"id\":\"6906\",\"type\":\"BasicTicker\"},{\"attributes\":{\"overlay\":{\"id\":\"6919\"}},\"id\":\"6915\",\"type\":\"BoxZoomTool\"},{\"attributes\":{},\"id\":\"6948\",\"type\":\"BasicTicker\"},{\"attributes\":{\"axis\":{\"id\":\"6947\"},\"dimension\":1,\"ticker\":null},\"id\":\"6950\",\"type\":\"Grid\"},{\"attributes\":{\"source\":{\"id\":\"6893\"}},\"id\":\"7007\",\"type\":\"CDSView\"},{\"attributes\":{\"axis\":{\"id\":\"6943\"},\"ticker\":null},\"id\":\"6946\",\"type\":\"Grid\"},{\"attributes\":{\"active_multi\":null,\"tools\":[{\"id\":\"6989\"},{\"id\":\"6990\"},{\"id\":\"6991\"},{\"id\":\"6992\"},{\"id\":\"6993\"},{\"id\":\"6994\"}]},\"id\":\"6996\",\"type\":\"Toolbar\"},{\"attributes\":{\"bottom_units\":\"screen\",\"fill_alpha\":0.5,\"fill_color\":\"lightgrey\",\"left_units\":\"screen\",\"level\":\"overlay\",\"line_alpha\":1.0,\"line_color\":\"black\",\"line_dash\":[4,4],\"line_width\":2,\"right_units\":\"screen\",\"syncable\":false,\"top_units\":\"screen\"},\"id\":\"6995\",\"type\":\"BoxAnnotation\"},{\"attributes\":{},\"id\":\"6941\",\"type\":\"LinearScale\"},{\"attributes\":{},\"id\":\"6944\",\"type\":\"BasicTicker\"},{\"attributes\":{},\"id\":\"6937\",\"type\":\"DataRange1d\"},{\"attributes\":{},\"id\":\"6939\",\"type\":\"LinearScale\"},{\"attributes\":{\"formatter\":{\"id\":\"7315\"},\"major_label_policy\":{\"id\":\"7316\"},\"ticker\":{\"id\":\"6948\"}},\"id\":\"6947\",\"type\":\"LinearAxis\"},{\"attributes\":{\"formatter\":{\"id\":\"7318\"},\"major_label_policy\":{\"id\":\"7319\"},\"ticker\":{\"id\":\"6944\"}},\"id\":\"6943\",\"type\":\"LinearAxis\"},{\"attributes\":{\"source\":{\"id\":\"6893\"}},\"id\":\"6931\",\"type\":\"CDSView\"},{\"attributes\":{},\"id\":\"6918\",\"type\":\"HelpTool\"},{\"attributes\":{\"bottom_units\":\"screen\",\"fill_alpha\":0.5,\"fill_color\":\"lightgrey\",\"left_units\":\"screen\",\"level\":\"overlay\",\"line_alpha\":1.0,\"line_color\":\"black\",\"line_dash\":[4,4],\"line_width\":2,\"right_units\":\"screen\",\"syncable\":false,\"top_units\":\"screen\"},\"id\":\"6919\",\"type\":\"BoxAnnotation\"},{\"attributes\":{},\"id\":\"6917\",\"type\":\"ResetTool\"},{\"attributes\":{},\"id\":\"7309\",\"type\":\"BasicTickFormatter\"},{\"attributes\":{},\"id\":\"7310\",\"type\":\"AllLabels\"},{\"attributes\":{\"active_multi\":null,\"tools\":[{\"id\":\"6951\"},{\"id\":\"6952\"},{\"id\":\"6953\"},{\"id\":\"6954\"},{\"id\":\"6955\"},{\"id\":\"6956\"}]},\"id\":\"6958\",\"type\":\"Toolbar\"},{\"attributes\":{\"data_source\":{\"id\":\"6893\"},\"glyph\":{\"id\":\"6928\"},\"hover_glyph\":null,\"muted_glyph\":null,\"nonselection_glyph\":{\"id\":\"6929\"},\"view\":{\"id\":\"6931\"}},\"id\":\"6930\",\"type\":\"GlyphRenderer\"},{\"attributes\":{},\"id\":\"7312\",\"type\":\"BasicTickFormatter\"},{\"attributes\":{},\"id\":\"7313\",\"type\":\"AllLabels\"},{\"attributes\":{},\"id\":\"7315\",\"type\":\"BasicTickFormatter\"},{\"attributes\":{},\"id\":\"7316\",\"type\":\"AllLabels\"}],\"root_ids\":[\"7008\"]},\"title\":\"Bokeh Application\",\"version\":\"2.3.0\"}};\n",
       "  var render_items = [{\"docid\":\"89c5063c-edd5-4d7b-a0a3-2cdc8f2be458\",\"root_ids\":[\"7008\"],\"roots\":{\"7008\":\"29d61a3c-b328-46e8-906f-f5db80586716\"}}];\n",
       "  root.Bokeh.embed.embed_items_notebook(docs_json, render_items);\n",
       "\n",
       "  }\n",
       "  if (root.Bokeh !== undefined) {\n",
       "    embed_document(root);\n",
       "  } else {\n",
       "    var attempts = 0;\n",
       "    var timer = setInterval(function(root) {\n",
       "      if (root.Bokeh !== undefined) {\n",
       "        clearInterval(timer);\n",
       "        embed_document(root);\n",
       "      } else {\n",
       "        attempts++;\n",
       "        if (attempts > 100) {\n",
       "          clearInterval(timer);\n",
       "          console.log(\"Bokeh: ERROR: Unable to run BokehJS code because BokehJS library is missing\");\n",
       "        }\n",
       "      }\n",
       "    }, 10, root)\n",
       "  }\n",
       "})(window);"
      ],
      "application/vnd.bokehjs_exec.v0+json": ""
     },
     "metadata": {
      "application/vnd.bokehjs_exec.v0+json": {
       "id": "7008"
      }
     },
     "output_type": "display_data"
    }
   ],
   "source": [
    "source = ColumnDataSource(iris_df)\n",
    "\n",
    "# Flowers is a Pandas DataFrame\n",
    "p1 = figure(plot_width=300, plot_height=300, toolbar_location=None, title='petal length vs. sepal length')\n",
    "p1.circle('petal_length', 'sepal_length', source=source, color='blue')\n",
    "p2 = figure(plot_width=300, plot_height=300, toolbar_location=None, title='petal length vs. sepal width')\n",
    "p2.circle('petal_length', 'sepal_width', source=source, color='green')\n",
    "p3 = figure(plot_width=300, plot_height=300, toolbar_location=None, title='petal length vs. petal width')\n",
    "p3.circle('petal_length', 'petal_width', source=source, color='red')\n",
    "layout = row(p1, p2, p3)\n",
    "# output_file('row.html')\n",
    "show(layout)"
   ]
  },
  {
   "cell_type": "markdown",
   "metadata": {},
   "source": [
    "**Columns of plots**"
   ]
  },
  {
   "cell_type": "code",
   "execution_count": 44,
   "metadata": {},
   "outputs": [
    {
     "data": {
      "text/html": [
       "\n",
       "\n",
       "\n",
       "\n",
       "\n",
       "\n",
       "  <div class=\"bk-root\" id=\"e588d7f1-c7cc-4552-8d72-deeaf76d19a7\" data-root-id=\"7462\"></div>\n"
      ]
     },
     "metadata": {},
     "output_type": "display_data"
    },
    {
     "data": {
      "application/javascript": [
       "(function(root) {\n",
       "  function embed_document(root) {\n",
       "    \n",
       "  var docs_json = {\"9545c743-4fac-4af6-98a1-7c86b1ac61bf\":{\"defs\":[{\"extends\":null,\"module\":null,\"name\":\"DataModel\",\"overrides\":[],\"properties\":[]}],\"roots\":{\"references\":[{\"attributes\":{\"children\":[{\"id\":\"6894\"},{\"id\":\"6932\"},{\"id\":\"6970\"}]},\"id\":\"7462\",\"type\":\"Column\"},{\"attributes\":{},\"id\":\"7321\",\"type\":\"BasicTickFormatter\"},{\"attributes\":{},\"id\":\"7322\",\"type\":\"AllLabels\"},{\"attributes\":{\"source\":{\"id\":\"6893\"}},\"id\":\"6969\",\"type\":\"CDSView\"},{\"attributes\":{},\"id\":\"6935\",\"type\":\"DataRange1d\"},{\"attributes\":{\"fill_alpha\":{\"value\":0.1},\"fill_color\":{\"value\":\"red\"},\"line_alpha\":{\"value\":0.1},\"line_color\":{\"value\":\"red\"},\"x\":{\"field\":\"petal_length\"},\"y\":{\"field\":\"petal_width\"}},\"id\":\"7005\",\"type\":\"Circle\"},{\"attributes\":{\"text\":\"petal length vs. petal width\"},\"id\":\"6971\",\"type\":\"Title\"},{\"attributes\":{\"data_source\":{\"id\":\"6893\"},\"glyph\":{\"id\":\"6966\"},\"hover_glyph\":null,\"muted_glyph\":null,\"nonselection_glyph\":{\"id\":\"6967\"},\"view\":{\"id\":\"6969\"}},\"id\":\"6968\",\"type\":\"GlyphRenderer\"},{\"attributes\":{\"fill_color\":{\"value\":\"red\"},\"line_color\":{\"value\":\"red\"},\"x\":{\"field\":\"petal_length\"},\"y\":{\"field\":\"petal_width\"}},\"id\":\"7004\",\"type\":\"Circle\"},{\"attributes\":{},\"id\":\"7318\",\"type\":\"BasicTickFormatter\"},{\"attributes\":{},\"id\":\"6973\",\"type\":\"DataRange1d\"},{\"attributes\":{},\"id\":\"6994\",\"type\":\"HelpTool\"},{\"attributes\":{\"formatter\":{\"id\":\"7324\"},\"major_label_policy\":{\"id\":\"7325\"},\"ticker\":{\"id\":\"6982\"}},\"id\":\"6981\",\"type\":\"LinearAxis\"},{\"attributes\":{},\"id\":\"6975\",\"type\":\"DataRange1d\"},{\"attributes\":{\"formatter\":{\"id\":\"7321\"},\"major_label_policy\":{\"id\":\"7322\"},\"ticker\":{\"id\":\"6986\"}},\"id\":\"6985\",\"type\":\"LinearAxis\"},{\"attributes\":{},\"id\":\"6977\",\"type\":\"LinearScale\"},{\"attributes\":{},\"id\":\"6982\",\"type\":\"BasicTicker\"},{\"attributes\":{\"axis\":{\"id\":\"6981\"},\"ticker\":null},\"id\":\"6984\",\"type\":\"Grid\"},{\"attributes\":{},\"id\":\"7324\",\"type\":\"BasicTickFormatter\"},{\"attributes\":{},\"id\":\"6979\",\"type\":\"LinearScale\"},{\"attributes\":{},\"id\":\"7325\",\"type\":\"AllLabels\"},{\"attributes\":{\"axis\":{\"id\":\"6985\"},\"dimension\":1,\"ticker\":null},\"id\":\"6988\",\"type\":\"Grid\"},{\"attributes\":{},\"id\":\"6986\",\"type\":\"BasicTicker\"},{\"attributes\":{},\"id\":\"6990\",\"type\":\"WheelZoomTool\"},{\"attributes\":{},\"id\":\"6989\",\"type\":\"PanTool\"},{\"attributes\":{\"overlay\":{\"id\":\"6995\"}},\"id\":\"6991\",\"type\":\"BoxZoomTool\"},{\"attributes\":{\"below\":[{\"id\":\"6943\"}],\"center\":[{\"id\":\"6946\"},{\"id\":\"6950\"}],\"height\":300,\"left\":[{\"id\":\"6947\"}],\"renderers\":[{\"id\":\"6968\"}],\"title\":{\"id\":\"6933\"},\"toolbar\":{\"id\":\"6958\"},\"toolbar_location\":null,\"width\":300,\"x_range\":{\"id\":\"6935\"},\"x_scale\":{\"id\":\"6939\"},\"y_range\":{\"id\":\"6937\"},\"y_scale\":{\"id\":\"6941\"}},\"id\":\"6932\",\"subtype\":\"Figure\",\"type\":\"Plot\"},{\"attributes\":{},\"id\":\"6992\",\"type\":\"SaveTool\"},{\"attributes\":{\"data\":{\"index\":[0,1,2,3,4,5,6,7,8,9,10,11,12,13,14,15,16,17,18,19,20,21,22,23,24,25,26,27,28,29,30,31,32,33,34,35,36,37,38,39,40,41,42,43,44,45,46,47,48,49,50,51,52,53,54,55,56,57,58,59,60,61,62,63,64,65,66,67,68,69,70,71,72,73,74,75,76,77,78,79,80,81,82,83,84,85,86,87,88,89,90,91,92,93,94,95,96,97,98,99,100,101,102,103,104,105,106,107,108,109,110,111,112,113,114,115,116,117,118,119,120,121,122,123,124,125,126,127,128,129,130,131,132,133,134,135,136,137,138,139,140,141,142,143,144,145,146,147,148,149],\"petal_length\":{\"__ndarray__\":\"ZmZmZmZm9j9mZmZmZmb2P83MzMzMzPQ/AAAAAAAA+D9mZmZmZmb2PzMzMzMzM/s/ZmZmZmZm9j8AAAAAAAD4P2ZmZmZmZvY/AAAAAAAA+D8AAAAAAAD4P5qZmZmZmfk/ZmZmZmZm9j+amZmZmZnxPzMzMzMzM/M/AAAAAAAA+D/NzMzMzMz0P2ZmZmZmZvY/MzMzMzMz+z8AAAAAAAD4PzMzMzMzM/s/AAAAAAAA+D8AAAAAAADwPzMzMzMzM/s/ZmZmZmZm/j+amZmZmZn5P5qZmZmZmfk/AAAAAAAA+D9mZmZmZmb2P5qZmZmZmfk/mpmZmZmZ+T8AAAAAAAD4PwAAAAAAAPg/ZmZmZmZm9j8AAAAAAAD4PzMzMzMzM/M/zczMzMzM9D9mZmZmZmb2P83MzMzMzPQ/AAAAAAAA+D/NzMzMzMz0P83MzMzMzPQ/zczMzMzM9D+amZmZmZn5P2ZmZmZmZv4/ZmZmZmZm9j+amZmZmZn5P2ZmZmZmZvY/AAAAAAAA+D9mZmZmZmb2P83MzMzMzBJAAAAAAAAAEkCamZmZmZkTQAAAAAAAABBAZmZmZmZmEkAAAAAAAAASQM3MzMzMzBJAZmZmZmZmCkBmZmZmZmYSQDMzMzMzMw9AAAAAAAAADEDNzMzMzMwQQAAAAAAAABBAzczMzMzMEkDNzMzMzMwMQJqZmZmZmRFAAAAAAAAAEkBmZmZmZmYQQAAAAAAAABJAMzMzMzMzD0AzMzMzMzMTQAAAAAAAABBAmpmZmZmZE0DNzMzMzMwSQDMzMzMzMxFAmpmZmZmZEUAzMzMzMzMTQAAAAAAAABRAAAAAAAAAEkAAAAAAAAAMQGZmZmZmZg5AmpmZmZmZDUAzMzMzMzMPQGZmZmZmZhRAAAAAAAAAEkAAAAAAAAASQM3MzMzMzBJAmpmZmZmZEUBmZmZmZmYQQAAAAAAAABBAmpmZmZmZEUBmZmZmZmYSQAAAAAAAABBAZmZmZmZmCkDNzMzMzMwQQM3MzMzMzBBAzczMzMzMEEAzMzMzMzMRQAAAAAAAAAhAZmZmZmZmEEAAAAAAAAAYQGZmZmZmZhRAmpmZmZmZF0BmZmZmZmYWQDMzMzMzMxdAZmZmZmZmGkAAAAAAAAASQDMzMzMzMxlAMzMzMzMzF0BmZmZmZmYYQGZmZmZmZhRAMzMzMzMzFUAAAAAAAAAWQAAAAAAAABRAZmZmZmZmFEAzMzMzMzMVQAAAAAAAABZAzczMzMzMGkCamZmZmZkbQAAAAAAAABRAzczMzMzMFkCamZmZmZkTQM3MzMzMzBpAmpmZmZmZE0DNzMzMzMwWQAAAAAAAABhAMzMzMzMzE0CamZmZmZkTQGZmZmZmZhZAMzMzMzMzF0BmZmZmZmYYQJqZmZmZmRlAZmZmZmZmFkBmZmZmZmYUQGZmZmZmZhZAZmZmZmZmGEBmZmZmZmYWQAAAAAAAABZAMzMzMzMzE0CamZmZmZkVQGZmZmZmZhZAZmZmZmZmFEBmZmZmZmYUQJqZmZmZmRdAzczMzMzMFkDNzMzMzMwUQAAAAAAAABRAzczMzMzMFECamZmZmZkVQGZmZmZmZhRA\",\"dtype\":\"float64\",\"order\":\"little\",\"shape\":[150]},\"petal_width\":{\"__ndarray__\":\"mpmZmZmZyT+amZmZmZnJP5qZmZmZmck/mpmZmZmZyT+amZmZmZnJP5qZmZmZmdk/MzMzMzMz0z+amZmZmZnJP5qZmZmZmck/mpmZmZmZuT+amZmZmZnJP5qZmZmZmck/mpmZmZmZuT+amZmZmZm5P5qZmZmZmck/mpmZmZmZ2T+amZmZmZnZPzMzMzMzM9M/MzMzMzMz0z8zMzMzMzPTP5qZmZmZmck/mpmZmZmZ2T+amZmZmZnJPwAAAAAAAOA/mpmZmZmZyT+amZmZmZnJP5qZmZmZmdk/mpmZmZmZyT+amZmZmZnJP5qZmZmZmck/mpmZmZmZyT+amZmZmZnZP5qZmZmZmbk/mpmZmZmZyT+amZmZmZnJP5qZmZmZmck/mpmZmZmZyT+amZmZmZm5P5qZmZmZmck/mpmZmZmZyT8zMzMzMzPTPzMzMzMzM9M/mpmZmZmZyT8zMzMzMzPjP5qZmZmZmdk/MzMzMzMz0z+amZmZmZnJP5qZmZmZmck/mpmZmZmZyT+amZmZmZnJP2ZmZmZmZvY/AAAAAAAA+D8AAAAAAAD4P83MzMzMzPQ/AAAAAAAA+D/NzMzMzMz0P5qZmZmZmfk/AAAAAAAA8D/NzMzMzMz0P2ZmZmZmZvY/AAAAAAAA8D8AAAAAAAD4PwAAAAAAAPA/ZmZmZmZm9j/NzMzMzMz0P2ZmZmZmZvY/AAAAAAAA+D8AAAAAAADwPwAAAAAAAPg/mpmZmZmZ8T/NzMzMzMz8P83MzMzMzPQ/AAAAAAAA+D8zMzMzMzPzP83MzMzMzPQ/ZmZmZmZm9j9mZmZmZmb2PzMzMzMzM/s/AAAAAAAA+D8AAAAAAADwP5qZmZmZmfE/AAAAAAAA8D8zMzMzMzPzP5qZmZmZmfk/AAAAAAAA+D+amZmZmZn5PwAAAAAAAPg/zczMzMzM9D/NzMzMzMz0P83MzMzMzPQ/MzMzMzMz8z9mZmZmZmb2PzMzMzMzM/M/AAAAAAAA8D/NzMzMzMz0PzMzMzMzM/M/zczMzMzM9D/NzMzMzMz0P5qZmZmZmfE/zczMzMzM9D8AAAAAAAAEQGZmZmZmZv4/zczMzMzMAEDNzMzMzMz8P5qZmZmZmQFAzczMzMzMAEAzMzMzMzP7P83MzMzMzPw/zczMzMzM/D8AAAAAAAAEQAAAAAAAAABAZmZmZmZm/j/NzMzMzMwAQAAAAAAAAABAMzMzMzMzA0BmZmZmZmYCQM3MzMzMzPw/mpmZmZmZAUBmZmZmZmYCQAAAAAAAAPg/ZmZmZmZmAkAAAAAAAAAAQAAAAAAAAABAzczMzMzM/D/NzMzMzMwAQM3MzMzMzPw/zczMzMzM/D/NzMzMzMz8P83MzMzMzABAmpmZmZmZ+T9mZmZmZmb+PwAAAAAAAABAmpmZmZmZAUAAAAAAAAD4P2ZmZmZmZvY/ZmZmZmZmAkAzMzMzMzMDQM3MzMzMzPw/zczMzMzM/D/NzMzMzMwAQDMzMzMzMwNAZmZmZmZmAkBmZmZmZmb+P2ZmZmZmZgJAAAAAAAAABEBmZmZmZmYCQGZmZmZmZv4/AAAAAAAAAEBmZmZmZmYCQM3MzMzMzPw/\",\"dtype\":\"float64\",\"order\":\"little\",\"shape\":[150]},\"sepal_length\":{\"__ndarray__\":\"ZmZmZmZmFECamZmZmZkTQM3MzMzMzBJAZmZmZmZmEkAAAAAAAAAUQJqZmZmZmRVAZmZmZmZmEkAAAAAAAAAUQJqZmZmZmRFAmpmZmZmZE0CamZmZmZkVQDMzMzMzMxNAMzMzMzMzE0AzMzMzMzMRQDMzMzMzMxdAzczMzMzMFkCamZmZmZkVQGZmZmZmZhRAzczMzMzMFkBmZmZmZmYUQJqZmZmZmRVAZmZmZmZmFEBmZmZmZmYSQGZmZmZmZhRAMzMzMzMzE0AAAAAAAAAUQAAAAAAAABRAzczMzMzMFEDNzMzMzMwUQM3MzMzMzBJAMzMzMzMzE0CamZmZmZkVQM3MzMzMzBRAAAAAAAAAFkCamZmZmZkTQAAAAAAAABRAAAAAAAAAFkCamZmZmZkTQJqZmZmZmRFAZmZmZmZmFEAAAAAAAAAUQAAAAAAAABJAmpmZmZmZEUAAAAAAAAAUQGZmZmZmZhRAMzMzMzMzE0BmZmZmZmYUQGZmZmZmZhJAMzMzMzMzFUAAAAAAAAAUQAAAAAAAABxAmpmZmZmZGUCamZmZmZkbQAAAAAAAABZAAAAAAAAAGkDNzMzMzMwWQDMzMzMzMxlAmpmZmZmZE0BmZmZmZmYaQM3MzMzMzBRAAAAAAAAAFECamZmZmZkXQAAAAAAAABhAZmZmZmZmGEBmZmZmZmYWQM3MzMzMzBpAZmZmZmZmFkAzMzMzMzMXQM3MzMzMzBhAZmZmZmZmFkCamZmZmZkXQGZmZmZmZhhAMzMzMzMzGUBmZmZmZmYYQJqZmZmZmRlAZmZmZmZmGkAzMzMzMzMbQM3MzMzMzBpAAAAAAAAAGEDNzMzMzMwWQAAAAAAAABZAAAAAAAAAFkAzMzMzMzMXQAAAAAAAABhAmpmZmZmZFUAAAAAAAAAYQM3MzMzMzBpAMzMzMzMzGUBmZmZmZmYWQAAAAAAAABZAAAAAAAAAFkBmZmZmZmYYQDMzMzMzMxdAAAAAAAAAFEBmZmZmZmYWQM3MzMzMzBZAzczMzMzMFkDNzMzMzMwYQGZmZmZmZhRAzczMzMzMFkAzMzMzMzMZQDMzMzMzMxdAZmZmZmZmHEAzMzMzMzMZQAAAAAAAABpAZmZmZmZmHkCamZmZmZkTQDMzMzMzMx1AzczMzMzMGkDNzMzMzMwcQAAAAAAAABpAmpmZmZmZGUAzMzMzMzMbQM3MzMzMzBZAMzMzMzMzF0CamZmZmZkZQAAAAAAAABpAzczMzMzMHkDNzMzMzMweQAAAAAAAABhAmpmZmZmZG0BmZmZmZmYWQM3MzMzMzB5AMzMzMzMzGUDNzMzMzMwaQM3MzMzMzBxAzczMzMzMGEBmZmZmZmYYQJqZmZmZmRlAzczMzMzMHECamZmZmZkdQJqZmZmZmR9AmpmZmZmZGUAzMzMzMzMZQGZmZmZmZhhAzczMzMzMHkAzMzMzMzMZQJqZmZmZmRlAAAAAAAAAGECamZmZmZkbQM3MzMzMzBpAmpmZmZmZG0AzMzMzMzMXQDMzMzMzMxtAzczMzMzMGkDNzMzMzMwaQDMzMzMzMxlAAAAAAAAAGkDNzMzMzMwYQJqZmZmZmRdA\",\"dtype\":\"float64\",\"order\":\"little\",\"shape\":[150]},\"sepal_width\":{\"__ndarray__\":\"AAAAAAAADEAAAAAAAAAIQJqZmZmZmQlAzczMzMzMCEDNzMzMzMwMQDMzMzMzMw9AMzMzMzMzC0AzMzMzMzMLQDMzMzMzMwdAzczMzMzMCECamZmZmZkNQDMzMzMzMwtAAAAAAAAACEAAAAAAAAAIQAAAAAAAABBAmpmZmZmZEUAzMzMzMzMPQAAAAAAAAAxAZmZmZmZmDkBmZmZmZmYOQDMzMzMzMwtAmpmZmZmZDUDNzMzMzMwMQGZmZmZmZgpAMzMzMzMzC0AAAAAAAAAIQDMzMzMzMwtAAAAAAAAADEAzMzMzMzMLQJqZmZmZmQlAzczMzMzMCEAzMzMzMzMLQGZmZmZmZhBAzczMzMzMEEDNzMzMzMwIQJqZmZmZmQlAAAAAAAAADEDNzMzMzMwMQAAAAAAAAAhAMzMzMzMzC0AAAAAAAAAMQGZmZmZmZgJAmpmZmZmZCUAAAAAAAAAMQGZmZmZmZg5AAAAAAAAACEBmZmZmZmYOQJqZmZmZmQlAmpmZmZmZDUBmZmZmZmYKQJqZmZmZmQlAmpmZmZmZCUDNzMzMzMwIQGZmZmZmZgJAZmZmZmZmBkBmZmZmZmYGQGZmZmZmZgpAMzMzMzMzA0AzMzMzMzMHQJqZmZmZmQVAAAAAAAAAAEAAAAAAAAAIQJqZmZmZmQFAMzMzMzMzB0AzMzMzMzMHQM3MzMzMzAhAAAAAAAAACECamZmZmZkFQJqZmZmZmQFAAAAAAAAABECamZmZmZkJQGZmZmZmZgZAAAAAAAAABEBmZmZmZmYGQDMzMzMzMwdAAAAAAAAACEBmZmZmZmYGQAAAAAAAAAhAMzMzMzMzB0DNzMzMzMwEQDMzMzMzMwNAMzMzMzMzA0CamZmZmZkFQJqZmZmZmQVAAAAAAAAACEAzMzMzMzMLQM3MzMzMzAhAZmZmZmZmAkAAAAAAAAAIQAAAAAAAAARAzczMzMzMBEAAAAAAAAAIQM3MzMzMzARAZmZmZmZmAkCamZmZmZkFQAAAAAAAAAhAMzMzMzMzB0AzMzMzMzMHQAAAAAAAAARAZmZmZmZmBkBmZmZmZmYKQJqZmZmZmQVAAAAAAAAACEAzMzMzMzMHQAAAAAAAAAhAAAAAAAAACEAAAAAAAAAEQDMzMzMzMwdAAAAAAAAABEDNzMzMzMwMQJqZmZmZmQlAmpmZmZmZBUAAAAAAAAAIQAAAAAAAAARAZmZmZmZmBkCamZmZmZkJQAAAAAAAAAhAZmZmZmZmDkDNzMzMzMwEQJqZmZmZmQFAmpmZmZmZCUBmZmZmZmYGQGZmZmZmZgZAmpmZmZmZBUBmZmZmZmYKQJqZmZmZmQlAZmZmZmZmBkAAAAAAAAAIQGZmZmZmZgZAAAAAAAAACEBmZmZmZmYGQGZmZmZmZg5AZmZmZmZmBkBmZmZmZmYGQM3MzMzMzARAAAAAAAAACEAzMzMzMzMLQM3MzMzMzAhAAAAAAAAACEDNzMzMzMwIQM3MzMzMzAhAzczMzMzMCECamZmZmZkFQJqZmZmZmQlAZmZmZmZmCkAAAAAAAAAIQAAAAAAAAARAAAAAAAAACEAzMzMzMzMLQAAAAAAAAAhA\",\"dtype\":\"float64\",\"order\":\"little\",\"shape\":[150]},\"species\":[\"setosa\",\"setosa\",\"setosa\",\"setosa\",\"setosa\",\"setosa\",\"setosa\",\"setosa\",\"setosa\",\"setosa\",\"setosa\",\"setosa\",\"setosa\",\"setosa\",\"setosa\",\"setosa\",\"setosa\",\"setosa\",\"setosa\",\"setosa\",\"setosa\",\"setosa\",\"setosa\",\"setosa\",\"setosa\",\"setosa\",\"setosa\",\"setosa\",\"setosa\",\"setosa\",\"setosa\",\"setosa\",\"setosa\",\"setosa\",\"setosa\",\"setosa\",\"setosa\",\"setosa\",\"setosa\",\"setosa\",\"setosa\",\"setosa\",\"setosa\",\"setosa\",\"setosa\",\"setosa\",\"setosa\",\"setosa\",\"setosa\",\"setosa\",\"versicolor\",\"versicolor\",\"versicolor\",\"versicolor\",\"versicolor\",\"versicolor\",\"versicolor\",\"versicolor\",\"versicolor\",\"versicolor\",\"versicolor\",\"versicolor\",\"versicolor\",\"versicolor\",\"versicolor\",\"versicolor\",\"versicolor\",\"versicolor\",\"versicolor\",\"versicolor\",\"versicolor\",\"versicolor\",\"versicolor\",\"versicolor\",\"versicolor\",\"versicolor\",\"versicolor\",\"versicolor\",\"versicolor\",\"versicolor\",\"versicolor\",\"versicolor\",\"versicolor\",\"versicolor\",\"versicolor\",\"versicolor\",\"versicolor\",\"versicolor\",\"versicolor\",\"versicolor\",\"versicolor\",\"versicolor\",\"versicolor\",\"versicolor\",\"versicolor\",\"versicolor\",\"versicolor\",\"versicolor\",\"versicolor\",\"versicolor\",\"virginica\",\"virginica\",\"virginica\",\"virginica\",\"virginica\",\"virginica\",\"virginica\",\"virginica\",\"virginica\",\"virginica\",\"virginica\",\"virginica\",\"virginica\",\"virginica\",\"virginica\",\"virginica\",\"virginica\",\"virginica\",\"virginica\",\"virginica\",\"virginica\",\"virginica\",\"virginica\",\"virginica\",\"virginica\",\"virginica\",\"virginica\",\"virginica\",\"virginica\",\"virginica\",\"virginica\",\"virginica\",\"virginica\",\"virginica\",\"virginica\",\"virginica\",\"virginica\",\"virginica\",\"virginica\",\"virginica\",\"virginica\",\"virginica\",\"virginica\",\"virginica\",\"virginica\",\"virginica\",\"virginica\",\"virginica\",\"virginica\",\"virginica\"]},\"selected\":{\"id\":\"7328\"},\"selection_policy\":{\"id\":\"7327\"}},\"id\":\"6893\",\"type\":\"ColumnDataSource\"},{\"attributes\":{},\"id\":\"6993\",\"type\":\"ResetTool\"},{\"attributes\":{},\"id\":\"7327\",\"type\":\"UnionRenderers\"},{\"attributes\":{\"fill_alpha\":{\"value\":0.1},\"fill_color\":{\"value\":\"green\"},\"line_alpha\":{\"value\":0.1},\"line_color\":{\"value\":\"green\"},\"x\":{\"field\":\"petal_length\"},\"y\":{\"field\":\"sepal_width\"}},\"id\":\"6967\",\"type\":\"Circle\"},{\"attributes\":{},\"id\":\"6913\",\"type\":\"PanTool\"},{\"attributes\":{\"text\":\"petal length vs. sepal width\"},\"id\":\"6933\",\"type\":\"Title\"},{\"attributes\":{\"fill_alpha\":{\"value\":0.1},\"fill_color\":{\"value\":\"blue\"},\"line_alpha\":{\"value\":0.1},\"line_color\":{\"value\":\"blue\"},\"x\":{\"field\":\"petal_length\"},\"y\":{\"field\":\"sepal_length\"}},\"id\":\"6929\",\"type\":\"Circle\"},{\"attributes\":{\"below\":[{\"id\":\"6905\"}],\"center\":[{\"id\":\"6908\"},{\"id\":\"6912\"}],\"height\":300,\"left\":[{\"id\":\"6909\"}],\"renderers\":[{\"id\":\"6930\"}],\"title\":{\"id\":\"6895\"},\"toolbar\":{\"id\":\"6920\"},\"toolbar_location\":null,\"width\":300,\"x_range\":{\"id\":\"6897\"},\"x_scale\":{\"id\":\"6901\"},\"y_range\":{\"id\":\"6899\"},\"y_scale\":{\"id\":\"6903\"}},\"id\":\"6894\",\"subtype\":\"Figure\",\"type\":\"Plot\"},{\"attributes\":{\"axis\":{\"id\":\"6905\"},\"ticker\":null},\"id\":\"6908\",\"type\":\"Grid\"},{\"attributes\":{\"fill_color\":{\"value\":\"green\"},\"line_color\":{\"value\":\"green\"},\"x\":{\"field\":\"petal_length\"},\"y\":{\"field\":\"sepal_width\"}},\"id\":\"6966\",\"type\":\"Circle\"},{\"attributes\":{},\"id\":\"7328\",\"type\":\"Selection\"},{\"attributes\":{\"below\":[{\"id\":\"6981\"}],\"center\":[{\"id\":\"6984\"},{\"id\":\"6988\"}],\"height\":300,\"left\":[{\"id\":\"6985\"}],\"renderers\":[{\"id\":\"7006\"}],\"title\":{\"id\":\"6971\"},\"toolbar\":{\"id\":\"6996\"},\"toolbar_location\":null,\"width\":300,\"x_range\":{\"id\":\"6973\"},\"x_scale\":{\"id\":\"6977\"},\"y_range\":{\"id\":\"6975\"},\"y_scale\":{\"id\":\"6979\"}},\"id\":\"6970\",\"subtype\":\"Figure\",\"type\":\"Plot\"},{\"attributes\":{},\"id\":\"6916\",\"type\":\"SaveTool\"},{\"attributes\":{},\"id\":\"6914\",\"type\":\"WheelZoomTool\"},{\"attributes\":{\"text\":\"petal length vs. sepal length\"},\"id\":\"6895\",\"type\":\"Title\"},{\"attributes\":{},\"id\":\"6956\",\"type\":\"HelpTool\"},{\"attributes\":{\"fill_color\":{\"value\":\"blue\"},\"line_color\":{\"value\":\"blue\"},\"x\":{\"field\":\"petal_length\"},\"y\":{\"field\":\"sepal_length\"}},\"id\":\"6928\",\"type\":\"Circle\"},{\"attributes\":{\"formatter\":{\"id\":\"7312\"},\"major_label_policy\":{\"id\":\"7313\"},\"ticker\":{\"id\":\"6906\"}},\"id\":\"6905\",\"type\":\"LinearAxis\"},{\"attributes\":{},\"id\":\"7319\",\"type\":\"AllLabels\"},{\"attributes\":{},\"id\":\"6955\",\"type\":\"ResetTool\"},{\"attributes\":{},\"id\":\"6899\",\"type\":\"DataRange1d\"},{\"attributes\":{\"formatter\":{\"id\":\"7309\"},\"major_label_policy\":{\"id\":\"7310\"},\"ticker\":{\"id\":\"6910\"}},\"id\":\"6909\",\"type\":\"LinearAxis\"},{\"attributes\":{\"bottom_units\":\"screen\",\"fill_alpha\":0.5,\"fill_color\":\"lightgrey\",\"left_units\":\"screen\",\"level\":\"overlay\",\"line_alpha\":1.0,\"line_color\":\"black\",\"line_dash\":[4,4],\"line_width\":2,\"right_units\":\"screen\",\"syncable\":false,\"top_units\":\"screen\"},\"id\":\"6957\",\"type\":\"BoxAnnotation\"},{\"attributes\":{\"axis\":{\"id\":\"6909\"},\"dimension\":1,\"ticker\":null},\"id\":\"6912\",\"type\":\"Grid\"},{\"attributes\":{},\"id\":\"6910\",\"type\":\"BasicTicker\"},{\"attributes\":{},\"id\":\"6954\",\"type\":\"SaveTool\"},{\"attributes\":{},\"id\":\"6903\",\"type\":\"LinearScale\"},{\"attributes\":{\"overlay\":{\"id\":\"6957\"}},\"id\":\"6953\",\"type\":\"BoxZoomTool\"},{\"attributes\":{\"active_multi\":null,\"tools\":[{\"id\":\"6913\"},{\"id\":\"6914\"},{\"id\":\"6915\"},{\"id\":\"6916\"},{\"id\":\"6917\"},{\"id\":\"6918\"}]},\"id\":\"6920\",\"type\":\"Toolbar\"},{\"attributes\":{\"data_source\":{\"id\":\"6893\"},\"glyph\":{\"id\":\"7004\"},\"hover_glyph\":null,\"muted_glyph\":null,\"nonselection_glyph\":{\"id\":\"7005\"},\"view\":{\"id\":\"7007\"}},\"id\":\"7006\",\"type\":\"GlyphRenderer\"},{\"attributes\":{},\"id\":\"6951\",\"type\":\"PanTool\"},{\"attributes\":{},\"id\":\"6897\",\"type\":\"DataRange1d\"},{\"attributes\":{},\"id\":\"6952\",\"type\":\"WheelZoomTool\"},{\"attributes\":{},\"id\":\"6901\",\"type\":\"LinearScale\"},{\"attributes\":{},\"id\":\"6906\",\"type\":\"BasicTicker\"},{\"attributes\":{\"overlay\":{\"id\":\"6919\"}},\"id\":\"6915\",\"type\":\"BoxZoomTool\"},{\"attributes\":{},\"id\":\"6948\",\"type\":\"BasicTicker\"},{\"attributes\":{\"axis\":{\"id\":\"6947\"},\"dimension\":1,\"ticker\":null},\"id\":\"6950\",\"type\":\"Grid\"},{\"attributes\":{\"source\":{\"id\":\"6893\"}},\"id\":\"7007\",\"type\":\"CDSView\"},{\"attributes\":{\"axis\":{\"id\":\"6943\"},\"ticker\":null},\"id\":\"6946\",\"type\":\"Grid\"},{\"attributes\":{\"active_multi\":null,\"tools\":[{\"id\":\"6989\"},{\"id\":\"6990\"},{\"id\":\"6991\"},{\"id\":\"6992\"},{\"id\":\"6993\"},{\"id\":\"6994\"}]},\"id\":\"6996\",\"type\":\"Toolbar\"},{\"attributes\":{\"bottom_units\":\"screen\",\"fill_alpha\":0.5,\"fill_color\":\"lightgrey\",\"left_units\":\"screen\",\"level\":\"overlay\",\"line_alpha\":1.0,\"line_color\":\"black\",\"line_dash\":[4,4],\"line_width\":2,\"right_units\":\"screen\",\"syncable\":false,\"top_units\":\"screen\"},\"id\":\"6995\",\"type\":\"BoxAnnotation\"},{\"attributes\":{},\"id\":\"6941\",\"type\":\"LinearScale\"},{\"attributes\":{},\"id\":\"6944\",\"type\":\"BasicTicker\"},{\"attributes\":{},\"id\":\"6937\",\"type\":\"DataRange1d\"},{\"attributes\":{},\"id\":\"6939\",\"type\":\"LinearScale\"},{\"attributes\":{\"formatter\":{\"id\":\"7315\"},\"major_label_policy\":{\"id\":\"7316\"},\"ticker\":{\"id\":\"6948\"}},\"id\":\"6947\",\"type\":\"LinearAxis\"},{\"attributes\":{\"formatter\":{\"id\":\"7318\"},\"major_label_policy\":{\"id\":\"7319\"},\"ticker\":{\"id\":\"6944\"}},\"id\":\"6943\",\"type\":\"LinearAxis\"},{\"attributes\":{\"source\":{\"id\":\"6893\"}},\"id\":\"6931\",\"type\":\"CDSView\"},{\"attributes\":{},\"id\":\"6918\",\"type\":\"HelpTool\"},{\"attributes\":{\"bottom_units\":\"screen\",\"fill_alpha\":0.5,\"fill_color\":\"lightgrey\",\"left_units\":\"screen\",\"level\":\"overlay\",\"line_alpha\":1.0,\"line_color\":\"black\",\"line_dash\":[4,4],\"line_width\":2,\"right_units\":\"screen\",\"syncable\":false,\"top_units\":\"screen\"},\"id\":\"6919\",\"type\":\"BoxAnnotation\"},{\"attributes\":{},\"id\":\"6917\",\"type\":\"ResetTool\"},{\"attributes\":{},\"id\":\"7309\",\"type\":\"BasicTickFormatter\"},{\"attributes\":{},\"id\":\"7310\",\"type\":\"AllLabels\"},{\"attributes\":{\"active_multi\":null,\"tools\":[{\"id\":\"6951\"},{\"id\":\"6952\"},{\"id\":\"6953\"},{\"id\":\"6954\"},{\"id\":\"6955\"},{\"id\":\"6956\"}]},\"id\":\"6958\",\"type\":\"Toolbar\"},{\"attributes\":{\"data_source\":{\"id\":\"6893\"},\"glyph\":{\"id\":\"6928\"},\"hover_glyph\":null,\"muted_glyph\":null,\"nonselection_glyph\":{\"id\":\"6929\"},\"view\":{\"id\":\"6931\"}},\"id\":\"6930\",\"type\":\"GlyphRenderer\"},{\"attributes\":{},\"id\":\"7312\",\"type\":\"BasicTickFormatter\"},{\"attributes\":{},\"id\":\"7313\",\"type\":\"AllLabels\"},{\"attributes\":{},\"id\":\"7315\",\"type\":\"BasicTickFormatter\"},{\"attributes\":{},\"id\":\"7316\",\"type\":\"AllLabels\"}],\"root_ids\":[\"7462\"]},\"title\":\"Bokeh Application\",\"version\":\"2.3.0\"}};\n",
       "  var render_items = [{\"docid\":\"9545c743-4fac-4af6-98a1-7c86b1ac61bf\",\"root_ids\":[\"7462\"],\"roots\":{\"7462\":\"e588d7f1-c7cc-4552-8d72-deeaf76d19a7\"}}];\n",
       "  root.Bokeh.embed.embed_items_notebook(docs_json, render_items);\n",
       "\n",
       "  }\n",
       "  if (root.Bokeh !== undefined) {\n",
       "    embed_document(root);\n",
       "  } else {\n",
       "    var attempts = 0;\n",
       "    var timer = setInterval(function(root) {\n",
       "      if (root.Bokeh !== undefined) {\n",
       "        clearInterval(timer);\n",
       "        embed_document(root);\n",
       "      } else {\n",
       "        attempts++;\n",
       "        if (attempts > 100) {\n",
       "          clearInterval(timer);\n",
       "          console.log(\"Bokeh: ERROR: Unable to run BokehJS code because BokehJS library is missing\");\n",
       "        }\n",
       "      }\n",
       "    }, 10, root)\n",
       "  }\n",
       "})(window);"
      ],
      "application/vnd.bokehjs_exec.v0+json": ""
     },
     "metadata": {
      "application/vnd.bokehjs_exec.v0+json": {
       "id": "7462"
      }
     },
     "output_type": "display_data"
    }
   ],
   "source": [
    "layout = column(p1, p2, p3)\n",
    "# output_file('column.html')\n",
    "show(layout)"
   ]
  },
  {
   "cell_type": "markdown",
   "metadata": {},
   "source": [
    "**Nested Layouts**"
   ]
  },
  {
   "cell_type": "code",
   "execution_count": 45,
   "metadata": {},
   "outputs": [
    {
     "data": {
      "text/html": [
       "\n",
       "\n",
       "\n",
       "\n",
       "\n",
       "\n",
       "  <div class=\"bk-root\" id=\"c28794c6-e06a-465f-a87c-5a3de3336451\" data-root-id=\"7943\"></div>\n"
      ]
     },
     "metadata": {},
     "output_type": "display_data"
    },
    {
     "data": {
      "application/javascript": [
       "(function(root) {\n",
       "  function embed_document(root) {\n",
       "    \n",
       "  var docs_json = {\"6f4bff38-af55-4153-8ce8-a1cd4b4889d1\":{\"defs\":[{\"extends\":null,\"module\":null,\"name\":\"DataModel\",\"overrides\":[],\"properties\":[]}],\"roots\":{\"references\":[{\"attributes\":{\"children\":[{\"id\":\"7942\"},{\"id\":\"6970\"}]},\"id\":\"7943\",\"type\":\"Row\"},{\"attributes\":{},\"id\":\"7321\",\"type\":\"BasicTickFormatter\"},{\"attributes\":{},\"id\":\"7322\",\"type\":\"AllLabels\"},{\"attributes\":{\"source\":{\"id\":\"6893\"}},\"id\":\"6969\",\"type\":\"CDSView\"},{\"attributes\":{},\"id\":\"6935\",\"type\":\"DataRange1d\"},{\"attributes\":{\"fill_alpha\":{\"value\":0.1},\"fill_color\":{\"value\":\"red\"},\"line_alpha\":{\"value\":0.1},\"line_color\":{\"value\":\"red\"},\"x\":{\"field\":\"petal_length\"},\"y\":{\"field\":\"petal_width\"}},\"id\":\"7005\",\"type\":\"Circle\"},{\"attributes\":{\"text\":\"petal length vs. petal width\"},\"id\":\"6971\",\"type\":\"Title\"},{\"attributes\":{\"data_source\":{\"id\":\"6893\"},\"glyph\":{\"id\":\"6966\"},\"hover_glyph\":null,\"muted_glyph\":null,\"nonselection_glyph\":{\"id\":\"6967\"},\"view\":{\"id\":\"6969\"}},\"id\":\"6968\",\"type\":\"GlyphRenderer\"},{\"attributes\":{\"fill_color\":{\"value\":\"red\"},\"line_color\":{\"value\":\"red\"},\"x\":{\"field\":\"petal_length\"},\"y\":{\"field\":\"petal_width\"}},\"id\":\"7004\",\"type\":\"Circle\"},{\"attributes\":{},\"id\":\"7318\",\"type\":\"BasicTickFormatter\"},{\"attributes\":{},\"id\":\"6973\",\"type\":\"DataRange1d\"},{\"attributes\":{},\"id\":\"6994\",\"type\":\"HelpTool\"},{\"attributes\":{\"formatter\":{\"id\":\"7324\"},\"major_label_policy\":{\"id\":\"7325\"},\"ticker\":{\"id\":\"6982\"}},\"id\":\"6981\",\"type\":\"LinearAxis\"},{\"attributes\":{},\"id\":\"6975\",\"type\":\"DataRange1d\"},{\"attributes\":{\"formatter\":{\"id\":\"7321\"},\"major_label_policy\":{\"id\":\"7322\"},\"ticker\":{\"id\":\"6986\"}},\"id\":\"6985\",\"type\":\"LinearAxis\"},{\"attributes\":{},\"id\":\"6977\",\"type\":\"LinearScale\"},{\"attributes\":{},\"id\":\"6982\",\"type\":\"BasicTicker\"},{\"attributes\":{\"axis\":{\"id\":\"6981\"},\"ticker\":null},\"id\":\"6984\",\"type\":\"Grid\"},{\"attributes\":{},\"id\":\"7324\",\"type\":\"BasicTickFormatter\"},{\"attributes\":{},\"id\":\"6979\",\"type\":\"LinearScale\"},{\"attributes\":{},\"id\":\"7325\",\"type\":\"AllLabels\"},{\"attributes\":{\"axis\":{\"id\":\"6985\"},\"dimension\":1,\"ticker\":null},\"id\":\"6988\",\"type\":\"Grid\"},{\"attributes\":{},\"id\":\"6986\",\"type\":\"BasicTicker\"},{\"attributes\":{},\"id\":\"6990\",\"type\":\"WheelZoomTool\"},{\"attributes\":{},\"id\":\"6989\",\"type\":\"PanTool\"},{\"attributes\":{\"overlay\":{\"id\":\"6995\"}},\"id\":\"6991\",\"type\":\"BoxZoomTool\"},{\"attributes\":{\"below\":[{\"id\":\"6943\"}],\"center\":[{\"id\":\"6946\"},{\"id\":\"6950\"}],\"height\":300,\"left\":[{\"id\":\"6947\"}],\"renderers\":[{\"id\":\"6968\"}],\"title\":{\"id\":\"6933\"},\"toolbar\":{\"id\":\"6958\"},\"toolbar_location\":null,\"width\":300,\"x_range\":{\"id\":\"6935\"},\"x_scale\":{\"id\":\"6939\"},\"y_range\":{\"id\":\"6937\"},\"y_scale\":{\"id\":\"6941\"}},\"id\":\"6932\",\"subtype\":\"Figure\",\"type\":\"Plot\"},{\"attributes\":{},\"id\":\"6992\",\"type\":\"SaveTool\"},{\"attributes\":{\"data\":{\"index\":[0,1,2,3,4,5,6,7,8,9,10,11,12,13,14,15,16,17,18,19,20,21,22,23,24,25,26,27,28,29,30,31,32,33,34,35,36,37,38,39,40,41,42,43,44,45,46,47,48,49,50,51,52,53,54,55,56,57,58,59,60,61,62,63,64,65,66,67,68,69,70,71,72,73,74,75,76,77,78,79,80,81,82,83,84,85,86,87,88,89,90,91,92,93,94,95,96,97,98,99,100,101,102,103,104,105,106,107,108,109,110,111,112,113,114,115,116,117,118,119,120,121,122,123,124,125,126,127,128,129,130,131,132,133,134,135,136,137,138,139,140,141,142,143,144,145,146,147,148,149],\"petal_length\":{\"__ndarray__\":\"ZmZmZmZm9j9mZmZmZmb2P83MzMzMzPQ/AAAAAAAA+D9mZmZmZmb2PzMzMzMzM/s/ZmZmZmZm9j8AAAAAAAD4P2ZmZmZmZvY/AAAAAAAA+D8AAAAAAAD4P5qZmZmZmfk/ZmZmZmZm9j+amZmZmZnxPzMzMzMzM/M/AAAAAAAA+D/NzMzMzMz0P2ZmZmZmZvY/MzMzMzMz+z8AAAAAAAD4PzMzMzMzM/s/AAAAAAAA+D8AAAAAAADwPzMzMzMzM/s/ZmZmZmZm/j+amZmZmZn5P5qZmZmZmfk/AAAAAAAA+D9mZmZmZmb2P5qZmZmZmfk/mpmZmZmZ+T8AAAAAAAD4PwAAAAAAAPg/ZmZmZmZm9j8AAAAAAAD4PzMzMzMzM/M/zczMzMzM9D9mZmZmZmb2P83MzMzMzPQ/AAAAAAAA+D/NzMzMzMz0P83MzMzMzPQ/zczMzMzM9D+amZmZmZn5P2ZmZmZmZv4/ZmZmZmZm9j+amZmZmZn5P2ZmZmZmZvY/AAAAAAAA+D9mZmZmZmb2P83MzMzMzBJAAAAAAAAAEkCamZmZmZkTQAAAAAAAABBAZmZmZmZmEkAAAAAAAAASQM3MzMzMzBJAZmZmZmZmCkBmZmZmZmYSQDMzMzMzMw9AAAAAAAAADEDNzMzMzMwQQAAAAAAAABBAzczMzMzMEkDNzMzMzMwMQJqZmZmZmRFAAAAAAAAAEkBmZmZmZmYQQAAAAAAAABJAMzMzMzMzD0AzMzMzMzMTQAAAAAAAABBAmpmZmZmZE0DNzMzMzMwSQDMzMzMzMxFAmpmZmZmZEUAzMzMzMzMTQAAAAAAAABRAAAAAAAAAEkAAAAAAAAAMQGZmZmZmZg5AmpmZmZmZDUAzMzMzMzMPQGZmZmZmZhRAAAAAAAAAEkAAAAAAAAASQM3MzMzMzBJAmpmZmZmZEUBmZmZmZmYQQAAAAAAAABBAmpmZmZmZEUBmZmZmZmYSQAAAAAAAABBAZmZmZmZmCkDNzMzMzMwQQM3MzMzMzBBAzczMzMzMEEAzMzMzMzMRQAAAAAAAAAhAZmZmZmZmEEAAAAAAAAAYQGZmZmZmZhRAmpmZmZmZF0BmZmZmZmYWQDMzMzMzMxdAZmZmZmZmGkAAAAAAAAASQDMzMzMzMxlAMzMzMzMzF0BmZmZmZmYYQGZmZmZmZhRAMzMzMzMzFUAAAAAAAAAWQAAAAAAAABRAZmZmZmZmFEAzMzMzMzMVQAAAAAAAABZAzczMzMzMGkCamZmZmZkbQAAAAAAAABRAzczMzMzMFkCamZmZmZkTQM3MzMzMzBpAmpmZmZmZE0DNzMzMzMwWQAAAAAAAABhAMzMzMzMzE0CamZmZmZkTQGZmZmZmZhZAMzMzMzMzF0BmZmZmZmYYQJqZmZmZmRlAZmZmZmZmFkBmZmZmZmYUQGZmZmZmZhZAZmZmZmZmGEBmZmZmZmYWQAAAAAAAABZAMzMzMzMzE0CamZmZmZkVQGZmZmZmZhZAZmZmZmZmFEBmZmZmZmYUQJqZmZmZmRdAzczMzMzMFkDNzMzMzMwUQAAAAAAAABRAzczMzMzMFECamZmZmZkVQGZmZmZmZhRA\",\"dtype\":\"float64\",\"order\":\"little\",\"shape\":[150]},\"petal_width\":{\"__ndarray__\":\"mpmZmZmZyT+amZmZmZnJP5qZmZmZmck/mpmZmZmZyT+amZmZmZnJP5qZmZmZmdk/MzMzMzMz0z+amZmZmZnJP5qZmZmZmck/mpmZmZmZuT+amZmZmZnJP5qZmZmZmck/mpmZmZmZuT+amZmZmZm5P5qZmZmZmck/mpmZmZmZ2T+amZmZmZnZPzMzMzMzM9M/MzMzMzMz0z8zMzMzMzPTP5qZmZmZmck/mpmZmZmZ2T+amZmZmZnJPwAAAAAAAOA/mpmZmZmZyT+amZmZmZnJP5qZmZmZmdk/mpmZmZmZyT+amZmZmZnJP5qZmZmZmck/mpmZmZmZyT+amZmZmZnZP5qZmZmZmbk/mpmZmZmZyT+amZmZmZnJP5qZmZmZmck/mpmZmZmZyT+amZmZmZm5P5qZmZmZmck/mpmZmZmZyT8zMzMzMzPTPzMzMzMzM9M/mpmZmZmZyT8zMzMzMzPjP5qZmZmZmdk/MzMzMzMz0z+amZmZmZnJP5qZmZmZmck/mpmZmZmZyT+amZmZmZnJP2ZmZmZmZvY/AAAAAAAA+D8AAAAAAAD4P83MzMzMzPQ/AAAAAAAA+D/NzMzMzMz0P5qZmZmZmfk/AAAAAAAA8D/NzMzMzMz0P2ZmZmZmZvY/AAAAAAAA8D8AAAAAAAD4PwAAAAAAAPA/ZmZmZmZm9j/NzMzMzMz0P2ZmZmZmZvY/AAAAAAAA+D8AAAAAAADwPwAAAAAAAPg/mpmZmZmZ8T/NzMzMzMz8P83MzMzMzPQ/AAAAAAAA+D8zMzMzMzPzP83MzMzMzPQ/ZmZmZmZm9j9mZmZmZmb2PzMzMzMzM/s/AAAAAAAA+D8AAAAAAADwP5qZmZmZmfE/AAAAAAAA8D8zMzMzMzPzP5qZmZmZmfk/AAAAAAAA+D+amZmZmZn5PwAAAAAAAPg/zczMzMzM9D/NzMzMzMz0P83MzMzMzPQ/MzMzMzMz8z9mZmZmZmb2PzMzMzMzM/M/AAAAAAAA8D/NzMzMzMz0PzMzMzMzM/M/zczMzMzM9D/NzMzMzMz0P5qZmZmZmfE/zczMzMzM9D8AAAAAAAAEQGZmZmZmZv4/zczMzMzMAEDNzMzMzMz8P5qZmZmZmQFAzczMzMzMAEAzMzMzMzP7P83MzMzMzPw/zczMzMzM/D8AAAAAAAAEQAAAAAAAAABAZmZmZmZm/j/NzMzMzMwAQAAAAAAAAABAMzMzMzMzA0BmZmZmZmYCQM3MzMzMzPw/mpmZmZmZAUBmZmZmZmYCQAAAAAAAAPg/ZmZmZmZmAkAAAAAAAAAAQAAAAAAAAABAzczMzMzM/D/NzMzMzMwAQM3MzMzMzPw/zczMzMzM/D/NzMzMzMz8P83MzMzMzABAmpmZmZmZ+T9mZmZmZmb+PwAAAAAAAABAmpmZmZmZAUAAAAAAAAD4P2ZmZmZmZvY/ZmZmZmZmAkAzMzMzMzMDQM3MzMzMzPw/zczMzMzM/D/NzMzMzMwAQDMzMzMzMwNAZmZmZmZmAkBmZmZmZmb+P2ZmZmZmZgJAAAAAAAAABEBmZmZmZmYCQGZmZmZmZv4/AAAAAAAAAEBmZmZmZmYCQM3MzMzMzPw/\",\"dtype\":\"float64\",\"order\":\"little\",\"shape\":[150]},\"sepal_length\":{\"__ndarray__\":\"ZmZmZmZmFECamZmZmZkTQM3MzMzMzBJAZmZmZmZmEkAAAAAAAAAUQJqZmZmZmRVAZmZmZmZmEkAAAAAAAAAUQJqZmZmZmRFAmpmZmZmZE0CamZmZmZkVQDMzMzMzMxNAMzMzMzMzE0AzMzMzMzMRQDMzMzMzMxdAzczMzMzMFkCamZmZmZkVQGZmZmZmZhRAzczMzMzMFkBmZmZmZmYUQJqZmZmZmRVAZmZmZmZmFEBmZmZmZmYSQGZmZmZmZhRAMzMzMzMzE0AAAAAAAAAUQAAAAAAAABRAzczMzMzMFEDNzMzMzMwUQM3MzMzMzBJAMzMzMzMzE0CamZmZmZkVQM3MzMzMzBRAAAAAAAAAFkCamZmZmZkTQAAAAAAAABRAAAAAAAAAFkCamZmZmZkTQJqZmZmZmRFAZmZmZmZmFEAAAAAAAAAUQAAAAAAAABJAmpmZmZmZEUAAAAAAAAAUQGZmZmZmZhRAMzMzMzMzE0BmZmZmZmYUQGZmZmZmZhJAMzMzMzMzFUAAAAAAAAAUQAAAAAAAABxAmpmZmZmZGUCamZmZmZkbQAAAAAAAABZAAAAAAAAAGkDNzMzMzMwWQDMzMzMzMxlAmpmZmZmZE0BmZmZmZmYaQM3MzMzMzBRAAAAAAAAAFECamZmZmZkXQAAAAAAAABhAZmZmZmZmGEBmZmZmZmYWQM3MzMzMzBpAZmZmZmZmFkAzMzMzMzMXQM3MzMzMzBhAZmZmZmZmFkCamZmZmZkXQGZmZmZmZhhAMzMzMzMzGUBmZmZmZmYYQJqZmZmZmRlAZmZmZmZmGkAzMzMzMzMbQM3MzMzMzBpAAAAAAAAAGEDNzMzMzMwWQAAAAAAAABZAAAAAAAAAFkAzMzMzMzMXQAAAAAAAABhAmpmZmZmZFUAAAAAAAAAYQM3MzMzMzBpAMzMzMzMzGUBmZmZmZmYWQAAAAAAAABZAAAAAAAAAFkBmZmZmZmYYQDMzMzMzMxdAAAAAAAAAFEBmZmZmZmYWQM3MzMzMzBZAzczMzMzMFkDNzMzMzMwYQGZmZmZmZhRAzczMzMzMFkAzMzMzMzMZQDMzMzMzMxdAZmZmZmZmHEAzMzMzMzMZQAAAAAAAABpAZmZmZmZmHkCamZmZmZkTQDMzMzMzMx1AzczMzMzMGkDNzMzMzMwcQAAAAAAAABpAmpmZmZmZGUAzMzMzMzMbQM3MzMzMzBZAMzMzMzMzF0CamZmZmZkZQAAAAAAAABpAzczMzMzMHkDNzMzMzMweQAAAAAAAABhAmpmZmZmZG0BmZmZmZmYWQM3MzMzMzB5AMzMzMzMzGUDNzMzMzMwaQM3MzMzMzBxAzczMzMzMGEBmZmZmZmYYQJqZmZmZmRlAzczMzMzMHECamZmZmZkdQJqZmZmZmR9AmpmZmZmZGUAzMzMzMzMZQGZmZmZmZhhAzczMzMzMHkAzMzMzMzMZQJqZmZmZmRlAAAAAAAAAGECamZmZmZkbQM3MzMzMzBpAmpmZmZmZG0AzMzMzMzMXQDMzMzMzMxtAzczMzMzMGkDNzMzMzMwaQDMzMzMzMxlAAAAAAAAAGkDNzMzMzMwYQJqZmZmZmRdA\",\"dtype\":\"float64\",\"order\":\"little\",\"shape\":[150]},\"sepal_width\":{\"__ndarray__\":\"AAAAAAAADEAAAAAAAAAIQJqZmZmZmQlAzczMzMzMCEDNzMzMzMwMQDMzMzMzMw9AMzMzMzMzC0AzMzMzMzMLQDMzMzMzMwdAzczMzMzMCECamZmZmZkNQDMzMzMzMwtAAAAAAAAACEAAAAAAAAAIQAAAAAAAABBAmpmZmZmZEUAzMzMzMzMPQAAAAAAAAAxAZmZmZmZmDkBmZmZmZmYOQDMzMzMzMwtAmpmZmZmZDUDNzMzMzMwMQGZmZmZmZgpAMzMzMzMzC0AAAAAAAAAIQDMzMzMzMwtAAAAAAAAADEAzMzMzMzMLQJqZmZmZmQlAzczMzMzMCEAzMzMzMzMLQGZmZmZmZhBAzczMzMzMEEDNzMzMzMwIQJqZmZmZmQlAAAAAAAAADEDNzMzMzMwMQAAAAAAAAAhAMzMzMzMzC0AAAAAAAAAMQGZmZmZmZgJAmpmZmZmZCUAAAAAAAAAMQGZmZmZmZg5AAAAAAAAACEBmZmZmZmYOQJqZmZmZmQlAmpmZmZmZDUBmZmZmZmYKQJqZmZmZmQlAmpmZmZmZCUDNzMzMzMwIQGZmZmZmZgJAZmZmZmZmBkBmZmZmZmYGQGZmZmZmZgpAMzMzMzMzA0AzMzMzMzMHQJqZmZmZmQVAAAAAAAAAAEAAAAAAAAAIQJqZmZmZmQFAMzMzMzMzB0AzMzMzMzMHQM3MzMzMzAhAAAAAAAAACECamZmZmZkFQJqZmZmZmQFAAAAAAAAABECamZmZmZkJQGZmZmZmZgZAAAAAAAAABEBmZmZmZmYGQDMzMzMzMwdAAAAAAAAACEBmZmZmZmYGQAAAAAAAAAhAMzMzMzMzB0DNzMzMzMwEQDMzMzMzMwNAMzMzMzMzA0CamZmZmZkFQJqZmZmZmQVAAAAAAAAACEAzMzMzMzMLQM3MzMzMzAhAZmZmZmZmAkAAAAAAAAAIQAAAAAAAAARAzczMzMzMBEAAAAAAAAAIQM3MzMzMzARAZmZmZmZmAkCamZmZmZkFQAAAAAAAAAhAMzMzMzMzB0AzMzMzMzMHQAAAAAAAAARAZmZmZmZmBkBmZmZmZmYKQJqZmZmZmQVAAAAAAAAACEAzMzMzMzMHQAAAAAAAAAhAAAAAAAAACEAAAAAAAAAEQDMzMzMzMwdAAAAAAAAABEDNzMzMzMwMQJqZmZmZmQlAmpmZmZmZBUAAAAAAAAAIQAAAAAAAAARAZmZmZmZmBkCamZmZmZkJQAAAAAAAAAhAZmZmZmZmDkDNzMzMzMwEQJqZmZmZmQFAmpmZmZmZCUBmZmZmZmYGQGZmZmZmZgZAmpmZmZmZBUBmZmZmZmYKQJqZmZmZmQlAZmZmZmZmBkAAAAAAAAAIQGZmZmZmZgZAAAAAAAAACEBmZmZmZmYGQGZmZmZmZg5AZmZmZmZmBkBmZmZmZmYGQM3MzMzMzARAAAAAAAAACEAzMzMzMzMLQM3MzMzMzAhAAAAAAAAACEDNzMzMzMwIQM3MzMzMzAhAzczMzMzMCECamZmZmZkFQJqZmZmZmQlAZmZmZmZmCkAAAAAAAAAIQAAAAAAAAARAAAAAAAAACEAzMzMzMzMLQAAAAAAAAAhA\",\"dtype\":\"float64\",\"order\":\"little\",\"shape\":[150]},\"species\":[\"setosa\",\"setosa\",\"setosa\",\"setosa\",\"setosa\",\"setosa\",\"setosa\",\"setosa\",\"setosa\",\"setosa\",\"setosa\",\"setosa\",\"setosa\",\"setosa\",\"setosa\",\"setosa\",\"setosa\",\"setosa\",\"setosa\",\"setosa\",\"setosa\",\"setosa\",\"setosa\",\"setosa\",\"setosa\",\"setosa\",\"setosa\",\"setosa\",\"setosa\",\"setosa\",\"setosa\",\"setosa\",\"setosa\",\"setosa\",\"setosa\",\"setosa\",\"setosa\",\"setosa\",\"setosa\",\"setosa\",\"setosa\",\"setosa\",\"setosa\",\"setosa\",\"setosa\",\"setosa\",\"setosa\",\"setosa\",\"setosa\",\"setosa\",\"versicolor\",\"versicolor\",\"versicolor\",\"versicolor\",\"versicolor\",\"versicolor\",\"versicolor\",\"versicolor\",\"versicolor\",\"versicolor\",\"versicolor\",\"versicolor\",\"versicolor\",\"versicolor\",\"versicolor\",\"versicolor\",\"versicolor\",\"versicolor\",\"versicolor\",\"versicolor\",\"versicolor\",\"versicolor\",\"versicolor\",\"versicolor\",\"versicolor\",\"versicolor\",\"versicolor\",\"versicolor\",\"versicolor\",\"versicolor\",\"versicolor\",\"versicolor\",\"versicolor\",\"versicolor\",\"versicolor\",\"versicolor\",\"versicolor\",\"versicolor\",\"versicolor\",\"versicolor\",\"versicolor\",\"versicolor\",\"versicolor\",\"versicolor\",\"versicolor\",\"versicolor\",\"versicolor\",\"versicolor\",\"versicolor\",\"versicolor\",\"virginica\",\"virginica\",\"virginica\",\"virginica\",\"virginica\",\"virginica\",\"virginica\",\"virginica\",\"virginica\",\"virginica\",\"virginica\",\"virginica\",\"virginica\",\"virginica\",\"virginica\",\"virginica\",\"virginica\",\"virginica\",\"virginica\",\"virginica\",\"virginica\",\"virginica\",\"virginica\",\"virginica\",\"virginica\",\"virginica\",\"virginica\",\"virginica\",\"virginica\",\"virginica\",\"virginica\",\"virginica\",\"virginica\",\"virginica\",\"virginica\",\"virginica\",\"virginica\",\"virginica\",\"virginica\",\"virginica\",\"virginica\",\"virginica\",\"virginica\",\"virginica\",\"virginica\",\"virginica\",\"virginica\",\"virginica\",\"virginica\",\"virginica\"]},\"selected\":{\"id\":\"7328\"},\"selection_policy\":{\"id\":\"7327\"}},\"id\":\"6893\",\"type\":\"ColumnDataSource\"},{\"attributes\":{},\"id\":\"6993\",\"type\":\"ResetTool\"},{\"attributes\":{},\"id\":\"7327\",\"type\":\"UnionRenderers\"},{\"attributes\":{\"fill_alpha\":{\"value\":0.1},\"fill_color\":{\"value\":\"green\"},\"line_alpha\":{\"value\":0.1},\"line_color\":{\"value\":\"green\"},\"x\":{\"field\":\"petal_length\"},\"y\":{\"field\":\"sepal_width\"}},\"id\":\"6967\",\"type\":\"Circle\"},{\"attributes\":{},\"id\":\"6913\",\"type\":\"PanTool\"},{\"attributes\":{\"text\":\"petal length vs. sepal width\"},\"id\":\"6933\",\"type\":\"Title\"},{\"attributes\":{\"fill_alpha\":{\"value\":0.1},\"fill_color\":{\"value\":\"blue\"},\"line_alpha\":{\"value\":0.1},\"line_color\":{\"value\":\"blue\"},\"x\":{\"field\":\"petal_length\"},\"y\":{\"field\":\"sepal_length\"}},\"id\":\"6929\",\"type\":\"Circle\"},{\"attributes\":{\"below\":[{\"id\":\"6905\"}],\"center\":[{\"id\":\"6908\"},{\"id\":\"6912\"}],\"height\":300,\"left\":[{\"id\":\"6909\"}],\"renderers\":[{\"id\":\"6930\"}],\"title\":{\"id\":\"6895\"},\"toolbar\":{\"id\":\"6920\"},\"toolbar_location\":null,\"width\":300,\"x_range\":{\"id\":\"6897\"},\"x_scale\":{\"id\":\"6901\"},\"y_range\":{\"id\":\"6899\"},\"y_scale\":{\"id\":\"6903\"}},\"id\":\"6894\",\"subtype\":\"Figure\",\"type\":\"Plot\"},{\"attributes\":{\"axis\":{\"id\":\"6905\"},\"ticker\":null},\"id\":\"6908\",\"type\":\"Grid\"},{\"attributes\":{\"fill_color\":{\"value\":\"green\"},\"line_color\":{\"value\":\"green\"},\"x\":{\"field\":\"petal_length\"},\"y\":{\"field\":\"sepal_width\"}},\"id\":\"6966\",\"type\":\"Circle\"},{\"attributes\":{},\"id\":\"7328\",\"type\":\"Selection\"},{\"attributes\":{\"below\":[{\"id\":\"6981\"}],\"center\":[{\"id\":\"6984\"},{\"id\":\"6988\"}],\"height\":300,\"left\":[{\"id\":\"6985\"}],\"renderers\":[{\"id\":\"7006\"}],\"title\":{\"id\":\"6971\"},\"toolbar\":{\"id\":\"6996\"},\"toolbar_location\":null,\"width\":300,\"x_range\":{\"id\":\"6973\"},\"x_scale\":{\"id\":\"6977\"},\"y_range\":{\"id\":\"6975\"},\"y_scale\":{\"id\":\"6979\"}},\"id\":\"6970\",\"subtype\":\"Figure\",\"type\":\"Plot\"},{\"attributes\":{},\"id\":\"6916\",\"type\":\"SaveTool\"},{\"attributes\":{},\"id\":\"6914\",\"type\":\"WheelZoomTool\"},{\"attributes\":{\"text\":\"petal length vs. sepal length\"},\"id\":\"6895\",\"type\":\"Title\"},{\"attributes\":{},\"id\":\"6956\",\"type\":\"HelpTool\"},{\"attributes\":{\"fill_color\":{\"value\":\"blue\"},\"line_color\":{\"value\":\"blue\"},\"x\":{\"field\":\"petal_length\"},\"y\":{\"field\":\"sepal_length\"}},\"id\":\"6928\",\"type\":\"Circle\"},{\"attributes\":{\"formatter\":{\"id\":\"7312\"},\"major_label_policy\":{\"id\":\"7313\"},\"ticker\":{\"id\":\"6906\"}},\"id\":\"6905\",\"type\":\"LinearAxis\"},{\"attributes\":{},\"id\":\"7319\",\"type\":\"AllLabels\"},{\"attributes\":{},\"id\":\"6955\",\"type\":\"ResetTool\"},{\"attributes\":{},\"id\":\"6899\",\"type\":\"DataRange1d\"},{\"attributes\":{\"formatter\":{\"id\":\"7309\"},\"major_label_policy\":{\"id\":\"7310\"},\"ticker\":{\"id\":\"6910\"}},\"id\":\"6909\",\"type\":\"LinearAxis\"},{\"attributes\":{\"bottom_units\":\"screen\",\"fill_alpha\":0.5,\"fill_color\":\"lightgrey\",\"left_units\":\"screen\",\"level\":\"overlay\",\"line_alpha\":1.0,\"line_color\":\"black\",\"line_dash\":[4,4],\"line_width\":2,\"right_units\":\"screen\",\"syncable\":false,\"top_units\":\"screen\"},\"id\":\"6957\",\"type\":\"BoxAnnotation\"},{\"attributes\":{\"axis\":{\"id\":\"6909\"},\"dimension\":1,\"ticker\":null},\"id\":\"6912\",\"type\":\"Grid\"},{\"attributes\":{},\"id\":\"6910\",\"type\":\"BasicTicker\"},{\"attributes\":{},\"id\":\"6954\",\"type\":\"SaveTool\"},{\"attributes\":{},\"id\":\"6903\",\"type\":\"LinearScale\"},{\"attributes\":{\"overlay\":{\"id\":\"6957\"}},\"id\":\"6953\",\"type\":\"BoxZoomTool\"},{\"attributes\":{\"data_source\":{\"id\":\"6893\"},\"glyph\":{\"id\":\"7004\"},\"hover_glyph\":null,\"muted_glyph\":null,\"nonselection_glyph\":{\"id\":\"7005\"},\"view\":{\"id\":\"7007\"}},\"id\":\"7006\",\"type\":\"GlyphRenderer\"},{\"attributes\":{\"active_multi\":null,\"tools\":[{\"id\":\"6913\"},{\"id\":\"6914\"},{\"id\":\"6915\"},{\"id\":\"6916\"},{\"id\":\"6917\"},{\"id\":\"6918\"}]},\"id\":\"6920\",\"type\":\"Toolbar\"},{\"attributes\":{},\"id\":\"6951\",\"type\":\"PanTool\"},{\"attributes\":{},\"id\":\"6897\",\"type\":\"DataRange1d\"},{\"attributes\":{},\"id\":\"6952\",\"type\":\"WheelZoomTool\"},{\"attributes\":{},\"id\":\"6901\",\"type\":\"LinearScale\"},{\"attributes\":{},\"id\":\"6906\",\"type\":\"BasicTicker\"},{\"attributes\":{\"overlay\":{\"id\":\"6919\"}},\"id\":\"6915\",\"type\":\"BoxZoomTool\"},{\"attributes\":{},\"id\":\"6948\",\"type\":\"BasicTicker\"},{\"attributes\":{\"axis\":{\"id\":\"6947\"},\"dimension\":1,\"ticker\":null},\"id\":\"6950\",\"type\":\"Grid\"},{\"attributes\":{\"source\":{\"id\":\"6893\"}},\"id\":\"7007\",\"type\":\"CDSView\"},{\"attributes\":{\"active_multi\":null,\"tools\":[{\"id\":\"6989\"},{\"id\":\"6990\"},{\"id\":\"6991\"},{\"id\":\"6992\"},{\"id\":\"6993\"},{\"id\":\"6994\"}]},\"id\":\"6996\",\"type\":\"Toolbar\"},{\"attributes\":{\"axis\":{\"id\":\"6943\"},\"ticker\":null},\"id\":\"6946\",\"type\":\"Grid\"},{\"attributes\":{\"bottom_units\":\"screen\",\"fill_alpha\":0.5,\"fill_color\":\"lightgrey\",\"left_units\":\"screen\",\"level\":\"overlay\",\"line_alpha\":1.0,\"line_color\":\"black\",\"line_dash\":[4,4],\"line_width\":2,\"right_units\":\"screen\",\"syncable\":false,\"top_units\":\"screen\"},\"id\":\"6995\",\"type\":\"BoxAnnotation\"},{\"attributes\":{},\"id\":\"6941\",\"type\":\"LinearScale\"},{\"attributes\":{},\"id\":\"6944\",\"type\":\"BasicTicker\"},{\"attributes\":{},\"id\":\"6937\",\"type\":\"DataRange1d\"},{\"attributes\":{},\"id\":\"6939\",\"type\":\"LinearScale\"},{\"attributes\":{\"formatter\":{\"id\":\"7315\"},\"major_label_policy\":{\"id\":\"7316\"},\"ticker\":{\"id\":\"6948\"}},\"id\":\"6947\",\"type\":\"LinearAxis\"},{\"attributes\":{\"formatter\":{\"id\":\"7318\"},\"major_label_policy\":{\"id\":\"7319\"},\"ticker\":{\"id\":\"6944\"}},\"id\":\"6943\",\"type\":\"LinearAxis\"},{\"attributes\":{\"children\":[{\"id\":\"6894\"},{\"id\":\"6932\"}]},\"id\":\"7942\",\"type\":\"Column\"},{\"attributes\":{\"source\":{\"id\":\"6893\"}},\"id\":\"6931\",\"type\":\"CDSView\"},{\"attributes\":{},\"id\":\"6918\",\"type\":\"HelpTool\"},{\"attributes\":{\"bottom_units\":\"screen\",\"fill_alpha\":0.5,\"fill_color\":\"lightgrey\",\"left_units\":\"screen\",\"level\":\"overlay\",\"line_alpha\":1.0,\"line_color\":\"black\",\"line_dash\":[4,4],\"line_width\":2,\"right_units\":\"screen\",\"syncable\":false,\"top_units\":\"screen\"},\"id\":\"6919\",\"type\":\"BoxAnnotation\"},{\"attributes\":{},\"id\":\"6917\",\"type\":\"ResetTool\"},{\"attributes\":{},\"id\":\"7309\",\"type\":\"BasicTickFormatter\"},{\"attributes\":{},\"id\":\"7310\",\"type\":\"AllLabels\"},{\"attributes\":{\"active_multi\":null,\"tools\":[{\"id\":\"6951\"},{\"id\":\"6952\"},{\"id\":\"6953\"},{\"id\":\"6954\"},{\"id\":\"6955\"},{\"id\":\"6956\"}]},\"id\":\"6958\",\"type\":\"Toolbar\"},{\"attributes\":{\"data_source\":{\"id\":\"6893\"},\"glyph\":{\"id\":\"6928\"},\"hover_glyph\":null,\"muted_glyph\":null,\"nonselection_glyph\":{\"id\":\"6929\"},\"view\":{\"id\":\"6931\"}},\"id\":\"6930\",\"type\":\"GlyphRenderer\"},{\"attributes\":{},\"id\":\"7312\",\"type\":\"BasicTickFormatter\"},{\"attributes\":{},\"id\":\"7313\",\"type\":\"AllLabels\"},{\"attributes\":{},\"id\":\"7315\",\"type\":\"BasicTickFormatter\"},{\"attributes\":{},\"id\":\"7316\",\"type\":\"AllLabels\"}],\"root_ids\":[\"7943\"]},\"title\":\"Bokeh Application\",\"version\":\"2.3.0\"}};\n",
       "  var render_items = [{\"docid\":\"6f4bff38-af55-4153-8ce8-a1cd4b4889d1\",\"root_ids\":[\"7943\"],\"roots\":{\"7943\":\"c28794c6-e06a-465f-a87c-5a3de3336451\"}}];\n",
       "  root.Bokeh.embed.embed_items_notebook(docs_json, render_items);\n",
       "\n",
       "  }\n",
       "  if (root.Bokeh !== undefined) {\n",
       "    embed_document(root);\n",
       "  } else {\n",
       "    var attempts = 0;\n",
       "    var timer = setInterval(function(root) {\n",
       "      if (root.Bokeh !== undefined) {\n",
       "        clearInterval(timer);\n",
       "        embed_document(root);\n",
       "      } else {\n",
       "        attempts++;\n",
       "        if (attempts > 100) {\n",
       "          clearInterval(timer);\n",
       "          console.log(\"Bokeh: ERROR: Unable to run BokehJS code because BokehJS library is missing\");\n",
       "        }\n",
       "      }\n",
       "    }, 10, root)\n",
       "  }\n",
       "})(window);"
      ],
      "application/vnd.bokehjs_exec.v0+json": ""
     },
     "metadata": {
      "application/vnd.bokehjs_exec.v0+json": {
       "id": "7943"
      }
     },
     "output_type": "display_data"
    }
   ],
   "source": [
    "layout = row(column(p1, p2), p3)\n",
    "# output_file('nested.html')\n",
    "show(layout)"
   ]
  },
  {
   "cell_type": "markdown",
   "metadata": {},
   "source": [
    "### Creating rows of plots\n",
    "\n",
    "Layouts are collections of Bokeh figure objects.\n",
    "\n",
    "In this exercise, you're going to create two plots from the Literacy and Birth Rate data set to plot fertility vs female literacy and population vs female literacy.\n",
    "\n",
    "By using the `row()` method, you'll create a single layout of the two figures.\n",
    "\n",
    "Remember, as in the previous chapter, once you have created your figures, you can interact with them in various ways.\n",
    "\n",
    "In this exercise, you may have to scroll sideways to view both figures in the row layout. Alternatively, you can view the figures in a new window by clicking on the expand icon to the right of the \"Bokeh plot\" tab.\n",
    "\n",
    "**Instructions**\n",
    "\n",
    "* Import `row` from the `bokeh.layouts` module.\n",
    "* Create a new figure `p1` using the `figure()` function and specifying the two parameters `x_axis_label` and `y_axis_label`.\n",
    "* Add a circle glyph to `p1`. The x-axis data is `'fertility'` and y-axis data is `'female_literacy'`. Be sure to also specify `source=source`.\n",
    "* Create a new figure `p2` using the `figure()` function and specifying the two parameters `x_axis_label` and `y_axis_label`.\n",
    "* Add a `circle()` glyph to `p2`, specifying the `x` and `y` parameters.\n",
    "* Put `p1` and `p2` into a horizontal layout using `row()`.\n",
    "* Click 'Submit Answer' to output the file and show the figure."
   ]
  },
  {
   "cell_type": "code",
   "execution_count": 46,
   "metadata": {},
   "outputs": [
    {
     "data": {
      "text/html": [
       "<div>\n",
       "<style scoped>\n",
       "    .dataframe tbody tr th:only-of-type {\n",
       "        vertical-align: middle;\n",
       "    }\n",
       "\n",
       "    .dataframe tbody tr th {\n",
       "        vertical-align: top;\n",
       "    }\n",
       "\n",
       "    .dataframe thead th {\n",
       "        text-align: right;\n",
       "    }\n",
       "</style>\n",
       "<table border=\"1\" class=\"dataframe\">\n",
       "  <thead>\n",
       "    <tr style=\"text-align: right;\">\n",
       "      <th></th>\n",
       "      <th>Country</th>\n",
       "      <th>Continent</th>\n",
       "      <th>female literacy</th>\n",
       "      <th>fertility</th>\n",
       "      <th>population</th>\n",
       "    </tr>\n",
       "  </thead>\n",
       "  <tbody>\n",
       "    <tr>\n",
       "      <th>0</th>\n",
       "      <td>Chine</td>\n",
       "      <td>ASI</td>\n",
       "      <td>90.5</td>\n",
       "      <td>1.769</td>\n",
       "      <td>1.324655e+09</td>\n",
       "    </tr>\n",
       "    <tr>\n",
       "      <th>1</th>\n",
       "      <td>Inde</td>\n",
       "      <td>ASI</td>\n",
       "      <td>50.8</td>\n",
       "      <td>2.682</td>\n",
       "      <td>1.139965e+09</td>\n",
       "    </tr>\n",
       "    <tr>\n",
       "      <th>2</th>\n",
       "      <td>USA</td>\n",
       "      <td>NAM</td>\n",
       "      <td>99.0</td>\n",
       "      <td>2.077</td>\n",
       "      <td>3.040600e+08</td>\n",
       "    </tr>\n",
       "    <tr>\n",
       "      <th>3</th>\n",
       "      <td>Indonésie</td>\n",
       "      <td>ASI</td>\n",
       "      <td>88.8</td>\n",
       "      <td>2.132</td>\n",
       "      <td>2.273451e+08</td>\n",
       "    </tr>\n",
       "    <tr>\n",
       "      <th>4</th>\n",
       "      <td>Brésil</td>\n",
       "      <td>LAT</td>\n",
       "      <td>90.2</td>\n",
       "      <td>1.827</td>\n",
       "      <td>1.919715e+08</td>\n",
       "    </tr>\n",
       "  </tbody>\n",
       "</table>\n",
       "</div>"
      ],
      "text/plain": [
       "     Country Continent  female literacy  fertility    population\n",
       "0      Chine       ASI             90.5      1.769  1.324655e+09\n",
       "1       Inde       ASI             50.8      2.682  1.139965e+09\n",
       "2        USA       NAM             99.0      2.077  3.040600e+08\n",
       "3  Indonésie       ASI             88.8      2.132  2.273451e+08\n",
       "4     Brésil       LAT             90.2      1.827  1.919715e+08"
      ]
     },
     "execution_count": 46,
     "metadata": {},
     "output_type": "execute_result"
    }
   ],
   "source": [
    "lit.head()"
   ]
  },
  {
   "cell_type": "code",
   "execution_count": 47,
   "metadata": {},
   "outputs": [
    {
     "data": {
      "text/html": [
       "\n",
       "\n",
       "\n",
       "\n",
       "\n",
       "\n",
       "  <div class=\"bk-root\" id=\"9089d15d-cca7-414c-b83d-59c336322463\" data-root-id=\"8522\"></div>\n"
      ]
     },
     "metadata": {},
     "output_type": "display_data"
    },
    {
     "data": {
      "application/javascript": [
       "(function(root) {\n",
       "  function embed_document(root) {\n",
       "    \n",
       "  var docs_json = {\"a48ecbff-4aec-4a7b-ac18-3e35d5d3395d\":{\"defs\":[{\"extends\":null,\"module\":null,\"name\":\"DataModel\",\"overrides\":[],\"properties\":[]}],\"roots\":{\"references\":[{\"attributes\":{\"children\":[{\"id\":\"8450\"},{\"id\":\"8486\"}]},\"id\":\"8522\",\"type\":\"Row\"},{\"attributes\":{\"overlay\":{\"id\":\"8509\"}},\"id\":\"8505\",\"type\":\"BoxZoomTool\"},{\"attributes\":{\"data_source\":{\"id\":\"8449\"},\"glyph\":{\"id\":\"8518\"},\"hover_glyph\":null,\"muted_glyph\":null,\"nonselection_glyph\":{\"id\":\"8519\"},\"view\":{\"id\":\"8521\"}},\"id\":\"8520\",\"type\":\"GlyphRenderer\"},{\"attributes\":{},\"id\":\"8506\",\"type\":\"SaveTool\"},{\"attributes\":{},\"id\":\"8903\",\"type\":\"AllLabels\"},{\"attributes\":{},\"id\":\"8507\",\"type\":\"ResetTool\"},{\"attributes\":{\"below\":[{\"id\":\"8495\"}],\"center\":[{\"id\":\"8498\"},{\"id\":\"8502\"}],\"height\":300,\"left\":[{\"id\":\"8499\"}],\"renderers\":[{\"id\":\"8520\"}],\"title\":{\"id\":\"8900\"},\"toolbar\":{\"id\":\"8510\"},\"x_range\":{\"id\":\"8487\"},\"x_scale\":{\"id\":\"8491\"},\"y_range\":{\"id\":\"8489\"},\"y_scale\":{\"id\":\"8493\"}},\"id\":\"8486\",\"subtype\":\"Figure\",\"type\":\"Plot\"},{\"attributes\":{\"fill_alpha\":{\"value\":0.1},\"fill_color\":{\"value\":\"#1f77b4\"},\"line_alpha\":{\"value\":0.1},\"line_color\":{\"value\":\"#1f77b4\"},\"x\":{\"field\":\"population\"},\"y\":{\"field\":\"female literacy\"}},\"id\":\"8519\",\"type\":\"Circle\"},{\"attributes\":{\"fill_color\":{\"value\":\"#1f77b4\"},\"line_color\":{\"value\":\"#1f77b4\"},\"x\":{\"field\":\"fertility\"},\"y\":{\"field\":\"female literacy\"}},\"id\":\"8482\",\"type\":\"Circle\"},{\"attributes\":{\"data\":{\"Continent\":[\"ASI\",\"ASI\",\"NAM\",\"ASI\",\"LAT\",\"ASI\",\"ASI\",\"AF\",\"EUR\",\"ASI\",\"LAT\",\"ASI\",\"ASI\",\"EUR\",\"AF\",\"AF\",\"ASI\",\"ASI\",\"ASI\",\"AF\",\"EUR\",\"EUR\",\"EUR\",\"ASI\",\"AF\",\"ASI\",\"EUR\",\"EUR\",\"LAT\",\"AF\",\"AF\",\"LAT\",\"AF\",\"EUR\",\"AF\",\"NAM\",\"AF\",\"AF\",\"ASI\",\"ASI\",\"LAT\",\"ASI\",\"LAT\",\"ASI\",\"ASI\",\"ASI\",\"ASI\",\"AF\",\"ASI\",\"AF\",\"EUR\",\"AF\",\"ASI\",\"ASI\",\"AF\",\"AF\",\"AF\",\"LAT\",\"EUR\",\"ASI\",\"AF\",\"AF\",\"AF\",\"ASI\",\"LAT\",\"LAT\",\"AF\",\"AF\",\"AF\",\"AF\",\"EUR\",\"LAT\",\"AF\",\"EUR\",\"EUR\",\"EUR\",\"AF\",\"EUR\",\"LAT\",\"AF\",\"AF\",\"LAT\",\"EUR\",\"EUR\",\"ASI\",\"AF\",\"AF\",\"EUR\",\"EUR\",\"EUR\",\"LAT\",\"ASI\",\"ASI\",\"OCE\",\"AF\",\"AF\",\"LAT\",\"ASI\",\"LAT\",\"ASI\",\"LAT\",\"AF\",\"EUR\",\"EUR\",\"ASI\",\"ASI\",\"AF\",\"ASI\",\"EUR\",\"LAT\",\"ASI\",\"EUR\",\"EUR\",\"AF\",\"ASI\",\"OCE\",\"ASI\",\"AF\",\"EUR\",\"EUR\",\"LAT\",\"EUR\",\"LAT\",\"AF\",\"EUR\",\"ASI\",\"ASI\",\"ASI\",\"LAT\",\"ASI\",\"EUR\",\"AF\",\"AF\",\"EUR\",\"EUR\",\"AF\",\"AF\",\"AF\",\"AF\",\"EUR\",\"LAT\",\"ASI\",\"AF\",\"AF\",\"EUR\",\"ASI\",\"ASI\",\"AF\",\"AF\",\"ASI\",\"LAT\",\"AF\",\"EUR\",\"ASI\",\"LAT\",\"EUR\",\"ASI\",\"OCE\",\"OCE\",\"AF\",\"LAT\",\"ASI\"],\"Country\":[\"Chine\",\"Inde\",\"USA\",\"Indon\\u00e9sie\",\"Br\\u00e9sil\",\"Pakistan\",\"Bangladesh\",\"Nig\\u00e9ria\",\"F\\u00e9d\\u00e9ration de Russie\",\"Japan\",\"Mexique\",\"Philippines\",\"Viet Nam\",\"Germany\",\"Egypte\",\"Ethiopie\",\"Turquie\",\"Iran, R\\u00e9publique islamique d'\",\"Tha\\u00eflande\",\"R\\u00e9p. D\\u00e9mocratique du Congo\",\"France\",\"UK\",\"Italie\",\"Myanmar\",\"Afrique du Sud\",\"South Korea\",\"Ukraine\",\"Espagne\",\"Colombie\",\"R\\u00e9publique-Unie de Tanzanie\",\"Soudan\",\"Argentine\",\"Kenya\",\"Pologne\",\"Alg\\u00e9rie\",\"Canada\",\"Ouganda\",\"Maroc\",\"Iraq\",\"Afghanistan\",\"P\\u00e9rou\",\"N\\u00e9pal\",\"Venezuela\",\"Ouzb\\u00e9kistan\",\"Malaisie\",\"Arabie saoudite\",\"R\\u00e9p. populaire d\\u00e9mocratique de Cor\\u00e9e\",\"Ghana\",\"Y\\u00e9men\",\"Mozambique\",\"Roumanie\",\"C\\u00f4te d'Ivoire\",\"R\\u00e9publique arabe syrienne\",\"Sri Lanka\",\"Madagascar\",\"Cameroun\",\"Angola\",\"Chili\",\"Netherlands\",\"Kazakhstan\",\"Burkina Faso\",\"Malawi\",\"Niger\",\"Cambodge\",\"Guatemala\",\"Equateur\",\"Mali\",\"Zambie\",\"Zimbabwe\",\"S\\u00e9n\\u00e9gal\",\"Gr\\u00e8ce\",\"Cuba\",\"Tchad\",\"Belgium\",\"Portugal\",\"Czech rep\",\"Tunisie\",\"Hongrie\",\"R\\u00e9publique dominicaine\",\"Guin\\u00e9e\",\"Rwanda\",\"Bolivie\",\"B\\u00e9larus\",\"Sweden\",\"Azerba\\u00efdjan\",\"B\\u00e9nin\",\"Burundi\",\"Switzerland\",\"Bulgarie\",\"Serbie\",\"Honduras\",\"Israel\",\"Tadjikistan\",\"Papouasie-Nouvelle-Guin\\u00e9e\",\"Togo\",\"Jamahiriya arabe libyenne\",\"Paraguay\",\"R\\u00e9p. d\\u00e9mocratique populaire lao\",\"El Salvador\",\"Jordanie\",\"Nicaragua\",\"Sierra Leone\",\"Denmark\",\"Finland\",\"Kirghizistan\",\"Turkm\\u00e9nistan\",\"Erythr\\u00e9e\",\"Singapour\",\"Norway\",\"Costa Rica\",\"Emirats arabes unis\",\"Croatie\",\"Ireland\",\"R\\u00e9publique centrafricaine\",\"G\\u00e9orgie\",\"New Zealand\",\"Liban\",\"Lib\\u00e9ria\",\"Bosnie-Herz\\u00e9govine\",\"R\\u00e9publique de Moldova\",\"Panama\",\"Lituanie\",\"Uruguay\",\"Mauritanie\",\"Albanie\",\"Arm\\u00e9nie\",\"Oman\",\"Kowe\\u00eft\",\"Jama\\u00efque\",\"Mongolie\",\"Lettonie\",\"Namibie\",\"Lesotho\",\"L'ex-R\\u00e9p. yougoslave de Mac\\u00e9doine\",\"Slov\\u00e9nie\",\"Botswana\",\"Gambie\",\"Guin\\u00e9e-Bissau\",\"Gabon\",\"Estonie\",\"Trinit\\u00e9-et-Tobago\",\"Qatar\",\"Maurice\",\"Swaziland\",\"Chypre\",\"Bahre\\u00efn\",\"Bhoutan\",\"Guin\\u00e9e \\u00e9quatoriale\",\"Comores\",\"Macao, Chine\",\"Suriname\",\"Cap-Vert\",\"Malte\",\"Brun\\u00e9i Darussalam\",\"Bahamas\",\"Iceland\",\"Maldives\",\"Vanuatu\",\"Samoa\",\"Sao Tom\\u00e9-et-Principe\",\"Aruba\",\"Tonga\"],\"female literacy\":{\"__ndarray__\":\"AAAAAACgVkBmZmZmZmZJQAAAAAAAwFhAMzMzMzMzVkDNzMzMzIxWQAAAAAAAAERAZmZmZmbmSEBmZmZmZmZIQJqZmZmZ2VhAAAAAAADAWEAAAAAAAOBWQJqZmZmZeVdAzczMzMyMVkAAAAAAAMBYQGZmZmZm5kxAzczMzMzMNkAzMzMzM1NUQM3MzMzMTFNAAAAAAADgVkDNzMzMzAxMQAAAAAAAwFhAAAAAAADAWEAAAAAAAKBYQM3MzMzMTFZAZmZmZmYGVkBmZmZmZiZYQGZmZmZm5lhAmpmZmZk5WECamZmZmVlXQDMzMzMzk1BAzczMzMzMTUDNzMzMzGxYQDMzMzMzs1RAMzMzMzPTWEAzMzMzM/NPQAAAAAAAwFhAMzMzMzOzUEDNzMzMzAxGQM3MzMzMTFFAMzMzMzMzKUBmZmZmZiZVQDMzMzMzs0ZAmpmZmZm5V0CamZmZmblYQDMzMzMzc1ZAzczMzMwMVEAAAAAAAABZQGZmZmZmpk1AZmZmZmZmRUDNzMzMzAxEQJqZmZmZOVhAZmZmZmYmRkDNzMzMzExTQGZmZmZmRlZAMzMzMzNTUEAzMzMzM/NQQAAAAAAAgExAzczMzMysWEAAAAAAAMBYQAAAAAAA4FhAmpmZmZmZNUAzMzMzM3NQQDMzMzMzMy5AmpmZmZm5UUDNzMzMzCxRQM3MzMzMbFRAMzMzMzMzMkAAAAAAAIBOQDMzMzMzM1ZAAAAAAACAQECamZmZmflXQDMzMzMz81hAZmZmZmbmNUAAAAAAAMBYQJqZmZmZOVdAAAAAAADAWEAAAAAAAMBRQJqZmZmZuVhAMzMzMzMTVkBmZmZmZmY6QGZmZmZmhlBAAAAAAACAVUDNzMzMzOxYQAAAAAAAwFhAzczMzMzMWECamZmZmRk8QDMzMzMz801AAAAAAADAWECamZmZmXlYQM3MzMzMDFhAAAAAAADgVECamZmZmflXQAAAAAAA4FhAzczMzMzMS0CamZmZmdlKQDMzMzMzU1RAAAAAAABgV0CamZmZmZlPQJqZmZmZWVRAmpmZmZk5VkCamZmZmXlTQGZmZmZm5jxAAAAAAADAWEAAAAAAAABZQGZmZmZmxlhAMzMzMzPTWEAAAAAAAEBLQGZmZmZm5lZAAAAAAAAAWUDNzMzMzAxYQAAAAAAA4FZAAAAAAACAWEAAAAAAAMBYQM3MzMzMjERAzczMzMzsWEAAAAAAAMBYQAAAAAAAgFVAAAAAAACASkCamZmZmflXQDMzMzMzc1hAMzMzMzMzV0DNzMzMzOxYQAAAAAAAoFhAAAAAAADASEDNzMzMzKxYQJqZmZmZ2VhAmpmZmZk5VEBmZmZmZkZXQDMzMzMzs1ZAMzMzMzNzWEAzMzMzM/NYQM3MzMzM7FVAZmZmZmbGV0CamZmZmdlXQM3MzMzM7FhAAAAAAADgVEBmZmZmZiZBQAAAAAAAQEJAzczMzMzMVEAzMzMzM/NYQM3MzMzMjFhAmpmZmZmZVkAzMzMzMzNVQGZmZmZmZlVAzczMzMwsWECamZmZmVlWQJqZmZmZWUNAZmZmZmZGVkAzMzMzM/NQQM3MzMzMrFZAmpmZmZkZVkAzMzMzM9NTQAAAAAAAYFdAMzMzMzNTV0AAAAAAACBYQAAAAAAAwFhAmpmZmZmZWEAAAAAAAOBTQAAAAAAAoFhAMzMzMzPTVEAAAAAAAIBYQGZmZmZmxlhA\",\"dtype\":\"float64\",\"order\":\"little\",\"shape\":[162]},\"fertility\":{\"__ndarray__\":\"5/up8dJN/D/b+X5qvHQFQARWDi2ynQBAdZMYBFYOAUAIrBxaZDv9P2Dl0CLb+Q5A5/up8dJNAkD+1HjpJrEUQH0/NV66SfY//tR46SYx9D9zaJHtfD8BQGiR7Xw/NQhA3SQGgZVDAEDJdr6fGi/1P7pJDAIrhwZA8tJNYhDYFEDNzMzMzMwAQOXQItv5fvw/9P3UeOkm/T9vEoPAyqEXQH9qvHSTGP4/bxKDwMqh/T89CtejcD32P3Noke18PwJACtejcD0KBEAv3SQGgZXzPy2yne+nxvU/sHJoke189z8IrBxaZDsDQBSuR+F6FBZACKwcWmQ7EEBiEFg5tMgBQFYOLbKdbxNAEoPAyqFF9D8j2/l+arwCQN0kBoGVQ/k/arx0kxgEGUB56SYxCKwCQOOlm8QgsA9AhetRuB4FGkA9CtejcD0EQC/dJAaBlQZAlkOLbOf7A0CWQ4ts5/sBQKrx0k1iEARAUrgehetRCEBEi2zn+6n9P+F6FK5H4RBAZmZmZmZmFECR7Xw/Nd4TQDMzMzMzM/U/dZMYBFYOEkD8qfHSTWIJQBBYObTIdgJAexSuR+F6EkBEi2zn+ykSQD81XrpJjBZAN4lBYOXQ/j/ByqFFtvP7PycxCKwcWgJAd76fGi9dF0BSuB6F69EVQC2yne+nRhxArBxaZDvfBkDfT42XbhIQQLTIdr6fGgRAH4XrUbieFUCmm8QgsPIWQIGVQ4ts5wpAj8L1KFyPE0ApXI/C9Sj2PxSuR+F6FPg/bef7qfFSGEAlBoGVQ4v8Pz81XrpJDPY/MzMzMzMz9z/b+X5qvHT9P+xRuB6F6/U/TDeJQWDlBEA3iUFg5VAVQFK4HoXrURVAK4cW2c73CkDl0CLb+X70P1YOLbKd7/0/001iEFg5AUBQjZduEoMVQM3MzMzMzBFAXI/C9Shc9z9g5dAi2/n2P5huEoPAyvk/hetRuB6FCUBqvHSTGAQGQM3MzMzMzApACtejcD0KEEBEi2zn+6kQQIlBYOXQIgVAN4lBYOXQB0BSuB6F61ELQFyPwvUoXAJA9P3UeOkmCEAQWDm0yHYFQClcj8L1qBRAL90kBoGV/T/HSzeJQWD9P76fGi/dJARAcT0K16NwA0DpJjEIrBwSQGiR7Xw/NfQ/KVyPwvUo/j9KDAIrhxb/P/yp8dJNYv4/30+Nl24S9z9zaJHtfD//P30/NV66yRJAHVpkO99P+T8zMzMzMzMAQNv5fmq8dP0/JQaBlUMLFEAxCKwcWmTzP9V46SYxCPg/VOOlm8QgBECsHFpkO9/1P4PAyqFFtgBAWmQ730+NEUBEi2zn+6n9PyuHFtnO9/s/bef7qfHSB0Ce76fGSzcBQEw3iUFg5QJAAiuHFtnO/z83iUFg5dD2P1K4HoXrUQpA6SYxCKwcCkBg5dAi2/n2P30/NV66SfY/+n5qvHSTBkDHSzeJQeATQIlBYOXQohZA7FG4HoXrCUBKDAIrhxb7PycxCKwcWvo/4XoUrkfhAkB56SYxCKz8P5qZmZmZmQtAqMZLN4lB+D93vp8aL90BQBsv3SQGgQRAbxKDwMohFUAUrkfhehQPQLbz/dR46e4/lkOLbOf7AkDn+6nx0k0FQGq8dJMYBPQ/0SLb+X5qAEArhxbZzvcKQFg5tMh2vgBAAAAAAAAAAECq8dJNYhAPQDeJQWDl0A5AWDm0yHa+DUCDwMqhRbb7PwaBlUOLbA9A\",\"dtype\":\"float64\",\"order\":\"little\",\"shape\":[162]},\"index\":[0,1,2,3,4,5,6,7,8,9,10,11,12,13,14,15,16,17,18,19,20,21,22,23,24,25,26,27,28,29,30,31,32,33,34,35,36,37,38,39,40,41,42,43,44,45,46,47,48,49,50,51,52,53,54,55,56,57,58,59,60,61,62,63,64,65,66,67,68,69,70,71,72,73,74,75,76,77,78,79,80,81,82,83,84,85,86,87,88,89,90,91,92,93,94,95,96,97,98,99,100,101,102,103,104,105,106,107,108,109,110,111,112,113,114,115,116,117,118,119,120,121,122,123,124,125,126,127,128,129,130,131,132,133,134,135,136,137,138,139,140,141,142,143,144,145,146,147,148,149,150,151,152,153,154,155,156,157,158,159,160,161],\"population\":{\"__ndarray__\":\"AAAAZii900GQFOkAn/zQQQAAAGCWH7JBAAAAdAUaq0EAAABkgeKmQe+OPP5RzaNBAAAAANESo0EAAAC8oQaiQQAAAGD466BBAAAAAG9ynkH67buGHVuZQQAAAFRuipVBAAAAdOONlEEAAABEmpOTQQAAABAGcJNBAAAAaFs+k0EAAABQXp+RQToXwIbdJ5FBAAAAPPAQkEEAAADY06OOQQAAAMA5so1BAAAAcNVIjUEAAACYu4eMQQAAAFgsoodBAAAAwDw3h0EAAADAeC2HQQAAAMDADoZBAAAAIAC5hUEAAAAApHaFQQAAAJgGQoRBAAAAWFS3g0EAAAAghwSDQQAAAAAYfIJBAAAA+AUugkEAAACQ+WOAQQAAAICqxH9BAAAAELowfkEAAAAANyR+QRMTrwTXSX1BsGr1rzqte0EAAADANYB7QQAAAGCTeXtBAAAAgBGkekEAAABAYgx6QQAAABBMw3lB9wa/XgOBd0EAAAAQILd2QQAAAPDoRHZBAAAA0BbbdUEAAABQfFh1QQAAAGBZhHRBAAAAYCyjc0EolOqduqBzQR/BaMXyOHNBAAAA0ME5ckEAAAAQQDRyQQAAAMCTL3FBAAAAAIcGcEEAAAAgE15vQQAAACC65W1BAAAAgGsObUEAAADAHFFsQQAAAMDXC2xBAAAAAFvGa0EAAAAArhpqQQAAAAC6tmlBAAAAAPk7aEEAAABgNxJoQQAAAOBjxWdBAAAAoH1KZ0EAAADA3G5lQQAAAOAPX2VBAAAAYPDQZEEAAAAgumxkQQAAAKC5QmRBAAAAAALiY0EAAAAA37JjQQAAAIB1JWNBAAAA4Lj7YkEAAADgS8FiQQAAAMBuimJBAAAAIHR9YkEAAABA+nZiQQAAAKDGlWFBAAAAgFSOYEEAAADAiIVgQQAAAIADzV5BAAAAwG4sXUEAAADAuBRdQQAAAEDzCVxBAAAAQEHrW0EAAAAAgOFbQQAAAMDcE1pBAAAAgK0WWUEAAABAO6NYQQAAAECpAlhBAAAAwKfLV0EAAABA56tXQQAAAIAlZldBXanGt56HVkEAAABAf55VQQAAAECLNVVBAAAAQN30VEEAAADA3URUQQAAAAAzIlRBAAAAgGg9U0EAAABAZ8tSQQAAAAD6dVJBAAAAAHUwUkEAAACANT1RQQAAAMDRG1FBAAAAABTqUEEAAADA8uFQQQAAAMCPjVBBAAAAwBBuUEEAAAAA2UhQQQAAAADv/k9BAAAAAPzwTEEAAAAAVslMQQAAAIBsuEtBAAAAgFPuSUEAAACA0Z5JQQAAAADSb0lBAAAAgGGHSEEAAACAPftHQQAAAIDveUdBAAAAgChARUGBGHRrNNBEQQAAAABwgERBAAAAAKAmREEAAAAA90lBQQAAAADfP0BBAAAAAJVFP0EAAAAA/iU/QQAAAADE1z5BAAAAAGJQPUEAAAAAKFU5QQAAAAAWCjhBAAAAAN8YNkEAAAAAA3U0QQAAAACMWDRBAAAAAF6LM0EAAAAAdlwzQQAAAADa0TFBAAAAAMRRKkEAAAAAQqsnQQAAAACK9SRBAAAAAPodJEGpYCyg5qMjQQAAAADEDiBBAAAAANBwH0EAAAAAwG8eQQAAAAC4JBlBAAAAAGDxF0EAAAAAEJwUQQAAAACYXxNBAAAAAAyeEkEAAAAAUIwMQQAAAACo1QVBAAAAAHCNA0EAAAAA8L75QAAAAADgSPlA\",\"dtype\":\"float64\",\"order\":\"little\",\"shape\":[162]}},\"selected\":{\"id\":\"8915\"},\"selection_policy\":{\"id\":\"8914\"}},\"id\":\"8449\",\"type\":\"ColumnDataSource\"},{\"attributes\":{},\"id\":\"8467\",\"type\":\"PanTool\"},{\"attributes\":{\"source\":{\"id\":\"8449\"}},\"id\":\"8521\",\"type\":\"CDSView\"},{\"attributes\":{},\"id\":\"8451\",\"type\":\"DataRange1d\"},{\"attributes\":{\"below\":[{\"id\":\"8459\"}],\"center\":[{\"id\":\"8462\"},{\"id\":\"8466\"}],\"height\":300,\"left\":[{\"id\":\"8463\"}],\"renderers\":[{\"id\":\"8484\"}],\"title\":{\"id\":\"8898\"},\"toolbar\":{\"id\":\"8474\"},\"x_range\":{\"id\":\"8451\"},\"x_scale\":{\"id\":\"8455\"},\"y_range\":{\"id\":\"8453\"},\"y_scale\":{\"id\":\"8457\"}},\"id\":\"8450\",\"subtype\":\"Figure\",\"type\":\"Plot\"},{\"attributes\":{\"axis\":{\"id\":\"8459\"},\"ticker\":null},\"id\":\"8462\",\"type\":\"Grid\"},{\"attributes\":{},\"id\":\"8898\",\"type\":\"Title\"},{\"attributes\":{\"axis_label\":\"female literacy (% population)\",\"formatter\":{\"id\":\"8902\"},\"major_label_policy\":{\"id\":\"8903\"},\"ticker\":{\"id\":\"8464\"}},\"id\":\"8463\",\"type\":\"LinearAxis\"},{\"attributes\":{},\"id\":\"8453\",\"type\":\"DataRange1d\"},{\"attributes\":{},\"id\":\"8455\",\"type\":\"LinearScale\"},{\"attributes\":{},\"id\":\"8915\",\"type\":\"Selection\"},{\"attributes\":{},\"id\":\"8457\",\"type\":\"LinearScale\"},{\"attributes\":{},\"id\":\"8489\",\"type\":\"DataRange1d\"},{\"attributes\":{\"active_multi\":null,\"tools\":[{\"id\":\"8503\"},{\"id\":\"8504\"},{\"id\":\"8505\"},{\"id\":\"8506\"},{\"id\":\"8507\"},{\"id\":\"8508\"}]},\"id\":\"8510\",\"type\":\"Toolbar\"},{\"attributes\":{},\"id\":\"8487\",\"type\":\"DataRange1d\"},{\"attributes\":{},\"id\":\"8911\",\"type\":\"BasicTickFormatter\"},{\"attributes\":{\"fill_alpha\":{\"value\":0.1},\"fill_color\":{\"value\":\"#1f77b4\"},\"line_alpha\":{\"value\":0.1},\"line_color\":{\"value\":\"#1f77b4\"},\"x\":{\"field\":\"fertility\"},\"y\":{\"field\":\"female literacy\"}},\"id\":\"8483\",\"type\":\"Circle\"},{\"attributes\":{},\"id\":\"8905\",\"type\":\"BasicTickFormatter\"},{\"attributes\":{},\"id\":\"8912\",\"type\":\"AllLabels\"},{\"attributes\":{},\"id\":\"8914\",\"type\":\"UnionRenderers\"},{\"attributes\":{\"data_source\":{\"id\":\"8449\"},\"glyph\":{\"id\":\"8482\"},\"hover_glyph\":null,\"muted_glyph\":null,\"nonselection_glyph\":{\"id\":\"8483\"},\"view\":{\"id\":\"8485\"}},\"id\":\"8484\",\"type\":\"GlyphRenderer\"},{\"attributes\":{},\"id\":\"8900\",\"type\":\"Title\"},{\"attributes\":{\"source\":{\"id\":\"8449\"}},\"id\":\"8485\",\"type\":\"CDSView\"},{\"attributes\":{},\"id\":\"8906\",\"type\":\"AllLabels\"},{\"attributes\":{\"fill_color\":{\"value\":\"#1f77b4\"},\"line_color\":{\"value\":\"#1f77b4\"},\"x\":{\"field\":\"population\"},\"y\":{\"field\":\"female literacy\"}},\"id\":\"8518\",\"type\":\"Circle\"},{\"attributes\":{\"bottom_units\":\"screen\",\"fill_alpha\":0.5,\"fill_color\":\"lightgrey\",\"left_units\":\"screen\",\"level\":\"overlay\",\"line_alpha\":1.0,\"line_color\":\"black\",\"line_dash\":[4,4],\"line_width\":2,\"right_units\":\"screen\",\"syncable\":false,\"top_units\":\"screen\"},\"id\":\"8473\",\"type\":\"BoxAnnotation\"},{\"attributes\":{},\"id\":\"8902\",\"type\":\"BasicTickFormatter\"},{\"attributes\":{},\"id\":\"8493\",\"type\":\"LinearScale\"},{\"attributes\":{},\"id\":\"8464\",\"type\":\"BasicTicker\"},{\"attributes\":{},\"id\":\"8491\",\"type\":\"LinearScale\"},{\"attributes\":{\"axis_label\":\"population\",\"formatter\":{\"id\":\"8911\"},\"major_label_policy\":{\"id\":\"8912\"},\"ticker\":{\"id\":\"8496\"}},\"id\":\"8495\",\"type\":\"LinearAxis\"},{\"attributes\":{\"active_multi\":null,\"tools\":[{\"id\":\"8467\"},{\"id\":\"8468\"},{\"id\":\"8469\"},{\"id\":\"8470\"},{\"id\":\"8471\"},{\"id\":\"8472\"}]},\"id\":\"8474\",\"type\":\"Toolbar\"},{\"attributes\":{},\"id\":\"8496\",\"type\":\"BasicTicker\"},{\"attributes\":{\"axis\":{\"id\":\"8495\"},\"ticker\":null},\"id\":\"8498\",\"type\":\"Grid\"},{\"attributes\":{\"overlay\":{\"id\":\"8473\"}},\"id\":\"8469\",\"type\":\"BoxZoomTool\"},{\"attributes\":{},\"id\":\"8470\",\"type\":\"SaveTool\"},{\"attributes\":{\"axis\":{\"id\":\"8463\"},\"dimension\":1,\"ticker\":null},\"id\":\"8466\",\"type\":\"Grid\"},{\"attributes\":{},\"id\":\"8472\",\"type\":\"HelpTool\"},{\"attributes\":{},\"id\":\"8504\",\"type\":\"WheelZoomTool\"},{\"attributes\":{},\"id\":\"8508\",\"type\":\"HelpTool\"},{\"attributes\":{\"bottom_units\":\"screen\",\"fill_alpha\":0.5,\"fill_color\":\"lightgrey\",\"left_units\":\"screen\",\"level\":\"overlay\",\"line_alpha\":1.0,\"line_color\":\"black\",\"line_dash\":[4,4],\"line_width\":2,\"right_units\":\"screen\",\"syncable\":false,\"top_units\":\"screen\"},\"id\":\"8509\",\"type\":\"BoxAnnotation\"},{\"attributes\":{\"axis_label\":\"female literacy (% population)\",\"formatter\":{\"id\":\"8908\"},\"major_label_policy\":{\"id\":\"8909\"},\"ticker\":{\"id\":\"8500\"}},\"id\":\"8499\",\"type\":\"LinearAxis\"},{\"attributes\":{},\"id\":\"8460\",\"type\":\"BasicTicker\"},{\"attributes\":{\"axis\":{\"id\":\"8499\"},\"dimension\":1,\"ticker\":null},\"id\":\"8502\",\"type\":\"Grid\"},{\"attributes\":{},\"id\":\"8908\",\"type\":\"BasicTickFormatter\"},{\"attributes\":{},\"id\":\"8500\",\"type\":\"BasicTicker\"},{\"attributes\":{},\"id\":\"8471\",\"type\":\"ResetTool\"},{\"attributes\":{},\"id\":\"8468\",\"type\":\"WheelZoomTool\"},{\"attributes\":{\"axis_label\":\"fertility (children per woman)\",\"formatter\":{\"id\":\"8905\"},\"major_label_policy\":{\"id\":\"8906\"},\"ticker\":{\"id\":\"8460\"}},\"id\":\"8459\",\"type\":\"LinearAxis\"},{\"attributes\":{},\"id\":\"8909\",\"type\":\"AllLabels\"},{\"attributes\":{},\"id\":\"8503\",\"type\":\"PanTool\"}],\"root_ids\":[\"8522\"]},\"title\":\"Bokeh Application\",\"version\":\"2.3.0\"}};\n",
       "  var render_items = [{\"docid\":\"a48ecbff-4aec-4a7b-ac18-3e35d5d3395d\",\"root_ids\":[\"8522\"],\"roots\":{\"8522\":\"9089d15d-cca7-414c-b83d-59c336322463\"}}];\n",
       "  root.Bokeh.embed.embed_items_notebook(docs_json, render_items);\n",
       "\n",
       "  }\n",
       "  if (root.Bokeh !== undefined) {\n",
       "    embed_document(root);\n",
       "  } else {\n",
       "    var attempts = 0;\n",
       "    var timer = setInterval(function(root) {\n",
       "      if (root.Bokeh !== undefined) {\n",
       "        clearInterval(timer);\n",
       "        embed_document(root);\n",
       "      } else {\n",
       "        attempts++;\n",
       "        if (attempts > 100) {\n",
       "          clearInterval(timer);\n",
       "          console.log(\"Bokeh: ERROR: Unable to run BokehJS code because BokehJS library is missing\");\n",
       "        }\n",
       "      }\n",
       "    }, 10, root)\n",
       "  }\n",
       "})(window);"
      ],
      "application/vnd.bokehjs_exec.v0+json": ""
     },
     "metadata": {
      "application/vnd.bokehjs_exec.v0+json": {
       "id": "8522"
      }
     },
     "output_type": "display_data"
    }
   ],
   "source": [
    "source = ColumnDataSource(lit)\n",
    "\n",
    "# Create the first figure: p1\n",
    "p1 = figure(plot_height=300, x_axis_label='fertility (children per woman)', y_axis_label='female literacy (% population)')\n",
    "\n",
    "# Add a circle glyph to p1\n",
    "p1.circle('fertility', 'female literacy', source=source)\n",
    "\n",
    "# Create the second figure: p2\n",
    "p2 = figure(plot_height=300, x_axis_label='population', y_axis_label='female literacy (% population)')\n",
    "\n",
    "# Add a circle glyph to p2\n",
    "p2.circle('population', 'female literacy', source=source)\n",
    "\n",
    "# Put p1 and p2 into a horizontal row: layout\n",
    "layout = row(p1, p2)\n",
    "\n",
    "# Specify the name of the output_file and show the result\n",
    "# output_file('fert_row.html')\n",
    "show(layout)"
   ]
  },
  {
   "cell_type": "markdown",
   "metadata": {},
   "source": [
    "### Creating columns of plots\n",
    "\n",
    "In this exercise, you're going to use the `column()` function to create a single column layout of the two plots you created in the previous exercise.\n",
    "\n",
    "Figure `p1` has been created for you.\n",
    "\n",
    "In this exercise and the ones to follow, you may have to scroll down to view the lower portion of the figure.\n",
    "\n",
    "**Instructions**\n",
    "\n",
    "* Import `column` from the `bokeh.layouts` module.\n",
    "* The figure `p1` has been created for you. Create a new figure `p2` with an x-axis label of `'population'` and y-axis label of `'female_literacy (% population)'`.\n",
    "* Add a circle glyph to the figure `p2`.\n",
    "* Put `p1` and `p2` into a vertical layout using `column()`.\n",
    "* Click 'Submit Answer' to output the file and show the figure."
   ]
  },
  {
   "cell_type": "code",
   "execution_count": 48,
   "metadata": {},
   "outputs": [
    {
     "data": {
      "text/html": [
       "\n",
       "\n",
       "\n",
       "\n",
       "\n",
       "\n",
       "  <div class=\"bk-root\" id=\"968bd575-7389-474c-a72e-508ee541891b\" data-root-id=\"9090\"></div>\n"
      ]
     },
     "metadata": {},
     "output_type": "display_data"
    },
    {
     "data": {
      "application/javascript": [
       "(function(root) {\n",
       "  function embed_document(root) {\n",
       "    \n",
       "  var docs_json = {\"19279401-fcf4-454d-be03-62294ea48241\":{\"defs\":[{\"extends\":null,\"module\":null,\"name\":\"DataModel\",\"overrides\":[],\"properties\":[]}],\"roots\":{\"references\":[{\"attributes\":{\"children\":[{\"id\":\"9018\"},{\"id\":\"9054\"}]},\"id\":\"9090\",\"type\":\"Column\"},{\"attributes\":{\"axis_label\":\"female literacy (% population)\",\"formatter\":{\"id\":\"9496\"},\"major_label_policy\":{\"id\":\"9497\"},\"ticker\":{\"id\":\"9068\"}},\"id\":\"9067\",\"type\":\"LinearAxis\"},{\"attributes\":{\"bottom_units\":\"screen\",\"fill_alpha\":0.5,\"fill_color\":\"lightgrey\",\"left_units\":\"screen\",\"level\":\"overlay\",\"line_alpha\":1.0,\"line_color\":\"black\",\"line_dash\":[4,4],\"line_width\":2,\"right_units\":\"screen\",\"syncable\":false,\"top_units\":\"screen\"},\"id\":\"9041\",\"type\":\"BoxAnnotation\"},{\"attributes\":{\"axis\":{\"id\":\"9067\"},\"dimension\":1,\"ticker\":null},\"id\":\"9070\",\"type\":\"Grid\"},{\"attributes\":{},\"id\":\"9023\",\"type\":\"LinearScale\"},{\"attributes\":{\"data\":{\"Continent\":[\"ASI\",\"ASI\",\"NAM\",\"ASI\",\"LAT\",\"ASI\",\"ASI\",\"AF\",\"EUR\",\"ASI\",\"LAT\",\"ASI\",\"ASI\",\"EUR\",\"AF\",\"AF\",\"ASI\",\"ASI\",\"ASI\",\"AF\",\"EUR\",\"EUR\",\"EUR\",\"ASI\",\"AF\",\"ASI\",\"EUR\",\"EUR\",\"LAT\",\"AF\",\"AF\",\"LAT\",\"AF\",\"EUR\",\"AF\",\"NAM\",\"AF\",\"AF\",\"ASI\",\"ASI\",\"LAT\",\"ASI\",\"LAT\",\"ASI\",\"ASI\",\"ASI\",\"ASI\",\"AF\",\"ASI\",\"AF\",\"EUR\",\"AF\",\"ASI\",\"ASI\",\"AF\",\"AF\",\"AF\",\"LAT\",\"EUR\",\"ASI\",\"AF\",\"AF\",\"AF\",\"ASI\",\"LAT\",\"LAT\",\"AF\",\"AF\",\"AF\",\"AF\",\"EUR\",\"LAT\",\"AF\",\"EUR\",\"EUR\",\"EUR\",\"AF\",\"EUR\",\"LAT\",\"AF\",\"AF\",\"LAT\",\"EUR\",\"EUR\",\"ASI\",\"AF\",\"AF\",\"EUR\",\"EUR\",\"EUR\",\"LAT\",\"ASI\",\"ASI\",\"OCE\",\"AF\",\"AF\",\"LAT\",\"ASI\",\"LAT\",\"ASI\",\"LAT\",\"AF\",\"EUR\",\"EUR\",\"ASI\",\"ASI\",\"AF\",\"ASI\",\"EUR\",\"LAT\",\"ASI\",\"EUR\",\"EUR\",\"AF\",\"ASI\",\"OCE\",\"ASI\",\"AF\",\"EUR\",\"EUR\",\"LAT\",\"EUR\",\"LAT\",\"AF\",\"EUR\",\"ASI\",\"ASI\",\"ASI\",\"LAT\",\"ASI\",\"EUR\",\"AF\",\"AF\",\"EUR\",\"EUR\",\"AF\",\"AF\",\"AF\",\"AF\",\"EUR\",\"LAT\",\"ASI\",\"AF\",\"AF\",\"EUR\",\"ASI\",\"ASI\",\"AF\",\"AF\",\"ASI\",\"LAT\",\"AF\",\"EUR\",\"ASI\",\"LAT\",\"EUR\",\"ASI\",\"OCE\",\"OCE\",\"AF\",\"LAT\",\"ASI\"],\"Country\":[\"Chine\",\"Inde\",\"USA\",\"Indon\\u00e9sie\",\"Br\\u00e9sil\",\"Pakistan\",\"Bangladesh\",\"Nig\\u00e9ria\",\"F\\u00e9d\\u00e9ration de Russie\",\"Japan\",\"Mexique\",\"Philippines\",\"Viet Nam\",\"Germany\",\"Egypte\",\"Ethiopie\",\"Turquie\",\"Iran, R\\u00e9publique islamique d'\",\"Tha\\u00eflande\",\"R\\u00e9p. D\\u00e9mocratique du Congo\",\"France\",\"UK\",\"Italie\",\"Myanmar\",\"Afrique du Sud\",\"South Korea\",\"Ukraine\",\"Espagne\",\"Colombie\",\"R\\u00e9publique-Unie de Tanzanie\",\"Soudan\",\"Argentine\",\"Kenya\",\"Pologne\",\"Alg\\u00e9rie\",\"Canada\",\"Ouganda\",\"Maroc\",\"Iraq\",\"Afghanistan\",\"P\\u00e9rou\",\"N\\u00e9pal\",\"Venezuela\",\"Ouzb\\u00e9kistan\",\"Malaisie\",\"Arabie saoudite\",\"R\\u00e9p. populaire d\\u00e9mocratique de Cor\\u00e9e\",\"Ghana\",\"Y\\u00e9men\",\"Mozambique\",\"Roumanie\",\"C\\u00f4te d'Ivoire\",\"R\\u00e9publique arabe syrienne\",\"Sri Lanka\",\"Madagascar\",\"Cameroun\",\"Angola\",\"Chili\",\"Netherlands\",\"Kazakhstan\",\"Burkina Faso\",\"Malawi\",\"Niger\",\"Cambodge\",\"Guatemala\",\"Equateur\",\"Mali\",\"Zambie\",\"Zimbabwe\",\"S\\u00e9n\\u00e9gal\",\"Gr\\u00e8ce\",\"Cuba\",\"Tchad\",\"Belgium\",\"Portugal\",\"Czech rep\",\"Tunisie\",\"Hongrie\",\"R\\u00e9publique dominicaine\",\"Guin\\u00e9e\",\"Rwanda\",\"Bolivie\",\"B\\u00e9larus\",\"Sweden\",\"Azerba\\u00efdjan\",\"B\\u00e9nin\",\"Burundi\",\"Switzerland\",\"Bulgarie\",\"Serbie\",\"Honduras\",\"Israel\",\"Tadjikistan\",\"Papouasie-Nouvelle-Guin\\u00e9e\",\"Togo\",\"Jamahiriya arabe libyenne\",\"Paraguay\",\"R\\u00e9p. d\\u00e9mocratique populaire lao\",\"El Salvador\",\"Jordanie\",\"Nicaragua\",\"Sierra Leone\",\"Denmark\",\"Finland\",\"Kirghizistan\",\"Turkm\\u00e9nistan\",\"Erythr\\u00e9e\",\"Singapour\",\"Norway\",\"Costa Rica\",\"Emirats arabes unis\",\"Croatie\",\"Ireland\",\"R\\u00e9publique centrafricaine\",\"G\\u00e9orgie\",\"New Zealand\",\"Liban\",\"Lib\\u00e9ria\",\"Bosnie-Herz\\u00e9govine\",\"R\\u00e9publique de Moldova\",\"Panama\",\"Lituanie\",\"Uruguay\",\"Mauritanie\",\"Albanie\",\"Arm\\u00e9nie\",\"Oman\",\"Kowe\\u00eft\",\"Jama\\u00efque\",\"Mongolie\",\"Lettonie\",\"Namibie\",\"Lesotho\",\"L'ex-R\\u00e9p. yougoslave de Mac\\u00e9doine\",\"Slov\\u00e9nie\",\"Botswana\",\"Gambie\",\"Guin\\u00e9e-Bissau\",\"Gabon\",\"Estonie\",\"Trinit\\u00e9-et-Tobago\",\"Qatar\",\"Maurice\",\"Swaziland\",\"Chypre\",\"Bahre\\u00efn\",\"Bhoutan\",\"Guin\\u00e9e \\u00e9quatoriale\",\"Comores\",\"Macao, Chine\",\"Suriname\",\"Cap-Vert\",\"Malte\",\"Brun\\u00e9i Darussalam\",\"Bahamas\",\"Iceland\",\"Maldives\",\"Vanuatu\",\"Samoa\",\"Sao Tom\\u00e9-et-Principe\",\"Aruba\",\"Tonga\"],\"female literacy\":{\"__ndarray__\":\"AAAAAACgVkBmZmZmZmZJQAAAAAAAwFhAMzMzMzMzVkDNzMzMzIxWQAAAAAAAAERAZmZmZmbmSEBmZmZmZmZIQJqZmZmZ2VhAAAAAAADAWEAAAAAAAOBWQJqZmZmZeVdAzczMzMyMVkAAAAAAAMBYQGZmZmZm5kxAzczMzMzMNkAzMzMzM1NUQM3MzMzMTFNAAAAAAADgVkDNzMzMzAxMQAAAAAAAwFhAAAAAAADAWEAAAAAAAKBYQM3MzMzMTFZAZmZmZmYGVkBmZmZmZiZYQGZmZmZm5lhAmpmZmZk5WECamZmZmVlXQDMzMzMzk1BAzczMzMzMTUDNzMzMzGxYQDMzMzMzs1RAMzMzMzPTWEAzMzMzM/NPQAAAAAAAwFhAMzMzMzOzUEDNzMzMzAxGQM3MzMzMTFFAMzMzMzMzKUBmZmZmZiZVQDMzMzMzs0ZAmpmZmZm5V0CamZmZmblYQDMzMzMzc1ZAzczMzMwMVEAAAAAAAABZQGZmZmZmpk1AZmZmZmZmRUDNzMzMzAxEQJqZmZmZOVhAZmZmZmYmRkDNzMzMzExTQGZmZmZmRlZAMzMzMzNTUEAzMzMzM/NQQAAAAAAAgExAzczMzMysWEAAAAAAAMBYQAAAAAAA4FhAmpmZmZmZNUAzMzMzM3NQQDMzMzMzMy5AmpmZmZm5UUDNzMzMzCxRQM3MzMzMbFRAMzMzMzMzMkAAAAAAAIBOQDMzMzMzM1ZAAAAAAACAQECamZmZmflXQDMzMzMz81hAZmZmZmbmNUAAAAAAAMBYQJqZmZmZOVdAAAAAAADAWEAAAAAAAMBRQJqZmZmZuVhAMzMzMzMTVkBmZmZmZmY6QGZmZmZmhlBAAAAAAACAVUDNzMzMzOxYQAAAAAAAwFhAzczMzMzMWECamZmZmRk8QDMzMzMz801AAAAAAADAWECamZmZmXlYQM3MzMzMDFhAAAAAAADgVECamZmZmflXQAAAAAAA4FhAzczMzMzMS0CamZmZmdlKQDMzMzMzU1RAAAAAAABgV0CamZmZmZlPQJqZmZmZWVRAmpmZmZk5VkCamZmZmXlTQGZmZmZm5jxAAAAAAADAWEAAAAAAAABZQGZmZmZmxlhAMzMzMzPTWEAAAAAAAEBLQGZmZmZm5lZAAAAAAAAAWUDNzMzMzAxYQAAAAAAA4FZAAAAAAACAWEAAAAAAAMBYQM3MzMzMjERAzczMzMzsWEAAAAAAAMBYQAAAAAAAgFVAAAAAAACASkCamZmZmflXQDMzMzMzc1hAMzMzMzMzV0DNzMzMzOxYQAAAAAAAoFhAAAAAAADASEDNzMzMzKxYQJqZmZmZ2VhAmpmZmZk5VEBmZmZmZkZXQDMzMzMzs1ZAMzMzMzNzWEAzMzMzM/NYQM3MzMzM7FVAZmZmZmbGV0CamZmZmdlXQM3MzMzM7FhAAAAAAADgVEBmZmZmZiZBQAAAAAAAQEJAzczMzMzMVEAzMzMzM/NYQM3MzMzMjFhAmpmZmZmZVkAzMzMzMzNVQGZmZmZmZlVAzczMzMwsWECamZmZmVlWQJqZmZmZWUNAZmZmZmZGVkAzMzMzM/NQQM3MzMzMrFZAmpmZmZkZVkAzMzMzM9NTQAAAAAAAYFdAMzMzMzNTV0AAAAAAACBYQAAAAAAAwFhAmpmZmZmZWEAAAAAAAOBTQAAAAAAAoFhAMzMzMzPTVEAAAAAAAIBYQGZmZmZmxlhA\",\"dtype\":\"float64\",\"order\":\"little\",\"shape\":[162]},\"fertility\":{\"__ndarray__\":\"5/up8dJN/D/b+X5qvHQFQARWDi2ynQBAdZMYBFYOAUAIrBxaZDv9P2Dl0CLb+Q5A5/up8dJNAkD+1HjpJrEUQH0/NV66SfY//tR46SYx9D9zaJHtfD8BQGiR7Xw/NQhA3SQGgZVDAEDJdr6fGi/1P7pJDAIrhwZA8tJNYhDYFEDNzMzMzMwAQOXQItv5fvw/9P3UeOkm/T9vEoPAyqEXQH9qvHSTGP4/bxKDwMqh/T89CtejcD32P3Noke18PwJACtejcD0KBEAv3SQGgZXzPy2yne+nxvU/sHJoke189z8IrBxaZDsDQBSuR+F6FBZACKwcWmQ7EEBiEFg5tMgBQFYOLbKdbxNAEoPAyqFF9D8j2/l+arwCQN0kBoGVQ/k/arx0kxgEGUB56SYxCKwCQOOlm8QgsA9AhetRuB4FGkA9CtejcD0EQC/dJAaBlQZAlkOLbOf7A0CWQ4ts5/sBQKrx0k1iEARAUrgehetRCEBEi2zn+6n9P+F6FK5H4RBAZmZmZmZmFECR7Xw/Nd4TQDMzMzMzM/U/dZMYBFYOEkD8qfHSTWIJQBBYObTIdgJAexSuR+F6EkBEi2zn+ykSQD81XrpJjBZAN4lBYOXQ/j/ByqFFtvP7PycxCKwcWgJAd76fGi9dF0BSuB6F69EVQC2yne+nRhxArBxaZDvfBkDfT42XbhIQQLTIdr6fGgRAH4XrUbieFUCmm8QgsPIWQIGVQ4ts5wpAj8L1KFyPE0ApXI/C9Sj2PxSuR+F6FPg/bef7qfFSGEAlBoGVQ4v8Pz81XrpJDPY/MzMzMzMz9z/b+X5qvHT9P+xRuB6F6/U/TDeJQWDlBEA3iUFg5VAVQFK4HoXrURVAK4cW2c73CkDl0CLb+X70P1YOLbKd7/0/001iEFg5AUBQjZduEoMVQM3MzMzMzBFAXI/C9Shc9z9g5dAi2/n2P5huEoPAyvk/hetRuB6FCUBqvHSTGAQGQM3MzMzMzApACtejcD0KEEBEi2zn+6kQQIlBYOXQIgVAN4lBYOXQB0BSuB6F61ELQFyPwvUoXAJA9P3UeOkmCEAQWDm0yHYFQClcj8L1qBRAL90kBoGV/T/HSzeJQWD9P76fGi/dJARAcT0K16NwA0DpJjEIrBwSQGiR7Xw/NfQ/KVyPwvUo/j9KDAIrhxb/P/yp8dJNYv4/30+Nl24S9z9zaJHtfD//P30/NV66yRJAHVpkO99P+T8zMzMzMzMAQNv5fmq8dP0/JQaBlUMLFEAxCKwcWmTzP9V46SYxCPg/VOOlm8QgBECsHFpkO9/1P4PAyqFFtgBAWmQ730+NEUBEi2zn+6n9PyuHFtnO9/s/bef7qfHSB0Ce76fGSzcBQEw3iUFg5QJAAiuHFtnO/z83iUFg5dD2P1K4HoXrUQpA6SYxCKwcCkBg5dAi2/n2P30/NV66SfY/+n5qvHSTBkDHSzeJQeATQIlBYOXQohZA7FG4HoXrCUBKDAIrhxb7PycxCKwcWvo/4XoUrkfhAkB56SYxCKz8P5qZmZmZmQtAqMZLN4lB+D93vp8aL90BQBsv3SQGgQRAbxKDwMohFUAUrkfhehQPQLbz/dR46e4/lkOLbOf7AkDn+6nx0k0FQGq8dJMYBPQ/0SLb+X5qAEArhxbZzvcKQFg5tMh2vgBAAAAAAAAAAECq8dJNYhAPQDeJQWDl0A5AWDm0yHa+DUCDwMqhRbb7PwaBlUOLbA9A\",\"dtype\":\"float64\",\"order\":\"little\",\"shape\":[162]},\"index\":[0,1,2,3,4,5,6,7,8,9,10,11,12,13,14,15,16,17,18,19,20,21,22,23,24,25,26,27,28,29,30,31,32,33,34,35,36,37,38,39,40,41,42,43,44,45,46,47,48,49,50,51,52,53,54,55,56,57,58,59,60,61,62,63,64,65,66,67,68,69,70,71,72,73,74,75,76,77,78,79,80,81,82,83,84,85,86,87,88,89,90,91,92,93,94,95,96,97,98,99,100,101,102,103,104,105,106,107,108,109,110,111,112,113,114,115,116,117,118,119,120,121,122,123,124,125,126,127,128,129,130,131,132,133,134,135,136,137,138,139,140,141,142,143,144,145,146,147,148,149,150,151,152,153,154,155,156,157,158,159,160,161],\"population\":{\"__ndarray__\":\"AAAAZii900GQFOkAn/zQQQAAAGCWH7JBAAAAdAUaq0EAAABkgeKmQe+OPP5RzaNBAAAAANESo0EAAAC8oQaiQQAAAGD466BBAAAAAG9ynkH67buGHVuZQQAAAFRuipVBAAAAdOONlEEAAABEmpOTQQAAABAGcJNBAAAAaFs+k0EAAABQXp+RQToXwIbdJ5FBAAAAPPAQkEEAAADY06OOQQAAAMA5so1BAAAAcNVIjUEAAACYu4eMQQAAAFgsoodBAAAAwDw3h0EAAADAeC2HQQAAAMDADoZBAAAAIAC5hUEAAAAApHaFQQAAAJgGQoRBAAAAWFS3g0EAAAAghwSDQQAAAAAYfIJBAAAA+AUugkEAAACQ+WOAQQAAAICqxH9BAAAAELowfkEAAAAANyR+QRMTrwTXSX1BsGr1rzqte0EAAADANYB7QQAAAGCTeXtBAAAAgBGkekEAAABAYgx6QQAAABBMw3lB9wa/XgOBd0EAAAAQILd2QQAAAPDoRHZBAAAA0BbbdUEAAABQfFh1QQAAAGBZhHRBAAAAYCyjc0EolOqduqBzQR/BaMXyOHNBAAAA0ME5ckEAAAAQQDRyQQAAAMCTL3FBAAAAAIcGcEEAAAAgE15vQQAAACC65W1BAAAAgGsObUEAAADAHFFsQQAAAMDXC2xBAAAAAFvGa0EAAAAArhpqQQAAAAC6tmlBAAAAAPk7aEEAAABgNxJoQQAAAOBjxWdBAAAAoH1KZ0EAAADA3G5lQQAAAOAPX2VBAAAAYPDQZEEAAAAgumxkQQAAAKC5QmRBAAAAAALiY0EAAAAA37JjQQAAAIB1JWNBAAAA4Lj7YkEAAADgS8FiQQAAAMBuimJBAAAAIHR9YkEAAABA+nZiQQAAAKDGlWFBAAAAgFSOYEEAAADAiIVgQQAAAIADzV5BAAAAwG4sXUEAAADAuBRdQQAAAEDzCVxBAAAAQEHrW0EAAAAAgOFbQQAAAMDcE1pBAAAAgK0WWUEAAABAO6NYQQAAAECpAlhBAAAAwKfLV0EAAABA56tXQQAAAIAlZldBXanGt56HVkEAAABAf55VQQAAAECLNVVBAAAAQN30VEEAAADA3URUQQAAAAAzIlRBAAAAgGg9U0EAAABAZ8tSQQAAAAD6dVJBAAAAAHUwUkEAAACANT1RQQAAAMDRG1FBAAAAABTqUEEAAADA8uFQQQAAAMCPjVBBAAAAwBBuUEEAAAAA2UhQQQAAAADv/k9BAAAAAPzwTEEAAAAAVslMQQAAAIBsuEtBAAAAgFPuSUEAAACA0Z5JQQAAAADSb0lBAAAAgGGHSEEAAACAPftHQQAAAIDveUdBAAAAgChARUGBGHRrNNBEQQAAAABwgERBAAAAAKAmREEAAAAA90lBQQAAAADfP0BBAAAAAJVFP0EAAAAA/iU/QQAAAADE1z5BAAAAAGJQPUEAAAAAKFU5QQAAAAAWCjhBAAAAAN8YNkEAAAAAA3U0QQAAAACMWDRBAAAAAF6LM0EAAAAAdlwzQQAAAADa0TFBAAAAAMRRKkEAAAAAQqsnQQAAAACK9SRBAAAAAPodJEGpYCyg5qMjQQAAAADEDiBBAAAAANBwH0EAAAAAwG8eQQAAAAC4JBlBAAAAAGDxF0EAAAAAEJwUQQAAAACYXxNBAAAAAAyeEkEAAAAAUIwMQQAAAACo1QVBAAAAAHCNA0EAAAAA8L75QAAAAADgSPlA\",\"dtype\":\"float64\",\"order\":\"little\",\"shape\":[162]}},\"selected\":{\"id\":\"8915\"},\"selection_policy\":{\"id\":\"8914\"}},\"id\":\"8449\",\"type\":\"ColumnDataSource\"},{\"attributes\":{},\"id\":\"9064\",\"type\":\"BasicTicker\"},{\"attributes\":{},\"id\":\"9068\",\"type\":\"BasicTicker\"},{\"attributes\":{\"axis_label\":\"fertility (children per woman)\",\"formatter\":{\"id\":\"9493\"},\"major_label_policy\":{\"id\":\"9494\"},\"ticker\":{\"id\":\"9028\"}},\"id\":\"9027\",\"type\":\"LinearAxis\"},{\"attributes\":{},\"id\":\"9486\",\"type\":\"Title\"},{\"attributes\":{\"overlay\":{\"id\":\"9077\"}},\"id\":\"9073\",\"type\":\"BoxZoomTool\"},{\"attributes\":{},\"id\":\"9028\",\"type\":\"BasicTicker\"},{\"attributes\":{},\"id\":\"9074\",\"type\":\"SaveTool\"},{\"attributes\":{\"axis\":{\"id\":\"9027\"},\"ticker\":null},\"id\":\"9030\",\"type\":\"Grid\"},{\"attributes\":{},\"id\":\"9499\",\"type\":\"BasicTickFormatter\"},{\"attributes\":{\"source\":{\"id\":\"8449\"}},\"id\":\"9089\",\"type\":\"CDSView\"},{\"attributes\":{\"active_multi\":null,\"tools\":[{\"id\":\"9035\"},{\"id\":\"9036\"},{\"id\":\"9037\"},{\"id\":\"9038\"},{\"id\":\"9039\"},{\"id\":\"9040\"}]},\"id\":\"9042\",\"type\":\"Toolbar\"},{\"attributes\":{},\"id\":\"9036\",\"type\":\"WheelZoomTool\"},{\"attributes\":{},\"id\":\"9076\",\"type\":\"HelpTool\"},{\"attributes\":{\"axis_label\":\"female literacy (% population)\",\"formatter\":{\"id\":\"9490\"},\"major_label_policy\":{\"id\":\"9491\"},\"ticker\":{\"id\":\"9032\"}},\"id\":\"9031\",\"type\":\"LinearAxis\"},{\"attributes\":{},\"id\":\"9057\",\"type\":\"DataRange1d\"},{\"attributes\":{},\"id\":\"9055\",\"type\":\"DataRange1d\"},{\"attributes\":{},\"id\":\"9493\",\"type\":\"BasicTickFormatter\"},{\"attributes\":{},\"id\":\"9071\",\"type\":\"PanTool\"},{\"attributes\":{\"active_multi\":null,\"tools\":[{\"id\":\"9071\"},{\"id\":\"9072\"},{\"id\":\"9073\"},{\"id\":\"9074\"},{\"id\":\"9075\"},{\"id\":\"9076\"}]},\"id\":\"9078\",\"type\":\"Toolbar\"},{\"attributes\":{\"data_source\":{\"id\":\"8449\"},\"glyph\":{\"id\":\"9050\"},\"hover_glyph\":null,\"muted_glyph\":null,\"nonselection_glyph\":{\"id\":\"9051\"},\"view\":{\"id\":\"9053\"}},\"id\":\"9052\",\"type\":\"GlyphRenderer\"},{\"attributes\":{\"fill_alpha\":{\"value\":0.1},\"fill_color\":{\"value\":\"#1f77b4\"},\"line_alpha\":{\"value\":0.1},\"line_color\":{\"value\":\"#1f77b4\"},\"x\":{\"field\":\"population\"},\"y\":{\"field\":\"female literacy\"}},\"id\":\"9087\",\"type\":\"Circle\"},{\"attributes\":{},\"id\":\"9075\",\"type\":\"ResetTool\"},{\"attributes\":{},\"id\":\"9488\",\"type\":\"Title\"},{\"attributes\":{},\"id\":\"9500\",\"type\":\"AllLabels\"},{\"attributes\":{},\"id\":\"8915\",\"type\":\"Selection\"},{\"attributes\":{},\"id\":\"9061\",\"type\":\"LinearScale\"},{\"attributes\":{},\"id\":\"9494\",\"type\":\"AllLabels\"},{\"attributes\":{\"axis_label\":\"population\",\"formatter\":{\"id\":\"9499\"},\"major_label_policy\":{\"id\":\"9500\"},\"ticker\":{\"id\":\"9064\"}},\"id\":\"9063\",\"type\":\"LinearAxis\"},{\"attributes\":{\"fill_color\":{\"value\":\"#1f77b4\"},\"line_color\":{\"value\":\"#1f77b4\"},\"x\":{\"field\":\"fertility\"},\"y\":{\"field\":\"female literacy\"}},\"id\":\"9050\",\"type\":\"Circle\"},{\"attributes\":{\"data_source\":{\"id\":\"8449\"},\"glyph\":{\"id\":\"9086\"},\"hover_glyph\":null,\"muted_glyph\":null,\"nonselection_glyph\":{\"id\":\"9087\"},\"view\":{\"id\":\"9089\"}},\"id\":\"9088\",\"type\":\"GlyphRenderer\"},{\"attributes\":{},\"id\":\"9072\",\"type\":\"WheelZoomTool\"},{\"attributes\":{\"below\":[{\"id\":\"9027\"}],\"center\":[{\"id\":\"9030\"},{\"id\":\"9034\"}],\"height\":300,\"left\":[{\"id\":\"9031\"}],\"renderers\":[{\"id\":\"9052\"}],\"title\":{\"id\":\"9486\"},\"toolbar\":{\"id\":\"9042\"},\"x_range\":{\"id\":\"9019\"},\"x_scale\":{\"id\":\"9023\"},\"y_range\":{\"id\":\"9021\"},\"y_scale\":{\"id\":\"9025\"}},\"id\":\"9018\",\"subtype\":\"Figure\",\"type\":\"Plot\"},{\"attributes\":{\"axis\":{\"id\":\"9063\"},\"ticker\":null},\"id\":\"9066\",\"type\":\"Grid\"},{\"attributes\":{\"fill_color\":{\"value\":\"#1f77b4\"},\"line_color\":{\"value\":\"#1f77b4\"},\"x\":{\"field\":\"population\"},\"y\":{\"field\":\"female literacy\"}},\"id\":\"9086\",\"type\":\"Circle\"},{\"attributes\":{\"below\":[{\"id\":\"9063\"}],\"center\":[{\"id\":\"9066\"},{\"id\":\"9070\"}],\"height\":300,\"left\":[{\"id\":\"9067\"}],\"renderers\":[{\"id\":\"9088\"}],\"title\":{\"id\":\"9488\"},\"toolbar\":{\"id\":\"9078\"},\"x_range\":{\"id\":\"9055\"},\"x_scale\":{\"id\":\"9059\"},\"y_range\":{\"id\":\"9057\"},\"y_scale\":{\"id\":\"9061\"}},\"id\":\"9054\",\"subtype\":\"Figure\",\"type\":\"Plot\"},{\"attributes\":{},\"id\":\"9039\",\"type\":\"ResetTool\"},{\"attributes\":{},\"id\":\"8914\",\"type\":\"UnionRenderers\"},{\"attributes\":{},\"id\":\"9035\",\"type\":\"PanTool\"},{\"attributes\":{\"fill_alpha\":{\"value\":0.1},\"fill_color\":{\"value\":\"#1f77b4\"},\"line_alpha\":{\"value\":0.1},\"line_color\":{\"value\":\"#1f77b4\"},\"x\":{\"field\":\"fertility\"},\"y\":{\"field\":\"female literacy\"}},\"id\":\"9051\",\"type\":\"Circle\"},{\"attributes\":{\"bottom_units\":\"screen\",\"fill_alpha\":0.5,\"fill_color\":\"lightgrey\",\"left_units\":\"screen\",\"level\":\"overlay\",\"line_alpha\":1.0,\"line_color\":\"black\",\"line_dash\":[4,4],\"line_width\":2,\"right_units\":\"screen\",\"syncable\":false,\"top_units\":\"screen\"},\"id\":\"9077\",\"type\":\"BoxAnnotation\"},{\"attributes\":{},\"id\":\"9059\",\"type\":\"LinearScale\"},{\"attributes\":{\"axis\":{\"id\":\"9031\"},\"dimension\":1,\"ticker\":null},\"id\":\"9034\",\"type\":\"Grid\"},{\"attributes\":{},\"id\":\"9496\",\"type\":\"BasicTickFormatter\"},{\"attributes\":{},\"id\":\"9032\",\"type\":\"BasicTicker\"},{\"attributes\":{\"overlay\":{\"id\":\"9041\"}},\"id\":\"9037\",\"type\":\"BoxZoomTool\"},{\"attributes\":{},\"id\":\"9490\",\"type\":\"BasicTickFormatter\"},{\"attributes\":{},\"id\":\"9040\",\"type\":\"HelpTool\"},{\"attributes\":{},\"id\":\"9497\",\"type\":\"AllLabels\"},{\"attributes\":{\"source\":{\"id\":\"8449\"}},\"id\":\"9053\",\"type\":\"CDSView\"},{\"attributes\":{},\"id\":\"9491\",\"type\":\"AllLabels\"},{\"attributes\":{},\"id\":\"9019\",\"type\":\"DataRange1d\"},{\"attributes\":{},\"id\":\"9021\",\"type\":\"DataRange1d\"},{\"attributes\":{},\"id\":\"9025\",\"type\":\"LinearScale\"},{\"attributes\":{},\"id\":\"9038\",\"type\":\"SaveTool\"}],\"root_ids\":[\"9090\"]},\"title\":\"Bokeh Application\",\"version\":\"2.3.0\"}};\n",
       "  var render_items = [{\"docid\":\"19279401-fcf4-454d-be03-62294ea48241\",\"root_ids\":[\"9090\"],\"roots\":{\"9090\":\"968bd575-7389-474c-a72e-508ee541891b\"}}];\n",
       "  root.Bokeh.embed.embed_items_notebook(docs_json, render_items);\n",
       "\n",
       "  }\n",
       "  if (root.Bokeh !== undefined) {\n",
       "    embed_document(root);\n",
       "  } else {\n",
       "    var attempts = 0;\n",
       "    var timer = setInterval(function(root) {\n",
       "      if (root.Bokeh !== undefined) {\n",
       "        clearInterval(timer);\n",
       "        embed_document(root);\n",
       "      } else {\n",
       "        attempts++;\n",
       "        if (attempts > 100) {\n",
       "          clearInterval(timer);\n",
       "          console.log(\"Bokeh: ERROR: Unable to run BokehJS code because BokehJS library is missing\");\n",
       "        }\n",
       "      }\n",
       "    }, 10, root)\n",
       "  }\n",
       "})(window);"
      ],
      "application/vnd.bokehjs_exec.v0+json": ""
     },
     "metadata": {
      "application/vnd.bokehjs_exec.v0+json": {
       "id": "9090"
      }
     },
     "output_type": "display_data"
    }
   ],
   "source": [
    "# Create a blank figure: p1\n",
    "p1 = figure(plot_height=300, x_axis_label='fertility (children per woman)', y_axis_label='female literacy (% population)')\n",
    "\n",
    "# Add circle scatter to the figure p1\n",
    "p1.circle('fertility', 'female literacy', source=source)\n",
    "\n",
    "# Create a new blank figure: p2\n",
    "p2 = figure(plot_height=300, x_axis_label='population', y_axis_label='female literacy (% population)')\n",
    "\n",
    "# Add circle scatter to the figure p2\n",
    "p2.circle('population', 'female literacy', source=source)\n",
    "\n",
    "# Put plots p1 and p2 in a column: layout\n",
    "layout = column(p1, p2)\n",
    "\n",
    "# Specify the name of the output_file and show the result\n",
    "# output_file('fert_column.html')\n",
    "show(layout)"
   ]
  },
  {
   "cell_type": "markdown",
   "metadata": {},
   "source": [
    "### Nesting rows and columns of plots\n",
    "\n",
    "You can create nested layouts of plots by combining row and column layouts. In this exercise, you'll make a 3-plot layout in two rows using the auto-mpg data set. Three plots have been created for you of average mpg vs year (`avg_mpg`), mpg vs hp (`mpg_hp`), and mpg vs weight (`mpg_weight`).\n",
    "\n",
    "Your job is to use the `row()` and `column()` functions to make a two-row layout where the first row will have only the average mpg vs year plot and the second row will have mpg vs hp and mpg vs weight plots as columns.\n",
    "\n",
    "By using the `sizing_mode` argument, you can scale the widths to fill the whole figure.\n",
    "\n",
    "**Instructions**\n",
    "\n",
    "* Import `row` and `column` from `bokeh.layouts`.\n",
    "* Create a row layout called `row2` with the figures `mpg_hp` and `mpg_weight` in a list and set `sizing_mode='scale_width'`.\n",
    "* Create a column layout called `layout` with the figure `avg_mpg` and the row layout `row2` in a list and set `sizing_mode='scale_width'`."
   ]
  },
  {
   "cell_type": "code",
   "execution_count": 49,
   "metadata": {},
   "outputs": [
    {
     "data": {
      "text/html": [
       "<div>\n",
       "<style scoped>\n",
       "    .dataframe tbody tr th:only-of-type {\n",
       "        vertical-align: middle;\n",
       "    }\n",
       "\n",
       "    .dataframe tbody tr th {\n",
       "        vertical-align: top;\n",
       "    }\n",
       "\n",
       "    .dataframe thead th {\n",
       "        text-align: right;\n",
       "    }\n",
       "</style>\n",
       "<table border=\"1\" class=\"dataframe\">\n",
       "  <thead>\n",
       "    <tr style=\"text-align: right;\">\n",
       "      <th></th>\n",
       "      <th>mpg</th>\n",
       "      <th>cyl</th>\n",
       "      <th>displ</th>\n",
       "      <th>hp</th>\n",
       "      <th>weight</th>\n",
       "      <th>accel</th>\n",
       "      <th>yr</th>\n",
       "      <th>origin</th>\n",
       "      <th>name</th>\n",
       "      <th>color</th>\n",
       "      <th>size</th>\n",
       "    </tr>\n",
       "  </thead>\n",
       "  <tbody>\n",
       "    <tr>\n",
       "      <th>0</th>\n",
       "      <td>18.0</td>\n",
       "      <td>6</td>\n",
       "      <td>250.0</td>\n",
       "      <td>88</td>\n",
       "      <td>3139</td>\n",
       "      <td>14.5</td>\n",
       "      <td>71</td>\n",
       "      <td>US</td>\n",
       "      <td>ford mustang</td>\n",
       "      <td>blue</td>\n",
       "      <td>15.0</td>\n",
       "    </tr>\n",
       "    <tr>\n",
       "      <th>1</th>\n",
       "      <td>9.0</td>\n",
       "      <td>8</td>\n",
       "      <td>304.0</td>\n",
       "      <td>193</td>\n",
       "      <td>4732</td>\n",
       "      <td>18.5</td>\n",
       "      <td>70</td>\n",
       "      <td>US</td>\n",
       "      <td>hi 1200d</td>\n",
       "      <td>blue</td>\n",
       "      <td>20.0</td>\n",
       "    </tr>\n",
       "    <tr>\n",
       "      <th>2</th>\n",
       "      <td>36.1</td>\n",
       "      <td>4</td>\n",
       "      <td>91.0</td>\n",
       "      <td>60</td>\n",
       "      <td>1800</td>\n",
       "      <td>16.4</td>\n",
       "      <td>78</td>\n",
       "      <td>Asia</td>\n",
       "      <td>honda civic cvcc</td>\n",
       "      <td>red</td>\n",
       "      <td>10.0</td>\n",
       "    </tr>\n",
       "    <tr>\n",
       "      <th>3</th>\n",
       "      <td>18.5</td>\n",
       "      <td>6</td>\n",
       "      <td>250.0</td>\n",
       "      <td>98</td>\n",
       "      <td>3525</td>\n",
       "      <td>19.0</td>\n",
       "      <td>77</td>\n",
       "      <td>US</td>\n",
       "      <td>ford granada</td>\n",
       "      <td>blue</td>\n",
       "      <td>15.0</td>\n",
       "    </tr>\n",
       "    <tr>\n",
       "      <th>4</th>\n",
       "      <td>34.3</td>\n",
       "      <td>4</td>\n",
       "      <td>97.0</td>\n",
       "      <td>78</td>\n",
       "      <td>2188</td>\n",
       "      <td>15.8</td>\n",
       "      <td>80</td>\n",
       "      <td>Europe</td>\n",
       "      <td>audi 4000</td>\n",
       "      <td>green</td>\n",
       "      <td>10.0</td>\n",
       "    </tr>\n",
       "  </tbody>\n",
       "</table>\n",
       "</div>"
      ],
      "text/plain": [
       "    mpg  cyl  displ   hp  weight  accel  yr  origin              name  color  \\\n",
       "0  18.0    6  250.0   88    3139   14.5  71      US      ford mustang   blue   \n",
       "1   9.0    8  304.0  193    4732   18.5  70      US          hi 1200d   blue   \n",
       "2  36.1    4   91.0   60    1800   16.4  78    Asia  honda civic cvcc    red   \n",
       "3  18.5    6  250.0   98    3525   19.0  77      US      ford granada   blue   \n",
       "4  34.3    4   97.0   78    2188   15.8  80  Europe         audi 4000  green   \n",
       "\n",
       "   size  \n",
       "0  15.0  \n",
       "1  20.0  \n",
       "2  10.0  \n",
       "3  15.0  \n",
       "4  10.0  "
      ]
     },
     "execution_count": 49,
     "metadata": {},
     "output_type": "execute_result"
    }
   ],
   "source": [
    "auto.head()"
   ]
  },
  {
   "cell_type": "code",
   "execution_count": 50,
   "metadata": {},
   "outputs": [
    {
     "data": {
      "text/html": [
       "\n",
       "\n",
       "\n",
       "\n",
       "\n",
       "\n",
       "  <div class=\"bk-root\" id=\"0b3255d8-33eb-40d8-b929-03dbb228108c\" data-root-id=\"9717\"></div>\n"
      ]
     },
     "metadata": {},
     "output_type": "display_data"
    },
    {
     "data": {
      "application/javascript": [
       "(function(root) {\n",
       "  function embed_document(root) {\n",
       "    \n",
       "  var docs_json = {\"4f6e2dde-0ca0-4bbe-a8bd-123b10ac1d85\":{\"defs\":[{\"extends\":null,\"module\":null,\"name\":\"DataModel\",\"overrides\":[],\"properties\":[]}],\"roots\":{\"references\":[{\"attributes\":{\"children\":[{\"id\":\"9608\"},{\"id\":\"9716\"}],\"sizing_mode\":\"scale_width\"},\"id\":\"9717\",\"type\":\"Column\"},{\"attributes\":{\"data\":{\"index\":[0,1,2,3,4,5,6,7,8,9,10,11,12],\"mpg\":{\"__ndarray__\":\"1AjLPY2wMUDHcRzHcRw1QG7btm3btjJAmpmZmZkZMUBP7MRO7MQ2QERERERERDRA09LS0tKSNUAAAAAAAGA3QPukT/qkDzhAWn2poNUXOUBtilHD3+ZAQPmKr/iKLz5AAAAAAAAAQEA=\",\"dtype\":\"float64\",\"order\":\"little\",\"shape\":[13]},\"yr\":[70,71,72,73,74,75,76,77,78,79,80,81,82]},\"selected\":{\"id\":\"10146\"},\"selection_policy\":{\"id\":\"10145\"}},\"id\":\"9606\",\"type\":\"ColumnDataSource\"},{\"attributes\":{\"data_source\":{\"id\":\"9607\"},\"glyph\":{\"id\":\"9676\"},\"hover_glyph\":null,\"muted_glyph\":null,\"nonselection_glyph\":{\"id\":\"9677\"},\"view\":{\"id\":\"9679\"}},\"id\":\"9678\",\"type\":\"GlyphRenderer\"},{\"attributes\":{},\"id\":\"9649\",\"type\":\"LinearScale\"},{\"attributes\":{\"fill_color\":{\"value\":\"#1f77b4\"},\"line_color\":{\"value\":\"#1f77b4\"},\"x\":{\"field\":\"hp\"},\"y\":{\"field\":\"mpg\"}},\"id\":\"9676\",\"type\":\"Circle\"},{\"attributes\":{\"data\":{\"accel\":{\"__ndarray__\":\"AAAAAAAALUAAAAAAAIAyQGZmZmZmZjBAAAAAAAAAM0CamZmZmZkvQJqZmZmZmS1AZmZmZmZmLkAAAAAAAAAyQM3MzMzMzC1AAAAAAAAAJUCamZmZmZk4QAAAAAAAADBAMzMzMzMzJ0AAAAAAAAArQAAAAAAAACNAAAAAAAAALECamZmZmZkyQGZmZmZmZjNAAAAAAAAANUAAAAAAAAArQAAAAAAAADBAAAAAAAAANUAAAAAAAAAsQAAAAAAAACRAAAAAAACAMkAAAAAAAAAvQM3MzMzMzCtAAAAAAAAALkAAAAAAAAAuQAAAAAAAgDFAzczMzMzMJkAAAAAAAAApQAAAAAAAADFAmpmZmZmZMEAAAAAAAAAvQAAAAAAAAC9AAAAAAAAAMEBmZmZmZmYmQM3MzMzMTDFAMzMzMzMzNkCamZmZmRkwQAAAAAAAACpAZmZmZmZmKkAzMzMzMzMmQDMzMzMzszRAAAAAAAAAM0BmZmZmZmYtQAAAAAAAACtAAAAAAAAAL0AAAAAAAAAxQAAAAAAAACdAzczMzMzMKkAAAAAAAAAsQAAAAAAAADBAAAAAAACAMEAAAAAAAAAtQAAAAAAAADBAMzMzMzOzMEBmZmZmZmYtQAAAAAAAAC5AAAAAAAAAM0AAAAAAAAAvQAAAAAAAADFAAAAAAAAAMUDNzMzMzMwuQAAAAAAAgDRAAAAAAAAAKEAAAAAAAAAvQAAAAAAAACtAAAAAAAAALkBmZmZmZmYrQAAAAAAAADJAAAAAAAAALUAAAAAAAAAnQJqZmZmZmStAzczMzMzMLUCamZmZmZkxQM3MzMzMzClAAAAAAAAAMEAAAAAAAAAsQJqZmZmZmTNAAAAAAAAAMEDNzMzMzMw4QM3MzMzMzC5AAAAAAAAAMEAAAAAAAAAsQAAAAAAAAC1AAAAAAAAAIUAzMzMzMzMwQAAAAAAAAChAmpmZmZkZNkAAAAAAAAAqQGZmZmZmZjBAAAAAAAAAL0AAAAAAAAAwQAAAAAAAAChAmpmZmZmZK0AzMzMzMzMyQAAAAAAAACtAMzMzMzOzMEBmZmZmZmYvQAAAAAAAACxAmpmZmZmZL0DNzMzMzMwsQAAAAAAAADFAAAAAAAAAL0AAAAAAAAA1QAAAAAAAADNAAAAAAAAAMUDNzMzMzMwvQAAAAAAAADNAAAAAAAAAJ0AAAAAAAIAzQAAAAAAAAChAAAAAAAAALUAAAAAAAAAzQGZmZmZm5jBAmpmZmZmZKUAAAAAAAAAqQJqZmZmZmSlAmpmZmZmZLkAAAAAAAAAyQAAAAAAAAClAZmZmZmbmM0CamZmZmZktQAAAAAAAACxAAAAAAACANEAAAAAAAAAvQAAAAAAAgDNAMzMzMzOzMkAAAAAAAAAnQAAAAAAAADFAZmZmZmZmLEAAAAAAAAAqQAAAAAAAACpAZmZmZmZmMEAAAAAAAAAvQDMzMzMzszVAAAAAAAAAMEAAAAAAAAAvQDMzMzMzszdAmpmZmZmZL0AzMzMzMzMzQJqZmZmZGTJAAAAAAAAAMEBmZmZmZmYwQAAAAAAAAClAAAAAAAAAKUDNzMzMzMwsQGZmZmZmZjRAAAAAAAAAKEAzMzMzMzMoQM3MzMzMzC1AAAAAAAAALkAAAAAAAIAzQAAAAAAAgDBAZmZmZmZmKkDNzMzMzMwwQAAAAAAAAC1AAAAAAAAAK0CamZmZmZkxQAAAAAAAgDBAZmZmZmZmL0AAAAAAAIAzQAAAAAAAAC9AAAAAAACAMUBmZmZmZmYxQAAAAAAAAC9AmpmZmZmZLEDNzMzMzMwtQAAAAAAAAC1AAAAAAAAAMEAAAAAAAAAtQAAAAAAAACZAmpmZmZmZMkAAAAAAAAAsQAAAAAAAADFAAAAAAACAMUAAAAAAAAAqQAAAAAAAADJAAAAAAAAAMUAAAAAAAIAzQDMzMzMzMzJAAAAAAAAAK0AAAAAAAIAwQDMzMzMzszFAMzMzMzOzMEAzMzMzMzMuQGZmZmZm5jFAmpmZmZmZKUAAAAAAAAAiQGZmZmZmZi9AzczMzMzMJkAzMzMzMzMxQDMzMzMzMzZAAAAAAAAAJkCamZmZmZkvQDMzMzMzMzBAAAAAAAAALUCamZmZmRk0QAAAAAAAADFAAAAAAACAM0AzMzMzMzMpQGZmZmZm5jBAAAAAAAAALkAAAAAAAIAxQAAAAAAAAC5AAAAAAAAAIUDNzMzMzMwtQDMzMzMzMzFAZmZmZmZmL0BmZmZmZmYuQM3MzMzMzCxAMzMzMzOzMUAAAAAAAAAzQM3MzMzMzDJAAAAAAAAAL0AAAAAAAIAwQAAAAAAAAC1AAAAAAAAAL0BmZmZmZmYqQJqZmZmZmTNAAAAAAAAAJEAAAAAAAIAyQM3MzMzMzC1AAAAAAAAAJkAAAAAAAIAyQM3MzMzMTDJAMzMzMzOzMkAzMzMzMzMwQAAAAAAAADVAAAAAAAAAL0AzMzMzMzMuQJqZmZmZGTFAAAAAAAAAKEAzMzMzMzMwQAAAAAAAADBAAAAAAAAALEDNzMzMzMwwQAAAAAAAgDVAmpmZmZkZNEAzMzMzMzMzQAAAAAAAAChAAAAAAAAAL0AAAAAAAAAqQJqZmZmZmTBAAAAAAAAAKEBmZmZmZmYxQDMzMzMzMzNAAAAAAAAAKkAAAAAAAIAwQAAAAAAAADNAAAAAAAAAJkAAAAAAAAApQGZmZmZmZipAMzMzMzMzMkAAAAAAAAAmQGZmZmZm5jVAzczMzMzMMUAAAAAAAIAwQAAAAAAAACZAAAAAAAAAK0CamZmZmZkuQGZmZmZmZi5AAAAAAAAAKkDNzMzMzMw1QAAAAAAAACRAAAAAAAAAJkAAAAAAAAAsQAAAAAAAADJAAAAAAAAAJEDNzMzMzMwtQAAAAAAAACpAZmZmZmbmMEAAAAAAAAAwQJqZmZmZmS1AAAAAAACAMEAAAAAAAAAxQAAAAAAAACxAAAAAAAAALUBmZmZmZmYwQAAAAAAAACtAZmZmZmZmM0AAAAAAAAAzQAAAAAAAgDJAAAAAAACAMEAAAAAAAAAuQGZmZmZmZihAZmZmZmZmK0AAAAAAAAAuQAAAAAAAACtAAAAAAAAAL0AAAAAAAAAtQAAAAAAAACxAmpmZmZmZL0AAAAAAAAAtQAAAAAAAAC1AmpmZmZmZL0CamZmZmZkyQGZmZmZmZjBAAAAAAAAALUAAAAAAAAApQJqZmZmZmSZAAAAAAAAALUBmZmZmZmYqQDMzMzMzMyxAAAAAAAAAI0BmZmZmZmYtQGZmZmZmZi1AzczMzMzMLEAAAAAAAAAvQJqZmZmZmS5AzczMzMzMKkAAAAAAAAAnQAAAAAAAACBAZmZmZmZmKEDNzMzMzMwxQAAAAAAAAClAAAAAAAAALUDNzMzMzMwrQM3MzMzMzCxAMzMzMzMzMkAAAAAAAIAwQAAAAAAAADJAAAAAAAAAM0AAAAAAAAAwQAAAAAAAACtAAAAAAAAAMUAAAAAAAAAoQGZmZmZmZixAAAAAAACAN0AAAAAAAAAqQM3MzMzMzC5AAAAAAAAAJ0AAAAAAAAAsQAAAAAAAADFAAAAAAAAAMkAAAAAAAAAqQDMzMzMzMy9AmpmZmZmZMkAAAAAAAAAoQM3MzMzMzC9AZmZmZmZmMEBmZmZmZmYwQDMzMzMzMytAZmZmZmZmKkAAAAAAAAArQAAAAAAAAC9AAAAAAAAAJ0AAAAAAAAAuQAAAAAAAAC5AMzMzMzOzMUAzMzMzMzMrQAAAAAAAACxAAAAAAACAMEAAAAAAAAAtQAAAAAAAACtAAAAAAAAALEAAAAAAAAAtQJqZmZmZmTFAmpmZmZmZMUAAAAAAAAAtQAAAAAAAADVAzczMzMzMKUBmZmZmZmYsQAAAAAAAACtAMzMzMzMzKUAAAAAAAAAwQAAAAAAAAClAAAAAAAAAM0AAAAAAAAAtQM3MzMzMTDFAAAAAAAAALkAAAAAAAAAuQAAAAAAAAC1AAAAAAAAAMkBmZmZmZmYtQAAAAAAAAC9AMzMzMzMzMkAAAAAAAAAsQAAAAAAAAC5AAAAAAACAMEBmZmZmZuYwQM3MzMzMTDFAAAAAAAAALUAAAAAAAAArQGZmZmZmZjNAAAAAAACAMEDNzMzMzEwxQJqZmZmZmTBAZmZmZmZmMEDNzMzMzMwuQA==\",\"dtype\":\"float64\",\"order\":\"little\",\"shape\":[392]},\"color\":[\"blue\",\"blue\",\"red\",\"blue\",\"green\",\"red\",\"red\",\"green\",\"blue\",\"blue\",\"green\",\"blue\",\"blue\",\"blue\",\"blue\",\"blue\",\"green\",\"blue\",\"red\",\"red\",\"blue\",\"blue\",\"blue\",\"blue\",\"blue\",\"green\",\"red\",\"red\",\"blue\",\"red\",\"red\",\"blue\",\"blue\",\"blue\",\"green\",\"green\",\"blue\",\"blue\",\"blue\",\"blue\",\"red\",\"blue\",\"blue\",\"blue\",\"blue\",\"red\",\"red\",\"blue\",\"blue\",\"blue\",\"blue\",\"blue\",\"red\",\"blue\",\"green\",\"blue\",\"blue\",\"blue\",\"blue\",\"red\",\"red\",\"blue\",\"blue\",\"blue\",\"blue\",\"blue\",\"blue\",\"blue\",\"blue\",\"blue\",\"blue\",\"green\",\"blue\",\"blue\",\"red\",\"blue\",\"blue\",\"blue\",\"blue\",\"green\",\"green\",\"green\",\"green\",\"blue\",\"blue\",\"green\",\"blue\",\"blue\",\"red\",\"blue\",\"blue\",\"blue\",\"blue\",\"red\",\"red\",\"blue\",\"red\",\"blue\",\"blue\",\"blue\",\"green\",\"green\",\"blue\",\"blue\",\"green\",\"green\",\"blue\",\"blue\",\"red\",\"green\",\"green\",\"blue\",\"blue\",\"blue\",\"green\",\"blue\",\"red\",\"blue\",\"blue\",\"blue\",\"green\",\"red\",\"blue\",\"green\",\"blue\",\"green\",\"green\",\"blue\",\"blue\",\"blue\",\"blue\",\"blue\",\"green\",\"blue\",\"blue\",\"red\",\"blue\",\"green\",\"blue\",\"blue\",\"green\",\"blue\",\"blue\",\"blue\",\"blue\",\"red\",\"green\",\"blue\",\"blue\",\"green\",\"blue\",\"blue\",\"green\",\"red\",\"blue\",\"blue\",\"blue\",\"red\",\"red\",\"blue\",\"red\",\"blue\",\"blue\",\"green\",\"green\",\"green\",\"blue\",\"red\",\"blue\",\"red\",\"blue\",\"red\",\"blue\",\"blue\",\"blue\",\"blue\",\"blue\",\"green\",\"blue\",\"blue\",\"blue\",\"green\",\"blue\",\"green\",\"blue\",\"blue\",\"green\",\"blue\",\"red\",\"green\",\"blue\",\"green\",\"blue\",\"blue\",\"blue\",\"blue\",\"blue\",\"blue\",\"red\",\"blue\",\"blue\",\"green\",\"blue\",\"red\",\"red\",\"red\",\"blue\",\"blue\",\"blue\",\"blue\",\"red\",\"red\",\"red\",\"blue\",\"blue\",\"red\",\"red\",\"red\",\"blue\",\"blue\",\"blue\",\"blue\",\"blue\",\"red\",\"blue\",\"blue\",\"blue\",\"red\",\"blue\",\"blue\",\"blue\",\"blue\",\"green\",\"blue\",\"blue\",\"blue\",\"blue\",\"blue\",\"red\",\"green\",\"green\",\"red\",\"blue\",\"red\",\"blue\",\"blue\",\"blue\",\"red\",\"red\",\"blue\",\"blue\",\"red\",\"blue\",\"red\",\"blue\",\"red\",\"blue\",\"green\",\"red\",\"blue\",\"blue\",\"blue\",\"green\",\"blue\",\"blue\",\"green\",\"blue\",\"blue\",\"blue\",\"blue\",\"blue\",\"blue\",\"blue\",\"green\",\"blue\",\"red\",\"blue\",\"red\",\"green\",\"blue\",\"blue\",\"red\",\"red\",\"blue\",\"blue\",\"red\",\"green\",\"green\",\"blue\",\"blue\",\"red\",\"blue\",\"blue\",\"blue\",\"blue\",\"red\",\"blue\",\"green\",\"red\",\"red\",\"green\",\"blue\",\"blue\",\"green\",\"blue\",\"green\",\"blue\",\"blue\",\"green\",\"blue\",\"blue\",\"green\",\"blue\",\"blue\",\"blue\",\"blue\",\"blue\",\"blue\",\"green\",\"blue\",\"blue\",\"red\",\"blue\",\"red\",\"blue\",\"blue\",\"blue\",\"red\",\"blue\",\"red\",\"green\",\"blue\",\"blue\",\"blue\",\"blue\",\"red\",\"blue\",\"blue\",\"blue\",\"blue\",\"blue\",\"blue\",\"blue\",\"blue\",\"blue\",\"blue\",\"blue\",\"blue\",\"blue\",\"blue\",\"blue\",\"blue\",\"green\",\"green\",\"red\",\"green\",\"red\",\"blue\",\"red\",\"blue\",\"blue\",\"green\",\"green\",\"blue\",\"green\",\"blue\",\"red\",\"blue\",\"blue\",\"red\",\"red\",\"blue\",\"blue\",\"blue\",\"blue\",\"blue\",\"green\",\"green\",\"blue\",\"blue\",\"blue\",\"green\",\"blue\",\"red\",\"red\",\"red\",\"red\",\"blue\",\"blue\",\"red\",\"blue\",\"blue\"],\"cyl\":[6,8,4,6,4,4,4,4,8,8,4,4,4,8,8,8,4,4,4,3,6,6,8,8,4,4,4,4,6,4,6,8,4,6,4,4,8,8,4,4,4,4,8,8,4,4,4,8,4,6,8,8,4,4,4,4,6,6,6,4,4,6,6,4,6,4,8,8,8,4,8,4,8,8,6,4,6,6,6,4,6,4,4,6,4,4,8,8,4,8,4,8,6,4,4,8,4,6,6,4,4,4,4,4,4,4,6,8,4,5,4,8,4,8,4,8,4,8,8,8,4,4,8,5,4,4,4,6,4,6,8,4,4,8,8,4,6,4,6,4,4,6,6,4,6,4,4,8,4,4,8,8,4,4,6,6,4,4,4,8,4,4,4,4,4,4,8,6,8,4,6,4,8,8,4,8,4,4,8,4,6,4,6,4,4,4,6,6,4,4,8,4,8,6,8,8,6,4,4,4,6,4,6,4,4,4,6,8,4,6,4,4,4,6,6,4,4,4,8,6,8,4,8,4,4,8,6,4,6,6,6,6,4,6,8,4,4,8,4,4,5,4,8,4,8,6,8,4,4,8,6,4,8,3,8,4,8,4,4,6,8,8,4,8,6,4,8,8,8,6,8,8,8,4,6,4,4,4,4,8,4,3,4,4,4,4,4,4,8,6,4,8,4,6,6,4,6,6,4,4,4,8,6,4,4,4,8,4,4,4,6,4,6,8,8,8,6,8,4,8,4,4,4,4,6,8,8,4,8,4,4,8,8,8,4,4,4,8,4,4,8,4,4,4,4,8,8,4,8,4,8,6,6,4,4,4,3,8,6,4,6,4,4,4,4,8,6,6,8,4,4,4,8,8,4,6,4,4,6,8,6,4,6,4,4,6,4,6,4,4,6,4],\"displ\":{\"__ndarray__\":\"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\",\"dtype\":\"float64\",\"order\":\"little\",\"shape\":[392]},\"hp\":[88,193,60,98,78,100,75,76,130,140,52,88,84,148,150,130,58,82,65,110,95,110,140,170,78,90,96,95,110,75,132,150,83,85,86,75,140,139,70,52,60,84,138,180,65,67,97,150,70,100,180,129,95,90,83,75,100,85,112,67,65,88,100,75,100,70,145,110,210,80,145,69,150,198,120,92,90,115,95,75,76,67,71,115,84,91,150,215,67,175,60,175,110,95,68,150,67,95,110,105,102,110,89,66,88,75,78,105,70,103,60,150,72,170,90,110,58,152,145,139,83,69,150,67,80,71,46,105,90,110,175,80,74,150,150,65,100,48,105,90,48,105,105,88,100,75,113,190,92,80,165,180,71,97,72,105,90,75,88,155,68,90,84,87,112,87,125,108,142,97,105,75,137,150,88,145,63,95,140,88,85,70,85,115,86,79,120,120,65,110,220,115,170,100,90,225,85,65,97,90,90,49,110,70,92,53,100,190,63,90,67,65,75,100,110,60,93,88,150,100,150,88,225,68,70,208,105,74,90,110,72,97,88,88,129,85,86,150,70,48,77,65,175,90,150,110,130,53,65,158,95,61,215,100,145,68,150,88,67,105,175,160,74,135,100,67,198,180,215,100,225,155,170,81,85,95,80,92,70,149,84,97,52,72,85,52,95,71,140,100,96,150,75,107,110,75,97,133,70,67,112,145,115,98,70,78,230,63,76,105,95,62,165,165,160,190,95,180,78,120,80,75,68,67,95,140,110,72,150,95,54,153,130,170,86,97,90,145,86,79,165,83,64,92,72,140,150,96,150,80,130,100,125,90,94,76,90,150,97,85,81,78,46,84,70,153,116,100,167,88,88,88,200,125,92,110,69,67,90,150,90,71,105,62,88,122,65,88,90,68,110,88],\"index\":[0,1,2,3,4,5,6,7,8,9,10,11,12,13,14,15,16,17,18,19,20,21,22,23,24,25,26,27,28,29,30,31,32,33,34,35,36,37,38,39,40,41,42,43,44,45,46,47,48,49,50,51,52,53,54,55,56,57,58,59,60,61,62,63,64,65,66,67,68,69,70,71,72,73,74,75,76,77,78,79,80,81,82,83,84,85,86,87,88,89,90,91,92,93,94,95,96,97,98,99,100,101,102,103,104,105,106,107,108,109,110,111,112,113,114,115,116,117,118,119,120,121,122,123,124,125,126,127,128,129,130,131,132,133,134,135,136,137,138,139,140,141,142,143,144,145,146,147,148,149,150,151,152,153,154,155,156,157,158,159,160,161,162,163,164,165,166,167,168,169,170,171,172,173,174,175,176,177,178,179,180,181,182,183,184,185,186,187,188,189,190,191,192,193,194,195,196,197,198,199,200,201,202,203,204,205,206,207,208,209,210,211,212,213,214,215,216,217,218,219,220,221,222,223,224,225,226,227,228,229,230,231,232,233,234,235,236,237,238,239,240,241,242,243,244,245,246,247,248,249,250,251,252,253,254,255,256,257,258,259,260,261,262,263,264,265,266,267,268,269,270,271,272,273,274,275,276,277,278,279,280,281,282,283,284,285,286,287,288,289,290,291,292,293,294,295,296,297,298,299,300,301,302,303,304,305,306,307,308,309,310,311,312,313,314,315,316,317,318,319,320,321,322,323,324,325,326,327,328,329,330,331,332,333,334,335,336,337,338,339,340,341,342,343,344,345,346,347,348,349,350,351,352,353,354,355,356,357,358,359,360,361,362,363,364,365,366,367,368,369,370,371,372,373,374,375,376,377,378,379,380,381,382,383,384,385,386,387,388,389,390,391],\"mpg\":{\"__ndarray__\":\"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\",\"dtype\":\"float64\",\"order\":\"little\",\"shape\":[392]},\"name\":[\"ford mustang\",\"hi 1200d\",\"honda civic cvcc\",\"ford granada\",\"audi 4000\",\"datsun 200sx\",\"toyota corolla\",\"volkswagen 411 (sw)\",\"mercury cougar brougham\",\"ford torino\",\"vw pickup\",\"pontiac sunbird coupe\",\"dodge rampage\",\"ford ltd\",\"chevrolet monte carlo\",\"chevrolet chevelle concours (sw)\",\"renault 5 gtl\",\"chevy s-10\",\"toyota corolla 1200\",\"mazda rx-4\",\"plymouth valiant custom\",\"buick century\",\"ford gran torino\",\"dodge challenger se\",\"pontiac astro\",\"fiat 124 sport coupe\",\"toyota celica gt\",\"toyota corona mark ii\",\"buick skyhawk\",\"mazda 626\",\"datsun 280-zx\",\"amc matador (sw)\",\"ford pinto\",\"chrysler lebaron salon\",\"fiat 131\",\"opel manta\",\"ford gran torino (sw)\",\"ford futura\",\"mercury lynx l\",\"chevrolet chevette\",\"honda civic 1300\",\"dodge charger 2.2\",\"mercury grand marquis\",\"pontiac grand prix lj\",\"ford escort 2h\",\"datsun b210\",\"datsun 510\",\"dodge coronet custom (sw)\",\"chevrolet chevette\",\"chevrolet nova\",\"dodge monaco (sw)\",\"ford ltd landau\",\"toyota corona\",\"buick skylark limited\",\"audi fox\",\"dodge omni\",\"amc gremlin\",\"mercury zephyr\",\"ford granada l\",\"honda civic\",\"toyota corolla 1200\",\"ford torino 500\",\"chevrolet chevelle malibu classic\",\"chevrolet vega\",\"plymouth valiant\",\"plymouth cricket\",\"chevy c10\",\"oldsmobile cutlass salon brougham\",\"dodge d200\",\"dodge colt (sw)\",\"dodge monaco brougham\",\"renault 12 (sw)\",\"plymouth fury gran sedan\",\"mercury marquis brougham\",\"datsun 810 maxima\",\"capri ii\",\"amc hornet\",\"oldsmobile omega brougham\",\"plymouth duster\",\"fiat 124 tc\",\"volvo diesel\",\"fiat x1.9\",\"peugeot 504\",\"pontiac lemans v6\",\"dodge aries se\",\"audi 100ls\",\"buick century luxus (sw)\",\"plymouth fury iii\",\"datsun 310 gx\",\"pontiac safari (sw)\",\"chevrolet woody\",\"buick century 350\",\"buick century limited\",\"toyota corona hardtop\",\"mazda glc 4\",\"chevrolet caprice classic\",\"honda civic 1500 gl\",\"chevrolet malibu\",\"amc hornet sportabout (sw)\",\"plymouth sapporo\",\"volvo 245\",\"saab 99le\",\"ford mustang ii 2+2\",\"ford fiesta\",\"peugeot 504\",\"fiat 128\",\"ford granada ghia\",\"oldsmobile cutlass ls\",\"datsun b-210\",\"audi 5000\",\"volkswagen model 111\",\"amc ambassador sst\",\"chevrolet vega\",\"ford country squire (sw)\",\"audi 100 ls\",\"oldsmobile cutlass supreme\",\"toyota starlet\",\"ford gran torino\",\"chevrolet malibu\",\"mercury monarch ghia\",\"renault 12tl\",\"datsun 1200\",\"dodge coronet custom\",\"audi 5000s (diesel)\",\"buick opel isuzu deluxe\",\"vw rabbit custom\",\"volkswagen 1131 deluxe sedan\",\"plymouth satellite custom\",\"chevrolet vega\",\"dodge aspen\",\"pontiac catalina brougham\",\"dodge colt hardtop\",\"volkswagen jetta\",\"plymouth fury iii\",\"chrysler lebaron town @ country (sw)\",\"datsun 310\",\"amc matador\",\"vw rabbit c (diesel)\",\"chevrolet nova\",\"chevrolet vega 2300\",\"vw dasher (diesel)\",\"buick century special\",\"pontiac phoenix lj\",\"ford fairmont\",\"amc hornet\",\"toyota corolla\",\"bmw 2002\",\"chrysler newport royal\",\"dodge aries wagon (sw)\",\"peugeot 505s turbo diesel\",\"chevrolet impala\",\"cadillac seville\",\"volkswagen scirocco\",\"honda civic\",\"ford maverick\",\"plymouth satellite sebring\",\"pontiac phoenix\",\"toyota corolla\",\"datsun pl510\",\"buick lesabre custom\",\"mazda glc custom\",\"chevrolet citation\",\"plymouth reliant\",\"peugeot 504 (sw)\",\"volvo 144ea\",\"peugeot 504\",\"cadillac eldorado\",\"toyota mark ii\",\"ford country squire (sw)\",\"datsun 200-sx\",\"chevrolet nova\",\"toyota corolla\",\"ford gran torino\",\"dodge dart custom\",\"chevrolet cavalier wagon\",\"chevrolet bel air\",\"chevrolet chevette\",\"saab 99e\",\"chevrolet chevelle malibu classic\",\"chevrolet cavalier 2-door\",\"oldsmobile cutlass ciera (diesel)\",\"peugeot 304\",\"mercury zephyr 6\",\"saab 99le\",\"ford pinto runabout\",\"dodge colt\",\"mercedes-benz 280s\",\"amc concord d/l\",\"mazda glc\",\"bmw 320i\",\"chevrolet impala\",\"saab 99gle\",\"chevrolet monte carlo landau\",\"plymouth volare\",\"oldsmobile cutlass salon brougham\",\"buick electra 225 custom\",\"ford fairmont (auto)\",\"ford escort 4w\",\"toyouta corona mark ii (sw)\",\"amc concord\",\"amc pacer\",\"fiat 128\",\"chevrolet citation\",\"toyota corolla\",\"datsun 510 hatchback\",\"honda civic cvcc\",\"amc gremlin\",\"amc ambassador dpl\",\"plymouth horizon 4\",\"amc concord\",\"honda civic (auto)\",\"maxda glc deluxe\",\"honda prelude\",\"dodge aspen se\",\"amc matador\",\"toyota corolla tercel\",\"subaru\",\"toyota corolla 1600 (sw)\",\"plymouth grand fury\",\"chevrolet chevelle malibu\",\"plymouth volare premier v8\",\"chevrolet cavalier\",\"buick estate wagon (sw)\",\"honda accord cvcc\",\"plymouth horizon tc3\",\"mercury marquis\",\"chevroelt chevelle malibu\",\"mazda 626\",\"dodge aspen\",\"pontiac ventura sj\",\"mercury monarch\",\"amc hornet\",\"triumph tr7 coupe\",\"ford granada gl\",\"ford mustang ii\",\"pontiac j2000 se hatchback\",\"ford pinto (sw)\",\"chevrolet impala\",\"datsun f-10 hatchback\",\"volkswagen rabbit custom diesel\",\"mercedes benz 300d\",\"datsun 210\",\"pontiac catalina\",\"toyota corona liftback\",\"dodge coronet brougham\",\"dodge aspen 6\",\"chevrolet chevelle malibu\",\"honda civic\",\"datsun 210\",\"ford ltd\",\"plymouth duster\",\"datsun 710\",\"chrysler new yorker brougham\",\"mazda rx-7 gs\",\"chevrolet monte carlo landau\",\"mazda glc custom l\",\"plymouth satellite\",\"peugeot 504\",\"subaru\",\"plymouth valiant\",\"amc ambassador brougham\",\"oldsmobile delta 88 royale\",\"volkswagen rabbit l\",\"dodge st. regis\",\"amc gremlin\",\"mercedes-benz 240d\",\"ford galaxie 500\",\"oldsmobile omega\",\"ford f250\",\"chevrolet nova custom\",\"pontiac catalina\",\"buick estate wagon (sw)\",\"plymouth custom suburb\",\"opel 1900\",\"ford maverick\",\"toyota celica gt liftback\",\"ford pinto\",\"datsun 510 (sw)\",\"volkswagen rabbit\",\"ford thunderbird\",\"buick skylark\",\"mazda rx2 coupe\",\"mazda glc deluxe\",\"chevrolet vega (sw)\",\"ford pinto\",\"toyota corona\",\"audi 100ls\",\"volkswagen rabbit\",\"dodge magnum xe\",\"pontiac firebird\",\"toyota corona\",\"amc matador (sw)\",\"dodge colt\",\"mercury capri v6\",\"buick century\",\"honda accord\",\"ford pinto\",\"peugeot 604sl\",\"datsun b210 gx\",\"subaru dl\",\"volvo 145e (sw)\",\"chevrolet caprice classic\",\"chevrolet citation\",\"volvo 244dl\",\"plymouth horizon\",\"volkswagen dasher\",\"pontiac grand prix\",\"plymouth horizon miser\",\"vw rabbit\",\"dodge colt\",\"plymouth duster\",\"vokswagen rabbit\",\"buick regal sport coupe (turbo)\",\"buick skylark 320\",\"plymouth 'cuda 340\",\"chrysler cordoba\",\"amc pacer d/l\",\"oldsmobile vista cruiser\",\"volkswagen rabbit custom\",\"amc matador\",\"dodge colt hatchback custom\",\"toyota corolla liftback\",\"chevrolet chevette\",\"subaru dl\",\"plymouth fury\",\"ford gran torino (sw)\",\"chevrolet monza 2+2\",\"honda accord\",\"amc rebel sst\",\"toyota corona\",\"volkswagen type 3\",\"ford galaxie 500\",\"chevrolet caprice classic\",\"pontiac catalina\",\"mercury capri 2000\",\"datsun 710\",\"pontiac phoenix\",\"chevrolet monte carlo s\",\"ford mustang gl\",\"ford ranger\",\"chevrolet impala\",\"dodge colt m/m\",\"plymouth champ\",\"ford fairmont futura\",\"ford pinto\",\"dodge diplomat\",\"plymouth fury iii\",\"plymouth arrow gs\",\"amc matador\",\"amc spirit dl\",\"ford f108\",\"plymouth volare custom\",\"volvo 264gl\",\"opel 1900\",\"datsun 610\",\"fiat 124b\",\"maxda rx3\",\"plymouth satellite custom (sw)\",\"datsun 810\",\"oldsmobile starfire sx\",\"ford maverick\",\"opel manta\",\"volkswagen super beetle\",\"plymouth reliant\",\"vw rabbit\",\"ford galaxie 500\",\"toyota cressida\",\"amc hornet\",\"ford country\",\"toyota carina\",\"datsun pl510\",\"ford fairmont 4\",\"chevy c20\",\"chevrolet malibu classic (sw)\",\"chrysler lebaron medallion\",\"amc matador\",\"fiat strada custom\",\"volkswagen dasher\",\"amc concord dl 6\",\"dodge d100\",\"amc gremlin\",\"volkswagen dasher\",\"buick skylark\",\"toyota tercel\",\"nissan stanza xe\",\"toyota mark ii\",\"datsun 210 mpg\",\"ford maverick\",\"chevrolet camaro\",\"honda accord lx\",\"chevrolet concours\",\"ford fairmont (man)\"],\"origin\":[\"US\",\"US\",\"Asia\",\"US\",\"Europe\",\"Asia\",\"Asia\",\"Europe\",\"US\",\"US\",\"Europe\",\"US\",\"US\",\"US\",\"US\",\"US\",\"Europe\",\"US\",\"Asia\",\"Asia\",\"US\",\"US\",\"US\",\"US\",\"US\",\"Europe\",\"Asia\",\"Asia\",\"US\",\"Asia\",\"Asia\",\"US\",\"US\",\"US\",\"Europe\",\"Europe\",\"US\",\"US\",\"US\",\"US\",\"Asia\",\"US\",\"US\",\"US\",\"US\",\"Asia\",\"Asia\",\"US\",\"US\",\"US\",\"US\",\"US\",\"Asia\",\"US\",\"Europe\",\"US\",\"US\",\"US\",\"US\",\"Asia\",\"Asia\",\"US\",\"US\",\"US\",\"US\",\"US\",\"US\",\"US\",\"US\",\"US\",\"US\",\"Europe\",\"US\",\"US\",\"Asia\",\"US\",\"US\",\"US\",\"US\",\"Europe\",\"Europe\",\"Europe\",\"Europe\",\"US\",\"US\",\"Europe\",\"US\",\"US\",\"Asia\",\"US\",\"US\",\"US\",\"US\",\"Asia\",\"Asia\",\"US\",\"Asia\",\"US\",\"US\",\"US\",\"Europe\",\"Europe\",\"US\",\"US\",\"Europe\",\"Europe\",\"US\",\"US\",\"Asia\",\"Europe\",\"Europe\",\"US\",\"US\",\"US\",\"Europe\",\"US\",\"Asia\",\"US\",\"US\",\"US\",\"Europe\",\"Asia\",\"US\",\"Europe\",\"US\",\"Europe\",\"Europe\",\"US\",\"US\",\"US\",\"US\",\"US\",\"Europe\",\"US\",\"US\",\"Asia\",\"US\",\"Europe\",\"US\",\"US\",\"Europe\",\"US\",\"US\",\"US\",\"US\",\"Asia\",\"Europe\",\"US\",\"US\",\"Europe\",\"US\",\"US\",\"Europe\",\"Asia\",\"US\",\"US\",\"US\",\"Asia\",\"Asia\",\"US\",\"Asia\",\"US\",\"US\",\"Europe\",\"Europe\",\"Europe\",\"US\",\"Asia\",\"US\",\"Asia\",\"US\",\"Asia\",\"US\",\"US\",\"US\",\"US\",\"US\",\"Europe\",\"US\",\"US\",\"US\",\"Europe\",\"US\",\"Europe\",\"US\",\"US\",\"Europe\",\"US\",\"Asia\",\"Europe\",\"US\",\"Europe\",\"US\",\"US\",\"US\",\"US\",\"US\",\"US\",\"Asia\",\"US\",\"US\",\"Europe\",\"US\",\"Asia\",\"Asia\",\"Asia\",\"US\",\"US\",\"US\",\"US\",\"Asia\",\"Asia\",\"Asia\",\"US\",\"US\",\"Asia\",\"Asia\",\"Asia\",\"US\",\"US\",\"US\",\"US\",\"US\",\"Asia\",\"US\",\"US\",\"US\",\"Asia\",\"US\",\"US\",\"US\",\"US\",\"Europe\",\"US\",\"US\",\"US\",\"US\",\"US\",\"Asia\",\"Europe\",\"Europe\",\"Asia\",\"US\",\"Asia\",\"US\",\"US\",\"US\",\"Asia\",\"Asia\",\"US\",\"US\",\"Asia\",\"US\",\"Asia\",\"US\",\"Asia\",\"US\",\"Europe\",\"Asia\",\"US\",\"US\",\"US\",\"Europe\",\"US\",\"US\",\"Europe\",\"US\",\"US\",\"US\",\"US\",\"US\",\"US\",\"US\",\"Europe\",\"US\",\"Asia\",\"US\",\"Asia\",\"Europe\",\"US\",\"US\",\"Asia\",\"Asia\",\"US\",\"US\",\"Asia\",\"Europe\",\"Europe\",\"US\",\"US\",\"Asia\",\"US\",\"US\",\"US\",\"US\",\"Asia\",\"US\",\"Europe\",\"Asia\",\"Asia\",\"Europe\",\"US\",\"US\",\"Europe\",\"US\",\"Europe\",\"US\",\"US\",\"Europe\",\"US\",\"US\",\"Europe\",\"US\",\"US\",\"US\",\"US\",\"US\",\"US\",\"Europe\",\"US\",\"US\",\"Asia\",\"US\",\"Asia\",\"US\",\"US\",\"US\",\"Asia\",\"US\",\"Asia\",\"Europe\",\"US\",\"US\",\"US\",\"US\",\"Asia\",\"US\",\"US\",\"US\",\"US\",\"US\",\"US\",\"US\",\"US\",\"US\",\"US\",\"US\",\"US\",\"US\",\"US\",\"US\",\"US\",\"Europe\",\"Europe\",\"Asia\",\"Europe\",\"Asia\",\"US\",\"Asia\",\"US\",\"US\",\"Europe\",\"Europe\",\"US\",\"Europe\",\"US\",\"Asia\",\"US\",\"US\",\"Asia\",\"Asia\",\"US\",\"US\",\"US\",\"US\",\"US\",\"Europe\",\"Europe\",\"US\",\"US\",\"US\",\"Europe\",\"US\",\"Asia\",\"Asia\",\"Asia\",\"Asia\",\"US\",\"US\",\"Asia\",\"US\",\"US\"],\"size\":{\"__ndarray__\":\"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\",\"dtype\":\"float64\",\"order\":\"little\",\"shape\":[392]},\"weight\":[3139,4732,1800,3525,2188,2615,2265,2511,4295,3449,2130,2740,2295,4657,3761,4098,1825,2720,1836,2720,3264,3907,4141,3563,2592,2265,2665,2372,3039,2542,2910,3892,2639,3465,2464,2158,4638,3205,2125,2035,1760,2370,3955,4220,2380,1950,2300,4457,2120,3336,4955,3725,2228,2670,2219,2230,2914,3070,2835,1965,1773,3302,3781,2542,3233,1955,4055,3365,4382,2164,4140,2189,4237,4952,2930,2572,3085,2700,2904,2246,3160,2000,3190,3245,2525,2582,4699,4312,1995,5140,2164,4100,2945,2278,1985,4464,1850,3155,2962,2745,3150,2660,2755,1800,2957,2108,3574,3725,1990,2830,1834,3672,2401,4746,2430,4060,1755,4215,3988,3570,2202,1613,3777,2950,2155,1925,1835,3439,2408,3620,4464,2126,2190,4096,3940,2019,3288,2085,3459,2264,2335,3380,3535,2870,2945,2155,2234,4422,2620,3230,4274,4380,1990,2489,3158,3613,2556,2350,2130,4502,1970,2678,2490,2979,2868,2672,3900,2930,4054,2405,3353,2171,4042,3399,2640,4440,2051,2375,4215,2395,3015,2074,2990,2671,2226,2255,3820,3410,2110,2600,4354,2795,4165,3430,3420,4951,2965,2045,2506,3003,3211,1867,2725,2245,2434,1795,2789,3850,2215,3210,1965,1975,2210,3651,3730,1968,2391,2100,4498,3329,3940,2605,3086,2045,2150,4633,3897,2635,3381,3645,3432,2774,2500,3060,3169,2575,2395,4997,1945,1985,3530,2110,4385,2711,4190,3360,3504,1795,2020,4363,3102,2003,4735,2420,3425,2025,3436,3270,2065,3121,3821,4456,1980,3830,2634,3250,4341,3664,4615,3278,4425,4360,4654,2220,2587,2515,2451,2288,1937,4335,2635,2330,1985,2408,2310,1649,2694,1825,4080,3282,2702,4257,2125,2472,3415,2205,2984,3410,2070,1985,2933,3880,2595,2945,2200,2190,4278,2125,2144,2800,2833,1845,3445,3693,3609,4325,3193,4499,1940,3962,1915,2265,2155,2145,3785,4294,3221,2290,3433,2560,2254,4129,3840,4668,2220,2545,2735,4082,2790,2625,4209,2075,1875,2865,2565,3735,4135,2300,3672,2670,3870,3630,3140,2123,2379,2065,2124,4077,2815,2855,3012,2300,1950,2385,1937,4154,2900,2901,4906,2279,2130,2890,4376,3605,2585,3632,2130,1963,3265,3755,2648,2223,3425,2050,2160,2807,1975,3021,2950,2135,3520,2720],\"yr\":[71,70,78,77,80,81,80,72,77,70,82,77,82,75,70,72,77,82,74,77,75,75,74,70,75,73,82,70,75,80,80,72,75,81,76,73,74,78,82,76,81,82,79,77,81,74,78,74,80,74,71,79,71,79,74,78,75,78,82,82,71,71,74,74,76,71,76,78,70,72,77,72,73,73,81,76,76,79,73,74,81,74,79,79,82,73,74,70,82,71,76,73,82,72,81,73,80,78,71,78,76,73,77,78,75,74,76,81,76,78,71,72,73,71,70,77,81,76,73,78,76,71,73,80,77,79,70,71,72,78,71,72,81,71,79,80,71,80,75,71,80,78,78,80,73,76,70,72,81,81,72,76,78,74,75,74,79,81,70,72,82,80,81,72,73,70,79,76,79,78,76,75,73,73,82,75,77,70,76,82,82,71,79,75,72,76,76,78,80,77,70,78,77,78,79,73,78,81,72,80,75,73,81,82,80,75,73,70,81,78,82,79,81,76,75,80,74,72,75,71,76,82,70,77,79,72,75,81,80,76,75,70,80,81,75,82,72,73,77,78,79,80,72,80,76,79,70,76,79,73,74,74,73,80,78,82,70,76,81,73,73,72,82,79,71,80,70,73,70,73,70,79,73,76,70,78,74,72,75,77,81,72,78,71,73,74,75,76,78,71,75,74,74,73,81,82,75,78,78,77,72,77,79,75,79,77,73,82,80,80,70,80,78,70,70,77,76,73,77,76,79,77,78,80,75,72,75,80,70,78,72,72,79,75,71,75,82,73,82,82,71,77,81,82,76,78,72,77,73,79,76,77,78,71,73,71,73,72,77,78,76,74,73,81,76,71,81,74,73,73,71,79,70,79,82,74,79,74,79,76,70,75,77,81,82,73,81,73,82,78,77,78]},\"selected\":{\"id\":\"10161\"},\"selection_policy\":{\"id\":\"10160\"}},\"id\":\"9607\",\"type\":\"ColumnDataSource\"},{\"attributes\":{},\"id\":\"9651\",\"type\":\"LinearScale\"},{\"attributes\":{\"fill_alpha\":{\"value\":0.1},\"fill_color\":{\"value\":\"#1f77b4\"},\"line_alpha\":{\"value\":0.1},\"line_color\":{\"value\":\"#1f77b4\"},\"x\":{\"field\":\"hp\"},\"y\":{\"field\":\"mpg\"}},\"id\":\"9677\",\"type\":\"Circle\"},{\"attributes\":{},\"id\":\"9683\",\"type\":\"DataRange1d\"},{\"attributes\":{},\"id\":\"9681\",\"type\":\"DataRange1d\"},{\"attributes\":{},\"id\":\"9654\",\"type\":\"BasicTicker\"},{\"attributes\":{\"source\":{\"id\":\"9607\"}},\"id\":\"9679\",\"type\":\"CDSView\"},{\"attributes\":{},\"id\":\"9645\",\"type\":\"DataRange1d\"},{\"attributes\":{\"fill_color\":{\"value\":\"#1f77b4\"},\"line_color\":{\"value\":\"#1f77b4\"},\"x\":{\"field\":\"weight\"},\"y\":{\"field\":\"mpg\"}},\"id\":\"9712\",\"type\":\"Circle\"},{\"attributes\":{\"below\":[{\"id\":\"9689\"}],\"center\":[{\"id\":\"9692\"},{\"id\":\"9696\"}],\"height\":300,\"left\":[{\"id\":\"9693\"}],\"renderers\":[{\"id\":\"9714\"}],\"sizing_mode\":\"scale_width\",\"title\":{\"id\":\"10143\"},\"toolbar\":{\"id\":\"9704\"},\"x_range\":{\"id\":\"9681\"},\"x_scale\":{\"id\":\"9685\"},\"y_range\":{\"id\":\"9683\"},\"y_scale\":{\"id\":\"9687\"}},\"id\":\"9680\",\"subtype\":\"Figure\",\"type\":\"Plot\"},{\"attributes\":{},\"id\":\"9687\",\"type\":\"LinearScale\"},{\"attributes\":{\"fill_alpha\":{\"value\":0.1},\"fill_color\":{\"value\":\"#1f77b4\"},\"line_alpha\":{\"value\":0.1},\"line_color\":{\"value\":\"#1f77b4\"},\"x\":{\"field\":\"weight\"},\"y\":{\"field\":\"mpg\"}},\"id\":\"9713\",\"type\":\"Circle\"},{\"attributes\":{},\"id\":\"9685\",\"type\":\"LinearScale\"},{\"attributes\":{\"axis_label\":\"weight\",\"formatter\":{\"id\":\"10157\"},\"major_label_policy\":{\"id\":\"10158\"},\"ticker\":{\"id\":\"9690\"}},\"id\":\"9689\",\"type\":\"LinearAxis\"},{\"attributes\":{},\"id\":\"9690\",\"type\":\"BasicTicker\"},{\"attributes\":{\"axis\":{\"id\":\"9689\"},\"ticker\":null},\"id\":\"9692\",\"type\":\"Grid\"},{\"attributes\":{},\"id\":\"9698\",\"type\":\"WheelZoomTool\"},{\"attributes\":{\"axis_label\":\"mpg\",\"formatter\":{\"id\":\"10154\"},\"major_label_policy\":{\"id\":\"10155\"},\"ticker\":{\"id\":\"9694\"}},\"id\":\"9693\",\"type\":\"LinearAxis\"},{\"attributes\":{\"axis\":{\"id\":\"9693\"},\"dimension\":1,\"ticker\":null},\"id\":\"9696\",\"type\":\"Grid\"},{\"attributes\":{},\"id\":\"9694\",\"type\":\"BasicTicker\"},{\"attributes\":{},\"id\":\"9702\",\"type\":\"HelpTool\"},{\"attributes\":{},\"id\":\"9697\",\"type\":\"PanTool\"},{\"attributes\":{\"overlay\":{\"id\":\"9703\"}},\"id\":\"9699\",\"type\":\"BoxZoomTool\"},{\"attributes\":{},\"id\":\"9700\",\"type\":\"SaveTool\"},{\"attributes\":{},\"id\":\"9701\",\"type\":\"ResetTool\"},{\"attributes\":{},\"id\":\"10133\",\"type\":\"Title\"},{\"attributes\":{\"source\":{\"id\":\"9607\"}},\"id\":\"9715\",\"type\":\"CDSView\"},{\"attributes\":{\"data_source\":{\"id\":\"9607\"},\"glyph\":{\"id\":\"9712\"},\"hover_glyph\":null,\"muted_glyph\":null,\"nonselection_glyph\":{\"id\":\"9713\"},\"view\":{\"id\":\"9715\"}},\"id\":\"9714\",\"type\":\"GlyphRenderer\"},{\"attributes\":{\"active_multi\":null,\"tools\":[{\"id\":\"9697\"},{\"id\":\"9698\"},{\"id\":\"9699\"},{\"id\":\"9700\"},{\"id\":\"9701\"},{\"id\":\"9702\"}]},\"id\":\"9704\",\"type\":\"Toolbar\"},{\"attributes\":{\"bottom_units\":\"screen\",\"fill_alpha\":0.5,\"fill_color\":\"lightgrey\",\"left_units\":\"screen\",\"level\":\"overlay\",\"line_alpha\":1.0,\"line_color\":\"black\",\"line_dash\":[4,4],\"line_width\":2,\"right_units\":\"screen\",\"syncable\":false,\"top_units\":\"screen\"},\"id\":\"9703\",\"type\":\"BoxAnnotation\"},{\"attributes\":{\"axis_label\":\"hp\",\"formatter\":{\"id\":\"10151\"},\"major_label_policy\":{\"id\":\"10152\"},\"ticker\":{\"id\":\"9654\"}},\"id\":\"9653\",\"type\":\"LinearAxis\"},{\"attributes\":{},\"id\":\"9647\",\"type\":\"DataRange1d\"},{\"attributes\":{\"axis\":{\"id\":\"9653\"},\"ticker\":null},\"id\":\"9656\",\"type\":\"Grid\"},{\"attributes\":{\"axis\":{\"id\":\"9621\"},\"dimension\":1,\"ticker\":null},\"id\":\"9624\",\"type\":\"Grid\"},{\"attributes\":{},\"id\":\"10148\",\"type\":\"BasicTickFormatter\"},{\"attributes\":{},\"id\":\"10160\",\"type\":\"UnionRenderers\"},{\"attributes\":{},\"id\":\"10149\",\"type\":\"AllLabels\"},{\"attributes\":{},\"id\":\"9629\",\"type\":\"ResetTool\"},{\"attributes\":{},\"id\":\"10161\",\"type\":\"Selection\"},{\"attributes\":{\"active_multi\":null,\"tools\":[{\"id\":\"9625\"},{\"id\":\"9626\"},{\"id\":\"9627\"},{\"id\":\"9628\"},{\"id\":\"9629\"},{\"id\":\"9630\"}]},\"id\":\"9632\",\"type\":\"Toolbar\"},{\"attributes\":{},\"id\":\"9622\",\"type\":\"BasicTicker\"},{\"attributes\":{\"axis_label\":\"year\",\"formatter\":{\"id\":\"10138\"},\"major_label_policy\":{\"id\":\"10139\"},\"ticker\":{\"id\":\"9618\"}},\"id\":\"9617\",\"type\":\"LinearAxis\"},{\"attributes\":{},\"id\":\"10136\",\"type\":\"AllLabels\"},{\"attributes\":{\"below\":[{\"id\":\"9617\"}],\"center\":[{\"id\":\"9620\"},{\"id\":\"9624\"}],\"height\":150,\"left\":[{\"id\":\"9621\"}],\"renderers\":[{\"id\":\"9642\"}],\"sizing_mode\":\"scale_width\",\"title\":{\"id\":\"10133\"},\"toolbar\":{\"id\":\"9632\"},\"x_range\":{\"id\":\"9609\"},\"x_scale\":{\"id\":\"9613\"},\"y_range\":{\"id\":\"9611\"},\"y_scale\":{\"id\":\"9615\"}},\"id\":\"9608\",\"subtype\":\"Figure\",\"type\":\"Plot\"},{\"attributes\":{},\"id\":\"10138\",\"type\":\"BasicTickFormatter\"},{\"attributes\":{},\"id\":\"10135\",\"type\":\"BasicTickFormatter\"},{\"attributes\":{},\"id\":\"10139\",\"type\":\"AllLabels\"},{\"attributes\":{},\"id\":\"10151\",\"type\":\"BasicTickFormatter\"},{\"attributes\":{},\"id\":\"10152\",\"type\":\"AllLabels\"},{\"attributes\":{},\"id\":\"10141\",\"type\":\"Title\"},{\"attributes\":{\"bottom_units\":\"screen\",\"fill_alpha\":0.5,\"fill_color\":\"lightgrey\",\"left_units\":\"screen\",\"level\":\"overlay\",\"line_alpha\":1.0,\"line_color\":\"black\",\"line_dash\":[4,4],\"line_width\":2,\"right_units\":\"screen\",\"syncable\":false,\"top_units\":\"screen\"},\"id\":\"9667\",\"type\":\"BoxAnnotation\"},{\"attributes\":{},\"id\":\"10143\",\"type\":\"Title\"},{\"attributes\":{\"line_color\":\"#1f77b4\",\"x\":{\"field\":\"yr\"},\"y\":{\"field\":\"mpg\"}},\"id\":\"9640\",\"type\":\"Line\"},{\"attributes\":{},\"id\":\"10154\",\"type\":\"BasicTickFormatter\"},{\"attributes\":{},\"id\":\"9661\",\"type\":\"PanTool\"},{\"attributes\":{},\"id\":\"10155\",\"type\":\"AllLabels\"},{\"attributes\":{},\"id\":\"9664\",\"type\":\"SaveTool\"},{\"attributes\":{},\"id\":\"9665\",\"type\":\"ResetTool\"},{\"attributes\":{},\"id\":\"10145\",\"type\":\"UnionRenderers\"},{\"attributes\":{},\"id\":\"10146\",\"type\":\"Selection\"},{\"attributes\":{\"bottom_units\":\"screen\",\"fill_alpha\":0.5,\"fill_color\":\"lightgrey\",\"left_units\":\"screen\",\"level\":\"overlay\",\"line_alpha\":1.0,\"line_color\":\"black\",\"line_dash\":[4,4],\"line_width\":2,\"right_units\":\"screen\",\"syncable\":false,\"top_units\":\"screen\"},\"id\":\"9631\",\"type\":\"BoxAnnotation\"},{\"attributes\":{},\"id\":\"10157\",\"type\":\"BasicTickFormatter\"},{\"attributes\":{},\"id\":\"9630\",\"type\":\"HelpTool\"},{\"attributes\":{},\"id\":\"9626\",\"type\":\"WheelZoomTool\"},{\"attributes\":{\"axis_label\":\"mean mpg\",\"formatter\":{\"id\":\"10135\"},\"major_label_policy\":{\"id\":\"10136\"},\"ticker\":{\"id\":\"9622\"}},\"id\":\"9621\",\"type\":\"LinearAxis\"},{\"attributes\":{},\"id\":\"10158\",\"type\":\"AllLabels\"},{\"attributes\":{\"overlay\":{\"id\":\"9631\"}},\"id\":\"9627\",\"type\":\"BoxZoomTool\"},{\"attributes\":{},\"id\":\"9628\",\"type\":\"SaveTool\"},{\"attributes\":{\"line_alpha\":0.1,\"line_color\":\"#1f77b4\",\"x\":{\"field\":\"yr\"},\"y\":{\"field\":\"mpg\"}},\"id\":\"9641\",\"type\":\"Line\"},{\"attributes\":{},\"id\":\"9618\",\"type\":\"BasicTicker\"},{\"attributes\":{\"axis_label\":\"mpg\",\"formatter\":{\"id\":\"10148\"},\"major_label_policy\":{\"id\":\"10149\"},\"ticker\":{\"id\":\"9658\"}},\"id\":\"9657\",\"type\":\"LinearAxis\"},{\"attributes\":{\"axis\":{\"id\":\"9617\"},\"ticker\":null},\"id\":\"9620\",\"type\":\"Grid\"},{\"attributes\":{},\"id\":\"9625\",\"type\":\"PanTool\"},{\"attributes\":{\"active_multi\":null,\"tools\":[{\"id\":\"9661\"},{\"id\":\"9662\"},{\"id\":\"9663\"},{\"id\":\"9664\"},{\"id\":\"9665\"},{\"id\":\"9666\"}]},\"id\":\"9668\",\"type\":\"Toolbar\"},{\"attributes\":{},\"id\":\"9666\",\"type\":\"HelpTool\"},{\"attributes\":{\"axis\":{\"id\":\"9657\"},\"dimension\":1,\"ticker\":null},\"id\":\"9660\",\"type\":\"Grid\"},{\"attributes\":{\"children\":[{\"id\":\"9644\"},{\"id\":\"9680\"}],\"sizing_mode\":\"scale_width\"},\"id\":\"9716\",\"type\":\"Row\"},{\"attributes\":{},\"id\":\"9658\",\"type\":\"BasicTicker\"},{\"attributes\":{},\"id\":\"9611\",\"type\":\"DataRange1d\"},{\"attributes\":{\"source\":{\"id\":\"9606\"}},\"id\":\"9643\",\"type\":\"CDSView\"},{\"attributes\":{},\"id\":\"9615\",\"type\":\"LinearScale\"},{\"attributes\":{\"overlay\":{\"id\":\"9667\"}},\"id\":\"9663\",\"type\":\"BoxZoomTool\"},{\"attributes\":{\"below\":[{\"id\":\"9653\"}],\"center\":[{\"id\":\"9656\"},{\"id\":\"9660\"}],\"height\":300,\"left\":[{\"id\":\"9657\"}],\"renderers\":[{\"id\":\"9678\"}],\"sizing_mode\":\"scale_width\",\"title\":{\"id\":\"10141\"},\"toolbar\":{\"id\":\"9668\"},\"x_range\":{\"id\":\"9645\"},\"x_scale\":{\"id\":\"9649\"},\"y_range\":{\"id\":\"9647\"},\"y_scale\":{\"id\":\"9651\"}},\"id\":\"9644\",\"subtype\":\"Figure\",\"type\":\"Plot\"},{\"attributes\":{\"data_source\":{\"id\":\"9606\"},\"glyph\":{\"id\":\"9640\"},\"hover_glyph\":null,\"muted_glyph\":null,\"nonselection_glyph\":{\"id\":\"9641\"},\"view\":{\"id\":\"9643\"}},\"id\":\"9642\",\"type\":\"GlyphRenderer\"},{\"attributes\":{},\"id\":\"9662\",\"type\":\"WheelZoomTool\"},{\"attributes\":{},\"id\":\"9613\",\"type\":\"LinearScale\"},{\"attributes\":{},\"id\":\"9609\",\"type\":\"DataRange1d\"}],\"root_ids\":[\"9717\"]},\"title\":\"Bokeh Application\",\"version\":\"2.3.0\"}};\n",
       "  var render_items = [{\"docid\":\"4f6e2dde-0ca0-4bbe-a8bd-123b10ac1d85\",\"root_ids\":[\"9717\"],\"roots\":{\"9717\":\"0b3255d8-33eb-40d8-b929-03dbb228108c\"}}];\n",
       "  root.Bokeh.embed.embed_items_notebook(docs_json, render_items);\n",
       "\n",
       "  }\n",
       "  if (root.Bokeh !== undefined) {\n",
       "    embed_document(root);\n",
       "  } else {\n",
       "    var attempts = 0;\n",
       "    var timer = setInterval(function(root) {\n",
       "      if (root.Bokeh !== undefined) {\n",
       "        clearInterval(timer);\n",
       "        embed_document(root);\n",
       "      } else {\n",
       "        attempts++;\n",
       "        if (attempts > 100) {\n",
       "          clearInterval(timer);\n",
       "          console.log(\"Bokeh: ERROR: Unable to run BokehJS code because BokehJS library is missing\");\n",
       "        }\n",
       "      }\n",
       "    }, 10, root)\n",
       "  }\n",
       "})(window);"
      ],
      "application/vnd.bokehjs_exec.v0+json": ""
     },
     "metadata": {
      "application/vnd.bokehjs_exec.v0+json": {
       "id": "9717"
      }
     },
     "output_type": "display_data"
    }
   ],
   "source": [
    "avg_mpg_df = pd.DataFrame(auto.groupby('yr')['mpg'].mean()).reset_index()\n",
    "avg_mpg_source = ColumnDataSource(avg_mpg_df)\n",
    "\n",
    "auto_source = ColumnDataSource(auto)\n",
    "\n",
    "avg_mpg = figure(plot_height=150, x_axis_label='year', y_axis_label='mean mpg')\n",
    "avg_mpg.line('yr', 'mpg', source=avg_mpg_source)\n",
    "\n",
    "mpg_hp = figure(plot_height=300, x_axis_label='hp', y_axis_label='mpg')\n",
    "mpg_hp.circle('hp', 'mpg', source=auto_source)\n",
    "\n",
    "mpg_weight = figure(plot_height=300, x_axis_label='weight', y_axis_label='mpg')\n",
    "mpg_weight.circle('weight', 'mpg', source=auto_source)\n",
    "\n",
    "# Make a row layout that will be used as the second row: row2\n",
    "row2 = row([mpg_hp, mpg_weight], sizing_mode='scale_width')\n",
    "\n",
    "# Make a column layout that includes the above row layout: layout\n",
    "layout = column([avg_mpg, row2], sizing_mode='scale_width')\n",
    "\n",
    "# Specify the name of the output_file and show the result\n",
    "# output_file('layout_custom.html')\n",
    "show(layout)"
   ]
  },
  {
   "cell_type": "markdown",
   "metadata": {},
   "source": [
    "## Advanced layouts\n",
    "\n",
    "**Gridplots**\n",
    "\n",
    "* Give a “list of rows” for layout\n",
    "* can use None as a placeholder\n",
    "* Accepts `toolbar_location`, which can be set to `'above'`, `'below'`, `'left'`, or `'right'`."
   ]
  },
  {
   "cell_type": "code",
   "execution_count": 51,
   "metadata": {},
   "outputs": [
    {
     "data": {
      "text/html": [
       "\n",
       "\n",
       "\n",
       "\n",
       "\n",
       "\n",
       "  <div class=\"bk-root\" id=\"47541f13-a264-40f1-b990-4154fd30c94c\" data-root-id=\"10467\"></div>\n"
      ]
     },
     "metadata": {},
     "output_type": "display_data"
    },
    {
     "data": {
      "application/javascript": [
       "(function(root) {\n",
       "  function embed_document(root) {\n",
       "    \n",
       "  var docs_json = {\"fd3b8d9a-e4ca-44b8-9966-caccd244ece5\":{\"defs\":[{\"extends\":null,\"module\":null,\"name\":\"DataModel\",\"overrides\":[],\"properties\":[]}],\"roots\":{\"references\":[{\"attributes\":{\"children\":[[{\"id\":\"10320\"},0,1],[{\"id\":\"10358\"},1,0],[{\"id\":\"10396\"},1,1]]},\"id\":\"10467\",\"type\":\"GridBox\"},{\"attributes\":{},\"id\":\"10378\",\"type\":\"WheelZoomTool\"},{\"attributes\":{},\"id\":\"10382\",\"type\":\"HelpTool\"},{\"attributes\":{},\"id\":\"10377\",\"type\":\"PanTool\"},{\"attributes\":{\"overlay\":{\"id\":\"10383\"}},\"id\":\"10379\",\"type\":\"BoxZoomTool\"},{\"attributes\":{},\"id\":\"10380\",\"type\":\"SaveTool\"},{\"attributes\":{},\"id\":\"10381\",\"type\":\"ResetTool\"},{\"attributes\":{\"source\":{\"id\":\"10391\"}},\"id\":\"10395\",\"type\":\"CDSView\"},{\"attributes\":{\"active_multi\":null,\"tools\":[{\"id\":\"10415\"},{\"id\":\"10416\"},{\"id\":\"10417\"},{\"id\":\"10418\"},{\"id\":\"10419\"},{\"id\":\"10420\"}]},\"id\":\"10422\",\"type\":\"Toolbar\"},{\"attributes\":{\"text\":\"petal length vs. petal width\"},\"id\":\"10397\",\"type\":\"Title\"},{\"attributes\":{\"data_source\":{\"id\":\"10391\"},\"glyph\":{\"id\":\"10392\"},\"hover_glyph\":null,\"muted_glyph\":null,\"nonselection_glyph\":{\"id\":\"10393\"},\"view\":{\"id\":\"10395\"}},\"id\":\"10394\",\"type\":\"GlyphRenderer\"},{\"attributes\":{\"bottom_units\":\"screen\",\"fill_alpha\":0.5,\"fill_color\":\"lightgrey\",\"left_units\":\"screen\",\"level\":\"overlay\",\"line_alpha\":1.0,\"line_color\":\"black\",\"line_dash\":[4,4],\"line_width\":2,\"right_units\":\"screen\",\"syncable\":false,\"top_units\":\"screen\"},\"id\":\"10345\",\"type\":\"BoxAnnotation\"},{\"attributes\":{\"fill_color\":{\"value\":\"green\"},\"line_color\":{\"value\":\"green\"},\"x\":{\"field\":\"x\"},\"y\":{\"field\":\"y\"}},\"id\":\"10392\",\"type\":\"Circle\"},{\"attributes\":{},\"id\":\"10399\",\"type\":\"DataRange1d\"},{\"attributes\":{\"bottom_units\":\"screen\",\"fill_alpha\":0.5,\"fill_color\":\"lightgrey\",\"left_units\":\"screen\",\"level\":\"overlay\",\"line_alpha\":1.0,\"line_color\":\"black\",\"line_dash\":[4,4],\"line_width\":2,\"right_units\":\"screen\",\"syncable\":false,\"top_units\":\"screen\"},\"id\":\"10421\",\"type\":\"BoxAnnotation\"},{\"attributes\":{\"data\":{\"x\":{\"__ndarray__\":\"ZmZmZmZm9j9mZmZmZmb2P83MzMzMzPQ/AAAAAAAA+D9mZmZmZmb2PzMzMzMzM/s/ZmZmZmZm9j8AAAAAAAD4P2ZmZmZmZvY/AAAAAAAA+D8AAAAAAAD4P5qZmZmZmfk/ZmZmZmZm9j+amZmZmZnxPzMzMzMzM/M/AAAAAAAA+D/NzMzMzMz0P2ZmZmZmZvY/MzMzMzMz+z8AAAAAAAD4PzMzMzMzM/s/AAAAAAAA+D8AAAAAAADwPzMzMzMzM/s/ZmZmZmZm/j+amZmZmZn5P5qZmZmZmfk/AAAAAAAA+D9mZmZmZmb2P5qZmZmZmfk/mpmZmZmZ+T8AAAAAAAD4PwAAAAAAAPg/ZmZmZmZm9j8AAAAAAAD4PzMzMzMzM/M/zczMzMzM9D9mZmZmZmb2P83MzMzMzPQ/AAAAAAAA+D/NzMzMzMz0P83MzMzMzPQ/zczMzMzM9D+amZmZmZn5P2ZmZmZmZv4/ZmZmZmZm9j+amZmZmZn5P2ZmZmZmZvY/AAAAAAAA+D9mZmZmZmb2P83MzMzMzBJAAAAAAAAAEkCamZmZmZkTQAAAAAAAABBAZmZmZmZmEkAAAAAAAAASQM3MzMzMzBJAZmZmZmZmCkBmZmZmZmYSQDMzMzMzMw9AAAAAAAAADEDNzMzMzMwQQAAAAAAAABBAzczMzMzMEkDNzMzMzMwMQJqZmZmZmRFAAAAAAAAAEkBmZmZmZmYQQAAAAAAAABJAMzMzMzMzD0AzMzMzMzMTQAAAAAAAABBAmpmZmZmZE0DNzMzMzMwSQDMzMzMzMxFAmpmZmZmZEUAzMzMzMzMTQAAAAAAAABRAAAAAAAAAEkAAAAAAAAAMQGZmZmZmZg5AmpmZmZmZDUAzMzMzMzMPQGZmZmZmZhRAAAAAAAAAEkAAAAAAAAASQM3MzMzMzBJAmpmZmZmZEUBmZmZmZmYQQAAAAAAAABBAmpmZmZmZEUBmZmZmZmYSQAAAAAAAABBAZmZmZmZmCkDNzMzMzMwQQM3MzMzMzBBAzczMzMzMEEAzMzMzMzMRQAAAAAAAAAhAZmZmZmZmEEAAAAAAAAAYQGZmZmZmZhRAmpmZmZmZF0BmZmZmZmYWQDMzMzMzMxdAZmZmZmZmGkAAAAAAAAASQDMzMzMzMxlAMzMzMzMzF0BmZmZmZmYYQGZmZmZmZhRAMzMzMzMzFUAAAAAAAAAWQAAAAAAAABRAZmZmZmZmFEAzMzMzMzMVQAAAAAAAABZAzczMzMzMGkCamZmZmZkbQAAAAAAAABRAzczMzMzMFkCamZmZmZkTQM3MzMzMzBpAmpmZmZmZE0DNzMzMzMwWQAAAAAAAABhAMzMzMzMzE0CamZmZmZkTQGZmZmZmZhZAMzMzMzMzF0BmZmZmZmYYQJqZmZmZmRlAZmZmZmZmFkBmZmZmZmYUQGZmZmZmZhZAZmZmZmZmGEBmZmZmZmYWQAAAAAAAABZAMzMzMzMzE0CamZmZmZkVQGZmZmZmZhZAZmZmZmZmFEBmZmZmZmYUQJqZmZmZmRdAzczMzMzMFkDNzMzMzMwUQAAAAAAAABRAzczMzMzMFECamZmZmZkVQGZmZmZmZhRA\",\"dtype\":\"float64\",\"order\":\"little\",\"shape\":[150]},\"y\":{\"__ndarray__\":\"AAAAAAAADEAAAAAAAAAIQJqZmZmZmQlAzczMzMzMCEDNzMzMzMwMQDMzMzMzMw9AMzMzMzMzC0AzMzMzMzMLQDMzMzMzMwdAzczMzMzMCECamZmZmZkNQDMzMzMzMwtAAAAAAAAACEAAAAAAAAAIQAAAAAAAABBAmpmZmZmZEUAzMzMzMzMPQAAAAAAAAAxAZmZmZmZmDkBmZmZmZmYOQDMzMzMzMwtAmpmZmZmZDUDNzMzMzMwMQGZmZmZmZgpAMzMzMzMzC0AAAAAAAAAIQDMzMzMzMwtAAAAAAAAADEAzMzMzMzMLQJqZmZmZmQlAzczMzMzMCEAzMzMzMzMLQGZmZmZmZhBAzczMzMzMEEDNzMzMzMwIQJqZmZmZmQlAAAAAAAAADEDNzMzMzMwMQAAAAAAAAAhAMzMzMzMzC0AAAAAAAAAMQGZmZmZmZgJAmpmZmZmZCUAAAAAAAAAMQGZmZmZmZg5AAAAAAAAACEBmZmZmZmYOQJqZmZmZmQlAmpmZmZmZDUBmZmZmZmYKQJqZmZmZmQlAmpmZmZmZCUDNzMzMzMwIQGZmZmZmZgJAZmZmZmZmBkBmZmZmZmYGQGZmZmZmZgpAMzMzMzMzA0AzMzMzMzMHQJqZmZmZmQVAAAAAAAAAAEAAAAAAAAAIQJqZmZmZmQFAMzMzMzMzB0AzMzMzMzMHQM3MzMzMzAhAAAAAAAAACECamZmZmZkFQJqZmZmZmQFAAAAAAAAABECamZmZmZkJQGZmZmZmZgZAAAAAAAAABEBmZmZmZmYGQDMzMzMzMwdAAAAAAAAACEBmZmZmZmYGQAAAAAAAAAhAMzMzMzMzB0DNzMzMzMwEQDMzMzMzMwNAMzMzMzMzA0CamZmZmZkFQJqZmZmZmQVAAAAAAAAACEAzMzMzMzMLQM3MzMzMzAhAZmZmZmZmAkAAAAAAAAAIQAAAAAAAAARAzczMzMzMBEAAAAAAAAAIQM3MzMzMzARAZmZmZmZmAkCamZmZmZkFQAAAAAAAAAhAMzMzMzMzB0AzMzMzMzMHQAAAAAAAAARAZmZmZmZmBkBmZmZmZmYKQJqZmZmZmQVAAAAAAAAACEAzMzMzMzMHQAAAAAAAAAhAAAAAAAAACEAAAAAAAAAEQDMzMzMzMwdAAAAAAAAABEDNzMzMzMwMQJqZmZmZmQlAmpmZmZmZBUAAAAAAAAAIQAAAAAAAAARAZmZmZmZmBkCamZmZmZkJQAAAAAAAAAhAZmZmZmZmDkDNzMzMzMwEQJqZmZmZmQFAmpmZmZmZCUBmZmZmZmYGQGZmZmZmZgZAmpmZmZmZBUBmZmZmZmYKQJqZmZmZmQlAZmZmZmZmBkAAAAAAAAAIQGZmZmZmZgZAAAAAAAAACEBmZmZmZmYGQGZmZmZmZg5AZmZmZmZmBkBmZmZmZmYGQM3MzMzMzARAAAAAAAAACEAzMzMzMzMLQM3MzMzMzAhAAAAAAAAACEDNzMzMzMwIQM3MzMzMzAhAzczMzMzMCECamZmZmZkFQJqZmZmZmQlAZmZmZmZmCkAAAAAAAAAIQAAAAAAAAARAAAAAAAAACEAzMzMzMzMLQAAAAAAAAAhA\",\"dtype\":\"float64\",\"order\":\"little\",\"shape\":[150]}},\"selected\":{\"id\":\"10453\"},\"selection_policy\":{\"id\":\"10452\"}},\"id\":\"10391\",\"type\":\"ColumnDataSource\"},{\"attributes\":{\"active_multi\":null,\"tools\":[{\"id\":\"10377\"},{\"id\":\"10378\"},{\"id\":\"10379\"},{\"id\":\"10380\"},{\"id\":\"10381\"},{\"id\":\"10382\"}]},\"id\":\"10384\",\"type\":\"Toolbar\"},{\"attributes\":{\"below\":[{\"id\":\"10369\"}],\"center\":[{\"id\":\"10372\"},{\"id\":\"10376\"}],\"height\":300,\"left\":[{\"id\":\"10373\"}],\"renderers\":[{\"id\":\"10394\"}],\"title\":{\"id\":\"10359\"},\"toolbar\":{\"id\":\"10384\"},\"toolbar_location\":null,\"width\":300,\"x_range\":{\"id\":\"10361\"},\"x_scale\":{\"id\":\"10365\"},\"y_range\":{\"id\":\"10363\"},\"y_scale\":{\"id\":\"10367\"}},\"id\":\"10358\",\"subtype\":\"Figure\",\"type\":\"Plot\"},{\"attributes\":{\"bottom_units\":\"screen\",\"fill_alpha\":0.5,\"fill_color\":\"lightgrey\",\"left_units\":\"screen\",\"level\":\"overlay\",\"line_alpha\":1.0,\"line_color\":\"black\",\"line_dash\":[4,4],\"line_width\":2,\"right_units\":\"screen\",\"syncable\":false,\"top_units\":\"screen\"},\"id\":\"10383\",\"type\":\"BoxAnnotation\"},{\"attributes\":{\"formatter\":{\"id\":\"10435\"},\"major_label_policy\":{\"id\":\"10436\"},\"ticker\":{\"id\":\"10336\"}},\"id\":\"10335\",\"type\":\"LinearAxis\"},{\"attributes\":{\"text\":\"petal length vs. sepal length\"},\"id\":\"10321\",\"type\":\"Title\"},{\"attributes\":{\"axis\":{\"id\":\"10335\"},\"dimension\":1,\"ticker\":null},\"id\":\"10338\",\"type\":\"Grid\"},{\"attributes\":{\"below\":[{\"id\":\"10331\"}],\"center\":[{\"id\":\"10334\"},{\"id\":\"10338\"}],\"height\":300,\"left\":[{\"id\":\"10335\"}],\"renderers\":[{\"id\":\"10356\"}],\"title\":{\"id\":\"10321\"},\"toolbar\":{\"id\":\"10346\"},\"toolbar_location\":null,\"width\":300,\"x_range\":{\"id\":\"10323\"},\"x_scale\":{\"id\":\"10327\"},\"y_range\":{\"id\":\"10325\"},\"y_scale\":{\"id\":\"10329\"}},\"id\":\"10320\",\"subtype\":\"Figure\",\"type\":\"Plot\"},{\"attributes\":{},\"id\":\"10323\",\"type\":\"DataRange1d\"},{\"attributes\":{},\"id\":\"10446\",\"type\":\"BasicTickFormatter\"},{\"attributes\":{},\"id\":\"10327\",\"type\":\"LinearScale\"},{\"attributes\":{},\"id\":\"10336\",\"type\":\"BasicTicker\"},{\"attributes\":{},\"id\":\"10447\",\"type\":\"AllLabels\"},{\"attributes\":{\"formatter\":{\"id\":\"10438\"},\"major_label_policy\":{\"id\":\"10439\"},\"ticker\":{\"id\":\"10332\"}},\"id\":\"10331\",\"type\":\"LinearAxis\"},{\"attributes\":{},\"id\":\"10325\",\"type\":\"DataRange1d\"},{\"attributes\":{\"axis\":{\"id\":\"10331\"},\"ticker\":null},\"id\":\"10334\",\"type\":\"Grid\"},{\"attributes\":{},\"id\":\"10329\",\"type\":\"LinearScale\"},{\"attributes\":{},\"id\":\"10332\",\"type\":\"BasicTicker\"},{\"attributes\":{\"fill_alpha\":{\"value\":0.1},\"fill_color\":{\"value\":\"green\"},\"line_alpha\":{\"value\":0.1},\"line_color\":{\"value\":\"green\"},\"x\":{\"field\":\"x\"},\"y\":{\"field\":\"y\"}},\"id\":\"10393\",\"type\":\"Circle\"},{\"attributes\":{},\"id\":\"10420\",\"type\":\"HelpTool\"},{\"attributes\":{\"formatter\":{\"id\":\"10460\"},\"major_label_policy\":{\"id\":\"10461\"},\"ticker\":{\"id\":\"10408\"}},\"id\":\"10407\",\"type\":\"LinearAxis\"},{\"attributes\":{},\"id\":\"10342\",\"type\":\"SaveTool\"},{\"attributes\":{},\"id\":\"10401\",\"type\":\"DataRange1d\"},{\"attributes\":{},\"id\":\"10340\",\"type\":\"WheelZoomTool\"},{\"attributes\":{\"formatter\":{\"id\":\"10457\"},\"major_label_policy\":{\"id\":\"10458\"},\"ticker\":{\"id\":\"10412\"}},\"id\":\"10411\",\"type\":\"LinearAxis\"},{\"attributes\":{\"overlay\":{\"id\":\"10345\"}},\"id\":\"10341\",\"type\":\"BoxZoomTool\"},{\"attributes\":{},\"id\":\"10403\",\"type\":\"LinearScale\"},{\"attributes\":{},\"id\":\"10449\",\"type\":\"BasicTickFormatter\"},{\"attributes\":{},\"id\":\"10408\",\"type\":\"BasicTicker\"},{\"attributes\":{\"axis\":{\"id\":\"10407\"},\"ticker\":null},\"id\":\"10410\",\"type\":\"Grid\"},{\"attributes\":{},\"id\":\"10405\",\"type\":\"LinearScale\"},{\"attributes\":{},\"id\":\"10343\",\"type\":\"ResetTool\"},{\"attributes\":{},\"id\":\"10344\",\"type\":\"HelpTool\"},{\"attributes\":{},\"id\":\"10450\",\"type\":\"AllLabels\"},{\"attributes\":{\"axis\":{\"id\":\"10411\"},\"dimension\":1,\"ticker\":null},\"id\":\"10414\",\"type\":\"Grid\"},{\"attributes\":{},\"id\":\"10412\",\"type\":\"BasicTicker\"},{\"attributes\":{},\"id\":\"10416\",\"type\":\"WheelZoomTool\"},{\"attributes\":{},\"id\":\"10415\",\"type\":\"PanTool\"},{\"attributes\":{\"overlay\":{\"id\":\"10421\"}},\"id\":\"10417\",\"type\":\"BoxZoomTool\"},{\"attributes\":{},\"id\":\"10418\",\"type\":\"SaveTool\"},{\"attributes\":{},\"id\":\"10452\",\"type\":\"UnionRenderers\"},{\"attributes\":{},\"id\":\"10419\",\"type\":\"ResetTool\"},{\"attributes\":{\"active_multi\":null,\"tools\":[{\"id\":\"10339\"},{\"id\":\"10340\"},{\"id\":\"10341\"},{\"id\":\"10342\"},{\"id\":\"10343\"},{\"id\":\"10344\"}]},\"id\":\"10346\",\"type\":\"Toolbar\"},{\"attributes\":{},\"id\":\"10453\",\"type\":\"Selection\"},{\"attributes\":{\"fill_alpha\":{\"value\":0.1},\"fill_color\":{\"value\":\"blue\"},\"line_alpha\":{\"value\":0.1},\"line_color\":{\"value\":\"blue\"},\"x\":{\"field\":\"x\"},\"y\":{\"field\":\"y\"}},\"id\":\"10355\",\"type\":\"Circle\"},{\"attributes\":{\"fill_alpha\":{\"value\":0.1},\"fill_color\":{\"value\":\"red\"},\"line_alpha\":{\"value\":0.1},\"line_color\":{\"value\":\"red\"},\"x\":{\"field\":\"x\"},\"y\":{\"field\":\"y\"}},\"id\":\"10431\",\"type\":\"Circle\"},{\"attributes\":{\"source\":{\"id\":\"10429\"}},\"id\":\"10433\",\"type\":\"CDSView\"},{\"attributes\":{\"data_source\":{\"id\":\"10429\"},\"glyph\":{\"id\":\"10430\"},\"hover_glyph\":null,\"muted_glyph\":null,\"nonselection_glyph\":{\"id\":\"10431\"},\"view\":{\"id\":\"10433\"}},\"id\":\"10432\",\"type\":\"GlyphRenderer\"},{\"attributes\":{\"fill_color\":{\"value\":\"red\"},\"line_color\":{\"value\":\"red\"},\"x\":{\"field\":\"x\"},\"y\":{\"field\":\"y\"}},\"id\":\"10430\",\"type\":\"Circle\"},{\"attributes\":{\"data\":{\"x\":{\"__ndarray__\":\"ZmZmZmZm9j9mZmZmZmb2P83MzMzMzPQ/AAAAAAAA+D9mZmZmZmb2PzMzMzMzM/s/ZmZmZmZm9j8AAAAAAAD4P2ZmZmZmZvY/AAAAAAAA+D8AAAAAAAD4P5qZmZmZmfk/ZmZmZmZm9j+amZmZmZnxPzMzMzMzM/M/AAAAAAAA+D/NzMzMzMz0P2ZmZmZmZvY/MzMzMzMz+z8AAAAAAAD4PzMzMzMzM/s/AAAAAAAA+D8AAAAAAADwPzMzMzMzM/s/ZmZmZmZm/j+amZmZmZn5P5qZmZmZmfk/AAAAAAAA+D9mZmZmZmb2P5qZmZmZmfk/mpmZmZmZ+T8AAAAAAAD4PwAAAAAAAPg/ZmZmZmZm9j8AAAAAAAD4PzMzMzMzM/M/zczMzMzM9D9mZmZmZmb2P83MzMzMzPQ/AAAAAAAA+D/NzMzMzMz0P83MzMzMzPQ/zczMzMzM9D+amZmZmZn5P2ZmZmZmZv4/ZmZmZmZm9j+amZmZmZn5P2ZmZmZmZvY/AAAAAAAA+D9mZmZmZmb2P83MzMzMzBJAAAAAAAAAEkCamZmZmZkTQAAAAAAAABBAZmZmZmZmEkAAAAAAAAASQM3MzMzMzBJAZmZmZmZmCkBmZmZmZmYSQDMzMzMzMw9AAAAAAAAADEDNzMzMzMwQQAAAAAAAABBAzczMzMzMEkDNzMzMzMwMQJqZmZmZmRFAAAAAAAAAEkBmZmZmZmYQQAAAAAAAABJAMzMzMzMzD0AzMzMzMzMTQAAAAAAAABBAmpmZmZmZE0DNzMzMzMwSQDMzMzMzMxFAmpmZmZmZEUAzMzMzMzMTQAAAAAAAABRAAAAAAAAAEkAAAAAAAAAMQGZmZmZmZg5AmpmZmZmZDUAzMzMzMzMPQGZmZmZmZhRAAAAAAAAAEkAAAAAAAAASQM3MzMzMzBJAmpmZmZmZEUBmZmZmZmYQQAAAAAAAABBAmpmZmZmZEUBmZmZmZmYSQAAAAAAAABBAZmZmZmZmCkDNzMzMzMwQQM3MzMzMzBBAzczMzMzMEEAzMzMzMzMRQAAAAAAAAAhAZmZmZmZmEEAAAAAAAAAYQGZmZmZmZhRAmpmZmZmZF0BmZmZmZmYWQDMzMzMzMxdAZmZmZmZmGkAAAAAAAAASQDMzMzMzMxlAMzMzMzMzF0BmZmZmZmYYQGZmZmZmZhRAMzMzMzMzFUAAAAAAAAAWQAAAAAAAABRAZmZmZmZmFEAzMzMzMzMVQAAAAAAAABZAzczMzMzMGkCamZmZmZkbQAAAAAAAABRAzczMzMzMFkCamZmZmZkTQM3MzMzMzBpAmpmZmZmZE0DNzMzMzMwWQAAAAAAAABhAMzMzMzMzE0CamZmZmZkTQGZmZmZmZhZAMzMzMzMzF0BmZmZmZmYYQJqZmZmZmRlAZmZmZmZmFkBmZmZmZmYUQGZmZmZmZhZAZmZmZmZmGEBmZmZmZmYWQAAAAAAAABZAMzMzMzMzE0CamZmZmZkVQGZmZmZmZhZAZmZmZmZmFEBmZmZmZmYUQJqZmZmZmRdAzczMzMzMFkDNzMzMzMwUQAAAAAAAABRAzczMzMzMFECamZmZmZkVQGZmZmZmZhRA\",\"dtype\":\"float64\",\"order\":\"little\",\"shape\":[150]},\"y\":{\"__ndarray__\":\"mpmZmZmZyT+amZmZmZnJP5qZmZmZmck/mpmZmZmZyT+amZmZmZnJP5qZmZmZmdk/MzMzMzMz0z+amZmZmZnJP5qZmZmZmck/mpmZmZmZuT+amZmZmZnJP5qZmZmZmck/mpmZmZmZuT+amZmZmZm5P5qZmZmZmck/mpmZmZmZ2T+amZmZmZnZPzMzMzMzM9M/MzMzMzMz0z8zMzMzMzPTP5qZmZmZmck/mpmZmZmZ2T+amZmZmZnJPwAAAAAAAOA/mpmZmZmZyT+amZmZmZnJP5qZmZmZmdk/mpmZmZmZyT+amZmZmZnJP5qZmZmZmck/mpmZmZmZyT+amZmZmZnZP5qZmZmZmbk/mpmZmZmZyT+amZmZmZnJP5qZmZmZmck/mpmZmZmZyT+amZmZmZm5P5qZmZmZmck/mpmZmZmZyT8zMzMzMzPTPzMzMzMzM9M/mpmZmZmZyT8zMzMzMzPjP5qZmZmZmdk/MzMzMzMz0z+amZmZmZnJP5qZmZmZmck/mpmZmZmZyT+amZmZmZnJP2ZmZmZmZvY/AAAAAAAA+D8AAAAAAAD4P83MzMzMzPQ/AAAAAAAA+D/NzMzMzMz0P5qZmZmZmfk/AAAAAAAA8D/NzMzMzMz0P2ZmZmZmZvY/AAAAAAAA8D8AAAAAAAD4PwAAAAAAAPA/ZmZmZmZm9j/NzMzMzMz0P2ZmZmZmZvY/AAAAAAAA+D8AAAAAAADwPwAAAAAAAPg/mpmZmZmZ8T/NzMzMzMz8P83MzMzMzPQ/AAAAAAAA+D8zMzMzMzPzP83MzMzMzPQ/ZmZmZmZm9j9mZmZmZmb2PzMzMzMzM/s/AAAAAAAA+D8AAAAAAADwP5qZmZmZmfE/AAAAAAAA8D8zMzMzMzPzP5qZmZmZmfk/AAAAAAAA+D+amZmZmZn5PwAAAAAAAPg/zczMzMzM9D/NzMzMzMz0P83MzMzMzPQ/MzMzMzMz8z9mZmZmZmb2PzMzMzMzM/M/AAAAAAAA8D/NzMzMzMz0PzMzMzMzM/M/zczMzMzM9D/NzMzMzMz0P5qZmZmZmfE/zczMzMzM9D8AAAAAAAAEQGZmZmZmZv4/zczMzMzMAEDNzMzMzMz8P5qZmZmZmQFAzczMzMzMAEAzMzMzMzP7P83MzMzMzPw/zczMzMzM/D8AAAAAAAAEQAAAAAAAAABAZmZmZmZm/j/NzMzMzMwAQAAAAAAAAABAMzMzMzMzA0BmZmZmZmYCQM3MzMzMzPw/mpmZmZmZAUBmZmZmZmYCQAAAAAAAAPg/ZmZmZmZmAkAAAAAAAAAAQAAAAAAAAABAzczMzMzM/D/NzMzMzMwAQM3MzMzMzPw/zczMzMzM/D/NzMzMzMz8P83MzMzMzABAmpmZmZmZ+T9mZmZmZmb+PwAAAAAAAABAmpmZmZmZAUAAAAAAAAD4P2ZmZmZmZvY/ZmZmZmZmAkAzMzMzMzMDQM3MzMzMzPw/zczMzMzM/D/NzMzMzMwAQDMzMzMzMwNAZmZmZmZmAkBmZmZmZmb+P2ZmZmZmZgJAAAAAAAAABEBmZmZmZmYCQGZmZmZmZv4/AAAAAAAAAEBmZmZmZmYCQM3MzMzMzPw/\",\"dtype\":\"float64\",\"order\":\"little\",\"shape\":[150]}},\"selected\":{\"id\":\"10464\"},\"selection_policy\":{\"id\":\"10463\"}},\"id\":\"10429\",\"type\":\"ColumnDataSource\"},{\"attributes\":{\"data_source\":{\"id\":\"10353\"},\"glyph\":{\"id\":\"10354\"},\"hover_glyph\":null,\"muted_glyph\":null,\"nonselection_glyph\":{\"id\":\"10355\"},\"view\":{\"id\":\"10357\"}},\"id\":\"10356\",\"type\":\"GlyphRenderer\"},{\"attributes\":{},\"id\":\"10370\",\"type\":\"BasicTicker\"},{\"attributes\":{\"fill_color\":{\"value\":\"blue\"},\"line_color\":{\"value\":\"blue\"},\"x\":{\"field\":\"x\"},\"y\":{\"field\":\"y\"}},\"id\":\"10354\",\"type\":\"Circle\"},{\"attributes\":{},\"id\":\"10367\",\"type\":\"LinearScale\"},{\"attributes\":{\"axis\":{\"id\":\"10369\"},\"ticker\":null},\"id\":\"10372\",\"type\":\"Grid\"},{\"attributes\":{\"axis\":{\"id\":\"10373\"},\"dimension\":1,\"ticker\":null},\"id\":\"10376\",\"type\":\"Grid\"},{\"attributes\":{},\"id\":\"10374\",\"type\":\"BasicTicker\"},{\"attributes\":{\"below\":[{\"id\":\"10407\"}],\"center\":[{\"id\":\"10410\"},{\"id\":\"10414\"}],\"height\":300,\"left\":[{\"id\":\"10411\"}],\"renderers\":[{\"id\":\"10432\"}],\"title\":{\"id\":\"10397\"},\"toolbar\":{\"id\":\"10422\"},\"toolbar_location\":null,\"width\":300,\"x_range\":{\"id\":\"10399\"},\"x_scale\":{\"id\":\"10403\"},\"y_range\":{\"id\":\"10401\"},\"y_scale\":{\"id\":\"10405\"}},\"id\":\"10396\",\"subtype\":\"Figure\",\"type\":\"Plot\"},{\"attributes\":{},\"id\":\"10365\",\"type\":\"LinearScale\"},{\"attributes\":{\"formatter\":{\"id\":\"10446\"},\"major_label_policy\":{\"id\":\"10447\"},\"ticker\":{\"id\":\"10374\"}},\"id\":\"10373\",\"type\":\"LinearAxis\"},{\"attributes\":{},\"id\":\"10435\",\"type\":\"BasicTickFormatter\"},{\"attributes\":{},\"id\":\"10457\",\"type\":\"BasicTickFormatter\"},{\"attributes\":{},\"id\":\"10363\",\"type\":\"DataRange1d\"},{\"attributes\":{\"formatter\":{\"id\":\"10449\"},\"major_label_policy\":{\"id\":\"10450\"},\"ticker\":{\"id\":\"10370\"}},\"id\":\"10369\",\"type\":\"LinearAxis\"},{\"attributes\":{\"source\":{\"id\":\"10353\"}},\"id\":\"10357\",\"type\":\"CDSView\"},{\"attributes\":{},\"id\":\"10436\",\"type\":\"AllLabels\"},{\"attributes\":{},\"id\":\"10458\",\"type\":\"AllLabels\"},{\"attributes\":{\"data\":{\"x\":{\"__ndarray__\":\"ZmZmZmZm9j9mZmZmZmb2P83MzMzMzPQ/AAAAAAAA+D9mZmZmZmb2PzMzMzMzM/s/ZmZmZmZm9j8AAAAAAAD4P2ZmZmZmZvY/AAAAAAAA+D8AAAAAAAD4P5qZmZmZmfk/ZmZmZmZm9j+amZmZmZnxPzMzMzMzM/M/AAAAAAAA+D/NzMzMzMz0P2ZmZmZmZvY/MzMzMzMz+z8AAAAAAAD4PzMzMzMzM/s/AAAAAAAA+D8AAAAAAADwPzMzMzMzM/s/ZmZmZmZm/j+amZmZmZn5P5qZmZmZmfk/AAAAAAAA+D9mZmZmZmb2P5qZmZmZmfk/mpmZmZmZ+T8AAAAAAAD4PwAAAAAAAPg/ZmZmZmZm9j8AAAAAAAD4PzMzMzMzM/M/zczMzMzM9D9mZmZmZmb2P83MzMzMzPQ/AAAAAAAA+D/NzMzMzMz0P83MzMzMzPQ/zczMzMzM9D+amZmZmZn5P2ZmZmZmZv4/ZmZmZmZm9j+amZmZmZn5P2ZmZmZmZvY/AAAAAAAA+D9mZmZmZmb2P83MzMzMzBJAAAAAAAAAEkCamZmZmZkTQAAAAAAAABBAZmZmZmZmEkAAAAAAAAASQM3MzMzMzBJAZmZmZmZmCkBmZmZmZmYSQDMzMzMzMw9AAAAAAAAADEDNzMzMzMwQQAAAAAAAABBAzczMzMzMEkDNzMzMzMwMQJqZmZmZmRFAAAAAAAAAEkBmZmZmZmYQQAAAAAAAABJAMzMzMzMzD0AzMzMzMzMTQAAAAAAAABBAmpmZmZmZE0DNzMzMzMwSQDMzMzMzMxFAmpmZmZmZEUAzMzMzMzMTQAAAAAAAABRAAAAAAAAAEkAAAAAAAAAMQGZmZmZmZg5AmpmZmZmZDUAzMzMzMzMPQGZmZmZmZhRAAAAAAAAAEkAAAAAAAAASQM3MzMzMzBJAmpmZmZmZEUBmZmZmZmYQQAAAAAAAABBAmpmZmZmZEUBmZmZmZmYSQAAAAAAAABBAZmZmZmZmCkDNzMzMzMwQQM3MzMzMzBBAzczMzMzMEEAzMzMzMzMRQAAAAAAAAAhAZmZmZmZmEEAAAAAAAAAYQGZmZmZmZhRAmpmZmZmZF0BmZmZmZmYWQDMzMzMzMxdAZmZmZmZmGkAAAAAAAAASQDMzMzMzMxlAMzMzMzMzF0BmZmZmZmYYQGZmZmZmZhRAMzMzMzMzFUAAAAAAAAAWQAAAAAAAABRAZmZmZmZmFEAzMzMzMzMVQAAAAAAAABZAzczMzMzMGkCamZmZmZkbQAAAAAAAABRAzczMzMzMFkCamZmZmZkTQM3MzMzMzBpAmpmZmZmZE0DNzMzMzMwWQAAAAAAAABhAMzMzMzMzE0CamZmZmZkTQGZmZmZmZhZAMzMzMzMzF0BmZmZmZmYYQJqZmZmZmRlAZmZmZmZmFkBmZmZmZmYUQGZmZmZmZhZAZmZmZmZmGEBmZmZmZmYWQAAAAAAAABZAMzMzMzMzE0CamZmZmZkVQGZmZmZmZhZAZmZmZmZmFEBmZmZmZmYUQJqZmZmZmRdAzczMzMzMFkDNzMzMzMwUQAAAAAAAABRAzczMzMzMFECamZmZmZkVQGZmZmZmZhRA\",\"dtype\":\"float64\",\"order\":\"little\",\"shape\":[150]},\"y\":{\"__ndarray__\":\"ZmZmZmZmFECamZmZmZkTQM3MzMzMzBJAZmZmZmZmEkAAAAAAAAAUQJqZmZmZmRVAZmZmZmZmEkAAAAAAAAAUQJqZmZmZmRFAmpmZmZmZE0CamZmZmZkVQDMzMzMzMxNAMzMzMzMzE0AzMzMzMzMRQDMzMzMzMxdAzczMzMzMFkCamZmZmZkVQGZmZmZmZhRAzczMzMzMFkBmZmZmZmYUQJqZmZmZmRVAZmZmZmZmFEBmZmZmZmYSQGZmZmZmZhRAMzMzMzMzE0AAAAAAAAAUQAAAAAAAABRAzczMzMzMFEDNzMzMzMwUQM3MzMzMzBJAMzMzMzMzE0CamZmZmZkVQM3MzMzMzBRAAAAAAAAAFkCamZmZmZkTQAAAAAAAABRAAAAAAAAAFkCamZmZmZkTQJqZmZmZmRFAZmZmZmZmFEAAAAAAAAAUQAAAAAAAABJAmpmZmZmZEUAAAAAAAAAUQGZmZmZmZhRAMzMzMzMzE0BmZmZmZmYUQGZmZmZmZhJAMzMzMzMzFUAAAAAAAAAUQAAAAAAAABxAmpmZmZmZGUCamZmZmZkbQAAAAAAAABZAAAAAAAAAGkDNzMzMzMwWQDMzMzMzMxlAmpmZmZmZE0BmZmZmZmYaQM3MzMzMzBRAAAAAAAAAFECamZmZmZkXQAAAAAAAABhAZmZmZmZmGEBmZmZmZmYWQM3MzMzMzBpAZmZmZmZmFkAzMzMzMzMXQM3MzMzMzBhAZmZmZmZmFkCamZmZmZkXQGZmZmZmZhhAMzMzMzMzGUBmZmZmZmYYQJqZmZmZmRlAZmZmZmZmGkAzMzMzMzMbQM3MzMzMzBpAAAAAAAAAGEDNzMzMzMwWQAAAAAAAABZAAAAAAAAAFkAzMzMzMzMXQAAAAAAAABhAmpmZmZmZFUAAAAAAAAAYQM3MzMzMzBpAMzMzMzMzGUBmZmZmZmYWQAAAAAAAABZAAAAAAAAAFkBmZmZmZmYYQDMzMzMzMxdAAAAAAAAAFEBmZmZmZmYWQM3MzMzMzBZAzczMzMzMFkDNzMzMzMwYQGZmZmZmZhRAzczMzMzMFkAzMzMzMzMZQDMzMzMzMxdAZmZmZmZmHEAzMzMzMzMZQAAAAAAAABpAZmZmZmZmHkCamZmZmZkTQDMzMzMzMx1AzczMzMzMGkDNzMzMzMwcQAAAAAAAABpAmpmZmZmZGUAzMzMzMzMbQM3MzMzMzBZAMzMzMzMzF0CamZmZmZkZQAAAAAAAABpAzczMzMzMHkDNzMzMzMweQAAAAAAAABhAmpmZmZmZG0BmZmZmZmYWQM3MzMzMzB5AMzMzMzMzGUDNzMzMzMwaQM3MzMzMzBxAzczMzMzMGEBmZmZmZmYYQJqZmZmZmRlAzczMzMzMHECamZmZmZkdQJqZmZmZmR9AmpmZmZmZGUAzMzMzMzMZQGZmZmZmZhhAzczMzMzMHkAzMzMzMzMZQJqZmZmZmRlAAAAAAAAAGECamZmZmZkbQM3MzMzMzBpAmpmZmZmZG0AzMzMzMzMXQDMzMzMzMxtAzczMzMzMGkDNzMzMzMwaQDMzMzMzMxlAAAAAAAAAGkDNzMzMzMwYQJqZmZmZmRdA\",\"dtype\":\"float64\",\"order\":\"little\",\"shape\":[150]}},\"selected\":{\"id\":\"10442\"},\"selection_policy\":{\"id\":\"10441\"}},\"id\":\"10353\",\"type\":\"ColumnDataSource\"},{\"attributes\":{\"text\":\"petal length vs. sepal width\"},\"id\":\"10359\",\"type\":\"Title\"},{\"attributes\":{},\"id\":\"10361\",\"type\":\"DataRange1d\"},{\"attributes\":{},\"id\":\"10438\",\"type\":\"BasicTickFormatter\"},{\"attributes\":{},\"id\":\"10460\",\"type\":\"BasicTickFormatter\"},{\"attributes\":{},\"id\":\"10439\",\"type\":\"AllLabels\"},{\"attributes\":{},\"id\":\"10461\",\"type\":\"AllLabels\"},{\"attributes\":{},\"id\":\"10339\",\"type\":\"PanTool\"},{\"attributes\":{},\"id\":\"10441\",\"type\":\"UnionRenderers\"},{\"attributes\":{},\"id\":\"10463\",\"type\":\"UnionRenderers\"},{\"attributes\":{},\"id\":\"10442\",\"type\":\"Selection\"},{\"attributes\":{},\"id\":\"10464\",\"type\":\"Selection\"}],\"root_ids\":[\"10467\"]},\"title\":\"Bokeh Application\",\"version\":\"2.3.0\"}};\n",
       "  var render_items = [{\"docid\":\"fd3b8d9a-e4ca-44b8-9966-caccd244ece5\",\"root_ids\":[\"10467\"],\"roots\":{\"10467\":\"47541f13-a264-40f1-b990-4154fd30c94c\"}}];\n",
       "  root.Bokeh.embed.embed_items_notebook(docs_json, render_items);\n",
       "\n",
       "  }\n",
       "  if (root.Bokeh !== undefined) {\n",
       "    embed_document(root);\n",
       "  } else {\n",
       "    var attempts = 0;\n",
       "    var timer = setInterval(function(root) {\n",
       "      if (root.Bokeh !== undefined) {\n",
       "        clearInterval(timer);\n",
       "        embed_document(root);\n",
       "      } else {\n",
       "        attempts++;\n",
       "        if (attempts > 100) {\n",
       "          clearInterval(timer);\n",
       "          console.log(\"Bokeh: ERROR: Unable to run BokehJS code because BokehJS library is missing\");\n",
       "        }\n",
       "      }\n",
       "    }, 10, root)\n",
       "  }\n",
       "})(window);"
      ],
      "application/vnd.bokehjs_exec.v0+json": ""
     },
     "metadata": {
      "application/vnd.bokehjs_exec.v0+json": {
       "id": "10467"
      }
     },
     "output_type": "display_data"
    }
   ],
   "source": [
    "source = ColumnDataSource(iris_df)\n",
    "\n",
    "# Flowers is a Pandas DataFrame\n",
    "p1 = figure(plot_width=300, plot_height=300, toolbar_location=None, title='petal length vs. sepal length')\n",
    "p1.circle(flowers['petal_length'], flowers['sepal_length'], color='blue')\n",
    "p2 = figure(plot_width=300, plot_height=300, toolbar_location=None, title='petal length vs. sepal width')\n",
    "p2.circle(flowers['petal_length'], flowers['sepal_width'], color='green')\n",
    "p3 = figure(plot_width=300, plot_height=300, toolbar_location=None, title='petal length vs. petal width')\n",
    "p3.circle(flowers['petal_length'], flowers['petal_width'], color='red')\n",
    "\n",
    "layout = gridplot([[None, p1], [p2, p3]], toolbar_location=None)\n",
    "# output_file('nested.html')\n",
    "show(layout)"
   ]
  },
  {
   "cell_type": "markdown",
   "metadata": {},
   "source": [
    "**Tabbed Layouts**"
   ]
  },
  {
   "cell_type": "code",
   "execution_count": 52,
   "metadata": {},
   "outputs": [
    {
     "data": {
      "text/html": [
       "\n",
       "\n",
       "\n",
       "\n",
       "\n",
       "\n",
       "  <div class=\"bk-root\" id=\"66059fc3-4317-46d2-af7d-564b3991646d\" data-root-id=\"11098\"></div>\n"
      ]
     },
     "metadata": {},
     "output_type": "display_data"
    },
    {
     "data": {
      "application/javascript": [
       "(function(root) {\n",
       "  function embed_document(root) {\n",
       "    \n",
       "  var docs_json = {\"71784621-2f50-4778-861b-60f9eb321c80\":{\"defs\":[{\"extends\":null,\"module\":null,\"name\":\"DataModel\",\"overrides\":[],\"properties\":[]}],\"roots\":{\"references\":[{\"attributes\":{\"tabs\":[{\"id\":\"11095\"},{\"id\":\"11097\"}]},\"id\":\"11098\",\"type\":\"Tabs\"},{\"attributes\":{},\"id\":\"10378\",\"type\":\"WheelZoomTool\"},{\"attributes\":{},\"id\":\"10382\",\"type\":\"HelpTool\"},{\"attributes\":{},\"id\":\"10377\",\"type\":\"PanTool\"},{\"attributes\":{\"overlay\":{\"id\":\"10383\"}},\"id\":\"10379\",\"type\":\"BoxZoomTool\"},{\"attributes\":{},\"id\":\"10380\",\"type\":\"SaveTool\"},{\"attributes\":{},\"id\":\"10381\",\"type\":\"ResetTool\"},{\"attributes\":{\"source\":{\"id\":\"10391\"}},\"id\":\"10395\",\"type\":\"CDSView\"},{\"attributes\":{\"active_multi\":null,\"tools\":[{\"id\":\"10415\"},{\"id\":\"10416\"},{\"id\":\"10417\"},{\"id\":\"10418\"},{\"id\":\"10419\"},{\"id\":\"10420\"}]},\"id\":\"10422\",\"type\":\"Toolbar\"},{\"attributes\":{\"text\":\"petal length vs. petal width\"},\"id\":\"10397\",\"type\":\"Title\"},{\"attributes\":{\"data_source\":{\"id\":\"10391\"},\"glyph\":{\"id\":\"10392\"},\"hover_glyph\":null,\"muted_glyph\":null,\"nonselection_glyph\":{\"id\":\"10393\"},\"view\":{\"id\":\"10395\"}},\"id\":\"10394\",\"type\":\"GlyphRenderer\"},{\"attributes\":{\"bottom_units\":\"screen\",\"fill_alpha\":0.5,\"fill_color\":\"lightgrey\",\"left_units\":\"screen\",\"level\":\"overlay\",\"line_alpha\":1.0,\"line_color\":\"black\",\"line_dash\":[4,4],\"line_width\":2,\"right_units\":\"screen\",\"syncable\":false,\"top_units\":\"screen\"},\"id\":\"10345\",\"type\":\"BoxAnnotation\"},{\"attributes\":{\"fill_color\":{\"value\":\"green\"},\"line_color\":{\"value\":\"green\"},\"x\":{\"field\":\"x\"},\"y\":{\"field\":\"y\"}},\"id\":\"10392\",\"type\":\"Circle\"},{\"attributes\":{},\"id\":\"10399\",\"type\":\"DataRange1d\"},{\"attributes\":{\"bottom_units\":\"screen\",\"fill_alpha\":0.5,\"fill_color\":\"lightgrey\",\"left_units\":\"screen\",\"level\":\"overlay\",\"line_alpha\":1.0,\"line_color\":\"black\",\"line_dash\":[4,4],\"line_width\":2,\"right_units\":\"screen\",\"syncable\":false,\"top_units\":\"screen\"},\"id\":\"10421\",\"type\":\"BoxAnnotation\"},{\"attributes\":{\"data\":{\"x\":{\"__ndarray__\":\"ZmZmZmZm9j9mZmZmZmb2P83MzMzMzPQ/AAAAAAAA+D9mZmZmZmb2PzMzMzMzM/s/ZmZmZmZm9j8AAAAAAAD4P2ZmZmZmZvY/AAAAAAAA+D8AAAAAAAD4P5qZmZmZmfk/ZmZmZmZm9j+amZmZmZnxPzMzMzMzM/M/AAAAAAAA+D/NzMzMzMz0P2ZmZmZmZvY/MzMzMzMz+z8AAAAAAAD4PzMzMzMzM/s/AAAAAAAA+D8AAAAAAADwPzMzMzMzM/s/ZmZmZmZm/j+amZmZmZn5P5qZmZmZmfk/AAAAAAAA+D9mZmZmZmb2P5qZmZmZmfk/mpmZmZmZ+T8AAAAAAAD4PwAAAAAAAPg/ZmZmZmZm9j8AAAAAAAD4PzMzMzMzM/M/zczMzMzM9D9mZmZmZmb2P83MzMzMzPQ/AAAAAAAA+D/NzMzMzMz0P83MzMzMzPQ/zczMzMzM9D+amZmZmZn5P2ZmZmZmZv4/ZmZmZmZm9j+amZmZmZn5P2ZmZmZmZvY/AAAAAAAA+D9mZmZmZmb2P83MzMzMzBJAAAAAAAAAEkCamZmZmZkTQAAAAAAAABBAZmZmZmZmEkAAAAAAAAASQM3MzMzMzBJAZmZmZmZmCkBmZmZmZmYSQDMzMzMzMw9AAAAAAAAADEDNzMzMzMwQQAAAAAAAABBAzczMzMzMEkDNzMzMzMwMQJqZmZmZmRFAAAAAAAAAEkBmZmZmZmYQQAAAAAAAABJAMzMzMzMzD0AzMzMzMzMTQAAAAAAAABBAmpmZmZmZE0DNzMzMzMwSQDMzMzMzMxFAmpmZmZmZEUAzMzMzMzMTQAAAAAAAABRAAAAAAAAAEkAAAAAAAAAMQGZmZmZmZg5AmpmZmZmZDUAzMzMzMzMPQGZmZmZmZhRAAAAAAAAAEkAAAAAAAAASQM3MzMzMzBJAmpmZmZmZEUBmZmZmZmYQQAAAAAAAABBAmpmZmZmZEUBmZmZmZmYSQAAAAAAAABBAZmZmZmZmCkDNzMzMzMwQQM3MzMzMzBBAzczMzMzMEEAzMzMzMzMRQAAAAAAAAAhAZmZmZmZmEEAAAAAAAAAYQGZmZmZmZhRAmpmZmZmZF0BmZmZmZmYWQDMzMzMzMxdAZmZmZmZmGkAAAAAAAAASQDMzMzMzMxlAMzMzMzMzF0BmZmZmZmYYQGZmZmZmZhRAMzMzMzMzFUAAAAAAAAAWQAAAAAAAABRAZmZmZmZmFEAzMzMzMzMVQAAAAAAAABZAzczMzMzMGkCamZmZmZkbQAAAAAAAABRAzczMzMzMFkCamZmZmZkTQM3MzMzMzBpAmpmZmZmZE0DNzMzMzMwWQAAAAAAAABhAMzMzMzMzE0CamZmZmZkTQGZmZmZmZhZAMzMzMzMzF0BmZmZmZmYYQJqZmZmZmRlAZmZmZmZmFkBmZmZmZmYUQGZmZmZmZhZAZmZmZmZmGEBmZmZmZmYWQAAAAAAAABZAMzMzMzMzE0CamZmZmZkVQGZmZmZmZhZAZmZmZmZmFEBmZmZmZmYUQJqZmZmZmRdAzczMzMzMFkDNzMzMzMwUQAAAAAAAABRAzczMzMzMFECamZmZmZkVQGZmZmZmZhRA\",\"dtype\":\"float64\",\"order\":\"little\",\"shape\":[150]},\"y\":{\"__ndarray__\":\"AAAAAAAADEAAAAAAAAAIQJqZmZmZmQlAzczMzMzMCEDNzMzMzMwMQDMzMzMzMw9AMzMzMzMzC0AzMzMzMzMLQDMzMzMzMwdAzczMzMzMCECamZmZmZkNQDMzMzMzMwtAAAAAAAAACEAAAAAAAAAIQAAAAAAAABBAmpmZmZmZEUAzMzMzMzMPQAAAAAAAAAxAZmZmZmZmDkBmZmZmZmYOQDMzMzMzMwtAmpmZmZmZDUDNzMzMzMwMQGZmZmZmZgpAMzMzMzMzC0AAAAAAAAAIQDMzMzMzMwtAAAAAAAAADEAzMzMzMzMLQJqZmZmZmQlAzczMzMzMCEAzMzMzMzMLQGZmZmZmZhBAzczMzMzMEEDNzMzMzMwIQJqZmZmZmQlAAAAAAAAADEDNzMzMzMwMQAAAAAAAAAhAMzMzMzMzC0AAAAAAAAAMQGZmZmZmZgJAmpmZmZmZCUAAAAAAAAAMQGZmZmZmZg5AAAAAAAAACEBmZmZmZmYOQJqZmZmZmQlAmpmZmZmZDUBmZmZmZmYKQJqZmZmZmQlAmpmZmZmZCUDNzMzMzMwIQGZmZmZmZgJAZmZmZmZmBkBmZmZmZmYGQGZmZmZmZgpAMzMzMzMzA0AzMzMzMzMHQJqZmZmZmQVAAAAAAAAAAEAAAAAAAAAIQJqZmZmZmQFAMzMzMzMzB0AzMzMzMzMHQM3MzMzMzAhAAAAAAAAACECamZmZmZkFQJqZmZmZmQFAAAAAAAAABECamZmZmZkJQGZmZmZmZgZAAAAAAAAABEBmZmZmZmYGQDMzMzMzMwdAAAAAAAAACEBmZmZmZmYGQAAAAAAAAAhAMzMzMzMzB0DNzMzMzMwEQDMzMzMzMwNAMzMzMzMzA0CamZmZmZkFQJqZmZmZmQVAAAAAAAAACEAzMzMzMzMLQM3MzMzMzAhAZmZmZmZmAkAAAAAAAAAIQAAAAAAAAARAzczMzMzMBEAAAAAAAAAIQM3MzMzMzARAZmZmZmZmAkCamZmZmZkFQAAAAAAAAAhAMzMzMzMzB0AzMzMzMzMHQAAAAAAAAARAZmZmZmZmBkBmZmZmZmYKQJqZmZmZmQVAAAAAAAAACEAzMzMzMzMHQAAAAAAAAAhAAAAAAAAACEAAAAAAAAAEQDMzMzMzMwdAAAAAAAAABEDNzMzMzMwMQJqZmZmZmQlAmpmZmZmZBUAAAAAAAAAIQAAAAAAAAARAZmZmZmZmBkCamZmZmZkJQAAAAAAAAAhAZmZmZmZmDkDNzMzMzMwEQJqZmZmZmQFAmpmZmZmZCUBmZmZmZmYGQGZmZmZmZgZAmpmZmZmZBUBmZmZmZmYKQJqZmZmZmQlAZmZmZmZmBkAAAAAAAAAIQGZmZmZmZgZAAAAAAAAACEBmZmZmZmYGQGZmZmZmZg5AZmZmZmZmBkBmZmZmZmYGQM3MzMzMzARAAAAAAAAACEAzMzMzMzMLQM3MzMzMzAhAAAAAAAAACEDNzMzMzMwIQM3MzMzMzAhAzczMzMzMCECamZmZmZkFQJqZmZmZmQlAZmZmZmZmCkAAAAAAAAAIQAAAAAAAAARAAAAAAAAACEAzMzMzMzMLQAAAAAAAAAhA\",\"dtype\":\"float64\",\"order\":\"little\",\"shape\":[150]}},\"selected\":{\"id\":\"10453\"},\"selection_policy\":{\"id\":\"10452\"}},\"id\":\"10391\",\"type\":\"ColumnDataSource\"},{\"attributes\":{\"active_multi\":null,\"tools\":[{\"id\":\"10377\"},{\"id\":\"10378\"},{\"id\":\"10379\"},{\"id\":\"10380\"},{\"id\":\"10381\"},{\"id\":\"10382\"}]},\"id\":\"10384\",\"type\":\"Toolbar\"},{\"attributes\":{\"below\":[{\"id\":\"10369\"}],\"center\":[{\"id\":\"10372\"},{\"id\":\"10376\"}],\"height\":300,\"left\":[{\"id\":\"10373\"}],\"renderers\":[{\"id\":\"10394\"}],\"title\":{\"id\":\"10359\"},\"toolbar\":{\"id\":\"10384\"},\"toolbar_location\":null,\"width\":300,\"x_range\":{\"id\":\"10361\"},\"x_scale\":{\"id\":\"10365\"},\"y_range\":{\"id\":\"10363\"},\"y_scale\":{\"id\":\"10367\"}},\"id\":\"10358\",\"subtype\":\"Figure\",\"type\":\"Plot\"},{\"attributes\":{\"bottom_units\":\"screen\",\"fill_alpha\":0.5,\"fill_color\":\"lightgrey\",\"left_units\":\"screen\",\"level\":\"overlay\",\"line_alpha\":1.0,\"line_color\":\"black\",\"line_dash\":[4,4],\"line_width\":2,\"right_units\":\"screen\",\"syncable\":false,\"top_units\":\"screen\"},\"id\":\"10383\",\"type\":\"BoxAnnotation\"},{\"attributes\":{\"formatter\":{\"id\":\"10435\"},\"major_label_policy\":{\"id\":\"10436\"},\"ticker\":{\"id\":\"10336\"}},\"id\":\"10335\",\"type\":\"LinearAxis\"},{\"attributes\":{\"text\":\"petal length vs. sepal length\"},\"id\":\"10321\",\"type\":\"Title\"},{\"attributes\":{\"axis\":{\"id\":\"10335\"},\"dimension\":1,\"ticker\":null},\"id\":\"10338\",\"type\":\"Grid\"},{\"attributes\":{\"below\":[{\"id\":\"10331\"}],\"center\":[{\"id\":\"10334\"},{\"id\":\"10338\"}],\"height\":300,\"left\":[{\"id\":\"10335\"}],\"renderers\":[{\"id\":\"10356\"}],\"title\":{\"id\":\"10321\"},\"toolbar\":{\"id\":\"10346\"},\"toolbar_location\":null,\"width\":300,\"x_range\":{\"id\":\"10323\"},\"x_scale\":{\"id\":\"10327\"},\"y_range\":{\"id\":\"10325\"},\"y_scale\":{\"id\":\"10329\"}},\"id\":\"10320\",\"subtype\":\"Figure\",\"type\":\"Plot\"},{\"attributes\":{},\"id\":\"10323\",\"type\":\"DataRange1d\"},{\"attributes\":{},\"id\":\"10446\",\"type\":\"BasicTickFormatter\"},{\"attributes\":{},\"id\":\"10327\",\"type\":\"LinearScale\"},{\"attributes\":{\"child\":{\"id\":\"11096\"},\"title\":\"second\"},\"id\":\"11097\",\"type\":\"Panel\"},{\"attributes\":{},\"id\":\"10336\",\"type\":\"BasicTicker\"},{\"attributes\":{\"children\":[{\"id\":\"10396\"}]},\"id\":\"11096\",\"type\":\"Row\"},{\"attributes\":{},\"id\":\"10447\",\"type\":\"AllLabels\"},{\"attributes\":{\"formatter\":{\"id\":\"10438\"},\"major_label_policy\":{\"id\":\"10439\"},\"ticker\":{\"id\":\"10332\"}},\"id\":\"10331\",\"type\":\"LinearAxis\"},{\"attributes\":{},\"id\":\"10325\",\"type\":\"DataRange1d\"},{\"attributes\":{\"axis\":{\"id\":\"10331\"},\"ticker\":null},\"id\":\"10334\",\"type\":\"Grid\"},{\"attributes\":{},\"id\":\"10329\",\"type\":\"LinearScale\"},{\"attributes\":{},\"id\":\"10332\",\"type\":\"BasicTicker\"},{\"attributes\":{\"fill_alpha\":{\"value\":0.1},\"fill_color\":{\"value\":\"green\"},\"line_alpha\":{\"value\":0.1},\"line_color\":{\"value\":\"green\"},\"x\":{\"field\":\"x\"},\"y\":{\"field\":\"y\"}},\"id\":\"10393\",\"type\":\"Circle\"},{\"attributes\":{},\"id\":\"10420\",\"type\":\"HelpTool\"},{\"attributes\":{\"formatter\":{\"id\":\"10460\"},\"major_label_policy\":{\"id\":\"10461\"},\"ticker\":{\"id\":\"10408\"}},\"id\":\"10407\",\"type\":\"LinearAxis\"},{\"attributes\":{},\"id\":\"10342\",\"type\":\"SaveTool\"},{\"attributes\":{},\"id\":\"10401\",\"type\":\"DataRange1d\"},{\"attributes\":{},\"id\":\"10340\",\"type\":\"WheelZoomTool\"},{\"attributes\":{\"formatter\":{\"id\":\"10457\"},\"major_label_policy\":{\"id\":\"10458\"},\"ticker\":{\"id\":\"10412\"}},\"id\":\"10411\",\"type\":\"LinearAxis\"},{\"attributes\":{\"overlay\":{\"id\":\"10345\"}},\"id\":\"10341\",\"type\":\"BoxZoomTool\"},{\"attributes\":{},\"id\":\"10403\",\"type\":\"LinearScale\"},{\"attributes\":{},\"id\":\"10449\",\"type\":\"BasicTickFormatter\"},{\"attributes\":{},\"id\":\"10408\",\"type\":\"BasicTicker\"},{\"attributes\":{\"axis\":{\"id\":\"10407\"},\"ticker\":null},\"id\":\"10410\",\"type\":\"Grid\"},{\"attributes\":{},\"id\":\"10405\",\"type\":\"LinearScale\"},{\"attributes\":{},\"id\":\"10343\",\"type\":\"ResetTool\"},{\"attributes\":{},\"id\":\"10344\",\"type\":\"HelpTool\"},{\"attributes\":{},\"id\":\"10450\",\"type\":\"AllLabels\"},{\"attributes\":{\"axis\":{\"id\":\"10411\"},\"dimension\":1,\"ticker\":null},\"id\":\"10414\",\"type\":\"Grid\"},{\"attributes\":{},\"id\":\"10412\",\"type\":\"BasicTicker\"},{\"attributes\":{},\"id\":\"10416\",\"type\":\"WheelZoomTool\"},{\"attributes\":{},\"id\":\"10415\",\"type\":\"PanTool\"},{\"attributes\":{\"overlay\":{\"id\":\"10421\"}},\"id\":\"10417\",\"type\":\"BoxZoomTool\"},{\"attributes\":{},\"id\":\"10418\",\"type\":\"SaveTool\"},{\"attributes\":{},\"id\":\"10452\",\"type\":\"UnionRenderers\"},{\"attributes\":{},\"id\":\"10419\",\"type\":\"ResetTool\"},{\"attributes\":{\"active_multi\":null,\"tools\":[{\"id\":\"10339\"},{\"id\":\"10340\"},{\"id\":\"10341\"},{\"id\":\"10342\"},{\"id\":\"10343\"},{\"id\":\"10344\"}]},\"id\":\"10346\",\"type\":\"Toolbar\"},{\"attributes\":{},\"id\":\"10453\",\"type\":\"Selection\"},{\"attributes\":{\"fill_alpha\":{\"value\":0.1},\"fill_color\":{\"value\":\"blue\"},\"line_alpha\":{\"value\":0.1},\"line_color\":{\"value\":\"blue\"},\"x\":{\"field\":\"x\"},\"y\":{\"field\":\"y\"}},\"id\":\"10355\",\"type\":\"Circle\"},{\"attributes\":{\"fill_alpha\":{\"value\":0.1},\"fill_color\":{\"value\":\"red\"},\"line_alpha\":{\"value\":0.1},\"line_color\":{\"value\":\"red\"},\"x\":{\"field\":\"x\"},\"y\":{\"field\":\"y\"}},\"id\":\"10431\",\"type\":\"Circle\"},{\"attributes\":{\"source\":{\"id\":\"10429\"}},\"id\":\"10433\",\"type\":\"CDSView\"},{\"attributes\":{\"data_source\":{\"id\":\"10429\"},\"glyph\":{\"id\":\"10430\"},\"hover_glyph\":null,\"muted_glyph\":null,\"nonselection_glyph\":{\"id\":\"10431\"},\"view\":{\"id\":\"10433\"}},\"id\":\"10432\",\"type\":\"GlyphRenderer\"},{\"attributes\":{\"fill_color\":{\"value\":\"red\"},\"line_color\":{\"value\":\"red\"},\"x\":{\"field\":\"x\"},\"y\":{\"field\":\"y\"}},\"id\":\"10430\",\"type\":\"Circle\"},{\"attributes\":{\"data\":{\"x\":{\"__ndarray__\":\"ZmZmZmZm9j9mZmZmZmb2P83MzMzMzPQ/AAAAAAAA+D9mZmZmZmb2PzMzMzMzM/s/ZmZmZmZm9j8AAAAAAAD4P2ZmZmZmZvY/AAAAAAAA+D8AAAAAAAD4P5qZmZmZmfk/ZmZmZmZm9j+amZmZmZnxPzMzMzMzM/M/AAAAAAAA+D/NzMzMzMz0P2ZmZmZmZvY/MzMzMzMz+z8AAAAAAAD4PzMzMzMzM/s/AAAAAAAA+D8AAAAAAADwPzMzMzMzM/s/ZmZmZmZm/j+amZmZmZn5P5qZmZmZmfk/AAAAAAAA+D9mZmZmZmb2P5qZmZmZmfk/mpmZmZmZ+T8AAAAAAAD4PwAAAAAAAPg/ZmZmZmZm9j8AAAAAAAD4PzMzMzMzM/M/zczMzMzM9D9mZmZmZmb2P83MzMzMzPQ/AAAAAAAA+D/NzMzMzMz0P83MzMzMzPQ/zczMzMzM9D+amZmZmZn5P2ZmZmZmZv4/ZmZmZmZm9j+amZmZmZn5P2ZmZmZmZvY/AAAAAAAA+D9mZmZmZmb2P83MzMzMzBJAAAAAAAAAEkCamZmZmZkTQAAAAAAAABBAZmZmZmZmEkAAAAAAAAASQM3MzMzMzBJAZmZmZmZmCkBmZmZmZmYSQDMzMzMzMw9AAAAAAAAADEDNzMzMzMwQQAAAAAAAABBAzczMzMzMEkDNzMzMzMwMQJqZmZmZmRFAAAAAAAAAEkBmZmZmZmYQQAAAAAAAABJAMzMzMzMzD0AzMzMzMzMTQAAAAAAAABBAmpmZmZmZE0DNzMzMzMwSQDMzMzMzMxFAmpmZmZmZEUAzMzMzMzMTQAAAAAAAABRAAAAAAAAAEkAAAAAAAAAMQGZmZmZmZg5AmpmZmZmZDUAzMzMzMzMPQGZmZmZmZhRAAAAAAAAAEkAAAAAAAAASQM3MzMzMzBJAmpmZmZmZEUBmZmZmZmYQQAAAAAAAABBAmpmZmZmZEUBmZmZmZmYSQAAAAAAAABBAZmZmZmZmCkDNzMzMzMwQQM3MzMzMzBBAzczMzMzMEEAzMzMzMzMRQAAAAAAAAAhAZmZmZmZmEEAAAAAAAAAYQGZmZmZmZhRAmpmZmZmZF0BmZmZmZmYWQDMzMzMzMxdAZmZmZmZmGkAAAAAAAAASQDMzMzMzMxlAMzMzMzMzF0BmZmZmZmYYQGZmZmZmZhRAMzMzMzMzFUAAAAAAAAAWQAAAAAAAABRAZmZmZmZmFEAzMzMzMzMVQAAAAAAAABZAzczMzMzMGkCamZmZmZkbQAAAAAAAABRAzczMzMzMFkCamZmZmZkTQM3MzMzMzBpAmpmZmZmZE0DNzMzMzMwWQAAAAAAAABhAMzMzMzMzE0CamZmZmZkTQGZmZmZmZhZAMzMzMzMzF0BmZmZmZmYYQJqZmZmZmRlAZmZmZmZmFkBmZmZmZmYUQGZmZmZmZhZAZmZmZmZmGEBmZmZmZmYWQAAAAAAAABZAMzMzMzMzE0CamZmZmZkVQGZmZmZmZhZAZmZmZmZmFEBmZmZmZmYUQJqZmZmZmRdAzczMzMzMFkDNzMzMzMwUQAAAAAAAABRAzczMzMzMFECamZmZmZkVQGZmZmZmZhRA\",\"dtype\":\"float64\",\"order\":\"little\",\"shape\":[150]},\"y\":{\"__ndarray__\":\"mpmZmZmZyT+amZmZmZnJP5qZmZmZmck/mpmZmZmZyT+amZmZmZnJP5qZmZmZmdk/MzMzMzMz0z+amZmZmZnJP5qZmZmZmck/mpmZmZmZuT+amZmZmZnJP5qZmZmZmck/mpmZmZmZuT+amZmZmZm5P5qZmZmZmck/mpmZmZmZ2T+amZmZmZnZPzMzMzMzM9M/MzMzMzMz0z8zMzMzMzPTP5qZmZmZmck/mpmZmZmZ2T+amZmZmZnJPwAAAAAAAOA/mpmZmZmZyT+amZmZmZnJP5qZmZmZmdk/mpmZmZmZyT+amZmZmZnJP5qZmZmZmck/mpmZmZmZyT+amZmZmZnZP5qZmZmZmbk/mpmZmZmZyT+amZmZmZnJP5qZmZmZmck/mpmZmZmZyT+amZmZmZm5P5qZmZmZmck/mpmZmZmZyT8zMzMzMzPTPzMzMzMzM9M/mpmZmZmZyT8zMzMzMzPjP5qZmZmZmdk/MzMzMzMz0z+amZmZmZnJP5qZmZmZmck/mpmZmZmZyT+amZmZmZnJP2ZmZmZmZvY/AAAAAAAA+D8AAAAAAAD4P83MzMzMzPQ/AAAAAAAA+D/NzMzMzMz0P5qZmZmZmfk/AAAAAAAA8D/NzMzMzMz0P2ZmZmZmZvY/AAAAAAAA8D8AAAAAAAD4PwAAAAAAAPA/ZmZmZmZm9j/NzMzMzMz0P2ZmZmZmZvY/AAAAAAAA+D8AAAAAAADwPwAAAAAAAPg/mpmZmZmZ8T/NzMzMzMz8P83MzMzMzPQ/AAAAAAAA+D8zMzMzMzPzP83MzMzMzPQ/ZmZmZmZm9j9mZmZmZmb2PzMzMzMzM/s/AAAAAAAA+D8AAAAAAADwP5qZmZmZmfE/AAAAAAAA8D8zMzMzMzPzP5qZmZmZmfk/AAAAAAAA+D+amZmZmZn5PwAAAAAAAPg/zczMzMzM9D/NzMzMzMz0P83MzMzMzPQ/MzMzMzMz8z9mZmZmZmb2PzMzMzMzM/M/AAAAAAAA8D/NzMzMzMz0PzMzMzMzM/M/zczMzMzM9D/NzMzMzMz0P5qZmZmZmfE/zczMzMzM9D8AAAAAAAAEQGZmZmZmZv4/zczMzMzMAEDNzMzMzMz8P5qZmZmZmQFAzczMzMzMAEAzMzMzMzP7P83MzMzMzPw/zczMzMzM/D8AAAAAAAAEQAAAAAAAAABAZmZmZmZm/j/NzMzMzMwAQAAAAAAAAABAMzMzMzMzA0BmZmZmZmYCQM3MzMzMzPw/mpmZmZmZAUBmZmZmZmYCQAAAAAAAAPg/ZmZmZmZmAkAAAAAAAAAAQAAAAAAAAABAzczMzMzM/D/NzMzMzMwAQM3MzMzMzPw/zczMzMzM/D/NzMzMzMz8P83MzMzMzABAmpmZmZmZ+T9mZmZmZmb+PwAAAAAAAABAmpmZmZmZAUAAAAAAAAD4P2ZmZmZmZvY/ZmZmZmZmAkAzMzMzMzMDQM3MzMzMzPw/zczMzMzM/D/NzMzMzMwAQDMzMzMzMwNAZmZmZmZmAkBmZmZmZmb+P2ZmZmZmZgJAAAAAAAAABEBmZmZmZmYCQGZmZmZmZv4/AAAAAAAAAEBmZmZmZmYCQM3MzMzMzPw/\",\"dtype\":\"float64\",\"order\":\"little\",\"shape\":[150]}},\"selected\":{\"id\":\"10464\"},\"selection_policy\":{\"id\":\"10463\"}},\"id\":\"10429\",\"type\":\"ColumnDataSource\"},{\"attributes\":{\"data_source\":{\"id\":\"10353\"},\"glyph\":{\"id\":\"10354\"},\"hover_glyph\":null,\"muted_glyph\":null,\"nonselection_glyph\":{\"id\":\"10355\"},\"view\":{\"id\":\"10357\"}},\"id\":\"10356\",\"type\":\"GlyphRenderer\"},{\"attributes\":{},\"id\":\"10370\",\"type\":\"BasicTicker\"},{\"attributes\":{\"fill_color\":{\"value\":\"blue\"},\"line_color\":{\"value\":\"blue\"},\"x\":{\"field\":\"x\"},\"y\":{\"field\":\"y\"}},\"id\":\"10354\",\"type\":\"Circle\"},{\"attributes\":{},\"id\":\"10367\",\"type\":\"LinearScale\"},{\"attributes\":{\"axis\":{\"id\":\"10369\"},\"ticker\":null},\"id\":\"10372\",\"type\":\"Grid\"},{\"attributes\":{\"axis\":{\"id\":\"10373\"},\"dimension\":1,\"ticker\":null},\"id\":\"10376\",\"type\":\"Grid\"},{\"attributes\":{\"children\":[{\"id\":\"10320\"},{\"id\":\"10358\"}]},\"id\":\"11094\",\"type\":\"Row\"},{\"attributes\":{},\"id\":\"10374\",\"type\":\"BasicTicker\"},{\"attributes\":{\"below\":[{\"id\":\"10407\"}],\"center\":[{\"id\":\"10410\"},{\"id\":\"10414\"}],\"height\":300,\"left\":[{\"id\":\"10411\"}],\"renderers\":[{\"id\":\"10432\"}],\"title\":{\"id\":\"10397\"},\"toolbar\":{\"id\":\"10422\"},\"toolbar_location\":null,\"width\":300,\"x_range\":{\"id\":\"10399\"},\"x_scale\":{\"id\":\"10403\"},\"y_range\":{\"id\":\"10401\"},\"y_scale\":{\"id\":\"10405\"}},\"id\":\"10396\",\"subtype\":\"Figure\",\"type\":\"Plot\"},{\"attributes\":{},\"id\":\"10365\",\"type\":\"LinearScale\"},{\"attributes\":{\"formatter\":{\"id\":\"10446\"},\"major_label_policy\":{\"id\":\"10447\"},\"ticker\":{\"id\":\"10374\"}},\"id\":\"10373\",\"type\":\"LinearAxis\"},{\"attributes\":{},\"id\":\"10435\",\"type\":\"BasicTickFormatter\"},{\"attributes\":{},\"id\":\"10457\",\"type\":\"BasicTickFormatter\"},{\"attributes\":{},\"id\":\"10363\",\"type\":\"DataRange1d\"},{\"attributes\":{\"formatter\":{\"id\":\"10449\"},\"major_label_policy\":{\"id\":\"10450\"},\"ticker\":{\"id\":\"10370\"}},\"id\":\"10369\",\"type\":\"LinearAxis\"},{\"attributes\":{\"source\":{\"id\":\"10353\"}},\"id\":\"10357\",\"type\":\"CDSView\"},{\"attributes\":{},\"id\":\"10436\",\"type\":\"AllLabels\"},{\"attributes\":{},\"id\":\"10458\",\"type\":\"AllLabels\"},{\"attributes\":{\"data\":{\"x\":{\"__ndarray__\":\"ZmZmZmZm9j9mZmZmZmb2P83MzMzMzPQ/AAAAAAAA+D9mZmZmZmb2PzMzMzMzM/s/ZmZmZmZm9j8AAAAAAAD4P2ZmZmZmZvY/AAAAAAAA+D8AAAAAAAD4P5qZmZmZmfk/ZmZmZmZm9j+amZmZmZnxPzMzMzMzM/M/AAAAAAAA+D/NzMzMzMz0P2ZmZmZmZvY/MzMzMzMz+z8AAAAAAAD4PzMzMzMzM/s/AAAAAAAA+D8AAAAAAADwPzMzMzMzM/s/ZmZmZmZm/j+amZmZmZn5P5qZmZmZmfk/AAAAAAAA+D9mZmZmZmb2P5qZmZmZmfk/mpmZmZmZ+T8AAAAAAAD4PwAAAAAAAPg/ZmZmZmZm9j8AAAAAAAD4PzMzMzMzM/M/zczMzMzM9D9mZmZmZmb2P83MzMzMzPQ/AAAAAAAA+D/NzMzMzMz0P83MzMzMzPQ/zczMzMzM9D+amZmZmZn5P2ZmZmZmZv4/ZmZmZmZm9j+amZmZmZn5P2ZmZmZmZvY/AAAAAAAA+D9mZmZmZmb2P83MzMzMzBJAAAAAAAAAEkCamZmZmZkTQAAAAAAAABBAZmZmZmZmEkAAAAAAAAASQM3MzMzMzBJAZmZmZmZmCkBmZmZmZmYSQDMzMzMzMw9AAAAAAAAADEDNzMzMzMwQQAAAAAAAABBAzczMzMzMEkDNzMzMzMwMQJqZmZmZmRFAAAAAAAAAEkBmZmZmZmYQQAAAAAAAABJAMzMzMzMzD0AzMzMzMzMTQAAAAAAAABBAmpmZmZmZE0DNzMzMzMwSQDMzMzMzMxFAmpmZmZmZEUAzMzMzMzMTQAAAAAAAABRAAAAAAAAAEkAAAAAAAAAMQGZmZmZmZg5AmpmZmZmZDUAzMzMzMzMPQGZmZmZmZhRAAAAAAAAAEkAAAAAAAAASQM3MzMzMzBJAmpmZmZmZEUBmZmZmZmYQQAAAAAAAABBAmpmZmZmZEUBmZmZmZmYSQAAAAAAAABBAZmZmZmZmCkDNzMzMzMwQQM3MzMzMzBBAzczMzMzMEEAzMzMzMzMRQAAAAAAAAAhAZmZmZmZmEEAAAAAAAAAYQGZmZmZmZhRAmpmZmZmZF0BmZmZmZmYWQDMzMzMzMxdAZmZmZmZmGkAAAAAAAAASQDMzMzMzMxlAMzMzMzMzF0BmZmZmZmYYQGZmZmZmZhRAMzMzMzMzFUAAAAAAAAAWQAAAAAAAABRAZmZmZmZmFEAzMzMzMzMVQAAAAAAAABZAzczMzMzMGkCamZmZmZkbQAAAAAAAABRAzczMzMzMFkCamZmZmZkTQM3MzMzMzBpAmpmZmZmZE0DNzMzMzMwWQAAAAAAAABhAMzMzMzMzE0CamZmZmZkTQGZmZmZmZhZAMzMzMzMzF0BmZmZmZmYYQJqZmZmZmRlAZmZmZmZmFkBmZmZmZmYUQGZmZmZmZhZAZmZmZmZmGEBmZmZmZmYWQAAAAAAAABZAMzMzMzMzE0CamZmZmZkVQGZmZmZmZhZAZmZmZmZmFEBmZmZmZmYUQJqZmZmZmRdAzczMzMzMFkDNzMzMzMwUQAAAAAAAABRAzczMzMzMFECamZmZmZkVQGZmZmZmZhRA\",\"dtype\":\"float64\",\"order\":\"little\",\"shape\":[150]},\"y\":{\"__ndarray__\":\"ZmZmZmZmFECamZmZmZkTQM3MzMzMzBJAZmZmZmZmEkAAAAAAAAAUQJqZmZmZmRVAZmZmZmZmEkAAAAAAAAAUQJqZmZmZmRFAmpmZmZmZE0CamZmZmZkVQDMzMzMzMxNAMzMzMzMzE0AzMzMzMzMRQDMzMzMzMxdAzczMzMzMFkCamZmZmZkVQGZmZmZmZhRAzczMzMzMFkBmZmZmZmYUQJqZmZmZmRVAZmZmZmZmFEBmZmZmZmYSQGZmZmZmZhRAMzMzMzMzE0AAAAAAAAAUQAAAAAAAABRAzczMzMzMFEDNzMzMzMwUQM3MzMzMzBJAMzMzMzMzE0CamZmZmZkVQM3MzMzMzBRAAAAAAAAAFkCamZmZmZkTQAAAAAAAABRAAAAAAAAAFkCamZmZmZkTQJqZmZmZmRFAZmZmZmZmFEAAAAAAAAAUQAAAAAAAABJAmpmZmZmZEUAAAAAAAAAUQGZmZmZmZhRAMzMzMzMzE0BmZmZmZmYUQGZmZmZmZhJAMzMzMzMzFUAAAAAAAAAUQAAAAAAAABxAmpmZmZmZGUCamZmZmZkbQAAAAAAAABZAAAAAAAAAGkDNzMzMzMwWQDMzMzMzMxlAmpmZmZmZE0BmZmZmZmYaQM3MzMzMzBRAAAAAAAAAFECamZmZmZkXQAAAAAAAABhAZmZmZmZmGEBmZmZmZmYWQM3MzMzMzBpAZmZmZmZmFkAzMzMzMzMXQM3MzMzMzBhAZmZmZmZmFkCamZmZmZkXQGZmZmZmZhhAMzMzMzMzGUBmZmZmZmYYQJqZmZmZmRlAZmZmZmZmGkAzMzMzMzMbQM3MzMzMzBpAAAAAAAAAGEDNzMzMzMwWQAAAAAAAABZAAAAAAAAAFkAzMzMzMzMXQAAAAAAAABhAmpmZmZmZFUAAAAAAAAAYQM3MzMzMzBpAMzMzMzMzGUBmZmZmZmYWQAAAAAAAABZAAAAAAAAAFkBmZmZmZmYYQDMzMzMzMxdAAAAAAAAAFEBmZmZmZmYWQM3MzMzMzBZAzczMzMzMFkDNzMzMzMwYQGZmZmZmZhRAzczMzMzMFkAzMzMzMzMZQDMzMzMzMxdAZmZmZmZmHEAzMzMzMzMZQAAAAAAAABpAZmZmZmZmHkCamZmZmZkTQDMzMzMzMx1AzczMzMzMGkDNzMzMzMwcQAAAAAAAABpAmpmZmZmZGUAzMzMzMzMbQM3MzMzMzBZAMzMzMzMzF0CamZmZmZkZQAAAAAAAABpAzczMzMzMHkDNzMzMzMweQAAAAAAAABhAmpmZmZmZG0BmZmZmZmYWQM3MzMzMzB5AMzMzMzMzGUDNzMzMzMwaQM3MzMzMzBxAzczMzMzMGEBmZmZmZmYYQJqZmZmZmRlAzczMzMzMHECamZmZmZkdQJqZmZmZmR9AmpmZmZmZGUAzMzMzMzMZQGZmZmZmZhhAzczMzMzMHkAzMzMzMzMZQJqZmZmZmRlAAAAAAAAAGECamZmZmZkbQM3MzMzMzBpAmpmZmZmZG0AzMzMzMzMXQDMzMzMzMxtAzczMzMzMGkDNzMzMzMwaQDMzMzMzMxlAAAAAAAAAGkDNzMzMzMwYQJqZmZmZmRdA\",\"dtype\":\"float64\",\"order\":\"little\",\"shape\":[150]}},\"selected\":{\"id\":\"10442\"},\"selection_policy\":{\"id\":\"10441\"}},\"id\":\"10353\",\"type\":\"ColumnDataSource\"},{\"attributes\":{\"text\":\"petal length vs. sepal width\"},\"id\":\"10359\",\"type\":\"Title\"},{\"attributes\":{\"child\":{\"id\":\"11094\"},\"title\":\"first\"},\"id\":\"11095\",\"type\":\"Panel\"},{\"attributes\":{},\"id\":\"10361\",\"type\":\"DataRange1d\"},{\"attributes\":{},\"id\":\"10438\",\"type\":\"BasicTickFormatter\"},{\"attributes\":{},\"id\":\"10460\",\"type\":\"BasicTickFormatter\"},{\"attributes\":{},\"id\":\"10439\",\"type\":\"AllLabels\"},{\"attributes\":{},\"id\":\"10461\",\"type\":\"AllLabels\"},{\"attributes\":{},\"id\":\"10339\",\"type\":\"PanTool\"},{\"attributes\":{},\"id\":\"10441\",\"type\":\"UnionRenderers\"},{\"attributes\":{},\"id\":\"10463\",\"type\":\"UnionRenderers\"},{\"attributes\":{},\"id\":\"10442\",\"type\":\"Selection\"},{\"attributes\":{},\"id\":\"10464\",\"type\":\"Selection\"}],\"root_ids\":[\"11098\"]},\"title\":\"Bokeh Application\",\"version\":\"2.3.0\"}};\n",
       "  var render_items = [{\"docid\":\"71784621-2f50-4778-861b-60f9eb321c80\",\"root_ids\":[\"11098\"],\"roots\":{\"11098\":\"66059fc3-4317-46d2-af7d-564b3991646d\"}}];\n",
       "  root.Bokeh.embed.embed_items_notebook(docs_json, render_items);\n",
       "\n",
       "  }\n",
       "  if (root.Bokeh !== undefined) {\n",
       "    embed_document(root);\n",
       "  } else {\n",
       "    var attempts = 0;\n",
       "    var timer = setInterval(function(root) {\n",
       "      if (root.Bokeh !== undefined) {\n",
       "        clearInterval(timer);\n",
       "        embed_document(root);\n",
       "      } else {\n",
       "        attempts++;\n",
       "        if (attempts > 100) {\n",
       "          clearInterval(timer);\n",
       "          console.log(\"Bokeh: ERROR: Unable to run BokehJS code because BokehJS library is missing\");\n",
       "        }\n",
       "      }\n",
       "    }, 10, root)\n",
       "  }\n",
       "})(window);"
      ],
      "application/vnd.bokehjs_exec.v0+json": ""
     },
     "metadata": {
      "application/vnd.bokehjs_exec.v0+json": {
       "id": "11098"
      }
     },
     "output_type": "display_data"
    }
   ],
   "source": [
    "# from bokeh.models.widgets import Tabs, Panel  # done at the top of the notebook\n",
    "\n",
    "first = Panel(child=row(p1, p2), title='first')\n",
    "second = Panel(child=row(p3), title='second')\n",
    "# Put the Panels in a Tabs object\n",
    "tabs = Tabs(tabs=[first, second])\n",
    "# output_file('tabbed.html')\n",
    "show(tabs)"
   ]
  },
  {
   "cell_type": "markdown",
   "metadata": {},
   "source": [
    "### Investigating the layout API\n",
    "\n",
    "Bokeh layouts allow for positioning items visually in the page presented to the user. What kinds of objects can be put into Bokeh layouts?\n",
    "\n",
    "**Answer the question**\n",
    "\n",
    "* ~~Plots~~\n",
    "* ~~Widgets~~\n",
    "* ~~Other Layouts~~\n",
    "* **All of the above: Plots, widgets and nested sub-layouts can be handled.**"
   ]
  },
  {
   "cell_type": "markdown",
   "metadata": {},
   "source": [
    "<a id='222_creating_gridded_layouts'></a>"
   ]
  },
  {
   "cell_type": "markdown",
   "metadata": {},
   "source": [
    "### Creating gridded layouts\n",
    "\n",
    "Regular grids of Bokeh plots can be generated with `gridplot`.\n",
    "\n",
    "In this example, you're going to display four plots of fertility vs female literacy for four regions: Latin America, Africa, Asia and Europe.\n",
    "\n",
    "Your job is to create a list-of-lists for the four Bokeh plots that have been provided to you as `p1`, `p2`, `p3` and `p4`. The list-of-lists defines the row and column placement of each plot.\n",
    "\n",
    "**Instructions**\n",
    "\n",
    "* Import `gridplot` from the `bokeh.layouts` module.\n",
    "* Create a list called `row1` containing plots `p1` and `p2`.\n",
    "* Create a list called `row2` containing plots `p3` and `p4`.\n",
    "* Create a gridplot using `row1` and `row2`. You will have to pass in `row1` and `row2` in the form of a list."
   ]
  },
  {
   "cell_type": "code",
   "execution_count": 53,
   "metadata": {},
   "outputs": [],
   "source": [
    "lit_la = lit[lit.Continent == 'LAT']\n",
    "lit_af = lit[lit.Continent == 'AF']\n",
    "lit_as = lit[lit.Continent == 'ASI']\n",
    "lit_eu = lit[lit.Continent == 'EUR']"
   ]
  },
  {
   "cell_type": "code",
   "execution_count": 54,
   "metadata": {},
   "outputs": [
    {
     "data": {
      "text/html": [
       "\n",
       "\n",
       "\n",
       "\n",
       "\n",
       "\n",
       "  <div class=\"bk-root\" id=\"a32dec8b-b166-41c3-b130-6dc9ee2f9d60\" data-root-id=\"11954\"></div>\n"
      ]
     },
     "metadata": {},
     "output_type": "display_data"
    },
    {
     "data": {
      "application/javascript": [
       "(function(root) {\n",
       "  function embed_document(root) {\n",
       "    \n",
       "  var docs_json = {\"da2647a6-ccd6-4c6f-91e2-12990d0eccba\":{\"defs\":[{\"extends\":null,\"module\":null,\"name\":\"DataModel\",\"overrides\":[],\"properties\":[]}],\"roots\":{\"references\":[{\"attributes\":{\"children\":[{\"id\":\"11953\"},{\"id\":\"11951\"}]},\"id\":\"11954\",\"type\":\"Column\"},{\"attributes\":{\"text\":\"Africa\"},\"id\":\"11794\",\"type\":\"Title\"},{\"attributes\":{},\"id\":\"11872\",\"type\":\"DataRange1d\"},{\"attributes\":{\"data_source\":{\"id\":\"11864\"},\"glyph\":{\"id\":\"11865\"},\"hover_glyph\":null,\"muted_glyph\":null,\"nonselection_glyph\":{\"id\":\"11866\"},\"view\":{\"id\":\"11868\"}},\"id\":\"11867\",\"type\":\"GlyphRenderer\"},{\"attributes\":{},\"id\":\"11813\",\"type\":\"WheelZoomTool\"},{\"attributes\":{\"axis_label\":\"female_literacy (% population)\",\"formatter\":{\"id\":\"11919\"},\"major_label_policy\":{\"id\":\"11920\"},\"ticker\":{\"id\":\"11809\"}},\"id\":\"11808\",\"type\":\"LinearAxis\"},{\"attributes\":{},\"id\":\"11798\",\"type\":\"DataRange1d\"},{\"attributes\":{\"axis\":{\"id\":\"11808\"},\"dimension\":1,\"ticker\":null},\"id\":\"11811\",\"type\":\"Grid\"},{\"attributes\":{},\"id\":\"11809\",\"type\":\"BasicTicker\"},{\"attributes\":{\"fill_color\":{\"value\":\"#1f77b4\"},\"line_color\":{\"value\":\"#1f77b4\"},\"x\":{\"field\":\"x\"},\"y\":{\"field\":\"y\"}},\"id\":\"11865\",\"type\":\"Circle\"},{\"attributes\":{},\"id\":\"11817\",\"type\":\"HelpTool\"},{\"attributes\":{},\"id\":\"11812\",\"type\":\"PanTool\"},{\"attributes\":{},\"id\":\"11834\",\"type\":\"DataRange1d\"},{\"attributes\":{\"overlay\":{\"id\":\"11818\"}},\"id\":\"11814\",\"type\":\"BoxZoomTool\"},{\"attributes\":{},\"id\":\"11815\",\"type\":\"SaveTool\"},{\"attributes\":{},\"id\":\"11816\",\"type\":\"ResetTool\"},{\"attributes\":{},\"id\":\"11850\",\"type\":\"PanTool\"},{\"attributes\":{\"fill_alpha\":{\"value\":0.1},\"fill_color\":{\"value\":\"#1f77b4\"},\"line_alpha\":{\"value\":0.1},\"line_color\":{\"value\":\"#1f77b4\"},\"x\":{\"field\":\"x\"},\"y\":{\"field\":\"y\"}},\"id\":\"11790\",\"type\":\"Circle\"},{\"attributes\":{\"data\":{\"x\":{\"__ndarray__\":\"5/up8dJN/D/b+X5qvHQFQHWTGARWDgFAYOXQItv5DkDn+6nx0k0CQP7UeOkmMfQ/aJHtfD81CEDdJAaBlUMAQM3MzMzMzABA5dAi2/l+/D/0/dR46Sb9P3Noke18PwJAL90kBoGV8z/jpZvEILAPQIXrUbgeBRpAL90kBoGVBkCWQ4ts5/sBQKrx0k1iEARAUrgehetRCEBEi2zn+6n9P2ZmZmZmZhRA/Knx0k1iCUAQWDm0yHYCQCcxCKwcWgJArBxaZDvfBkDTTWIQWDkBQGq8dJMYBAZAzczMzMzMCkBSuB6F61ELQPT91HjpJghAvp8aL90kBEBxPQrXo3ADQGiR7Xw/NfQ//Knx0k1i/j8dWmQ730/5P9v5fmq8dP0/K4cW2c73+z9t5/up8dIHQJ7vp8ZLNwFAAiuHFtnO/z/hehSuR+ECQHe+nxov3QFAGy/dJAaBBEC28/3UeOnuP9Ei2/l+agBAAAAAAAAAAEAGgZVDi2wPQA==\",\"dtype\":\"float64\",\"order\":\"little\",\"shape\":[47]},\"y\":{\"__ndarray__\":\"AAAAAACgVkBmZmZmZmZJQDMzMzMzM1ZAAAAAAAAAREBmZmZmZuZIQAAAAAAAwFhAmpmZmZl5V0DNzMzMzIxWQDMzMzMzU1RAzczMzMxMU0AAAAAAAOBWQM3MzMzMTFZAZmZmZmYmWEDNzMzMzExRQDMzMzMzMylAMzMzMzOzRkCamZmZmblYQDMzMzMzc1ZAzczMzMwMVEAAAAAAAABZQGZmZmZmZkVAzczMzMxMU0BmZmZmZkZWQAAAAAAA4FhAmpmZmZm5UUDNzMzMzMxYQJqZmZmZ+VdAAAAAAADgWECamZmZmZlPQJqZmZmZOVZAZmZmZmbGWEAzMzMzM9NYQGZmZmZm5lZAAAAAAADgVkDNzMzMzOxYQAAAAAAAgFVAmpmZmZnZWECamZmZmTlUQGZmZmZmRldAMzMzMzNzWECamZmZmZlWQJqZmZmZWVZAmpmZmZlZQ0DNzMzMzKxWQDMzMzMzU1dAmpmZmZmZWEBmZmZmZsZYQA==\",\"dtype\":\"float64\",\"order\":\"little\",\"shape\":[47]}},\"selected\":{\"id\":\"11937\"},\"selection_policy\":{\"id\":\"11936\"}},\"id\":\"11864\",\"type\":\"ColumnDataSource\"},{\"attributes\":{\"fill_color\":{\"value\":\"#1f77b4\"},\"line_color\":{\"value\":\"#1f77b4\"},\"x\":{\"field\":\"x\"},\"y\":{\"field\":\"y\"}},\"id\":\"11903\",\"type\":\"Circle\"},{\"attributes\":{},\"id\":\"11854\",\"type\":\"ResetTool\"},{\"attributes\":{\"data\":{\"x\":{\"__ndarray__\":\"fT81XrpJ9j/Jdr6fGi/1P39qvHSTGP4/bxKDwMqh/T89CtejcD32Py2yne+nxvU/sHJoke189z8Sg8DKoUX0PzMzMzMzM/U/wcqhRbbz+z8pXI/C9Sj2PyUGgZVDi/w/PzVeukkM9j8zMzMzMzP3P+xRuB6F6/U/5dAi2/l+9D9WDi2yne/9P1yPwvUoXPc/YOXQItv59j+YbhKDwMr5Py/dJAaBlf0/x0s3iUFg/T8pXI/C9Sj+P99PjZduEvc/c2iR7Xw//z8xCKwcWmTzP9V46SYxCPg/rBxaZDvf9T9Ei2zn+6n9PzeJQWDl0PY/YOXQItv59j99PzVeukn2P0oMAiuHFvs/qMZLN4lB+D9qvHSTGAT0P1g5tMh2vgBA\",\"dtype\":\"float64\",\"order\":\"little\",\"shape\":[36]},\"y\":{\"__ndarray__\":\"mpmZmZnZWEAAAAAAAMBYQAAAAAAAwFhAAAAAAADAWEAAAAAAAKBYQGZmZmZm5lhAmpmZmZk5WEAzMzMzM9NYQJqZmZmZOVhAAAAAAADAWECamZmZmflXQAAAAAAAwFhAmpmZmZk5V0AAAAAAAMBYQJqZmZmZuVhAzczMzMzsWEAAAAAAAMBYQAAAAAAAwFhAmpmZmZl5WEDNzMzMzAxYQAAAAAAAwFhAAAAAAAAAWUAAAAAAAABZQAAAAAAAgFhAAAAAAADAWECamZmZmflXQDMzMzMzc1hAzczMzMzsWEDNzMzMzKxYQDMzMzMz81hAmpmZmZnZV0DNzMzMzOxYQDMzMzMz81hAzczMzMwsWEAAAAAAAGBXQAAAAAAAwFhA\",\"dtype\":\"float64\",\"order\":\"little\",\"shape\":[36]}},\"selected\":{\"id\":\"11948\"},\"selection_policy\":{\"id\":\"11947\"}},\"id\":\"11902\",\"type\":\"ColumnDataSource\"},{\"attributes\":{},\"id\":\"11855\",\"type\":\"HelpTool\"},{\"attributes\":{\"overlay\":{\"id\":\"11856\"}},\"id\":\"11852\",\"type\":\"BoxZoomTool\"},{\"attributes\":{\"data_source\":{\"id\":\"11902\"},\"glyph\":{\"id\":\"11903\"},\"hover_glyph\":null,\"muted_glyph\":null,\"nonselection_glyph\":{\"id\":\"11904\"},\"view\":{\"id\":\"11906\"}},\"id\":\"11905\",\"type\":\"GlyphRenderer\"},{\"attributes\":{\"fill_color\":{\"value\":\"#1f77b4\"},\"line_color\":{\"value\":\"#1f77b4\"},\"x\":{\"field\":\"x\"},\"y\":{\"field\":\"y\"}},\"id\":\"11789\",\"type\":\"Circle\"},{\"attributes\":{},\"id\":\"11853\",\"type\":\"SaveTool\"},{\"attributes\":{},\"id\":\"11800\",\"type\":\"LinearScale\"},{\"attributes\":{\"data_source\":{\"id\":\"11788\"},\"glyph\":{\"id\":\"11789\"},\"hover_glyph\":null,\"muted_glyph\":null,\"nonselection_glyph\":{\"id\":\"11790\"},\"view\":{\"id\":\"11792\"}},\"id\":\"11791\",\"type\":\"GlyphRenderer\"},{\"attributes\":{},\"id\":\"11919\",\"type\":\"BasicTickFormatter\"},{\"attributes\":{\"source\":{\"id\":\"11902\"}},\"id\":\"11906\",\"type\":\"CDSView\"},{\"attributes\":{\"active_multi\":null,\"tools\":[{\"id\":\"11850\"},{\"id\":\"11851\"},{\"id\":\"11852\"},{\"id\":\"11853\"},{\"id\":\"11854\"},{\"id\":\"11855\"}]},\"id\":\"11857\",\"type\":\"Toolbar\"},{\"attributes\":{\"fill_alpha\":{\"value\":0.1},\"fill_color\":{\"value\":\"#1f77b4\"},\"line_alpha\":{\"value\":0.1},\"line_color\":{\"value\":\"#1f77b4\"},\"x\":{\"field\":\"x\"},\"y\":{\"field\":\"y\"}},\"id\":\"11904\",\"type\":\"Circle\"},{\"attributes\":{},\"id\":\"11920\",\"type\":\"AllLabels\"},{\"attributes\":{\"axis\":{\"id\":\"11804\"},\"ticker\":null},\"id\":\"11807\",\"type\":\"Grid\"},{\"attributes\":{\"source\":{\"id\":\"11864\"}},\"id\":\"11868\",\"type\":\"CDSView\"},{\"attributes\":{\"axis\":{\"id\":\"11842\"},\"ticker\":null},\"id\":\"11845\",\"type\":\"Grid\"},{\"attributes\":{\"fill_alpha\":{\"value\":0.1},\"fill_color\":{\"value\":\"#1f77b4\"},\"line_alpha\":{\"value\":0.1},\"line_color\":{\"value\":\"#1f77b4\"},\"x\":{\"field\":\"x\"},\"y\":{\"field\":\"y\"}},\"id\":\"11866\",\"type\":\"Circle\"},{\"attributes\":{\"text\":\"Europe\"},\"id\":\"11870\",\"type\":\"Title\"},{\"attributes\":{},\"id\":\"11878\",\"type\":\"LinearScale\"},{\"attributes\":{},\"id\":\"11874\",\"type\":\"DataRange1d\"},{\"attributes\":{},\"id\":\"11847\",\"type\":\"BasicTicker\"},{\"attributes\":{\"axis\":{\"id\":\"11846\"},\"dimension\":1,\"ticker\":null},\"id\":\"11849\",\"type\":\"Grid\"},{\"attributes\":{\"active_multi\":null,\"tools\":[{\"id\":\"11812\"},{\"id\":\"11813\"},{\"id\":\"11814\"},{\"id\":\"11815\"},{\"id\":\"11816\"},{\"id\":\"11817\"}]},\"id\":\"11819\",\"type\":\"Toolbar\"},{\"attributes\":{},\"id\":\"11876\",\"type\":\"LinearScale\"},{\"attributes\":{},\"id\":\"11941\",\"type\":\"BasicTickFormatter\"},{\"attributes\":{\"axis_label\":\"fertility (children per woman)\",\"formatter\":{\"id\":\"11944\"},\"major_label_policy\":{\"id\":\"11945\"},\"ticker\":{\"id\":\"11881\"}},\"id\":\"11880\",\"type\":\"LinearAxis\"},{\"attributes\":{},\"id\":\"11911\",\"type\":\"BasicTickFormatter\"},{\"attributes\":{},\"id\":\"11881\",\"type\":\"BasicTicker\"},{\"attributes\":{\"axis\":{\"id\":\"11880\"},\"ticker\":null},\"id\":\"11883\",\"type\":\"Grid\"},{\"attributes\":{},\"id\":\"11889\",\"type\":\"WheelZoomTool\"},{\"attributes\":{},\"id\":\"11942\",\"type\":\"AllLabels\"},{\"attributes\":{},\"id\":\"11912\",\"type\":\"AllLabels\"},{\"attributes\":{\"axis_label\":\"female_literacy (% population)\",\"formatter\":{\"id\":\"11941\"},\"major_label_policy\":{\"id\":\"11942\"},\"ticker\":{\"id\":\"11885\"}},\"id\":\"11884\",\"type\":\"LinearAxis\"},{\"attributes\":{\"below\":[{\"id\":\"11766\"}],\"center\":[{\"id\":\"11769\"},{\"id\":\"11773\"}],\"height\":300,\"left\":[{\"id\":\"11770\"}],\"renderers\":[{\"id\":\"11791\"}],\"title\":{\"id\":\"11756\"},\"toolbar\":{\"id\":\"11781\"},\"toolbar_location\":null,\"width\":300,\"x_range\":{\"id\":\"11758\"},\"x_scale\":{\"id\":\"11762\"},\"y_range\":{\"id\":\"11760\"},\"y_scale\":{\"id\":\"11764\"}},\"id\":\"11755\",\"subtype\":\"Figure\",\"type\":\"Plot\"},{\"attributes\":{\"axis\":{\"id\":\"11884\"},\"dimension\":1,\"ticker\":null},\"id\":\"11887\",\"type\":\"Grid\"},{\"attributes\":{},\"id\":\"11922\",\"type\":\"BasicTickFormatter\"},{\"attributes\":{},\"id\":\"11885\",\"type\":\"BasicTicker\"},{\"attributes\":{\"active_multi\":null,\"tools\":[{\"id\":\"11888\"},{\"id\":\"11889\"},{\"id\":\"11890\"},{\"id\":\"11891\"},{\"id\":\"11892\"},{\"id\":\"11893\"}]},\"id\":\"11895\",\"type\":\"Toolbar\"},{\"attributes\":{\"bottom_units\":\"screen\",\"fill_alpha\":0.5,\"fill_color\":\"lightgrey\",\"left_units\":\"screen\",\"level\":\"overlay\",\"line_alpha\":1.0,\"line_color\":\"black\",\"line_dash\":[4,4],\"line_width\":2,\"right_units\":\"screen\",\"syncable\":false,\"top_units\":\"screen\"},\"id\":\"11780\",\"type\":\"BoxAnnotation\"},{\"attributes\":{},\"id\":\"11893\",\"type\":\"HelpTool\"},{\"attributes\":{},\"id\":\"11888\",\"type\":\"PanTool\"},{\"attributes\":{},\"id\":\"11923\",\"type\":\"AllLabels\"},{\"attributes\":{\"overlay\":{\"id\":\"11894\"}},\"id\":\"11890\",\"type\":\"BoxZoomTool\"},{\"attributes\":{},\"id\":\"11891\",\"type\":\"SaveTool\"},{\"attributes\":{},\"id\":\"11914\",\"type\":\"UnionRenderers\"},{\"attributes\":{},\"id\":\"11892\",\"type\":\"ResetTool\"},{\"attributes\":{},\"id\":\"11915\",\"type\":\"Selection\"},{\"attributes\":{\"toolbars\":[{\"id\":\"11781\"},{\"id\":\"11819\"},{\"id\":\"11857\"},{\"id\":\"11895\"}],\"tools\":[{\"id\":\"11774\"},{\"id\":\"11775\"},{\"id\":\"11776\"},{\"id\":\"11777\"},{\"id\":\"11778\"},{\"id\":\"11779\"},{\"id\":\"11812\"},{\"id\":\"11813\"},{\"id\":\"11814\"},{\"id\":\"11815\"},{\"id\":\"11816\"},{\"id\":\"11817\"},{\"id\":\"11850\"},{\"id\":\"11851\"},{\"id\":\"11852\"},{\"id\":\"11853\"},{\"id\":\"11854\"},{\"id\":\"11855\"},{\"id\":\"11888\"},{\"id\":\"11889\"},{\"id\":\"11890\"},{\"id\":\"11891\"},{\"id\":\"11892\"},{\"id\":\"11893\"}]},\"id\":\"11952\",\"type\":\"ProxyToolbar\"},{\"attributes\":{},\"id\":\"11925\",\"type\":\"UnionRenderers\"},{\"attributes\":{},\"id\":\"11944\",\"type\":\"BasicTickFormatter\"},{\"attributes\":{\"text\":\"Asia\"},\"id\":\"11832\",\"type\":\"Title\"},{\"attributes\":{},\"id\":\"11836\",\"type\":\"DataRange1d\"},{\"attributes\":{\"bottom_units\":\"screen\",\"fill_alpha\":0.5,\"fill_color\":\"lightgrey\",\"left_units\":\"screen\",\"level\":\"overlay\",\"line_alpha\":1.0,\"line_color\":\"black\",\"line_dash\":[4,4],\"line_width\":2,\"right_units\":\"screen\",\"syncable\":false,\"top_units\":\"screen\"},\"id\":\"11818\",\"type\":\"BoxAnnotation\"},{\"attributes\":{},\"id\":\"11843\",\"type\":\"BasicTicker\"},{\"attributes\":{},\"id\":\"11945\",\"type\":\"AllLabels\"},{\"attributes\":{},\"id\":\"11926\",\"type\":\"Selection\"},{\"attributes\":{},\"id\":\"11851\",\"type\":\"WheelZoomTool\"},{\"attributes\":{},\"id\":\"11838\",\"type\":\"LinearScale\"},{\"attributes\":{\"data\":{\"x\":{\"__ndarray__\":\"/tR46SaxFEC6SQwCK4cGQPLSTWIQ2BRAbxKDwMqhF0AK16NwPQoEQBSuR+F6FBZACKwcWmQ7EEBWDi2ynW8TQCPb+X5qvAJAarx0kxgEGUB56SYxCKwCQOF6FK5H4RBAke18PzXeE0B1kxgEVg4SQHsUrkfhehJARIts5/spEkA/NV66SYwWQHe+nxovXRdAUrgehevRFUAtsp3vp0YcQB+F61G4nhVAppvEILDyFkCBlUOLbOcKQI/C9ShcjxNAbef7qfFSGEDb+X5qvHT9PzeJQWDlUBVAUrgehetRFUBQjZduEoMVQM3MzMzMzBFARIts5/upEECJQWDl0CIFQClcj8L1qBRA6SYxCKwcEkB9PzVeuskSQCUGgZVDCxRAWmQ730+NEUBSuB6F61EKQOkmMQisHApA+n5qvHSTBkDHSzeJQeATQIlBYOXQohZA7FG4HoXrCUB56SYxCKz8P5qZmZmZmQtAbxKDwMohFUAUrkfhehQPQOf7qfHSTQVAWDm0yHa+DUA=\",\"dtype\":\"float64\",\"order\":\"little\",\"shape\":[49]},\"y\":{\"__ndarray__\":\"ZmZmZmZmSEBmZmZmZuZMQM3MzMzMzDZAzczMzMwMTEBmZmZmZgZWQDMzMzMzk1BAzczMzMzMTUAzMzMzM7NUQDMzMzMz809AMzMzMzOzUEDNzMzMzAxGQGZmZmZmpk1AzczMzMwMREBmZmZmZiZGQDMzMzMzU1BAMzMzMzPzUEAAAAAAAIBMQJqZmZmZmTVAMzMzMzNzUEAzMzMzMzMuQDMzMzMzMzJAAAAAAACATkAzMzMzMzNWQAAAAAAAgEBAZmZmZmbmNUAAAAAAAMBRQGZmZmZmZjpAZmZmZmaGUECamZmZmRk8QDMzMzMz801AmpmZmZnZSkAzMzMzM1NUQGZmZmZm5jxAAAAAAABAS0DNzMzMzIxEQAAAAAAAgEpAAAAAAADASEDNzMzMzOxVQGZmZmZmxldAAAAAAADgVEBmZmZmZiZBQAAAAAAAQEJAzczMzMzMVEAzMzMzMzNVQGZmZmZmZlVAZmZmZmZGVkAzMzMzM/NQQDMzMzMz01NAMzMzMzPTVEA=\",\"dtype\":\"float64\",\"order\":\"little\",\"shape\":[49]}},\"selected\":{\"id\":\"11926\"},\"selection_policy\":{\"id\":\"11925\"}},\"id\":\"11826\",\"type\":\"ColumnDataSource\"},{\"attributes\":{\"axis_label\":\"female_literacy (% population)\",\"formatter\":{\"id\":\"11930\"},\"major_label_policy\":{\"id\":\"11931\"},\"ticker\":{\"id\":\"11847\"}},\"id\":\"11846\",\"type\":\"LinearAxis\"},{\"attributes\":{},\"id\":\"11908\",\"type\":\"BasicTickFormatter\"},{\"attributes\":{\"toolbar\":{\"id\":\"11952\"},\"toolbar_location\":\"above\"},\"id\":\"11953\",\"type\":\"ToolbarBox\"},{\"attributes\":{},\"id\":\"11802\",\"type\":\"LinearScale\"},{\"attributes\":{\"active_multi\":null,\"tools\":[{\"id\":\"11774\"},{\"id\":\"11775\"},{\"id\":\"11776\"},{\"id\":\"11777\"},{\"id\":\"11778\"},{\"id\":\"11779\"}]},\"id\":\"11781\",\"type\":\"Toolbar\"},{\"attributes\":{},\"id\":\"11947\",\"type\":\"UnionRenderers\"},{\"attributes\":{},\"id\":\"11796\",\"type\":\"DataRange1d\"},{\"attributes\":{},\"id\":\"11840\",\"type\":\"LinearScale\"},{\"attributes\":{\"source\":{\"id\":\"11788\"}},\"id\":\"11792\",\"type\":\"CDSView\"},{\"attributes\":{},\"id\":\"11909\",\"type\":\"AllLabels\"},{\"attributes\":{},\"id\":\"11948\",\"type\":\"Selection\"},{\"attributes\":{\"axis_label\":\"fertility (children per woman)\",\"formatter\":{\"id\":\"11922\"},\"major_label_policy\":{\"id\":\"11923\"},\"ticker\":{\"id\":\"11805\"}},\"id\":\"11804\",\"type\":\"LinearAxis\"},{\"attributes\":{\"axis_label\":\"fertility (children per woman)\",\"formatter\":{\"id\":\"11933\"},\"major_label_policy\":{\"id\":\"11934\"},\"ticker\":{\"id\":\"11843\"}},\"id\":\"11842\",\"type\":\"LinearAxis\"},{\"attributes\":{\"data\":{\"x\":{\"__ndarray__\":\"CKwcWmQ7/T9zaJHtfD8BQAisHFpkOwNAYhBYObTIAUA9CtejcD0EQJZDi2zn+wNAN4lBYOXQ/j/fT42XbhIQQLTIdr6fGgRAFK5H4XoU+D9MN4lBYOUEQCuHFtnO9wpAhetRuB6FCUA3iUFg5dAHQFyPwvUoXAJAEFg5tMh2BUBKDAIrhxb/P1TjpZvEIARAg8DKoUW2AEBMN4lBYOUCQCcxCKwcWvo/lkOLbOf7AkArhxbZzvcKQIPAyqFFtvs/\",\"dtype\":\"float64\",\"order\":\"little\",\"shape\":[24]},\"y\":{\"__ndarray__\":\"zczMzMyMVkAAAAAAAOBWQJqZmZmZWVdAzczMzMxsWEBmZmZmZiZVQJqZmZmZuVdAzczMzMysWEDNzMzMzCxRQM3MzMzMbFRAMzMzMzPzWEAzMzMzMxNWQAAAAAAAgFVAAAAAAADgVEAAAAAAAGBXQJqZmZmZWVRAmpmZmZl5U0DNzMzMzAxYQDMzMzMzM1dAAAAAAACgWEAzMzMzM7NWQM3MzMzMjFhAmpmZmZkZVkAAAAAAACBYQAAAAAAAgFhA\",\"dtype\":\"float64\",\"order\":\"little\",\"shape\":[24]}},\"selected\":{\"id\":\"11915\"},\"selection_policy\":{\"id\":\"11914\"}},\"id\":\"11788\",\"type\":\"ColumnDataSource\"},{\"attributes\":{\"children\":[[{\"id\":\"11755\"},0,0],[{\"id\":\"11793\"},0,1],[{\"id\":\"11831\"},1,0],[{\"id\":\"11869\"},1,1]]},\"id\":\"11951\",\"type\":\"GridBox\"},{\"attributes\":{\"bottom_units\":\"screen\",\"fill_alpha\":0.5,\"fill_color\":\"lightgrey\",\"left_units\":\"screen\",\"level\":\"overlay\",\"line_alpha\":1.0,\"line_color\":\"black\",\"line_dash\":[4,4],\"line_width\":2,\"right_units\":\"screen\",\"syncable\":false,\"top_units\":\"screen\"},\"id\":\"11856\",\"type\":\"BoxAnnotation\"},{\"attributes\":{\"bottom_units\":\"screen\",\"fill_alpha\":0.5,\"fill_color\":\"lightgrey\",\"left_units\":\"screen\",\"level\":\"overlay\",\"line_alpha\":1.0,\"line_color\":\"black\",\"line_dash\":[4,4],\"line_width\":2,\"right_units\":\"screen\",\"syncable\":false,\"top_units\":\"screen\"},\"id\":\"11894\",\"type\":\"BoxAnnotation\"},{\"attributes\":{},\"id\":\"11805\",\"type\":\"BasicTicker\"},{\"attributes\":{},\"id\":\"11930\",\"type\":\"BasicTickFormatter\"},{\"attributes\":{},\"id\":\"11931\",\"type\":\"AllLabels\"},{\"attributes\":{\"text\":\"Latin America\"},\"id\":\"11756\",\"type\":\"Title\"},{\"attributes\":{\"below\":[{\"id\":\"11842\"}],\"center\":[{\"id\":\"11845\"},{\"id\":\"11849\"}],\"height\":300,\"left\":[{\"id\":\"11846\"}],\"renderers\":[{\"id\":\"11867\"}],\"title\":{\"id\":\"11832\"},\"toolbar\":{\"id\":\"11857\"},\"toolbar_location\":null,\"width\":300,\"x_range\":{\"id\":\"11834\"},\"x_scale\":{\"id\":\"11838\"},\"y_range\":{\"id\":\"11836\"},\"y_scale\":{\"id\":\"11840\"}},\"id\":\"11831\",\"subtype\":\"Figure\",\"type\":\"Plot\"},{\"attributes\":{},\"id\":\"11933\",\"type\":\"BasicTickFormatter\"},{\"attributes\":{},\"id\":\"11934\",\"type\":\"AllLabels\"},{\"attributes\":{\"source\":{\"id\":\"11826\"}},\"id\":\"11830\",\"type\":\"CDSView\"},{\"attributes\":{\"below\":[{\"id\":\"11880\"}],\"center\":[{\"id\":\"11883\"},{\"id\":\"11887\"}],\"height\":300,\"left\":[{\"id\":\"11884\"}],\"renderers\":[{\"id\":\"11905\"}],\"title\":{\"id\":\"11870\"},\"toolbar\":{\"id\":\"11895\"},\"toolbar_location\":null,\"width\":300,\"x_range\":{\"id\":\"11872\"},\"x_scale\":{\"id\":\"11876\"},\"y_range\":{\"id\":\"11874\"},\"y_scale\":{\"id\":\"11878\"}},\"id\":\"11869\",\"subtype\":\"Figure\",\"type\":\"Plot\"},{\"attributes\":{\"fill_color\":{\"value\":\"#1f77b4\"},\"line_color\":{\"value\":\"#1f77b4\"},\"x\":{\"field\":\"x\"},\"y\":{\"field\":\"y\"}},\"id\":\"11827\",\"type\":\"Circle\"},{\"attributes\":{\"data_source\":{\"id\":\"11826\"},\"glyph\":{\"id\":\"11827\"},\"hover_glyph\":null,\"muted_glyph\":null,\"nonselection_glyph\":{\"id\":\"11828\"},\"view\":{\"id\":\"11830\"}},\"id\":\"11829\",\"type\":\"GlyphRenderer\"},{\"attributes\":{\"fill_alpha\":{\"value\":0.1},\"fill_color\":{\"value\":\"#1f77b4\"},\"line_alpha\":{\"value\":0.1},\"line_color\":{\"value\":\"#1f77b4\"},\"x\":{\"field\":\"x\"},\"y\":{\"field\":\"y\"}},\"id\":\"11828\",\"type\":\"Circle\"},{\"attributes\":{},\"id\":\"11778\",\"type\":\"ResetTool\"},{\"attributes\":{},\"id\":\"11936\",\"type\":\"UnionRenderers\"},{\"attributes\":{},\"id\":\"11774\",\"type\":\"PanTool\"},{\"attributes\":{\"overlay\":{\"id\":\"11780\"}},\"id\":\"11776\",\"type\":\"BoxZoomTool\"},{\"attributes\":{},\"id\":\"11779\",\"type\":\"HelpTool\"},{\"attributes\":{},\"id\":\"11777\",\"type\":\"SaveTool\"},{\"attributes\":{},\"id\":\"11771\",\"type\":\"BasicTicker\"},{\"attributes\":{},\"id\":\"11937\",\"type\":\"Selection\"},{\"attributes\":{\"axis\":{\"id\":\"11770\"},\"dimension\":1,\"ticker\":null},\"id\":\"11773\",\"type\":\"Grid\"},{\"attributes\":{\"axis_label\":\"female_literacy (% population)\",\"formatter\":{\"id\":\"11908\"},\"major_label_policy\":{\"id\":\"11909\"},\"ticker\":{\"id\":\"11771\"}},\"id\":\"11770\",\"type\":\"LinearAxis\"},{\"attributes\":{\"below\":[{\"id\":\"11804\"}],\"center\":[{\"id\":\"11807\"},{\"id\":\"11811\"}],\"height\":300,\"left\":[{\"id\":\"11808\"}],\"renderers\":[{\"id\":\"11829\"}],\"title\":{\"id\":\"11794\"},\"toolbar\":{\"id\":\"11819\"},\"toolbar_location\":null,\"width\":300,\"x_range\":{\"id\":\"11796\"},\"x_scale\":{\"id\":\"11800\"},\"y_range\":{\"id\":\"11798\"},\"y_scale\":{\"id\":\"11802\"}},\"id\":\"11793\",\"subtype\":\"Figure\",\"type\":\"Plot\"},{\"attributes\":{},\"id\":\"11775\",\"type\":\"WheelZoomTool\"},{\"attributes\":{\"axis\":{\"id\":\"11766\"},\"ticker\":null},\"id\":\"11769\",\"type\":\"Grid\"},{\"attributes\":{},\"id\":\"11767\",\"type\":\"BasicTicker\"},{\"attributes\":{\"axis_label\":\"fertility (children per woman)\",\"formatter\":{\"id\":\"11911\"},\"major_label_policy\":{\"id\":\"11912\"},\"ticker\":{\"id\":\"11767\"}},\"id\":\"11766\",\"type\":\"LinearAxis\"},{\"attributes\":{},\"id\":\"11762\",\"type\":\"LinearScale\"},{\"attributes\":{},\"id\":\"11760\",\"type\":\"DataRange1d\"},{\"attributes\":{},\"id\":\"11764\",\"type\":\"LinearScale\"},{\"attributes\":{},\"id\":\"11758\",\"type\":\"DataRange1d\"}],\"root_ids\":[\"11954\"]},\"title\":\"Bokeh Application\",\"version\":\"2.3.0\"}};\n",
       "  var render_items = [{\"docid\":\"da2647a6-ccd6-4c6f-91e2-12990d0eccba\",\"root_ids\":[\"11954\"],\"roots\":{\"11954\":\"a32dec8b-b166-41c3-b130-6dc9ee2f9d60\"}}];\n",
       "  root.Bokeh.embed.embed_items_notebook(docs_json, render_items);\n",
       "\n",
       "  }\n",
       "  if (root.Bokeh !== undefined) {\n",
       "    embed_document(root);\n",
       "  } else {\n",
       "    var attempts = 0;\n",
       "    var timer = setInterval(function(root) {\n",
       "      if (root.Bokeh !== undefined) {\n",
       "        clearInterval(timer);\n",
       "        embed_document(root);\n",
       "      } else {\n",
       "        attempts++;\n",
       "        if (attempts > 100) {\n",
       "          clearInterval(timer);\n",
       "          console.log(\"Bokeh: ERROR: Unable to run BokehJS code because BokehJS library is missing\");\n",
       "        }\n",
       "      }\n",
       "    }, 10, root)\n",
       "  }\n",
       "})(window);"
      ],
      "application/vnd.bokehjs_exec.v0+json": ""
     },
     "metadata": {
      "application/vnd.bokehjs_exec.v0+json": {
       "id": "11954"
      }
     },
     "output_type": "display_data"
    }
   ],
   "source": [
    "# from bokeh.layouts import gridplot  ## done at the top of the notebook\n",
    "\n",
    "p1 = figure(plot_height=300, plot_width=300, x_axis_label='fertility (children per woman)', y_axis_label='female_literacy (% population)', title='Latin America')\n",
    "p1.circle(lit_la['fertility'], lit_la['female literacy'])\n",
    "p2 = figure(plot_height=300, plot_width=300, x_axis_label='fertility (children per woman)', y_axis_label='female_literacy (% population)', title='Africa')\n",
    "p2.circle(lit_af['fertility'], lit_af['female literacy'])\n",
    "p3 = figure(plot_height=300, plot_width=300, x_axis_label='fertility (children per woman)', y_axis_label='female_literacy (% population)', title='Asia')\n",
    "p3.circle(lit_as['fertility'], lit_as['female literacy'])\n",
    "p4 = figure(plot_height=300, plot_width=300, x_axis_label='fertility (children per woman)', y_axis_label='female_literacy (% population)', title='Europe')\n",
    "p4.circle(lit_eu['fertility'], lit_eu['female literacy'])\n",
    "\n",
    "# Create a list containing plots p1 and p2: row1\n",
    "row1 = [p1, p2]\n",
    "\n",
    "# Create a list containing plots p3 and p4: row2\n",
    "row2 = [p3, p4]\n",
    "\n",
    "# Create a gridplot using row1 and row2: layout\n",
    "layout = gridplot([row1, row2])\n",
    "\n",
    "# Specify the name of the output_file and show the result\n",
    "# output_file('grid.html')\n",
    "show(layout)"
   ]
  },
  {
   "cell_type": "markdown",
   "metadata": {},
   "source": [
    "### Starting tabbed layouts\n",
    "\n",
    "Tabbed layouts can be created in Bokeh by placing plots or layouts in Panels.\n",
    "\n",
    "In this exercise, you'll take the four fertility vs female literacy plots from the last exercise and make a `Panel()` for each.\n",
    "\n",
    "No figure will be generated in this exercise. Instead, you will use these panels in the next exercise to build and display a tabbed layout.\n",
    "\n",
    "**Instructions**\n",
    "\n",
    "* Import `Panel` from `bokeh.models.widgets`.\n",
    "* Create a new panel `tab1` with child `p1` and a title of `'Latin America'`.\n",
    "* Create a new panel `tab2` with child `p2` and a title of `'Africa'`.\n",
    "* Create a new panel `tab3` with child `p3` and a title of `'Asia'`.\n",
    "* Create a new panel `tab4` with child `p4` and a title of `'Europe'`.\n",
    "* Click submit to check your work."
   ]
  },
  {
   "cell_type": "code",
   "execution_count": 55,
   "metadata": {},
   "outputs": [],
   "source": [
    "# Import Panel from bokeh.models.widgets\n",
    "# from bokeh.models.widgets import Panel  # done at the top of the notebook\n",
    "\n",
    "# Create tab1 from plot p1: tab1\n",
    "tab1 = Panel(child=p1, title='Latin America')\n",
    "\n",
    "# Create tab2 from plot p2: tab2\n",
    "tab2 = Panel(child=p2, title='Africa')\n",
    "\n",
    "# Create tab3 from plot p3: tab3\n",
    "tab3 = Panel(child=p3, title='Asia')\n",
    "\n",
    "# Create tab4 from plot p4: tab4\n",
    "tab4 = Panel(child=p4, title='Europe')"
   ]
  },
  {
   "cell_type": "markdown",
   "metadata": {},
   "source": [
    "### Displaying tabbed layouts\n",
    "\n",
    "Tabbed layouts are collections of Panel objects. Using the figures and Panels from the previous two exercises, you'll create a tabbed layout to change the region in the fertility vs female literacy plots.\n",
    "\n",
    "Your job is to create the layout using `Tabs()` and assign the `tabs` keyword argument to your list of Panels. The Panels have been created for you as `tab1`, `tab2`, `tab3` and `tab4`.\n",
    "\n",
    "After you've displayed the figure, explore the tabs you just added! The \"Pan\", \"Box Zoom\" and \"Wheel Zoom\" tools are also all available as before.\n",
    "\n",
    "**Instructions**\n",
    "\n",
    "* Import `Tabs` from `bokeh.models.widgets`.\n",
    "* Create a `Tabs` layout called `layout` with `tab1`, `tab2`, `tab3`, and `tab4`.\n",
    "* Click 'Submit Answer' to output the file and show the figure."
   ]
  },
  {
   "cell_type": "code",
   "execution_count": 56,
   "metadata": {},
   "outputs": [
    {
     "data": {
      "text/html": [
       "\n",
       "\n",
       "\n",
       "\n",
       "\n",
       "\n",
       "  <div class=\"bk-root\" id=\"f2cb5dd5-5295-4a73-8d46-92d3cb0bd8e4\" data-root-id=\"12705\"></div>\n"
      ]
     },
     "metadata": {},
     "output_type": "display_data"
    },
    {
     "data": {
      "application/javascript": [
       "(function(root) {\n",
       "  function embed_document(root) {\n",
       "    \n",
       "  var docs_json = {\"c5b8f244-a244-4580-bf90-309b26ee66e8\":{\"defs\":[{\"extends\":null,\"module\":null,\"name\":\"DataModel\",\"overrides\":[],\"properties\":[]}],\"roots\":{\"references\":[{\"attributes\":{\"tabs\":[{\"id\":\"12701\"},{\"id\":\"12702\"},{\"id\":\"12703\"},{\"id\":\"12704\"}]},\"id\":\"12705\",\"type\":\"Tabs\"},{\"attributes\":{},\"id\":\"11764\",\"type\":\"LinearScale\"},{\"attributes\":{\"text\":\"Africa\"},\"id\":\"11794\",\"type\":\"Title\"},{\"attributes\":{},\"id\":\"11872\",\"type\":\"DataRange1d\"},{\"attributes\":{\"data_source\":{\"id\":\"11864\"},\"glyph\":{\"id\":\"11865\"},\"hover_glyph\":null,\"muted_glyph\":null,\"nonselection_glyph\":{\"id\":\"11866\"},\"view\":{\"id\":\"11868\"}},\"id\":\"11867\",\"type\":\"GlyphRenderer\"},{\"attributes\":{},\"id\":\"11813\",\"type\":\"WheelZoomTool\"},{\"attributes\":{\"axis_label\":\"female_literacy (% population)\",\"formatter\":{\"id\":\"11919\"},\"major_label_policy\":{\"id\":\"11920\"},\"ticker\":{\"id\":\"11809\"}},\"id\":\"11808\",\"type\":\"LinearAxis\"},{\"attributes\":{},\"id\":\"11798\",\"type\":\"DataRange1d\"},{\"attributes\":{\"axis\":{\"id\":\"11808\"},\"dimension\":1,\"ticker\":null},\"id\":\"11811\",\"type\":\"Grid\"},{\"attributes\":{},\"id\":\"11809\",\"type\":\"BasicTicker\"},{\"attributes\":{\"fill_color\":{\"value\":\"#1f77b4\"},\"line_color\":{\"value\":\"#1f77b4\"},\"x\":{\"field\":\"x\"},\"y\":{\"field\":\"y\"}},\"id\":\"11865\",\"type\":\"Circle\"},{\"attributes\":{},\"id\":\"11817\",\"type\":\"HelpTool\"},{\"attributes\":{},\"id\":\"11834\",\"type\":\"DataRange1d\"},{\"attributes\":{},\"id\":\"11812\",\"type\":\"PanTool\"},{\"attributes\":{\"overlay\":{\"id\":\"11818\"}},\"id\":\"11814\",\"type\":\"BoxZoomTool\"},{\"attributes\":{},\"id\":\"11815\",\"type\":\"SaveTool\"},{\"attributes\":{},\"id\":\"11816\",\"type\":\"ResetTool\"},{\"attributes\":{\"fill_alpha\":{\"value\":0.1},\"fill_color\":{\"value\":\"#1f77b4\"},\"line_alpha\":{\"value\":0.1},\"line_color\":{\"value\":\"#1f77b4\"},\"x\":{\"field\":\"x\"},\"y\":{\"field\":\"y\"}},\"id\":\"11790\",\"type\":\"Circle\"},{\"attributes\":{\"data\":{\"x\":{\"__ndarray__\":\"5/up8dJN/D/b+X5qvHQFQHWTGARWDgFAYOXQItv5DkDn+6nx0k0CQP7UeOkmMfQ/aJHtfD81CEDdJAaBlUMAQM3MzMzMzABA5dAi2/l+/D/0/dR46Sb9P3Noke18PwJAL90kBoGV8z/jpZvEILAPQIXrUbgeBRpAL90kBoGVBkCWQ4ts5/sBQKrx0k1iEARAUrgehetRCEBEi2zn+6n9P2ZmZmZmZhRA/Knx0k1iCUAQWDm0yHYCQCcxCKwcWgJArBxaZDvfBkDTTWIQWDkBQGq8dJMYBAZAzczMzMzMCkBSuB6F61ELQPT91HjpJghAvp8aL90kBEBxPQrXo3ADQGiR7Xw/NfQ//Knx0k1i/j8dWmQ730/5P9v5fmq8dP0/K4cW2c73+z9t5/up8dIHQJ7vp8ZLNwFAAiuHFtnO/z/hehSuR+ECQHe+nxov3QFAGy/dJAaBBEC28/3UeOnuP9Ei2/l+agBAAAAAAAAAAEAGgZVDi2wPQA==\",\"dtype\":\"float64\",\"order\":\"little\",\"shape\":[47]},\"y\":{\"__ndarray__\":\"AAAAAACgVkBmZmZmZmZJQDMzMzMzM1ZAAAAAAAAAREBmZmZmZuZIQAAAAAAAwFhAmpmZmZl5V0DNzMzMzIxWQDMzMzMzU1RAzczMzMxMU0AAAAAAAOBWQM3MzMzMTFZAZmZmZmYmWEDNzMzMzExRQDMzMzMzMylAMzMzMzOzRkCamZmZmblYQDMzMzMzc1ZAzczMzMwMVEAAAAAAAABZQGZmZmZmZkVAzczMzMxMU0BmZmZmZkZWQAAAAAAA4FhAmpmZmZm5UUDNzMzMzMxYQJqZmZmZ+VdAAAAAAADgWECamZmZmZlPQJqZmZmZOVZAZmZmZmbGWEAzMzMzM9NYQGZmZmZm5lZAAAAAAADgVkDNzMzMzOxYQAAAAAAAgFVAmpmZmZnZWECamZmZmTlUQGZmZmZmRldAMzMzMzNzWECamZmZmZlWQJqZmZmZWVZAmpmZmZlZQ0DNzMzMzKxWQDMzMzMzU1dAmpmZmZmZWEBmZmZmZsZYQA==\",\"dtype\":\"float64\",\"order\":\"little\",\"shape\":[47]}},\"selected\":{\"id\":\"11937\"},\"selection_policy\":{\"id\":\"11936\"}},\"id\":\"11864\",\"type\":\"ColumnDataSource\"},{\"attributes\":{},\"id\":\"11850\",\"type\":\"PanTool\"},{\"attributes\":{\"fill_color\":{\"value\":\"#1f77b4\"},\"line_color\":{\"value\":\"#1f77b4\"},\"x\":{\"field\":\"x\"},\"y\":{\"field\":\"y\"}},\"id\":\"11903\",\"type\":\"Circle\"},{\"attributes\":{},\"id\":\"11854\",\"type\":\"ResetTool\"},{\"attributes\":{\"data\":{\"x\":{\"__ndarray__\":\"fT81XrpJ9j/Jdr6fGi/1P39qvHSTGP4/bxKDwMqh/T89CtejcD32Py2yne+nxvU/sHJoke189z8Sg8DKoUX0PzMzMzMzM/U/wcqhRbbz+z8pXI/C9Sj2PyUGgZVDi/w/PzVeukkM9j8zMzMzMzP3P+xRuB6F6/U/5dAi2/l+9D9WDi2yne/9P1yPwvUoXPc/YOXQItv59j+YbhKDwMr5Py/dJAaBlf0/x0s3iUFg/T8pXI/C9Sj+P99PjZduEvc/c2iR7Xw//z8xCKwcWmTzP9V46SYxCPg/rBxaZDvf9T9Ei2zn+6n9PzeJQWDl0PY/YOXQItv59j99PzVeukn2P0oMAiuHFvs/qMZLN4lB+D9qvHSTGAT0P1g5tMh2vgBA\",\"dtype\":\"float64\",\"order\":\"little\",\"shape\":[36]},\"y\":{\"__ndarray__\":\"mpmZmZnZWEAAAAAAAMBYQAAAAAAAwFhAAAAAAADAWEAAAAAAAKBYQGZmZmZm5lhAmpmZmZk5WEAzMzMzM9NYQJqZmZmZOVhAAAAAAADAWECamZmZmflXQAAAAAAAwFhAmpmZmZk5V0AAAAAAAMBYQJqZmZmZuVhAzczMzMzsWEAAAAAAAMBYQAAAAAAAwFhAmpmZmZl5WEDNzMzMzAxYQAAAAAAAwFhAAAAAAAAAWUAAAAAAAABZQAAAAAAAgFhAAAAAAADAWECamZmZmflXQDMzMzMzc1hAzczMzMzsWEDNzMzMzKxYQDMzMzMz81hAmpmZmZnZV0DNzMzMzOxYQDMzMzMz81hAzczMzMwsWEAAAAAAAGBXQAAAAAAAwFhA\",\"dtype\":\"float64\",\"order\":\"little\",\"shape\":[36]}},\"selected\":{\"id\":\"11948\"},\"selection_policy\":{\"id\":\"11947\"}},\"id\":\"11902\",\"type\":\"ColumnDataSource\"},{\"attributes\":{},\"id\":\"11855\",\"type\":\"HelpTool\"},{\"attributes\":{\"overlay\":{\"id\":\"11856\"}},\"id\":\"11852\",\"type\":\"BoxZoomTool\"},{\"attributes\":{\"data_source\":{\"id\":\"11902\"},\"glyph\":{\"id\":\"11903\"},\"hover_glyph\":null,\"muted_glyph\":null,\"nonselection_glyph\":{\"id\":\"11904\"},\"view\":{\"id\":\"11906\"}},\"id\":\"11905\",\"type\":\"GlyphRenderer\"},{\"attributes\":{\"fill_color\":{\"value\":\"#1f77b4\"},\"line_color\":{\"value\":\"#1f77b4\"},\"x\":{\"field\":\"x\"},\"y\":{\"field\":\"y\"}},\"id\":\"11789\",\"type\":\"Circle\"},{\"attributes\":{},\"id\":\"11800\",\"type\":\"LinearScale\"},{\"attributes\":{},\"id\":\"11853\",\"type\":\"SaveTool\"},{\"attributes\":{\"data_source\":{\"id\":\"11788\"},\"glyph\":{\"id\":\"11789\"},\"hover_glyph\":null,\"muted_glyph\":null,\"nonselection_glyph\":{\"id\":\"11790\"},\"view\":{\"id\":\"11792\"}},\"id\":\"11791\",\"type\":\"GlyphRenderer\"},{\"attributes\":{},\"id\":\"11919\",\"type\":\"BasicTickFormatter\"},{\"attributes\":{\"source\":{\"id\":\"11902\"}},\"id\":\"11906\",\"type\":\"CDSView\"},{\"attributes\":{\"active_multi\":null,\"tools\":[{\"id\":\"11850\"},{\"id\":\"11851\"},{\"id\":\"11852\"},{\"id\":\"11853\"},{\"id\":\"11854\"},{\"id\":\"11855\"}]},\"id\":\"11857\",\"type\":\"Toolbar\"},{\"attributes\":{\"fill_alpha\":{\"value\":0.1},\"fill_color\":{\"value\":\"#1f77b4\"},\"line_alpha\":{\"value\":0.1},\"line_color\":{\"value\":\"#1f77b4\"},\"x\":{\"field\":\"x\"},\"y\":{\"field\":\"y\"}},\"id\":\"11904\",\"type\":\"Circle\"},{\"attributes\":{},\"id\":\"11920\",\"type\":\"AllLabels\"},{\"attributes\":{\"axis\":{\"id\":\"11804\"},\"ticker\":null},\"id\":\"11807\",\"type\":\"Grid\"},{\"attributes\":{\"source\":{\"id\":\"11864\"}},\"id\":\"11868\",\"type\":\"CDSView\"},{\"attributes\":{\"axis\":{\"id\":\"11842\"},\"ticker\":null},\"id\":\"11845\",\"type\":\"Grid\"},{\"attributes\":{\"fill_alpha\":{\"value\":0.1},\"fill_color\":{\"value\":\"#1f77b4\"},\"line_alpha\":{\"value\":0.1},\"line_color\":{\"value\":\"#1f77b4\"},\"x\":{\"field\":\"x\"},\"y\":{\"field\":\"y\"}},\"id\":\"11866\",\"type\":\"Circle\"},{\"attributes\":{\"text\":\"Europe\"},\"id\":\"11870\",\"type\":\"Title\"},{\"attributes\":{},\"id\":\"11878\",\"type\":\"LinearScale\"},{\"attributes\":{},\"id\":\"11874\",\"type\":\"DataRange1d\"},{\"attributes\":{},\"id\":\"11847\",\"type\":\"BasicTicker\"},{\"attributes\":{\"axis\":{\"id\":\"11846\"},\"dimension\":1,\"ticker\":null},\"id\":\"11849\",\"type\":\"Grid\"},{\"attributes\":{\"active_multi\":null,\"tools\":[{\"id\":\"11812\"},{\"id\":\"11813\"},{\"id\":\"11814\"},{\"id\":\"11815\"},{\"id\":\"11816\"},{\"id\":\"11817\"}]},\"id\":\"11819\",\"type\":\"Toolbar\"},{\"attributes\":{},\"id\":\"11876\",\"type\":\"LinearScale\"},{\"attributes\":{},\"id\":\"11941\",\"type\":\"BasicTickFormatter\"},{\"attributes\":{\"axis_label\":\"fertility (children per woman)\",\"formatter\":{\"id\":\"11944\"},\"major_label_policy\":{\"id\":\"11945\"},\"ticker\":{\"id\":\"11881\"}},\"id\":\"11880\",\"type\":\"LinearAxis\"},{\"attributes\":{},\"id\":\"11911\",\"type\":\"BasicTickFormatter\"},{\"attributes\":{},\"id\":\"11881\",\"type\":\"BasicTicker\"},{\"attributes\":{\"axis\":{\"id\":\"11880\"},\"ticker\":null},\"id\":\"11883\",\"type\":\"Grid\"},{\"attributes\":{},\"id\":\"11942\",\"type\":\"AllLabels\"},{\"attributes\":{},\"id\":\"11889\",\"type\":\"WheelZoomTool\"},{\"attributes\":{},\"id\":\"11912\",\"type\":\"AllLabels\"},{\"attributes\":{\"axis_label\":\"female_literacy (% population)\",\"formatter\":{\"id\":\"11941\"},\"major_label_policy\":{\"id\":\"11942\"},\"ticker\":{\"id\":\"11885\"}},\"id\":\"11884\",\"type\":\"LinearAxis\"},{\"attributes\":{\"below\":[{\"id\":\"11766\"}],\"center\":[{\"id\":\"11769\"},{\"id\":\"11773\"}],\"height\":300,\"left\":[{\"id\":\"11770\"}],\"renderers\":[{\"id\":\"11791\"}],\"title\":{\"id\":\"11756\"},\"toolbar\":{\"id\":\"11781\"},\"toolbar_location\":null,\"width\":300,\"x_range\":{\"id\":\"11758\"},\"x_scale\":{\"id\":\"11762\"},\"y_range\":{\"id\":\"11760\"},\"y_scale\":{\"id\":\"11764\"}},\"id\":\"11755\",\"subtype\":\"Figure\",\"type\":\"Plot\"},{\"attributes\":{\"axis\":{\"id\":\"11884\"},\"dimension\":1,\"ticker\":null},\"id\":\"11887\",\"type\":\"Grid\"},{\"attributes\":{},\"id\":\"11922\",\"type\":\"BasicTickFormatter\"},{\"attributes\":{},\"id\":\"11885\",\"type\":\"BasicTicker\"},{\"attributes\":{\"active_multi\":null,\"tools\":[{\"id\":\"11888\"},{\"id\":\"11889\"},{\"id\":\"11890\"},{\"id\":\"11891\"},{\"id\":\"11892\"},{\"id\":\"11893\"}]},\"id\":\"11895\",\"type\":\"Toolbar\"},{\"attributes\":{\"bottom_units\":\"screen\",\"fill_alpha\":0.5,\"fill_color\":\"lightgrey\",\"left_units\":\"screen\",\"level\":\"overlay\",\"line_alpha\":1.0,\"line_color\":\"black\",\"line_dash\":[4,4],\"line_width\":2,\"right_units\":\"screen\",\"syncable\":false,\"top_units\":\"screen\"},\"id\":\"11780\",\"type\":\"BoxAnnotation\"},{\"attributes\":{},\"id\":\"11893\",\"type\":\"HelpTool\"},{\"attributes\":{},\"id\":\"11923\",\"type\":\"AllLabels\"},{\"attributes\":{},\"id\":\"11888\",\"type\":\"PanTool\"},{\"attributes\":{\"overlay\":{\"id\":\"11894\"}},\"id\":\"11890\",\"type\":\"BoxZoomTool\"},{\"attributes\":{},\"id\":\"11891\",\"type\":\"SaveTool\"},{\"attributes\":{},\"id\":\"11914\",\"type\":\"UnionRenderers\"},{\"attributes\":{},\"id\":\"11892\",\"type\":\"ResetTool\"},{\"attributes\":{},\"id\":\"11915\",\"type\":\"Selection\"},{\"attributes\":{},\"id\":\"11925\",\"type\":\"UnionRenderers\"},{\"attributes\":{},\"id\":\"11944\",\"type\":\"BasicTickFormatter\"},{\"attributes\":{\"text\":\"Asia\"},\"id\":\"11832\",\"type\":\"Title\"},{\"attributes\":{},\"id\":\"11836\",\"type\":\"DataRange1d\"},{\"attributes\":{},\"id\":\"11843\",\"type\":\"BasicTicker\"},{\"attributes\":{\"bottom_units\":\"screen\",\"fill_alpha\":0.5,\"fill_color\":\"lightgrey\",\"left_units\":\"screen\",\"level\":\"overlay\",\"line_alpha\":1.0,\"line_color\":\"black\",\"line_dash\":[4,4],\"line_width\":2,\"right_units\":\"screen\",\"syncable\":false,\"top_units\":\"screen\"},\"id\":\"11818\",\"type\":\"BoxAnnotation\"},{\"attributes\":{},\"id\":\"11945\",\"type\":\"AllLabels\"},{\"attributes\":{},\"id\":\"11926\",\"type\":\"Selection\"},{\"attributes\":{},\"id\":\"11838\",\"type\":\"LinearScale\"},{\"attributes\":{},\"id\":\"11851\",\"type\":\"WheelZoomTool\"},{\"attributes\":{\"data\":{\"x\":{\"__ndarray__\":\"/tR46SaxFEC6SQwCK4cGQPLSTWIQ2BRAbxKDwMqhF0AK16NwPQoEQBSuR+F6FBZACKwcWmQ7EEBWDi2ynW8TQCPb+X5qvAJAarx0kxgEGUB56SYxCKwCQOF6FK5H4RBAke18PzXeE0B1kxgEVg4SQHsUrkfhehJARIts5/spEkA/NV66SYwWQHe+nxovXRdAUrgehevRFUAtsp3vp0YcQB+F61G4nhVAppvEILDyFkCBlUOLbOcKQI/C9ShcjxNAbef7qfFSGEDb+X5qvHT9PzeJQWDlUBVAUrgehetRFUBQjZduEoMVQM3MzMzMzBFARIts5/upEECJQWDl0CIFQClcj8L1qBRA6SYxCKwcEkB9PzVeuskSQCUGgZVDCxRAWmQ730+NEUBSuB6F61EKQOkmMQisHApA+n5qvHSTBkDHSzeJQeATQIlBYOXQohZA7FG4HoXrCUB56SYxCKz8P5qZmZmZmQtAbxKDwMohFUAUrkfhehQPQOf7qfHSTQVAWDm0yHa+DUA=\",\"dtype\":\"float64\",\"order\":\"little\",\"shape\":[49]},\"y\":{\"__ndarray__\":\"ZmZmZmZmSEBmZmZmZuZMQM3MzMzMzDZAzczMzMwMTEBmZmZmZgZWQDMzMzMzk1BAzczMzMzMTUAzMzMzM7NUQDMzMzMz809AMzMzMzOzUEDNzMzMzAxGQGZmZmZmpk1AzczMzMwMREBmZmZmZiZGQDMzMzMzU1BAMzMzMzPzUEAAAAAAAIBMQJqZmZmZmTVAMzMzMzNzUEAzMzMzMzMuQDMzMzMzMzJAAAAAAACATkAzMzMzMzNWQAAAAAAAgEBAZmZmZmbmNUAAAAAAAMBRQGZmZmZmZjpAZmZmZmaGUECamZmZmRk8QDMzMzMz801AmpmZmZnZSkAzMzMzM1NUQGZmZmZm5jxAAAAAAABAS0DNzMzMzIxEQAAAAAAAgEpAAAAAAADASEDNzMzMzOxVQGZmZmZmxldAAAAAAADgVEBmZmZmZiZBQAAAAAAAQEJAzczMzMzMVEAzMzMzMzNVQGZmZmZmZlVAZmZmZmZGVkAzMzMzM/NQQDMzMzMz01NAMzMzMzPTVEA=\",\"dtype\":\"float64\",\"order\":\"little\",\"shape\":[49]}},\"selected\":{\"id\":\"11926\"},\"selection_policy\":{\"id\":\"11925\"}},\"id\":\"11826\",\"type\":\"ColumnDataSource\"},{\"attributes\":{\"axis_label\":\"female_literacy (% population)\",\"formatter\":{\"id\":\"11930\"},\"major_label_policy\":{\"id\":\"11931\"},\"ticker\":{\"id\":\"11847\"}},\"id\":\"11846\",\"type\":\"LinearAxis\"},{\"attributes\":{},\"id\":\"11908\",\"type\":\"BasicTickFormatter\"},{\"attributes\":{},\"id\":\"11802\",\"type\":\"LinearScale\"},{\"attributes\":{\"active_multi\":null,\"tools\":[{\"id\":\"11774\"},{\"id\":\"11775\"},{\"id\":\"11776\"},{\"id\":\"11777\"},{\"id\":\"11778\"},{\"id\":\"11779\"}]},\"id\":\"11781\",\"type\":\"Toolbar\"},{\"attributes\":{},\"id\":\"11947\",\"type\":\"UnionRenderers\"},{\"attributes\":{},\"id\":\"11796\",\"type\":\"DataRange1d\"},{\"attributes\":{},\"id\":\"11909\",\"type\":\"AllLabels\"},{\"attributes\":{},\"id\":\"11840\",\"type\":\"LinearScale\"},{\"attributes\":{\"source\":{\"id\":\"11788\"}},\"id\":\"11792\",\"type\":\"CDSView\"},{\"attributes\":{},\"id\":\"11948\",\"type\":\"Selection\"},{\"attributes\":{\"axis_label\":\"fertility (children per woman)\",\"formatter\":{\"id\":\"11922\"},\"major_label_policy\":{\"id\":\"11923\"},\"ticker\":{\"id\":\"11805\"}},\"id\":\"11804\",\"type\":\"LinearAxis\"},{\"attributes\":{\"axis_label\":\"fertility (children per woman)\",\"formatter\":{\"id\":\"11933\"},\"major_label_policy\":{\"id\":\"11934\"},\"ticker\":{\"id\":\"11843\"}},\"id\":\"11842\",\"type\":\"LinearAxis\"},{\"attributes\":{\"data\":{\"x\":{\"__ndarray__\":\"CKwcWmQ7/T9zaJHtfD8BQAisHFpkOwNAYhBYObTIAUA9CtejcD0EQJZDi2zn+wNAN4lBYOXQ/j/fT42XbhIQQLTIdr6fGgRAFK5H4XoU+D9MN4lBYOUEQCuHFtnO9wpAhetRuB6FCUA3iUFg5dAHQFyPwvUoXAJAEFg5tMh2BUBKDAIrhxb/P1TjpZvEIARAg8DKoUW2AEBMN4lBYOUCQCcxCKwcWvo/lkOLbOf7AkArhxbZzvcKQIPAyqFFtvs/\",\"dtype\":\"float64\",\"order\":\"little\",\"shape\":[24]},\"y\":{\"__ndarray__\":\"zczMzMyMVkAAAAAAAOBWQJqZmZmZWVdAzczMzMxsWEBmZmZmZiZVQJqZmZmZuVdAzczMzMysWEDNzMzMzCxRQM3MzMzMbFRAMzMzMzPzWEAzMzMzMxNWQAAAAAAAgFVAAAAAAADgVEAAAAAAAGBXQJqZmZmZWVRAmpmZmZl5U0DNzMzMzAxYQDMzMzMzM1dAAAAAAACgWEAzMzMzM7NWQM3MzMzMjFhAmpmZmZkZVkAAAAAAACBYQAAAAAAAgFhA\",\"dtype\":\"float64\",\"order\":\"little\",\"shape\":[24]}},\"selected\":{\"id\":\"11915\"},\"selection_policy\":{\"id\":\"11914\"}},\"id\":\"11788\",\"type\":\"ColumnDataSource\"},{\"attributes\":{\"bottom_units\":\"screen\",\"fill_alpha\":0.5,\"fill_color\":\"lightgrey\",\"left_units\":\"screen\",\"level\":\"overlay\",\"line_alpha\":1.0,\"line_color\":\"black\",\"line_dash\":[4,4],\"line_width\":2,\"right_units\":\"screen\",\"syncable\":false,\"top_units\":\"screen\"},\"id\":\"11856\",\"type\":\"BoxAnnotation\"},{\"attributes\":{},\"id\":\"11805\",\"type\":\"BasicTicker\"},{\"attributes\":{\"bottom_units\":\"screen\",\"fill_alpha\":0.5,\"fill_color\":\"lightgrey\",\"left_units\":\"screen\",\"level\":\"overlay\",\"line_alpha\":1.0,\"line_color\":\"black\",\"line_dash\":[4,4],\"line_width\":2,\"right_units\":\"screen\",\"syncable\":false,\"top_units\":\"screen\"},\"id\":\"11894\",\"type\":\"BoxAnnotation\"},{\"attributes\":{\"child\":{\"id\":\"11869\"},\"title\":\"Europe\"},\"id\":\"12704\",\"type\":\"Panel\"},{\"attributes\":{},\"id\":\"11930\",\"type\":\"BasicTickFormatter\"},{\"attributes\":{},\"id\":\"11931\",\"type\":\"AllLabels\"},{\"attributes\":{\"text\":\"Latin America\"},\"id\":\"11756\",\"type\":\"Title\"},{\"attributes\":{\"below\":[{\"id\":\"11842\"}],\"center\":[{\"id\":\"11845\"},{\"id\":\"11849\"}],\"height\":300,\"left\":[{\"id\":\"11846\"}],\"renderers\":[{\"id\":\"11867\"}],\"title\":{\"id\":\"11832\"},\"toolbar\":{\"id\":\"11857\"},\"toolbar_location\":null,\"width\":300,\"x_range\":{\"id\":\"11834\"},\"x_scale\":{\"id\":\"11838\"},\"y_range\":{\"id\":\"11836\"},\"y_scale\":{\"id\":\"11840\"}},\"id\":\"11831\",\"subtype\":\"Figure\",\"type\":\"Plot\"},{\"attributes\":{\"child\":{\"id\":\"11755\"},\"title\":\"Latin America\"},\"id\":\"12701\",\"type\":\"Panel\"},{\"attributes\":{\"child\":{\"id\":\"11831\"},\"title\":\"Asia\"},\"id\":\"12703\",\"type\":\"Panel\"},{\"attributes\":{\"child\":{\"id\":\"11793\"},\"title\":\"Africa\"},\"id\":\"12702\",\"type\":\"Panel\"},{\"attributes\":{},\"id\":\"11933\",\"type\":\"BasicTickFormatter\"},{\"attributes\":{},\"id\":\"11934\",\"type\":\"AllLabels\"},{\"attributes\":{\"source\":{\"id\":\"11826\"}},\"id\":\"11830\",\"type\":\"CDSView\"},{\"attributes\":{\"below\":[{\"id\":\"11880\"}],\"center\":[{\"id\":\"11883\"},{\"id\":\"11887\"}],\"height\":300,\"left\":[{\"id\":\"11884\"}],\"renderers\":[{\"id\":\"11905\"}],\"title\":{\"id\":\"11870\"},\"toolbar\":{\"id\":\"11895\"},\"toolbar_location\":null,\"width\":300,\"x_range\":{\"id\":\"11872\"},\"x_scale\":{\"id\":\"11876\"},\"y_range\":{\"id\":\"11874\"},\"y_scale\":{\"id\":\"11878\"}},\"id\":\"11869\",\"subtype\":\"Figure\",\"type\":\"Plot\"},{\"attributes\":{\"fill_color\":{\"value\":\"#1f77b4\"},\"line_color\":{\"value\":\"#1f77b4\"},\"x\":{\"field\":\"x\"},\"y\":{\"field\":\"y\"}},\"id\":\"11827\",\"type\":\"Circle\"},{\"attributes\":{\"data_source\":{\"id\":\"11826\"},\"glyph\":{\"id\":\"11827\"},\"hover_glyph\":null,\"muted_glyph\":null,\"nonselection_glyph\":{\"id\":\"11828\"},\"view\":{\"id\":\"11830\"}},\"id\":\"11829\",\"type\":\"GlyphRenderer\"},{\"attributes\":{\"fill_alpha\":{\"value\":0.1},\"fill_color\":{\"value\":\"#1f77b4\"},\"line_alpha\":{\"value\":0.1},\"line_color\":{\"value\":\"#1f77b4\"},\"x\":{\"field\":\"x\"},\"y\":{\"field\":\"y\"}},\"id\":\"11828\",\"type\":\"Circle\"},{\"attributes\":{},\"id\":\"11778\",\"type\":\"ResetTool\"},{\"attributes\":{},\"id\":\"11936\",\"type\":\"UnionRenderers\"},{\"attributes\":{},\"id\":\"11774\",\"type\":\"PanTool\"},{\"attributes\":{\"overlay\":{\"id\":\"11780\"}},\"id\":\"11776\",\"type\":\"BoxZoomTool\"},{\"attributes\":{},\"id\":\"11779\",\"type\":\"HelpTool\"},{\"attributes\":{},\"id\":\"11777\",\"type\":\"SaveTool\"},{\"attributes\":{},\"id\":\"11771\",\"type\":\"BasicTicker\"},{\"attributes\":{},\"id\":\"11937\",\"type\":\"Selection\"},{\"attributes\":{\"axis\":{\"id\":\"11770\"},\"dimension\":1,\"ticker\":null},\"id\":\"11773\",\"type\":\"Grid\"},{\"attributes\":{\"axis_label\":\"female_literacy (% population)\",\"formatter\":{\"id\":\"11908\"},\"major_label_policy\":{\"id\":\"11909\"},\"ticker\":{\"id\":\"11771\"}},\"id\":\"11770\",\"type\":\"LinearAxis\"},{\"attributes\":{\"below\":[{\"id\":\"11804\"}],\"center\":[{\"id\":\"11807\"},{\"id\":\"11811\"}],\"height\":300,\"left\":[{\"id\":\"11808\"}],\"renderers\":[{\"id\":\"11829\"}],\"title\":{\"id\":\"11794\"},\"toolbar\":{\"id\":\"11819\"},\"toolbar_location\":null,\"width\":300,\"x_range\":{\"id\":\"11796\"},\"x_scale\":{\"id\":\"11800\"},\"y_range\":{\"id\":\"11798\"},\"y_scale\":{\"id\":\"11802\"}},\"id\":\"11793\",\"subtype\":\"Figure\",\"type\":\"Plot\"},{\"attributes\":{},\"id\":\"11775\",\"type\":\"WheelZoomTool\"},{\"attributes\":{\"axis\":{\"id\":\"11766\"},\"ticker\":null},\"id\":\"11769\",\"type\":\"Grid\"},{\"attributes\":{},\"id\":\"11767\",\"type\":\"BasicTicker\"},{\"attributes\":{\"axis_label\":\"fertility (children per woman)\",\"formatter\":{\"id\":\"11911\"},\"major_label_policy\":{\"id\":\"11912\"},\"ticker\":{\"id\":\"11767\"}},\"id\":\"11766\",\"type\":\"LinearAxis\"},{\"attributes\":{},\"id\":\"11762\",\"type\":\"LinearScale\"},{\"attributes\":{},\"id\":\"11760\",\"type\":\"DataRange1d\"},{\"attributes\":{},\"id\":\"11758\",\"type\":\"DataRange1d\"}],\"root_ids\":[\"12705\"]},\"title\":\"Bokeh Application\",\"version\":\"2.3.0\"}};\n",
       "  var render_items = [{\"docid\":\"c5b8f244-a244-4580-bf90-309b26ee66e8\",\"root_ids\":[\"12705\"],\"roots\":{\"12705\":\"f2cb5dd5-5295-4a73-8d46-92d3cb0bd8e4\"}}];\n",
       "  root.Bokeh.embed.embed_items_notebook(docs_json, render_items);\n",
       "\n",
       "  }\n",
       "  if (root.Bokeh !== undefined) {\n",
       "    embed_document(root);\n",
       "  } else {\n",
       "    var attempts = 0;\n",
       "    var timer = setInterval(function(root) {\n",
       "      if (root.Bokeh !== undefined) {\n",
       "        clearInterval(timer);\n",
       "        embed_document(root);\n",
       "      } else {\n",
       "        attempts++;\n",
       "        if (attempts > 100) {\n",
       "          clearInterval(timer);\n",
       "          console.log(\"Bokeh: ERROR: Unable to run BokehJS code because BokehJS library is missing\");\n",
       "        }\n",
       "      }\n",
       "    }, 10, root)\n",
       "  }\n",
       "})(window);"
      ],
      "application/vnd.bokehjs_exec.v0+json": ""
     },
     "metadata": {
      "application/vnd.bokehjs_exec.v0+json": {
       "id": "12705"
      }
     },
     "output_type": "display_data"
    }
   ],
   "source": [
    "# Import Tabs from bokeh.models.widgets\n",
    "# from bokeh.models.widgets import Tabs  # done at the top of the notebook\n",
    "\n",
    "# Create a Tabs layout: layout\n",
    "layout = Tabs(tabs=[tab1, tab2, tab3, tab4])\n",
    "\n",
    "# Specify the name of the output_file and show the result\n",
    "# output_file('tabs.html')\n",
    "show(layout)"
   ]
  },
  {
   "cell_type": "markdown",
   "metadata": {},
   "source": [
    "## Linking plots together\n",
    "\n",
    "- With the ability to display multiple plots at once, we might want to link them together in various ways\n",
    "- Bokeh has a variety of methods to achieve very sophisticated linked interactions.\n",
    "- In this section we'll take a look at two of the simplest to use capabilities:\n",
    "\n",
    "**Linking axes**\n",
    "\n",
    "1. Linked panning: if we present more than one plot, we might wish for the displayed ranges of the plots to stay synchronized.\n",
    " - To share any range between plot, assign the x_range or y_range property from one plot to another plot"
   ]
  },
  {
   "cell_type": "code",
   "execution_count": 57,
   "metadata": {},
   "outputs": [
    {
     "data": {
      "text/html": [
       "\n",
       "\n",
       "\n",
       "\n",
       "\n",
       "\n",
       "  <div class=\"bk-root\" id=\"3fce7a6d-9530-473d-bbfc-2135a82e1214\" data-root-id=\"13607\"></div>\n"
      ]
     },
     "metadata": {},
     "output_type": "display_data"
    },
    {
     "data": {
      "application/javascript": [
       "(function(root) {\n",
       "  function embed_document(root) {\n",
       "    \n",
       "  var docs_json = {\"167dbd61-73b3-4858-b731-4a7d86d1462e\":{\"defs\":[{\"extends\":null,\"module\":null,\"name\":\"DataModel\",\"overrides\":[],\"properties\":[]}],\"roots\":{\"references\":[{\"attributes\":{\"children\":[{\"id\":\"13493\"},{\"id\":\"13531\"},{\"id\":\"13569\"}]},\"id\":\"13607\",\"type\":\"Row\"},{\"attributes\":{\"data_source\":{\"id\":\"13564\"},\"glyph\":{\"id\":\"13565\"},\"hover_glyph\":null,\"muted_glyph\":null,\"nonselection_glyph\":{\"id\":\"13566\"},\"view\":{\"id\":\"13568\"}},\"id\":\"13567\",\"type\":\"GlyphRenderer\"},{\"attributes\":{\"text\":\"petal length vs. petal width\"},\"id\":\"13570\",\"type\":\"Title\"},{\"attributes\":{\"data_source\":{\"id\":\"13602\"},\"glyph\":{\"id\":\"13603\"},\"hover_glyph\":null,\"muted_glyph\":null,\"nonselection_glyph\":{\"id\":\"13604\"},\"view\":{\"id\":\"13606\"}},\"id\":\"13605\",\"type\":\"GlyphRenderer\"},{\"attributes\":{\"fill_color\":{\"value\":\"blue\"},\"line_color\":{\"value\":\"blue\"},\"x\":{\"field\":\"x\"},\"y\":{\"field\":\"y\"}},\"id\":\"13527\",\"type\":\"Circle\"},{\"attributes\":{\"source\":{\"id\":\"13564\"}},\"id\":\"13568\",\"type\":\"CDSView\"},{\"attributes\":{\"data\":{\"x\":{\"__ndarray__\":\"ZmZmZmZm9j9mZmZmZmb2P83MzMzMzPQ/AAAAAAAA+D9mZmZmZmb2PzMzMzMzM/s/ZmZmZmZm9j8AAAAAAAD4P2ZmZmZmZvY/AAAAAAAA+D8AAAAAAAD4P5qZmZmZmfk/ZmZmZmZm9j+amZmZmZnxPzMzMzMzM/M/AAAAAAAA+D/NzMzMzMz0P2ZmZmZmZvY/MzMzMzMz+z8AAAAAAAD4PzMzMzMzM/s/AAAAAAAA+D8AAAAAAADwPzMzMzMzM/s/ZmZmZmZm/j+amZmZmZn5P5qZmZmZmfk/AAAAAAAA+D9mZmZmZmb2P5qZmZmZmfk/mpmZmZmZ+T8AAAAAAAD4PwAAAAAAAPg/ZmZmZmZm9j8AAAAAAAD4PzMzMzMzM/M/zczMzMzM9D9mZmZmZmb2P83MzMzMzPQ/AAAAAAAA+D/NzMzMzMz0P83MzMzMzPQ/zczMzMzM9D+amZmZmZn5P2ZmZmZmZv4/ZmZmZmZm9j+amZmZmZn5P2ZmZmZmZvY/AAAAAAAA+D9mZmZmZmb2P83MzMzMzBJAAAAAAAAAEkCamZmZmZkTQAAAAAAAABBAZmZmZmZmEkAAAAAAAAASQM3MzMzMzBJAZmZmZmZmCkBmZmZmZmYSQDMzMzMzMw9AAAAAAAAADEDNzMzMzMwQQAAAAAAAABBAzczMzMzMEkDNzMzMzMwMQJqZmZmZmRFAAAAAAAAAEkBmZmZmZmYQQAAAAAAAABJAMzMzMzMzD0AzMzMzMzMTQAAAAAAAABBAmpmZmZmZE0DNzMzMzMwSQDMzMzMzMxFAmpmZmZmZEUAzMzMzMzMTQAAAAAAAABRAAAAAAAAAEkAAAAAAAAAMQGZmZmZmZg5AmpmZmZmZDUAzMzMzMzMPQGZmZmZmZhRAAAAAAAAAEkAAAAAAAAASQM3MzMzMzBJAmpmZmZmZEUBmZmZmZmYQQAAAAAAAABBAmpmZmZmZEUBmZmZmZmYSQAAAAAAAABBAZmZmZmZmCkDNzMzMzMwQQM3MzMzMzBBAzczMzMzMEEAzMzMzMzMRQAAAAAAAAAhAZmZmZmZmEEAAAAAAAAAYQGZmZmZmZhRAmpmZmZmZF0BmZmZmZmYWQDMzMzMzMxdAZmZmZmZmGkAAAAAAAAASQDMzMzMzMxlAMzMzMzMzF0BmZmZmZmYYQGZmZmZmZhRAMzMzMzMzFUAAAAAAAAAWQAAAAAAAABRAZmZmZmZmFEAzMzMzMzMVQAAAAAAAABZAzczMzMzMGkCamZmZmZkbQAAAAAAAABRAzczMzMzMFkCamZmZmZkTQM3MzMzMzBpAmpmZmZmZE0DNzMzMzMwWQAAAAAAAABhAMzMzMzMzE0CamZmZmZkTQGZmZmZmZhZAMzMzMzMzF0BmZmZmZmYYQJqZmZmZmRlAZmZmZmZmFkBmZmZmZmYUQGZmZmZmZhZAZmZmZmZmGEBmZmZmZmYWQAAAAAAAABZAMzMzMzMzE0CamZmZmZkVQGZmZmZmZhZAZmZmZmZmFEBmZmZmZmYUQJqZmZmZmRdAzczMzMzMFkDNzMzMzMwUQAAAAAAAABRAzczMzMzMFECamZmZmZkVQGZmZmZmZhRA\",\"dtype\":\"float64\",\"order\":\"little\",\"shape\":[150]},\"y\":{\"__ndarray__\":\"ZmZmZmZmFECamZmZmZkTQM3MzMzMzBJAZmZmZmZmEkAAAAAAAAAUQJqZmZmZmRVAZmZmZmZmEkAAAAAAAAAUQJqZmZmZmRFAmpmZmZmZE0CamZmZmZkVQDMzMzMzMxNAMzMzMzMzE0AzMzMzMzMRQDMzMzMzMxdAzczMzMzMFkCamZmZmZkVQGZmZmZmZhRAzczMzMzMFkBmZmZmZmYUQJqZmZmZmRVAZmZmZmZmFEBmZmZmZmYSQGZmZmZmZhRAMzMzMzMzE0AAAAAAAAAUQAAAAAAAABRAzczMzMzMFEDNzMzMzMwUQM3MzMzMzBJAMzMzMzMzE0CamZmZmZkVQM3MzMzMzBRAAAAAAAAAFkCamZmZmZkTQAAAAAAAABRAAAAAAAAAFkCamZmZmZkTQJqZmZmZmRFAZmZmZmZmFEAAAAAAAAAUQAAAAAAAABJAmpmZmZmZEUAAAAAAAAAUQGZmZmZmZhRAMzMzMzMzE0BmZmZmZmYUQGZmZmZmZhJAMzMzMzMzFUAAAAAAAAAUQAAAAAAAABxAmpmZmZmZGUCamZmZmZkbQAAAAAAAABZAAAAAAAAAGkDNzMzMzMwWQDMzMzMzMxlAmpmZmZmZE0BmZmZmZmYaQM3MzMzMzBRAAAAAAAAAFECamZmZmZkXQAAAAAAAABhAZmZmZmZmGEBmZmZmZmYWQM3MzMzMzBpAZmZmZmZmFkAzMzMzMzMXQM3MzMzMzBhAZmZmZmZmFkCamZmZmZkXQGZmZmZmZhhAMzMzMzMzGUBmZmZmZmYYQJqZmZmZmRlAZmZmZmZmGkAzMzMzMzMbQM3MzMzMzBpAAAAAAAAAGEDNzMzMzMwWQAAAAAAAABZAAAAAAAAAFkAzMzMzMzMXQAAAAAAAABhAmpmZmZmZFUAAAAAAAAAYQM3MzMzMzBpAMzMzMzMzGUBmZmZmZmYWQAAAAAAAABZAAAAAAAAAFkBmZmZmZmYYQDMzMzMzMxdAAAAAAAAAFEBmZmZmZmYWQM3MzMzMzBZAzczMzMzMFkDNzMzMzMwYQGZmZmZmZhRAzczMzMzMFkAzMzMzMzMZQDMzMzMzMxdAZmZmZmZmHEAzMzMzMzMZQAAAAAAAABpAZmZmZmZmHkCamZmZmZkTQDMzMzMzMx1AzczMzMzMGkDNzMzMzMwcQAAAAAAAABpAmpmZmZmZGUAzMzMzMzMbQM3MzMzMzBZAMzMzMzMzF0CamZmZmZkZQAAAAAAAABpAzczMzMzMHkDNzMzMzMweQAAAAAAAABhAmpmZmZmZG0BmZmZmZmYWQM3MzMzMzB5AMzMzMzMzGUDNzMzMzMwaQM3MzMzMzBxAzczMzMzMGEBmZmZmZmYYQJqZmZmZmRlAzczMzMzMHECamZmZmZkdQJqZmZmZmR9AmpmZmZmZGUAzMzMzMzMZQGZmZmZmZhhAzczMzMzMHkAzMzMzMzMZQJqZmZmZmRlAAAAAAAAAGECamZmZmZkbQM3MzMzMzBpAmpmZmZmZG0AzMzMzMzMXQDMzMzMzMxtAzczMzMzMGkDNzMzMzMwaQDMzMzMzMxlAAAAAAAAAGkDNzMzMzMwYQJqZmZmZmRdA\",\"dtype\":\"float64\",\"order\":\"little\",\"shape\":[150]}},\"selected\":{\"id\":\"14216\"},\"selection_policy\":{\"id\":\"14215\"}},\"id\":\"13526\",\"type\":\"ColumnDataSource\"},{\"attributes\":{\"data_source\":{\"id\":\"13526\"},\"glyph\":{\"id\":\"13527\"},\"hover_glyph\":null,\"muted_glyph\":null,\"nonselection_glyph\":{\"id\":\"13528\"},\"view\":{\"id\":\"13530\"}},\"id\":\"13529\",\"type\":\"GlyphRenderer\"},{\"attributes\":{},\"id\":\"13593\",\"type\":\"HelpTool\"},{\"attributes\":{\"text\":\"petal length vs. sepal width\"},\"id\":\"13532\",\"type\":\"Title\"},{\"attributes\":{\"formatter\":{\"id\":\"14212\"},\"major_label_policy\":{\"id\":\"14213\"},\"ticker\":{\"id\":\"13581\"}},\"id\":\"13580\",\"type\":\"LinearAxis\"},{\"attributes\":{\"formatter\":{\"id\":\"14209\"},\"major_label_policy\":{\"id\":\"14210\"},\"ticker\":{\"id\":\"13585\"}},\"id\":\"13584\",\"type\":\"LinearAxis\"},{\"attributes\":{\"source\":{\"id\":\"13526\"}},\"id\":\"13530\",\"type\":\"CDSView\"},{\"attributes\":{},\"id\":\"13576\",\"type\":\"LinearScale\"},{\"attributes\":{\"fill_alpha\":{\"value\":0.1},\"fill_color\":{\"value\":\"blue\"},\"line_alpha\":{\"value\":0.1},\"line_color\":{\"value\":\"blue\"},\"x\":{\"field\":\"x\"},\"y\":{\"field\":\"y\"}},\"id\":\"13528\",\"type\":\"Circle\"},{\"attributes\":{},\"id\":\"13581\",\"type\":\"BasicTicker\"},{\"attributes\":{\"axis\":{\"id\":\"13580\"},\"ticker\":null},\"id\":\"13583\",\"type\":\"Grid\"},{\"attributes\":{},\"id\":\"13578\",\"type\":\"LinearScale\"},{\"attributes\":{\"below\":[{\"id\":\"13580\"}],\"center\":[{\"id\":\"13583\"},{\"id\":\"13587\"}],\"height\":300,\"left\":[{\"id\":\"13584\"}],\"renderers\":[{\"id\":\"13605\"}],\"title\":{\"id\":\"13570\"},\"toolbar\":{\"id\":\"13595\"},\"toolbar_location\":null,\"width\":300,\"x_range\":{\"id\":\"13496\"},\"x_scale\":{\"id\":\"13576\"},\"y_range\":{\"id\":\"13498\"},\"y_scale\":{\"id\":\"13578\"}},\"id\":\"13569\",\"subtype\":\"Figure\",\"type\":\"Plot\"},{\"attributes\":{},\"id\":\"13555\",\"type\":\"HelpTool\"},{\"attributes\":{\"formatter\":{\"id\":\"14206\"},\"major_label_policy\":{\"id\":\"14207\"},\"ticker\":{\"id\":\"13543\"}},\"id\":\"13542\",\"type\":\"LinearAxis\"},{\"attributes\":{\"axis\":{\"id\":\"13584\"},\"dimension\":1,\"ticker\":null},\"id\":\"13587\",\"type\":\"Grid\"},{\"attributes\":{\"formatter\":{\"id\":\"14203\"},\"major_label_policy\":{\"id\":\"14204\"},\"ticker\":{\"id\":\"13547\"}},\"id\":\"13546\",\"type\":\"LinearAxis\"},{\"attributes\":{},\"id\":\"13585\",\"type\":\"BasicTicker\"},{\"attributes\":{},\"id\":\"13538\",\"type\":\"LinearScale\"},{\"attributes\":{},\"id\":\"13543\",\"type\":\"BasicTicker\"},{\"attributes\":{\"axis\":{\"id\":\"13542\"},\"ticker\":null},\"id\":\"13545\",\"type\":\"Grid\"},{\"attributes\":{},\"id\":\"13589\",\"type\":\"WheelZoomTool\"},{\"attributes\":{},\"id\":\"13540\",\"type\":\"LinearScale\"},{\"attributes\":{},\"id\":\"13588\",\"type\":\"PanTool\"},{\"attributes\":{\"overlay\":{\"id\":\"13594\"}},\"id\":\"13590\",\"type\":\"BoxZoomTool\"},{\"attributes\":{},\"id\":\"13591\",\"type\":\"SaveTool\"},{\"attributes\":{},\"id\":\"13592\",\"type\":\"ResetTool\"},{\"attributes\":{\"axis\":{\"id\":\"13546\"},\"dimension\":1,\"ticker\":null},\"id\":\"13549\",\"type\":\"Grid\"},{\"attributes\":{\"source\":{\"id\":\"13602\"}},\"id\":\"13606\",\"type\":\"CDSView\"},{\"attributes\":{},\"id\":\"13547\",\"type\":\"BasicTicker\"},{\"attributes\":{},\"id\":\"13551\",\"type\":\"WheelZoomTool\"},{\"attributes\":{},\"id\":\"13550\",\"type\":\"PanTool\"},{\"attributes\":{\"overlay\":{\"id\":\"13556\"}},\"id\":\"13552\",\"type\":\"BoxZoomTool\"},{\"attributes\":{},\"id\":\"13553\",\"type\":\"SaveTool\"},{\"attributes\":{},\"id\":\"13554\",\"type\":\"ResetTool\"},{\"attributes\":{\"fill_color\":{\"value\":\"green\"},\"line_color\":{\"value\":\"green\"},\"x\":{\"field\":\"x\"},\"y\":{\"field\":\"y\"}},\"id\":\"13565\",\"type\":\"Circle\"},{\"attributes\":{\"fill_alpha\":{\"value\":0.1},\"fill_color\":{\"value\":\"green\"},\"line_alpha\":{\"value\":0.1},\"line_color\":{\"value\":\"green\"},\"x\":{\"field\":\"x\"},\"y\":{\"field\":\"y\"}},\"id\":\"13566\",\"type\":\"Circle\"},{\"attributes\":{\"data\":{\"x\":{\"__ndarray__\":\"ZmZmZmZm9j9mZmZmZmb2P83MzMzMzPQ/AAAAAAAA+D9mZmZmZmb2PzMzMzMzM/s/ZmZmZmZm9j8AAAAAAAD4P2ZmZmZmZvY/AAAAAAAA+D8AAAAAAAD4P5qZmZmZmfk/ZmZmZmZm9j+amZmZmZnxPzMzMzMzM/M/AAAAAAAA+D/NzMzMzMz0P2ZmZmZmZvY/MzMzMzMz+z8AAAAAAAD4PzMzMzMzM/s/AAAAAAAA+D8AAAAAAADwPzMzMzMzM/s/ZmZmZmZm/j+amZmZmZn5P5qZmZmZmfk/AAAAAAAA+D9mZmZmZmb2P5qZmZmZmfk/mpmZmZmZ+T8AAAAAAAD4PwAAAAAAAPg/ZmZmZmZm9j8AAAAAAAD4PzMzMzMzM/M/zczMzMzM9D9mZmZmZmb2P83MzMzMzPQ/AAAAAAAA+D/NzMzMzMz0P83MzMzMzPQ/zczMzMzM9D+amZmZmZn5P2ZmZmZmZv4/ZmZmZmZm9j+amZmZmZn5P2ZmZmZmZvY/AAAAAAAA+D9mZmZmZmb2P83MzMzMzBJAAAAAAAAAEkCamZmZmZkTQAAAAAAAABBAZmZmZmZmEkAAAAAAAAASQM3MzMzMzBJAZmZmZmZmCkBmZmZmZmYSQDMzMzMzMw9AAAAAAAAADEDNzMzMzMwQQAAAAAAAABBAzczMzMzMEkDNzMzMzMwMQJqZmZmZmRFAAAAAAAAAEkBmZmZmZmYQQAAAAAAAABJAMzMzMzMzD0AzMzMzMzMTQAAAAAAAABBAmpmZmZmZE0DNzMzMzMwSQDMzMzMzMxFAmpmZmZmZEUAzMzMzMzMTQAAAAAAAABRAAAAAAAAAEkAAAAAAAAAMQGZmZmZmZg5AmpmZmZmZDUAzMzMzMzMPQGZmZmZmZhRAAAAAAAAAEkAAAAAAAAASQM3MzMzMzBJAmpmZmZmZEUBmZmZmZmYQQAAAAAAAABBAmpmZmZmZEUBmZmZmZmYSQAAAAAAAABBAZmZmZmZmCkDNzMzMzMwQQM3MzMzMzBBAzczMzMzMEEAzMzMzMzMRQAAAAAAAAAhAZmZmZmZmEEAAAAAAAAAYQGZmZmZmZhRAmpmZmZmZF0BmZmZmZmYWQDMzMzMzMxdAZmZmZmZmGkAAAAAAAAASQDMzMzMzMxlAMzMzMzMzF0BmZmZmZmYYQGZmZmZmZhRAMzMzMzMzFUAAAAAAAAAWQAAAAAAAABRAZmZmZmZmFEAzMzMzMzMVQAAAAAAAABZAzczMzMzMGkCamZmZmZkbQAAAAAAAABRAzczMzMzMFkCamZmZmZkTQM3MzMzMzBpAmpmZmZmZE0DNzMzMzMwWQAAAAAAAABhAMzMzMzMzE0CamZmZmZkTQGZmZmZmZhZAMzMzMzMzF0BmZmZmZmYYQJqZmZmZmRlAZmZmZmZmFkBmZmZmZmYUQGZmZmZmZhZAZmZmZmZmGEBmZmZmZmYWQAAAAAAAABZAMzMzMzMzE0CamZmZmZkVQGZmZmZmZhZAZmZmZmZmFEBmZmZmZmYUQJqZmZmZmRdAzczMzMzMFkDNzMzMzMwUQAAAAAAAABRAzczMzMzMFECamZmZmZkVQGZmZmZmZhRA\",\"dtype\":\"float64\",\"order\":\"little\",\"shape\":[150]},\"y\":{\"__ndarray__\":\"AAAAAAAADEAAAAAAAAAIQJqZmZmZmQlAzczMzMzMCEDNzMzMzMwMQDMzMzMzMw9AMzMzMzMzC0AzMzMzMzMLQDMzMzMzMwdAzczMzMzMCECamZmZmZkNQDMzMzMzMwtAAAAAAAAACEAAAAAAAAAIQAAAAAAAABBAmpmZmZmZEUAzMzMzMzMPQAAAAAAAAAxAZmZmZmZmDkBmZmZmZmYOQDMzMzMzMwtAmpmZmZmZDUDNzMzMzMwMQGZmZmZmZgpAMzMzMzMzC0AAAAAAAAAIQDMzMzMzMwtAAAAAAAAADEAzMzMzMzMLQJqZmZmZmQlAzczMzMzMCEAzMzMzMzMLQGZmZmZmZhBAzczMzMzMEEDNzMzMzMwIQJqZmZmZmQlAAAAAAAAADEDNzMzMzMwMQAAAAAAAAAhAMzMzMzMzC0AAAAAAAAAMQGZmZmZmZgJAmpmZmZmZCUAAAAAAAAAMQGZmZmZmZg5AAAAAAAAACEBmZmZmZmYOQJqZmZmZmQlAmpmZmZmZDUBmZmZmZmYKQJqZmZmZmQlAmpmZmZmZCUDNzMzMzMwIQGZmZmZmZgJAZmZmZmZmBkBmZmZmZmYGQGZmZmZmZgpAMzMzMzMzA0AzMzMzMzMHQJqZmZmZmQVAAAAAAAAAAEAAAAAAAAAIQJqZmZmZmQFAMzMzMzMzB0AzMzMzMzMHQM3MzMzMzAhAAAAAAAAACECamZmZmZkFQJqZmZmZmQFAAAAAAAAABECamZmZmZkJQGZmZmZmZgZAAAAAAAAABEBmZmZmZmYGQDMzMzMzMwdAAAAAAAAACEBmZmZmZmYGQAAAAAAAAAhAMzMzMzMzB0DNzMzMzMwEQDMzMzMzMwNAMzMzMzMzA0CamZmZmZkFQJqZmZmZmQVAAAAAAAAACEAzMzMzMzMLQM3MzMzMzAhAZmZmZmZmAkAAAAAAAAAIQAAAAAAAAARAzczMzMzMBEAAAAAAAAAIQM3MzMzMzARAZmZmZmZmAkCamZmZmZkFQAAAAAAAAAhAMzMzMzMzB0AzMzMzMzMHQAAAAAAAAARAZmZmZmZmBkBmZmZmZmYKQJqZmZmZmQVAAAAAAAAACEAzMzMzMzMHQAAAAAAAAAhAAAAAAAAACEAAAAAAAAAEQDMzMzMzMwdAAAAAAAAABEDNzMzMzMwMQJqZmZmZmQlAmpmZmZmZBUAAAAAAAAAIQAAAAAAAAARAZmZmZmZmBkCamZmZmZkJQAAAAAAAAAhAZmZmZmZmDkDNzMzMzMwEQJqZmZmZmQFAmpmZmZmZCUBmZmZmZmYGQGZmZmZmZgZAmpmZmZmZBUBmZmZmZmYKQJqZmZmZmQlAZmZmZmZmBkAAAAAAAAAIQGZmZmZmZgZAAAAAAAAACEBmZmZmZmYGQGZmZmZmZg5AZmZmZmZmBkBmZmZmZmYGQM3MzMzMzARAAAAAAAAACEAzMzMzMzMLQM3MzMzMzAhAAAAAAAAACEDNzMzMzMwIQM3MzMzMzAhAzczMzMzMCECamZmZmZkFQJqZmZmZmQlAZmZmZmZmCkAAAAAAAAAIQAAAAAAAAARAAAAAAAAACEAzMzMzMzMLQAAAAAAAAAhA\",\"dtype\":\"float64\",\"order\":\"little\",\"shape\":[150]}},\"selected\":{\"id\":\"14219\"},\"selection_policy\":{\"id\":\"14218\"}},\"id\":\"13564\",\"type\":\"ColumnDataSource\"},{\"attributes\":{},\"id\":\"13496\",\"type\":\"DataRange1d\"},{\"attributes\":{},\"id\":\"13502\",\"type\":\"LinearScale\"},{\"attributes\":{\"active_multi\":null,\"tools\":[{\"id\":\"13550\"},{\"id\":\"13551\"},{\"id\":\"13552\"},{\"id\":\"13553\"},{\"id\":\"13554\"},{\"id\":\"13555\"}]},\"id\":\"13557\",\"type\":\"Toolbar\"},{\"attributes\":{},\"id\":\"13498\",\"type\":\"DataRange1d\"},{\"attributes\":{},\"id\":\"13505\",\"type\":\"BasicTicker\"},{\"attributes\":{\"axis\":{\"id\":\"13504\"},\"ticker\":null},\"id\":\"13507\",\"type\":\"Grid\"},{\"attributes\":{\"fill_alpha\":{\"value\":0.1},\"fill_color\":{\"value\":\"red\"},\"line_alpha\":{\"value\":0.1},\"line_color\":{\"value\":\"red\"},\"x\":{\"field\":\"x\"},\"y\":{\"field\":\"y\"}},\"id\":\"13604\",\"type\":\"Circle\"},{\"attributes\":{\"below\":[{\"id\":\"13542\"}],\"center\":[{\"id\":\"13545\"},{\"id\":\"13549\"}],\"height\":300,\"left\":[{\"id\":\"13546\"}],\"renderers\":[{\"id\":\"13567\"}],\"title\":{\"id\":\"13532\"},\"toolbar\":{\"id\":\"13557\"},\"toolbar_location\":null,\"width\":300,\"x_range\":{\"id\":\"13496\"},\"x_scale\":{\"id\":\"13538\"},\"y_range\":{\"id\":\"13498\"},\"y_scale\":{\"id\":\"13540\"}},\"id\":\"13531\",\"subtype\":\"Figure\",\"type\":\"Plot\"},{\"attributes\":{\"axis\":{\"id\":\"13508\"},\"dimension\":1,\"ticker\":null},\"id\":\"13511\",\"type\":\"Grid\"},{\"attributes\":{},\"id\":\"13509\",\"type\":\"BasicTicker\"},{\"attributes\":{},\"id\":\"13500\",\"type\":\"LinearScale\"},{\"attributes\":{\"bottom_units\":\"screen\",\"fill_alpha\":0.5,\"fill_color\":\"lightgrey\",\"left_units\":\"screen\",\"level\":\"overlay\",\"line_alpha\":1.0,\"line_color\":\"black\",\"line_dash\":[4,4],\"line_width\":2,\"right_units\":\"screen\",\"syncable\":false,\"top_units\":\"screen\"},\"id\":\"13556\",\"type\":\"BoxAnnotation\"},{\"attributes\":{\"active_multi\":null,\"tools\":[{\"id\":\"13512\"},{\"id\":\"13513\"},{\"id\":\"13514\"},{\"id\":\"13515\"},{\"id\":\"13516\"},{\"id\":\"13517\"}]},\"id\":\"13519\",\"type\":\"Toolbar\"},{\"attributes\":{\"below\":[{\"id\":\"13504\"}],\"center\":[{\"id\":\"13507\"},{\"id\":\"13511\"}],\"height\":300,\"left\":[{\"id\":\"13508\"}],\"renderers\":[{\"id\":\"13529\"}],\"title\":{\"id\":\"13494\"},\"toolbar\":{\"id\":\"13519\"},\"toolbar_location\":null,\"width\":300,\"x_range\":{\"id\":\"13496\"},\"x_scale\":{\"id\":\"13500\"},\"y_range\":{\"id\":\"13498\"},\"y_scale\":{\"id\":\"13502\"}},\"id\":\"13493\",\"subtype\":\"Figure\",\"type\":\"Plot\"},{\"attributes\":{},\"id\":\"13512\",\"type\":\"PanTool\"},{\"attributes\":{\"formatter\":{\"id\":\"14197\"},\"major_label_policy\":{\"id\":\"14198\"},\"ticker\":{\"id\":\"13509\"}},\"id\":\"13508\",\"type\":\"LinearAxis\"},{\"attributes\":{},\"id\":\"13517\",\"type\":\"HelpTool\"},{\"attributes\":{\"formatter\":{\"id\":\"14200\"},\"major_label_policy\":{\"id\":\"14201\"},\"ticker\":{\"id\":\"13505\"}},\"id\":\"13504\",\"type\":\"LinearAxis\"},{\"attributes\":{\"bottom_units\":\"screen\",\"fill_alpha\":0.5,\"fill_color\":\"lightgrey\",\"left_units\":\"screen\",\"level\":\"overlay\",\"line_alpha\":1.0,\"line_color\":\"black\",\"line_dash\":[4,4],\"line_width\":2,\"right_units\":\"screen\",\"syncable\":false,\"top_units\":\"screen\"},\"id\":\"13594\",\"type\":\"BoxAnnotation\"},{\"attributes\":{\"text\":\"petal length vs. sepal length\"},\"id\":\"13494\",\"type\":\"Title\"},{\"attributes\":{},\"id\":\"13513\",\"type\":\"WheelZoomTool\"},{\"attributes\":{\"overlay\":{\"id\":\"13518\"}},\"id\":\"13514\",\"type\":\"BoxZoomTool\"},{\"attributes\":{},\"id\":\"13515\",\"type\":\"SaveTool\"},{\"attributes\":{},\"id\":\"13516\",\"type\":\"ResetTool\"},{\"attributes\":{},\"id\":\"14197\",\"type\":\"BasicTickFormatter\"},{\"attributes\":{},\"id\":\"14221\",\"type\":\"UnionRenderers\"},{\"attributes\":{},\"id\":\"14198\",\"type\":\"AllLabels\"},{\"attributes\":{},\"id\":\"14212\",\"type\":\"BasicTickFormatter\"},{\"attributes\":{\"fill_color\":{\"value\":\"red\"},\"line_color\":{\"value\":\"red\"},\"x\":{\"field\":\"x\"},\"y\":{\"field\":\"y\"}},\"id\":\"13603\",\"type\":\"Circle\"},{\"attributes\":{},\"id\":\"14213\",\"type\":\"AllLabels\"},{\"attributes\":{},\"id\":\"14222\",\"type\":\"Selection\"},{\"attributes\":{\"active_multi\":null,\"tools\":[{\"id\":\"13588\"},{\"id\":\"13589\"},{\"id\":\"13590\"},{\"id\":\"13591\"},{\"id\":\"13592\"},{\"id\":\"13593\"}]},\"id\":\"13595\",\"type\":\"Toolbar\"},{\"attributes\":{},\"id\":\"14215\",\"type\":\"UnionRenderers\"},{\"attributes\":{},\"id\":\"14200\",\"type\":\"BasicTickFormatter\"},{\"attributes\":{},\"id\":\"14216\",\"type\":\"Selection\"},{\"attributes\":{},\"id\":\"14201\",\"type\":\"AllLabels\"},{\"attributes\":{},\"id\":\"14203\",\"type\":\"BasicTickFormatter\"},{\"attributes\":{\"data\":{\"x\":{\"__ndarray__\":\"ZmZmZmZm9j9mZmZmZmb2P83MzMzMzPQ/AAAAAAAA+D9mZmZmZmb2PzMzMzMzM/s/ZmZmZmZm9j8AAAAAAAD4P2ZmZmZmZvY/AAAAAAAA+D8AAAAAAAD4P5qZmZmZmfk/ZmZmZmZm9j+amZmZmZnxPzMzMzMzM/M/AAAAAAAA+D/NzMzMzMz0P2ZmZmZmZvY/MzMzMzMz+z8AAAAAAAD4PzMzMzMzM/s/AAAAAAAA+D8AAAAAAADwPzMzMzMzM/s/ZmZmZmZm/j+amZmZmZn5P5qZmZmZmfk/AAAAAAAA+D9mZmZmZmb2P5qZmZmZmfk/mpmZmZmZ+T8AAAAAAAD4PwAAAAAAAPg/ZmZmZmZm9j8AAAAAAAD4PzMzMzMzM/M/zczMzMzM9D9mZmZmZmb2P83MzMzMzPQ/AAAAAAAA+D/NzMzMzMz0P83MzMzMzPQ/zczMzMzM9D+amZmZmZn5P2ZmZmZmZv4/ZmZmZmZm9j+amZmZmZn5P2ZmZmZmZvY/AAAAAAAA+D9mZmZmZmb2P83MzMzMzBJAAAAAAAAAEkCamZmZmZkTQAAAAAAAABBAZmZmZmZmEkAAAAAAAAASQM3MzMzMzBJAZmZmZmZmCkBmZmZmZmYSQDMzMzMzMw9AAAAAAAAADEDNzMzMzMwQQAAAAAAAABBAzczMzMzMEkDNzMzMzMwMQJqZmZmZmRFAAAAAAAAAEkBmZmZmZmYQQAAAAAAAABJAMzMzMzMzD0AzMzMzMzMTQAAAAAAAABBAmpmZmZmZE0DNzMzMzMwSQDMzMzMzMxFAmpmZmZmZEUAzMzMzMzMTQAAAAAAAABRAAAAAAAAAEkAAAAAAAAAMQGZmZmZmZg5AmpmZmZmZDUAzMzMzMzMPQGZmZmZmZhRAAAAAAAAAEkAAAAAAAAASQM3MzMzMzBJAmpmZmZmZEUBmZmZmZmYQQAAAAAAAABBAmpmZmZmZEUBmZmZmZmYSQAAAAAAAABBAZmZmZmZmCkDNzMzMzMwQQM3MzMzMzBBAzczMzMzMEEAzMzMzMzMRQAAAAAAAAAhAZmZmZmZmEEAAAAAAAAAYQGZmZmZmZhRAmpmZmZmZF0BmZmZmZmYWQDMzMzMzMxdAZmZmZmZmGkAAAAAAAAASQDMzMzMzMxlAMzMzMzMzF0BmZmZmZmYYQGZmZmZmZhRAMzMzMzMzFUAAAAAAAAAWQAAAAAAAABRAZmZmZmZmFEAzMzMzMzMVQAAAAAAAABZAzczMzMzMGkCamZmZmZkbQAAAAAAAABRAzczMzMzMFkCamZmZmZkTQM3MzMzMzBpAmpmZmZmZE0DNzMzMzMwWQAAAAAAAABhAMzMzMzMzE0CamZmZmZkTQGZmZmZmZhZAMzMzMzMzF0BmZmZmZmYYQJqZmZmZmRlAZmZmZmZmFkBmZmZmZmYUQGZmZmZmZhZAZmZmZmZmGEBmZmZmZmYWQAAAAAAAABZAMzMzMzMzE0CamZmZmZkVQGZmZmZmZhZAZmZmZmZmFEBmZmZmZmYUQJqZmZmZmRdAzczMzMzMFkDNzMzMzMwUQAAAAAAAABRAzczMzMzMFECamZmZmZkVQGZmZmZmZhRA\",\"dtype\":\"float64\",\"order\":\"little\",\"shape\":[150]},\"y\":{\"__ndarray__\":\"mpmZmZmZyT+amZmZmZnJP5qZmZmZmck/mpmZmZmZyT+amZmZmZnJP5qZmZmZmdk/MzMzMzMz0z+amZmZmZnJP5qZmZmZmck/mpmZmZmZuT+amZmZmZnJP5qZmZmZmck/mpmZmZmZuT+amZmZmZm5P5qZmZmZmck/mpmZmZmZ2T+amZmZmZnZPzMzMzMzM9M/MzMzMzMz0z8zMzMzMzPTP5qZmZmZmck/mpmZmZmZ2T+amZmZmZnJPwAAAAAAAOA/mpmZmZmZyT+amZmZmZnJP5qZmZmZmdk/mpmZmZmZyT+amZmZmZnJP5qZmZmZmck/mpmZmZmZyT+amZmZmZnZP5qZmZmZmbk/mpmZmZmZyT+amZmZmZnJP5qZmZmZmck/mpmZmZmZyT+amZmZmZm5P5qZmZmZmck/mpmZmZmZyT8zMzMzMzPTPzMzMzMzM9M/mpmZmZmZyT8zMzMzMzPjP5qZmZmZmdk/MzMzMzMz0z+amZmZmZnJP5qZmZmZmck/mpmZmZmZyT+amZmZmZnJP2ZmZmZmZvY/AAAAAAAA+D8AAAAAAAD4P83MzMzMzPQ/AAAAAAAA+D/NzMzMzMz0P5qZmZmZmfk/AAAAAAAA8D/NzMzMzMz0P2ZmZmZmZvY/AAAAAAAA8D8AAAAAAAD4PwAAAAAAAPA/ZmZmZmZm9j/NzMzMzMz0P2ZmZmZmZvY/AAAAAAAA+D8AAAAAAADwPwAAAAAAAPg/mpmZmZmZ8T/NzMzMzMz8P83MzMzMzPQ/AAAAAAAA+D8zMzMzMzPzP83MzMzMzPQ/ZmZmZmZm9j9mZmZmZmb2PzMzMzMzM/s/AAAAAAAA+D8AAAAAAADwP5qZmZmZmfE/AAAAAAAA8D8zMzMzMzPzP5qZmZmZmfk/AAAAAAAA+D+amZmZmZn5PwAAAAAAAPg/zczMzMzM9D/NzMzMzMz0P83MzMzMzPQ/MzMzMzMz8z9mZmZmZmb2PzMzMzMzM/M/AAAAAAAA8D/NzMzMzMz0PzMzMzMzM/M/zczMzMzM9D/NzMzMzMz0P5qZmZmZmfE/zczMzMzM9D8AAAAAAAAEQGZmZmZmZv4/zczMzMzMAEDNzMzMzMz8P5qZmZmZmQFAzczMzMzMAEAzMzMzMzP7P83MzMzMzPw/zczMzMzM/D8AAAAAAAAEQAAAAAAAAABAZmZmZmZm/j/NzMzMzMwAQAAAAAAAAABAMzMzMzMzA0BmZmZmZmYCQM3MzMzMzPw/mpmZmZmZAUBmZmZmZmYCQAAAAAAAAPg/ZmZmZmZmAkAAAAAAAAAAQAAAAAAAAABAzczMzMzM/D/NzMzMzMwAQM3MzMzMzPw/zczMzMzM/D/NzMzMzMz8P83MzMzMzABAmpmZmZmZ+T9mZmZmZmb+PwAAAAAAAABAmpmZmZmZAUAAAAAAAAD4P2ZmZmZmZvY/ZmZmZmZmAkAzMzMzMzMDQM3MzMzMzPw/zczMzMzM/D/NzMzMzMwAQDMzMzMzMwNAZmZmZmZmAkBmZmZmZmb+P2ZmZmZmZgJAAAAAAAAABEBmZmZmZmYCQGZmZmZmZv4/AAAAAAAAAEBmZmZmZmYCQM3MzMzMzPw/\",\"dtype\":\"float64\",\"order\":\"little\",\"shape\":[150]}},\"selected\":{\"id\":\"14222\"},\"selection_policy\":{\"id\":\"14221\"}},\"id\":\"13602\",\"type\":\"ColumnDataSource\"},{\"attributes\":{},\"id\":\"14204\",\"type\":\"AllLabels\"},{\"attributes\":{\"bottom_units\":\"screen\",\"fill_alpha\":0.5,\"fill_color\":\"lightgrey\",\"left_units\":\"screen\",\"level\":\"overlay\",\"line_alpha\":1.0,\"line_color\":\"black\",\"line_dash\":[4,4],\"line_width\":2,\"right_units\":\"screen\",\"syncable\":false,\"top_units\":\"screen\"},\"id\":\"13518\",\"type\":\"BoxAnnotation\"},{\"attributes\":{},\"id\":\"14218\",\"type\":\"UnionRenderers\"},{\"attributes\":{},\"id\":\"14206\",\"type\":\"BasicTickFormatter\"},{\"attributes\":{},\"id\":\"14219\",\"type\":\"Selection\"},{\"attributes\":{},\"id\":\"14207\",\"type\":\"AllLabels\"},{\"attributes\":{},\"id\":\"14209\",\"type\":\"BasicTickFormatter\"},{\"attributes\":{},\"id\":\"14210\",\"type\":\"AllLabels\"}],\"root_ids\":[\"13607\"]},\"title\":\"Bokeh Application\",\"version\":\"2.3.0\"}};\n",
       "  var render_items = [{\"docid\":\"167dbd61-73b3-4858-b731-4a7d86d1462e\",\"root_ids\":[\"13607\"],\"roots\":{\"13607\":\"3fce7a6d-9530-473d-bbfc-2135a82e1214\"}}];\n",
       "  root.Bokeh.embed.embed_items_notebook(docs_json, render_items);\n",
       "\n",
       "  }\n",
       "  if (root.Bokeh !== undefined) {\n",
       "    embed_document(root);\n",
       "  } else {\n",
       "    var attempts = 0;\n",
       "    var timer = setInterval(function(root) {\n",
       "      if (root.Bokeh !== undefined) {\n",
       "        clearInterval(timer);\n",
       "        embed_document(root);\n",
       "      } else {\n",
       "        attempts++;\n",
       "        if (attempts > 100) {\n",
       "          clearInterval(timer);\n",
       "          console.log(\"Bokeh: ERROR: Unable to run BokehJS code because BokehJS library is missing\");\n",
       "        }\n",
       "      }\n",
       "    }, 10, root)\n",
       "  }\n",
       "})(window);"
      ],
      "application/vnd.bokehjs_exec.v0+json": ""
     },
     "metadata": {
      "application/vnd.bokehjs_exec.v0+json": {
       "id": "13607"
      }
     },
     "output_type": "display_data"
    }
   ],
   "source": [
    "source = ColumnDataSource(iris_df)\n",
    "\n",
    "# Flowers is a Pandas DataFrame\n",
    "plot1 = figure(plot_width=300, plot_height=300, toolbar_location=None, title='petal length vs. sepal length')\n",
    "plot1.circle(flowers['petal_length'], flowers['sepal_length'], color='blue')\n",
    "plot2 = figure(plot_width=300, plot_height=300, toolbar_location=None, title='petal length vs. sepal width')\n",
    "plot2.circle(flowers['petal_length'], flowers['sepal_width'], color='green')\n",
    "plot3 = figure(plot_width=300, plot_height=300, toolbar_location=None, title='petal length vs. petal width')\n",
    "plot3.circle(flowers['petal_length'], flowers['petal_width'], color='red')\n",
    "\n",
    "plot3.x_range = plot2.x_range = plot1.x_range\n",
    "plot3.y_range = plot2.y_range = plot1.y_range\n",
    "layout = row(plot1, plot2, plot3)\n",
    "show(layout)"
   ]
  },
  {
   "cell_type": "markdown",
   "metadata": {},
   "source": [
    "**Linking selections**\n",
    "\n",
    "2. Linked brushing\n",
    " - This is when one set of points is highlighted on one plot, and the corresponding points in a second plot also become highlighted.\n",
    " - It's necessary that the plots share data with the same shape.\n",
    "- The visualizations share the same column data source, so the selections will be linked by default.\n",
    "- Linked brushing can be a great way to enable users to explore connections between different dimensions of a data set."
   ]
  },
  {
   "cell_type": "code",
   "execution_count": 58,
   "metadata": {},
   "outputs": [
    {
     "data": {
      "text/html": [
       "\n",
       "\n",
       "\n",
       "\n",
       "\n",
       "\n",
       "  <div class=\"bk-root\" id=\"d873d5e9-92c0-4d6c-8154-37eca35dc61f\" data-root-id=\"14477\"></div>\n"
      ]
     },
     "metadata": {},
     "output_type": "display_data"
    },
    {
     "data": {
      "application/javascript": [
       "(function(root) {\n",
       "  function embed_document(root) {\n",
       "    \n",
       "  var docs_json = {\"3ec6f5a6-0fb0-4fe3-9ce9-cd9e272dd762\":{\"defs\":[{\"extends\":null,\"module\":null,\"name\":\"DataModel\",\"overrides\":[],\"properties\":[]}],\"roots\":{\"references\":[{\"attributes\":{\"children\":[{\"id\":\"14375\"},{\"id\":\"14409\"},{\"id\":\"14443\"}]},\"id\":\"14477\",\"type\":\"Row\"},{\"attributes\":{\"axis\":{\"id\":\"14420\"},\"ticker\":null},\"id\":\"14423\",\"type\":\"Grid\"},{\"attributes\":{},\"id\":\"14416\",\"type\":\"LinearScale\"},{\"attributes\":{},\"id\":\"14382\",\"type\":\"LinearScale\"},{\"attributes\":{\"formatter\":{\"id\":\"15106\"},\"major_label_policy\":{\"id\":\"15107\"},\"ticker\":{\"id\":\"14421\"}},\"id\":\"14420\",\"type\":\"LinearAxis\"},{\"attributes\":{},\"id\":\"14421\",\"type\":\"BasicTicker\"},{\"attributes\":{},\"id\":\"14380\",\"type\":\"DataRange1d\"},{\"attributes\":{\"active_multi\":null,\"tools\":[{\"id\":\"14462\"},{\"id\":\"14463\"},{\"id\":\"14464\"},{\"id\":\"14465\"}]},\"id\":\"14467\",\"type\":\"Toolbar\"},{\"attributes\":{},\"id\":\"15097\",\"type\":\"BasicTickFormatter\"},{\"attributes\":{},\"id\":\"14465\",\"type\":\"SaveTool\"},{\"attributes\":{},\"id\":\"14391\",\"type\":\"BasicTicker\"},{\"attributes\":{},\"id\":\"15098\",\"type\":\"AllLabels\"},{\"attributes\":{\"overlay\":{\"id\":\"14398\"}},\"id\":\"14394\",\"type\":\"LassoSelectTool\"},{\"attributes\":{\"callback\":null},\"id\":\"14395\",\"type\":\"TapTool\"},{\"attributes\":{\"axis\":{\"id\":\"14390\"},\"dimension\":1,\"ticker\":null},\"id\":\"14393\",\"type\":\"Grid\"},{\"attributes\":{},\"id\":\"14418\",\"type\":\"LinearScale\"},{\"attributes\":{\"overlay\":{\"id\":\"14466\"}},\"id\":\"14462\",\"type\":\"LassoSelectTool\"},{\"attributes\":{\"formatter\":{\"id\":\"15100\"},\"major_label_policy\":{\"id\":\"15101\"},\"ticker\":{\"id\":\"14387\"}},\"id\":\"14386\",\"type\":\"LinearAxis\"},{\"attributes\":{},\"id\":\"14396\",\"type\":\"ResetTool\"},{\"attributes\":{\"fill_alpha\":{\"value\":0.1},\"fill_color\":{\"value\":\"blue\"},\"line_alpha\":{\"value\":0.1},\"line_color\":{\"value\":\"blue\"},\"x\":{\"field\":\"petal_length\"},\"y\":{\"field\":\"sepal_length\"}},\"id\":\"14406\",\"type\":\"Circle\"},{\"attributes\":{},\"id\":\"14425\",\"type\":\"BasicTicker\"},{\"attributes\":{\"text\":\"petal length vs. sepal length\"},\"id\":\"14376\",\"type\":\"Title\"},{\"attributes\":{\"axis\":{\"id\":\"14424\"},\"dimension\":1,\"ticker\":null},\"id\":\"14427\",\"type\":\"Grid\"},{\"attributes\":{\"data\":{\"index\":[0,1,2,3,4,5,6,7,8,9,10,11,12,13,14,15,16,17,18,19,20,21,22,23,24,25,26,27,28,29,30,31,32,33,34,35,36,37,38,39,40,41,42,43,44,45,46,47,48,49,50,51,52,53,54,55,56,57,58,59,60,61,62,63,64,65,66,67,68,69,70,71,72,73,74,75,76,77,78,79,80,81,82,83,84,85,86,87,88,89,90,91,92,93,94,95,96,97,98,99,100,101,102,103,104,105,106,107,108,109,110,111,112,113,114,115,116,117,118,119,120,121,122,123,124,125,126,127,128,129,130,131,132,133,134,135,136,137,138,139,140,141,142,143,144,145,146,147,148,149],\"petal_length\":{\"__ndarray__\":\"ZmZmZmZm9j9mZmZmZmb2P83MzMzMzPQ/AAAAAAAA+D9mZmZmZmb2PzMzMzMzM/s/ZmZmZmZm9j8AAAAAAAD4P2ZmZmZmZvY/AAAAAAAA+D8AAAAAAAD4P5qZmZmZmfk/ZmZmZmZm9j+amZmZmZnxPzMzMzMzM/M/AAAAAAAA+D/NzMzMzMz0P2ZmZmZmZvY/MzMzMzMz+z8AAAAAAAD4PzMzMzMzM/s/AAAAAAAA+D8AAAAAAADwPzMzMzMzM/s/ZmZmZmZm/j+amZmZmZn5P5qZmZmZmfk/AAAAAAAA+D9mZmZmZmb2P5qZmZmZmfk/mpmZmZmZ+T8AAAAAAAD4PwAAAAAAAPg/ZmZmZmZm9j8AAAAAAAD4PzMzMzMzM/M/zczMzMzM9D9mZmZmZmb2P83MzMzMzPQ/AAAAAAAA+D/NzMzMzMz0P83MzMzMzPQ/zczMzMzM9D+amZmZmZn5P2ZmZmZmZv4/ZmZmZmZm9j+amZmZmZn5P2ZmZmZmZvY/AAAAAAAA+D9mZmZmZmb2P83MzMzMzBJAAAAAAAAAEkCamZmZmZkTQAAAAAAAABBAZmZmZmZmEkAAAAAAAAASQM3MzMzMzBJAZmZmZmZmCkBmZmZmZmYSQDMzMzMzMw9AAAAAAAAADEDNzMzMzMwQQAAAAAAAABBAzczMzMzMEkDNzMzMzMwMQJqZmZmZmRFAAAAAAAAAEkBmZmZmZmYQQAAAAAAAABJAMzMzMzMzD0AzMzMzMzMTQAAAAAAAABBAmpmZmZmZE0DNzMzMzMwSQDMzMzMzMxFAmpmZmZmZEUAzMzMzMzMTQAAAAAAAABRAAAAAAAAAEkAAAAAAAAAMQGZmZmZmZg5AmpmZmZmZDUAzMzMzMzMPQGZmZmZmZhRAAAAAAAAAEkAAAAAAAAASQM3MzMzMzBJAmpmZmZmZEUBmZmZmZmYQQAAAAAAAABBAmpmZmZmZEUBmZmZmZmYSQAAAAAAAABBAZmZmZmZmCkDNzMzMzMwQQM3MzMzMzBBAzczMzMzMEEAzMzMzMzMRQAAAAAAAAAhAZmZmZmZmEEAAAAAAAAAYQGZmZmZmZhRAmpmZmZmZF0BmZmZmZmYWQDMzMzMzMxdAZmZmZmZmGkAAAAAAAAASQDMzMzMzMxlAMzMzMzMzF0BmZmZmZmYYQGZmZmZmZhRAMzMzMzMzFUAAAAAAAAAWQAAAAAAAABRAZmZmZmZmFEAzMzMzMzMVQAAAAAAAABZAzczMzMzMGkCamZmZmZkbQAAAAAAAABRAzczMzMzMFkCamZmZmZkTQM3MzMzMzBpAmpmZmZmZE0DNzMzMzMwWQAAAAAAAABhAMzMzMzMzE0CamZmZmZkTQGZmZmZmZhZAMzMzMzMzF0BmZmZmZmYYQJqZmZmZmRlAZmZmZmZmFkBmZmZmZmYUQGZmZmZmZhZAZmZmZmZmGEBmZmZmZmYWQAAAAAAAABZAMzMzMzMzE0CamZmZmZkVQGZmZmZmZhZAZmZmZmZmFEBmZmZmZmYUQJqZmZmZmRdAzczMzMzMFkDNzMzMzMwUQAAAAAAAABRAzczMzMzMFECamZmZmZkVQGZmZmZmZhRA\",\"dtype\":\"float64\",\"order\":\"little\",\"shape\":[150]},\"petal_width\":{\"__ndarray__\":\"mpmZmZmZyT+amZmZmZnJP5qZmZmZmck/mpmZmZmZyT+amZmZmZnJP5qZmZmZmdk/MzMzMzMz0z+amZmZmZnJP5qZmZmZmck/mpmZmZmZuT+amZmZmZnJP5qZmZmZmck/mpmZmZmZuT+amZmZmZm5P5qZmZmZmck/mpmZmZmZ2T+amZmZmZnZPzMzMzMzM9M/MzMzMzMz0z8zMzMzMzPTP5qZmZmZmck/mpmZmZmZ2T+amZmZmZnJPwAAAAAAAOA/mpmZmZmZyT+amZmZmZnJP5qZmZmZmdk/mpmZmZmZyT+amZmZmZnJP5qZmZmZmck/mpmZmZmZyT+amZmZmZnZP5qZmZmZmbk/mpmZmZmZyT+amZmZmZnJP5qZmZmZmck/mpmZmZmZyT+amZmZmZm5P5qZmZmZmck/mpmZmZmZyT8zMzMzMzPTPzMzMzMzM9M/mpmZmZmZyT8zMzMzMzPjP5qZmZmZmdk/MzMzMzMz0z+amZmZmZnJP5qZmZmZmck/mpmZmZmZyT+amZmZmZnJP2ZmZmZmZvY/AAAAAAAA+D8AAAAAAAD4P83MzMzMzPQ/AAAAAAAA+D/NzMzMzMz0P5qZmZmZmfk/AAAAAAAA8D/NzMzMzMz0P2ZmZmZmZvY/AAAAAAAA8D8AAAAAAAD4PwAAAAAAAPA/ZmZmZmZm9j/NzMzMzMz0P2ZmZmZmZvY/AAAAAAAA+D8AAAAAAADwPwAAAAAAAPg/mpmZmZmZ8T/NzMzMzMz8P83MzMzMzPQ/AAAAAAAA+D8zMzMzMzPzP83MzMzMzPQ/ZmZmZmZm9j9mZmZmZmb2PzMzMzMzM/s/AAAAAAAA+D8AAAAAAADwP5qZmZmZmfE/AAAAAAAA8D8zMzMzMzPzP5qZmZmZmfk/AAAAAAAA+D+amZmZmZn5PwAAAAAAAPg/zczMzMzM9D/NzMzMzMz0P83MzMzMzPQ/MzMzMzMz8z9mZmZmZmb2PzMzMzMzM/M/AAAAAAAA8D/NzMzMzMz0PzMzMzMzM/M/zczMzMzM9D/NzMzMzMz0P5qZmZmZmfE/zczMzMzM9D8AAAAAAAAEQGZmZmZmZv4/zczMzMzMAEDNzMzMzMz8P5qZmZmZmQFAzczMzMzMAEAzMzMzMzP7P83MzMzMzPw/zczMzMzM/D8AAAAAAAAEQAAAAAAAAABAZmZmZmZm/j/NzMzMzMwAQAAAAAAAAABAMzMzMzMzA0BmZmZmZmYCQM3MzMzMzPw/mpmZmZmZAUBmZmZmZmYCQAAAAAAAAPg/ZmZmZmZmAkAAAAAAAAAAQAAAAAAAAABAzczMzMzM/D/NzMzMzMwAQM3MzMzMzPw/zczMzMzM/D/NzMzMzMz8P83MzMzMzABAmpmZmZmZ+T9mZmZmZmb+PwAAAAAAAABAmpmZmZmZAUAAAAAAAAD4P2ZmZmZmZvY/ZmZmZmZmAkAzMzMzMzMDQM3MzMzMzPw/zczMzMzM/D/NzMzMzMwAQDMzMzMzMwNAZmZmZmZmAkBmZmZmZmb+P2ZmZmZmZgJAAAAAAAAABEBmZmZmZmYCQGZmZmZmZv4/AAAAAAAAAEBmZmZmZmYCQM3MzMzMzPw/\",\"dtype\":\"float64\",\"order\":\"little\",\"shape\":[150]},\"sepal_length\":{\"__ndarray__\":\"ZmZmZmZmFECamZmZmZkTQM3MzMzMzBJAZmZmZmZmEkAAAAAAAAAUQJqZmZmZmRVAZmZmZmZmEkAAAAAAAAAUQJqZmZmZmRFAmpmZmZmZE0CamZmZmZkVQDMzMzMzMxNAMzMzMzMzE0AzMzMzMzMRQDMzMzMzMxdAzczMzMzMFkCamZmZmZkVQGZmZmZmZhRAzczMzMzMFkBmZmZmZmYUQJqZmZmZmRVAZmZmZmZmFEBmZmZmZmYSQGZmZmZmZhRAMzMzMzMzE0AAAAAAAAAUQAAAAAAAABRAzczMzMzMFEDNzMzMzMwUQM3MzMzMzBJAMzMzMzMzE0CamZmZmZkVQM3MzMzMzBRAAAAAAAAAFkCamZmZmZkTQAAAAAAAABRAAAAAAAAAFkCamZmZmZkTQJqZmZmZmRFAZmZmZmZmFEAAAAAAAAAUQAAAAAAAABJAmpmZmZmZEUAAAAAAAAAUQGZmZmZmZhRAMzMzMzMzE0BmZmZmZmYUQGZmZmZmZhJAMzMzMzMzFUAAAAAAAAAUQAAAAAAAABxAmpmZmZmZGUCamZmZmZkbQAAAAAAAABZAAAAAAAAAGkDNzMzMzMwWQDMzMzMzMxlAmpmZmZmZE0BmZmZmZmYaQM3MzMzMzBRAAAAAAAAAFECamZmZmZkXQAAAAAAAABhAZmZmZmZmGEBmZmZmZmYWQM3MzMzMzBpAZmZmZmZmFkAzMzMzMzMXQM3MzMzMzBhAZmZmZmZmFkCamZmZmZkXQGZmZmZmZhhAMzMzMzMzGUBmZmZmZmYYQJqZmZmZmRlAZmZmZmZmGkAzMzMzMzMbQM3MzMzMzBpAAAAAAAAAGEDNzMzMzMwWQAAAAAAAABZAAAAAAAAAFkAzMzMzMzMXQAAAAAAAABhAmpmZmZmZFUAAAAAAAAAYQM3MzMzMzBpAMzMzMzMzGUBmZmZmZmYWQAAAAAAAABZAAAAAAAAAFkBmZmZmZmYYQDMzMzMzMxdAAAAAAAAAFEBmZmZmZmYWQM3MzMzMzBZAzczMzMzMFkDNzMzMzMwYQGZmZmZmZhRAzczMzMzMFkAzMzMzMzMZQDMzMzMzMxdAZmZmZmZmHEAzMzMzMzMZQAAAAAAAABpAZmZmZmZmHkCamZmZmZkTQDMzMzMzMx1AzczMzMzMGkDNzMzMzMwcQAAAAAAAABpAmpmZmZmZGUAzMzMzMzMbQM3MzMzMzBZAMzMzMzMzF0CamZmZmZkZQAAAAAAAABpAzczMzMzMHkDNzMzMzMweQAAAAAAAABhAmpmZmZmZG0BmZmZmZmYWQM3MzMzMzB5AMzMzMzMzGUDNzMzMzMwaQM3MzMzMzBxAzczMzMzMGEBmZmZmZmYYQJqZmZmZmRlAzczMzMzMHECamZmZmZkdQJqZmZmZmR9AmpmZmZmZGUAzMzMzMzMZQGZmZmZmZhhAzczMzMzMHkAzMzMzMzMZQJqZmZmZmRlAAAAAAAAAGECamZmZmZkbQM3MzMzMzBpAmpmZmZmZG0AzMzMzMzMXQDMzMzMzMxtAzczMzMzMGkDNzMzMzMwaQDMzMzMzMxlAAAAAAAAAGkDNzMzMzMwYQJqZmZmZmRdA\",\"dtype\":\"float64\",\"order\":\"little\",\"shape\":[150]},\"sepal_width\":{\"__ndarray__\":\"AAAAAAAADEAAAAAAAAAIQJqZmZmZmQlAzczMzMzMCEDNzMzMzMwMQDMzMzMzMw9AMzMzMzMzC0AzMzMzMzMLQDMzMzMzMwdAzczMzMzMCECamZmZmZkNQDMzMzMzMwtAAAAAAAAACEAAAAAAAAAIQAAAAAAAABBAmpmZmZmZEUAzMzMzMzMPQAAAAAAAAAxAZmZmZmZmDkBmZmZmZmYOQDMzMzMzMwtAmpmZmZmZDUDNzMzMzMwMQGZmZmZmZgpAMzMzMzMzC0AAAAAAAAAIQDMzMzMzMwtAAAAAAAAADEAzMzMzMzMLQJqZmZmZmQlAzczMzMzMCEAzMzMzMzMLQGZmZmZmZhBAzczMzMzMEEDNzMzMzMwIQJqZmZmZmQlAAAAAAAAADEDNzMzMzMwMQAAAAAAAAAhAMzMzMzMzC0AAAAAAAAAMQGZmZmZmZgJAmpmZmZmZCUAAAAAAAAAMQGZmZmZmZg5AAAAAAAAACEBmZmZmZmYOQJqZmZmZmQlAmpmZmZmZDUBmZmZmZmYKQJqZmZmZmQlAmpmZmZmZCUDNzMzMzMwIQGZmZmZmZgJAZmZmZmZmBkBmZmZmZmYGQGZmZmZmZgpAMzMzMzMzA0AzMzMzMzMHQJqZmZmZmQVAAAAAAAAAAEAAAAAAAAAIQJqZmZmZmQFAMzMzMzMzB0AzMzMzMzMHQM3MzMzMzAhAAAAAAAAACECamZmZmZkFQJqZmZmZmQFAAAAAAAAABECamZmZmZkJQGZmZmZmZgZAAAAAAAAABEBmZmZmZmYGQDMzMzMzMwdAAAAAAAAACEBmZmZmZmYGQAAAAAAAAAhAMzMzMzMzB0DNzMzMzMwEQDMzMzMzMwNAMzMzMzMzA0CamZmZmZkFQJqZmZmZmQVAAAAAAAAACEAzMzMzMzMLQM3MzMzMzAhAZmZmZmZmAkAAAAAAAAAIQAAAAAAAAARAzczMzMzMBEAAAAAAAAAIQM3MzMzMzARAZmZmZmZmAkCamZmZmZkFQAAAAAAAAAhAMzMzMzMzB0AzMzMzMzMHQAAAAAAAAARAZmZmZmZmBkBmZmZmZmYKQJqZmZmZmQVAAAAAAAAACEAzMzMzMzMHQAAAAAAAAAhAAAAAAAAACEAAAAAAAAAEQDMzMzMzMwdAAAAAAAAABEDNzMzMzMwMQJqZmZmZmQlAmpmZmZmZBUAAAAAAAAAIQAAAAAAAAARAZmZmZmZmBkCamZmZmZkJQAAAAAAAAAhAZmZmZmZmDkDNzMzMzMwEQJqZmZmZmQFAmpmZmZmZCUBmZmZmZmYGQGZmZmZmZgZAmpmZmZmZBUBmZmZmZmYKQJqZmZmZmQlAZmZmZmZmBkAAAAAAAAAIQGZmZmZmZgZAAAAAAAAACEBmZmZmZmYGQGZmZmZmZg5AZmZmZmZmBkBmZmZmZmYGQM3MzMzMzARAAAAAAAAACEAzMzMzMzMLQM3MzMzMzAhAAAAAAAAACEDNzMzMzMwIQM3MzMzMzAhAzczMzMzMCECamZmZmZkFQJqZmZmZmQlAZmZmZmZmCkAAAAAAAAAIQAAAAAAAAARAAAAAAAAACEAzMzMzMzMLQAAAAAAAAAhA\",\"dtype\":\"float64\",\"order\":\"little\",\"shape\":[150]},\"species\":[\"setosa\",\"setosa\",\"setosa\",\"setosa\",\"setosa\",\"setosa\",\"setosa\",\"setosa\",\"setosa\",\"setosa\",\"setosa\",\"setosa\",\"setosa\",\"setosa\",\"setosa\",\"setosa\",\"setosa\",\"setosa\",\"setosa\",\"setosa\",\"setosa\",\"setosa\",\"setosa\",\"setosa\",\"setosa\",\"setosa\",\"setosa\",\"setosa\",\"setosa\",\"setosa\",\"setosa\",\"setosa\",\"setosa\",\"setosa\",\"setosa\",\"setosa\",\"setosa\",\"setosa\",\"setosa\",\"setosa\",\"setosa\",\"setosa\",\"setosa\",\"setosa\",\"setosa\",\"setosa\",\"setosa\",\"setosa\",\"setosa\",\"setosa\",\"versicolor\",\"versicolor\",\"versicolor\",\"versicolor\",\"versicolor\",\"versicolor\",\"versicolor\",\"versicolor\",\"versicolor\",\"versicolor\",\"versicolor\",\"versicolor\",\"versicolor\",\"versicolor\",\"versicolor\",\"versicolor\",\"versicolor\",\"versicolor\",\"versicolor\",\"versicolor\",\"versicolor\",\"versicolor\",\"versicolor\",\"versicolor\",\"versicolor\",\"versicolor\",\"versicolor\",\"versicolor\",\"versicolor\",\"versicolor\",\"versicolor\",\"versicolor\",\"versicolor\",\"versicolor\",\"versicolor\",\"versicolor\",\"versicolor\",\"versicolor\",\"versicolor\",\"versicolor\",\"versicolor\",\"versicolor\",\"versicolor\",\"versicolor\",\"versicolor\",\"versicolor\",\"versicolor\",\"versicolor\",\"versicolor\",\"versicolor\",\"virginica\",\"virginica\",\"virginica\",\"virginica\",\"virginica\",\"virginica\",\"virginica\",\"virginica\",\"virginica\",\"virginica\",\"virginica\",\"virginica\",\"virginica\",\"virginica\",\"virginica\",\"virginica\",\"virginica\",\"virginica\",\"virginica\",\"virginica\",\"virginica\",\"virginica\",\"virginica\",\"virginica\",\"virginica\",\"virginica\",\"virginica\",\"virginica\",\"virginica\",\"virginica\",\"virginica\",\"virginica\",\"virginica\",\"virginica\",\"virginica\",\"virginica\",\"virginica\",\"virginica\",\"virginica\",\"virginica\",\"virginica\",\"virginica\",\"virginica\",\"virginica\",\"virginica\",\"virginica\",\"virginica\",\"virginica\",\"virginica\",\"virginica\"]},\"selected\":{\"id\":\"15116\"},\"selection_policy\":{\"id\":\"15115\"}},\"id\":\"14374\",\"type\":\"ColumnDataSource\"},{\"attributes\":{\"callback\":null},\"id\":\"14429\",\"type\":\"TapTool\"},{\"attributes\":{\"text\":\"petal length vs. sepal width\"},\"id\":\"14410\",\"type\":\"Title\"},{\"attributes\":{\"source\":{\"id\":\"14374\"}},\"id\":\"14408\",\"type\":\"CDSView\"},{\"attributes\":{\"data_source\":{\"id\":\"14374\"},\"glyph\":{\"id\":\"14405\"},\"hover_glyph\":null,\"muted_glyph\":null,\"nonselection_glyph\":{\"id\":\"14406\"},\"view\":{\"id\":\"14408\"}},\"id\":\"14407\",\"type\":\"GlyphRenderer\"},{\"attributes\":{\"overlay\":{\"id\":\"14432\"}},\"id\":\"14428\",\"type\":\"LassoSelectTool\"},{\"attributes\":{},\"id\":\"15100\",\"type\":\"BasicTickFormatter\"},{\"attributes\":{\"fill_color\":{\"value\":\"green\"},\"line_color\":{\"value\":\"green\"},\"x\":{\"field\":\"petal_length\"},\"y\":{\"field\":\"sepal_width\"}},\"id\":\"14439\",\"type\":\"Circle\"},{\"attributes\":{\"formatter\":{\"id\":\"15103\"},\"major_label_policy\":{\"id\":\"15104\"},\"ticker\":{\"id\":\"14425\"}},\"id\":\"14424\",\"type\":\"LinearAxis\"},{\"attributes\":{},\"id\":\"15101\",\"type\":\"AllLabels\"},{\"attributes\":{\"below\":[{\"id\":\"14454\"}],\"center\":[{\"id\":\"14457\"},{\"id\":\"14461\"}],\"height\":300,\"left\":[{\"id\":\"14458\"}],\"renderers\":[{\"id\":\"14475\"}],\"title\":{\"id\":\"14444\"},\"toolbar\":{\"id\":\"14467\"},\"width\":300,\"x_range\":{\"id\":\"14378\"},\"x_scale\":{\"id\":\"14450\"},\"y_range\":{\"id\":\"14380\"},\"y_scale\":{\"id\":\"14452\"}},\"id\":\"14443\",\"subtype\":\"Figure\",\"type\":\"Plot\"},{\"attributes\":{\"fill_alpha\":{\"value\":0.1},\"fill_color\":{\"value\":\"green\"},\"line_alpha\":{\"value\":0.1},\"line_color\":{\"value\":\"green\"},\"x\":{\"field\":\"petal_length\"},\"y\":{\"field\":\"sepal_width\"}},\"id\":\"14440\",\"type\":\"Circle\"},{\"attributes\":{},\"id\":\"14387\",\"type\":\"BasicTicker\"},{\"attributes\":{},\"id\":\"14384\",\"type\":\"LinearScale\"},{\"attributes\":{},\"id\":\"15103\",\"type\":\"BasicTickFormatter\"},{\"attributes\":{},\"id\":\"15104\",\"type\":\"AllLabels\"},{\"attributes\":{\"fill_alpha\":0.5,\"fill_color\":\"lightgrey\",\"level\":\"overlay\",\"line_alpha\":1.0,\"line_color\":\"black\",\"line_dash\":[4,4],\"line_width\":2,\"syncable\":false,\"xs_units\":\"screen\",\"ys_units\":\"screen\"},\"id\":\"14398\",\"type\":\"PolyAnnotation\"},{\"attributes\":{\"callback\":null},\"id\":\"14463\",\"type\":\"TapTool\"},{\"attributes\":{},\"id\":\"14464\",\"type\":\"ResetTool\"},{\"attributes\":{},\"id\":\"14397\",\"type\":\"SaveTool\"},{\"attributes\":{\"formatter\":{\"id\":\"15097\"},\"major_label_policy\":{\"id\":\"15098\"},\"ticker\":{\"id\":\"14391\"}},\"id\":\"14390\",\"type\":\"LinearAxis\"},{\"attributes\":{\"axis\":{\"id\":\"14386\"},\"ticker\":null},\"id\":\"14389\",\"type\":\"Grid\"},{\"attributes\":{},\"id\":\"15106\",\"type\":\"BasicTickFormatter\"},{\"attributes\":{},\"id\":\"15107\",\"type\":\"AllLabels\"},{\"attributes\":{},\"id\":\"14378\",\"type\":\"DataRange1d\"},{\"attributes\":{},\"id\":\"14431\",\"type\":\"SaveTool\"},{\"attributes\":{},\"id\":\"14430\",\"type\":\"ResetTool\"},{\"attributes\":{},\"id\":\"15109\",\"type\":\"BasicTickFormatter\"},{\"attributes\":{},\"id\":\"15110\",\"type\":\"AllLabels\"},{\"attributes\":{},\"id\":\"14455\",\"type\":\"BasicTicker\"},{\"attributes\":{\"formatter\":{\"id\":\"15112\"},\"major_label_policy\":{\"id\":\"15113\"},\"ticker\":{\"id\":\"14455\"}},\"id\":\"14454\",\"type\":\"LinearAxis\"},{\"attributes\":{},\"id\":\"14450\",\"type\":\"LinearScale\"},{\"attributes\":{},\"id\":\"14452\",\"type\":\"LinearScale\"},{\"attributes\":{\"below\":[{\"id\":\"14420\"}],\"center\":[{\"id\":\"14423\"},{\"id\":\"14427\"}],\"height\":300,\"left\":[{\"id\":\"14424\"}],\"renderers\":[{\"id\":\"14441\"}],\"title\":{\"id\":\"14410\"},\"toolbar\":{\"id\":\"14433\"},\"width\":300,\"x_range\":{\"id\":\"14378\"},\"x_scale\":{\"id\":\"14416\"},\"y_range\":{\"id\":\"14380\"},\"y_scale\":{\"id\":\"14418\"}},\"id\":\"14409\",\"subtype\":\"Figure\",\"type\":\"Plot\"},{\"attributes\":{\"formatter\":{\"id\":\"15109\"},\"major_label_policy\":{\"id\":\"15110\"},\"ticker\":{\"id\":\"14459\"}},\"id\":\"14458\",\"type\":\"LinearAxis\"},{\"attributes\":{},\"id\":\"15112\",\"type\":\"BasicTickFormatter\"},{\"attributes\":{\"fill_color\":{\"value\":null},\"line_color\":{\"value\":\"red\"},\"x\":{\"field\":\"petal_length\"},\"y\":{\"field\":\"petal_width\"}},\"id\":\"14473\",\"type\":\"Circle\"},{\"attributes\":{\"source\":{\"id\":\"14374\"}},\"id\":\"14442\",\"type\":\"CDSView\"},{\"attributes\":{\"data_source\":{\"id\":\"14374\"},\"glyph\":{\"id\":\"14439\"},\"hover_glyph\":null,\"muted_glyph\":null,\"nonselection_glyph\":{\"id\":\"14440\"},\"view\":{\"id\":\"14442\"}},\"id\":\"14441\",\"type\":\"GlyphRenderer\"},{\"attributes\":{},\"id\":\"15113\",\"type\":\"AllLabels\"},{\"attributes\":{\"text\":\"petal length vs. petal width\"},\"id\":\"14444\",\"type\":\"Title\"},{\"attributes\":{\"fill_alpha\":{\"value\":0.1},\"fill_color\":{\"value\":null},\"line_alpha\":{\"value\":0.1},\"line_color\":{\"value\":\"red\"},\"x\":{\"field\":\"petal_length\"},\"y\":{\"field\":\"petal_width\"}},\"id\":\"14474\",\"type\":\"Circle\"},{\"attributes\":{\"active_multi\":null,\"tools\":[{\"id\":\"14394\"},{\"id\":\"14395\"},{\"id\":\"14396\"},{\"id\":\"14397\"}]},\"id\":\"14399\",\"type\":\"Toolbar\"},{\"attributes\":{\"fill_color\":{\"value\":\"blue\"},\"line_color\":{\"value\":\"blue\"},\"x\":{\"field\":\"petal_length\"},\"y\":{\"field\":\"sepal_length\"}},\"id\":\"14405\",\"type\":\"Circle\"},{\"attributes\":{\"fill_alpha\":0.5,\"fill_color\":\"lightgrey\",\"level\":\"overlay\",\"line_alpha\":1.0,\"line_color\":\"black\",\"line_dash\":[4,4],\"line_width\":2,\"syncable\":false,\"xs_units\":\"screen\",\"ys_units\":\"screen\"},\"id\":\"14432\",\"type\":\"PolyAnnotation\"},{\"attributes\":{},\"id\":\"15115\",\"type\":\"UnionRenderers\"},{\"attributes\":{\"active_multi\":null,\"tools\":[{\"id\":\"14428\"},{\"id\":\"14429\"},{\"id\":\"14430\"},{\"id\":\"14431\"}]},\"id\":\"14433\",\"type\":\"Toolbar\"},{\"attributes\":{},\"id\":\"15116\",\"type\":\"Selection\"},{\"attributes\":{\"axis\":{\"id\":\"14458\"},\"dimension\":1,\"ticker\":null},\"id\":\"14461\",\"type\":\"Grid\"},{\"attributes\":{\"data_source\":{\"id\":\"14374\"},\"glyph\":{\"id\":\"14473\"},\"hover_glyph\":null,\"muted_glyph\":null,\"nonselection_glyph\":{\"id\":\"14474\"},\"view\":{\"id\":\"14476\"}},\"id\":\"14475\",\"type\":\"GlyphRenderer\"},{\"attributes\":{\"below\":[{\"id\":\"14386\"}],\"center\":[{\"id\":\"14389\"},{\"id\":\"14393\"}],\"height\":300,\"left\":[{\"id\":\"14390\"}],\"renderers\":[{\"id\":\"14407\"}],\"title\":{\"id\":\"14376\"},\"toolbar\":{\"id\":\"14399\"},\"width\":300,\"x_range\":{\"id\":\"14378\"},\"x_scale\":{\"id\":\"14382\"},\"y_range\":{\"id\":\"14380\"},\"y_scale\":{\"id\":\"14384\"}},\"id\":\"14375\",\"subtype\":\"Figure\",\"type\":\"Plot\"},{\"attributes\":{\"axis\":{\"id\":\"14454\"},\"ticker\":null},\"id\":\"14457\",\"type\":\"Grid\"},{\"attributes\":{},\"id\":\"14459\",\"type\":\"BasicTicker\"},{\"attributes\":{\"source\":{\"id\":\"14374\"}},\"id\":\"14476\",\"type\":\"CDSView\"},{\"attributes\":{\"fill_alpha\":0.5,\"fill_color\":\"lightgrey\",\"level\":\"overlay\",\"line_alpha\":1.0,\"line_color\":\"black\",\"line_dash\":[4,4],\"line_width\":2,\"syncable\":false,\"xs_units\":\"screen\",\"ys_units\":\"screen\"},\"id\":\"14466\",\"type\":\"PolyAnnotation\"}],\"root_ids\":[\"14477\"]},\"title\":\"Bokeh Application\",\"version\":\"2.3.0\"}};\n",
       "  var render_items = [{\"docid\":\"3ec6f5a6-0fb0-4fe3-9ce9-cd9e272dd762\",\"root_ids\":[\"14477\"],\"roots\":{\"14477\":\"d873d5e9-92c0-4d6c-8154-37eca35dc61f\"}}];\n",
       "  root.Bokeh.embed.embed_items_notebook(docs_json, render_items);\n",
       "\n",
       "  }\n",
       "  if (root.Bokeh !== undefined) {\n",
       "    embed_document(root);\n",
       "  } else {\n",
       "    var attempts = 0;\n",
       "    var timer = setInterval(function(root) {\n",
       "      if (root.Bokeh !== undefined) {\n",
       "        clearInterval(timer);\n",
       "        embed_document(root);\n",
       "      } else {\n",
       "        attempts++;\n",
       "        if (attempts > 100) {\n",
       "          clearInterval(timer);\n",
       "          console.log(\"Bokeh: ERROR: Unable to run BokehJS code because BokehJS library is missing\");\n",
       "        }\n",
       "      }\n",
       "    }, 10, root)\n",
       "  }\n",
       "})(window);"
      ],
      "application/vnd.bokehjs_exec.v0+json": ""
     },
     "metadata": {
      "application/vnd.bokehjs_exec.v0+json": {
       "id": "14477"
      }
     },
     "output_type": "display_data"
    }
   ],
   "source": [
    "source = ColumnDataSource(iris_df)\n",
    "tool_list = ['lasso_select', 'tap', 'reset', 'save']\n",
    "plot1 = figure(title='petal length vs. sepal length', plot_height=300, plot_width=300, tools=tool_list)\n",
    "plot1.circle('petal_length', 'sepal_length', color='blue', source=source)\n",
    "plot2 = figure(title='petal length vs. sepal width', plot_height=300, plot_width=300, tools=tool_list)\n",
    "plot2.circle('petal_length', 'sepal_width', color='green', source=source)\n",
    "plot3 = figure(title='petal length vs. petal width', plot_height=300, plot_width=300, tools=tool_list)\n",
    "plot3.circle('petal_length', 'petal_width', line_color='red', fill_color=None, source=source)\n",
    "plot3.x_range = plot2.x_range = plot1.x_range\n",
    "plot3.y_range = plot2.y_range = plot1.y_range\n",
    "layout = row(plot1, plot2, plot3)\n",
    "show(layout)"
   ]
  },
  {
   "cell_type": "markdown",
   "metadata": {},
   "source": [
    "### Linked axes\n",
    "\n",
    "Linking axes between plots is achieved by sharing `range` objects.\n",
    "\n",
    "In this exercise, you'll link four plots of female literacy vs fertility so that when one plot is zoomed or dragged, one or more of the other plots will respond.\n",
    "\n",
    "The four plots `p1`, `p2`, `p3` and `p4` along with the `layout` that you created in the last section have been provided for you.\n",
    "\n",
    "Your job is link `p1` with the three other plots by assignment of the `.x_range` and `.y_range` attributes.\n",
    "\n",
    "After you have linked the axes, explore the plots by clicking and dragging along the x or y axes of any of the plots, and notice how the linked plots change together.\n",
    "\n",
    "**Instructions**\n",
    "\n",
    "* Link the `x_range` of `p2` to `p1`.\n",
    "* Link the `y_range` of `p2` to `p1`.\n",
    "* Link the `x_range` of `p3` to `p1`.\n",
    "* Link the `y_range` of `p4` to `p1`."
   ]
  },
  {
   "cell_type": "markdown",
   "metadata": {},
   "source": [
    "- Relies on plots (`p1`, `p2`, `p3`, and `p4`) from [2.2.2 Creating Gridded Layouts](#222_creating_gridded_layouts)"
   ]
  },
  {
   "cell_type": "code",
   "execution_count": 59,
   "metadata": {},
   "outputs": [
    {
     "data": {
      "text/html": [
       "\n",
       "\n",
       "\n",
       "\n",
       "\n",
       "\n",
       "  <div class=\"bk-root\" id=\"732314a6-d2c8-4ea2-9712-cb10399b341c\" data-root-id=\"14477\"></div>\n"
      ]
     },
     "metadata": {},
     "output_type": "display_data"
    },
    {
     "data": {
      "application/javascript": [
       "(function(root) {\n",
       "  function embed_document(root) {\n",
       "    \n",
       "  var docs_json = {\"bdd4922d-e5f1-4c5c-ba1d-60cf0ef33611\":{\"defs\":[{\"extends\":null,\"module\":null,\"name\":\"DataModel\",\"overrides\":[],\"properties\":[]}],\"roots\":{\"references\":[{\"attributes\":{\"children\":[{\"id\":\"14375\"},{\"id\":\"14409\"},{\"id\":\"14443\"}]},\"id\":\"14477\",\"type\":\"Row\"},{\"attributes\":{\"axis\":{\"id\":\"14420\"},\"ticker\":null},\"id\":\"14423\",\"type\":\"Grid\"},{\"attributes\":{},\"id\":\"14416\",\"type\":\"LinearScale\"},{\"attributes\":{},\"id\":\"14382\",\"type\":\"LinearScale\"},{\"attributes\":{\"formatter\":{\"id\":\"15106\"},\"major_label_policy\":{\"id\":\"15107\"},\"ticker\":{\"id\":\"14421\"}},\"id\":\"14420\",\"type\":\"LinearAxis\"},{\"attributes\":{},\"id\":\"14421\",\"type\":\"BasicTicker\"},{\"attributes\":{},\"id\":\"14380\",\"type\":\"DataRange1d\"},{\"attributes\":{\"active_multi\":null,\"tools\":[{\"id\":\"14462\"},{\"id\":\"14463\"},{\"id\":\"14464\"},{\"id\":\"14465\"}]},\"id\":\"14467\",\"type\":\"Toolbar\"},{\"attributes\":{},\"id\":\"15097\",\"type\":\"BasicTickFormatter\"},{\"attributes\":{},\"id\":\"14465\",\"type\":\"SaveTool\"},{\"attributes\":{},\"id\":\"14391\",\"type\":\"BasicTicker\"},{\"attributes\":{},\"id\":\"15098\",\"type\":\"AllLabels\"},{\"attributes\":{\"overlay\":{\"id\":\"14398\"}},\"id\":\"14394\",\"type\":\"LassoSelectTool\"},{\"attributes\":{\"callback\":null},\"id\":\"14395\",\"type\":\"TapTool\"},{\"attributes\":{\"axis\":{\"id\":\"14390\"},\"dimension\":1,\"ticker\":null},\"id\":\"14393\",\"type\":\"Grid\"},{\"attributes\":{},\"id\":\"14418\",\"type\":\"LinearScale\"},{\"attributes\":{\"overlay\":{\"id\":\"14466\"}},\"id\":\"14462\",\"type\":\"LassoSelectTool\"},{\"attributes\":{\"formatter\":{\"id\":\"15100\"},\"major_label_policy\":{\"id\":\"15101\"},\"ticker\":{\"id\":\"14387\"}},\"id\":\"14386\",\"type\":\"LinearAxis\"},{\"attributes\":{},\"id\":\"14396\",\"type\":\"ResetTool\"},{\"attributes\":{\"fill_alpha\":{\"value\":0.1},\"fill_color\":{\"value\":\"blue\"},\"line_alpha\":{\"value\":0.1},\"line_color\":{\"value\":\"blue\"},\"x\":{\"field\":\"petal_length\"},\"y\":{\"field\":\"sepal_length\"}},\"id\":\"14406\",\"type\":\"Circle\"},{\"attributes\":{},\"id\":\"14425\",\"type\":\"BasicTicker\"},{\"attributes\":{\"text\":\"petal length vs. sepal length\"},\"id\":\"14376\",\"type\":\"Title\"},{\"attributes\":{\"axis\":{\"id\":\"14424\"},\"dimension\":1,\"ticker\":null},\"id\":\"14427\",\"type\":\"Grid\"},{\"attributes\":{\"data\":{\"index\":[0,1,2,3,4,5,6,7,8,9,10,11,12,13,14,15,16,17,18,19,20,21,22,23,24,25,26,27,28,29,30,31,32,33,34,35,36,37,38,39,40,41,42,43,44,45,46,47,48,49,50,51,52,53,54,55,56,57,58,59,60,61,62,63,64,65,66,67,68,69,70,71,72,73,74,75,76,77,78,79,80,81,82,83,84,85,86,87,88,89,90,91,92,93,94,95,96,97,98,99,100,101,102,103,104,105,106,107,108,109,110,111,112,113,114,115,116,117,118,119,120,121,122,123,124,125,126,127,128,129,130,131,132,133,134,135,136,137,138,139,140,141,142,143,144,145,146,147,148,149],\"petal_length\":{\"__ndarray__\":\"ZmZmZmZm9j9mZmZmZmb2P83MzMzMzPQ/AAAAAAAA+D9mZmZmZmb2PzMzMzMzM/s/ZmZmZmZm9j8AAAAAAAD4P2ZmZmZmZvY/AAAAAAAA+D8AAAAAAAD4P5qZmZmZmfk/ZmZmZmZm9j+amZmZmZnxPzMzMzMzM/M/AAAAAAAA+D/NzMzMzMz0P2ZmZmZmZvY/MzMzMzMz+z8AAAAAAAD4PzMzMzMzM/s/AAAAAAAA+D8AAAAAAADwPzMzMzMzM/s/ZmZmZmZm/j+amZmZmZn5P5qZmZmZmfk/AAAAAAAA+D9mZmZmZmb2P5qZmZmZmfk/mpmZmZmZ+T8AAAAAAAD4PwAAAAAAAPg/ZmZmZmZm9j8AAAAAAAD4PzMzMzMzM/M/zczMzMzM9D9mZmZmZmb2P83MzMzMzPQ/AAAAAAAA+D/NzMzMzMz0P83MzMzMzPQ/zczMzMzM9D+amZmZmZn5P2ZmZmZmZv4/ZmZmZmZm9j+amZmZmZn5P2ZmZmZmZvY/AAAAAAAA+D9mZmZmZmb2P83MzMzMzBJAAAAAAAAAEkCamZmZmZkTQAAAAAAAABBAZmZmZmZmEkAAAAAAAAASQM3MzMzMzBJAZmZmZmZmCkBmZmZmZmYSQDMzMzMzMw9AAAAAAAAADEDNzMzMzMwQQAAAAAAAABBAzczMzMzMEkDNzMzMzMwMQJqZmZmZmRFAAAAAAAAAEkBmZmZmZmYQQAAAAAAAABJAMzMzMzMzD0AzMzMzMzMTQAAAAAAAABBAmpmZmZmZE0DNzMzMzMwSQDMzMzMzMxFAmpmZmZmZEUAzMzMzMzMTQAAAAAAAABRAAAAAAAAAEkAAAAAAAAAMQGZmZmZmZg5AmpmZmZmZDUAzMzMzMzMPQGZmZmZmZhRAAAAAAAAAEkAAAAAAAAASQM3MzMzMzBJAmpmZmZmZEUBmZmZmZmYQQAAAAAAAABBAmpmZmZmZEUBmZmZmZmYSQAAAAAAAABBAZmZmZmZmCkDNzMzMzMwQQM3MzMzMzBBAzczMzMzMEEAzMzMzMzMRQAAAAAAAAAhAZmZmZmZmEEAAAAAAAAAYQGZmZmZmZhRAmpmZmZmZF0BmZmZmZmYWQDMzMzMzMxdAZmZmZmZmGkAAAAAAAAASQDMzMzMzMxlAMzMzMzMzF0BmZmZmZmYYQGZmZmZmZhRAMzMzMzMzFUAAAAAAAAAWQAAAAAAAABRAZmZmZmZmFEAzMzMzMzMVQAAAAAAAABZAzczMzMzMGkCamZmZmZkbQAAAAAAAABRAzczMzMzMFkCamZmZmZkTQM3MzMzMzBpAmpmZmZmZE0DNzMzMzMwWQAAAAAAAABhAMzMzMzMzE0CamZmZmZkTQGZmZmZmZhZAMzMzMzMzF0BmZmZmZmYYQJqZmZmZmRlAZmZmZmZmFkBmZmZmZmYUQGZmZmZmZhZAZmZmZmZmGEBmZmZmZmYWQAAAAAAAABZAMzMzMzMzE0CamZmZmZkVQGZmZmZmZhZAZmZmZmZmFEBmZmZmZmYUQJqZmZmZmRdAzczMzMzMFkDNzMzMzMwUQAAAAAAAABRAzczMzMzMFECamZmZmZkVQGZmZmZmZhRA\",\"dtype\":\"float64\",\"order\":\"little\",\"shape\":[150]},\"petal_width\":{\"__ndarray__\":\"mpmZmZmZyT+amZmZmZnJP5qZmZmZmck/mpmZmZmZyT+amZmZmZnJP5qZmZmZmdk/MzMzMzMz0z+amZmZmZnJP5qZmZmZmck/mpmZmZmZuT+amZmZmZnJP5qZmZmZmck/mpmZmZmZuT+amZmZmZm5P5qZmZmZmck/mpmZmZmZ2T+amZmZmZnZPzMzMzMzM9M/MzMzMzMz0z8zMzMzMzPTP5qZmZmZmck/mpmZmZmZ2T+amZmZmZnJPwAAAAAAAOA/mpmZmZmZyT+amZmZmZnJP5qZmZmZmdk/mpmZmZmZyT+amZmZmZnJP5qZmZmZmck/mpmZmZmZyT+amZmZmZnZP5qZmZmZmbk/mpmZmZmZyT+amZmZmZnJP5qZmZmZmck/mpmZmZmZyT+amZmZmZm5P5qZmZmZmck/mpmZmZmZyT8zMzMzMzPTPzMzMzMzM9M/mpmZmZmZyT8zMzMzMzPjP5qZmZmZmdk/MzMzMzMz0z+amZmZmZnJP5qZmZmZmck/mpmZmZmZyT+amZmZmZnJP2ZmZmZmZvY/AAAAAAAA+D8AAAAAAAD4P83MzMzMzPQ/AAAAAAAA+D/NzMzMzMz0P5qZmZmZmfk/AAAAAAAA8D/NzMzMzMz0P2ZmZmZmZvY/AAAAAAAA8D8AAAAAAAD4PwAAAAAAAPA/ZmZmZmZm9j/NzMzMzMz0P2ZmZmZmZvY/AAAAAAAA+D8AAAAAAADwPwAAAAAAAPg/mpmZmZmZ8T/NzMzMzMz8P83MzMzMzPQ/AAAAAAAA+D8zMzMzMzPzP83MzMzMzPQ/ZmZmZmZm9j9mZmZmZmb2PzMzMzMzM/s/AAAAAAAA+D8AAAAAAADwP5qZmZmZmfE/AAAAAAAA8D8zMzMzMzPzP5qZmZmZmfk/AAAAAAAA+D+amZmZmZn5PwAAAAAAAPg/zczMzMzM9D/NzMzMzMz0P83MzMzMzPQ/MzMzMzMz8z9mZmZmZmb2PzMzMzMzM/M/AAAAAAAA8D/NzMzMzMz0PzMzMzMzM/M/zczMzMzM9D/NzMzMzMz0P5qZmZmZmfE/zczMzMzM9D8AAAAAAAAEQGZmZmZmZv4/zczMzMzMAEDNzMzMzMz8P5qZmZmZmQFAzczMzMzMAEAzMzMzMzP7P83MzMzMzPw/zczMzMzM/D8AAAAAAAAEQAAAAAAAAABAZmZmZmZm/j/NzMzMzMwAQAAAAAAAAABAMzMzMzMzA0BmZmZmZmYCQM3MzMzMzPw/mpmZmZmZAUBmZmZmZmYCQAAAAAAAAPg/ZmZmZmZmAkAAAAAAAAAAQAAAAAAAAABAzczMzMzM/D/NzMzMzMwAQM3MzMzMzPw/zczMzMzM/D/NzMzMzMz8P83MzMzMzABAmpmZmZmZ+T9mZmZmZmb+PwAAAAAAAABAmpmZmZmZAUAAAAAAAAD4P2ZmZmZmZvY/ZmZmZmZmAkAzMzMzMzMDQM3MzMzMzPw/zczMzMzM/D/NzMzMzMwAQDMzMzMzMwNAZmZmZmZmAkBmZmZmZmb+P2ZmZmZmZgJAAAAAAAAABEBmZmZmZmYCQGZmZmZmZv4/AAAAAAAAAEBmZmZmZmYCQM3MzMzMzPw/\",\"dtype\":\"float64\",\"order\":\"little\",\"shape\":[150]},\"sepal_length\":{\"__ndarray__\":\"ZmZmZmZmFECamZmZmZkTQM3MzMzMzBJAZmZmZmZmEkAAAAAAAAAUQJqZmZmZmRVAZmZmZmZmEkAAAAAAAAAUQJqZmZmZmRFAmpmZmZmZE0CamZmZmZkVQDMzMzMzMxNAMzMzMzMzE0AzMzMzMzMRQDMzMzMzMxdAzczMzMzMFkCamZmZmZkVQGZmZmZmZhRAzczMzMzMFkBmZmZmZmYUQJqZmZmZmRVAZmZmZmZmFEBmZmZmZmYSQGZmZmZmZhRAMzMzMzMzE0AAAAAAAAAUQAAAAAAAABRAzczMzMzMFEDNzMzMzMwUQM3MzMzMzBJAMzMzMzMzE0CamZmZmZkVQM3MzMzMzBRAAAAAAAAAFkCamZmZmZkTQAAAAAAAABRAAAAAAAAAFkCamZmZmZkTQJqZmZmZmRFAZmZmZmZmFEAAAAAAAAAUQAAAAAAAABJAmpmZmZmZEUAAAAAAAAAUQGZmZmZmZhRAMzMzMzMzE0BmZmZmZmYUQGZmZmZmZhJAMzMzMzMzFUAAAAAAAAAUQAAAAAAAABxAmpmZmZmZGUCamZmZmZkbQAAAAAAAABZAAAAAAAAAGkDNzMzMzMwWQDMzMzMzMxlAmpmZmZmZE0BmZmZmZmYaQM3MzMzMzBRAAAAAAAAAFECamZmZmZkXQAAAAAAAABhAZmZmZmZmGEBmZmZmZmYWQM3MzMzMzBpAZmZmZmZmFkAzMzMzMzMXQM3MzMzMzBhAZmZmZmZmFkCamZmZmZkXQGZmZmZmZhhAMzMzMzMzGUBmZmZmZmYYQJqZmZmZmRlAZmZmZmZmGkAzMzMzMzMbQM3MzMzMzBpAAAAAAAAAGEDNzMzMzMwWQAAAAAAAABZAAAAAAAAAFkAzMzMzMzMXQAAAAAAAABhAmpmZmZmZFUAAAAAAAAAYQM3MzMzMzBpAMzMzMzMzGUBmZmZmZmYWQAAAAAAAABZAAAAAAAAAFkBmZmZmZmYYQDMzMzMzMxdAAAAAAAAAFEBmZmZmZmYWQM3MzMzMzBZAzczMzMzMFkDNzMzMzMwYQGZmZmZmZhRAzczMzMzMFkAzMzMzMzMZQDMzMzMzMxdAZmZmZmZmHEAzMzMzMzMZQAAAAAAAABpAZmZmZmZmHkCamZmZmZkTQDMzMzMzMx1AzczMzMzMGkDNzMzMzMwcQAAAAAAAABpAmpmZmZmZGUAzMzMzMzMbQM3MzMzMzBZAMzMzMzMzF0CamZmZmZkZQAAAAAAAABpAzczMzMzMHkDNzMzMzMweQAAAAAAAABhAmpmZmZmZG0BmZmZmZmYWQM3MzMzMzB5AMzMzMzMzGUDNzMzMzMwaQM3MzMzMzBxAzczMzMzMGEBmZmZmZmYYQJqZmZmZmRlAzczMzMzMHECamZmZmZkdQJqZmZmZmR9AmpmZmZmZGUAzMzMzMzMZQGZmZmZmZhhAzczMzMzMHkAzMzMzMzMZQJqZmZmZmRlAAAAAAAAAGECamZmZmZkbQM3MzMzMzBpAmpmZmZmZG0AzMzMzMzMXQDMzMzMzMxtAzczMzMzMGkDNzMzMzMwaQDMzMzMzMxlAAAAAAAAAGkDNzMzMzMwYQJqZmZmZmRdA\",\"dtype\":\"float64\",\"order\":\"little\",\"shape\":[150]},\"sepal_width\":{\"__ndarray__\":\"AAAAAAAADEAAAAAAAAAIQJqZmZmZmQlAzczMzMzMCEDNzMzMzMwMQDMzMzMzMw9AMzMzMzMzC0AzMzMzMzMLQDMzMzMzMwdAzczMzMzMCECamZmZmZkNQDMzMzMzMwtAAAAAAAAACEAAAAAAAAAIQAAAAAAAABBAmpmZmZmZEUAzMzMzMzMPQAAAAAAAAAxAZmZmZmZmDkBmZmZmZmYOQDMzMzMzMwtAmpmZmZmZDUDNzMzMzMwMQGZmZmZmZgpAMzMzMzMzC0AAAAAAAAAIQDMzMzMzMwtAAAAAAAAADEAzMzMzMzMLQJqZmZmZmQlAzczMzMzMCEAzMzMzMzMLQGZmZmZmZhBAzczMzMzMEEDNzMzMzMwIQJqZmZmZmQlAAAAAAAAADEDNzMzMzMwMQAAAAAAAAAhAMzMzMzMzC0AAAAAAAAAMQGZmZmZmZgJAmpmZmZmZCUAAAAAAAAAMQGZmZmZmZg5AAAAAAAAACEBmZmZmZmYOQJqZmZmZmQlAmpmZmZmZDUBmZmZmZmYKQJqZmZmZmQlAmpmZmZmZCUDNzMzMzMwIQGZmZmZmZgJAZmZmZmZmBkBmZmZmZmYGQGZmZmZmZgpAMzMzMzMzA0AzMzMzMzMHQJqZmZmZmQVAAAAAAAAAAEAAAAAAAAAIQJqZmZmZmQFAMzMzMzMzB0AzMzMzMzMHQM3MzMzMzAhAAAAAAAAACECamZmZmZkFQJqZmZmZmQFAAAAAAAAABECamZmZmZkJQGZmZmZmZgZAAAAAAAAABEBmZmZmZmYGQDMzMzMzMwdAAAAAAAAACEBmZmZmZmYGQAAAAAAAAAhAMzMzMzMzB0DNzMzMzMwEQDMzMzMzMwNAMzMzMzMzA0CamZmZmZkFQJqZmZmZmQVAAAAAAAAACEAzMzMzMzMLQM3MzMzMzAhAZmZmZmZmAkAAAAAAAAAIQAAAAAAAAARAzczMzMzMBEAAAAAAAAAIQM3MzMzMzARAZmZmZmZmAkCamZmZmZkFQAAAAAAAAAhAMzMzMzMzB0AzMzMzMzMHQAAAAAAAAARAZmZmZmZmBkBmZmZmZmYKQJqZmZmZmQVAAAAAAAAACEAzMzMzMzMHQAAAAAAAAAhAAAAAAAAACEAAAAAAAAAEQDMzMzMzMwdAAAAAAAAABEDNzMzMzMwMQJqZmZmZmQlAmpmZmZmZBUAAAAAAAAAIQAAAAAAAAARAZmZmZmZmBkCamZmZmZkJQAAAAAAAAAhAZmZmZmZmDkDNzMzMzMwEQJqZmZmZmQFAmpmZmZmZCUBmZmZmZmYGQGZmZmZmZgZAmpmZmZmZBUBmZmZmZmYKQJqZmZmZmQlAZmZmZmZmBkAAAAAAAAAIQGZmZmZmZgZAAAAAAAAACEBmZmZmZmYGQGZmZmZmZg5AZmZmZmZmBkBmZmZmZmYGQM3MzMzMzARAAAAAAAAACEAzMzMzMzMLQM3MzMzMzAhAAAAAAAAACEDNzMzMzMwIQM3MzMzMzAhAzczMzMzMCECamZmZmZkFQJqZmZmZmQlAZmZmZmZmCkAAAAAAAAAIQAAAAAAAAARAAAAAAAAACEAzMzMzMzMLQAAAAAAAAAhA\",\"dtype\":\"float64\",\"order\":\"little\",\"shape\":[150]},\"species\":[\"setosa\",\"setosa\",\"setosa\",\"setosa\",\"setosa\",\"setosa\",\"setosa\",\"setosa\",\"setosa\",\"setosa\",\"setosa\",\"setosa\",\"setosa\",\"setosa\",\"setosa\",\"setosa\",\"setosa\",\"setosa\",\"setosa\",\"setosa\",\"setosa\",\"setosa\",\"setosa\",\"setosa\",\"setosa\",\"setosa\",\"setosa\",\"setosa\",\"setosa\",\"setosa\",\"setosa\",\"setosa\",\"setosa\",\"setosa\",\"setosa\",\"setosa\",\"setosa\",\"setosa\",\"setosa\",\"setosa\",\"setosa\",\"setosa\",\"setosa\",\"setosa\",\"setosa\",\"setosa\",\"setosa\",\"setosa\",\"setosa\",\"setosa\",\"versicolor\",\"versicolor\",\"versicolor\",\"versicolor\",\"versicolor\",\"versicolor\",\"versicolor\",\"versicolor\",\"versicolor\",\"versicolor\",\"versicolor\",\"versicolor\",\"versicolor\",\"versicolor\",\"versicolor\",\"versicolor\",\"versicolor\",\"versicolor\",\"versicolor\",\"versicolor\",\"versicolor\",\"versicolor\",\"versicolor\",\"versicolor\",\"versicolor\",\"versicolor\",\"versicolor\",\"versicolor\",\"versicolor\",\"versicolor\",\"versicolor\",\"versicolor\",\"versicolor\",\"versicolor\",\"versicolor\",\"versicolor\",\"versicolor\",\"versicolor\",\"versicolor\",\"versicolor\",\"versicolor\",\"versicolor\",\"versicolor\",\"versicolor\",\"versicolor\",\"versicolor\",\"versicolor\",\"versicolor\",\"versicolor\",\"versicolor\",\"virginica\",\"virginica\",\"virginica\",\"virginica\",\"virginica\",\"virginica\",\"virginica\",\"virginica\",\"virginica\",\"virginica\",\"virginica\",\"virginica\",\"virginica\",\"virginica\",\"virginica\",\"virginica\",\"virginica\",\"virginica\",\"virginica\",\"virginica\",\"virginica\",\"virginica\",\"virginica\",\"virginica\",\"virginica\",\"virginica\",\"virginica\",\"virginica\",\"virginica\",\"virginica\",\"virginica\",\"virginica\",\"virginica\",\"virginica\",\"virginica\",\"virginica\",\"virginica\",\"virginica\",\"virginica\",\"virginica\",\"virginica\",\"virginica\",\"virginica\",\"virginica\",\"virginica\",\"virginica\",\"virginica\",\"virginica\",\"virginica\",\"virginica\"]},\"selected\":{\"id\":\"15116\"},\"selection_policy\":{\"id\":\"15115\"}},\"id\":\"14374\",\"type\":\"ColumnDataSource\"},{\"attributes\":{\"callback\":null},\"id\":\"14429\",\"type\":\"TapTool\"},{\"attributes\":{\"text\":\"petal length vs. sepal width\"},\"id\":\"14410\",\"type\":\"Title\"},{\"attributes\":{\"source\":{\"id\":\"14374\"}},\"id\":\"14408\",\"type\":\"CDSView\"},{\"attributes\":{\"data_source\":{\"id\":\"14374\"},\"glyph\":{\"id\":\"14405\"},\"hover_glyph\":null,\"muted_glyph\":null,\"nonselection_glyph\":{\"id\":\"14406\"},\"view\":{\"id\":\"14408\"}},\"id\":\"14407\",\"type\":\"GlyphRenderer\"},{\"attributes\":{\"overlay\":{\"id\":\"14432\"}},\"id\":\"14428\",\"type\":\"LassoSelectTool\"},{\"attributes\":{},\"id\":\"15100\",\"type\":\"BasicTickFormatter\"},{\"attributes\":{\"fill_color\":{\"value\":\"green\"},\"line_color\":{\"value\":\"green\"},\"x\":{\"field\":\"petal_length\"},\"y\":{\"field\":\"sepal_width\"}},\"id\":\"14439\",\"type\":\"Circle\"},{\"attributes\":{\"formatter\":{\"id\":\"15103\"},\"major_label_policy\":{\"id\":\"15104\"},\"ticker\":{\"id\":\"14425\"}},\"id\":\"14424\",\"type\":\"LinearAxis\"},{\"attributes\":{},\"id\":\"15101\",\"type\":\"AllLabels\"},{\"attributes\":{\"below\":[{\"id\":\"14454\"}],\"center\":[{\"id\":\"14457\"},{\"id\":\"14461\"}],\"height\":300,\"left\":[{\"id\":\"14458\"}],\"renderers\":[{\"id\":\"14475\"}],\"title\":{\"id\":\"14444\"},\"toolbar\":{\"id\":\"14467\"},\"width\":300,\"x_range\":{\"id\":\"14378\"},\"x_scale\":{\"id\":\"14450\"},\"y_range\":{\"id\":\"14380\"},\"y_scale\":{\"id\":\"14452\"}},\"id\":\"14443\",\"subtype\":\"Figure\",\"type\":\"Plot\"},{\"attributes\":{\"fill_alpha\":{\"value\":0.1},\"fill_color\":{\"value\":\"green\"},\"line_alpha\":{\"value\":0.1},\"line_color\":{\"value\":\"green\"},\"x\":{\"field\":\"petal_length\"},\"y\":{\"field\":\"sepal_width\"}},\"id\":\"14440\",\"type\":\"Circle\"},{\"attributes\":{},\"id\":\"14387\",\"type\":\"BasicTicker\"},{\"attributes\":{},\"id\":\"14384\",\"type\":\"LinearScale\"},{\"attributes\":{},\"id\":\"15103\",\"type\":\"BasicTickFormatter\"},{\"attributes\":{},\"id\":\"15104\",\"type\":\"AllLabels\"},{\"attributes\":{\"fill_alpha\":0.5,\"fill_color\":\"lightgrey\",\"level\":\"overlay\",\"line_alpha\":1.0,\"line_color\":\"black\",\"line_dash\":[4,4],\"line_width\":2,\"syncable\":false,\"xs_units\":\"screen\",\"ys_units\":\"screen\"},\"id\":\"14398\",\"type\":\"PolyAnnotation\"},{\"attributes\":{\"callback\":null},\"id\":\"14463\",\"type\":\"TapTool\"},{\"attributes\":{},\"id\":\"14464\",\"type\":\"ResetTool\"},{\"attributes\":{},\"id\":\"14397\",\"type\":\"SaveTool\"},{\"attributes\":{\"formatter\":{\"id\":\"15097\"},\"major_label_policy\":{\"id\":\"15098\"},\"ticker\":{\"id\":\"14391\"}},\"id\":\"14390\",\"type\":\"LinearAxis\"},{\"attributes\":{\"axis\":{\"id\":\"14386\"},\"ticker\":null},\"id\":\"14389\",\"type\":\"Grid\"},{\"attributes\":{},\"id\":\"15106\",\"type\":\"BasicTickFormatter\"},{\"attributes\":{},\"id\":\"15107\",\"type\":\"AllLabels\"},{\"attributes\":{},\"id\":\"14378\",\"type\":\"DataRange1d\"},{\"attributes\":{},\"id\":\"14431\",\"type\":\"SaveTool\"},{\"attributes\":{},\"id\":\"14430\",\"type\":\"ResetTool\"},{\"attributes\":{},\"id\":\"15109\",\"type\":\"BasicTickFormatter\"},{\"attributes\":{},\"id\":\"15110\",\"type\":\"AllLabels\"},{\"attributes\":{},\"id\":\"14455\",\"type\":\"BasicTicker\"},{\"attributes\":{\"formatter\":{\"id\":\"15112\"},\"major_label_policy\":{\"id\":\"15113\"},\"ticker\":{\"id\":\"14455\"}},\"id\":\"14454\",\"type\":\"LinearAxis\"},{\"attributes\":{},\"id\":\"14450\",\"type\":\"LinearScale\"},{\"attributes\":{},\"id\":\"14452\",\"type\":\"LinearScale\"},{\"attributes\":{\"below\":[{\"id\":\"14420\"}],\"center\":[{\"id\":\"14423\"},{\"id\":\"14427\"}],\"height\":300,\"left\":[{\"id\":\"14424\"}],\"renderers\":[{\"id\":\"14441\"}],\"title\":{\"id\":\"14410\"},\"toolbar\":{\"id\":\"14433\"},\"width\":300,\"x_range\":{\"id\":\"14378\"},\"x_scale\":{\"id\":\"14416\"},\"y_range\":{\"id\":\"14380\"},\"y_scale\":{\"id\":\"14418\"}},\"id\":\"14409\",\"subtype\":\"Figure\",\"type\":\"Plot\"},{\"attributes\":{\"formatter\":{\"id\":\"15109\"},\"major_label_policy\":{\"id\":\"15110\"},\"ticker\":{\"id\":\"14459\"}},\"id\":\"14458\",\"type\":\"LinearAxis\"},{\"attributes\":{},\"id\":\"15112\",\"type\":\"BasicTickFormatter\"},{\"attributes\":{\"fill_color\":{\"value\":null},\"line_color\":{\"value\":\"red\"},\"x\":{\"field\":\"petal_length\"},\"y\":{\"field\":\"petal_width\"}},\"id\":\"14473\",\"type\":\"Circle\"},{\"attributes\":{\"source\":{\"id\":\"14374\"}},\"id\":\"14442\",\"type\":\"CDSView\"},{\"attributes\":{\"data_source\":{\"id\":\"14374\"},\"glyph\":{\"id\":\"14439\"},\"hover_glyph\":null,\"muted_glyph\":null,\"nonselection_glyph\":{\"id\":\"14440\"},\"view\":{\"id\":\"14442\"}},\"id\":\"14441\",\"type\":\"GlyphRenderer\"},{\"attributes\":{},\"id\":\"15113\",\"type\":\"AllLabels\"},{\"attributes\":{\"text\":\"petal length vs. petal width\"},\"id\":\"14444\",\"type\":\"Title\"},{\"attributes\":{\"fill_alpha\":{\"value\":0.1},\"fill_color\":{\"value\":null},\"line_alpha\":{\"value\":0.1},\"line_color\":{\"value\":\"red\"},\"x\":{\"field\":\"petal_length\"},\"y\":{\"field\":\"petal_width\"}},\"id\":\"14474\",\"type\":\"Circle\"},{\"attributes\":{\"active_multi\":null,\"tools\":[{\"id\":\"14394\"},{\"id\":\"14395\"},{\"id\":\"14396\"},{\"id\":\"14397\"}]},\"id\":\"14399\",\"type\":\"Toolbar\"},{\"attributes\":{\"fill_color\":{\"value\":\"blue\"},\"line_color\":{\"value\":\"blue\"},\"x\":{\"field\":\"petal_length\"},\"y\":{\"field\":\"sepal_length\"}},\"id\":\"14405\",\"type\":\"Circle\"},{\"attributes\":{\"fill_alpha\":0.5,\"fill_color\":\"lightgrey\",\"level\":\"overlay\",\"line_alpha\":1.0,\"line_color\":\"black\",\"line_dash\":[4,4],\"line_width\":2,\"syncable\":false,\"xs_units\":\"screen\",\"ys_units\":\"screen\"},\"id\":\"14432\",\"type\":\"PolyAnnotation\"},{\"attributes\":{},\"id\":\"15115\",\"type\":\"UnionRenderers\"},{\"attributes\":{\"active_multi\":null,\"tools\":[{\"id\":\"14428\"},{\"id\":\"14429\"},{\"id\":\"14430\"},{\"id\":\"14431\"}]},\"id\":\"14433\",\"type\":\"Toolbar\"},{\"attributes\":{},\"id\":\"15116\",\"type\":\"Selection\"},{\"attributes\":{\"axis\":{\"id\":\"14458\"},\"dimension\":1,\"ticker\":null},\"id\":\"14461\",\"type\":\"Grid\"},{\"attributes\":{\"data_source\":{\"id\":\"14374\"},\"glyph\":{\"id\":\"14473\"},\"hover_glyph\":null,\"muted_glyph\":null,\"nonselection_glyph\":{\"id\":\"14474\"},\"view\":{\"id\":\"14476\"}},\"id\":\"14475\",\"type\":\"GlyphRenderer\"},{\"attributes\":{\"below\":[{\"id\":\"14386\"}],\"center\":[{\"id\":\"14389\"},{\"id\":\"14393\"}],\"height\":300,\"left\":[{\"id\":\"14390\"}],\"renderers\":[{\"id\":\"14407\"}],\"title\":{\"id\":\"14376\"},\"toolbar\":{\"id\":\"14399\"},\"width\":300,\"x_range\":{\"id\":\"14378\"},\"x_scale\":{\"id\":\"14382\"},\"y_range\":{\"id\":\"14380\"},\"y_scale\":{\"id\":\"14384\"}},\"id\":\"14375\",\"subtype\":\"Figure\",\"type\":\"Plot\"},{\"attributes\":{\"axis\":{\"id\":\"14454\"},\"ticker\":null},\"id\":\"14457\",\"type\":\"Grid\"},{\"attributes\":{},\"id\":\"14459\",\"type\":\"BasicTicker\"},{\"attributes\":{\"source\":{\"id\":\"14374\"}},\"id\":\"14476\",\"type\":\"CDSView\"},{\"attributes\":{\"fill_alpha\":0.5,\"fill_color\":\"lightgrey\",\"level\":\"overlay\",\"line_alpha\":1.0,\"line_color\":\"black\",\"line_dash\":[4,4],\"line_width\":2,\"syncable\":false,\"xs_units\":\"screen\",\"ys_units\":\"screen\"},\"id\":\"14466\",\"type\":\"PolyAnnotation\"}],\"root_ids\":[\"14477\"]},\"title\":\"Bokeh Application\",\"version\":\"2.3.0\"}};\n",
       "  var render_items = [{\"docid\":\"bdd4922d-e5f1-4c5c-ba1d-60cf0ef33611\",\"root_ids\":[\"14477\"],\"roots\":{\"14477\":\"732314a6-d2c8-4ea2-9712-cb10399b341c\"}}];\n",
       "  root.Bokeh.embed.embed_items_notebook(docs_json, render_items);\n",
       "\n",
       "  }\n",
       "  if (root.Bokeh !== undefined) {\n",
       "    embed_document(root);\n",
       "  } else {\n",
       "    var attempts = 0;\n",
       "    var timer = setInterval(function(root) {\n",
       "      if (root.Bokeh !== undefined) {\n",
       "        clearInterval(timer);\n",
       "        embed_document(root);\n",
       "      } else {\n",
       "        attempts++;\n",
       "        if (attempts > 100) {\n",
       "          clearInterval(timer);\n",
       "          console.log(\"Bokeh: ERROR: Unable to run BokehJS code because BokehJS library is missing\");\n",
       "        }\n",
       "      }\n",
       "    }, 10, root)\n",
       "  }\n",
       "})(window);"
      ],
      "application/vnd.bokehjs_exec.v0+json": ""
     },
     "metadata": {
      "application/vnd.bokehjs_exec.v0+json": {
       "id": "14477"
      }
     },
     "output_type": "display_data"
    }
   ],
   "source": [
    "# Link the x_range of p2 to p1: p2.x_range\n",
    "p2.x_range = p1.x_range\n",
    "\n",
    "# Link the y_range of p2 to p1: p2.y_range\n",
    "p2.y_range = p1.y_range\n",
    "\n",
    "# Link the x_range of p3 to p1: p3.x_range\n",
    "p3.x_range = p1.x_range\n",
    "\n",
    "# Link the y_range of p4 to p1: p4.y_range\n",
    "p4.y_range = p1.y_range\n",
    "\n",
    "# Specify the name of the output_file and show the result\n",
    "# output_file('linked_range.html')\n",
    "show(layout)"
   ]
  },
  {
   "cell_type": "markdown",
   "metadata": {},
   "source": [
    "### Linked brushing\n",
    "\n",
    "By sharing the same `ColumnDataSource` object between multiple plots, selection tools like BoxSelect and LassoSelect will highlight points in both plots that share a row in the ColumnDataSource.\n",
    "\n",
    "In this exercise, you'll plot female literacy vs fertility and population vs fertility in two plots using the same ColumnDataSource.\n",
    "\n",
    "After you have built the figure, experiment with the Lasso Select and Box Select tools. Use your mouse to drag a box or lasso around points in one figure, and notice how points in the other figure that share a row in the ColumnDataSource also get highlighted.\n",
    "\n",
    "Before experimenting with the Lasso Select, however, click the Bokeh plot pop-out icon to pop out the figure so that you can definitely see everything that you're doing.\n",
    "\n",
    "**Instructions**\n",
    "\n",
    "* Create a `ColumnDataSource` object called `source` from the `data` DataFrame.\n",
    "* Create a new figure `p1` using the `figure()` function. In addition to specifying the parameters `x_axis_label` and `y_axis_label`, you will also have to specify the BoxSelect and LassoSelect selection tools with `tools='box_select,lasso_select'`.\n",
    "* Add a circle glyph to `p1`. The x-axis data is `fertility` and y-axis data is `female literacy`. Be sure to also specify `source=source`.\n",
    "* Create a second figure `p2` similar to how you created `p1`.\n",
    "* Add a circle glyph to `p2`. The x-axis data is `fertility` and y-axis data is `population`. Be sure to also specify `source=source`.\n",
    "* Create a row layout of figures `p1` and `p2`."
   ]
  },
  {
   "cell_type": "code",
   "execution_count": 60,
   "metadata": {},
   "outputs": [
    {
     "data": {
      "text/html": [
       "\n",
       "\n",
       "\n",
       "\n",
       "\n",
       "\n",
       "  <div class=\"bk-root\" id=\"ad618f29-6107-4b0a-b326-588725a6d9ce\" data-root-id=\"18007\"></div>\n"
      ]
     },
     "metadata": {},
     "output_type": "display_data"
    },
    {
     "data": {
      "application/javascript": [
       "(function(root) {\n",
       "  function embed_document(root) {\n",
       "    \n",
       "  var docs_json = {\"8d0ba5bf-a899-4442-a8ff-092080bf2b8e\":{\"defs\":[{\"extends\":null,\"module\":null,\"name\":\"DataModel\",\"overrides\":[],\"properties\":[]}],\"roots\":{\"references\":[{\"attributes\":{\"children\":[{\"id\":\"17949\"},{\"id\":\"17978\"}]},\"id\":\"18007\",\"type\":\"Row\"},{\"attributes\":{},\"id\":\"18660\",\"type\":\"BasicTickFormatter\"},{\"attributes\":{\"axis_label\":\"fertility (children per woman)\",\"formatter\":{\"id\":\"18663\"},\"major_label_policy\":{\"id\":\"18664\"},\"ticker\":{\"id\":\"17988\"}},\"id\":\"17987\",\"type\":\"LinearAxis\"},{\"attributes\":{},\"id\":\"17963\",\"type\":\"BasicTicker\"},{\"attributes\":{\"fill_color\":{\"value\":\"#1f77b4\"},\"line_color\":{\"value\":\"#1f77b4\"},\"x\":{\"field\":\"fertility\"},\"y\":{\"field\":\"population\"}},\"id\":\"18003\",\"type\":\"Circle\"},{\"attributes\":{},\"id\":\"18654\",\"type\":\"BasicTickFormatter\"},{\"attributes\":{},\"id\":\"18661\",\"type\":\"AllLabels\"},{\"attributes\":{},\"id\":\"17979\",\"type\":\"DataRange1d\"},{\"attributes\":{},\"id\":\"17981\",\"type\":\"DataRange1d\"},{\"attributes\":{\"axis_label\":\"female literacy (% population)\",\"formatter\":{\"id\":\"18654\"},\"major_label_policy\":{\"id\":\"18655\"},\"ticker\":{\"id\":\"17963\"}},\"id\":\"17962\",\"type\":\"LinearAxis\"},{\"attributes\":{},\"id\":\"18667\",\"type\":\"Selection\"},{\"attributes\":{},\"id\":\"17985\",\"type\":\"LinearScale\"},{\"attributes\":{\"fill_alpha\":{\"value\":0.1},\"fill_color\":{\"value\":\"#1f77b4\"},\"line_alpha\":{\"value\":0.1},\"line_color\":{\"value\":\"#1f77b4\"},\"x\":{\"field\":\"fertility\"},\"y\":{\"field\":\"female literacy\"}},\"id\":\"17975\",\"type\":\"Circle\"},{\"attributes\":{},\"id\":\"18655\",\"type\":\"AllLabels\"},{\"attributes\":{},\"id\":\"17983\",\"type\":\"LinearScale\"},{\"attributes\":{\"bottom_units\":\"screen\",\"fill_alpha\":0.5,\"fill_color\":\"lightgrey\",\"left_units\":\"screen\",\"level\":\"overlay\",\"line_alpha\":1.0,\"line_color\":\"black\",\"line_dash\":[4,4],\"line_width\":2,\"right_units\":\"screen\",\"syncable\":false,\"top_units\":\"screen\"},\"id\":\"17968\",\"type\":\"BoxAnnotation\"},{\"attributes\":{\"fill_alpha\":0.5,\"fill_color\":\"lightgrey\",\"level\":\"overlay\",\"line_alpha\":1.0,\"line_color\":\"black\",\"line_dash\":[4,4],\"line_width\":2,\"syncable\":false,\"xs_units\":\"screen\",\"ys_units\":\"screen\"},\"id\":\"17969\",\"type\":\"PolyAnnotation\"},{\"attributes\":{\"fill_alpha\":{\"value\":0.1},\"fill_color\":{\"value\":\"#1f77b4\"},\"line_alpha\":{\"value\":0.1},\"line_color\":{\"value\":\"#1f77b4\"},\"x\":{\"field\":\"fertility\"},\"y\":{\"field\":\"population\"}},\"id\":\"18004\",\"type\":\"Circle\"},{\"attributes\":{\"overlay\":{\"id\":\"17969\"}},\"id\":\"17967\",\"type\":\"LassoSelectTool\"},{\"attributes\":{\"below\":[{\"id\":\"17987\"}],\"center\":[{\"id\":\"17990\"},{\"id\":\"17994\"}],\"height\":400,\"left\":[{\"id\":\"17991\"}],\"renderers\":[{\"id\":\"18005\"}],\"title\":{\"id\":\"18652\"},\"toolbar\":{\"id\":\"17999\"},\"width\":400,\"x_range\":{\"id\":\"17979\"},\"x_scale\":{\"id\":\"17983\"},\"y_range\":{\"id\":\"17981\"},\"y_scale\":{\"id\":\"17985\"}},\"id\":\"17978\",\"subtype\":\"Figure\",\"type\":\"Plot\"},{\"attributes\":{},\"id\":\"17988\",\"type\":\"BasicTicker\"},{\"attributes\":{\"bottom_units\":\"screen\",\"fill_alpha\":0.5,\"fill_color\":\"lightgrey\",\"left_units\":\"screen\",\"level\":\"overlay\",\"line_alpha\":1.0,\"line_color\":\"black\",\"line_dash\":[4,4],\"line_width\":2,\"right_units\":\"screen\",\"syncable\":false,\"top_units\":\"screen\"},\"id\":\"17997\",\"type\":\"BoxAnnotation\"},{\"attributes\":{\"axis\":{\"id\":\"17987\"},\"ticker\":null},\"id\":\"17990\",\"type\":\"Grid\"},{\"attributes\":{\"source\":{\"id\":\"17948\"}},\"id\":\"18006\",\"type\":\"CDSView\"},{\"attributes\":{\"overlay\":{\"id\":\"17998\"}},\"id\":\"17996\",\"type\":\"LassoSelectTool\"},{\"attributes\":{\"data_source\":{\"id\":\"17948\"},\"glyph\":{\"id\":\"18003\"},\"hover_glyph\":null,\"muted_glyph\":null,\"nonselection_glyph\":{\"id\":\"18004\"},\"view\":{\"id\":\"18006\"}},\"id\":\"18005\",\"type\":\"GlyphRenderer\"},{\"attributes\":{\"data\":{\"Continent\":[\"ASI\",\"ASI\",\"NAM\",\"ASI\",\"LAT\",\"ASI\",\"ASI\",\"AF\",\"EUR\",\"ASI\",\"LAT\",\"ASI\",\"ASI\",\"EUR\",\"AF\",\"AF\",\"ASI\",\"ASI\",\"ASI\",\"AF\",\"EUR\",\"EUR\",\"EUR\",\"ASI\",\"AF\",\"ASI\",\"EUR\",\"EUR\",\"LAT\",\"AF\",\"AF\",\"LAT\",\"AF\",\"EUR\",\"AF\",\"NAM\",\"AF\",\"AF\",\"ASI\",\"ASI\",\"LAT\",\"ASI\",\"LAT\",\"ASI\",\"ASI\",\"ASI\",\"ASI\",\"AF\",\"ASI\",\"AF\",\"EUR\",\"AF\",\"ASI\",\"ASI\",\"AF\",\"AF\",\"AF\",\"LAT\",\"EUR\",\"ASI\",\"AF\",\"AF\",\"AF\",\"ASI\",\"LAT\",\"LAT\",\"AF\",\"AF\",\"AF\",\"AF\",\"EUR\",\"LAT\",\"AF\",\"EUR\",\"EUR\",\"EUR\",\"AF\",\"EUR\",\"LAT\",\"AF\",\"AF\",\"LAT\",\"EUR\",\"EUR\",\"ASI\",\"AF\",\"AF\",\"EUR\",\"EUR\",\"EUR\",\"LAT\",\"ASI\",\"ASI\",\"OCE\",\"AF\",\"AF\",\"LAT\",\"ASI\",\"LAT\",\"ASI\",\"LAT\",\"AF\",\"EUR\",\"EUR\",\"ASI\",\"ASI\",\"AF\",\"ASI\",\"EUR\",\"LAT\",\"ASI\",\"EUR\",\"EUR\",\"AF\",\"ASI\",\"OCE\",\"ASI\",\"AF\",\"EUR\",\"EUR\",\"LAT\",\"EUR\",\"LAT\",\"AF\",\"EUR\",\"ASI\",\"ASI\",\"ASI\",\"LAT\",\"ASI\",\"EUR\",\"AF\",\"AF\",\"EUR\",\"EUR\",\"AF\",\"AF\",\"AF\",\"AF\",\"EUR\",\"LAT\",\"ASI\",\"AF\",\"AF\",\"EUR\",\"ASI\",\"ASI\",\"AF\",\"AF\",\"ASI\",\"LAT\",\"AF\",\"EUR\",\"ASI\",\"LAT\",\"EUR\",\"ASI\",\"OCE\",\"OCE\",\"AF\",\"LAT\",\"ASI\"],\"Country\":[\"Chine\",\"Inde\",\"USA\",\"Indon\\u00e9sie\",\"Br\\u00e9sil\",\"Pakistan\",\"Bangladesh\",\"Nig\\u00e9ria\",\"F\\u00e9d\\u00e9ration de Russie\",\"Japan\",\"Mexique\",\"Philippines\",\"Viet Nam\",\"Germany\",\"Egypte\",\"Ethiopie\",\"Turquie\",\"Iran, R\\u00e9publique islamique d'\",\"Tha\\u00eflande\",\"R\\u00e9p. D\\u00e9mocratique du Congo\",\"France\",\"UK\",\"Italie\",\"Myanmar\",\"Afrique du Sud\",\"South Korea\",\"Ukraine\",\"Espagne\",\"Colombie\",\"R\\u00e9publique-Unie de Tanzanie\",\"Soudan\",\"Argentine\",\"Kenya\",\"Pologne\",\"Alg\\u00e9rie\",\"Canada\",\"Ouganda\",\"Maroc\",\"Iraq\",\"Afghanistan\",\"P\\u00e9rou\",\"N\\u00e9pal\",\"Venezuela\",\"Ouzb\\u00e9kistan\",\"Malaisie\",\"Arabie saoudite\",\"R\\u00e9p. populaire d\\u00e9mocratique de Cor\\u00e9e\",\"Ghana\",\"Y\\u00e9men\",\"Mozambique\",\"Roumanie\",\"C\\u00f4te d'Ivoire\",\"R\\u00e9publique arabe syrienne\",\"Sri Lanka\",\"Madagascar\",\"Cameroun\",\"Angola\",\"Chili\",\"Netherlands\",\"Kazakhstan\",\"Burkina Faso\",\"Malawi\",\"Niger\",\"Cambodge\",\"Guatemala\",\"Equateur\",\"Mali\",\"Zambie\",\"Zimbabwe\",\"S\\u00e9n\\u00e9gal\",\"Gr\\u00e8ce\",\"Cuba\",\"Tchad\",\"Belgium\",\"Portugal\",\"Czech rep\",\"Tunisie\",\"Hongrie\",\"R\\u00e9publique dominicaine\",\"Guin\\u00e9e\",\"Rwanda\",\"Bolivie\",\"B\\u00e9larus\",\"Sweden\",\"Azerba\\u00efdjan\",\"B\\u00e9nin\",\"Burundi\",\"Switzerland\",\"Bulgarie\",\"Serbie\",\"Honduras\",\"Israel\",\"Tadjikistan\",\"Papouasie-Nouvelle-Guin\\u00e9e\",\"Togo\",\"Jamahiriya arabe libyenne\",\"Paraguay\",\"R\\u00e9p. d\\u00e9mocratique populaire lao\",\"El Salvador\",\"Jordanie\",\"Nicaragua\",\"Sierra Leone\",\"Denmark\",\"Finland\",\"Kirghizistan\",\"Turkm\\u00e9nistan\",\"Erythr\\u00e9e\",\"Singapour\",\"Norway\",\"Costa Rica\",\"Emirats arabes unis\",\"Croatie\",\"Ireland\",\"R\\u00e9publique centrafricaine\",\"G\\u00e9orgie\",\"New Zealand\",\"Liban\",\"Lib\\u00e9ria\",\"Bosnie-Herz\\u00e9govine\",\"R\\u00e9publique de Moldova\",\"Panama\",\"Lituanie\",\"Uruguay\",\"Mauritanie\",\"Albanie\",\"Arm\\u00e9nie\",\"Oman\",\"Kowe\\u00eft\",\"Jama\\u00efque\",\"Mongolie\",\"Lettonie\",\"Namibie\",\"Lesotho\",\"L'ex-R\\u00e9p. yougoslave de Mac\\u00e9doine\",\"Slov\\u00e9nie\",\"Botswana\",\"Gambie\",\"Guin\\u00e9e-Bissau\",\"Gabon\",\"Estonie\",\"Trinit\\u00e9-et-Tobago\",\"Qatar\",\"Maurice\",\"Swaziland\",\"Chypre\",\"Bahre\\u00efn\",\"Bhoutan\",\"Guin\\u00e9e \\u00e9quatoriale\",\"Comores\",\"Macao, Chine\",\"Suriname\",\"Cap-Vert\",\"Malte\",\"Brun\\u00e9i Darussalam\",\"Bahamas\",\"Iceland\",\"Maldives\",\"Vanuatu\",\"Samoa\",\"Sao Tom\\u00e9-et-Principe\",\"Aruba\",\"Tonga\"],\"female literacy\":{\"__ndarray__\":\"AAAAAACgVkBmZmZmZmZJQAAAAAAAwFhAMzMzMzMzVkDNzMzMzIxWQAAAAAAAAERAZmZmZmbmSEBmZmZmZmZIQJqZmZmZ2VhAAAAAAADAWEAAAAAAAOBWQJqZmZmZeVdAzczMzMyMVkAAAAAAAMBYQGZmZmZm5kxAzczMzMzMNkAzMzMzM1NUQM3MzMzMTFNAAAAAAADgVkDNzMzMzAxMQAAAAAAAwFhAAAAAAADAWEAAAAAAAKBYQM3MzMzMTFZAZmZmZmYGVkBmZmZmZiZYQGZmZmZm5lhAmpmZmZk5WECamZmZmVlXQDMzMzMzk1BAzczMzMzMTUDNzMzMzGxYQDMzMzMzs1RAMzMzMzPTWEAzMzMzM/NPQAAAAAAAwFhAMzMzMzOzUEDNzMzMzAxGQM3MzMzMTFFAMzMzMzMzKUBmZmZmZiZVQDMzMzMzs0ZAmpmZmZm5V0CamZmZmblYQDMzMzMzc1ZAzczMzMwMVEAAAAAAAABZQGZmZmZmpk1AZmZmZmZmRUDNzMzMzAxEQJqZmZmZOVhAZmZmZmYmRkDNzMzMzExTQGZmZmZmRlZAMzMzMzNTUEAzMzMzM/NQQAAAAAAAgExAzczMzMysWEAAAAAAAMBYQAAAAAAA4FhAmpmZmZmZNUAzMzMzM3NQQDMzMzMzMy5AmpmZmZm5UUDNzMzMzCxRQM3MzMzMbFRAMzMzMzMzMkAAAAAAAIBOQDMzMzMzM1ZAAAAAAACAQECamZmZmflXQDMzMzMz81hAZmZmZmbmNUAAAAAAAMBYQJqZmZmZOVdAAAAAAADAWEAAAAAAAMBRQJqZmZmZuVhAMzMzMzMTVkBmZmZmZmY6QGZmZmZmhlBAAAAAAACAVUDNzMzMzOxYQAAAAAAAwFhAzczMzMzMWECamZmZmRk8QDMzMzMz801AAAAAAADAWECamZmZmXlYQM3MzMzMDFhAAAAAAADgVECamZmZmflXQAAAAAAA4FhAzczMzMzMS0CamZmZmdlKQDMzMzMzU1RAAAAAAABgV0CamZmZmZlPQJqZmZmZWVRAmpmZmZk5VkCamZmZmXlTQGZmZmZm5jxAAAAAAADAWEAAAAAAAABZQGZmZmZmxlhAMzMzMzPTWEAAAAAAAEBLQGZmZmZm5lZAAAAAAAAAWUDNzMzMzAxYQAAAAAAA4FZAAAAAAACAWEAAAAAAAMBYQM3MzMzMjERAzczMzMzsWEAAAAAAAMBYQAAAAAAAgFVAAAAAAACASkCamZmZmflXQDMzMzMzc1hAMzMzMzMzV0DNzMzMzOxYQAAAAAAAoFhAAAAAAADASEDNzMzMzKxYQJqZmZmZ2VhAmpmZmZk5VEBmZmZmZkZXQDMzMzMzs1ZAMzMzMzNzWEAzMzMzM/NYQM3MzMzM7FVAZmZmZmbGV0CamZmZmdlXQM3MzMzM7FhAAAAAAADgVEBmZmZmZiZBQAAAAAAAQEJAzczMzMzMVEAzMzMzM/NYQM3MzMzMjFhAmpmZmZmZVkAzMzMzMzNVQGZmZmZmZlVAzczMzMwsWECamZmZmVlWQJqZmZmZWUNAZmZmZmZGVkAzMzMzM/NQQM3MzMzMrFZAmpmZmZkZVkAzMzMzM9NTQAAAAAAAYFdAMzMzMzNTV0AAAAAAACBYQAAAAAAAwFhAmpmZmZmZWEAAAAAAAOBTQAAAAAAAoFhAMzMzMzPTVEAAAAAAAIBYQGZmZmZmxlhA\",\"dtype\":\"float64\",\"order\":\"little\",\"shape\":[162]},\"fertility\":{\"__ndarray__\":\"5/up8dJN/D/b+X5qvHQFQARWDi2ynQBAdZMYBFYOAUAIrBxaZDv9P2Dl0CLb+Q5A5/up8dJNAkD+1HjpJrEUQH0/NV66SfY//tR46SYx9D9zaJHtfD8BQGiR7Xw/NQhA3SQGgZVDAEDJdr6fGi/1P7pJDAIrhwZA8tJNYhDYFEDNzMzMzMwAQOXQItv5fvw/9P3UeOkm/T9vEoPAyqEXQH9qvHSTGP4/bxKDwMqh/T89CtejcD32P3Noke18PwJACtejcD0KBEAv3SQGgZXzPy2yne+nxvU/sHJoke189z8IrBxaZDsDQBSuR+F6FBZACKwcWmQ7EEBiEFg5tMgBQFYOLbKdbxNAEoPAyqFF9D8j2/l+arwCQN0kBoGVQ/k/arx0kxgEGUB56SYxCKwCQOOlm8QgsA9AhetRuB4FGkA9CtejcD0EQC/dJAaBlQZAlkOLbOf7A0CWQ4ts5/sBQKrx0k1iEARAUrgehetRCEBEi2zn+6n9P+F6FK5H4RBAZmZmZmZmFECR7Xw/Nd4TQDMzMzMzM/U/dZMYBFYOEkD8qfHSTWIJQBBYObTIdgJAexSuR+F6EkBEi2zn+ykSQD81XrpJjBZAN4lBYOXQ/j/ByqFFtvP7PycxCKwcWgJAd76fGi9dF0BSuB6F69EVQC2yne+nRhxArBxaZDvfBkDfT42XbhIQQLTIdr6fGgRAH4XrUbieFUCmm8QgsPIWQIGVQ4ts5wpAj8L1KFyPE0ApXI/C9Sj2PxSuR+F6FPg/bef7qfFSGEAlBoGVQ4v8Pz81XrpJDPY/MzMzMzMz9z/b+X5qvHT9P+xRuB6F6/U/TDeJQWDlBEA3iUFg5VAVQFK4HoXrURVAK4cW2c73CkDl0CLb+X70P1YOLbKd7/0/001iEFg5AUBQjZduEoMVQM3MzMzMzBFAXI/C9Shc9z9g5dAi2/n2P5huEoPAyvk/hetRuB6FCUBqvHSTGAQGQM3MzMzMzApACtejcD0KEEBEi2zn+6kQQIlBYOXQIgVAN4lBYOXQB0BSuB6F61ELQFyPwvUoXAJA9P3UeOkmCEAQWDm0yHYFQClcj8L1qBRAL90kBoGV/T/HSzeJQWD9P76fGi/dJARAcT0K16NwA0DpJjEIrBwSQGiR7Xw/NfQ/KVyPwvUo/j9KDAIrhxb/P/yp8dJNYv4/30+Nl24S9z9zaJHtfD//P30/NV66yRJAHVpkO99P+T8zMzMzMzMAQNv5fmq8dP0/JQaBlUMLFEAxCKwcWmTzP9V46SYxCPg/VOOlm8QgBECsHFpkO9/1P4PAyqFFtgBAWmQ730+NEUBEi2zn+6n9PyuHFtnO9/s/bef7qfHSB0Ce76fGSzcBQEw3iUFg5QJAAiuHFtnO/z83iUFg5dD2P1K4HoXrUQpA6SYxCKwcCkBg5dAi2/n2P30/NV66SfY/+n5qvHSTBkDHSzeJQeATQIlBYOXQohZA7FG4HoXrCUBKDAIrhxb7PycxCKwcWvo/4XoUrkfhAkB56SYxCKz8P5qZmZmZmQtAqMZLN4lB+D93vp8aL90BQBsv3SQGgQRAbxKDwMohFUAUrkfhehQPQLbz/dR46e4/lkOLbOf7AkDn+6nx0k0FQGq8dJMYBPQ/0SLb+X5qAEArhxbZzvcKQFg5tMh2vgBAAAAAAAAAAECq8dJNYhAPQDeJQWDl0A5AWDm0yHa+DUCDwMqhRbb7PwaBlUOLbA9A\",\"dtype\":\"float64\",\"order\":\"little\",\"shape\":[162]},\"index\":[0,1,2,3,4,5,6,7,8,9,10,11,12,13,14,15,16,17,18,19,20,21,22,23,24,25,26,27,28,29,30,31,32,33,34,35,36,37,38,39,40,41,42,43,44,45,46,47,48,49,50,51,52,53,54,55,56,57,58,59,60,61,62,63,64,65,66,67,68,69,70,71,72,73,74,75,76,77,78,79,80,81,82,83,84,85,86,87,88,89,90,91,92,93,94,95,96,97,98,99,100,101,102,103,104,105,106,107,108,109,110,111,112,113,114,115,116,117,118,119,120,121,122,123,124,125,126,127,128,129,130,131,132,133,134,135,136,137,138,139,140,141,142,143,144,145,146,147,148,149,150,151,152,153,154,155,156,157,158,159,160,161],\"population\":{\"__ndarray__\":\"AAAAZii900GQFOkAn/zQQQAAAGCWH7JBAAAAdAUaq0EAAABkgeKmQe+OPP5RzaNBAAAAANESo0EAAAC8oQaiQQAAAGD466BBAAAAAG9ynkH67buGHVuZQQAAAFRuipVBAAAAdOONlEEAAABEmpOTQQAAABAGcJNBAAAAaFs+k0EAAABQXp+RQToXwIbdJ5FBAAAAPPAQkEEAAADY06OOQQAAAMA5so1BAAAAcNVIjUEAAACYu4eMQQAAAFgsoodBAAAAwDw3h0EAAADAeC2HQQAAAMDADoZBAAAAIAC5hUEAAAAApHaFQQAAAJgGQoRBAAAAWFS3g0EAAAAghwSDQQAAAAAYfIJBAAAA+AUugkEAAACQ+WOAQQAAAICqxH9BAAAAELowfkEAAAAANyR+QRMTrwTXSX1BsGr1rzqte0EAAADANYB7QQAAAGCTeXtBAAAAgBGkekEAAABAYgx6QQAAABBMw3lB9wa/XgOBd0EAAAAQILd2QQAAAPDoRHZBAAAA0BbbdUEAAABQfFh1QQAAAGBZhHRBAAAAYCyjc0EolOqduqBzQR/BaMXyOHNBAAAA0ME5ckEAAAAQQDRyQQAAAMCTL3FBAAAAAIcGcEEAAAAgE15vQQAAACC65W1BAAAAgGsObUEAAADAHFFsQQAAAMDXC2xBAAAAAFvGa0EAAAAArhpqQQAAAAC6tmlBAAAAAPk7aEEAAABgNxJoQQAAAOBjxWdBAAAAoH1KZ0EAAADA3G5lQQAAAOAPX2VBAAAAYPDQZEEAAAAgumxkQQAAAKC5QmRBAAAAAALiY0EAAAAA37JjQQAAAIB1JWNBAAAA4Lj7YkEAAADgS8FiQQAAAMBuimJBAAAAIHR9YkEAAABA+nZiQQAAAKDGlWFBAAAAgFSOYEEAAADAiIVgQQAAAIADzV5BAAAAwG4sXUEAAADAuBRdQQAAAEDzCVxBAAAAQEHrW0EAAAAAgOFbQQAAAMDcE1pBAAAAgK0WWUEAAABAO6NYQQAAAECpAlhBAAAAwKfLV0EAAABA56tXQQAAAIAlZldBXanGt56HVkEAAABAf55VQQAAAECLNVVBAAAAQN30VEEAAADA3URUQQAAAAAzIlRBAAAAgGg9U0EAAABAZ8tSQQAAAAD6dVJBAAAAAHUwUkEAAACANT1RQQAAAMDRG1FBAAAAABTqUEEAAADA8uFQQQAAAMCPjVBBAAAAwBBuUEEAAAAA2UhQQQAAAADv/k9BAAAAAPzwTEEAAAAAVslMQQAAAIBsuEtBAAAAgFPuSUEAAACA0Z5JQQAAAADSb0lBAAAAgGGHSEEAAACAPftHQQAAAIDveUdBAAAAgChARUGBGHRrNNBEQQAAAABwgERBAAAAAKAmREEAAAAA90lBQQAAAADfP0BBAAAAAJVFP0EAAAAA/iU/QQAAAADE1z5BAAAAAGJQPUEAAAAAKFU5QQAAAAAWCjhBAAAAAN8YNkEAAAAAA3U0QQAAAACMWDRBAAAAAF6LM0EAAAAAdlwzQQAAAADa0TFBAAAAAMRRKkEAAAAAQqsnQQAAAACK9SRBAAAAAPodJEGpYCyg5qMjQQAAAADEDiBBAAAAANBwH0EAAAAAwG8eQQAAAAC4JBlBAAAAAGDxF0EAAAAAEJwUQQAAAACYXxNBAAAAAAyeEkEAAAAAUIwMQQAAAACo1QVBAAAAAHCNA0EAAAAA8L75QAAAAADgSPlA\",\"dtype\":\"float64\",\"order\":\"little\",\"shape\":[162]}},\"selected\":{\"id\":\"18667\"},\"selection_policy\":{\"id\":\"18666\"}},\"id\":\"17948\",\"type\":\"ColumnDataSource\"},{\"attributes\":{\"axis_label\":\"population (millions)\",\"formatter\":{\"id\":\"18660\"},\"major_label_policy\":{\"id\":\"18661\"},\"ticker\":{\"id\":\"17992\"}},\"id\":\"17991\",\"type\":\"LinearAxis\"},{\"attributes\":{\"axis\":{\"id\":\"17991\"},\"dimension\":1,\"ticker\":null},\"id\":\"17994\",\"type\":\"Grid\"},{\"attributes\":{},\"id\":\"17992\",\"type\":\"BasicTicker\"},{\"attributes\":{\"overlay\":{\"id\":\"17968\"}},\"id\":\"17966\",\"type\":\"BoxSelectTool\"},{\"attributes\":{\"overlay\":{\"id\":\"17997\"}},\"id\":\"17995\",\"type\":\"BoxSelectTool\"},{\"attributes\":{\"fill_alpha\":0.5,\"fill_color\":\"lightgrey\",\"level\":\"overlay\",\"line_alpha\":1.0,\"line_color\":\"black\",\"line_dash\":[4,4],\"line_width\":2,\"syncable\":false,\"xs_units\":\"screen\",\"ys_units\":\"screen\"},\"id\":\"17998\",\"type\":\"PolyAnnotation\"},{\"attributes\":{},\"id\":\"18663\",\"type\":\"BasicTickFormatter\"},{\"attributes\":{\"below\":[{\"id\":\"17958\"}],\"center\":[{\"id\":\"17961\"},{\"id\":\"17965\"}],\"height\":400,\"left\":[{\"id\":\"17962\"}],\"renderers\":[{\"id\":\"17976\"}],\"title\":{\"id\":\"18650\"},\"toolbar\":{\"id\":\"17970\"},\"width\":400,\"x_range\":{\"id\":\"17950\"},\"x_scale\":{\"id\":\"17954\"},\"y_range\":{\"id\":\"17952\"},\"y_scale\":{\"id\":\"17956\"}},\"id\":\"17949\",\"subtype\":\"Figure\",\"type\":\"Plot\"},{\"attributes\":{},\"id\":\"18657\",\"type\":\"BasicTickFormatter\"},{\"attributes\":{\"active_multi\":null,\"tools\":[{\"id\":\"17995\"},{\"id\":\"17996\"}]},\"id\":\"17999\",\"type\":\"Toolbar\"},{\"attributes\":{},\"id\":\"18664\",\"type\":\"AllLabels\"},{\"attributes\":{},\"id\":\"17954\",\"type\":\"LinearScale\"},{\"attributes\":{\"axis_label\":\"fertility (children per woman)\",\"formatter\":{\"id\":\"18657\"},\"major_label_policy\":{\"id\":\"18658\"},\"ticker\":{\"id\":\"17959\"}},\"id\":\"17958\",\"type\":\"LinearAxis\"},{\"attributes\":{},\"id\":\"18652\",\"type\":\"Title\"},{\"attributes\":{\"data_source\":{\"id\":\"17948\"},\"glyph\":{\"id\":\"17974\"},\"hover_glyph\":null,\"muted_glyph\":null,\"nonselection_glyph\":{\"id\":\"17975\"},\"view\":{\"id\":\"17977\"}},\"id\":\"17976\",\"type\":\"GlyphRenderer\"},{\"attributes\":{},\"id\":\"17950\",\"type\":\"DataRange1d\"},{\"attributes\":{},\"id\":\"18658\",\"type\":\"AllLabels\"},{\"attributes\":{\"fill_color\":{\"value\":\"#1f77b4\"},\"line_color\":{\"value\":\"#1f77b4\"},\"x\":{\"field\":\"fertility\"},\"y\":{\"field\":\"female literacy\"}},\"id\":\"17974\",\"type\":\"Circle\"},{\"attributes\":{\"active_multi\":null,\"tools\":[{\"id\":\"17966\"},{\"id\":\"17967\"}]},\"id\":\"17970\",\"type\":\"Toolbar\"},{\"attributes\":{\"axis\":{\"id\":\"17962\"},\"dimension\":1,\"ticker\":null},\"id\":\"17965\",\"type\":\"Grid\"},{\"attributes\":{},\"id\":\"17959\",\"type\":\"BasicTicker\"},{\"attributes\":{},\"id\":\"18666\",\"type\":\"UnionRenderers\"},{\"attributes\":{},\"id\":\"17956\",\"type\":\"LinearScale\"},{\"attributes\":{\"axis\":{\"id\":\"17958\"},\"ticker\":null},\"id\":\"17961\",\"type\":\"Grid\"},{\"attributes\":{\"source\":{\"id\":\"17948\"}},\"id\":\"17977\",\"type\":\"CDSView\"},{\"attributes\":{},\"id\":\"17952\",\"type\":\"DataRange1d\"},{\"attributes\":{},\"id\":\"18650\",\"type\":\"Title\"}],\"root_ids\":[\"18007\"]},\"title\":\"Bokeh Application\",\"version\":\"2.3.0\"}};\n",
       "  var render_items = [{\"docid\":\"8d0ba5bf-a899-4442-a8ff-092080bf2b8e\",\"root_ids\":[\"18007\"],\"roots\":{\"18007\":\"ad618f29-6107-4b0a-b326-588725a6d9ce\"}}];\n",
       "  root.Bokeh.embed.embed_items_notebook(docs_json, render_items);\n",
       "\n",
       "  }\n",
       "  if (root.Bokeh !== undefined) {\n",
       "    embed_document(root);\n",
       "  } else {\n",
       "    var attempts = 0;\n",
       "    var timer = setInterval(function(root) {\n",
       "      if (root.Bokeh !== undefined) {\n",
       "        clearInterval(timer);\n",
       "        embed_document(root);\n",
       "      } else {\n",
       "        attempts++;\n",
       "        if (attempts > 100) {\n",
       "          clearInterval(timer);\n",
       "          console.log(\"Bokeh: ERROR: Unable to run BokehJS code because BokehJS library is missing\");\n",
       "        }\n",
       "      }\n",
       "    }, 10, root)\n",
       "  }\n",
       "})(window);"
      ],
      "application/vnd.bokehjs_exec.v0+json": ""
     },
     "metadata": {
      "application/vnd.bokehjs_exec.v0+json": {
       "id": "18007"
      }
     },
     "output_type": "display_data"
    }
   ],
   "source": [
    "# Create ColumnDataSource: source\n",
    "source = ColumnDataSource(lit)\n",
    "\n",
    "# Create the first figure: p1\n",
    "p1 = figure(plot_height=400, plot_width=400, x_axis_label='fertility (children per woman)', y_axis_label='female literacy (% population)',\n",
    "            tools='box_select,lasso_select')\n",
    "\n",
    "# Add a circle glyph to p1\n",
    "p1.circle('fertility', 'female literacy', source=source)\n",
    "\n",
    "# Create the second figure: p2\n",
    "p2 = figure(plot_height=400, plot_width=400, x_axis_label='fertility (children per woman)', y_axis_label='population (millions)',\n",
    "            tools='box_select,lasso_select')\n",
    "\n",
    "# Add a circle glyph to p2\n",
    "p2.circle('fertility', 'population', source=source)\n",
    "\n",
    "# Create row layout of figures p1 and p2: layout\n",
    "layout = row(p1, p2)\n",
    "\n",
    "# Specify the name of the output_file and show the result\n",
    "# output_file('linked_brush.html')\n",
    "show(layout)"
   ]
  },
  {
   "cell_type": "markdown",
   "metadata": {},
   "source": [
    "## Annotations and guides\n",
    "\n",
    "**What are they?**\n",
    "\n",
    "* Help relate scale information to the viewer\n",
    " * Axes, Grids (default on most plots)\n",
    "* Explain the visual encodings that are used\n",
    " * Legends\n",
    "* Drill down into details not visible in the plot\n",
    " * Hover Tooltips\n",
    " \n",
    "**Legends**"
   ]
  },
  {
   "cell_type": "code",
   "execution_count": 61,
   "metadata": {},
   "outputs": [
    {
     "data": {
      "text/html": [
       "\n",
       "\n",
       "\n",
       "\n",
       "\n",
       "\n",
       "  <div class=\"bk-root\" id=\"da2076cd-2b20-4d9a-ac42-59c51f942d61\" data-root-id=\"18784\"></div>\n"
      ]
     },
     "metadata": {},
     "output_type": "display_data"
    },
    {
     "data": {
      "application/javascript": [
       "(function(root) {\n",
       "  function embed_document(root) {\n",
       "    \n",
       "  var docs_json = {\"6833122d-713e-4dd7-9ef5-69aee3fb2249\":{\"defs\":[{\"extends\":null,\"module\":null,\"name\":\"DataModel\",\"overrides\":[],\"properties\":[]}],\"roots\":{\"references\":[{\"attributes\":{\"below\":[{\"id\":\"18793\"}],\"center\":[{\"id\":\"18796\"},{\"id\":\"18800\"},{\"id\":\"18831\"}],\"height\":400,\"left\":[{\"id\":\"18797\"}],\"renderers\":[{\"id\":\"18818\"}],\"title\":{\"id\":\"18820\"},\"toolbar\":{\"id\":\"18808\"},\"width\":400,\"x_range\":{\"id\":\"18785\"},\"x_scale\":{\"id\":\"18789\"},\"y_range\":{\"id\":\"18787\"},\"y_scale\":{\"id\":\"18791\"}},\"id\":\"18784\",\"subtype\":\"Figure\",\"type\":\"Plot\"},{\"attributes\":{},\"id\":\"18785\",\"type\":\"DataRange1d\"},{\"attributes\":{\"fill_alpha\":{\"value\":0.1},\"fill_color\":{\"field\":\"species\",\"transform\":{\"id\":\"18783\"}},\"line_alpha\":{\"value\":0.1},\"line_color\":{\"field\":\"species\",\"transform\":{\"id\":\"18783\"}},\"size\":{\"value\":10},\"x\":{\"field\":\"petal_length\"},\"y\":{\"field\":\"sepal_length\"}},\"id\":\"18817\",\"type\":\"Circle\"},{\"attributes\":{\"data_source\":{\"id\":\"18782\"},\"glyph\":{\"id\":\"18816\"},\"hover_glyph\":null,\"muted_glyph\":null,\"nonselection_glyph\":{\"id\":\"18817\"},\"view\":{\"id\":\"18819\"}},\"id\":\"18818\",\"type\":\"GlyphRenderer\"},{\"attributes\":{},\"id\":\"18789\",\"type\":\"LinearScale\"},{\"attributes\":{\"bottom_units\":\"screen\",\"fill_alpha\":0.5,\"fill_color\":\"lightgrey\",\"left_units\":\"screen\",\"level\":\"overlay\",\"line_alpha\":1.0,\"line_color\":\"black\",\"line_dash\":[4,4],\"line_width\":2,\"right_units\":\"screen\",\"syncable\":false,\"top_units\":\"screen\"},\"id\":\"18807\",\"type\":\"BoxAnnotation\"},{\"attributes\":{\"formatter\":{\"id\":\"18822\"},\"major_label_policy\":{\"id\":\"18823\"},\"ticker\":{\"id\":\"18798\"}},\"id\":\"18797\",\"type\":\"LinearAxis\"},{\"attributes\":{},\"id\":\"18829\",\"type\":\"Selection\"},{\"attributes\":{},\"id\":\"18822\",\"type\":\"BasicTickFormatter\"},{\"attributes\":{\"items\":[{\"id\":\"18832\"}],\"location\":\"top_left\"},\"id\":\"18831\",\"type\":\"Legend\"},{\"attributes\":{\"source\":{\"id\":\"18782\"}},\"id\":\"18819\",\"type\":\"CDSView\"},{\"attributes\":{},\"id\":\"18823\",\"type\":\"AllLabels\"},{\"attributes\":{},\"id\":\"18801\",\"type\":\"PanTool\"},{\"attributes\":{\"factors\":[\"setosa\",\"virginica\",\"versicolor\"],\"palette\":[\"red\",\"green\",\"blue\"]},\"id\":\"18783\",\"type\":\"CategoricalColorMapper\"},{\"attributes\":{},\"id\":\"18806\",\"type\":\"HelpTool\"},{\"attributes\":{},\"id\":\"18798\",\"type\":\"BasicTicker\"},{\"attributes\":{},\"id\":\"18820\",\"type\":\"Title\"},{\"attributes\":{\"active_multi\":null,\"tools\":[{\"id\":\"18801\"},{\"id\":\"18802\"},{\"id\":\"18803\"},{\"id\":\"18804\"},{\"id\":\"18805\"},{\"id\":\"18806\"}]},\"id\":\"18808\",\"type\":\"Toolbar\"},{\"attributes\":{\"data\":{\"index\":[0,1,2,3,4,5,6,7,8,9,10,11,12,13,14,15,16,17,18,19,20,21,22,23,24,25,26,27,28,29,30,31,32,33,34,35,36,37,38,39,40,41,42,43,44,45,46,47,48,49,50,51,52,53,54,55,56,57,58,59,60,61,62,63,64,65,66,67,68,69,70,71,72,73,74,75,76,77,78,79,80,81,82,83,84,85,86,87,88,89,90,91,92,93,94,95,96,97,98,99,100,101,102,103,104,105,106,107,108,109,110,111,112,113,114,115,116,117,118,119,120,121,122,123,124,125,126,127,128,129,130,131,132,133,134,135,136,137,138,139,140,141,142,143,144,145,146,147,148,149],\"petal_length\":{\"__ndarray__\":\"ZmZmZmZm9j9mZmZmZmb2P83MzMzMzPQ/AAAAAAAA+D9mZmZmZmb2PzMzMzMzM/s/ZmZmZmZm9j8AAAAAAAD4P2ZmZmZmZvY/AAAAAAAA+D8AAAAAAAD4P5qZmZmZmfk/ZmZmZmZm9j+amZmZmZnxPzMzMzMzM/M/AAAAAAAA+D/NzMzMzMz0P2ZmZmZmZvY/MzMzMzMz+z8AAAAAAAD4PzMzMzMzM/s/AAAAAAAA+D8AAAAAAADwPzMzMzMzM/s/ZmZmZmZm/j+amZmZmZn5P5qZmZmZmfk/AAAAAAAA+D9mZmZmZmb2P5qZmZmZmfk/mpmZmZmZ+T8AAAAAAAD4PwAAAAAAAPg/ZmZmZmZm9j8AAAAAAAD4PzMzMzMzM/M/zczMzMzM9D9mZmZmZmb2P83MzMzMzPQ/AAAAAAAA+D/NzMzMzMz0P83MzMzMzPQ/zczMzMzM9D+amZmZmZn5P2ZmZmZmZv4/ZmZmZmZm9j+amZmZmZn5P2ZmZmZmZvY/AAAAAAAA+D9mZmZmZmb2P83MzMzMzBJAAAAAAAAAEkCamZmZmZkTQAAAAAAAABBAZmZmZmZmEkAAAAAAAAASQM3MzMzMzBJAZmZmZmZmCkBmZmZmZmYSQDMzMzMzMw9AAAAAAAAADEDNzMzMzMwQQAAAAAAAABBAzczMzMzMEkDNzMzMzMwMQJqZmZmZmRFAAAAAAAAAEkBmZmZmZmYQQAAAAAAAABJAMzMzMzMzD0AzMzMzMzMTQAAAAAAAABBAmpmZmZmZE0DNzMzMzMwSQDMzMzMzMxFAmpmZmZmZEUAzMzMzMzMTQAAAAAAAABRAAAAAAAAAEkAAAAAAAAAMQGZmZmZmZg5AmpmZmZmZDUAzMzMzMzMPQGZmZmZmZhRAAAAAAAAAEkAAAAAAAAASQM3MzMzMzBJAmpmZmZmZEUBmZmZmZmYQQAAAAAAAABBAmpmZmZmZEUBmZmZmZmYSQAAAAAAAABBAZmZmZmZmCkDNzMzMzMwQQM3MzMzMzBBAzczMzMzMEEAzMzMzMzMRQAAAAAAAAAhAZmZmZmZmEEAAAAAAAAAYQGZmZmZmZhRAmpmZmZmZF0BmZmZmZmYWQDMzMzMzMxdAZmZmZmZmGkAAAAAAAAASQDMzMzMzMxlAMzMzMzMzF0BmZmZmZmYYQGZmZmZmZhRAMzMzMzMzFUAAAAAAAAAWQAAAAAAAABRAZmZmZmZmFEAzMzMzMzMVQAAAAAAAABZAzczMzMzMGkCamZmZmZkbQAAAAAAAABRAzczMzMzMFkCamZmZmZkTQM3MzMzMzBpAmpmZmZmZE0DNzMzMzMwWQAAAAAAAABhAMzMzMzMzE0CamZmZmZkTQGZmZmZmZhZAMzMzMzMzF0BmZmZmZmYYQJqZmZmZmRlAZmZmZmZmFkBmZmZmZmYUQGZmZmZmZhZAZmZmZmZmGEBmZmZmZmYWQAAAAAAAABZAMzMzMzMzE0CamZmZmZkVQGZmZmZmZhZAZmZmZmZmFEBmZmZmZmYUQJqZmZmZmRdAzczMzMzMFkDNzMzMzMwUQAAAAAAAABRAzczMzMzMFECamZmZmZkVQGZmZmZmZhRA\",\"dtype\":\"float64\",\"order\":\"little\",\"shape\":[150]},\"petal_width\":{\"__ndarray__\":\"mpmZmZmZyT+amZmZmZnJP5qZmZmZmck/mpmZmZmZyT+amZmZmZnJP5qZmZmZmdk/MzMzMzMz0z+amZmZmZnJP5qZmZmZmck/mpmZmZmZuT+amZmZmZnJP5qZmZmZmck/mpmZmZmZuT+amZmZmZm5P5qZmZmZmck/mpmZmZmZ2T+amZmZmZnZPzMzMzMzM9M/MzMzMzMz0z8zMzMzMzPTP5qZmZmZmck/mpmZmZmZ2T+amZmZmZnJPwAAAAAAAOA/mpmZmZmZyT+amZmZmZnJP5qZmZmZmdk/mpmZmZmZyT+amZmZmZnJP5qZmZmZmck/mpmZmZmZyT+amZmZmZnZP5qZmZmZmbk/mpmZmZmZyT+amZmZmZnJP5qZmZmZmck/mpmZmZmZyT+amZmZmZm5P5qZmZmZmck/mpmZmZmZyT8zMzMzMzPTPzMzMzMzM9M/mpmZmZmZyT8zMzMzMzPjP5qZmZmZmdk/MzMzMzMz0z+amZmZmZnJP5qZmZmZmck/mpmZmZmZyT+amZmZmZnJP2ZmZmZmZvY/AAAAAAAA+D8AAAAAAAD4P83MzMzMzPQ/AAAAAAAA+D/NzMzMzMz0P5qZmZmZmfk/AAAAAAAA8D/NzMzMzMz0P2ZmZmZmZvY/AAAAAAAA8D8AAAAAAAD4PwAAAAAAAPA/ZmZmZmZm9j/NzMzMzMz0P2ZmZmZmZvY/AAAAAAAA+D8AAAAAAADwPwAAAAAAAPg/mpmZmZmZ8T/NzMzMzMz8P83MzMzMzPQ/AAAAAAAA+D8zMzMzMzPzP83MzMzMzPQ/ZmZmZmZm9j9mZmZmZmb2PzMzMzMzM/s/AAAAAAAA+D8AAAAAAADwP5qZmZmZmfE/AAAAAAAA8D8zMzMzMzPzP5qZmZmZmfk/AAAAAAAA+D+amZmZmZn5PwAAAAAAAPg/zczMzMzM9D/NzMzMzMz0P83MzMzMzPQ/MzMzMzMz8z9mZmZmZmb2PzMzMzMzM/M/AAAAAAAA8D/NzMzMzMz0PzMzMzMzM/M/zczMzMzM9D/NzMzMzMz0P5qZmZmZmfE/zczMzMzM9D8AAAAAAAAEQGZmZmZmZv4/zczMzMzMAEDNzMzMzMz8P5qZmZmZmQFAzczMzMzMAEAzMzMzMzP7P83MzMzMzPw/zczMzMzM/D8AAAAAAAAEQAAAAAAAAABAZmZmZmZm/j/NzMzMzMwAQAAAAAAAAABAMzMzMzMzA0BmZmZmZmYCQM3MzMzMzPw/mpmZmZmZAUBmZmZmZmYCQAAAAAAAAPg/ZmZmZmZmAkAAAAAAAAAAQAAAAAAAAABAzczMzMzM/D/NzMzMzMwAQM3MzMzMzPw/zczMzMzM/D/NzMzMzMz8P83MzMzMzABAmpmZmZmZ+T9mZmZmZmb+PwAAAAAAAABAmpmZmZmZAUAAAAAAAAD4P2ZmZmZmZvY/ZmZmZmZmAkAzMzMzMzMDQM3MzMzMzPw/zczMzMzM/D/NzMzMzMwAQDMzMzMzMwNAZmZmZmZmAkBmZmZmZmb+P2ZmZmZmZgJAAAAAAAAABEBmZmZmZmYCQGZmZmZmZv4/AAAAAAAAAEBmZmZmZmYCQM3MzMzMzPw/\",\"dtype\":\"float64\",\"order\":\"little\",\"shape\":[150]},\"sepal_length\":{\"__ndarray__\":\"ZmZmZmZmFECamZmZmZkTQM3MzMzMzBJAZmZmZmZmEkAAAAAAAAAUQJqZmZmZmRVAZmZmZmZmEkAAAAAAAAAUQJqZmZmZmRFAmpmZmZmZE0CamZmZmZkVQDMzMzMzMxNAMzMzMzMzE0AzMzMzMzMRQDMzMzMzMxdAzczMzMzMFkCamZmZmZkVQGZmZmZmZhRAzczMzMzMFkBmZmZmZmYUQJqZmZmZmRVAZmZmZmZmFEBmZmZmZmYSQGZmZmZmZhRAMzMzMzMzE0AAAAAAAAAUQAAAAAAAABRAzczMzMzMFEDNzMzMzMwUQM3MzMzMzBJAMzMzMzMzE0CamZmZmZkVQM3MzMzMzBRAAAAAAAAAFkCamZmZmZkTQAAAAAAAABRAAAAAAAAAFkCamZmZmZkTQJqZmZmZmRFAZmZmZmZmFEAAAAAAAAAUQAAAAAAAABJAmpmZmZmZEUAAAAAAAAAUQGZmZmZmZhRAMzMzMzMzE0BmZmZmZmYUQGZmZmZmZhJAMzMzMzMzFUAAAAAAAAAUQAAAAAAAABxAmpmZmZmZGUCamZmZmZkbQAAAAAAAABZAAAAAAAAAGkDNzMzMzMwWQDMzMzMzMxlAmpmZmZmZE0BmZmZmZmYaQM3MzMzMzBRAAAAAAAAAFECamZmZmZkXQAAAAAAAABhAZmZmZmZmGEBmZmZmZmYWQM3MzMzMzBpAZmZmZmZmFkAzMzMzMzMXQM3MzMzMzBhAZmZmZmZmFkCamZmZmZkXQGZmZmZmZhhAMzMzMzMzGUBmZmZmZmYYQJqZmZmZmRlAZmZmZmZmGkAzMzMzMzMbQM3MzMzMzBpAAAAAAAAAGEDNzMzMzMwWQAAAAAAAABZAAAAAAAAAFkAzMzMzMzMXQAAAAAAAABhAmpmZmZmZFUAAAAAAAAAYQM3MzMzMzBpAMzMzMzMzGUBmZmZmZmYWQAAAAAAAABZAAAAAAAAAFkBmZmZmZmYYQDMzMzMzMxdAAAAAAAAAFEBmZmZmZmYWQM3MzMzMzBZAzczMzMzMFkDNzMzMzMwYQGZmZmZmZhRAzczMzMzMFkAzMzMzMzMZQDMzMzMzMxdAZmZmZmZmHEAzMzMzMzMZQAAAAAAAABpAZmZmZmZmHkCamZmZmZkTQDMzMzMzMx1AzczMzMzMGkDNzMzMzMwcQAAAAAAAABpAmpmZmZmZGUAzMzMzMzMbQM3MzMzMzBZAMzMzMzMzF0CamZmZmZkZQAAAAAAAABpAzczMzMzMHkDNzMzMzMweQAAAAAAAABhAmpmZmZmZG0BmZmZmZmYWQM3MzMzMzB5AMzMzMzMzGUDNzMzMzMwaQM3MzMzMzBxAzczMzMzMGEBmZmZmZmYYQJqZmZmZmRlAzczMzMzMHECamZmZmZkdQJqZmZmZmR9AmpmZmZmZGUAzMzMzMzMZQGZmZmZmZhhAzczMzMzMHkAzMzMzMzMZQJqZmZmZmRlAAAAAAAAAGECamZmZmZkbQM3MzMzMzBpAmpmZmZmZG0AzMzMzMzMXQDMzMzMzMxtAzczMzMzMGkDNzMzMzMwaQDMzMzMzMxlAAAAAAAAAGkDNzMzMzMwYQJqZmZmZmRdA\",\"dtype\":\"float64\",\"order\":\"little\",\"shape\":[150]},\"sepal_width\":{\"__ndarray__\":\"AAAAAAAADEAAAAAAAAAIQJqZmZmZmQlAzczMzMzMCEDNzMzMzMwMQDMzMzMzMw9AMzMzMzMzC0AzMzMzMzMLQDMzMzMzMwdAzczMzMzMCECamZmZmZkNQDMzMzMzMwtAAAAAAAAACEAAAAAAAAAIQAAAAAAAABBAmpmZmZmZEUAzMzMzMzMPQAAAAAAAAAxAZmZmZmZmDkBmZmZmZmYOQDMzMzMzMwtAmpmZmZmZDUDNzMzMzMwMQGZmZmZmZgpAMzMzMzMzC0AAAAAAAAAIQDMzMzMzMwtAAAAAAAAADEAzMzMzMzMLQJqZmZmZmQlAzczMzMzMCEAzMzMzMzMLQGZmZmZmZhBAzczMzMzMEEDNzMzMzMwIQJqZmZmZmQlAAAAAAAAADEDNzMzMzMwMQAAAAAAAAAhAMzMzMzMzC0AAAAAAAAAMQGZmZmZmZgJAmpmZmZmZCUAAAAAAAAAMQGZmZmZmZg5AAAAAAAAACEBmZmZmZmYOQJqZmZmZmQlAmpmZmZmZDUBmZmZmZmYKQJqZmZmZmQlAmpmZmZmZCUDNzMzMzMwIQGZmZmZmZgJAZmZmZmZmBkBmZmZmZmYGQGZmZmZmZgpAMzMzMzMzA0AzMzMzMzMHQJqZmZmZmQVAAAAAAAAAAEAAAAAAAAAIQJqZmZmZmQFAMzMzMzMzB0AzMzMzMzMHQM3MzMzMzAhAAAAAAAAACECamZmZmZkFQJqZmZmZmQFAAAAAAAAABECamZmZmZkJQGZmZmZmZgZAAAAAAAAABEBmZmZmZmYGQDMzMzMzMwdAAAAAAAAACEBmZmZmZmYGQAAAAAAAAAhAMzMzMzMzB0DNzMzMzMwEQDMzMzMzMwNAMzMzMzMzA0CamZmZmZkFQJqZmZmZmQVAAAAAAAAACEAzMzMzMzMLQM3MzMzMzAhAZmZmZmZmAkAAAAAAAAAIQAAAAAAAAARAzczMzMzMBEAAAAAAAAAIQM3MzMzMzARAZmZmZmZmAkCamZmZmZkFQAAAAAAAAAhAMzMzMzMzB0AzMzMzMzMHQAAAAAAAAARAZmZmZmZmBkBmZmZmZmYKQJqZmZmZmQVAAAAAAAAACEAzMzMzMzMHQAAAAAAAAAhAAAAAAAAACEAAAAAAAAAEQDMzMzMzMwdAAAAAAAAABEDNzMzMzMwMQJqZmZmZmQlAmpmZmZmZBUAAAAAAAAAIQAAAAAAAAARAZmZmZmZmBkCamZmZmZkJQAAAAAAAAAhAZmZmZmZmDkDNzMzMzMwEQJqZmZmZmQFAmpmZmZmZCUBmZmZmZmYGQGZmZmZmZgZAmpmZmZmZBUBmZmZmZmYKQJqZmZmZmQlAZmZmZmZmBkAAAAAAAAAIQGZmZmZmZgZAAAAAAAAACEBmZmZmZmYGQGZmZmZmZg5AZmZmZmZmBkBmZmZmZmYGQM3MzMzMzARAAAAAAAAACEAzMzMzMzMLQM3MzMzMzAhAAAAAAAAACEDNzMzMzMwIQM3MzMzMzAhAzczMzMzMCECamZmZmZkFQJqZmZmZmQlAZmZmZmZmCkAAAAAAAAAIQAAAAAAAAARAAAAAAAAACEAzMzMzMzMLQAAAAAAAAAhA\",\"dtype\":\"float64\",\"order\":\"little\",\"shape\":[150]},\"species\":[\"setosa\",\"setosa\",\"setosa\",\"setosa\",\"setosa\",\"setosa\",\"setosa\",\"setosa\",\"setosa\",\"setosa\",\"setosa\",\"setosa\",\"setosa\",\"setosa\",\"setosa\",\"setosa\",\"setosa\",\"setosa\",\"setosa\",\"setosa\",\"setosa\",\"setosa\",\"setosa\",\"setosa\",\"setosa\",\"setosa\",\"setosa\",\"setosa\",\"setosa\",\"setosa\",\"setosa\",\"setosa\",\"setosa\",\"setosa\",\"setosa\",\"setosa\",\"setosa\",\"setosa\",\"setosa\",\"setosa\",\"setosa\",\"setosa\",\"setosa\",\"setosa\",\"setosa\",\"setosa\",\"setosa\",\"setosa\",\"setosa\",\"setosa\",\"versicolor\",\"versicolor\",\"versicolor\",\"versicolor\",\"versicolor\",\"versicolor\",\"versicolor\",\"versicolor\",\"versicolor\",\"versicolor\",\"versicolor\",\"versicolor\",\"versicolor\",\"versicolor\",\"versicolor\",\"versicolor\",\"versicolor\",\"versicolor\",\"versicolor\",\"versicolor\",\"versicolor\",\"versicolor\",\"versicolor\",\"versicolor\",\"versicolor\",\"versicolor\",\"versicolor\",\"versicolor\",\"versicolor\",\"versicolor\",\"versicolor\",\"versicolor\",\"versicolor\",\"versicolor\",\"versicolor\",\"versicolor\",\"versicolor\",\"versicolor\",\"versicolor\",\"versicolor\",\"versicolor\",\"versicolor\",\"versicolor\",\"versicolor\",\"versicolor\",\"versicolor\",\"versicolor\",\"versicolor\",\"versicolor\",\"versicolor\",\"virginica\",\"virginica\",\"virginica\",\"virginica\",\"virginica\",\"virginica\",\"virginica\",\"virginica\",\"virginica\",\"virginica\",\"virginica\",\"virginica\",\"virginica\",\"virginica\",\"virginica\",\"virginica\",\"virginica\",\"virginica\",\"virginica\",\"virginica\",\"virginica\",\"virginica\",\"virginica\",\"virginica\",\"virginica\",\"virginica\",\"virginica\",\"virginica\",\"virginica\",\"virginica\",\"virginica\",\"virginica\",\"virginica\",\"virginica\",\"virginica\",\"virginica\",\"virginica\",\"virginica\",\"virginica\",\"virginica\",\"virginica\",\"virginica\",\"virginica\",\"virginica\",\"virginica\",\"virginica\",\"virginica\",\"virginica\",\"virginica\",\"virginica\"]},\"selected\":{\"id\":\"18829\"},\"selection_policy\":{\"id\":\"18828\"}},\"id\":\"18782\",\"type\":\"ColumnDataSource\"},{\"attributes\":{},\"id\":\"18805\",\"type\":\"ResetTool\"},{\"attributes\":{},\"id\":\"18804\",\"type\":\"SaveTool\"},{\"attributes\":{\"axis\":{\"id\":\"18793\"},\"ticker\":null},\"id\":\"18796\",\"type\":\"Grid\"},{\"attributes\":{},\"id\":\"18825\",\"type\":\"BasicTickFormatter\"},{\"attributes\":{},\"id\":\"18826\",\"type\":\"AllLabels\"},{\"attributes\":{},\"id\":\"18802\",\"type\":\"WheelZoomTool\"},{\"attributes\":{\"overlay\":{\"id\":\"18807\"}},\"id\":\"18803\",\"type\":\"BoxZoomTool\"},{\"attributes\":{},\"id\":\"18794\",\"type\":\"BasicTicker\"},{\"attributes\":{},\"id\":\"18787\",\"type\":\"DataRange1d\"},{\"attributes\":{\"fill_color\":{\"field\":\"species\",\"transform\":{\"id\":\"18783\"}},\"line_color\":{\"field\":\"species\",\"transform\":{\"id\":\"18783\"}},\"size\":{\"value\":10},\"x\":{\"field\":\"petal_length\"},\"y\":{\"field\":\"sepal_length\"}},\"id\":\"18816\",\"type\":\"Circle\"},{\"attributes\":{},\"id\":\"18791\",\"type\":\"LinearScale\"},{\"attributes\":{\"label\":{\"field\":\"species\"},\"renderers\":[{\"id\":\"18818\"}]},\"id\":\"18832\",\"type\":\"LegendItem\"},{\"attributes\":{\"formatter\":{\"id\":\"18825\"},\"major_label_policy\":{\"id\":\"18826\"},\"ticker\":{\"id\":\"18794\"}},\"id\":\"18793\",\"type\":\"LinearAxis\"},{\"attributes\":{},\"id\":\"18828\",\"type\":\"UnionRenderers\"},{\"attributes\":{\"axis\":{\"id\":\"18797\"},\"dimension\":1,\"ticker\":null},\"id\":\"18800\",\"type\":\"Grid\"}],\"root_ids\":[\"18784\"]},\"title\":\"Bokeh Application\",\"version\":\"2.3.0\"}};\n",
       "  var render_items = [{\"docid\":\"6833122d-713e-4dd7-9ef5-69aee3fb2249\",\"root_ids\":[\"18784\"],\"roots\":{\"18784\":\"da2076cd-2b20-4d9a-ac42-59c51f942d61\"}}];\n",
       "  root.Bokeh.embed.embed_items_notebook(docs_json, render_items);\n",
       "\n",
       "  }\n",
       "  if (root.Bokeh !== undefined) {\n",
       "    embed_document(root);\n",
       "  } else {\n",
       "    var attempts = 0;\n",
       "    var timer = setInterval(function(root) {\n",
       "      if (root.Bokeh !== undefined) {\n",
       "        clearInterval(timer);\n",
       "        embed_document(root);\n",
       "      } else {\n",
       "        attempts++;\n",
       "        if (attempts > 100) {\n",
       "          clearInterval(timer);\n",
       "          console.log(\"Bokeh: ERROR: Unable to run BokehJS code because BokehJS library is missing\");\n",
       "        }\n",
       "      }\n",
       "    }, 10, root)\n",
       "  }\n",
       "})(window);"
      ],
      "application/vnd.bokehjs_exec.v0+json": ""
     },
     "metadata": {
      "application/vnd.bokehjs_exec.v0+json": {
       "id": "18784"
      }
     },
     "output_type": "display_data"
    }
   ],
   "source": [
    "source = ColumnDataSource(iris_df)\n",
    "mapper = CategoricalColorMapper( factors=['setosa', 'virginica', 'versicolor'], palette=['red', 'green', 'blue'])\n",
    "plot = figure(plot_height=400, plot_width=400)\n",
    "plot.circle('petal_length', 'sepal_length', size=10, source=source,\n",
    "            color={'field': 'species', 'transform': mapper}, legend_field='species')\n",
    "plot.legend.location = 'top_left'\n",
    "show(plot)"
   ]
  },
  {
   "cell_type": "markdown",
   "metadata": {},
   "source": [
    "**Hover Tooltips**"
   ]
  },
  {
   "cell_type": "code",
   "execution_count": 62,
   "metadata": {},
   "outputs": [
    {
     "data": {
      "text/html": [
       "\n",
       "\n",
       "\n",
       "\n",
       "\n",
       "\n",
       "  <div class=\"bk-root\" id=\"3befa283-bd9c-4da0-ac9c-0bd272d86245\" data-root-id=\"19564\"></div>\n"
      ]
     },
     "metadata": {},
     "output_type": "display_data"
    },
    {
     "data": {
      "application/javascript": [
       "(function(root) {\n",
       "  function embed_document(root) {\n",
       "    \n",
       "  var docs_json = {\"916aa1de-9a65-43a5-9551-53ec55ccdd6c\":{\"defs\":[{\"extends\":null,\"module\":null,\"name\":\"DataModel\",\"overrides\":[],\"properties\":[]}],\"roots\":{\"references\":[{\"attributes\":{\"below\":[{\"id\":\"19573\"}],\"center\":[{\"id\":\"19576\"},{\"id\":\"19580\"},{\"id\":\"19602\"}],\"height\":400,\"left\":[{\"id\":\"19577\"}],\"renderers\":[{\"id\":\"19590\"}],\"title\":{\"id\":\"19592\"},\"toolbar\":{\"id\":\"19583\"},\"width\":400,\"x_range\":{\"id\":\"19565\"},\"x_scale\":{\"id\":\"19569\"},\"y_range\":{\"id\":\"19567\"},\"y_scale\":{\"id\":\"19571\"}},\"id\":\"19564\",\"subtype\":\"Figure\",\"type\":\"Plot\"},{\"attributes\":{},\"id\":\"19569\",\"type\":\"LinearScale\"},{\"attributes\":{},\"id\":\"19567\",\"type\":\"DataRange1d\"},{\"attributes\":{\"formatter\":{\"id\":\"19597\"},\"major_label_policy\":{\"id\":\"19598\"},\"ticker\":{\"id\":\"19574\"}},\"id\":\"19573\",\"type\":\"LinearAxis\"},{\"attributes\":{},\"id\":\"19571\",\"type\":\"LinearScale\"},{\"attributes\":{},\"id\":\"18829\",\"type\":\"Selection\"},{\"attributes\":{\"active_multi\":null,\"tools\":[{\"id\":\"19563\"},{\"id\":\"19581\"},{\"id\":\"19582\"}]},\"id\":\"19583\",\"type\":\"Toolbar\"},{\"attributes\":{},\"id\":\"19594\",\"type\":\"BasicTickFormatter\"},{\"attributes\":{},\"id\":\"19581\",\"type\":\"PanTool\"},{\"attributes\":{\"factors\":[\"setosa\",\"virginica\",\"versicolor\"],\"palette\":[\"red\",\"green\",\"blue\"]},\"id\":\"18783\",\"type\":\"CategoricalColorMapper\"},{\"attributes\":{\"fill_alpha\":{\"value\":0.1},\"fill_color\":{\"field\":\"species\",\"transform\":{\"id\":\"18783\"}},\"line_alpha\":{\"value\":0.1},\"line_color\":{\"field\":\"species\",\"transform\":{\"id\":\"18783\"}},\"size\":{\"value\":10},\"x\":{\"field\":\"petal_length\"},\"y\":{\"field\":\"sepal_length\"}},\"id\":\"19589\",\"type\":\"Circle\"},{\"attributes\":{},\"id\":\"19595\",\"type\":\"AllLabels\"},{\"attributes\":{\"axis\":{\"id\":\"19573\"},\"ticker\":null},\"id\":\"19576\",\"type\":\"Grid\"},{\"attributes\":{\"callback\":null,\"tooltips\":[[\"species name\",\"@species\"],[\"petal length\",\"@petal_length\"],[\"sepal length\",\"@sepal_length\"]]},\"id\":\"19563\",\"type\":\"HoverTool\"},{\"attributes\":{\"label\":{\"field\":\"species\"},\"renderers\":[{\"id\":\"19590\"}]},\"id\":\"19603\",\"type\":\"LegendItem\"},{\"attributes\":{\"data\":{\"index\":[0,1,2,3,4,5,6,7,8,9,10,11,12,13,14,15,16,17,18,19,20,21,22,23,24,25,26,27,28,29,30,31,32,33,34,35,36,37,38,39,40,41,42,43,44,45,46,47,48,49,50,51,52,53,54,55,56,57,58,59,60,61,62,63,64,65,66,67,68,69,70,71,72,73,74,75,76,77,78,79,80,81,82,83,84,85,86,87,88,89,90,91,92,93,94,95,96,97,98,99,100,101,102,103,104,105,106,107,108,109,110,111,112,113,114,115,116,117,118,119,120,121,122,123,124,125,126,127,128,129,130,131,132,133,134,135,136,137,138,139,140,141,142,143,144,145,146,147,148,149],\"petal_length\":{\"__ndarray__\":\"ZmZmZmZm9j9mZmZmZmb2P83MzMzMzPQ/AAAAAAAA+D9mZmZmZmb2PzMzMzMzM/s/ZmZmZmZm9j8AAAAAAAD4P2ZmZmZmZvY/AAAAAAAA+D8AAAAAAAD4P5qZmZmZmfk/ZmZmZmZm9j+amZmZmZnxPzMzMzMzM/M/AAAAAAAA+D/NzMzMzMz0P2ZmZmZmZvY/MzMzMzMz+z8AAAAAAAD4PzMzMzMzM/s/AAAAAAAA+D8AAAAAAADwPzMzMzMzM/s/ZmZmZmZm/j+amZmZmZn5P5qZmZmZmfk/AAAAAAAA+D9mZmZmZmb2P5qZmZmZmfk/mpmZmZmZ+T8AAAAAAAD4PwAAAAAAAPg/ZmZmZmZm9j8AAAAAAAD4PzMzMzMzM/M/zczMzMzM9D9mZmZmZmb2P83MzMzMzPQ/AAAAAAAA+D/NzMzMzMz0P83MzMzMzPQ/zczMzMzM9D+amZmZmZn5P2ZmZmZmZv4/ZmZmZmZm9j+amZmZmZn5P2ZmZmZmZvY/AAAAAAAA+D9mZmZmZmb2P83MzMzMzBJAAAAAAAAAEkCamZmZmZkTQAAAAAAAABBAZmZmZmZmEkAAAAAAAAASQM3MzMzMzBJAZmZmZmZmCkBmZmZmZmYSQDMzMzMzMw9AAAAAAAAADEDNzMzMzMwQQAAAAAAAABBAzczMzMzMEkDNzMzMzMwMQJqZmZmZmRFAAAAAAAAAEkBmZmZmZmYQQAAAAAAAABJAMzMzMzMzD0AzMzMzMzMTQAAAAAAAABBAmpmZmZmZE0DNzMzMzMwSQDMzMzMzMxFAmpmZmZmZEUAzMzMzMzMTQAAAAAAAABRAAAAAAAAAEkAAAAAAAAAMQGZmZmZmZg5AmpmZmZmZDUAzMzMzMzMPQGZmZmZmZhRAAAAAAAAAEkAAAAAAAAASQM3MzMzMzBJAmpmZmZmZEUBmZmZmZmYQQAAAAAAAABBAmpmZmZmZEUBmZmZmZmYSQAAAAAAAABBAZmZmZmZmCkDNzMzMzMwQQM3MzMzMzBBAzczMzMzMEEAzMzMzMzMRQAAAAAAAAAhAZmZmZmZmEEAAAAAAAAAYQGZmZmZmZhRAmpmZmZmZF0BmZmZmZmYWQDMzMzMzMxdAZmZmZmZmGkAAAAAAAAASQDMzMzMzMxlAMzMzMzMzF0BmZmZmZmYYQGZmZmZmZhRAMzMzMzMzFUAAAAAAAAAWQAAAAAAAABRAZmZmZmZmFEAzMzMzMzMVQAAAAAAAABZAzczMzMzMGkCamZmZmZkbQAAAAAAAABRAzczMzMzMFkCamZmZmZkTQM3MzMzMzBpAmpmZmZmZE0DNzMzMzMwWQAAAAAAAABhAMzMzMzMzE0CamZmZmZkTQGZmZmZmZhZAMzMzMzMzF0BmZmZmZmYYQJqZmZmZmRlAZmZmZmZmFkBmZmZmZmYUQGZmZmZmZhZAZmZmZmZmGEBmZmZmZmYWQAAAAAAAABZAMzMzMzMzE0CamZmZmZkVQGZmZmZmZhZAZmZmZmZmFEBmZmZmZmYUQJqZmZmZmRdAzczMzMzMFkDNzMzMzMwUQAAAAAAAABRAzczMzMzMFECamZmZmZkVQGZmZmZmZhRA\",\"dtype\":\"float64\",\"order\":\"little\",\"shape\":[150]},\"petal_width\":{\"__ndarray__\":\"mpmZmZmZyT+amZmZmZnJP5qZmZmZmck/mpmZmZmZyT+amZmZmZnJP5qZmZmZmdk/MzMzMzMz0z+amZmZmZnJP5qZmZmZmck/mpmZmZmZuT+amZmZmZnJP5qZmZmZmck/mpmZmZmZuT+amZmZmZm5P5qZmZmZmck/mpmZmZmZ2T+amZmZmZnZPzMzMzMzM9M/MzMzMzMz0z8zMzMzMzPTP5qZmZmZmck/mpmZmZmZ2T+amZmZmZnJPwAAAAAAAOA/mpmZmZmZyT+amZmZmZnJP5qZmZmZmdk/mpmZmZmZyT+amZmZmZnJP5qZmZmZmck/mpmZmZmZyT+amZmZmZnZP5qZmZmZmbk/mpmZmZmZyT+amZmZmZnJP5qZmZmZmck/mpmZmZmZyT+amZmZmZm5P5qZmZmZmck/mpmZmZmZyT8zMzMzMzPTPzMzMzMzM9M/mpmZmZmZyT8zMzMzMzPjP5qZmZmZmdk/MzMzMzMz0z+amZmZmZnJP5qZmZmZmck/mpmZmZmZyT+amZmZmZnJP2ZmZmZmZvY/AAAAAAAA+D8AAAAAAAD4P83MzMzMzPQ/AAAAAAAA+D/NzMzMzMz0P5qZmZmZmfk/AAAAAAAA8D/NzMzMzMz0P2ZmZmZmZvY/AAAAAAAA8D8AAAAAAAD4PwAAAAAAAPA/ZmZmZmZm9j/NzMzMzMz0P2ZmZmZmZvY/AAAAAAAA+D8AAAAAAADwPwAAAAAAAPg/mpmZmZmZ8T/NzMzMzMz8P83MzMzMzPQ/AAAAAAAA+D8zMzMzMzPzP83MzMzMzPQ/ZmZmZmZm9j9mZmZmZmb2PzMzMzMzM/s/AAAAAAAA+D8AAAAAAADwP5qZmZmZmfE/AAAAAAAA8D8zMzMzMzPzP5qZmZmZmfk/AAAAAAAA+D+amZmZmZn5PwAAAAAAAPg/zczMzMzM9D/NzMzMzMz0P83MzMzMzPQ/MzMzMzMz8z9mZmZmZmb2PzMzMzMzM/M/AAAAAAAA8D/NzMzMzMz0PzMzMzMzM/M/zczMzMzM9D/NzMzMzMz0P5qZmZmZmfE/zczMzMzM9D8AAAAAAAAEQGZmZmZmZv4/zczMzMzMAEDNzMzMzMz8P5qZmZmZmQFAzczMzMzMAEAzMzMzMzP7P83MzMzMzPw/zczMzMzM/D8AAAAAAAAEQAAAAAAAAABAZmZmZmZm/j/NzMzMzMwAQAAAAAAAAABAMzMzMzMzA0BmZmZmZmYCQM3MzMzMzPw/mpmZmZmZAUBmZmZmZmYCQAAAAAAAAPg/ZmZmZmZmAkAAAAAAAAAAQAAAAAAAAABAzczMzMzM/D/NzMzMzMwAQM3MzMzMzPw/zczMzMzM/D/NzMzMzMz8P83MzMzMzABAmpmZmZmZ+T9mZmZmZmb+PwAAAAAAAABAmpmZmZmZAUAAAAAAAAD4P2ZmZmZmZvY/ZmZmZmZmAkAzMzMzMzMDQM3MzMzMzPw/zczMzMzM/D/NzMzMzMwAQDMzMzMzMwNAZmZmZmZmAkBmZmZmZmb+P2ZmZmZmZgJAAAAAAAAABEBmZmZmZmYCQGZmZmZmZv4/AAAAAAAAAEBmZmZmZmYCQM3MzMzMzPw/\",\"dtype\":\"float64\",\"order\":\"little\",\"shape\":[150]},\"sepal_length\":{\"__ndarray__\":\"ZmZmZmZmFECamZmZmZkTQM3MzMzMzBJAZmZmZmZmEkAAAAAAAAAUQJqZmZmZmRVAZmZmZmZmEkAAAAAAAAAUQJqZmZmZmRFAmpmZmZmZE0CamZmZmZkVQDMzMzMzMxNAMzMzMzMzE0AzMzMzMzMRQDMzMzMzMxdAzczMzMzMFkCamZmZmZkVQGZmZmZmZhRAzczMzMzMFkBmZmZmZmYUQJqZmZmZmRVAZmZmZmZmFEBmZmZmZmYSQGZmZmZmZhRAMzMzMzMzE0AAAAAAAAAUQAAAAAAAABRAzczMzMzMFEDNzMzMzMwUQM3MzMzMzBJAMzMzMzMzE0CamZmZmZkVQM3MzMzMzBRAAAAAAAAAFkCamZmZmZkTQAAAAAAAABRAAAAAAAAAFkCamZmZmZkTQJqZmZmZmRFAZmZmZmZmFEAAAAAAAAAUQAAAAAAAABJAmpmZmZmZEUAAAAAAAAAUQGZmZmZmZhRAMzMzMzMzE0BmZmZmZmYUQGZmZmZmZhJAMzMzMzMzFUAAAAAAAAAUQAAAAAAAABxAmpmZmZmZGUCamZmZmZkbQAAAAAAAABZAAAAAAAAAGkDNzMzMzMwWQDMzMzMzMxlAmpmZmZmZE0BmZmZmZmYaQM3MzMzMzBRAAAAAAAAAFECamZmZmZkXQAAAAAAAABhAZmZmZmZmGEBmZmZmZmYWQM3MzMzMzBpAZmZmZmZmFkAzMzMzMzMXQM3MzMzMzBhAZmZmZmZmFkCamZmZmZkXQGZmZmZmZhhAMzMzMzMzGUBmZmZmZmYYQJqZmZmZmRlAZmZmZmZmGkAzMzMzMzMbQM3MzMzMzBpAAAAAAAAAGEDNzMzMzMwWQAAAAAAAABZAAAAAAAAAFkAzMzMzMzMXQAAAAAAAABhAmpmZmZmZFUAAAAAAAAAYQM3MzMzMzBpAMzMzMzMzGUBmZmZmZmYWQAAAAAAAABZAAAAAAAAAFkBmZmZmZmYYQDMzMzMzMxdAAAAAAAAAFEBmZmZmZmYWQM3MzMzMzBZAzczMzMzMFkDNzMzMzMwYQGZmZmZmZhRAzczMzMzMFkAzMzMzMzMZQDMzMzMzMxdAZmZmZmZmHEAzMzMzMzMZQAAAAAAAABpAZmZmZmZmHkCamZmZmZkTQDMzMzMzMx1AzczMzMzMGkDNzMzMzMwcQAAAAAAAABpAmpmZmZmZGUAzMzMzMzMbQM3MzMzMzBZAMzMzMzMzF0CamZmZmZkZQAAAAAAAABpAzczMzMzMHkDNzMzMzMweQAAAAAAAABhAmpmZmZmZG0BmZmZmZmYWQM3MzMzMzB5AMzMzMzMzGUDNzMzMzMwaQM3MzMzMzBxAzczMzMzMGEBmZmZmZmYYQJqZmZmZmRlAzczMzMzMHECamZmZmZkdQJqZmZmZmR9AmpmZmZmZGUAzMzMzMzMZQGZmZmZmZhhAzczMzMzMHkAzMzMzMzMZQJqZmZmZmRlAAAAAAAAAGECamZmZmZkbQM3MzMzMzBpAmpmZmZmZG0AzMzMzMzMXQDMzMzMzMxtAzczMzMzMGkDNzMzMzMwaQDMzMzMzMxlAAAAAAAAAGkDNzMzMzMwYQJqZmZmZmRdA\",\"dtype\":\"float64\",\"order\":\"little\",\"shape\":[150]},\"sepal_width\":{\"__ndarray__\":\"AAAAAAAADEAAAAAAAAAIQJqZmZmZmQlAzczMzMzMCEDNzMzMzMwMQDMzMzMzMw9AMzMzMzMzC0AzMzMzMzMLQDMzMzMzMwdAzczMzMzMCECamZmZmZkNQDMzMzMzMwtAAAAAAAAACEAAAAAAAAAIQAAAAAAAABBAmpmZmZmZEUAzMzMzMzMPQAAAAAAAAAxAZmZmZmZmDkBmZmZmZmYOQDMzMzMzMwtAmpmZmZmZDUDNzMzMzMwMQGZmZmZmZgpAMzMzMzMzC0AAAAAAAAAIQDMzMzMzMwtAAAAAAAAADEAzMzMzMzMLQJqZmZmZmQlAzczMzMzMCEAzMzMzMzMLQGZmZmZmZhBAzczMzMzMEEDNzMzMzMwIQJqZmZmZmQlAAAAAAAAADEDNzMzMzMwMQAAAAAAAAAhAMzMzMzMzC0AAAAAAAAAMQGZmZmZmZgJAmpmZmZmZCUAAAAAAAAAMQGZmZmZmZg5AAAAAAAAACEBmZmZmZmYOQJqZmZmZmQlAmpmZmZmZDUBmZmZmZmYKQJqZmZmZmQlAmpmZmZmZCUDNzMzMzMwIQGZmZmZmZgJAZmZmZmZmBkBmZmZmZmYGQGZmZmZmZgpAMzMzMzMzA0AzMzMzMzMHQJqZmZmZmQVAAAAAAAAAAEAAAAAAAAAIQJqZmZmZmQFAMzMzMzMzB0AzMzMzMzMHQM3MzMzMzAhAAAAAAAAACECamZmZmZkFQJqZmZmZmQFAAAAAAAAABECamZmZmZkJQGZmZmZmZgZAAAAAAAAABEBmZmZmZmYGQDMzMzMzMwdAAAAAAAAACEBmZmZmZmYGQAAAAAAAAAhAMzMzMzMzB0DNzMzMzMwEQDMzMzMzMwNAMzMzMzMzA0CamZmZmZkFQJqZmZmZmQVAAAAAAAAACEAzMzMzMzMLQM3MzMzMzAhAZmZmZmZmAkAAAAAAAAAIQAAAAAAAAARAzczMzMzMBEAAAAAAAAAIQM3MzMzMzARAZmZmZmZmAkCamZmZmZkFQAAAAAAAAAhAMzMzMzMzB0AzMzMzMzMHQAAAAAAAAARAZmZmZmZmBkBmZmZmZmYKQJqZmZmZmQVAAAAAAAAACEAzMzMzMzMHQAAAAAAAAAhAAAAAAAAACEAAAAAAAAAEQDMzMzMzMwdAAAAAAAAABEDNzMzMzMwMQJqZmZmZmQlAmpmZmZmZBUAAAAAAAAAIQAAAAAAAAARAZmZmZmZmBkCamZmZmZkJQAAAAAAAAAhAZmZmZmZmDkDNzMzMzMwEQJqZmZmZmQFAmpmZmZmZCUBmZmZmZmYGQGZmZmZmZgZAmpmZmZmZBUBmZmZmZmYKQJqZmZmZmQlAZmZmZmZmBkAAAAAAAAAIQGZmZmZmZgZAAAAAAAAACEBmZmZmZmYGQGZmZmZmZg5AZmZmZmZmBkBmZmZmZmYGQM3MzMzMzARAAAAAAAAACEAzMzMzMzMLQM3MzMzMzAhAAAAAAAAACEDNzMzMzMwIQM3MzMzMzAhAzczMzMzMCECamZmZmZkFQJqZmZmZmQlAZmZmZmZmCkAAAAAAAAAIQAAAAAAAAARAAAAAAAAACEAzMzMzMzMLQAAAAAAAAAhA\",\"dtype\":\"float64\",\"order\":\"little\",\"shape\":[150]},\"species\":[\"setosa\",\"setosa\",\"setosa\",\"setosa\",\"setosa\",\"setosa\",\"setosa\",\"setosa\",\"setosa\",\"setosa\",\"setosa\",\"setosa\",\"setosa\",\"setosa\",\"setosa\",\"setosa\",\"setosa\",\"setosa\",\"setosa\",\"setosa\",\"setosa\",\"setosa\",\"setosa\",\"setosa\",\"setosa\",\"setosa\",\"setosa\",\"setosa\",\"setosa\",\"setosa\",\"setosa\",\"setosa\",\"setosa\",\"setosa\",\"setosa\",\"setosa\",\"setosa\",\"setosa\",\"setosa\",\"setosa\",\"setosa\",\"setosa\",\"setosa\",\"setosa\",\"setosa\",\"setosa\",\"setosa\",\"setosa\",\"setosa\",\"setosa\",\"versicolor\",\"versicolor\",\"versicolor\",\"versicolor\",\"versicolor\",\"versicolor\",\"versicolor\",\"versicolor\",\"versicolor\",\"versicolor\",\"versicolor\",\"versicolor\",\"versicolor\",\"versicolor\",\"versicolor\",\"versicolor\",\"versicolor\",\"versicolor\",\"versicolor\",\"versicolor\",\"versicolor\",\"versicolor\",\"versicolor\",\"versicolor\",\"versicolor\",\"versicolor\",\"versicolor\",\"versicolor\",\"versicolor\",\"versicolor\",\"versicolor\",\"versicolor\",\"versicolor\",\"versicolor\",\"versicolor\",\"versicolor\",\"versicolor\",\"versicolor\",\"versicolor\",\"versicolor\",\"versicolor\",\"versicolor\",\"versicolor\",\"versicolor\",\"versicolor\",\"versicolor\",\"versicolor\",\"versicolor\",\"versicolor\",\"versicolor\",\"virginica\",\"virginica\",\"virginica\",\"virginica\",\"virginica\",\"virginica\",\"virginica\",\"virginica\",\"virginica\",\"virginica\",\"virginica\",\"virginica\",\"virginica\",\"virginica\",\"virginica\",\"virginica\",\"virginica\",\"virginica\",\"virginica\",\"virginica\",\"virginica\",\"virginica\",\"virginica\",\"virginica\",\"virginica\",\"virginica\",\"virginica\",\"virginica\",\"virginica\",\"virginica\",\"virginica\",\"virginica\",\"virginica\",\"virginica\",\"virginica\",\"virginica\",\"virginica\",\"virginica\",\"virginica\",\"virginica\",\"virginica\",\"virginica\",\"virginica\",\"virginica\",\"virginica\",\"virginica\",\"virginica\",\"virginica\",\"virginica\",\"virginica\"]},\"selected\":{\"id\":\"18829\"},\"selection_policy\":{\"id\":\"18828\"}},\"id\":\"18782\",\"type\":\"ColumnDataSource\"},{\"attributes\":{\"source\":{\"id\":\"18782\"}},\"id\":\"19591\",\"type\":\"CDSView\"},{\"attributes\":{},\"id\":\"19578\",\"type\":\"BasicTicker\"},{\"attributes\":{\"axis\":{\"id\":\"19577\"},\"dimension\":1,\"ticker\":null},\"id\":\"19580\",\"type\":\"Grid\"},{\"attributes\":{\"fill_color\":{\"field\":\"species\",\"transform\":{\"id\":\"18783\"}},\"line_color\":{\"field\":\"species\",\"transform\":{\"id\":\"18783\"}},\"size\":{\"value\":10},\"x\":{\"field\":\"petal_length\"},\"y\":{\"field\":\"sepal_length\"}},\"id\":\"19588\",\"type\":\"Circle\"},{\"attributes\":{},\"id\":\"19582\",\"type\":\"WheelZoomTool\"},{\"attributes\":{\"data_source\":{\"id\":\"18782\"},\"glyph\":{\"id\":\"19588\"},\"hover_glyph\":null,\"muted_glyph\":null,\"nonselection_glyph\":{\"id\":\"19589\"},\"view\":{\"id\":\"19591\"}},\"id\":\"19590\",\"type\":\"GlyphRenderer\"},{\"attributes\":{},\"id\":\"19597\",\"type\":\"BasicTickFormatter\"},{\"attributes\":{\"items\":[{\"id\":\"19603\"}],\"location\":\"top_left\"},\"id\":\"19602\",\"type\":\"Legend\"},{\"attributes\":{},\"id\":\"19598\",\"type\":\"AllLabels\"},{\"attributes\":{\"formatter\":{\"id\":\"19594\"},\"major_label_policy\":{\"id\":\"19595\"},\"ticker\":{\"id\":\"19578\"}},\"id\":\"19577\",\"type\":\"LinearAxis\"},{\"attributes\":{},\"id\":\"19574\",\"type\":\"BasicTicker\"},{\"attributes\":{},\"id\":\"18828\",\"type\":\"UnionRenderers\"},{\"attributes\":{},\"id\":\"19565\",\"type\":\"DataRange1d\"},{\"attributes\":{},\"id\":\"19592\",\"type\":\"Title\"}],\"root_ids\":[\"19564\"]},\"title\":\"Bokeh Application\",\"version\":\"2.3.0\"}};\n",
       "  var render_items = [{\"docid\":\"916aa1de-9a65-43a5-9551-53ec55ccdd6c\",\"root_ids\":[\"19564\"],\"roots\":{\"19564\":\"3befa283-bd9c-4da0-ac9c-0bd272d86245\"}}];\n",
       "  root.Bokeh.embed.embed_items_notebook(docs_json, render_items);\n",
       "\n",
       "  }\n",
       "  if (root.Bokeh !== undefined) {\n",
       "    embed_document(root);\n",
       "  } else {\n",
       "    var attempts = 0;\n",
       "    var timer = setInterval(function(root) {\n",
       "      if (root.Bokeh !== undefined) {\n",
       "        clearInterval(timer);\n",
       "        embed_document(root);\n",
       "      } else {\n",
       "        attempts++;\n",
       "        if (attempts > 100) {\n",
       "          clearInterval(timer);\n",
       "          console.log(\"Bokeh: ERROR: Unable to run BokehJS code because BokehJS library is missing\");\n",
       "        }\n",
       "      }\n",
       "    }, 10, root)\n",
       "  }\n",
       "})(window);"
      ],
      "application/vnd.bokehjs_exec.v0+json": ""
     },
     "metadata": {
      "application/vnd.bokehjs_exec.v0+json": {
       "id": "19564"
      }
     },
     "output_type": "display_data"
    }
   ],
   "source": [
    "hover = HoverTool(tooltips=[('species name', '@species'), ('petal length', '@petal_length'), ('sepal length', '@sepal_length'),])\n",
    "plot = figure(plot_height=400, plot_width=400, tools=[hover, 'pan', 'wheel_zoom'])\n",
    "plot.circle('petal_length', 'sepal_length', size=10, source=source,\n",
    "            color={'field': 'species', 'transform': mapper}, legend_field='species')\n",
    "plot.legend.location = 'top_left'\n",
    "show(plot)"
   ]
  },
  {
   "cell_type": "markdown",
   "metadata": {},
   "source": [
    "### How to create legends\n",
    "\n",
    "Legends can be added to any glyph by using the `legend` keyword argument.\n",
    "\n",
    "In this exercise, you will plot two `circle` glyphs for female literacy vs fertility in Africa and Latin America.\n",
    "\n",
    "Two ColumnDataSources called `latin_america` and `africa` have been provided.\n",
    "\n",
    "Your job is to plot two `circle` glyphs for these two objects with `fertility` on the x axis and `female_literacy` on the y axis and add the `legend` values. The figure `p` has been provided for you.\n",
    "\n",
    "**Instructions**\n",
    "\n",
    "* Add a `red` circle glyph to the figure `p` using the `latin_america` ColumnDataSource. Specify a `size` of `10` and `legend` of `Latin America`.\n",
    "* Add a `blue` circle glyph to the figure `p` using the `africa` ColumnDataSource. Specify a `size` of `10` and `legend` of `Africa`."
   ]
  },
  {
   "cell_type": "code",
   "execution_count": 63,
   "metadata": {},
   "outputs": [
    {
     "data": {
      "text/html": [
       "\n",
       "\n",
       "\n",
       "\n",
       "\n",
       "\n",
       "  <div class=\"bk-root\" id=\"971de421-e76f-4fe1-9cdc-9e0d5d2e08ea\" data-root-id=\"20341\"></div>\n"
      ]
     },
     "metadata": {},
     "output_type": "display_data"
    },
    {
     "data": {
      "application/javascript": [
       "(function(root) {\n",
       "  function embed_document(root) {\n",
       "    \n",
       "  var docs_json = {\"8ba92fa0-927f-4238-b469-b7c58e383aed\":{\"defs\":[{\"extends\":null,\"module\":null,\"name\":\"DataModel\",\"overrides\":[],\"properties\":[]}],\"roots\":{\"references\":[{\"attributes\":{\"below\":[{\"id\":\"20352\"}],\"center\":[{\"id\":\"20355\"},{\"id\":\"20359\"},{\"id\":\"20389\"}],\"height\":400,\"left\":[{\"id\":\"20356\"}],\"renderers\":[{\"id\":\"20377\"},{\"id\":\"20394\"}],\"title\":{\"id\":\"20342\"},\"toolbar\":{\"id\":\"20367\"},\"width\":800,\"x_range\":{\"id\":\"20344\"},\"x_scale\":{\"id\":\"20348\"},\"y_range\":{\"id\":\"20346\"},\"y_scale\":{\"id\":\"20350\"}},\"id\":\"20341\",\"subtype\":\"Figure\",\"type\":\"Plot\"},{\"attributes\":{\"axis_label\":\"literacy (% of population)\",\"formatter\":{\"id\":\"20380\"},\"major_label_policy\":{\"id\":\"20381\"},\"ticker\":{\"id\":\"20357\"}},\"id\":\"20356\",\"type\":\"LinearAxis\"},{\"attributes\":{\"axis\":{\"id\":\"20352\"},\"ticker\":null},\"id\":\"20355\",\"type\":\"Grid\"},{\"attributes\":{\"axis_label\":\"fertility (children per women)\",\"formatter\":{\"id\":\"20383\"},\"major_label_policy\":{\"id\":\"20384\"},\"ticker\":{\"id\":\"20353\"}},\"id\":\"20352\",\"type\":\"LinearAxis\"},{\"attributes\":{},\"id\":\"20353\",\"type\":\"BasicTicker\"},{\"attributes\":{\"label\":{\"value\":\"Latin America\"},\"renderers\":[{\"id\":\"20377\"}]},\"id\":\"20390\",\"type\":\"LegendItem\"},{\"attributes\":{\"fill_alpha\":{\"value\":0.1},\"fill_color\":{\"value\":\"red\"},\"line_alpha\":{\"value\":0.1},\"line_color\":{\"value\":\"red\"},\"size\":{\"value\":10},\"x\":{\"field\":\"fertility\"},\"y\":{\"field\":\"female literacy\"}},\"id\":\"20376\",\"type\":\"Circle\"},{\"attributes\":{},\"id\":\"20383\",\"type\":\"BasicTickFormatter\"},{\"attributes\":{\"source\":{\"id\":\"20339\"}},\"id\":\"20378\",\"type\":\"CDSView\"},{\"attributes\":{\"data_source\":{\"id\":\"20339\"},\"glyph\":{\"id\":\"20375\"},\"hover_glyph\":null,\"muted_glyph\":null,\"nonselection_glyph\":{\"id\":\"20376\"},\"view\":{\"id\":\"20378\"}},\"id\":\"20377\",\"type\":\"GlyphRenderer\"},{\"attributes\":{},\"id\":\"20384\",\"type\":\"AllLabels\"},{\"attributes\":{\"items\":[{\"id\":\"20390\"},{\"id\":\"20408\"}]},\"id\":\"20389\",\"type\":\"Legend\"},{\"attributes\":{},\"id\":\"20364\",\"type\":\"ResetTool\"},{\"attributes\":{},\"id\":\"20363\",\"type\":\"SaveTool\"},{\"attributes\":{},\"id\":\"20350\",\"type\":\"LinearScale\"},{\"attributes\":{},\"id\":\"20346\",\"type\":\"DataRange1d\"},{\"attributes\":{\"active_multi\":null,\"tools\":[{\"id\":\"20360\"},{\"id\":\"20361\"},{\"id\":\"20362\"},{\"id\":\"20363\"},{\"id\":\"20364\"},{\"id\":\"20365\"}]},\"id\":\"20367\",\"type\":\"Toolbar\"},{\"attributes\":{\"data\":{\"Continent\":[\"AF\",\"AF\",\"AF\",\"AF\",\"AF\",\"AF\",\"AF\",\"AF\",\"AF\",\"AF\",\"AF\",\"AF\",\"AF\",\"AF\",\"AF\",\"AF\",\"AF\",\"AF\",\"AF\",\"AF\",\"AF\",\"AF\",\"AF\",\"AF\",\"AF\",\"AF\",\"AF\",\"AF\",\"AF\",\"AF\",\"AF\",\"AF\",\"AF\",\"AF\",\"AF\",\"AF\",\"AF\",\"AF\",\"AF\",\"AF\",\"AF\",\"AF\",\"AF\",\"AF\",\"AF\",\"AF\",\"AF\",\"AF\",\"AF\"],\"Country\":[\"Nig\\u00e9ria\",\"Egypte\",\"Ethiopie\",\"R\\u00e9p. D\\u00e9mocratique du Congo\",\"Afrique du Sud\",\"R\\u00e9publique-Unie de Tanzanie\",\"Soudan\",\"Kenya\",\"Alg\\u00e9rie\",\"Ouganda\",\"Maroc\",\"Ghana\",\"Mozambique\",\"C\\u00f4te d'Ivoire\",\"Madagascar\",\"Cameroun\",\"Angola\",\"Burkina Faso\",\"Malawi\",\"Niger\",\"Mali\",\"Zambie\",\"Zimbabwe\",\"S\\u00e9n\\u00e9gal\",\"Tchad\",\"Tunisie\",\"Guin\\u00e9e\",\"Rwanda\",\"B\\u00e9nin\",\"Burundi\",\"Togo\",\"Jamahiriya arabe libyenne\",\"Sierra Leone\",\"Erythr\\u00e9e\",\"R\\u00e9publique centrafricaine\",\"Lib\\u00e9ria\",\"Mauritanie\",\"Namibie\",\"Lesotho\",\"Botswana\",\"Gambie\",\"Guin\\u00e9e-Bissau\",\"Gabon\",\"Maurice\",\"Swaziland\",\"Guin\\u00e9e \\u00e9quatoriale\",\"Comores\",\"Cap-Vert\",\"Sao Tom\\u00e9-et-Principe\"],\"female literacy\":{\"__ndarray__\":\"ZmZmZmZmSEBmZmZmZuZMQM3MzMzMzDZAzczMzMwMTEBmZmZmZgZWQDMzMzMzk1BAzczMzMzMTUAzMzMzM7NUQDMzMzMz809AMzMzMzOzUEDNzMzMzAxGQGZmZmZmpk1AzczMzMwMREBmZmZmZiZGQDMzMzMzU1BAMzMzMzPzUEAAAAAAAIBMQJqZmZmZmTVAMzMzMzNzUEAzMzMzMzMuQDMzMzMzMzJAAAAAAACATkAzMzMzMzNWQAAAAAAAgEBAZmZmZmbmNUAAAAAAAMBRQGZmZmZmZjpAZmZmZmaGUECamZmZmRk8QDMzMzMz801AmpmZmZnZSkAzMzMzM1NUQGZmZmZm5jxAAAAAAABAS0DNzMzMzIxEQAAAAAAAgEpAAAAAAADASEDNzMzMzOxVQGZmZmZmxldAAAAAAADgVEBmZmZmZiZBQAAAAAAAQEJAzczMzMzMVEAzMzMzMzNVQGZmZmZmZlVAZmZmZmZGVkAzMzMzM/NQQDMzMzMz01NAMzMzMzPTVEA=\",\"dtype\":\"float64\",\"order\":\"little\",\"shape\":[49]},\"fertility\":{\"__ndarray__\":\"/tR46SaxFEC6SQwCK4cGQPLSTWIQ2BRAbxKDwMqhF0AK16NwPQoEQBSuR+F6FBZACKwcWmQ7EEBWDi2ynW8TQCPb+X5qvAJAarx0kxgEGUB56SYxCKwCQOF6FK5H4RBAke18PzXeE0B1kxgEVg4SQHsUrkfhehJARIts5/spEkA/NV66SYwWQHe+nxovXRdAUrgehevRFUAtsp3vp0YcQB+F61G4nhVAppvEILDyFkCBlUOLbOcKQI/C9ShcjxNAbef7qfFSGEDb+X5qvHT9PzeJQWDlUBVAUrgehetRFUBQjZduEoMVQM3MzMzMzBFARIts5/upEECJQWDl0CIFQClcj8L1qBRA6SYxCKwcEkB9PzVeuskSQCUGgZVDCxRAWmQ730+NEUBSuB6F61EKQOkmMQisHApA+n5qvHSTBkDHSzeJQeATQIlBYOXQohZA7FG4HoXrCUB56SYxCKz8P5qZmZmZmQtAbxKDwMohFUAUrkfhehQPQOf7qfHSTQVAWDm0yHa+DUA=\",\"dtype\":\"float64\",\"order\":\"little\",\"shape\":[49]},\"index\":[7,14,15,19,24,29,30,32,34,36,37,47,49,51,54,55,56,60,61,62,66,67,68,69,72,76,79,80,85,86,94,95,101,106,113,117,123,131,132,135,136,137,138,142,143,147,148,151,159],\"population\":{\"__ndarray__\":\"AAAAvKEGokEAAAAQBnCTQQAAAGhbPpNBAAAA2NOjjkEAAADAPDeHQQAAAJgGQoRBAAAAWFS3g0EAAAAAGHyCQQAAAJD5Y4BBAAAAELowfkEAAAAANyR+QQAAAPDoRHZBAAAAUHxYdUEAAABgLKNzQQAAANDBOXJBAAAAEEA0ckEAAADAky9xQQAAAIBrDm1BAAAAwBxRbEEAAADA1wtsQQAAAAD5O2hBAAAAYDcSaEEAAADgY8VnQQAAAKB9SmdBAAAAYPDQZEEAAAAA37JjQQAAAOBLwWJBAAAAwG6KYkEAAADAiIVgQQAAAIADzV5BAAAAQDujWEEAAABAqQJYQQAAAECLNVVBAAAAQGfLUkEAAADAj41QQQAAAAD88ExBAAAAgGGHSEEAAAAA3z9AQQAAAACVRT9BAAAAAGJQPUEAAAAAKFU5QQAAAAAWCjhBAAAAAN8YNkEAAAAAdlwzQQAAAADa0TFBAAAAAPodJEGpYCyg5qMjQQAAAADAbx5BAAAAAHCNA0E=\",\"dtype\":\"float64\",\"order\":\"little\",\"shape\":[49]}},\"selected\":{\"id\":\"20406\"},\"selection_policy\":{\"id\":\"20405\"}},\"id\":\"20340\",\"type\":\"ColumnDataSource\"},{\"attributes\":{},\"id\":\"20344\",\"type\":\"DataRange1d\"},{\"attributes\":{\"fill_color\":{\"value\":\"blue\"},\"line_color\":{\"value\":\"blue\"},\"size\":{\"value\":10},\"x\":{\"field\":\"fertility\"},\"y\":{\"field\":\"female literacy\"}},\"id\":\"20392\",\"type\":\"Circle\"},{\"attributes\":{\"data\":{\"Continent\":[\"LAT\",\"LAT\",\"LAT\",\"LAT\",\"LAT\",\"LAT\",\"LAT\",\"LAT\",\"LAT\",\"LAT\",\"LAT\",\"LAT\",\"LAT\",\"LAT\",\"LAT\",\"LAT\",\"LAT\",\"LAT\",\"LAT\",\"LAT\",\"LAT\",\"LAT\",\"LAT\",\"LAT\"],\"Country\":[\"Br\\u00e9sil\",\"Mexique\",\"Colombie\",\"Argentine\",\"P\\u00e9rou\",\"Venezuela\",\"Chili\",\"Guatemala\",\"Equateur\",\"Cuba\",\"R\\u00e9publique dominicaine\",\"Bolivie\",\"Honduras\",\"Paraguay\",\"El Salvador\",\"Nicaragua\",\"Costa Rica\",\"Panama\",\"Uruguay\",\"Jama\\u00efque\",\"Trinit\\u00e9-et-Tobago\",\"Suriname\",\"Bahamas\",\"Aruba\"],\"female literacy\":{\"__ndarray__\":\"zczMzMyMVkAAAAAAAOBWQJqZmZmZWVdAzczMzMxsWEBmZmZmZiZVQJqZmZmZuVdAzczMzMysWEDNzMzMzCxRQM3MzMzMbFRAMzMzMzPzWEAzMzMzMxNWQAAAAAAAgFVAAAAAAADgVEAAAAAAAGBXQJqZmZmZWVRAmpmZmZl5U0DNzMzMzAxYQDMzMzMzM1dAAAAAAACgWEAzMzMzM7NWQM3MzMzMjFhAmpmZmZkZVkAAAAAAACBYQAAAAAAAgFhA\",\"dtype\":\"float64\",\"order\":\"little\",\"shape\":[24]},\"fertility\":{\"__ndarray__\":\"CKwcWmQ7/T9zaJHtfD8BQAisHFpkOwNAYhBYObTIAUA9CtejcD0EQJZDi2zn+wNAN4lBYOXQ/j/fT42XbhIQQLTIdr6fGgRAFK5H4XoU+D9MN4lBYOUEQCuHFtnO9wpAhetRuB6FCUA3iUFg5dAHQFyPwvUoXAJAEFg5tMh2BUBKDAIrhxb/P1TjpZvEIARAg8DKoUW2AEBMN4lBYOUCQCcxCKwcWvo/lkOLbOf7AkArhxbZzvcKQIPAyqFFtvs/\",\"dtype\":\"float64\",\"order\":\"little\",\"shape\":[24]},\"index\":[4,10,28,31,40,42,57,64,65,71,78,81,90,96,98,100,109,120,122,128,140,150,154,160],\"population\":{\"__ndarray__\":\"AAAAZIHipkH67buGHVuZQQAAAACkdoVBAAAAIIcEg0EAAADANYB7QQAAAIARpHpBAAAAAIcGcEEAAAAArhpqQQAAAAC6tmlBAAAA4A9fZUEAAADguPtiQQAAACB0fWJBAAAAQEHrW0EAAADAp8tXQQAAAIAlZldBAAAAQH+eVUEAAACANT1RQQAAAIBT7klBAAAAANJvSUEAAAAAcIBEQQAAAACMWDRBAAAAANBwH0EAAAAAEJwUQQAAAADwvvlA\",\"dtype\":\"float64\",\"order\":\"little\",\"shape\":[24]}},\"selected\":{\"id\":\"20387\"},\"selection_policy\":{\"id\":\"20386\"}},\"id\":\"20339\",\"type\":\"ColumnDataSource\"},{\"attributes\":{},\"id\":\"20386\",\"type\":\"UnionRenderers\"},{\"attributes\":{},\"id\":\"20406\",\"type\":\"Selection\"},{\"attributes\":{\"bottom_units\":\"screen\",\"fill_alpha\":0.5,\"fill_color\":\"lightgrey\",\"left_units\":\"screen\",\"level\":\"overlay\",\"line_alpha\":1.0,\"line_color\":\"black\",\"line_dash\":[4,4],\"line_width\":2,\"right_units\":\"screen\",\"syncable\":false,\"top_units\":\"screen\"},\"id\":\"20366\",\"type\":\"BoxAnnotation\"},{\"attributes\":{\"data_source\":{\"id\":\"20340\"},\"glyph\":{\"id\":\"20392\"},\"hover_glyph\":null,\"muted_glyph\":null,\"nonselection_glyph\":{\"id\":\"20393\"},\"view\":{\"id\":\"20395\"}},\"id\":\"20394\",\"type\":\"GlyphRenderer\"},{\"attributes\":{},\"id\":\"20361\",\"type\":\"WheelZoomTool\"},{\"attributes\":{\"fill_alpha\":{\"value\":0.1},\"fill_color\":{\"value\":\"blue\"},\"line_alpha\":{\"value\":0.1},\"line_color\":{\"value\":\"blue\"},\"size\":{\"value\":10},\"x\":{\"field\":\"fertility\"},\"y\":{\"field\":\"female literacy\"}},\"id\":\"20393\",\"type\":\"Circle\"},{\"attributes\":{},\"id\":\"20387\",\"type\":\"Selection\"},{\"attributes\":{\"source\":{\"id\":\"20340\"}},\"id\":\"20395\",\"type\":\"CDSView\"},{\"attributes\":{\"overlay\":{\"id\":\"20366\"}},\"id\":\"20362\",\"type\":\"BoxZoomTool\"},{\"attributes\":{},\"id\":\"20405\",\"type\":\"UnionRenderers\"},{\"attributes\":{\"axis\":{\"id\":\"20356\"},\"dimension\":1,\"ticker\":null},\"id\":\"20359\",\"type\":\"Grid\"},{\"attributes\":{},\"id\":\"20380\",\"type\":\"BasicTickFormatter\"},{\"attributes\":{},\"id\":\"20360\",\"type\":\"PanTool\"},{\"attributes\":{\"fill_color\":{\"value\":\"red\"},\"line_color\":{\"value\":\"red\"},\"size\":{\"value\":10},\"x\":{\"field\":\"fertility\"},\"y\":{\"field\":\"female literacy\"}},\"id\":\"20375\",\"type\":\"Circle\"},{\"attributes\":{},\"id\":\"20381\",\"type\":\"AllLabels\"},{\"attributes\":{},\"id\":\"20348\",\"type\":\"LinearScale\"},{\"attributes\":{\"text\":\"Female Literacy vs. Fertility\"},\"id\":\"20342\",\"type\":\"Title\"},{\"attributes\":{\"label\":{\"value\":\"Africa\"},\"renderers\":[{\"id\":\"20394\"}]},\"id\":\"20408\",\"type\":\"LegendItem\"},{\"attributes\":{},\"id\":\"20357\",\"type\":\"BasicTicker\"},{\"attributes\":{},\"id\":\"20365\",\"type\":\"HelpTool\"}],\"root_ids\":[\"20341\"]},\"title\":\"Bokeh Application\",\"version\":\"2.3.0\"}};\n",
       "  var render_items = [{\"docid\":\"8ba92fa0-927f-4238-b469-b7c58e383aed\",\"root_ids\":[\"20341\"],\"roots\":{\"20341\":\"971de421-e76f-4fe1-9cdc-9e0d5d2e08ea\"}}];\n",
       "  root.Bokeh.embed.embed_items_notebook(docs_json, render_items);\n",
       "\n",
       "  }\n",
       "  if (root.Bokeh !== undefined) {\n",
       "    embed_document(root);\n",
       "  } else {\n",
       "    var attempts = 0;\n",
       "    var timer = setInterval(function(root) {\n",
       "      if (root.Bokeh !== undefined) {\n",
       "        clearInterval(timer);\n",
       "        embed_document(root);\n",
       "      } else {\n",
       "        attempts++;\n",
       "        if (attempts > 100) {\n",
       "          clearInterval(timer);\n",
       "          console.log(\"Bokeh: ERROR: Unable to run BokehJS code because BokehJS library is missing\");\n",
       "        }\n",
       "      }\n",
       "    }, 10, root)\n",
       "  }\n",
       "})(window);"
      ],
      "application/vnd.bokehjs_exec.v0+json": ""
     },
     "metadata": {
      "application/vnd.bokehjs_exec.v0+json": {
       "id": "20341"
      }
     },
     "output_type": "display_data"
    }
   ],
   "source": [
    "latin_america = ColumnDataSource(lit[lit.Continent == 'LAT'])\n",
    "africa = ColumnDataSource(lit[lit.Continent == 'AF'])\n",
    "\n",
    "p = figure(plot_height=400, plot_width=800, title='Female Literacy vs. Fertility', x_axis_label='fertility (children per women)', y_axis_label='literacy (% of population)')\n",
    "\n",
    "# Add the first circle glyph to the figure p\n",
    "p.circle('fertility', 'female literacy', source=latin_america, size=10, color='red', legend_label='Latin America')\n",
    "\n",
    "# Add the second circle glyph to the figure p\n",
    "p.circle('fertility', 'female literacy', source=africa, size=10, color='blue', legend_label='Africa')\n",
    "\n",
    "# Specify the name of the output_file and show the result\n",
    "# output_file('fert_lit_groups.html')\n",
    "show(p)"
   ]
  },
  {
   "cell_type": "markdown",
   "metadata": {},
   "source": [
    "### Positioning and styling legends\n",
    "\n",
    "Properties of the `legend` can be changed by using the legend member attribute of a Bokeh figure after the glyphs have been plotted.\n",
    "\n",
    "In this exercise, you'll adjust the background color and legend location of the female literacy vs fertility plot from the previous exercise.\n",
    "\n",
    "The figure object `p` has been created for you along with the circle glyphs.\n",
    "\n",
    "**Instructions**\n",
    "\n",
    "* Use `p.legend.location` to adjust the legend location to be on the `'bottom_left'`.\n",
    "* Use `p.legend.background_fill_color` to set the background color of the legend to `'lightgray'`."
   ]
  },
  {
   "cell_type": "code",
   "execution_count": 64,
   "metadata": {},
   "outputs": [
    {
     "data": {
      "text/html": [
       "\n",
       "\n",
       "\n",
       "\n",
       "\n",
       "\n",
       "  <div class=\"bk-root\" id=\"c193bc1c-2b1f-4e9d-a1f6-5e796d3f2d36\" data-root-id=\"20341\"></div>\n"
      ]
     },
     "metadata": {},
     "output_type": "display_data"
    },
    {
     "data": {
      "application/javascript": [
       "(function(root) {\n",
       "  function embed_document(root) {\n",
       "    \n",
       "  var docs_json = {\"6b1552b4-52db-4b76-ad60-77250f4ea1f9\":{\"defs\":[{\"extends\":null,\"module\":null,\"name\":\"DataModel\",\"overrides\":[],\"properties\":[]}],\"roots\":{\"references\":[{\"attributes\":{\"below\":[{\"id\":\"20352\"}],\"center\":[{\"id\":\"20355\"},{\"id\":\"20359\"},{\"id\":\"20389\"}],\"height\":400,\"left\":[{\"id\":\"20356\"}],\"renderers\":[{\"id\":\"20377\"},{\"id\":\"20394\"}],\"title\":{\"id\":\"20342\"},\"toolbar\":{\"id\":\"20367\"},\"width\":800,\"x_range\":{\"id\":\"20344\"},\"x_scale\":{\"id\":\"20348\"},\"y_range\":{\"id\":\"20346\"},\"y_scale\":{\"id\":\"20350\"}},\"id\":\"20341\",\"subtype\":\"Figure\",\"type\":\"Plot\"},{\"attributes\":{\"axis_label\":\"literacy (% of population)\",\"formatter\":{\"id\":\"20380\"},\"major_label_policy\":{\"id\":\"20381\"},\"ticker\":{\"id\":\"20357\"}},\"id\":\"20356\",\"type\":\"LinearAxis\"},{\"attributes\":{\"axis\":{\"id\":\"20352\"},\"ticker\":null},\"id\":\"20355\",\"type\":\"Grid\"},{\"attributes\":{\"axis_label\":\"fertility (children per women)\",\"formatter\":{\"id\":\"20383\"},\"major_label_policy\":{\"id\":\"20384\"},\"ticker\":{\"id\":\"20353\"}},\"id\":\"20352\",\"type\":\"LinearAxis\"},{\"attributes\":{},\"id\":\"20353\",\"type\":\"BasicTicker\"},{\"attributes\":{\"label\":{\"value\":\"Latin America\"},\"renderers\":[{\"id\":\"20377\"}]},\"id\":\"20390\",\"type\":\"LegendItem\"},{\"attributes\":{\"fill_alpha\":{\"value\":0.1},\"fill_color\":{\"value\":\"red\"},\"line_alpha\":{\"value\":0.1},\"line_color\":{\"value\":\"red\"},\"size\":{\"value\":10},\"x\":{\"field\":\"fertility\"},\"y\":{\"field\":\"female literacy\"}},\"id\":\"20376\",\"type\":\"Circle\"},{\"attributes\":{},\"id\":\"20383\",\"type\":\"BasicTickFormatter\"},{\"attributes\":{\"source\":{\"id\":\"20339\"}},\"id\":\"20378\",\"type\":\"CDSView\"},{\"attributes\":{\"data_source\":{\"id\":\"20339\"},\"glyph\":{\"id\":\"20375\"},\"hover_glyph\":null,\"muted_glyph\":null,\"nonselection_glyph\":{\"id\":\"20376\"},\"view\":{\"id\":\"20378\"}},\"id\":\"20377\",\"type\":\"GlyphRenderer\"},{\"attributes\":{},\"id\":\"20384\",\"type\":\"AllLabels\"},{\"attributes\":{\"background_fill_color\":\"lightgray\",\"items\":[{\"id\":\"20390\"},{\"id\":\"20408\"}],\"location\":\"bottom_left\"},\"id\":\"20389\",\"type\":\"Legend\"},{\"attributes\":{},\"id\":\"20364\",\"type\":\"ResetTool\"},{\"attributes\":{},\"id\":\"20363\",\"type\":\"SaveTool\"},{\"attributes\":{},\"id\":\"20350\",\"type\":\"LinearScale\"},{\"attributes\":{},\"id\":\"20346\",\"type\":\"DataRange1d\"},{\"attributes\":{\"active_multi\":null,\"tools\":[{\"id\":\"20360\"},{\"id\":\"20361\"},{\"id\":\"20362\"},{\"id\":\"20363\"},{\"id\":\"20364\"},{\"id\":\"20365\"}]},\"id\":\"20367\",\"type\":\"Toolbar\"},{\"attributes\":{\"data\":{\"Continent\":[\"AF\",\"AF\",\"AF\",\"AF\",\"AF\",\"AF\",\"AF\",\"AF\",\"AF\",\"AF\",\"AF\",\"AF\",\"AF\",\"AF\",\"AF\",\"AF\",\"AF\",\"AF\",\"AF\",\"AF\",\"AF\",\"AF\",\"AF\",\"AF\",\"AF\",\"AF\",\"AF\",\"AF\",\"AF\",\"AF\",\"AF\",\"AF\",\"AF\",\"AF\",\"AF\",\"AF\",\"AF\",\"AF\",\"AF\",\"AF\",\"AF\",\"AF\",\"AF\",\"AF\",\"AF\",\"AF\",\"AF\",\"AF\",\"AF\"],\"Country\":[\"Nig\\u00e9ria\",\"Egypte\",\"Ethiopie\",\"R\\u00e9p. D\\u00e9mocratique du Congo\",\"Afrique du Sud\",\"R\\u00e9publique-Unie de Tanzanie\",\"Soudan\",\"Kenya\",\"Alg\\u00e9rie\",\"Ouganda\",\"Maroc\",\"Ghana\",\"Mozambique\",\"C\\u00f4te d'Ivoire\",\"Madagascar\",\"Cameroun\",\"Angola\",\"Burkina Faso\",\"Malawi\",\"Niger\",\"Mali\",\"Zambie\",\"Zimbabwe\",\"S\\u00e9n\\u00e9gal\",\"Tchad\",\"Tunisie\",\"Guin\\u00e9e\",\"Rwanda\",\"B\\u00e9nin\",\"Burundi\",\"Togo\",\"Jamahiriya arabe libyenne\",\"Sierra Leone\",\"Erythr\\u00e9e\",\"R\\u00e9publique centrafricaine\",\"Lib\\u00e9ria\",\"Mauritanie\",\"Namibie\",\"Lesotho\",\"Botswana\",\"Gambie\",\"Guin\\u00e9e-Bissau\",\"Gabon\",\"Maurice\",\"Swaziland\",\"Guin\\u00e9e \\u00e9quatoriale\",\"Comores\",\"Cap-Vert\",\"Sao Tom\\u00e9-et-Principe\"],\"female literacy\":{\"__ndarray__\":\"ZmZmZmZmSEBmZmZmZuZMQM3MzMzMzDZAzczMzMwMTEBmZmZmZgZWQDMzMzMzk1BAzczMzMzMTUAzMzMzM7NUQDMzMzMz809AMzMzMzOzUEDNzMzMzAxGQGZmZmZmpk1AzczMzMwMREBmZmZmZiZGQDMzMzMzU1BAMzMzMzPzUEAAAAAAAIBMQJqZmZmZmTVAMzMzMzNzUEAzMzMzMzMuQDMzMzMzMzJAAAAAAACATkAzMzMzMzNWQAAAAAAAgEBAZmZmZmbmNUAAAAAAAMBRQGZmZmZmZjpAZmZmZmaGUECamZmZmRk8QDMzMzMz801AmpmZmZnZSkAzMzMzM1NUQGZmZmZm5jxAAAAAAABAS0DNzMzMzIxEQAAAAAAAgEpAAAAAAADASEDNzMzMzOxVQGZmZmZmxldAAAAAAADgVEBmZmZmZiZBQAAAAAAAQEJAzczMzMzMVEAzMzMzMzNVQGZmZmZmZlVAZmZmZmZGVkAzMzMzM/NQQDMzMzMz01NAMzMzMzPTVEA=\",\"dtype\":\"float64\",\"order\":\"little\",\"shape\":[49]},\"fertility\":{\"__ndarray__\":\"/tR46SaxFEC6SQwCK4cGQPLSTWIQ2BRAbxKDwMqhF0AK16NwPQoEQBSuR+F6FBZACKwcWmQ7EEBWDi2ynW8TQCPb+X5qvAJAarx0kxgEGUB56SYxCKwCQOF6FK5H4RBAke18PzXeE0B1kxgEVg4SQHsUrkfhehJARIts5/spEkA/NV66SYwWQHe+nxovXRdAUrgehevRFUAtsp3vp0YcQB+F61G4nhVAppvEILDyFkCBlUOLbOcKQI/C9ShcjxNAbef7qfFSGEDb+X5qvHT9PzeJQWDlUBVAUrgehetRFUBQjZduEoMVQM3MzMzMzBFARIts5/upEECJQWDl0CIFQClcj8L1qBRA6SYxCKwcEkB9PzVeuskSQCUGgZVDCxRAWmQ730+NEUBSuB6F61EKQOkmMQisHApA+n5qvHSTBkDHSzeJQeATQIlBYOXQohZA7FG4HoXrCUB56SYxCKz8P5qZmZmZmQtAbxKDwMohFUAUrkfhehQPQOf7qfHSTQVAWDm0yHa+DUA=\",\"dtype\":\"float64\",\"order\":\"little\",\"shape\":[49]},\"index\":[7,14,15,19,24,29,30,32,34,36,37,47,49,51,54,55,56,60,61,62,66,67,68,69,72,76,79,80,85,86,94,95,101,106,113,117,123,131,132,135,136,137,138,142,143,147,148,151,159],\"population\":{\"__ndarray__\":\"AAAAvKEGokEAAAAQBnCTQQAAAGhbPpNBAAAA2NOjjkEAAADAPDeHQQAAAJgGQoRBAAAAWFS3g0EAAAAAGHyCQQAAAJD5Y4BBAAAAELowfkEAAAAANyR+QQAAAPDoRHZBAAAAUHxYdUEAAABgLKNzQQAAANDBOXJBAAAAEEA0ckEAAADAky9xQQAAAIBrDm1BAAAAwBxRbEEAAADA1wtsQQAAAAD5O2hBAAAAYDcSaEEAAADgY8VnQQAAAKB9SmdBAAAAYPDQZEEAAAAA37JjQQAAAOBLwWJBAAAAwG6KYkEAAADAiIVgQQAAAIADzV5BAAAAQDujWEEAAABAqQJYQQAAAECLNVVBAAAAQGfLUkEAAADAj41QQQAAAAD88ExBAAAAgGGHSEEAAAAA3z9AQQAAAACVRT9BAAAAAGJQPUEAAAAAKFU5QQAAAAAWCjhBAAAAAN8YNkEAAAAAdlwzQQAAAADa0TFBAAAAAPodJEGpYCyg5qMjQQAAAADAbx5BAAAAAHCNA0E=\",\"dtype\":\"float64\",\"order\":\"little\",\"shape\":[49]}},\"selected\":{\"id\":\"20406\"},\"selection_policy\":{\"id\":\"20405\"}},\"id\":\"20340\",\"type\":\"ColumnDataSource\"},{\"attributes\":{},\"id\":\"20344\",\"type\":\"DataRange1d\"},{\"attributes\":{\"fill_color\":{\"value\":\"blue\"},\"line_color\":{\"value\":\"blue\"},\"size\":{\"value\":10},\"x\":{\"field\":\"fertility\"},\"y\":{\"field\":\"female literacy\"}},\"id\":\"20392\",\"type\":\"Circle\"},{\"attributes\":{\"data\":{\"Continent\":[\"LAT\",\"LAT\",\"LAT\",\"LAT\",\"LAT\",\"LAT\",\"LAT\",\"LAT\",\"LAT\",\"LAT\",\"LAT\",\"LAT\",\"LAT\",\"LAT\",\"LAT\",\"LAT\",\"LAT\",\"LAT\",\"LAT\",\"LAT\",\"LAT\",\"LAT\",\"LAT\",\"LAT\"],\"Country\":[\"Br\\u00e9sil\",\"Mexique\",\"Colombie\",\"Argentine\",\"P\\u00e9rou\",\"Venezuela\",\"Chili\",\"Guatemala\",\"Equateur\",\"Cuba\",\"R\\u00e9publique dominicaine\",\"Bolivie\",\"Honduras\",\"Paraguay\",\"El Salvador\",\"Nicaragua\",\"Costa Rica\",\"Panama\",\"Uruguay\",\"Jama\\u00efque\",\"Trinit\\u00e9-et-Tobago\",\"Suriname\",\"Bahamas\",\"Aruba\"],\"female literacy\":{\"__ndarray__\":\"zczMzMyMVkAAAAAAAOBWQJqZmZmZWVdAzczMzMxsWEBmZmZmZiZVQJqZmZmZuVdAzczMzMysWEDNzMzMzCxRQM3MzMzMbFRAMzMzMzPzWEAzMzMzMxNWQAAAAAAAgFVAAAAAAADgVEAAAAAAAGBXQJqZmZmZWVRAmpmZmZl5U0DNzMzMzAxYQDMzMzMzM1dAAAAAAACgWEAzMzMzM7NWQM3MzMzMjFhAmpmZmZkZVkAAAAAAACBYQAAAAAAAgFhA\",\"dtype\":\"float64\",\"order\":\"little\",\"shape\":[24]},\"fertility\":{\"__ndarray__\":\"CKwcWmQ7/T9zaJHtfD8BQAisHFpkOwNAYhBYObTIAUA9CtejcD0EQJZDi2zn+wNAN4lBYOXQ/j/fT42XbhIQQLTIdr6fGgRAFK5H4XoU+D9MN4lBYOUEQCuHFtnO9wpAhetRuB6FCUA3iUFg5dAHQFyPwvUoXAJAEFg5tMh2BUBKDAIrhxb/P1TjpZvEIARAg8DKoUW2AEBMN4lBYOUCQCcxCKwcWvo/lkOLbOf7AkArhxbZzvcKQIPAyqFFtvs/\",\"dtype\":\"float64\",\"order\":\"little\",\"shape\":[24]},\"index\":[4,10,28,31,40,42,57,64,65,71,78,81,90,96,98,100,109,120,122,128,140,150,154,160],\"population\":{\"__ndarray__\":\"AAAAZIHipkH67buGHVuZQQAAAACkdoVBAAAAIIcEg0EAAADANYB7QQAAAIARpHpBAAAAAIcGcEEAAAAArhpqQQAAAAC6tmlBAAAA4A9fZUEAAADguPtiQQAAACB0fWJBAAAAQEHrW0EAAADAp8tXQQAAAIAlZldBAAAAQH+eVUEAAACANT1RQQAAAIBT7klBAAAAANJvSUEAAAAAcIBEQQAAAACMWDRBAAAAANBwH0EAAAAAEJwUQQAAAADwvvlA\",\"dtype\":\"float64\",\"order\":\"little\",\"shape\":[24]}},\"selected\":{\"id\":\"20387\"},\"selection_policy\":{\"id\":\"20386\"}},\"id\":\"20339\",\"type\":\"ColumnDataSource\"},{\"attributes\":{},\"id\":\"20386\",\"type\":\"UnionRenderers\"},{\"attributes\":{},\"id\":\"20406\",\"type\":\"Selection\"},{\"attributes\":{\"bottom_units\":\"screen\",\"fill_alpha\":0.5,\"fill_color\":\"lightgrey\",\"left_units\":\"screen\",\"level\":\"overlay\",\"line_alpha\":1.0,\"line_color\":\"black\",\"line_dash\":[4,4],\"line_width\":2,\"right_units\":\"screen\",\"syncable\":false,\"top_units\":\"screen\"},\"id\":\"20366\",\"type\":\"BoxAnnotation\"},{\"attributes\":{\"data_source\":{\"id\":\"20340\"},\"glyph\":{\"id\":\"20392\"},\"hover_glyph\":null,\"muted_glyph\":null,\"nonselection_glyph\":{\"id\":\"20393\"},\"view\":{\"id\":\"20395\"}},\"id\":\"20394\",\"type\":\"GlyphRenderer\"},{\"attributes\":{},\"id\":\"20361\",\"type\":\"WheelZoomTool\"},{\"attributes\":{\"fill_alpha\":{\"value\":0.1},\"fill_color\":{\"value\":\"blue\"},\"line_alpha\":{\"value\":0.1},\"line_color\":{\"value\":\"blue\"},\"size\":{\"value\":10},\"x\":{\"field\":\"fertility\"},\"y\":{\"field\":\"female literacy\"}},\"id\":\"20393\",\"type\":\"Circle\"},{\"attributes\":{},\"id\":\"20387\",\"type\":\"Selection\"},{\"attributes\":{\"source\":{\"id\":\"20340\"}},\"id\":\"20395\",\"type\":\"CDSView\"},{\"attributes\":{\"overlay\":{\"id\":\"20366\"}},\"id\":\"20362\",\"type\":\"BoxZoomTool\"},{\"attributes\":{},\"id\":\"20405\",\"type\":\"UnionRenderers\"},{\"attributes\":{\"axis\":{\"id\":\"20356\"},\"dimension\":1,\"ticker\":null},\"id\":\"20359\",\"type\":\"Grid\"},{\"attributes\":{},\"id\":\"20380\",\"type\":\"BasicTickFormatter\"},{\"attributes\":{},\"id\":\"20360\",\"type\":\"PanTool\"},{\"attributes\":{\"fill_color\":{\"value\":\"red\"},\"line_color\":{\"value\":\"red\"},\"size\":{\"value\":10},\"x\":{\"field\":\"fertility\"},\"y\":{\"field\":\"female literacy\"}},\"id\":\"20375\",\"type\":\"Circle\"},{\"attributes\":{},\"id\":\"20381\",\"type\":\"AllLabels\"},{\"attributes\":{},\"id\":\"20348\",\"type\":\"LinearScale\"},{\"attributes\":{\"text\":\"Female Literacy vs. Fertility\"},\"id\":\"20342\",\"type\":\"Title\"},{\"attributes\":{\"label\":{\"value\":\"Africa\"},\"renderers\":[{\"id\":\"20394\"}]},\"id\":\"20408\",\"type\":\"LegendItem\"},{\"attributes\":{},\"id\":\"20357\",\"type\":\"BasicTicker\"},{\"attributes\":{},\"id\":\"20365\",\"type\":\"HelpTool\"}],\"root_ids\":[\"20341\"]},\"title\":\"Bokeh Application\",\"version\":\"2.3.0\"}};\n",
       "  var render_items = [{\"docid\":\"6b1552b4-52db-4b76-ad60-77250f4ea1f9\",\"root_ids\":[\"20341\"],\"roots\":{\"20341\":\"c193bc1c-2b1f-4e9d-a1f6-5e796d3f2d36\"}}];\n",
       "  root.Bokeh.embed.embed_items_notebook(docs_json, render_items);\n",
       "\n",
       "  }\n",
       "  if (root.Bokeh !== undefined) {\n",
       "    embed_document(root);\n",
       "  } else {\n",
       "    var attempts = 0;\n",
       "    var timer = setInterval(function(root) {\n",
       "      if (root.Bokeh !== undefined) {\n",
       "        clearInterval(timer);\n",
       "        embed_document(root);\n",
       "      } else {\n",
       "        attempts++;\n",
       "        if (attempts > 100) {\n",
       "          clearInterval(timer);\n",
       "          console.log(\"Bokeh: ERROR: Unable to run BokehJS code because BokehJS library is missing\");\n",
       "        }\n",
       "      }\n",
       "    }, 10, root)\n",
       "  }\n",
       "})(window);"
      ],
      "application/vnd.bokehjs_exec.v0+json": ""
     },
     "metadata": {
      "application/vnd.bokehjs_exec.v0+json": {
       "id": "20341"
      }
     },
     "output_type": "display_data"
    }
   ],
   "source": [
    "# Assign the legend to the bottom left: p.legend.location\n",
    "p.legend.location = 'bottom_left'\n",
    "\n",
    "# Fill the legend background with the color 'lightgray': p.legend.background_fill_color\n",
    "p.legend.background_fill_color = 'lightgray'\n",
    "\n",
    "show(p)"
   ]
  },
  {
   "cell_type": "markdown",
   "metadata": {},
   "source": [
    "### Hover tooltips for exposing details\n",
    "\n",
    "When configuring hover tools, certain pre-defined fields such as mouse position or glyph index can be accessed with `$` - prefixed names, for example `$x`, `$index`. But tooltips can display values from arbitrary columns in a `ColumnDataSource`.\n",
    "\n",
    "What is the correct format to display values from a column `\"sales\"` in a hover tooltip?\n",
    "\n",
    "**Answer the question**\n",
    "\n",
    "* ~~`&{sales}`~~\n",
    "* ~~`%sales%`~~\n",
    "* **`@sales`**\n",
    "* **The @ prefix denotes the name of a column to display values from.**"
   ]
  },
  {
   "cell_type": "markdown",
   "metadata": {},
   "source": [
    "### Adding a hover tooltip\n",
    "\n",
    "Working with the `HoverTool` is easy for data stored in a ColumnDataSource.\n",
    "\n",
    "In this exercise, you will create a `HoverTool` object and display the country for each circle glyph in the figure that you created in the last exercise. This is done by assigning the `tooltips` keyword argument to a list-of-tuples specifying the label and the column of values from the ColumnDataSource using the `@` operator.\n",
    "\n",
    "The figure object has been prepared for you as `p`.\n",
    "\n",
    "After you have added the hover tooltip to the figure, be sure to interact with it by hovering your mouse over each point to see which country it represents.\n",
    "\n",
    "**Instructions**\n",
    "\n",
    "* Import the `HoverTool` class from `bokeh.models`.\n",
    "* Use the `HoverTool()` function to create a `HoverTool` object called `hover` and set the `tooltips` argument to be `[('Country','@Country')]`.\n",
    "* Use `p.add_tools()` with your `HoverTool` object to add it to the figure."
   ]
  },
  {
   "cell_type": "code",
   "execution_count": 65,
   "metadata": {},
   "outputs": [
    {
     "data": {
      "text/html": [
       "\n",
       "\n",
       "\n",
       "\n",
       "\n",
       "\n",
       "  <div class=\"bk-root\" id=\"cd18ff43-46fb-4a17-b564-6ca0a66ac69d\" data-root-id=\"20341\"></div>\n"
      ]
     },
     "metadata": {},
     "output_type": "display_data"
    },
    {
     "data": {
      "application/javascript": [
       "(function(root) {\n",
       "  function embed_document(root) {\n",
       "    \n",
       "  var docs_json = {\"3e086cda-0cc9-4066-b82b-fba89d045cfd\":{\"defs\":[{\"extends\":null,\"module\":null,\"name\":\"DataModel\",\"overrides\":[],\"properties\":[]}],\"roots\":{\"references\":[{\"attributes\":{\"below\":[{\"id\":\"20352\"}],\"center\":[{\"id\":\"20355\"},{\"id\":\"20359\"},{\"id\":\"20389\"}],\"height\":400,\"left\":[{\"id\":\"20356\"}],\"renderers\":[{\"id\":\"20377\"},{\"id\":\"20394\"}],\"title\":{\"id\":\"20342\"},\"toolbar\":{\"id\":\"20367\"},\"width\":800,\"x_range\":{\"id\":\"20344\"},\"x_scale\":{\"id\":\"20348\"},\"y_range\":{\"id\":\"20346\"},\"y_scale\":{\"id\":\"20350\"}},\"id\":\"20341\",\"subtype\":\"Figure\",\"type\":\"Plot\"},{\"attributes\":{\"axis_label\":\"literacy (% of population)\",\"formatter\":{\"id\":\"20380\"},\"major_label_policy\":{\"id\":\"20381\"},\"ticker\":{\"id\":\"20357\"}},\"id\":\"20356\",\"type\":\"LinearAxis\"},{\"attributes\":{\"axis\":{\"id\":\"20352\"},\"ticker\":null},\"id\":\"20355\",\"type\":\"Grid\"},{\"attributes\":{\"axis_label\":\"fertility (children per women)\",\"formatter\":{\"id\":\"20383\"},\"major_label_policy\":{\"id\":\"20384\"},\"ticker\":{\"id\":\"20353\"}},\"id\":\"20352\",\"type\":\"LinearAxis\"},{\"attributes\":{},\"id\":\"20353\",\"type\":\"BasicTicker\"},{\"attributes\":{\"label\":{\"value\":\"Latin America\"},\"renderers\":[{\"id\":\"20377\"}]},\"id\":\"20390\",\"type\":\"LegendItem\"},{\"attributes\":{\"fill_alpha\":{\"value\":0.1},\"fill_color\":{\"value\":\"red\"},\"line_alpha\":{\"value\":0.1},\"line_color\":{\"value\":\"red\"},\"size\":{\"value\":10},\"x\":{\"field\":\"fertility\"},\"y\":{\"field\":\"female literacy\"}},\"id\":\"20376\",\"type\":\"Circle\"},{\"attributes\":{},\"id\":\"20383\",\"type\":\"BasicTickFormatter\"},{\"attributes\":{\"source\":{\"id\":\"20339\"}},\"id\":\"20378\",\"type\":\"CDSView\"},{\"attributes\":{\"data_source\":{\"id\":\"20339\"},\"glyph\":{\"id\":\"20375\"},\"hover_glyph\":null,\"muted_glyph\":null,\"nonselection_glyph\":{\"id\":\"20376\"},\"view\":{\"id\":\"20378\"}},\"id\":\"20377\",\"type\":\"GlyphRenderer\"},{\"attributes\":{},\"id\":\"20384\",\"type\":\"AllLabels\"},{\"attributes\":{\"background_fill_color\":\"lightgray\",\"items\":[{\"id\":\"20390\"},{\"id\":\"20408\"}],\"location\":\"bottom_left\"},\"id\":\"20389\",\"type\":\"Legend\"},{\"attributes\":{},\"id\":\"20364\",\"type\":\"ResetTool\"},{\"attributes\":{},\"id\":\"20363\",\"type\":\"SaveTool\"},{\"attributes\":{},\"id\":\"20350\",\"type\":\"LinearScale\"},{\"attributes\":{},\"id\":\"20346\",\"type\":\"DataRange1d\"},{\"attributes\":{\"active_multi\":null,\"tools\":[{\"id\":\"20360\"},{\"id\":\"20361\"},{\"id\":\"20362\"},{\"id\":\"20363\"},{\"id\":\"20364\"},{\"id\":\"20365\"},{\"id\":\"21226\"}]},\"id\":\"20367\",\"type\":\"Toolbar\"},{\"attributes\":{\"data\":{\"Continent\":[\"AF\",\"AF\",\"AF\",\"AF\",\"AF\",\"AF\",\"AF\",\"AF\",\"AF\",\"AF\",\"AF\",\"AF\",\"AF\",\"AF\",\"AF\",\"AF\",\"AF\",\"AF\",\"AF\",\"AF\",\"AF\",\"AF\",\"AF\",\"AF\",\"AF\",\"AF\",\"AF\",\"AF\",\"AF\",\"AF\",\"AF\",\"AF\",\"AF\",\"AF\",\"AF\",\"AF\",\"AF\",\"AF\",\"AF\",\"AF\",\"AF\",\"AF\",\"AF\",\"AF\",\"AF\",\"AF\",\"AF\",\"AF\",\"AF\"],\"Country\":[\"Nig\\u00e9ria\",\"Egypte\",\"Ethiopie\",\"R\\u00e9p. D\\u00e9mocratique du Congo\",\"Afrique du Sud\",\"R\\u00e9publique-Unie de Tanzanie\",\"Soudan\",\"Kenya\",\"Alg\\u00e9rie\",\"Ouganda\",\"Maroc\",\"Ghana\",\"Mozambique\",\"C\\u00f4te d'Ivoire\",\"Madagascar\",\"Cameroun\",\"Angola\",\"Burkina Faso\",\"Malawi\",\"Niger\",\"Mali\",\"Zambie\",\"Zimbabwe\",\"S\\u00e9n\\u00e9gal\",\"Tchad\",\"Tunisie\",\"Guin\\u00e9e\",\"Rwanda\",\"B\\u00e9nin\",\"Burundi\",\"Togo\",\"Jamahiriya arabe libyenne\",\"Sierra Leone\",\"Erythr\\u00e9e\",\"R\\u00e9publique centrafricaine\",\"Lib\\u00e9ria\",\"Mauritanie\",\"Namibie\",\"Lesotho\",\"Botswana\",\"Gambie\",\"Guin\\u00e9e-Bissau\",\"Gabon\",\"Maurice\",\"Swaziland\",\"Guin\\u00e9e \\u00e9quatoriale\",\"Comores\",\"Cap-Vert\",\"Sao Tom\\u00e9-et-Principe\"],\"female literacy\":{\"__ndarray__\":\"ZmZmZmZmSEBmZmZmZuZMQM3MzMzMzDZAzczMzMwMTEBmZmZmZgZWQDMzMzMzk1BAzczMzMzMTUAzMzMzM7NUQDMzMzMz809AMzMzMzOzUEDNzMzMzAxGQGZmZmZmpk1AzczMzMwMREBmZmZmZiZGQDMzMzMzU1BAMzMzMzPzUEAAAAAAAIBMQJqZmZmZmTVAMzMzMzNzUEAzMzMzMzMuQDMzMzMzMzJAAAAAAACATkAzMzMzMzNWQAAAAAAAgEBAZmZmZmbmNUAAAAAAAMBRQGZmZmZmZjpAZmZmZmaGUECamZmZmRk8QDMzMzMz801AmpmZmZnZSkAzMzMzM1NUQGZmZmZm5jxAAAAAAABAS0DNzMzMzIxEQAAAAAAAgEpAAAAAAADASEDNzMzMzOxVQGZmZmZmxldAAAAAAADgVEBmZmZmZiZBQAAAAAAAQEJAzczMzMzMVEAzMzMzMzNVQGZmZmZmZlVAZmZmZmZGVkAzMzMzM/NQQDMzMzMz01NAMzMzMzPTVEA=\",\"dtype\":\"float64\",\"order\":\"little\",\"shape\":[49]},\"fertility\":{\"__ndarray__\":\"/tR46SaxFEC6SQwCK4cGQPLSTWIQ2BRAbxKDwMqhF0AK16NwPQoEQBSuR+F6FBZACKwcWmQ7EEBWDi2ynW8TQCPb+X5qvAJAarx0kxgEGUB56SYxCKwCQOF6FK5H4RBAke18PzXeE0B1kxgEVg4SQHsUrkfhehJARIts5/spEkA/NV66SYwWQHe+nxovXRdAUrgehevRFUAtsp3vp0YcQB+F61G4nhVAppvEILDyFkCBlUOLbOcKQI/C9ShcjxNAbef7qfFSGEDb+X5qvHT9PzeJQWDlUBVAUrgehetRFUBQjZduEoMVQM3MzMzMzBFARIts5/upEECJQWDl0CIFQClcj8L1qBRA6SYxCKwcEkB9PzVeuskSQCUGgZVDCxRAWmQ730+NEUBSuB6F61EKQOkmMQisHApA+n5qvHSTBkDHSzeJQeATQIlBYOXQohZA7FG4HoXrCUB56SYxCKz8P5qZmZmZmQtAbxKDwMohFUAUrkfhehQPQOf7qfHSTQVAWDm0yHa+DUA=\",\"dtype\":\"float64\",\"order\":\"little\",\"shape\":[49]},\"index\":[7,14,15,19,24,29,30,32,34,36,37,47,49,51,54,55,56,60,61,62,66,67,68,69,72,76,79,80,85,86,94,95,101,106,113,117,123,131,132,135,136,137,138,142,143,147,148,151,159],\"population\":{\"__ndarray__\":\"AAAAvKEGokEAAAAQBnCTQQAAAGhbPpNBAAAA2NOjjkEAAADAPDeHQQAAAJgGQoRBAAAAWFS3g0EAAAAAGHyCQQAAAJD5Y4BBAAAAELowfkEAAAAANyR+QQAAAPDoRHZBAAAAUHxYdUEAAABgLKNzQQAAANDBOXJBAAAAEEA0ckEAAADAky9xQQAAAIBrDm1BAAAAwBxRbEEAAADA1wtsQQAAAAD5O2hBAAAAYDcSaEEAAADgY8VnQQAAAKB9SmdBAAAAYPDQZEEAAAAA37JjQQAAAOBLwWJBAAAAwG6KYkEAAADAiIVgQQAAAIADzV5BAAAAQDujWEEAAABAqQJYQQAAAECLNVVBAAAAQGfLUkEAAADAj41QQQAAAAD88ExBAAAAgGGHSEEAAAAA3z9AQQAAAACVRT9BAAAAAGJQPUEAAAAAKFU5QQAAAAAWCjhBAAAAAN8YNkEAAAAAdlwzQQAAAADa0TFBAAAAAPodJEGpYCyg5qMjQQAAAADAbx5BAAAAAHCNA0E=\",\"dtype\":\"float64\",\"order\":\"little\",\"shape\":[49]}},\"selected\":{\"id\":\"20406\"},\"selection_policy\":{\"id\":\"20405\"}},\"id\":\"20340\",\"type\":\"ColumnDataSource\"},{\"attributes\":{},\"id\":\"20344\",\"type\":\"DataRange1d\"},{\"attributes\":{\"fill_color\":{\"value\":\"blue\"},\"line_color\":{\"value\":\"blue\"},\"size\":{\"value\":10},\"x\":{\"field\":\"fertility\"},\"y\":{\"field\":\"female literacy\"}},\"id\":\"20392\",\"type\":\"Circle\"},{\"attributes\":{\"data\":{\"Continent\":[\"LAT\",\"LAT\",\"LAT\",\"LAT\",\"LAT\",\"LAT\",\"LAT\",\"LAT\",\"LAT\",\"LAT\",\"LAT\",\"LAT\",\"LAT\",\"LAT\",\"LAT\",\"LAT\",\"LAT\",\"LAT\",\"LAT\",\"LAT\",\"LAT\",\"LAT\",\"LAT\",\"LAT\"],\"Country\":[\"Br\\u00e9sil\",\"Mexique\",\"Colombie\",\"Argentine\",\"P\\u00e9rou\",\"Venezuela\",\"Chili\",\"Guatemala\",\"Equateur\",\"Cuba\",\"R\\u00e9publique dominicaine\",\"Bolivie\",\"Honduras\",\"Paraguay\",\"El Salvador\",\"Nicaragua\",\"Costa Rica\",\"Panama\",\"Uruguay\",\"Jama\\u00efque\",\"Trinit\\u00e9-et-Tobago\",\"Suriname\",\"Bahamas\",\"Aruba\"],\"female literacy\":{\"__ndarray__\":\"zczMzMyMVkAAAAAAAOBWQJqZmZmZWVdAzczMzMxsWEBmZmZmZiZVQJqZmZmZuVdAzczMzMysWEDNzMzMzCxRQM3MzMzMbFRAMzMzMzPzWEAzMzMzMxNWQAAAAAAAgFVAAAAAAADgVEAAAAAAAGBXQJqZmZmZWVRAmpmZmZl5U0DNzMzMzAxYQDMzMzMzM1dAAAAAAACgWEAzMzMzM7NWQM3MzMzMjFhAmpmZmZkZVkAAAAAAACBYQAAAAAAAgFhA\",\"dtype\":\"float64\",\"order\":\"little\",\"shape\":[24]},\"fertility\":{\"__ndarray__\":\"CKwcWmQ7/T9zaJHtfD8BQAisHFpkOwNAYhBYObTIAUA9CtejcD0EQJZDi2zn+wNAN4lBYOXQ/j/fT42XbhIQQLTIdr6fGgRAFK5H4XoU+D9MN4lBYOUEQCuHFtnO9wpAhetRuB6FCUA3iUFg5dAHQFyPwvUoXAJAEFg5tMh2BUBKDAIrhxb/P1TjpZvEIARAg8DKoUW2AEBMN4lBYOUCQCcxCKwcWvo/lkOLbOf7AkArhxbZzvcKQIPAyqFFtvs/\",\"dtype\":\"float64\",\"order\":\"little\",\"shape\":[24]},\"index\":[4,10,28,31,40,42,57,64,65,71,78,81,90,96,98,100,109,120,122,128,140,150,154,160],\"population\":{\"__ndarray__\":\"AAAAZIHipkH67buGHVuZQQAAAACkdoVBAAAAIIcEg0EAAADANYB7QQAAAIARpHpBAAAAAIcGcEEAAAAArhpqQQAAAAC6tmlBAAAA4A9fZUEAAADguPtiQQAAACB0fWJBAAAAQEHrW0EAAADAp8tXQQAAAIAlZldBAAAAQH+eVUEAAACANT1RQQAAAIBT7klBAAAAANJvSUEAAAAAcIBEQQAAAACMWDRBAAAAANBwH0EAAAAAEJwUQQAAAADwvvlA\",\"dtype\":\"float64\",\"order\":\"little\",\"shape\":[24]}},\"selected\":{\"id\":\"20387\"},\"selection_policy\":{\"id\":\"20386\"}},\"id\":\"20339\",\"type\":\"ColumnDataSource\"},{\"attributes\":{},\"id\":\"20386\",\"type\":\"UnionRenderers\"},{\"attributes\":{},\"id\":\"20406\",\"type\":\"Selection\"},{\"attributes\":{\"bottom_units\":\"screen\",\"fill_alpha\":0.5,\"fill_color\":\"lightgrey\",\"left_units\":\"screen\",\"level\":\"overlay\",\"line_alpha\":1.0,\"line_color\":\"black\",\"line_dash\":[4,4],\"line_width\":2,\"right_units\":\"screen\",\"syncable\":false,\"top_units\":\"screen\"},\"id\":\"20366\",\"type\":\"BoxAnnotation\"},{\"attributes\":{\"data_source\":{\"id\":\"20340\"},\"glyph\":{\"id\":\"20392\"},\"hover_glyph\":null,\"muted_glyph\":null,\"nonselection_glyph\":{\"id\":\"20393\"},\"view\":{\"id\":\"20395\"}},\"id\":\"20394\",\"type\":\"GlyphRenderer\"},{\"attributes\":{},\"id\":\"20361\",\"type\":\"WheelZoomTool\"},{\"attributes\":{\"fill_alpha\":{\"value\":0.1},\"fill_color\":{\"value\":\"blue\"},\"line_alpha\":{\"value\":0.1},\"line_color\":{\"value\":\"blue\"},\"size\":{\"value\":10},\"x\":{\"field\":\"fertility\"},\"y\":{\"field\":\"female literacy\"}},\"id\":\"20393\",\"type\":\"Circle\"},{\"attributes\":{},\"id\":\"20387\",\"type\":\"Selection\"},{\"attributes\":{\"source\":{\"id\":\"20340\"}},\"id\":\"20395\",\"type\":\"CDSView\"},{\"attributes\":{\"overlay\":{\"id\":\"20366\"}},\"id\":\"20362\",\"type\":\"BoxZoomTool\"},{\"attributes\":{},\"id\":\"20405\",\"type\":\"UnionRenderers\"},{\"attributes\":{\"axis\":{\"id\":\"20356\"},\"dimension\":1,\"ticker\":null},\"id\":\"20359\",\"type\":\"Grid\"},{\"attributes\":{},\"id\":\"20380\",\"type\":\"BasicTickFormatter\"},{\"attributes\":{},\"id\":\"20360\",\"type\":\"PanTool\"},{\"attributes\":{\"fill_color\":{\"value\":\"red\"},\"line_color\":{\"value\":\"red\"},\"size\":{\"value\":10},\"x\":{\"field\":\"fertility\"},\"y\":{\"field\":\"female literacy\"}},\"id\":\"20375\",\"type\":\"Circle\"},{\"attributes\":{},\"id\":\"20381\",\"type\":\"AllLabels\"},{\"attributes\":{},\"id\":\"20348\",\"type\":\"LinearScale\"},{\"attributes\":{\"text\":\"Female Literacy vs. Fertility\"},\"id\":\"20342\",\"type\":\"Title\"},{\"attributes\":{\"label\":{\"value\":\"Africa\"},\"renderers\":[{\"id\":\"20394\"}]},\"id\":\"20408\",\"type\":\"LegendItem\"},{\"attributes\":{},\"id\":\"20357\",\"type\":\"BasicTicker\"},{\"attributes\":{},\"id\":\"20365\",\"type\":\"HelpTool\"},{\"attributes\":{\"callback\":null,\"tooltips\":[[\"Country\",\"@Country \"]]},\"id\":\"21226\",\"type\":\"HoverTool\"}],\"root_ids\":[\"20341\"]},\"title\":\"Bokeh Application\",\"version\":\"2.3.0\"}};\n",
       "  var render_items = [{\"docid\":\"3e086cda-0cc9-4066-b82b-fba89d045cfd\",\"root_ids\":[\"20341\"],\"roots\":{\"20341\":\"cd18ff43-46fb-4a17-b564-6ca0a66ac69d\"}}];\n",
       "  root.Bokeh.embed.embed_items_notebook(docs_json, render_items);\n",
       "\n",
       "  }\n",
       "  if (root.Bokeh !== undefined) {\n",
       "    embed_document(root);\n",
       "  } else {\n",
       "    var attempts = 0;\n",
       "    var timer = setInterval(function(root) {\n",
       "      if (root.Bokeh !== undefined) {\n",
       "        clearInterval(timer);\n",
       "        embed_document(root);\n",
       "      } else {\n",
       "        attempts++;\n",
       "        if (attempts > 100) {\n",
       "          clearInterval(timer);\n",
       "          console.log(\"Bokeh: ERROR: Unable to run BokehJS code because BokehJS library is missing\");\n",
       "        }\n",
       "      }\n",
       "    }, 10, root)\n",
       "  }\n",
       "})(window);"
      ],
      "application/vnd.bokehjs_exec.v0+json": ""
     },
     "metadata": {
      "application/vnd.bokehjs_exec.v0+json": {
       "id": "20341"
      }
     },
     "output_type": "display_data"
    }
   ],
   "source": [
    "# Create a HoverTool object: hover\n",
    "hover = HoverTool(tooltips=[('Country','@Country ')])\n",
    "\n",
    "# Add the HoverTool object to figure p\n",
    "p.add_tools(hover)\n",
    "\n",
    "# Specify the name of the output_file and show the result\n",
    "# output_file('hover.html')\n",
    "show(p)"
   ]
  },
  {
   "cell_type": "markdown",
   "metadata": {},
   "source": [
    "# Building interactive apps with Bokeh\n",
    "\n",
    "Bokeh server applications allow you to connect all of the powerful Python libraries for data science and analytics, such as NumPy and pandas to create rich, interactive Bokeh visualizations. Learn about Bokeh's built-in widgets, how to add them to Bokeh documents alongside plots, and how to connect everything to real Python code using the Bokeh server."
   ]
  },
  {
   "cell_type": "markdown",
   "metadata": {},
   "source": [
    "## Introduction to Bokeh Server"
   ]
  },
  {
   "cell_type": "markdown",
   "metadata": {},
   "source": [
    "### Understanding Bokeh apps\n",
    "\n",
    "The main purpose of the Bokeh server is to synchronize python objects with web applications in a browser, so that rich, interactive data applications can be connected to powerful PyData libraries such as NumPy, SciPy, Pandas, and scikit-learn.\n",
    "\n",
    "What sort of properties can the Bokeh server automatically keep in sync?\n",
    "\n",
    "**Answer the question**\n",
    "\n",
    "* ~~Only data source objects.~~\n",
    "* ~~Only glyph properties.~~\n",
    "* **Any property of any Bokeh object.**"
   ]
  },
  {
   "cell_type": "markdown",
   "metadata": {},
   "source": [
    "**Bokeh server will automatically keep every property of any Bokeh object in sync.**"
   ]
  },
  {
   "cell_type": "markdown",
   "metadata": {},
   "source": [
    "### Using the current document\n",
    "Let's get started with building an interactive Bokeh app. This typically begins with importing the `curdoc`, or \"current document\", function from `bokeh.io`. This current document will eventually hold all the plots, controls, and layouts that you create. Your job in this exercise is to use this function to add a single plot to your application.\n",
    "\n",
    "In the video, Bryan described the process for running a Bokeh app using the `bokeh serve` command line tool. In this chapter and the one that follows, the DataCamp environment does this for you behind the scenes. Notice that your code is part of a `script.py` file. When you hit 'Submit Answer', you'll see in the IPython Shell that we call `bokeh serve script.py` for you.\n",
    "\n",
    "Remember, as in the previous chapters, that there are different options available for you to interact with your plots, and as before, you may have to scroll down to view the lower portion of the plots.\n",
    "\n",
    "**Instructions**\n",
    "\n",
    "* Import `curdoc` from `bokeh.io` and `figure` from `bokeh.plotting`.\n",
    "* Create a new plot called `plot` using the `figure()` function.\n",
    "* Add a line to the plot using `[1,2,3,4,5]` as the `x` coordinates and `[2,5,4,6,7]` as the `y` coordinates.\n",
    "* Add the `plot` to the current document using `curdoc().add_root()`. It needs to be passed in as an argument to `add_root()`."
   ]
  },
  {
   "cell_type": "code",
   "execution_count": 66,
   "metadata": {},
   "outputs": [
    {
     "data": {
      "text/html": [
       "\n",
       "\n",
       "\n",
       "\n",
       "\n",
       "\n",
       "  <div class=\"bk-root\" id=\"4e14c6e8-baec-4e3a-b289-7e31f3d38edb\" data-root-id=\"21985\"></div>\n"
      ]
     },
     "metadata": {},
     "output_type": "display_data"
    },
    {
     "data": {
      "application/javascript": [
       "(function(root) {\n",
       "  function embed_document(root) {\n",
       "    \n",
       "  var docs_json = {\"aaa22907-b852-4abe-9104-6f79687e3fc3\":{\"defs\":[{\"extends\":null,\"module\":null,\"name\":\"DataModel\",\"overrides\":[],\"properties\":[]}],\"roots\":{\"references\":[{\"attributes\":{\"below\":[{\"id\":\"21994\"}],\"center\":[{\"id\":\"21997\"},{\"id\":\"22001\"}],\"height\":300,\"left\":[{\"id\":\"21998\"}],\"renderers\":[{\"id\":\"22019\"}],\"title\":{\"id\":\"22718\"},\"toolbar\":{\"id\":\"22009\"},\"width\":300,\"x_range\":{\"id\":\"21986\"},\"x_scale\":{\"id\":\"21990\"},\"y_range\":{\"id\":\"21988\"},\"y_scale\":{\"id\":\"21992\"}},\"id\":\"21985\",\"subtype\":\"Figure\",\"type\":\"Plot\"},{\"attributes\":{},\"id\":\"22723\",\"type\":\"BasicTickFormatter\"},{\"attributes\":{},\"id\":\"21988\",\"type\":\"DataRange1d\"},{\"attributes\":{\"active_multi\":null,\"tools\":[{\"id\":\"22002\"},{\"id\":\"22003\"},{\"id\":\"22004\"},{\"id\":\"22005\"},{\"id\":\"22006\"},{\"id\":\"22007\"}]},\"id\":\"22009\",\"type\":\"Toolbar\"},{\"attributes\":{},\"id\":\"22006\",\"type\":\"ResetTool\"},{\"attributes\":{},\"id\":\"22724\",\"type\":\"AllLabels\"},{\"attributes\":{},\"id\":\"22005\",\"type\":\"SaveTool\"},{\"attributes\":{\"overlay\":{\"id\":\"22008\"}},\"id\":\"22004\",\"type\":\"BoxZoomTool\"},{\"attributes\":{},\"id\":\"22002\",\"type\":\"PanTool\"},{\"attributes\":{},\"id\":\"22003\",\"type\":\"WheelZoomTool\"},{\"attributes\":{},\"id\":\"21999\",\"type\":\"BasicTicker\"},{\"attributes\":{},\"id\":\"21986\",\"type\":\"DataRange1d\"},{\"attributes\":{\"formatter\":{\"id\":\"22723\"},\"major_label_policy\":{\"id\":\"22724\"},\"ticker\":{\"id\":\"21995\"}},\"id\":\"21994\",\"type\":\"LinearAxis\"},{\"attributes\":{\"line_color\":\"#1f77b4\",\"x\":{\"field\":\"x\"},\"y\":{\"field\":\"y\"}},\"id\":\"22017\",\"type\":\"Line\"},{\"attributes\":{},\"id\":\"22726\",\"type\":\"UnionRenderers\"},{\"attributes\":{},\"id\":\"22727\",\"type\":\"Selection\"},{\"attributes\":{\"axis\":{\"id\":\"21998\"},\"dimension\":1,\"ticker\":null},\"id\":\"22001\",\"type\":\"Grid\"},{\"attributes\":{},\"id\":\"22718\",\"type\":\"Title\"},{\"attributes\":{\"line_alpha\":0.1,\"line_color\":\"#1f77b4\",\"x\":{\"field\":\"x\"},\"y\":{\"field\":\"y\"}},\"id\":\"22018\",\"type\":\"Line\"},{\"attributes\":{\"formatter\":{\"id\":\"22720\"},\"major_label_policy\":{\"id\":\"22721\"},\"ticker\":{\"id\":\"21999\"}},\"id\":\"21998\",\"type\":\"LinearAxis\"},{\"attributes\":{},\"id\":\"22720\",\"type\":\"BasicTickFormatter\"},{\"attributes\":{},\"id\":\"22007\",\"type\":\"HelpTool\"},{\"attributes\":{\"bottom_units\":\"screen\",\"fill_alpha\":0.5,\"fill_color\":\"lightgrey\",\"left_units\":\"screen\",\"level\":\"overlay\",\"line_alpha\":1.0,\"line_color\":\"black\",\"line_dash\":[4,4],\"line_width\":2,\"right_units\":\"screen\",\"syncable\":false,\"top_units\":\"screen\"},\"id\":\"22008\",\"type\":\"BoxAnnotation\"},{\"attributes\":{},\"id\":\"21995\",\"type\":\"BasicTicker\"},{\"attributes\":{\"source\":{\"id\":\"22016\"}},\"id\":\"22020\",\"type\":\"CDSView\"},{\"attributes\":{\"axis\":{\"id\":\"21994\"},\"ticker\":null},\"id\":\"21997\",\"type\":\"Grid\"},{\"attributes\":{},\"id\":\"21992\",\"type\":\"LinearScale\"},{\"attributes\":{\"data_source\":{\"id\":\"22016\"},\"glyph\":{\"id\":\"22017\"},\"hover_glyph\":null,\"muted_glyph\":null,\"nonselection_glyph\":{\"id\":\"22018\"},\"view\":{\"id\":\"22020\"}},\"id\":\"22019\",\"type\":\"GlyphRenderer\"},{\"attributes\":{\"data\":{\"x\":[1,2,3,4,5],\"y\":[2,5,4,6,7]},\"selected\":{\"id\":\"22727\"},\"selection_policy\":{\"id\":\"22726\"}},\"id\":\"22016\",\"type\":\"ColumnDataSource\"},{\"attributes\":{},\"id\":\"22721\",\"type\":\"AllLabels\"},{\"attributes\":{},\"id\":\"21990\",\"type\":\"LinearScale\"}],\"root_ids\":[\"21985\"]},\"title\":\"Bokeh Application\",\"version\":\"2.3.0\"}};\n",
       "  var render_items = [{\"docid\":\"aaa22907-b852-4abe-9104-6f79687e3fc3\",\"root_ids\":[\"21985\"],\"roots\":{\"21985\":\"4e14c6e8-baec-4e3a-b289-7e31f3d38edb\"}}];\n",
       "  root.Bokeh.embed.embed_items_notebook(docs_json, render_items);\n",
       "\n",
       "  }\n",
       "  if (root.Bokeh !== undefined) {\n",
       "    embed_document(root);\n",
       "  } else {\n",
       "    var attempts = 0;\n",
       "    var timer = setInterval(function(root) {\n",
       "      if (root.Bokeh !== undefined) {\n",
       "        clearInterval(timer);\n",
       "        embed_document(root);\n",
       "      } else {\n",
       "        attempts++;\n",
       "        if (attempts > 100) {\n",
       "          clearInterval(timer);\n",
       "          console.log(\"Bokeh: ERROR: Unable to run BokehJS code because BokehJS library is missing\");\n",
       "        }\n",
       "      }\n",
       "    }, 10, root)\n",
       "  }\n",
       "})(window);"
      ],
      "application/vnd.bokehjs_exec.v0+json": ""
     },
     "metadata": {
      "application/vnd.bokehjs_exec.v0+json": {
       "id": "21985"
      }
     },
     "output_type": "display_data"
    }
   ],
   "source": [
    "# Create a new plot: plot\n",
    "plot = figure(plot_width=300, plot_height=300)\n",
    "\n",
    "# Add a line to the plot\n",
    "plot.line(x=[1,2,3,4,5], y=[2,5,4,6,7])\n",
    "\n",
    "# Add the plot to the current document\n",
    "curdoc().add_root(plot)\n",
    "show(plot)"
   ]
  },
  {
   "cell_type": "markdown",
   "metadata": {},
   "source": [
    "### Add a single slider\n",
    "\n",
    "In the previous exercise, you added a single plot to the \"current document\" of your application. In this exercise, you'll practice adding a layout to your current document.\n",
    "\n",
    "Your job here is to create a single slider, use it to create a widgetbox layout, and then add this layout to the current document.\n",
    "\n",
    "The slider you create here cannot be used for much, but in the later exercises, you'll use it to update your plots!\n",
    "\n",
    "**Instructions**\n",
    "\n",
    "* Import `curdoc` from `bokeh.io`, `widgetbox` from `bokeh.layouts`, and `Slide`r from `bokeh.models`.\n",
    "* Create a slider called `slider` by using the `Slider()` function and specifying the parameters `title`, `start`, `end`, `step`, and `value`.\n",
    "* Use the slider to create a widgetbox layout called `layout`.\n",
    "* Add the layout to the current document using `curdoc().add_root()`. It needs to be passed in as an argument to `add_root()`."
   ]
  },
  {
   "cell_type": "code",
   "execution_count": 67,
   "metadata": {},
   "outputs": [
    {
     "data": {
      "text/html": [
       "\n",
       "\n",
       "\n",
       "\n",
       "\n",
       "\n",
       "  <div class=\"bk-root\" id=\"d026c1ea-dce2-47d1-9d1c-36ddd679c737\" data-root-id=\"22785\"></div>\n"
      ]
     },
     "metadata": {},
     "output_type": "display_data"
    },
    {
     "data": {
      "application/javascript": [
       "(function(root) {\n",
       "  function embed_document(root) {\n",
       "    \n",
       "  var docs_json = {\"e1ed5f32-196f-4a51-bd3b-65237532e76d\":{\"defs\":[{\"extends\":null,\"module\":null,\"name\":\"DataModel\",\"overrides\":[],\"properties\":[]}],\"roots\":{\"references\":[{\"attributes\":{\"children\":[{\"id\":\"22784\"}]},\"id\":\"22785\",\"type\":\"Column\"},{\"attributes\":{\"end\":10,\"start\":0,\"step\":0.1,\"title\":\"my slider\",\"value\":2},\"id\":\"22784\",\"type\":\"Slider\"}],\"root_ids\":[\"22785\"]},\"title\":\"Bokeh Application\",\"version\":\"2.3.0\"}};\n",
       "  var render_items = [{\"docid\":\"e1ed5f32-196f-4a51-bd3b-65237532e76d\",\"root_ids\":[\"22785\"],\"roots\":{\"22785\":\"d026c1ea-dce2-47d1-9d1c-36ddd679c737\"}}];\n",
       "  root.Bokeh.embed.embed_items_notebook(docs_json, render_items);\n",
       "\n",
       "  }\n",
       "  if (root.Bokeh !== undefined) {\n",
       "    embed_document(root);\n",
       "  } else {\n",
       "    var attempts = 0;\n",
       "    var timer = setInterval(function(root) {\n",
       "      if (root.Bokeh !== undefined) {\n",
       "        clearInterval(timer);\n",
       "        embed_document(root);\n",
       "      } else {\n",
       "        attempts++;\n",
       "        if (attempts > 100) {\n",
       "          clearInterval(timer);\n",
       "          console.log(\"Bokeh: ERROR: Unable to run BokehJS code because BokehJS library is missing\");\n",
       "        }\n",
       "      }\n",
       "    }, 10, root)\n",
       "  }\n",
       "})(window);"
      ],
      "application/vnd.bokehjs_exec.v0+json": ""
     },
     "metadata": {
      "application/vnd.bokehjs_exec.v0+json": {
       "id": "22785"
      }
     },
     "output_type": "display_data"
    }
   ],
   "source": [
    "# Create a slider: slider\n",
    "slider = Slider(title='my slider', start=0, end=10, step=0.1, value=2)\n",
    "\n",
    "# Create a widgetbox layout: layout\n",
    "layout = Column(slider)  # widgetbox is deprecated\n",
    "\n",
    "# Add the layout to the current document\n",
    "curdoc().add_root(layout)\n",
    "show(layout)"
   ]
  },
  {
   "cell_type": "markdown",
   "metadata": {},
   "source": [
    "### Multiple sliders in one document\n",
    "\n",
    "Having added a single slider in a widgetbox layout to your current document, you'll now add multiple sliders into the current document.\n",
    "\n",
    "Your job in this exercise is to create two sliders, add them to a widgetbox layout, and then add the layout into the current document.\n",
    "\n",
    "**Instructions**\n",
    "\n",
    "* Create the first slider, `slider1`, using the `Slider()` function. Give it a title of `'slider1'`. Have it `start` at `0`, `end` at `10`, with a `step` of `0.1` and initial `value` of `2`.\n",
    "* Create the second slider, `slider2`, using the `Slider()` function. Give it a title of `'slider2'`. Have it `start` at `10`, `end` at `100`, with a `step` of `1` and initial `value` of `20`.\n",
    "* Use `slider1` and `slider2` to create a widgetbox layout called `layout`.\n",
    "* Add the layout to the current document using `curdoc().add_root()`. This has already been done for you."
   ]
  },
  {
   "cell_type": "code",
   "execution_count": 68,
   "metadata": {},
   "outputs": [
    {
     "data": {
      "text/html": [
       "\n",
       "\n",
       "\n",
       "\n",
       "\n",
       "\n",
       "  <div class=\"bk-root\" id=\"799c4b1a-eb34-4d59-ac10-22da7c65cf1d\" data-root-id=\"23496\"></div>\n"
      ]
     },
     "metadata": {},
     "output_type": "display_data"
    },
    {
     "data": {
      "application/javascript": [
       "(function(root) {\n",
       "  function embed_document(root) {\n",
       "    \n",
       "  var docs_json = {\"79fdf913-f510-4d7b-8968-28a1d47e25d3\":{\"defs\":[{\"extends\":null,\"module\":null,\"name\":\"DataModel\",\"overrides\":[],\"properties\":[]}],\"roots\":{\"references\":[{\"attributes\":{\"children\":[{\"id\":\"23494\"},{\"id\":\"23495\"}]},\"id\":\"23496\",\"type\":\"Column\"},{\"attributes\":{\"end\":10,\"start\":0,\"step\":0.1,\"title\":\"slider1\",\"value\":2},\"id\":\"23494\",\"type\":\"Slider\"},{\"attributes\":{\"end\":100,\"start\":10,\"title\":\"slider2\",\"value\":20},\"id\":\"23495\",\"type\":\"Slider\"}],\"root_ids\":[\"23496\"]},\"title\":\"Bokeh Application\",\"version\":\"2.3.0\"}};\n",
       "  var render_items = [{\"docid\":\"79fdf913-f510-4d7b-8968-28a1d47e25d3\",\"root_ids\":[\"23496\"],\"roots\":{\"23496\":\"799c4b1a-eb34-4d59-ac10-22da7c65cf1d\"}}];\n",
       "  root.Bokeh.embed.embed_items_notebook(docs_json, render_items);\n",
       "\n",
       "  }\n",
       "  if (root.Bokeh !== undefined) {\n",
       "    embed_document(root);\n",
       "  } else {\n",
       "    var attempts = 0;\n",
       "    var timer = setInterval(function(root) {\n",
       "      if (root.Bokeh !== undefined) {\n",
       "        clearInterval(timer);\n",
       "        embed_document(root);\n",
       "      } else {\n",
       "        attempts++;\n",
       "        if (attempts > 100) {\n",
       "          clearInterval(timer);\n",
       "          console.log(\"Bokeh: ERROR: Unable to run BokehJS code because BokehJS library is missing\");\n",
       "        }\n",
       "      }\n",
       "    }, 10, root)\n",
       "  }\n",
       "})(window);"
      ],
      "application/vnd.bokehjs_exec.v0+json": ""
     },
     "metadata": {
      "application/vnd.bokehjs_exec.v0+json": {
       "id": "23496"
      }
     },
     "output_type": "display_data"
    }
   ],
   "source": [
    "# Create first slider: slider1\n",
    "slider1 = Slider(title='slider1', start=0, end=10, step=0.1, value=2)\n",
    "\n",
    "# Create second slider: slider2\n",
    "slider2 = Slider(title='slider2', start=10, end=100, step=1, value=20)\n",
    "\n",
    "# Add slider1 and slider2 to a widgetbox\n",
    "layout = Column(slider1, slider2)\n",
    "\n",
    "# Add the layout to the current document\n",
    "curdoc().add_root(layout)\n",
    "show(layout)"
   ]
  },
  {
   "cell_type": "markdown",
   "metadata": {},
   "source": [
    "## Connecting sliders to plots\n",
    "\n",
    "**A slider example**"
   ]
  },
  {
   "cell_type": "code",
   "execution_count": 70,
   "metadata": {},
   "outputs": [
    {
     "ename": "ValueError",
     "evalue": "No closing quotation",
     "output_type": "error",
     "traceback": [
      "\u001b[0;31m---------------------------------------------------------------------------\u001b[0m",
      "\u001b[0;31mValueError\u001b[0m                                Traceback (most recent call last)",
      "\u001b[0;32m<ipython-input-70-15a44ab42bcf>\u001b[0m in \u001b[0;36m<module>\u001b[0;34m\u001b[0m\n\u001b[0;32m----> 1\u001b[0;31m \u001b[0mget_ipython\u001b[0m\u001b[0;34m(\u001b[0m\u001b[0;34m)\u001b[0m\u001b[0;34m.\u001b[0m\u001b[0mrun_cell_magic\u001b[0m\u001b[0;34m(\u001b[0m\u001b[0;34m'script'\u001b[0m\u001b[0;34m,\u001b[0m \u001b[0;34m\"false  # doesn't work in Jupyter as configured\"\u001b[0m\u001b[0;34m,\u001b[0m \u001b[0;34m\"# imported at the top of the notebook\\n# from bokeh.io import curdoc\\n# from bokeh.layouts import column\\n# from bokeh.models import ColumnDataSource, Slider\\n# from bokeh.plotting import figure\\n# from numpy.random import random\\n\\nN = 300\\nnp.random.seed(365)\\nsource = ColumnDataSource(data={'x': np.random.random(N), 'y': np.random.random(N)})\\n\\n# Create plots and widgets\\nplot = figure()\\nplot.circle(x= 'x', y='y', source=source)\\nslider = Slider(start=100, end=1000, value=N,\\nstep=10, title='Number of points')\\n\\n# Add callback to widgets\\ndef callback(attr, old, new):\\n    N = slider.value\\n    source.data={'x': np.random.random(N), 'y': np.random.random(N)}\\n    \\nslider.on_change('value', callback)\\n\\n# Arrange plots and widgets in layouts\\nlayout = column(slider, plot)\\ncurdoc().add_root(layout)\\nshow(layout)\\n\"\u001b[0m\u001b[0;34m)\u001b[0m\u001b[0;34m\u001b[0m\u001b[0;34m\u001b[0m\u001b[0m\n\u001b[0m",
      "\u001b[0;32m~/miniconda3/envs/gridToolsGeopandas/lib/python3.9/site-packages/IPython/core/interactiveshell.py\u001b[0m in \u001b[0;36mrun_cell_magic\u001b[0;34m(self, magic_name, line, cell)\u001b[0m\n\u001b[1;32m   2397\u001b[0m             \u001b[0;32mwith\u001b[0m \u001b[0mself\u001b[0m\u001b[0;34m.\u001b[0m\u001b[0mbuiltin_trap\u001b[0m\u001b[0;34m:\u001b[0m\u001b[0;34m\u001b[0m\u001b[0;34m\u001b[0m\u001b[0m\n\u001b[1;32m   2398\u001b[0m                 \u001b[0margs\u001b[0m \u001b[0;34m=\u001b[0m \u001b[0;34m(\u001b[0m\u001b[0mmagic_arg_s\u001b[0m\u001b[0;34m,\u001b[0m \u001b[0mcell\u001b[0m\u001b[0;34m)\u001b[0m\u001b[0;34m\u001b[0m\u001b[0;34m\u001b[0m\u001b[0m\n\u001b[0;32m-> 2399\u001b[0;31m                 \u001b[0mresult\u001b[0m \u001b[0;34m=\u001b[0m \u001b[0mfn\u001b[0m\u001b[0;34m(\u001b[0m\u001b[0;34m*\u001b[0m\u001b[0margs\u001b[0m\u001b[0;34m,\u001b[0m \u001b[0;34m**\u001b[0m\u001b[0mkwargs\u001b[0m\u001b[0;34m)\u001b[0m\u001b[0;34m\u001b[0m\u001b[0;34m\u001b[0m\u001b[0m\n\u001b[0m\u001b[1;32m   2400\u001b[0m             \u001b[0;32mreturn\u001b[0m \u001b[0mresult\u001b[0m\u001b[0;34m\u001b[0m\u001b[0;34m\u001b[0m\u001b[0m\n\u001b[1;32m   2401\u001b[0m \u001b[0;34m\u001b[0m\u001b[0m\n",
      "\u001b[0;32m<decorator-gen-103>\u001b[0m in \u001b[0;36mshebang\u001b[0;34m(self, line, cell)\u001b[0m\n",
      "\u001b[0;32m~/miniconda3/envs/gridToolsGeopandas/lib/python3.9/site-packages/IPython/core/magic.py\u001b[0m in \u001b[0;36m<lambda>\u001b[0;34m(f, *a, **k)\u001b[0m\n\u001b[1;32m    185\u001b[0m     \u001b[0;31m# but it's overkill for just that one bit of state.\u001b[0m\u001b[0;34m\u001b[0m\u001b[0;34m\u001b[0m\u001b[0;34m\u001b[0m\u001b[0m\n\u001b[1;32m    186\u001b[0m     \u001b[0;32mdef\u001b[0m \u001b[0mmagic_deco\u001b[0m\u001b[0;34m(\u001b[0m\u001b[0marg\u001b[0m\u001b[0;34m)\u001b[0m\u001b[0;34m:\u001b[0m\u001b[0;34m\u001b[0m\u001b[0;34m\u001b[0m\u001b[0m\n\u001b[0;32m--> 187\u001b[0;31m         \u001b[0mcall\u001b[0m \u001b[0;34m=\u001b[0m \u001b[0;32mlambda\u001b[0m \u001b[0mf\u001b[0m\u001b[0;34m,\u001b[0m \u001b[0;34m*\u001b[0m\u001b[0ma\u001b[0m\u001b[0;34m,\u001b[0m \u001b[0;34m**\u001b[0m\u001b[0mk\u001b[0m\u001b[0;34m:\u001b[0m \u001b[0mf\u001b[0m\u001b[0;34m(\u001b[0m\u001b[0;34m*\u001b[0m\u001b[0ma\u001b[0m\u001b[0;34m,\u001b[0m \u001b[0;34m**\u001b[0m\u001b[0mk\u001b[0m\u001b[0;34m)\u001b[0m\u001b[0;34m\u001b[0m\u001b[0;34m\u001b[0m\u001b[0m\n\u001b[0m\u001b[1;32m    188\u001b[0m \u001b[0;34m\u001b[0m\u001b[0m\n\u001b[1;32m    189\u001b[0m         \u001b[0;32mif\u001b[0m \u001b[0mcallable\u001b[0m\u001b[0;34m(\u001b[0m\u001b[0marg\u001b[0m\u001b[0;34m)\u001b[0m\u001b[0;34m:\u001b[0m\u001b[0;34m\u001b[0m\u001b[0;34m\u001b[0m\u001b[0m\n",
      "\u001b[0;32m~/miniconda3/envs/gridToolsGeopandas/lib/python3.9/site-packages/IPython/core/magics/script.py\u001b[0m in \u001b[0;36mshebang\u001b[0;34m(self, line, cell)\u001b[0m\n\u001b[1;32m    176\u001b[0m             \u001b[0;36m3\u001b[0m\u001b[0;34m\u001b[0m\u001b[0;34m\u001b[0m\u001b[0m\n\u001b[1;32m    177\u001b[0m         \"\"\"\n\u001b[0;32m--> 178\u001b[0;31m         \u001b[0margv\u001b[0m \u001b[0;34m=\u001b[0m \u001b[0marg_split\u001b[0m\u001b[0;34m(\u001b[0m\u001b[0mline\u001b[0m\u001b[0;34m,\u001b[0m \u001b[0mposix\u001b[0m \u001b[0;34m=\u001b[0m \u001b[0;32mnot\u001b[0m \u001b[0msys\u001b[0m\u001b[0;34m.\u001b[0m\u001b[0mplatform\u001b[0m\u001b[0;34m.\u001b[0m\u001b[0mstartswith\u001b[0m\u001b[0;34m(\u001b[0m\u001b[0;34m'win'\u001b[0m\u001b[0;34m)\u001b[0m\u001b[0;34m)\u001b[0m\u001b[0;34m\u001b[0m\u001b[0;34m\u001b[0m\u001b[0m\n\u001b[0m\u001b[1;32m    179\u001b[0m         \u001b[0margs\u001b[0m\u001b[0;34m,\u001b[0m \u001b[0mcmd\u001b[0m \u001b[0;34m=\u001b[0m \u001b[0mself\u001b[0m\u001b[0;34m.\u001b[0m\u001b[0mshebang\u001b[0m\u001b[0;34m.\u001b[0m\u001b[0mparser\u001b[0m\u001b[0;34m.\u001b[0m\u001b[0mparse_known_args\u001b[0m\u001b[0;34m(\u001b[0m\u001b[0margv\u001b[0m\u001b[0;34m)\u001b[0m\u001b[0;34m\u001b[0m\u001b[0;34m\u001b[0m\u001b[0m\n\u001b[1;32m    180\u001b[0m \u001b[0;34m\u001b[0m\u001b[0m\n",
      "\u001b[0;32m~/miniconda3/envs/gridToolsGeopandas/lib/python3.9/site-packages/IPython/utils/_process_common.py\u001b[0m in \u001b[0;36marg_split\u001b[0;34m(s, posix, strict)\u001b[0m\n\u001b[1;32m    200\u001b[0m     \u001b[0;32mwhile\u001b[0m \u001b[0;32mTrue\u001b[0m\u001b[0;34m:\u001b[0m\u001b[0;34m\u001b[0m\u001b[0;34m\u001b[0m\u001b[0m\n\u001b[1;32m    201\u001b[0m         \u001b[0;32mtry\u001b[0m\u001b[0;34m:\u001b[0m\u001b[0;34m\u001b[0m\u001b[0;34m\u001b[0m\u001b[0m\n\u001b[0;32m--> 202\u001b[0;31m             \u001b[0mtokens\u001b[0m\u001b[0;34m.\u001b[0m\u001b[0mappend\u001b[0m\u001b[0;34m(\u001b[0m\u001b[0mnext\u001b[0m\u001b[0;34m(\u001b[0m\u001b[0mlex\u001b[0m\u001b[0;34m)\u001b[0m\u001b[0;34m)\u001b[0m\u001b[0;34m\u001b[0m\u001b[0;34m\u001b[0m\u001b[0m\n\u001b[0m\u001b[1;32m    203\u001b[0m         \u001b[0;32mexcept\u001b[0m \u001b[0mStopIteration\u001b[0m\u001b[0;34m:\u001b[0m\u001b[0;34m\u001b[0m\u001b[0;34m\u001b[0m\u001b[0m\n\u001b[1;32m    204\u001b[0m             \u001b[0;32mbreak\u001b[0m\u001b[0;34m\u001b[0m\u001b[0;34m\u001b[0m\u001b[0m\n",
      "\u001b[0;32m~/miniconda3/envs/gridToolsGeopandas/lib/python3.9/shlex.py\u001b[0m in \u001b[0;36m__next__\u001b[0;34m(self)\u001b[0m\n\u001b[1;32m    298\u001b[0m \u001b[0;34m\u001b[0m\u001b[0m\n\u001b[1;32m    299\u001b[0m     \u001b[0;32mdef\u001b[0m \u001b[0m__next__\u001b[0m\u001b[0;34m(\u001b[0m\u001b[0mself\u001b[0m\u001b[0;34m)\u001b[0m\u001b[0;34m:\u001b[0m\u001b[0;34m\u001b[0m\u001b[0;34m\u001b[0m\u001b[0m\n\u001b[0;32m--> 300\u001b[0;31m         \u001b[0mtoken\u001b[0m \u001b[0;34m=\u001b[0m \u001b[0mself\u001b[0m\u001b[0;34m.\u001b[0m\u001b[0mget_token\u001b[0m\u001b[0;34m(\u001b[0m\u001b[0;34m)\u001b[0m\u001b[0;34m\u001b[0m\u001b[0;34m\u001b[0m\u001b[0m\n\u001b[0m\u001b[1;32m    301\u001b[0m         \u001b[0;32mif\u001b[0m \u001b[0mtoken\u001b[0m \u001b[0;34m==\u001b[0m \u001b[0mself\u001b[0m\u001b[0;34m.\u001b[0m\u001b[0meof\u001b[0m\u001b[0;34m:\u001b[0m\u001b[0;34m\u001b[0m\u001b[0;34m\u001b[0m\u001b[0m\n\u001b[1;32m    302\u001b[0m             \u001b[0;32mraise\u001b[0m \u001b[0mStopIteration\u001b[0m\u001b[0;34m\u001b[0m\u001b[0;34m\u001b[0m\u001b[0m\n",
      "\u001b[0;32m~/miniconda3/envs/gridToolsGeopandas/lib/python3.9/shlex.py\u001b[0m in \u001b[0;36mget_token\u001b[0;34m(self)\u001b[0m\n\u001b[1;32m    107\u001b[0m             \u001b[0;32mreturn\u001b[0m \u001b[0mtok\u001b[0m\u001b[0;34m\u001b[0m\u001b[0;34m\u001b[0m\u001b[0m\n\u001b[1;32m    108\u001b[0m         \u001b[0;31m# No pushback.  Get a token.\u001b[0m\u001b[0;34m\u001b[0m\u001b[0;34m\u001b[0m\u001b[0;34m\u001b[0m\u001b[0m\n\u001b[0;32m--> 109\u001b[0;31m         \u001b[0mraw\u001b[0m \u001b[0;34m=\u001b[0m \u001b[0mself\u001b[0m\u001b[0;34m.\u001b[0m\u001b[0mread_token\u001b[0m\u001b[0;34m(\u001b[0m\u001b[0;34m)\u001b[0m\u001b[0;34m\u001b[0m\u001b[0;34m\u001b[0m\u001b[0m\n\u001b[0m\u001b[1;32m    110\u001b[0m         \u001b[0;31m# Handle inclusions\u001b[0m\u001b[0;34m\u001b[0m\u001b[0;34m\u001b[0m\u001b[0;34m\u001b[0m\u001b[0m\n\u001b[1;32m    111\u001b[0m         \u001b[0;32mif\u001b[0m \u001b[0mself\u001b[0m\u001b[0;34m.\u001b[0m\u001b[0msource\u001b[0m \u001b[0;32mis\u001b[0m \u001b[0;32mnot\u001b[0m \u001b[0;32mNone\u001b[0m\u001b[0;34m:\u001b[0m\u001b[0;34m\u001b[0m\u001b[0;34m\u001b[0m\u001b[0m\n",
      "\u001b[0;32m~/miniconda3/envs/gridToolsGeopandas/lib/python3.9/shlex.py\u001b[0m in \u001b[0;36mread_token\u001b[0;34m(self)\u001b[0m\n\u001b[1;32m    189\u001b[0m                         \u001b[0mprint\u001b[0m\u001b[0;34m(\u001b[0m\u001b[0;34m\"shlex: I see EOF in quotes state\"\u001b[0m\u001b[0;34m)\u001b[0m\u001b[0;34m\u001b[0m\u001b[0;34m\u001b[0m\u001b[0m\n\u001b[1;32m    190\u001b[0m                     \u001b[0;31m# XXX what error should be raised here?\u001b[0m\u001b[0;34m\u001b[0m\u001b[0;34m\u001b[0m\u001b[0;34m\u001b[0m\u001b[0m\n\u001b[0;32m--> 191\u001b[0;31m                     \u001b[0;32mraise\u001b[0m \u001b[0mValueError\u001b[0m\u001b[0;34m(\u001b[0m\u001b[0;34m\"No closing quotation\"\u001b[0m\u001b[0;34m)\u001b[0m\u001b[0;34m\u001b[0m\u001b[0;34m\u001b[0m\u001b[0m\n\u001b[0m\u001b[1;32m    192\u001b[0m                 \u001b[0;32mif\u001b[0m \u001b[0mnextchar\u001b[0m \u001b[0;34m==\u001b[0m \u001b[0mself\u001b[0m\u001b[0;34m.\u001b[0m\u001b[0mstate\u001b[0m\u001b[0;34m:\u001b[0m\u001b[0;34m\u001b[0m\u001b[0;34m\u001b[0m\u001b[0m\n\u001b[1;32m    193\u001b[0m                     \u001b[0;32mif\u001b[0m \u001b[0;32mnot\u001b[0m \u001b[0mself\u001b[0m\u001b[0;34m.\u001b[0m\u001b[0mposix\u001b[0m\u001b[0;34m:\u001b[0m\u001b[0;34m\u001b[0m\u001b[0;34m\u001b[0m\u001b[0m\n",
      "\u001b[0;31mValueError\u001b[0m: No closing quotation"
     ]
    }
   ],
   "source": [
    "%%script false  # doesn't work in Jupyter as configured\n",
    "# imported at the top of the notebook\n",
    "# from bokeh.io import curdoc\n",
    "# from bokeh.layouts import column\n",
    "# from bokeh.models import ColumnDataSource, Slider\n",
    "# from bokeh.plotting import figure\n",
    "# from numpy.random import random\n",
    "\n",
    "N = 300\n",
    "np.random.seed(365)\n",
    "source = ColumnDataSource(data={'x': np.random.random(N), 'y': np.random.random(N)})\n",
    "\n",
    "# Create plots and widgets\n",
    "plot = figure()\n",
    "plot.circle(x= 'x', y='y', source=source)\n",
    "slider = Slider(start=100, end=1000, value=N,\n",
    "step=10, title='Number of points')\n",
    "\n",
    "# Add callback to widgets\n",
    "def callback(attr, old, new):\n",
    "    N = slider.value\n",
    "    source.data={'x': np.random.random(N), 'y': np.random.random(N)}\n",
    "    \n",
    "slider.on_change('value', callback)\n",
    "\n",
    "# Arrange plots and widgets in layouts\n",
    "layout = column(slider, plot)\n",
    "curdoc().add_root(layout)\n",
    "show(layout)"
   ]
  },
  {
   "cell_type": "markdown",
   "metadata": {},
   "source": [
    "* See [Running a Bokeh Server][3]\n",
    "* The previous code doesn't function in a Jupyter Notebook, for the stated reason shown above.\n",
    "* [stack**overflow**: How to link a multiselect widget to a datatable using bokeh in a jupyter notebook?][1] and [Embedding a Bokeh server in a Notebook][2] resolve the issue.\n",
    "\n",
    "  [1]: https://stackoverflow.com/questions/50826750/how-to-link-a-multiselect-widget-to-a-datatable-using-bokeh-in-a-jupyter-noteboo/50850057#50850057\n",
    "  [2]: https://github.com/bokeh/bokeh/blob/master/examples/howto/server_embed/notebook_embed.ipynb\n",
    "  [3]: https://docs.bokeh.org/en/latest/docs/user_guide/server.html"
   ]
  },
  {
   "cell_type": "code",
   "execution_count": null,
   "metadata": {},
   "outputs": [],
   "source": [
    "%%script false  # imported at the top, don't run here.\n",
    "\n",
    "from bokeh.themes import Theme\n",
    "import yaml"
   ]
  },
  {
   "cell_type": "code",
   "execution_count": null,
   "metadata": {},
   "outputs": [],
   "source": [
    "def bkapp(doc):\n",
    "    N = 300\n",
    "    np.random.seed(365)\n",
    "    source = ColumnDataSource(data={'x': np.random.random(N), 'y': np.random.random(N)})\n",
    "\n",
    "    # Create plots and widgets\n",
    "    plot = figure()\n",
    "    plot.circle(x= 'x', y='y', source=source)\n",
    "    slider = Slider(start=100, end=1000, value=N, step=10, title='Number of points')\n",
    "\n",
    "    # Add callback to widgets\n",
    "    def callback(attr, old, new):\n",
    "        N = slider.value\n",
    "        source.data={'x': np.random.random(N), 'y': np.random.random(N)}\n",
    "\n",
    "    slider.on_change('value', callback)\n",
    "\n",
    "    doc.add_root(column(slider, plot))\n",
    "\n",
    "    doc.theme = Theme(json=yaml.load(\"\"\"\n",
    "        attrs:\n",
    "            Figure:\n",
    "                background_fill_color: \"#DDDDDD\"\n",
    "                outline_line_color: white\n",
    "                toolbar_location: above\n",
    "                height: 350\n",
    "                width: 350\n",
    "            Grid:\n",
    "                grid_line_dash: [6, 4]\n",
    "                grid_line_color: white\n",
    "    \"\"\", Loader=yaml.FullLoader))"
   ]
  },
  {
   "cell_type": "code",
   "execution_count": null,
   "metadata": {},
   "outputs": [],
   "source": [
    "# this won't disply in the HTML notebook\n",
    "show(bkapp)"
   ]
  },
  {
   "cell_type": "markdown",
   "metadata": {},
   "source": [
    "- Bokeh callbacks can be added to any property and the function always has the same format:\n",
    " - three parameters, `attr`, `old`, and `new`, that provice the name of the attribute that changed, as well as the old and new values.\n",
    "- The Bokeh server will supply these values whenever it calls one of your callbacks.\n",
    "- In this callback we read off the value from the slider with `N = slider.value`\n",
    "- Then, we create a new data dictionary for our column data source with new numpy arrays of random points.\n",
    "- The number of points is determined by the slider value.\n",
    "- Setting the `data` attribute on the column source is the only action required to update the plot.\n",
    "- No special trigger or commands are required.\n",
    " - Bokeh will notice the change, and synchronize the new values in the browser session, causing the plot to update and the reflect the new data automatically.\n",
    "- Callbacks like this are attached to Bokeh objects (like sliders) using the `on_change` method.\n",
    " - We call `on_change` with the name of the property we'd like to watch as the first argument, and the `callback` as the second.\n",
    " - In this case we want our callbacks to execute whenever the `value` of the slider changes, so we call `slider.on_change` with the arguments `value` and `callback`.\n",
    "- For our application we want the slider above the plot, so we call `column` with `slider` and then `plot` as arguments to get the vertical layout we desire.\n",
    "- Then we call `curdoc().add_root(layout)`, which adds the layout (and all that it contains) to our current document.\n",
    "- Nothing else is needed except to run the application and use it."
   ]
  },
  {
   "cell_type": "markdown",
   "metadata": {},
   "source": [
    "### Adding callbacks to sliders\n",
    "\n",
    "Callbacks are functions that a user can define, like `def callback(attr, old, new)`, that can be called automatically when some property of a Bokeh object (e.g., the `value` of a `Slider`) changes.\n",
    "\n",
    "How are callbacks added for the ``value`` property of ``Slider`` objects?\n",
    "\n",
    "**Answer the question**\n",
    "\n",
    "* ~~By passing a callback function to the `callback` method.~~\n",
    "* **By passing a callback function to the `on_change` method.**\n",
    " - **A callback is added by calling `myslider.on_change('value', callback)`.**\n",
    "* ~~By assigning the callback function to the `Slider.update` property.~~"
   ]
  },
  {
   "cell_type": "markdown",
   "metadata": {},
   "source": [
    "### How to combine Bokeh models into layouts\n",
    "\n",
    "Let's begin making a Bokeh application that has a simple slider and plot, that also updates the plot based on the slider.\n",
    "\n",
    "In this exercise, your job is to first explicitly create a ColumnDataSource. You'll then combine a plot and a slider into a single column layout, and add it to the current document.\n",
    "\n",
    "After you are done, notice how in the figure you generate, the slider will not actually update the plot, because a widget callback has not been defined. You'll learn how to update the plot using widget callbacks in the next exercise.\n",
    "\n",
    "All the necessary modules have been imported for you. The plot is available in the workspace as `plot`, and the `slider` is available as slider.\n",
    "\n",
    "**Instructions**\n",
    "\n",
    "* Create a ColumnDataSource called `source`. Explicitly specify the `data` parameter of `ColumnDataSource()` with `{'x': x, 'y': y}`.\n",
    "* Add a line to the figure `plot`, with `'x'` and `'y'` from the ColumnDataSource.\n",
    "* Combine the slider and the plot into a column layout called `layout`. Be sure to first create a widgetbox layout using `widgetbox()` with `slider` and pass that into the `column()` function along with `plot`."
   ]
  },
  {
   "cell_type": "code",
   "execution_count": null,
   "metadata": {
    "jupyter": {
     "source_hidden": true
    }
   },
   "outputs": [],
   "source": [
    "x = np.array([  0.3       ,   0.33244147,   0.36488294,   0.39732441,\n",
    "         0.42976589,   0.46220736,   0.49464883,   0.5270903 ,\n",
    "         0.55953177,   0.59197324,   0.62441472,   0.65685619,\n",
    "         0.68929766,   0.72173913,   0.7541806 ,   0.78662207,\n",
    "         0.81906355,   0.85150502,   0.88394649,   0.91638796,\n",
    "         0.94882943,   0.9812709 ,   1.01371237,   1.04615385,\n",
    "         1.07859532,   1.11103679,   1.14347826,   1.17591973,\n",
    "         1.2083612 ,   1.24080268,   1.27324415,   1.30568562,\n",
    "         1.33812709,   1.37056856,   1.40301003,   1.43545151,\n",
    "         1.46789298,   1.50033445,   1.53277592,   1.56521739,\n",
    "         1.59765886,   1.63010033,   1.66254181,   1.69498328,\n",
    "         1.72742475,   1.75986622,   1.79230769,   1.82474916,\n",
    "         1.85719064,   1.88963211,   1.92207358,   1.95451505,\n",
    "         1.98695652,   2.01939799,   2.05183946,   2.08428094,\n",
    "         2.11672241,   2.14916388,   2.18160535,   2.21404682,\n",
    "         2.24648829,   2.27892977,   2.31137124,   2.34381271,\n",
    "         2.37625418,   2.40869565,   2.44113712,   2.4735786 ,\n",
    "         2.50602007,   2.53846154,   2.57090301,   2.60334448,\n",
    "         2.63578595,   2.66822742,   2.7006689 ,   2.73311037,\n",
    "         2.76555184,   2.79799331,   2.83043478,   2.86287625,\n",
    "         2.89531773,   2.9277592 ,   2.96020067,   2.99264214,\n",
    "         3.02508361,   3.05752508,   3.08996656,   3.12240803,\n",
    "         3.1548495 ,   3.18729097,   3.21973244,   3.25217391,\n",
    "         3.28461538,   3.31705686,   3.34949833,   3.3819398 ,\n",
    "         3.41438127,   3.44682274,   3.47926421,   3.51170569,\n",
    "         3.54414716,   3.57658863,   3.6090301 ,   3.64147157,\n",
    "         3.67391304,   3.70635452,   3.73879599,   3.77123746,\n",
    "         3.80367893,   3.8361204 ,   3.86856187,   3.90100334,\n",
    "         3.93344482,   3.96588629,   3.99832776,   4.03076923,\n",
    "         4.0632107 ,   4.09565217,   4.12809365,   4.16053512,\n",
    "         4.19297659,   4.22541806,   4.25785953,   4.290301  ,\n",
    "         4.32274247,   4.35518395,   4.38762542,   4.42006689,\n",
    "         4.45250836,   4.48494983,   4.5173913 ,   4.54983278,\n",
    "         4.58227425,   4.61471572,   4.64715719,   4.67959866,\n",
    "         4.71204013,   4.74448161,   4.77692308,   4.80936455,\n",
    "         4.84180602,   4.87424749,   4.90668896,   4.93913043,\n",
    "         4.97157191,   5.00401338,   5.03645485,   5.06889632,\n",
    "         5.10133779,   5.13377926,   5.16622074,   5.19866221,\n",
    "         5.23110368,   5.26354515,   5.29598662,   5.32842809,\n",
    "         5.36086957,   5.39331104,   5.42575251,   5.45819398,\n",
    "         5.49063545,   5.52307692,   5.55551839,   5.58795987,\n",
    "         5.62040134,   5.65284281,   5.68528428,   5.71772575,\n",
    "         5.75016722,   5.7826087 ,   5.81505017,   5.84749164,\n",
    "         5.87993311,   5.91237458,   5.94481605,   5.97725753,\n",
    "         6.009699  ,   6.04214047,   6.07458194,   6.10702341,\n",
    "         6.13946488,   6.17190635,   6.20434783,   6.2367893 ,\n",
    "         6.26923077,   6.30167224,   6.33411371,   6.36655518,\n",
    "         6.39899666,   6.43143813,   6.4638796 ,   6.49632107,\n",
    "         6.52876254,   6.56120401,   6.59364548,   6.62608696,\n",
    "         6.65852843,   6.6909699 ,   6.72341137,   6.75585284,\n",
    "         6.78829431,   6.82073579,   6.85317726,   6.88561873,\n",
    "         6.9180602 ,   6.95050167,   6.98294314,   7.01538462,\n",
    "         7.04782609,   7.08026756,   7.11270903,   7.1451505 ,\n",
    "         7.17759197,   7.21003344,   7.24247492,   7.27491639,\n",
    "         7.30735786,   7.33979933,   7.3722408 ,   7.40468227,\n",
    "         7.43712375,   7.46956522,   7.50200669,   7.53444816,\n",
    "         7.56688963,   7.5993311 ,   7.63177258,   7.66421405,\n",
    "         7.69665552,   7.72909699,   7.76153846,   7.79397993,\n",
    "         7.8264214 ,   7.85886288,   7.89130435,   7.92374582,\n",
    "         7.95618729,   7.98862876,   8.02107023,   8.05351171,\n",
    "         8.08595318,   8.11839465,   8.15083612,   8.18327759,\n",
    "         8.21571906,   8.24816054,   8.28060201,   8.31304348,\n",
    "         8.34548495,   8.37792642,   8.41036789,   8.44280936,\n",
    "         8.47525084,   8.50769231,   8.54013378,   8.57257525,\n",
    "         8.60501672,   8.63745819,   8.66989967,   8.70234114,\n",
    "         8.73478261,   8.76722408,   8.79966555,   8.83210702,\n",
    "         8.86454849,   8.89698997,   8.92943144,   8.96187291,\n",
    "         8.99431438,   9.02675585,   9.05919732,   9.0916388 ,\n",
    "         9.12408027,   9.15652174,   9.18896321,   9.22140468,\n",
    "         9.25384615,   9.28628763,   9.3187291 ,   9.35117057,\n",
    "         9.38361204,   9.41605351,   9.44849498,   9.48093645,\n",
    "         9.51337793,   9.5458194 ,   9.57826087,   9.61070234,\n",
    "         9.64314381,   9.67558528,   9.70802676,   9.74046823,\n",
    "         9.7729097 ,   9.80535117,   9.83779264,   9.87023411,\n",
    "         9.90267559,   9.93511706,   9.96755853,  10.        ])"
   ]
  },
  {
   "cell_type": "code",
   "execution_count": null,
   "metadata": {},
   "outputs": [],
   "source": [
    "y = [np.sin(1/y) for y in x]"
   ]
  },
  {
   "cell_type": "code",
   "execution_count": null,
   "metadata": {},
   "outputs": [],
   "source": [
    "# Create ColumnDataSource: source\n",
    "source = ColumnDataSource(data={'x': x, 'y': y})\n",
    "\n",
    "# create slider\n",
    "slider = Slider(title='scale', start=1, end=10, step=1, value=1)\n",
    "\n",
    "# Add a line to the plot\n",
    "plot = figure()\n",
    "plot.line('x', 'y', source=source)\n",
    "\n",
    "# Create a column layout: layout\n",
    "# layout = column(widgetbox(slider), plot)  # Deprecated\n",
    "layout = Column(slider, plot)\n",
    "\n",
    "# Add the layout to the current document\n",
    "curdoc().add_root(layout)\n",
    "show(layout)"
   ]
  },
  {
   "cell_type": "markdown",
   "metadata": {},
   "source": [
    "**Since a widget callback hasn't been defined here, the slider does not update the figure.**"
   ]
  },
  {
   "cell_type": "markdown",
   "metadata": {},
   "source": [
    "### Learn about widget callbacks\n",
    "\n",
    "You'll now learn how to use widget callbacks to update the state of a Bokeh application, and in turn, the data that is presented to the user.\n",
    "\n",
    "Your job in this exercise is to use the slider's `on_change()` function to update the plot's data from the previous example. NumPy's `sin()` function will be used to update the y-axis data of the plot.\n",
    "\n",
    "Now that you have added a widget callback, notice how as you move the slider of your app, the figure also updates!\n",
    "\n",
    "**Instructions**\n",
    "\n",
    "* Define a callback function `callback` with the parameters `attr`, `old`, `new`.\n",
    "* Read the current value of `slider` as a variable `scale`. You can do this using `slider.value`.\n",
    "* Compute values for the updated y using `np.sin(scale/x)`.\n",
    "* Update `source.data` with the new data dictionary. The value for `'x'` remains the same, but `'y'` should be set to the updated value.\n",
    "* Attach the callback to the `'value'` property of `slider`. This can be done using `on_change()` and passing in `'value'` and `callback`."
   ]
  },
  {
   "cell_type": "code",
   "execution_count": null,
   "metadata": {},
   "outputs": [],
   "source": [
    "%%script false  # doesn't work in Jupyter as configured\n",
    "def callback(attr, old, new):\n",
    "\n",
    "    # Read the current value of the slider: scale\n",
    "    scale = slider.value\n",
    "\n",
    "    # Compute the updated y using np.sin(scale/x): new_y\n",
    "    new_y = np.sin(scale/x)\n",
    "\n",
    "    # Update source with the new data values\n",
    "    source.data = {'x': x, 'y': new_y}\n",
    "\n",
    "# Attach the callback to the 'value' property of slider\n",
    "slider.on_change('value', callback)\n",
    "\n",
    "# Create layout and add to current document\n",
    "layout = column(widgetbox(slider), plot)\n",
    "curdoc().add_root(layout)"
   ]
  },
  {
   "cell_type": "code",
   "execution_count": null,
   "metadata": {},
   "outputs": [],
   "source": [
    "def bkapp(doc):\n",
    "    # Create ColumnDataSource: source\n",
    "    source = ColumnDataSource(data={'x': x, 'y': y})\n",
    "\n",
    "    # create slider\n",
    "    slider = Slider(title='scale', start=1, end=10, step=1, value=1)\n",
    "\n",
    "    # Add a line to the plot\n",
    "    plot = figure(plot_height=400, plot_width=400)\n",
    "    plot.line('x', 'y', source=source)\n",
    "\n",
    "    # Add callback to widgets\n",
    "    def callback(attr, old, new):\n",
    "        # Read the current value of the slider: scale\n",
    "        scale = slider.value\n",
    "\n",
    "        # Compute the updated y using np.sin(scale/x): new_y\n",
    "        new_y = np.sin(scale/x)\n",
    "\n",
    "        # Update source with the new data values\n",
    "        source.data = {'x': x, 'y': new_y}\n",
    "\n",
    "    slider.on_change('value', callback)\n",
    "\n",
    "    doc.add_root(column(slider, plot))\n",
    "\n",
    "    doc.theme = Theme(json=yaml.load(\"\"\"\n",
    "        attrs:\n",
    "            Figure:\n",
    "                background_fill_color: \"#DDDDDD\"\n",
    "                outline_line_color: white\n",
    "                toolbar_location: above\n",
    "                height: 350\n",
    "                width: 350\n",
    "            Grid:\n",
    "                grid_line_dash: [6, 4]\n",
    "                grid_line_color: white\n",
    "    \"\"\", Loader=yaml.FullLoader))"
   ]
  },
  {
   "cell_type": "code",
   "execution_count": null,
   "metadata": {},
   "outputs": [],
   "source": [
    "# this won't disply in the HTML notebook\n",
    "show(bkapp)"
   ]
  },
  {
   "cell_type": "markdown",
   "metadata": {},
   "source": [
    "## Updating plots from dropdowns"
   ]
  },
  {
   "cell_type": "code",
   "execution_count": null,
   "metadata": {},
   "outputs": [],
   "source": [
    "%%script false  # imported at the top, don't run here.\n",
    "\n",
    "from bokeh.io import curdoc\n",
    "from bokeh.layouts import column\n",
    "from bokeh.modles import ColumnDataSource, Select\n",
    "from bokeh.plotting import figure"
   ]
  },
  {
   "cell_type": "code",
   "execution_count": null,
   "metadata": {},
   "outputs": [],
   "source": [
    "%%script false  # doesn't work in Jupyter as configured\n",
    "\n",
    "N = 1000\n",
    "source = ColumnDataSource(data={'x': np.random.random(N), 'y': np.random.random(N)})\n",
    "\n",
    "# Create plots and widgets\n",
    "plot = figure(plot_height=400, plot_width=400)\n",
    "plot.circle(x='x', y='y', source=source)\n",
    "\n",
    "menu = Select(options=['uniform', 'normal', 'lognormal'], value='uniform', title='Distribution')\n",
    "\n",
    "# Add callback to widgets\n",
    "def callback(attr, old, new):\n",
    "    if menu.value == 'uniform':\n",
    "        f=np.random.random\n",
    "    elif menu.value == 'normal':\n",
    "        f=np.random.normal\n",
    "    else:\n",
    "        f=np.random.lognormal\n",
    "    source.data={'x': f(size=N), 'y': f(size=N)}\n",
    "\n",
    "menu.on_change('value', callback)\n",
    "\n",
    "# Arrange plots and widgets in layouts\n",
    "layout = column(menu, plot)\n",
    "\n",
    "curdoc().add_root(layout)"
   ]
  },
  {
   "cell_type": "code",
   "execution_count": null,
   "metadata": {},
   "outputs": [],
   "source": [
    "def bkapp(doc):\n",
    "    \n",
    "    N = 1000\n",
    "    source = ColumnDataSource(data={'x': np.random.random(N), 'y': np.random.random(N)})\n",
    "\n",
    "    # Create plots and widgets\n",
    "    plot = figure(plot_height=400, plot_width=400)\n",
    "    plot.circle(x='x', y='y', source=source)\n",
    "\n",
    "    menu = Select(options=['uniform', 'normal', 'lognormal'], value='uniform', title='Distribution')\n",
    "\n",
    "    # Add callback to widgets\n",
    "    def callback(attr, old, new):\n",
    "        if menu.value == 'uniform':\n",
    "            f=np.random.random\n",
    "        elif menu.value == 'normal':\n",
    "            f=np.random.normal\n",
    "        else:\n",
    "            f=np.random.lognormal\n",
    "        source.data={'x': f(size=N), 'y': f(size=N)}\n",
    "\n",
    "    menu.on_change('value', callback)\n",
    "    \n",
    "    doc.add_root(column(menu, plot))\n",
    "\n",
    "    doc.theme = Theme(json=yaml.load(\"\"\"\n",
    "        attrs:\n",
    "            Figure:\n",
    "                background_fill_color: \"#DDDDDD\"\n",
    "                outline_line_color: white\n",
    "                toolbar_location: above\n",
    "                height: 400\n",
    "                width: 400\n",
    "            Grid:\n",
    "                grid_line_dash: [6, 4]\n",
    "                grid_line_color: white\n",
    "    \"\"\", Loader=yaml.FullLoader))    "
   ]
  },
  {
   "cell_type": "code",
   "execution_count": null,
   "metadata": {},
   "outputs": [],
   "source": [
    "# this won't disply in the HTML notebook\n",
    "show(bkapp)"
   ]
  },
  {
   "cell_type": "markdown",
   "metadata": {},
   "source": [
    "### Updating data sources from dropdown callbacks\n",
    "\n",
    "You'll now learn to update the plot's data using a drop down menu instead of a slider. This would allow users to do things like select between different data sources to view.\n",
    "\n",
    "The ColumnDataSource `source` has been created for you along with the plot. Your job in this exercise is to add a drop down menu to update the plot's data.\n",
    "\n",
    "All necessary modules have been imported for you.\n",
    "\n",
    "**Instructions**\n",
    "\n",
    "* Define a callback function called `update_plot` with the parameters `attr`, `old`, `new`.\n",
    " * If the `new` selection is `'female_literacy'`, update the `'y'` value of the ColumnDataSource to `female_literacy`. Else, `'y'` should be `population`.\n",
    " * `'x'` remains `fertility` in both cases.\n",
    "* Create a dropdown select widget using `Select()`. Specify the parameters `title`, `options`, and `value`. The `options` are `'female_literacy'` and `'population'`, while the `value` is `'female_literacy'`.\n",
    "* Attach the callback to the `'value'` property of `select`. This can be done using `on_change()` and passing in `'value'` and `update_plot`."
   ]
  },
  {
   "cell_type": "code",
   "execution_count": null,
   "metadata": {},
   "outputs": [],
   "source": [
    "%%script false  # imported at the top, don't run here.\n",
    "from bokeh.models import ColumnDataSource, Select"
   ]
  },
  {
   "cell_type": "code",
   "execution_count": null,
   "metadata": {},
   "outputs": [],
   "source": [
    "fertility = lit.fertility\n",
    "female_literacy = lit['female literacy']\n",
    "population = lit.population"
   ]
  },
  {
   "cell_type": "code",
   "execution_count": null,
   "metadata": {},
   "outputs": [],
   "source": [
    "%%script false  # doesn't work in Jupyter as configured\n",
    "\n",
    "# Create ColumnDataSource: source\n",
    "source = ColumnDataSource(data={\n",
    "    'x' : fertility,\n",
    "    'y' : female_literacy\n",
    "})\n",
    "\n",
    "# Create a new plot: plot\n",
    "plot = figure()\n",
    "\n",
    "# Add circles to the plot\n",
    "plot.circle('x', 'y', source=source)\n",
    "\n",
    "# Define a callback function: update_plot\n",
    "def update_plot(attr, old, new):\n",
    "    # If the new Selection is 'female_literacy', update 'y' to female_literacy\n",
    "    if new == 'female_literacy': \n",
    "        source.data = {\n",
    "            'x' : fertility,\n",
    "            'y' : female_literacy\n",
    "        }\n",
    "    # Else, update 'y' to population\n",
    "    else:\n",
    "        source.data = {\n",
    "            'x' : fertility,\n",
    "            'y' : population\n",
    "        }\n",
    "\n",
    "# Create a dropdown Select widget: select    \n",
    "select = Select(title=\"distribution\", options=['female_literacy', 'population'], value='female_literacy')\n",
    "\n",
    "# Attach the update_plot callback to the 'value' property of select\n",
    "select.on_change('value', update_plot)\n",
    "\n",
    "# Create layout and add to current document\n",
    "layout = row(select, plot)\n",
    "curdoc().add_root(layout)\n",
    "show(layout)"
   ]
  },
  {
   "cell_type": "code",
   "execution_count": null,
   "metadata": {},
   "outputs": [],
   "source": [
    "def bkapp(doc):\n",
    "    # Create ColumnDataSource: source\n",
    "    source = ColumnDataSource(data={\n",
    "        'x' : fertility,\n",
    "        'y' : female_literacy\n",
    "    })\n",
    "\n",
    "    # Create a new plot: plot\n",
    "    plot = figure()\n",
    "\n",
    "    # Add circles to the plot\n",
    "    plot.circle('x', 'y', source=source)\n",
    "\n",
    "    # Define a callback function: update_plot\n",
    "    def update_plot(attr, old, new):\n",
    "        # If the new Selection is 'female_literacy', update 'y' to female_literacy\n",
    "        if new == 'female_literacy': \n",
    "            source.data = {\n",
    "                'x' : fertility,\n",
    "                'y' : female_literacy\n",
    "            }\n",
    "        # Else, update 'y' to population\n",
    "        else:\n",
    "            source.data = {\n",
    "                'x' : fertility,\n",
    "                'y' : population\n",
    "            }\n",
    "\n",
    "    # Create a dropdown Select widget: select    \n",
    "    select = Select(title=\"distribution\", options=['female_literacy', 'population'], value='female_literacy')\n",
    "\n",
    "    # Attach the update_plot callback to the 'value' property of select\n",
    "    select.on_change('value', update_plot)\n",
    "    \n",
    "    doc.add_root(row(select, plot))\n",
    "\n",
    "    doc.theme = Theme(json=yaml.load(\"\"\"\n",
    "        attrs:\n",
    "            Figure:\n",
    "                background_fill_color: \"#DDDDDD\"\n",
    "                outline_line_color: white\n",
    "                toolbar_location: above\n",
    "                height: 400\n",
    "                width: 400\n",
    "            Grid:\n",
    "                grid_line_dash: [6, 4]\n",
    "                grid_line_color: white\n",
    "    \"\"\", Loader=yaml.FullLoader))   "
   ]
  },
  {
   "cell_type": "code",
   "execution_count": null,
   "metadata": {},
   "outputs": [],
   "source": [
    "# this won't disply in the HTML notebook\n",
    "show(bkapp)"
   ]
  },
  {
   "cell_type": "markdown",
   "metadata": {},
   "source": [
    "### Synchronize two dropdowns\n",
    "\n",
    "Here, you'll practice using a dropdown callback to update another dropdown's options. This will allow you to customize your applications even further and is a powerful addition to your toolbox.\n",
    "\n",
    "Your job in this exercise is to create two dropdown select widgets and then define a callback such that one dropdown is used to update the other dropdown.\n",
    "\n",
    "All modules necessary have been imported.\n",
    "\n",
    "**Instructions**\n",
    "\n",
    "* Create `select1`, the first dropdown select widget. Specify the parameters `title`, `options`, and `value`.\n",
    "* Create `select2`, the second dropdown select widget. Specify the parameters `title`, `options`, and `value`.\n",
    "* Inside the callback function, if `select1.value` equals `'A'`, update the options of `select2` to `['1', '2', '3']` and set its `.value` to `'1'`.\n",
    "* If `select1.value` does not equal `'A'`, update the options of `select2` to `['100', '200', '300']` and set its value to `'100'`.\n",
    "* Attach the callback to the `'value'` property of `select1`. This can be done using `on_change()` and passing in `'value'` and `callback`."
   ]
  },
  {
   "cell_type": "code",
   "execution_count": null,
   "metadata": {},
   "outputs": [],
   "source": [
    "%%script false  # imported at the top, don't run here.\n",
    "\n",
    "# Create two dropdown Select widgets: select1, select2\n",
    "select1 = Select(title='First', options=['A', 'B'], value='A')\n",
    "select2 = Select(title='Second', options=['1', '2', '3'], value='1')\n",
    "\n",
    "# Define a callback function: callback\n",
    "def callback(attr, old, new):\n",
    "    # If select1 is 'A' \n",
    "    if select1.value == 'A':\n",
    "        # Set select2 options to ['1', '2', '3']\n",
    "        select2.options = ['1', '2', '3']\n",
    "\n",
    "        # Set select2 value to '1'\n",
    "        select2.value = '1'\n",
    "    else:\n",
    "        # Set select2 options to ['100', '200', '300']\n",
    "        select2.options = ['100', '200', '300']\n",
    "\n",
    "        # Set select2 value to '100'\n",
    "        select2.value = '100'\n",
    "\n",
    "# Attach the callback to the 'value' property of select1\n",
    "select1.on_change('value', callback)\n",
    "\n",
    "# Create layout and add to current document\n",
    "layout = widgetbox(select1, select2)\n",
    "curdoc().add_root(layout)\n",
    "show(layout)"
   ]
  },
  {
   "cell_type": "code",
   "execution_count": null,
   "metadata": {},
   "outputs": [],
   "source": [
    "def bkapp(doc):\n",
    "    # Create two dropdown Select widgets: select1, select2\n",
    "    select1 = Select(title='First', options=['A', 'B'], value='A')\n",
    "    select2 = Select(title='Second', options=['1', '2', '3'], value='1')\n",
    "\n",
    "    # Define a callback function: callback\n",
    "    def callback(attr, old, new):\n",
    "        # If select1 is 'A' \n",
    "        if select1.value == 'A':\n",
    "            # Set select2 options to ['1', '2', '3']\n",
    "            select2.options = ['1', '2', '3']\n",
    "\n",
    "            # Set select2 value to '1'\n",
    "            select2.value = '1'\n",
    "        else:\n",
    "            # Set select2 options to ['100', '200', '300']\n",
    "            select2.options = ['100', '200', '300']\n",
    "\n",
    "            # Set select2 value to '100'\n",
    "            select2.value = '100'\n",
    "\n",
    "    # Attach the callback to the 'value' property of select1\n",
    "    select1.on_change('value', callback)\n",
    "    \n",
    "    doc.add_root(Column(select1, select2))\n",
    "\n",
    "    doc.theme = Theme(json=yaml.load(\"\"\"\n",
    "        attrs:\n",
    "            Figure:\n",
    "                background_fill_color: \"#DDDDDD\"\n",
    "                outline_line_color: white\n",
    "                toolbar_location: above\n",
    "                height: 400\n",
    "                width: 400\n",
    "            Grid:\n",
    "                grid_line_dash: [6, 4]\n",
    "                grid_line_color: white\n",
    "    \"\"\", Loader=yaml.FullLoader))   "
   ]
  },
  {
   "cell_type": "code",
   "execution_count": null,
   "metadata": {},
   "outputs": [],
   "source": [
    "# this won't disply in the HTML notebook\n",
    "show(bkapp)"
   ]
  },
  {
   "cell_type": "markdown",
   "metadata": {},
   "source": [
    "## Buttons\n",
    "\n",
    "- Instead of `on_change`, we add the button callback using `button.on_click(update)`\n",
    "\n",
    "```python\n",
    "from bokeh.models import Button\n",
    "button = Button(label='press me')\n",
    "def update():\n",
    "    # Do something interesting\n",
    "button.on_click(update)\n",
    "```\n",
    "**Button Types**\n",
    "- There are a few different button types in addition to plain buttons.\n",
    "\n",
    "```python\n",
    "from bokeh.models import CheckboxGroup, RadioGroup, Toggle\n",
    "toggle = Toggle(label='Some on/off', button_type='success')\n",
    "checkbox = CheckboxGroup(labels=['foo', 'bar', 'baz'])\n",
    "radio = RadioGroup(labels=['2000', '2010', '2020'])\n",
    "def callback(active):\n",
    "    # Active tells which button is active\n",
    "```\n",
    "\n",
    "- The previous sample code creates toggle, checkbox and radiogroup buttons.\n",
    "- These buttons have the notion of an active state: is the button currently on or off, and for checkbox and radiogroups, *which* buttons are on or off?\n",
    "- Bokeh expects callbacks for these types of buttons to take a single parameter, 'active', and when the server executes the callback it will use this parameter to provide information about which buttons are currently active.\n",
    "\n",
    "![button_types][1]\n",
    "\n",
    "  [1]: https://raw.githubusercontent.com/trenton3983/DataCamp/master/Images/2020-03-15_interactive_data_visualization_with_bokeh/button_types.JPG"
   ]
  },
  {
   "cell_type": "markdown",
   "metadata": {},
   "source": [
    "### Button widgets\n",
    "\n",
    "It's time to practice adding buttons to your interactive visualizations. Your job in this exercise is to create a button and use its `on_click()` method to update a plot.\n",
    "\n",
    "All necessary modules have been imported for you. In addition, the ColumnDataSource with data `x` and `y` as well as the figure have been created for you and are available in the workspace as `source` and `plot`.\n",
    "\n",
    "When you're done, be sure to interact with the button you just added to your plot, and notice how it updates the data!\n",
    "\n",
    "**Instructions**\n",
    "\n",
    "* Create a button called `button` using the function `Button()` with the label `'Update Data'`.\n",
    "* Define an update callback `update()` with no arguments.\n",
    "* Compute new y values using the code provided.\n",
    "* Update the ColumnDataSource data dictionary `source.data` with the new `'y'` value.\n",
    "* Add the update callback to the button using `on_click()`."
   ]
  },
  {
   "cell_type": "code",
   "execution_count": null,
   "metadata": {},
   "outputs": [],
   "source": [
    "def bkapp(doc):\n",
    "    # Create ColumnDataSource: source\n",
    "    N = 200\n",
    "    x = list(np.arange(0, 10.01, 0.05025126))\n",
    "    source = ColumnDataSource(data={'x' : x, 'y' : np.sin(x) + np.random.random(N)})\n",
    "\n",
    "    # Create a new plot: plot\n",
    "    plot = figure()\n",
    "\n",
    "    # Add circles to the plot\n",
    "    plot.circle('x', 'y', source=source)\n",
    "\n",
    "\n",
    "    # Create a Button with label 'Update Data'\n",
    "    button = Button(label='Update Data')\n",
    "\n",
    "    # Define an update callback with no arguments: update\n",
    "    def update():\n",
    "\n",
    "        # Compute new y values: y\n",
    "        y = np.sin(x) + np.random.random(N)\n",
    "\n",
    "        # Update the ColumnDataSource data dictionary\n",
    "        source.data = {'x': x, 'y': y}\n",
    "\n",
    "    # Add the update callback to the button\n",
    "    button.on_click(update)\n",
    "\n",
    "#     # Create layout and add to current document\n",
    "#     layout = column(widgetbox(button), plot)\n",
    "#     curdoc().add_root(layout)\n",
    "    \n",
    "    doc.add_root(Column(button, plot))\n",
    "\n",
    "    doc.theme = Theme(json=yaml.load(\"\"\"\n",
    "        attrs:\n",
    "            Figure:\n",
    "                background_fill_color: \"#DDDDDD\"\n",
    "                outline_line_color: white\n",
    "                toolbar_location: above\n",
    "                height: 400\n",
    "                width: 400\n",
    "            Grid:\n",
    "                grid_line_dash: [6, 4]\n",
    "                grid_line_color: white\n",
    "    \"\"\", Loader=yaml.FullLoader))   "
   ]
  },
  {
   "cell_type": "code",
   "execution_count": null,
   "metadata": {},
   "outputs": [],
   "source": [
    "# this won't disply in the HTML notebook\n",
    "show(bkapp)"
   ]
  },
  {
   "cell_type": "markdown",
   "metadata": {},
   "source": [
    "### Button styles\n",
    "\n",
    "You can also get really creative with your `Button` widgets.\n",
    "\n",
    "In this exercise, you'll practice using CheckboxGroup, RadioGroup, and Toggle to add multiple `Button` widgets with different styles.\n",
    "\n",
    "`curdoc` and `widgetbox` have already been imported for you.\n",
    "\n",
    "**Instructions**\n",
    "\n",
    "* Import `CheckboxGroup`, `RadioGroup`, `Toggle` from `bokeh.models`.\n",
    "* Add a Toggle called `toggle` using the `Toggle()` function with `button_type` `'success'` and `label` `'Toggle button'`.\n",
    "* Add a CheckboxGroup called `checkbox` using the `CheckboxGroup()` function with `labels=['Option 1', 'Option 2', 'Option 3']`.\n",
    "* Add a RadioGroup called `radio` using the `RadioGroup()` function with `labels=['Option 1', 'Option 2', 'Option 3']`.\n",
    "* Add a widgetbox containing the Toggle `toggle`, CheckboxGroup `checkbox`, and RadioGroup `radio` to the current document."
   ]
  },
  {
   "cell_type": "code",
   "execution_count": null,
   "metadata": {},
   "outputs": [],
   "source": [
    "%%script false  # imported at the top, don't run here.\n",
    "\n",
    "# Import CheckboxGroup, RadioGroup, Toggle from bokeh.models\n",
    "from bokeh.models import CheckboxGroup, RadioGroup, Toggle"
   ]
  },
  {
   "cell_type": "code",
   "execution_count": null,
   "metadata": {},
   "outputs": [],
   "source": [
    "# Add a Toggle: toggle\n",
    "toggle = Toggle(label='Toggle button', button_type='success')\n",
    "\n",
    "# Add a CheckboxGroup: checkbox\n",
    "checkbox = CheckboxGroup(labels=['Option 1', 'Option 2', 'Option 3'])\n",
    "\n",
    "# Add a RadioGroup: radio\n",
    "radio = RadioGroup(labels=['Option 1', 'Option 2', 'Option 3'])\n",
    "\n",
    "# Add widgetbox(toggle, checkbox, radio) to the current document\n",
    "layout = Column(toggle, checkbox, radio)\n",
    "curdoc().add_root(layout)\n",
    "show(layout)"
   ]
  },
  {
   "cell_type": "markdown",
   "metadata": {},
   "source": [
    "## Hosting applications for wider audiences\n",
    "\n",
    "- [Running a Bokeh Server][1]\n",
    "- Bokeh applications can be published on [Anaconda Cloud][2]\n",
    "\n",
    "  [1]: https://docs.bokeh.org/en/latest/docs/user_guide/server.html\n",
    "  [2]: https://anaconda.org/"
   ]
  },
  {
   "cell_type": "markdown",
   "metadata": {},
   "source": [
    "# Putting It All Together! A Case Study\n",
    "\n",
    "In this final chapter, you'll build a more sophisticated Bokeh data exploration application from the ground up based on the famous Gapminder dataset."
   ]
  },
  {
   "cell_type": "markdown",
   "metadata": {},
   "source": [
    "## Time to put it all together!"
   ]
  },
  {
   "cell_type": "markdown",
   "metadata": {},
   "source": [
    "### Introducing the project dataset\n",
    "\n",
    "For the final chapter, you'll be looking at some of the Gapminder datasets combined into one tidy file called \"gapminder_tidy.csv\". This data set is available as a pandas DataFrame under the variable name data.\n",
    "\n",
    "It is always a good idea to begin with some Exploratory Data Analysis. Pandas has a number of built-in methods that help with this. For example, data.head() displays the first five rows/entries of data, while data.tail() displays the last five rows/entries. data.shape gives you information about how many rows and columns there are in the data set. Another particularly useful method is data.info(), which provides a concise summary of data, including information about the number of entries, columns, data type of each column, and number of non-null entries in each column.\n",
    "\n",
    "Use the IPython Shell and the pandas methods mentioned above to explore this data set. How many entries and columns does this data set have?\n",
    "\n",
    "**Instructions**\n",
    "\n",
    "* ~~7 entries, 10111 columns.~~\n",
    "* **10111 entries, 7 columns.**\n",
    "* ~~9000 entries, 7 columns.~~"
   ]
  },
  {
   "cell_type": "markdown",
   "metadata": {},
   "source": [
    "**There are 10111 entries, or rows, and 7 columns in the data set. Both the `data.info()` and `data.shape` methods provide this information.**"
   ]
  },
  {
   "cell_type": "markdown",
   "metadata": {},
   "source": [
    "### Some exploratory plots of the data\n",
    "\n",
    "Here, you'll continue your Exploratory Data Analysis by making a simple plot of Life Expectancy vs Fertility for the year 1970.\n",
    "\n",
    "Your job is to import the relevant Bokeh modules and then prepare a ColumnDataSource object with the fertility, life and Country columns, where you only select the rows with the index value 1970.\n",
    "\n",
    "Remember, as with the figures you generated in previous chapters, you can interact with your figures here with a variety of tools.\n",
    "\n",
    "**Instructions**\n",
    "\n",
    "* Import output_file and show from bokeh.io, figure from bokeh.plotting, and HoverTool and ColumnDataSource from bokeh.models.\n",
    "* Make a ColumnDataSource called source with:\n",
    " * 'x' set to the fertility column.\n",
    " * 'y' set to the life column.\n",
    " * 'country' set to the Country column.\n",
    "* For all columns, select the rows with index value 1970. This can be done using data.loc[1970].column_name."
   ]
  },
  {
   "cell_type": "code",
   "execution_count": null,
   "metadata": {},
   "outputs": [],
   "source": [
    "%%script false  # imported at the top, don't run here.\n",
    "from bokeh.io import output_file, show\n",
    "from bokeh.plotting import figure\n",
    "from bokeh.models import HoverTool, ColumnDataSource"
   ]
  },
  {
   "cell_type": "code",
   "execution_count": null,
   "metadata": {},
   "outputs": [],
   "source": [
    "gap.set_index('Year', inplace=True)"
   ]
  },
  {
   "cell_type": "code",
   "execution_count": null,
   "metadata": {},
   "outputs": [],
   "source": [
    "# Make the ColumnDataSource: source\n",
    "source = ColumnDataSource(data={\n",
    "    'x'       : gap.loc[1970].fertility,\n",
    "    'y'       : gap.loc[1970].life,\n",
    "    'country' : gap.loc[1970].Country,\n",
    "})\n",
    "\n",
    "# Create the figure: p\n",
    "p = figure(title='1970', x_axis_label='Fertility (children per woman)', y_axis_label='Life Expectancy (years)',\n",
    "           plot_height=400, plot_width=700,\n",
    "           tools=[HoverTool(tooltips='@country')])\n",
    "\n",
    "# Add a circle glyph to the figure p\n",
    "p.circle(x='x', y='y', source=source)\n",
    "\n",
    "# Output the file and show the figure\n",
    "# output_file('gapminder.html')\n",
    "show(p)"
   ]
  },
  {
   "cell_type": "markdown",
   "metadata": {},
   "source": [
    "## Starting the app"
   ]
  },
  {
   "cell_type": "markdown",
   "metadata": {},
   "source": [
    "### Beginning with just a plot\n",
    "\n",
    "Let's get started on the Gapminder app. Your job is to make the `ColumnDataSource` object, prepare the plot, and add circles for Life expectancy vs Fertility. You'll also set x and y ranges for the axes.\n",
    "\n",
    "As in the previous chapter, the DataCamp environment executes the `bokeh serve` command to run the app for you. When you hit 'Submit Answer', you'll see in the IPython Shell that `bokeh serve script.py` gets called to run the app. This is something to keep in mind when you are creating your own interactive visualizations outside of the DataCamp environment.\n",
    "\n",
    "Instructions\n",
    "\n",
    "* Make a `ColumnDataSource` object called `source` with `'x'`, `'y'`, `'country'`, `'pop'` and `'region'` keys. The Pandas selections are provided for you.\n",
    "* Save the minimum and maximum values of the life expectancy column `data.life` as `ymin` and `ymax`. As a guide, you can refer to the way we saved the minimum and maximum values of the fertility column `data.fertility` as `xmin` and `xmax`.\n",
    "* Create a plot called `plot` by specifying the `title`, setting `plot_height` to `400`, `plot_width` to `700`, and adding the `x_range` and `y_range` parameters.\n",
    "* Add circle glyphs to the plot. Specify an `fill_alpha` of `0.8` and `source=source`."
   ]
  },
  {
   "cell_type": "code",
   "execution_count": null,
   "metadata": {},
   "outputs": [],
   "source": [
    "%%script false  # imported at the top, don't run here.\n",
    "\n",
    "from bokeh.io import curdoc\n",
    "from bokeh.models import ColumnDataSource\n",
    "from bokeh.plotting import figure"
   ]
  },
  {
   "cell_type": "code",
   "execution_count": null,
   "metadata": {},
   "outputs": [],
   "source": [
    "# Make the ColumnDataSource: source\n",
    "source = ColumnDataSource(data={\n",
    "    'x'       : gap.loc[1970].fertility,\n",
    "    'y'       : gap.loc[1970].life,\n",
    "    'country' : gap.loc[1970].Country,\n",
    "    'pop'     : (gap.loc[1970].population / 20000000) + 2,\n",
    "    'region'  : gap.loc[1970].region,\n",
    "})"
   ]
  },
  {
   "cell_type": "code",
   "execution_count": null,
   "metadata": {},
   "outputs": [],
   "source": [
    "# Save the minimum and maximum values of the fertility column: xmin, xmax\n",
    "xmin, xmax = min(gap.fertility), max(gap.fertility)\n",
    "\n",
    "# Save the minimum and maximum values of the life expectancy column: ymin, ymax\n",
    "ymin, ymax = min(gap.life), max(gap.life)\n",
    "\n",
    "# Create the figure: plot\n",
    "plot = figure(title='Gapminder Data for 1970', plot_height=400, plot_width=700,\n",
    "              x_range=(xmin, xmax), y_range=(ymin, ymax))\n",
    "\n",
    "# Add circle glyphs to the plot\n",
    "plot.circle(x='x', y='y', fill_alpha=0.8, source=source)\n",
    "\n",
    "# Set the x-axis label\n",
    "plot.xaxis.axis_label ='Fertility (children per woman)'\n",
    "\n",
    "# Set the y-axis label\n",
    "plot.yaxis.axis_label = 'Life Expectancy (years)'\n",
    "\n",
    "# Add the plot to the current document and add a title\n",
    "curdoc().add_root(plot)\n",
    "curdoc().title = 'Gapminder'\n",
    "show(plot)"
   ]
  },
  {
   "cell_type": "markdown",
   "metadata": {},
   "source": [
    "**Notice how life expectancy seems to go down as fertility goes up? It would be interesting to see how this varies by continent. In the next exercise, you'll do this by shading each glyph by its continent.**"
   ]
  },
  {
   "cell_type": "markdown",
   "metadata": {},
   "source": [
    "### Enhancing the plot with some shading\n",
    "\n",
    "Now that you have the base plot ready, you can enhance it by coloring each circle glyph by continent.\n",
    "\n",
    "Your job is to make a list of the unique regions from the data frame, prepare a `ColorMapper`, and add it to the circle glyph.\n",
    "\n",
    "Instructions\n",
    "\n",
    "* Make a list of the unique values from the `region` column. You can use the `unique()` and `tolist()` methods on `data.region` to do this.\n",
    "* Import `CategoricalColorMapper` from `bokeh.models` and the `Spectral6` palette from `bokeh.palettes`.\n",
    "* Use the `CategoricalColorMapper()` function to make a color mapper called `color_mapper` with `factors=regions_list` and `palette=Spectral6` (_spelled with the **letter** l, not the number 16_).\n",
    "* Add the color mapper to the circle glyph as a dictionary with `dict(field='region', transform=color_mapper)` as the argument passed to the `color` parameter of `plot.circle()`. Also set the `legend_label` parameter to be the `'region'`.\n",
    "* Set the `legend.location` attribute of `plot` to `'top_right'` (i.e. `plot.____`)."
   ]
  },
  {
   "cell_type": "code",
   "execution_count": null,
   "metadata": {},
   "outputs": [],
   "source": [
    "%%script false  # imported at the top, don't run here.\n",
    "\n",
    "from bokeh.models import CategoricalColorMapper\n",
    "from bokeh.palettes import Spectral6"
   ]
  },
  {
   "cell_type": "code",
   "execution_count": null,
   "metadata": {},
   "outputs": [],
   "source": [
    "# Make a list of the unique values from the region column: regions_list\n",
    "regions_list = gap.region.unique()\n",
    "\n",
    "# Make a color mapper: color_mapper\n",
    "color_mapper = CategoricalColorMapper(factors=regions_list, palette=Spectral6)\n",
    "\n",
    "# Add the color mapper to the circle glyph\n",
    "plot.circle(x='x', y='y', fill_alpha=0.8, source=source,\n",
    "            color=dict(field='region', transform=color_mapper),\n",
    "            legend_field='region')\n",
    "\n",
    "# Set the legend.location attribute of the plot to 'top_right'\n",
    "plot.legend.location = 'bottom_left'\n",
    "\n",
    "# Add the plot to the current document and add the title\n",
    "curdoc().add_root(plot)\n",
    "curdoc().title = 'Gapminder'\n",
    "show(plot)"
   ]
  },
  {
   "cell_type": "markdown",
   "metadata": {},
   "source": [
    "**The plot provides a lot more information now that you have added the shading. The next step is to add a slider to control the year. This will let you interactively visualize the change over the last few decades.**"
   ]
  },
  {
   "cell_type": "markdown",
   "metadata": {},
   "source": [
    "### Adding a slider to vary the year\n",
    "\n",
    "Until now, we've been plotting data only for 1970. In this exercise, you'll add a slider to your plot to change the year being plotted. To do this, you'll create an `update_plot()` function and associate it with a slider to select values between 1970 and 2010.\n",
    "\n",
    "After you are done, you may have to scroll to the right to view the entire plot. As you play around with the slider, notice that the title of the plot is not updated along with the year. This is something you'll fix in the next exercise!\n",
    "\n",
    "**Instructions**\n",
    "\n",
    "* Import the `widgetbox` and `row` functions from `bokeh.layouts`, and the `Slider` function from `bokeh.models`.\n",
    "* Define the `update_plot` callback function with parameters `attr`, `old` and `new`.\n",
    "* Set the `yr` name to `slider.value` and set `source.data = new_data`.\n",
    "* Make a slider object called `slider` using the `Slider()` function with a `start` year of `1970`, `end` year of `2010`, `step` of `1`, `value` of `1970`, and `title` of `'Year'`.\n",
    "* Attach the callback to the `'value'` property of slider. This can be done using `on_change()` and passing in `'value'` and `update_plot`.\n",
    "* Make a row `layout` of `widgetbox(slider)` and `plot` and add it to the current document."
   ]
  },
  {
   "cell_type": "code",
   "execution_count": null,
   "metadata": {},
   "outputs": [],
   "source": [
    "%%script false  # imported at the top, don't run here.\n",
    "\n",
    "from bokeh.layouts import widgetbox, row\n",
    "from bokeh.models import Slider"
   ]
  },
  {
   "cell_type": "code",
   "execution_count": null,
   "metadata": {},
   "outputs": [],
   "source": [
    "%%script false  # doesn't work in Jupyter as configured\n",
    "\n",
    "# Define the callback function: update_plot\n",
    "def update_plot(attr, old, new):\n",
    "    # Set the yr name to slider.value and new_data to source.data\n",
    "    yr = slider.value\n",
    "    new_data = {'x'       : gap.loc[yr].fertility,\n",
    "                'y'       : gap.loc[yr].life,\n",
    "                'country' : gap.loc[yr].Country,\n",
    "                'pop'     : (gap.loc[yr].population / 20000000) + 2,\n",
    "                'region'  : gap.loc[yr].region}\n",
    "    source.data = new_data\n",
    "\n",
    "\n",
    "# Make a slider object: slider\n",
    "slider = Slider(start=1970, end=2010, step=1, value=1970, title='Year')\n",
    "\n",
    "# Attach the callback to the 'value' property of slider\n",
    "slider.on_change('value', update_plot)\n",
    "\n",
    "# Make a row layout of widgetbox(slider) and plot and add it to the current document\n",
    "layout = row(Column(slider), plot)\n",
    "curdoc().add_root(layout)\n",
    "show(layout)"
   ]
  },
  {
   "cell_type": "code",
   "execution_count": null,
   "metadata": {},
   "outputs": [],
   "source": [
    "def bkapp(doc):\n",
    "    \n",
    "    source = ColumnDataSource(data={'x'       : gap.loc[1970].fertility,\n",
    "                                    'y'       : gap.loc[1970].life,\n",
    "                                    'country' : gap.loc[1970].Country,\n",
    "                                    'pop'     : (gap.loc[1970].population / 20000000) + 2,\n",
    "                                    'region'  : gap.loc[1970].region})\n",
    "    \n",
    "    # Make a list of the unique values from the region column: regions_list\n",
    "    regions_list = gap.region.unique()\n",
    "\n",
    "    # Make a color mapper: color_mapper\n",
    "    color_mapper = CategoricalColorMapper(factors=regions_list, palette=Spectral6)\n",
    "    \n",
    "    # Save the minimum and maximum values of the fertility column: xmin, xmax\n",
    "    xmin, xmax = min(gap.fertility), max(gap.fertility)\n",
    "\n",
    "    # Save the minimum and maximum values of the life expectancy column: ymin, ymax\n",
    "    ymin, ymax = min(gap.life), max(gap.life)\n",
    "\n",
    "    # Add the color mapper to the circle glyph\n",
    "    plot = figure(title='Gapminder Data for 1970', plot_height=400, plot_width=700,\n",
    "                  x_range=(xmin, xmax), y_range=(ymin, ymax))\n",
    "    plot.circle(x='x', y='y', fill_alpha=0.8, source=source,\n",
    "                color=dict(field='region', transform=color_mapper),\n",
    "                legend_field='region')\n",
    "\n",
    "    # Set the legend.location attribute of the plot to 'top_right'\n",
    "    plot.legend.location = 'bottom_left'\n",
    "\n",
    "    # Define the callback function: update_plot\n",
    "    def update_plot(attr, old, new):\n",
    "        # Set the yr name to slider.value and new_data to source.data\n",
    "        yr = slider.value\n",
    "        new_data = {'x'       : gap.loc[yr].fertility,\n",
    "                    'y'       : gap.loc[yr].life,\n",
    "                    'country' : gap.loc[yr].Country,\n",
    "                    'pop'     : (gap.loc[yr].population / 20000000) + 2,\n",
    "                    'region'  : gap.loc[yr].region}\n",
    "        source.data = new_data\n",
    "\n",
    "\n",
    "    # Make a slider object: slider\n",
    "    slider = Slider(start=1970, end=2010, step=1, value=1970, title='Year')\n",
    "\n",
    "    # Attach the callback to the 'value' property of slider\n",
    "    slider.on_change('value', update_plot)\n",
    "\n",
    "    # Make a row layout of widgetbox(slider) and plot and add it to the current document\n",
    "    layout = row(Column(slider), plot)\n",
    "\n",
    "    doc.add_root(layout)\n",
    "\n",
    "    doc.theme = Theme(json=yaml.load(\"\"\"\n",
    "        attrs:\n",
    "            Figure:\n",
    "                background_fill_color: \"#DDDDDD\"\n",
    "                outline_line_color: white\n",
    "                toolbar_location: above\n",
    "                height: 400\n",
    "                width: 700\n",
    "            Grid:\n",
    "                grid_line_dash: [6, 4]\n",
    "                grid_line_color: white\n",
    "    \"\"\", Loader=yaml.FullLoader))   "
   ]
  },
  {
   "cell_type": "code",
   "execution_count": null,
   "metadata": {},
   "outputs": [],
   "source": [
    "# this won't disply in the HTML notebook\n",
    "show(bkapp)"
   ]
  },
  {
   "cell_type": "markdown",
   "metadata": {},
   "source": [
    "### Customizing based on user input\n",
    "\n",
    "Remember how in the plot from the previous exercise, the title did not update along with the slider? In this exercise, you'll fix this.\n",
    "\n",
    "In Python, you can format strings by specifying placeholders with the `%` keyword. For example, if you have a string `company = 'DataCamp'`, you can use `print('%s' % company)` to print DataCamp. Placeholders are useful when you are printing values that are not static, such as the value of the year slider. You can specify a placeholder for a number with `%d`. Here, when you're updating the plot title inside your callback function, you should make use of a placeholder so that the year displayed is in accordance with the value of the year slider.\n",
    "\n",
    "In addition to updating the plot title, you'll also create the callback function and slider as you did in the previous exercise, so you get a chance to practice these concepts further.\n",
    "\n",
    "All necessary modules have been imported for you, and as in the previous exercise, you may have to scroll to the right to view the entire figure.\n",
    "\n",
    "**Instructions**\n",
    "\n",
    "* Define the `update_plot` callback function with parameters `attr`, `old` and `new`.\n",
    "* Inside `update_plot()`, assign the value of the slider, `slider.value`, to `yr` and set `source.data = new_data`.\n",
    "* Inside `update_plot()`, specify `plot.title.text` to update the plot title and add it to the figure. You want the plot to update based on the value of the slider, which you have assigned above to `yr`. Make use of the placeholder syntax provided for you.\n",
    "* Make a slider object called `slider` using the `Slider()` function with a `start` year of `1970`, `end` year of `2010`, `step` of `1`, `value` of `1970`, and title of `'Year'`.\n",
    "* Attach the callback to the `'value'` property of slider. This can be done using `on_change()` and passing in `'value'` and `update_plot`."
   ]
  },
  {
   "cell_type": "code",
   "execution_count": null,
   "metadata": {},
   "outputs": [],
   "source": [
    "def bkapp(doc):\n",
    "    \n",
    "    source = ColumnDataSource(data={'x'       : gap.loc[1970].fertility,\n",
    "                                    'y'       : gap.loc[1970].life,\n",
    "                                    'country' : gap.loc[1970].Country,\n",
    "                                    'pop'     : (gap.loc[1970].population / 20000000) + 2,\n",
    "                                    'region'  : gap.loc[1970].region})\n",
    "    \n",
    "    # Make a list of the unique values from the region column: regions_list\n",
    "    regions_list = gap.region.unique()\n",
    "\n",
    "    # Make a color mapper: color_mapper\n",
    "    color_mapper = CategoricalColorMapper(factors=regions_list, palette=Spectral6)\n",
    "    \n",
    "    # Save the minimum and maximum values of the fertility column: xmin, xmax\n",
    "    xmin, xmax = min(gap.fertility), max(gap.fertility)\n",
    "\n",
    "    # Save the minimum and maximum values of the life expectancy column: ymin, ymax\n",
    "    ymin, ymax = min(gap.life), max(gap.life)\n",
    "\n",
    "    # Add the color mapper to the circle glyph\n",
    "    plot = figure(title='Gapminder Data for 1970', plot_height=400, plot_width=700,\n",
    "                  x_range=(xmin, xmax), y_range=(ymin, ymax),\n",
    "                  x_axis_label='Fertility (children per woman)', y_axis_label='Life Expectancy')\n",
    "    plot.circle(x='x', y='y', fill_alpha=0.8, source=source,\n",
    "                color=dict(field='region', transform=color_mapper),\n",
    "                legend_field='region')\n",
    "\n",
    "    # Set the legend.location attribute of the plot to 'top_right'\n",
    "    plot.legend.location = 'bottom_left'\n",
    "\n",
    "    # Define the callback function: update_plot\n",
    "    def update_plot(attr, old, new):\n",
    "        # Assign the value of the slider: yr\n",
    "        yr = slider.value\n",
    "        # Set new_data\n",
    "        new_data = {\n",
    "            'x'       : gap.loc[yr].fertility,\n",
    "            'y'       : gap.loc[yr].life,\n",
    "            'country' : gap.loc[yr].Country,\n",
    "            'pop'     : (gap.loc[yr].population / 20000000) + 2,\n",
    "            'region'  : gap.loc[yr].region,\n",
    "        }\n",
    "        # Assign new_data to: source.data\n",
    "        source.data = new_data\n",
    "\n",
    "        # Add title to figure: plot.title.text\n",
    "        plot.title.text = f'Gapminder data for {yr}'\n",
    "\n",
    "    # Make a slider object: slider\n",
    "    slider = Slider(start=1970, end=2010, step=1, value=1970, title='Year')\n",
    "\n",
    "    # Attach the callback to the 'value' property of slider\n",
    "    slider.on_change('value', update_plot)\n",
    "\n",
    "    # Make a row layout of widgetbox(slider) and plot and add it to the current document\n",
    "    layout = row(Column(slider), plot)\n",
    "\n",
    "    doc.add_root(layout)\n",
    "\n",
    "    doc.theme = Theme(json=yaml.load(\"\"\"\n",
    "        attrs:\n",
    "            Figure:\n",
    "                background_fill_color: \"#DDDDDD\"\n",
    "                outline_line_color: white\n",
    "                toolbar_location: above\n",
    "                height: 400\n",
    "                width: 700\n",
    "            Grid:\n",
    "                grid_line_dash: [6, 4]\n",
    "                grid_line_color: white\n",
    "    \"\"\", Loader=yaml.FullLoader)) "
   ]
  },
  {
   "cell_type": "code",
   "execution_count": null,
   "metadata": {},
   "outputs": [],
   "source": [
    "# this won't disply in the HTML notebook\n",
    "show(bkapp)"
   ]
  },
  {
   "cell_type": "markdown",
   "metadata": {},
   "source": [
    "## Adding more interactivity to the app"
   ]
  },
  {
   "cell_type": "markdown",
   "metadata": {},
   "source": [
    "### Adding a hover tool\n",
    "\n",
    "In this exercise, you'll practice adding a hover tool to drill down into data column values and display more detailed information about each scatter point.\n",
    "\n",
    "After you're done, experiment with the hover tool and see how it displays the name of the country when your mouse hovers over a point!\n",
    "\n",
    "The figure and slider have been created for you and are available in the workspace as `plot` and `slider`.\n",
    "\n",
    "**Instructions**\n",
    "\n",
    "* Import `HoverTool` from `bokeh.models`.\n",
    "* Create a HoverTool object called `hover` with `tooltips=[('Country', '@country')]`.\n",
    "* Add the HoverTool object you created to the `plot` using `add_tools()`.\n",
    "* Create a row `layout` using `widgetbox(slider)` and `plot`.\n",
    "* Add the layout to the current document. This has already been done for you."
   ]
  },
  {
   "cell_type": "code",
   "execution_count": null,
   "metadata": {},
   "outputs": [],
   "source": [
    "%%script false  # imported at the top, don't run here.\n",
    "\n",
    "from bokeh.models import HoverTool"
   ]
  },
  {
   "cell_type": "code",
   "execution_count": null,
   "metadata": {},
   "outputs": [],
   "source": [
    "%%script false  # place inside the function in the next cell\n",
    "\n",
    "# Create a HoverTool: hover\n",
    "hover = HoverTool(tooltips=[('Country', '@country')])\n",
    "\n",
    "# Add the HoverTool to the plot\n",
    "plot.add_tools(hover)\n",
    "\n",
    "# Create layout: layout\n",
    "layout = row(widgetbox(slider), plot)\n",
    "\n",
    "# Add layout to current document\n",
    "curdoc().add_root(layout)"
   ]
  },
  {
   "cell_type": "code",
   "execution_count": null,
   "metadata": {},
   "outputs": [],
   "source": [
    "def bkapp(doc):\n",
    "    \n",
    "    source = ColumnDataSource(data={'x'       : gap.loc[1970].fertility,\n",
    "                                    'y'       : gap.loc[1970].life,\n",
    "                                    'country' : gap.loc[1970].Country,\n",
    "                                    'pop'     : (gap.loc[1970].population / 20000000) + 2,\n",
    "                                    'region'  : gap.loc[1970].region})\n",
    "    \n",
    "    # Make a list of the unique values from the region column: regions_list\n",
    "    regions_list = gap.region.unique()\n",
    "\n",
    "    # Make a color mapper: color_mapper\n",
    "    color_mapper = CategoricalColorMapper(factors=regions_list, palette=Spectral6)\n",
    "    \n",
    "    # Save the minimum and maximum values of the fertility column: xmin, xmax\n",
    "    xmin, xmax = min(gap.fertility), max(gap.fertility)\n",
    "\n",
    "    # Save the minimum and maximum values of the life expectancy column: ymin, ymax\n",
    "    ymin, ymax = min(gap.life), max(gap.life)\n",
    "\n",
    "    # Add the color mapper to the circle glyph\n",
    "    plot = figure(title='Gapminder Data for 1970', plot_height=400, plot_width=700,\n",
    "                  x_range=(xmin, xmax), y_range=(ymin, ymax),\n",
    "                  x_axis_label='Fertility (children per woman)', y_axis_label='Life Expectancy')\n",
    "    plot.circle(x='x', y='y', fill_alpha=0.8, source=source,\n",
    "                color=dict(field='region', transform=color_mapper),\n",
    "                legend_field='region')\n",
    "\n",
    "    # Set the legend.location attribute of the plot to 'top_right'\n",
    "    plot.legend.location = 'bottom_left'\n",
    "\n",
    "    # Define the callback function: update_plot\n",
    "    def update_plot(attr, old, new):\n",
    "        # Assign the value of the slider: yr\n",
    "        yr = slider.value\n",
    "        # Set new_data\n",
    "        new_data = {\n",
    "            'x'       : gap.loc[yr].fertility,\n",
    "            'y'       : gap.loc[yr].life,\n",
    "            'country' : gap.loc[yr].Country,\n",
    "            'pop'     : (gap.loc[yr].population / 20000000) + 2,\n",
    "            'region'  : gap.loc[yr].region,\n",
    "        }\n",
    "        # Assign new_data to: source.data\n",
    "        source.data = new_data\n",
    "\n",
    "        # Add title to figure: plot.title.text\n",
    "        plot.title.text = f'Gapminder data for {yr}'\n",
    "        \n",
    "    # Create a HoverTool: hover\n",
    "    hover = HoverTool(tooltips=[('Country', '@country')])\n",
    "\n",
    "    # Add the HoverTool to the plot\n",
    "    plot.add_tools(hover)\n",
    "\n",
    "    # Make a slider object: slider\n",
    "    slider = Slider(start=1970, end=2010, step=1, value=1970, title='Year')\n",
    "\n",
    "    # Attach the callback to the 'value' property of slider\n",
    "    slider.on_change('value', update_plot)\n",
    "\n",
    "    # Make a row layout of widgetbox(slider) and plot and add it to the current document\n",
    "    layout = row(Column(slider), plot)\n",
    "\n",
    "    doc.add_root(layout)\n",
    "\n",
    "    doc.theme = Theme(json=yaml.load(\"\"\"\n",
    "        attrs:\n",
    "            Figure:\n",
    "                background_fill_color: \"#DDDDDD\"\n",
    "                outline_line_color: white\n",
    "                toolbar_location: above\n",
    "                height: 400\n",
    "                width: 700\n",
    "            Grid:\n",
    "                grid_line_dash: [6, 4]\n",
    "                grid_line_color: white\n",
    "    \"\"\", Loader=yaml.FullLoader)) "
   ]
  },
  {
   "cell_type": "code",
   "execution_count": null,
   "metadata": {},
   "outputs": [],
   "source": [
    "# this won't disply in the HTML notebook\n",
    "show(bkapp)"
   ]
  },
  {
   "cell_type": "markdown",
   "metadata": {},
   "source": [
    "### Adding dropdowns to the app\n",
    "\n",
    "As a final step in enhancing your application, in this exercise you'll add dropdowns for interactively selecting different data features. In combination with the hover tool you added in the previous exercise, as well as the slider to change the year, you'll have a powerful app that allows you to interactively and quickly extract some great insights from the dataset!\n",
    "\n",
    "All necessary modules have been imported, and the previous code you wrote is taken care of. In the provided sample code, the dropdown for selecting features on the x-axis has been added for you. Using this as a reference, your job in this final exercise is to add a dropdown menu for selecting features on the y-axis.\n",
    "\n",
    "Take a moment, after you are done, to enjoy exploring the visualization by experimenting with the hover tools, sliders, and dropdown menus that you have learned how to implement in this course.\n",
    "\n",
    "**Instructions**\n",
    "\n",
    "* Inside the update_plot() callback function, read in the current value of the y dropdown, y_select.\n",
    "* Use plot.yaxis.axis_label to label the y-axis as y.\n",
    "* Set the start and end range of the y-axis of plot.\n",
    "* Specify the parameters of the y_select dropdown widget: options, value, and title. The default value should be 'life'.\n",
    "* Attach the callback to the 'value' property of y_select. This can be done using on_change() and passing in 'value' and update_plot."
   ]
  },
  {
   "cell_type": "code",
   "execution_count": null,
   "metadata": {},
   "outputs": [],
   "source": [
    "gap.head()"
   ]
  },
  {
   "cell_type": "code",
   "execution_count": null,
   "metadata": {},
   "outputs": [],
   "source": [
    "def bkapp(doc):\n",
    "    \n",
    "    source = ColumnDataSource(data={'x'       : gap.loc[1970].fertility,\n",
    "                                    'y'       : gap.loc[1970].life,\n",
    "                                    'country' : gap.loc[1970].Country,\n",
    "                                    'pop'     : (gap.loc[1970].population / 20000000) + 2,\n",
    "                                    'region'  : gap.loc[1970].region})\n",
    "\n",
    "    # Make a list of the unique values from the region column: regions_list\n",
    "    regions_list = gap.region.unique()\n",
    "\n",
    "    # Make a color mapper: color_mapper\n",
    "    color_mapper = CategoricalColorMapper(factors=regions_list, palette=Spectral6)\n",
    "\n",
    "    # Save the minimum and maximum values of the fertility column: xmin, xmax\n",
    "    xmin, xmax = min(gap.fertility), max(gap.fertility)\n",
    "\n",
    "    # Save the minimum and maximum values of the life expectancy column: ymin, ymax\n",
    "    ymin, ymax = min(gap.life), max(gap.life)\n",
    "\n",
    "    # Add the color mapper to the circle glyph\n",
    "    plot = figure(title='Gapminder Data for 1970', plot_height=400, plot_width=700,\n",
    "                  x_range=(xmin, xmax), y_range=(ymin, ymax),\n",
    "                  x_axis_label='Fertility (children per woman)', y_axis_label='Life Expectancy')\n",
    "\n",
    "    plot.circle(x='x', y='y', fill_alpha=0.8, source=source,\n",
    "                color=dict(field='region', transform=color_mapper),\n",
    "                legend_field='region')\n",
    "\n",
    "    # Set the legend.location attribute of the plot to 'top_right'\n",
    "#     plot.legend.location = (457, -10)\n",
    "    plot.legend.location = 'top_right'\n",
    "    plot.legend.background_fill_color = None\n",
    "    plot.legend.background_fill_alpha = 0.5\n",
    "    \n",
    "    # Define the callback: update_plot\n",
    "    def update_plot(attr, old, new):\n",
    "        # Read the current value off the slider and 2 dropdowns: yr, x, y\n",
    "        yr = slider.value\n",
    "        x = x_select.value\n",
    "        y = y_select.value\n",
    "        # Label axes of plot\n",
    "        plot.xaxis.axis_label = x\n",
    "        plot.yaxis.axis_label = y\n",
    "        # Set new_data\n",
    "        new_data = {\n",
    "            'x'       : gap.loc[yr][x],\n",
    "            'y'       : gap.loc[yr][y],\n",
    "            'country' : gap.loc[yr].Country,\n",
    "            'pop'     : (gap.loc[yr].population / 20000000) + 2,\n",
    "            'region'  : gap.loc[yr].region,\n",
    "        }\n",
    "        # Assign new_data to source.data\n",
    "        source.data = new_data\n",
    "\n",
    "        # Set the range of all axes\n",
    "        plot.x_range.start = min(gap[x])\n",
    "        plot.x_range.end = max(gap[x])\n",
    "        plot.y_range.start = min(gap[y])\n",
    "        plot.y_range.end = max(gap[y])\n",
    "\n",
    "        # Add title to plot\n",
    "        plot.title.text = f'Gapminder data for {yr}'\n",
    "\n",
    "    # Create a HoverTool: hover\n",
    "    hover = HoverTool(tooltips=[('Country', '@country')])\n",
    "\n",
    "    # Add the HoverTool to the plot\n",
    "    plot.add_tools(hover)\n",
    "\n",
    "    # Make a slider object: slider\n",
    "    slider = Slider(start=1970, end=2010, step=1, value=1970, title='Year')\n",
    "\n",
    "    # Attach the callback to the 'value' property of slider\n",
    "    slider.on_change('value', update_plot)\n",
    "\n",
    "    # Create a dropdown Select widget for the x data: x_select\n",
    "    x_select = Select(\n",
    "        options=['fertility', 'life', 'child_mortality', 'gdp'],\n",
    "        value='fertility',\n",
    "        title='x-axis data'\n",
    "    )\n",
    "\n",
    "    # Attach the update_plot callback to the 'value' property of x_select\n",
    "    x_select.on_change('value', update_plot)\n",
    "\n",
    "    # Create a dropdown Select widget for the y data: y_select\n",
    "    y_select = Select(\n",
    "        options=['fertility', 'life', 'child_mortality', 'gdp'],\n",
    "        value='life',\n",
    "        title='y-axis data'\n",
    "    )\n",
    "\n",
    "    # Attach the update_plot callback to the 'value' property of y_select\n",
    "    y_select.on_change('value', update_plot)\n",
    "\n",
    "    # Create layout and add to current document\n",
    "    layout = row(Column(slider, x_select, y_select), plot)\n",
    "    \n",
    "    doc.add_root(layout)\n",
    "\n",
    "    doc.theme = Theme(json=yaml.load(\"\"\"\n",
    "        attrs:\n",
    "            Figure:\n",
    "                background_fill_color: \"#DDDDDD\"\n",
    "                outline_line_color: white\n",
    "                toolbar_location: above\n",
    "                height: 400\n",
    "                width: 700\n",
    "            Grid:\n",
    "                grid_line_dash: [6, 4]\n",
    "                grid_line_color: white\n",
    "    \"\"\", Loader=yaml.FullLoader)) "
   ]
  },
  {
   "cell_type": "code",
   "execution_count": null,
   "metadata": {},
   "outputs": [],
   "source": [
    "# this won't disply in the HTML notebook\n",
    "show(bkapp)"
   ]
  },
  {
   "cell_type": "markdown",
   "metadata": {},
   "source": [
    "# Certificate\n",
    "\n",
    "![](https://raw.githubusercontent.com/trenton3983/DataCamp/master/Images/2020-03-15_interactive_data_visualization_with_bokeh/2020-05-21_certificate.jpg)"
   ]
  },
  {
   "cell_type": "code",
   "execution_count": null,
   "metadata": {},
   "outputs": [],
   "source": []
  }
 ],
 "metadata": {
  "kernelspec": {
   "display_name": "Python 3",
   "language": "python",
   "name": "python3"
  },
  "language_info": {
   "codemirror_mode": {
    "name": "ipython",
    "version": 3
   },
   "file_extension": ".py",
   "mimetype": "text/x-python",
   "name": "python",
   "nbconvert_exporter": "python",
   "pygments_lexer": "ipython3",
   "version": "3.9.2"
  },
  "toc-autonumbering": true
 },
 "nbformat": 4,
 "nbformat_minor": 4
}
