{
 "cells": [
  {
   "cell_type": "code",
   "execution_count": 1,
   "id": "central-madonna",
   "metadata": {},
   "outputs": [],
   "source": [
    "# conda: pyroms"
   ]
  },
  {
   "cell_type": "code",
   "execution_count": 2,
   "id": "abroad-mediterranean",
   "metadata": {},
   "outputs": [],
   "source": [
    "%matplotlib inline\n",
    "import numpy as np\n",
    "import matplotlib.pyplot as plt\n",
    "from mpl_toolkits.basemap import Basemap"
   ]
  },
  {
   "cell_type": "code",
   "execution_count": 3,
   "id": "laughing-wright",
   "metadata": {},
   "outputs": [],
   "source": [
    "import mpl_toolkits.basemap"
   ]
  },
  {
   "cell_type": "code",
   "execution_count": null,
   "id": "weekly-jumping",
   "metadata": {},
   "outputs": [],
   "source": []
  }
 ],
 "metadata": {
  "kernelspec": {
   "display_name": "Python 3",
   "language": "python",
   "name": "python3"
  },
  "language_info": {
   "codemirror_mode": {
    "name": "ipython",
    "version": 3
   },
   "file_extension": ".py",
   "mimetype": "text/x-python",
   "name": "python",
   "nbconvert_exporter": "python",
   "pygments_lexer": "ipython3",
   "version": "3.8.8"
  }
 },
 "nbformat": 4,
 "nbformat_minor": 5
}
